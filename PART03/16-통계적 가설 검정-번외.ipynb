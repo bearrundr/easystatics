{
 "cells": [
  {
   "cell_type": "markdown",
   "metadata": {},
   "source": [
    "# <span style=\"color:blue\"> 이토록 쉬운 통계 & R </span>"
   ]
  },
  {
   "cell_type": "markdown",
   "metadata": {},
   "source": [
    "<img src=\"../image/cover.png\" width=\"200\" height=\"400\" align=\"left\">  임경덕 지음"
   ]
  },
  {
   "cell_type": "markdown",
   "metadata": {},
   "source": [
    "## PART 3 차이를 예측하는 통계 모형"
   ]
  },
  {
   "cell_type": "markdown",
   "metadata": {},
   "source": [
    "## 16 통계적 가설 검정 [번외] - (20일차) "
   ]
  },
  {
   "cell_type": "markdown",
   "metadata": {},
   "source": [
    "   * [나부랭이의 수학블로그 참조 정리한 내용입니다.](http://math7.tistory.com/81?category=471451)\n",
    "   * 위키 내용도 같이 정리 했습니다."
   ]
  },
  {
   "cell_type": "markdown",
   "metadata": {},
   "source": [
    "   * 가설검정 (hypothesis testing) 또는 통계적 가설 검정 (statistical hypothesis testing, 간단하게 가설검정) 은 모집단 분포의 모수에 대한 가설을 표본에서 검증하는 통계 학적 방법의 하나. \n",
    "   * 모수 또는 확률 분포에 대한 선언 또는  귀무가설과 대립가설로 한다. \n",
    "   * 검정 (statistical test)이란  귀무가설를 기각 하고 대립가설을 지지 하거나 또는 귀무가설의 기각 여부를 관측 값에 따라 결정하는 통계적 절차 이다.\n",
    "   * 통계적 절차에는 귀무가설이 성립 하고 있음에도 불구하고 기각 할 확률이 $\\alpha$ 이하가되도록 결정된다.이 $\\alpha$ 를 유의 수준이라 한다."
   ]
  },
  {
   "cell_type": "markdown",
   "metadata": {},
   "source": [
    "  * 통계적 가설 검정의 방법론은 네이만(Neyman) 과 피어슨(Person: 상관계수의 그 피어슨 상관계수) 류의 빈도주의 통계학적인 추론 과 베이지안의 통계학적인 추론, 두 가지로 크게 나눌 수있다.\n",
    "  * 그러나 가설검정(hypeothesis testing) 경우 전자만을 가리킬 수있다."
   ]
  },
  {
   "cell_type": "markdown",
   "metadata": {},
   "source": [
    "## 통계적 가설 검정 절차 (Testing Process)\n",
    "\n",
    "   * 통계적 가설검정에서 가설이 옳다고 가정 한 후 그에 따르는 모집단에서 실제로 관찰 된 표본이 추출 될 확률을 구하고 그 값에 의해서 판단합니다.\n",
    "   * 그 값이 충분히 유의수준 보다 작으면 그 가설을 기각한다.(가설 성립은 희박한 것으로 판단한다).\n",
    "   \n",
    "   \n",
    "   * 통계적 가설 검정은 다음과 같은 순서로 진행합니다."
   ]
  },
  {
   "cell_type": "markdown",
   "metadata": {},
   "source": [
    "### 가설 설정"
   ]
  },
  {
   "cell_type": "markdown",
   "metadata": {},
   "source": [
    "   * 가설이 옳다고 가정 한 경우에 그 표본이 관찰되는 확률을 산출 할 수 있도록 가설을 통계적으로 표현합니다.\n",
    "   * 통계적 표현이란 ($\\sigma^2$, $\\mu$, P-value) 등을 말합니다.\n",
    "   * 검정(testing) 은 가설의 양자택일을 할 수 있도록 한다."
   ]
  },
  {
   "cell_type": "markdown",
   "metadata": {},
   "source": [
    "##### 귀무가설(Null Hypothesis)"
   ]
  },
  {
   "cell_type": "markdown",
   "metadata": {},
   "source": [
    "   * 아무 관계 없는 차이가 보이지 않는 가설로 \"원래 없었다\" 를 의미합니다. \n",
    "   * 일본식 용어 인것 같습니다.\n",
    "   * 보통 $H_0$ 로 표현 합니다."
   ]
  },
  {
   "cell_type": "markdown",
   "metadata": {},
   "source": [
    "##### 대립가설 (Alternative Hypothesis)"
   ]
  },
  {
   "cell_type": "markdown",
   "metadata": {},
   "source": [
    "   * 귀무가설과 대립하기 때문에 대립가설이라고 명칭합니다.\n",
    "   * 귀무가설이 기각 될때 채택을 합니다.\n",
    "   * 보통 $H_1$ 으로 표시합니다."
   ]
  },
  {
   "cell_type": "markdown",
   "metadata": {},
   "source": [
    "##### 가설 검정의 예"
   ]
  },
  {
   "cell_type": "markdown",
   "metadata": {},
   "source": [
    "   * 약물검정(효과를 주장 할 수 있는지 확인) 을 예로 든다면, 귀무가설은 \"효과를 주장 할 수 있다\" 이고 다음과 같은 가설을 만듭니다.\n",
    "       * \"약물에 대한 반응이 위약(플라시보 효과)에 대한 반응에 대한 평균적인 반응과 같다\"\n",
    "       * 정규분포를 따르지만 그 표준편차는 약물과 위약 에서 동일하고, 평균에서도 별다른 차이가 없다\"\n",
    "       \n",
    "       \n",
    "   * 이에 대한 대립가설은 \"약물에 대한 효과를 주장 할 수 있다\" 이다.\n",
    "       * 약물에 대한 반응이 위약(플라시보)의 평균반응 보다 높다\""
   ]
  },
  {
   "cell_type": "markdown",
   "metadata": {},
   "source": [
    "### 통계량 산출"
   ]
  },
  {
   "cell_type": "markdown",
   "metadata": {},
   "source": [
    "   * 표본 데이터에서 가설에 관련된 정보를 요약하는 검정 통계량을 계산합니다.\n",
    "   * 다음과 같은 충분통계량(Sufficient Statistic) 을 갖는다면 그것으로 부터 계산을 하고, 단순히 두 가설(귀무가설, 대립가설)을 비교 하는 것이라면 통계분포로 부터 비를 구하여 충분통계량을 추출합니다.\n",
    "       * 모수에 대응하는 충분통계량은 모수 집단의 확률분포가 지수형분포족(예를 들면 정규분포, t-분포, beta-분포 등등)에서만 있게된다. 따라서 두 표본의 평균 차이 $\\mu_1 - \\mu_2$ 가 충분통계량이 된다."
   ]
  },
  {
   "cell_type": "markdown",
   "metadata": {},
   "source": [
    "##### 충분통계량\n",
    "\n",
    "   * 구한 통계량이 모집단의 확률분포에 독립적일때 이것을 충분통계량(Sufficient Statistic S.S) 라고 합니다.\n",
    "   * 예를 들면 책에서 p-값을 계산 할때 임의 표본추출한 분포를 만들고 거기서 실제 데이터의 값을 분포에서 구하는 것으로 하였습니다.\n",
    "   * 이런 우리가 구한 통계량을 분포와 관계없기(독립적이기) 때문에 충분통계량이라고 합니다.\n",
    "   \n",
    "   \n",
    "   * 약간 수학적으로 정의하면 (무시해도 됨)\n",
    "   * $X_1, X2, \\cdots, X_n$ 을 모집단 $f(x; \\theta)$ 로 부터 확률표본이라고 하자(여기서 $\\theta$ 는 모수입니다). 어떤 통계량 $Y=u(X_1,X_2,\\cdots,X_n)$ 에 대하여 $Y=y$ 일때 $X=(X_1,X_2,\\cdots, X_n)$ 의 조건부 분포 가 $\\theta$ 에 의존하지 않을때 $Y$ 를 모수 $\\theta$ 에 대해서 충분통계량 이라고 합니다."
   ]
  },
  {
   "cell_type": "markdown",
   "metadata": {},
   "source": [
    "### 통계량의 확률분포"
   ]
  },
  {
   "cell_type": "markdown",
   "metadata": {},
   "source": [
    "   * 귀무가설에 따라 검정 통계량의 확률분포를 구한다.\n",
    "   * 예를 들어 표본평균의 정규분포에 따르고, 표준편차는 모집단 표준편차에 $\\sqrt{\\dfrac{1}{n_1} + \\dfrac{1}{n_2} }$ 를 곱한것이다.\n",
    "       * 여기서 $n_1$, $n_2$ 는 각각 표본이 크기이다."
   ]
  },
  {
   "cell_type": "markdown",
   "metadata": {},
   "source": [
    "### 임계역(Critical Region) 설정"
   ]
  },
  {
   "cell_type": "markdown",
   "metadata": {},
   "source": [
    "   * 모든 값의 집합에서 귀무가설을 부정하는 극단적인 범위를 선택합니다. 보통은 분포함수에서 끝자락입니다. 이 부분을 검정 통계량의 임계역 이라고 합니다.\n",
    "   * 귀무가설이 옳바른 경우 검정 통계량이 임계역에 들어갈 확률을 임계값(Critical value) 라고 하며(유의수준) 이라하며 보통 $\\alpha$ 로 표시합니다.\n",
    "   * 유의수준은 대상 분야에 따라 다르지만 $\\alpha = 0.05 \\;(5\\%)$ 또는 $\\alpha = 0.01\\;(1\\%)$ 를 사용 합니다.\n",
    "   \n",
    "   \n",
    "   * 검정의 종류에 따라 양측검정(two-side test) 또는 단측검정(one-size test) 로 나누며 단측검정은 나누어 보면 우측검정, 좌측검정으로 나누어 집니다."
   ]
  },
  {
   "cell_type": "markdown",
   "metadata": {},
   "source": [
    "##### 양측검정 (tow-size test)"
   ]
  },
  {
   "cell_type": "markdown",
   "metadata": {},
   "source": [
    "   * 귀무가설이 평균의 동일성을 주장하면 (대립가성이 아니다 형태) 분포 함수 양쪽을 사용합니다.\n",
    "   * $H_1$ : $\\mu \\neq 180$ 과 같은 타입이다."
   ]
  },
  {
   "cell_type": "markdown",
   "metadata": {},
   "source": [
    "##### 단측검정 (one-side test)"
   ]
  },
  {
   "cell_type": "markdown",
   "metadata": {},
   "source": [
    "   * 평균이 큰 (작은) 것은 없다 라고 주장하는 타입이면 분포의 한쪽 자락만 사용한다.\n",
    "   * $H_1$ : $\\mu \\gt 180$ 과 같은 타입이다 (우측검정)\n",
    "   * $H_1$ : $\\mu \\lt 180$ 과 같은 타입이다 (좌측검정)"
   ]
  },
  {
   "cell_type": "markdown",
   "metadata": {},
   "source": [
    "### 판정"
   ]
  },
  {
   "cell_type": "markdown",
   "metadata": {},
   "source": [
    "   * 데이터로 부터 산출한 검정통계량이 임계역에 있는지 여부를 판정한다.\n",
    "   * 일반적으로 통계가 가정한 분포안에서, 계산된 검정이 필요한 통계량이 가설에 반하는 값이 될 확률 (이것을 p-value 라 한다) 을 도표 등을 이용하여 구합니다."
   ]
  },
  {
   "cell_type": "markdown",
   "metadata": {},
   "source": [
    "##### $p \\lt \\alpha$"
   ]
  },
  {
   "cell_type": "markdown",
   "metadata": {},
   "source": [
    "   * 임계역 영역 내부에 있다고 판단하며\n",
    "   * 귀무가설은 옳지 않다 라고 판단합니다.\n",
    "   * 이 영역을 기각역(Rejection Region) 이라고 합니다. 그 이외 영역을 채택영역(Acceptance Region) 이라고 합니다.\n",
    "   \n",
    "   \n",
    "   * $\\alpha$ 이하의 확률에서 사건이 일어났다\n",
    "        * $\\alpha$ 수준에서 통계학적으로 유의하다 라고 말합니다.\n",
    "        * 즉 \"약물에 대해 관찰된 반응은 $\\alpha$ 수준에서 통계학적으로 유의하다\" 라고 말 할 수 있습니다.\n",
    "        * 귀무가설 하에서 이런일이 우연히 일어날 것도 아니지만 아주 작은 확률 $\\alpha$ 로 일어 날 수 있다는 것입니다."
   ]
  },
  {
   "cell_type": "markdown",
   "metadata": {},
   "source": [
    "##### $p \\ge \\alpha$"
   ]
  },
  {
   "cell_type": "markdown",
   "metadata": {},
   "source": [
    "   * 귀무가설을 기각 할 만한 증거가 없습니다."
   ]
  },
  {
   "cell_type": "markdown",
   "metadata": {},
   "source": [
    "## 오류의 종류"
   ]
  },
  {
   "cell_type": "markdown",
   "metadata": {},
   "source": [
    "   * 제 I종오류 (Type 1 Error)\n",
    "       * 귀무가설 $H_0$ 가 옳은데도 불구하고 $H_0$ 를 기각하게 되는 오류\n",
    "\n",
    "\n",
    "   * 제 II종오류 (Type II Error)\n",
    "       * 귀무가설 $H_0$ 가 옳지 않은데도 불구하고 $H_0$ 를 채택하는 오류\n",
    "       \n",
    "       \n",
    "   * 가설검정에서는 두가지 오류가 작을수록 바람직하나 두 가지를 동시에 줄일 수 없기 때문에 제I종오류를 범할 확률의 최대 허용치를 미리 어떤 특정한 값으로 지정해 놓고 제II종오류의 확률을 가장 작게 해주는 검정 방법을 사용합니다."
   ]
  },
  {
   "cell_type": "markdown",
   "metadata": {},
   "source": [
    "#### 제I종오류 (Type I Error)"
   ]
  },
  {
   "cell_type": "markdown",
   "metadata": {},
   "source": [
    "   * Type I Error 라고 하며, ISO 에서는 error of the first kind 로 부름니다.\n",
    "   * 보통 $\\alpha$ 로 표시하며 유의수준과 같은 것입니다.\n",
    "   * 즉 True 인데 False 로 판정합니다."
   ]
  },
  {
   "cell_type": "markdown",
   "metadata": {},
   "source": [
    "#### 제II종오류 (Type II Error)"
   ]
  },
  {
   "cell_type": "markdown",
   "metadata": {},
   "source": [
    "   * Type II Error 라고 하며 ISO 에서는 error of the second kind 로 부름니다.\n",
    "   * $\\beta$ 로 표시하며, $1 - \\beta$ 를 검정능력 또는 검출력이라고 합니다.\n",
    "   * False 인데 True 로 판정합니다."
   ]
  },
  {
   "cell_type": "markdown",
   "metadata": {},
   "source": [
    "#### 제I종오류 와 제II종오류 관계"
   ]
  },
  {
   "cell_type": "markdown",
   "metadata": {},
   "source": [
    "   * 제I종오류를 줄이려고 하면 제II종오류가 증가 (또는 그 반대) 하는 경향이 있습니다. \n",
    "   * $\\alpha$ 와 $1 - \\beta$ 관계를 표시한 것을 수신자 판단 특성 곡선 (Receiver Operation Characteristic Curve) 라고 합니다.\n",
    "   * 가설검정에서는 일반적으로 미리 지정한 충분히 작은 $\\alpha) (최대 허용치)에 대해서 $\\beta$ 를 가급적 작게 (즉 검출력을 가능하도록 크게) 하도록 기준치 (Cut-off Value) 를 취한다.\n",
    "       * Neyman-Pearson 기준"
   ]
  },
  {
   "cell_type": "markdown",
   "metadata": {},
   "source": [
    "#### 오류 교차표"
   ]
  },
  {
   "cell_type": "markdown",
   "metadata": {},
   "source": [
    "\n",
    "<table>\n",
    "<tbody><tr>\n",
    "<th rowspan=\"2\" colspan=\"2\">&nbsp;Table of error types</th>\n",
    "<th colspan=\"2\">Null hypothesis ($H_0$) is</th>\n",
    "</tr>\n",
    "<tr>\n",
    "<th>True</th>\n",
    "<th>False</th>\n",
    "</tr>\n",
    "<tr>\n",
    "<th rowspan=\"2\">Decision About Null Hypothesis ($H_0$)</th>\n",
    "<th>Reject</th>\n",
    "<td style=\"text-align:center;\">Type&nbsp;I error<br>\n",
    "(False Positive:FP)</td>\n",
    "<td style=\"text-align:center;\">Correct inference<br>\n",
    "(True Negative:TN)</td>\n",
    "</tr>\n",
    "<tr>\n",
    "<th>Accept\n",
    "<p>(not rejected)</p>\n",
    "</th>\n",
    "<td style=\"text-align:center;\">Correct inference<br>\n",
    "(True Positive:TP)</td>\n",
    "<td style=\"text-align:center;\">Type&nbsp;II error<br>\n",
    "(False Negative:FN)</td>\n",
    "</tr>\n",
    "</tbody></table>"
   ]
  },
  {
   "cell_type": "markdown",
   "metadata": {},
   "source": [
    "   * True, False : 관측결과입니다. True 는 맞게 판정, False 는 잘못판정 입니다.\n",
    "   * Positive, Negative: 기대값, 예측입니다.\n",
    "   * 예를 들어 TP (True Positive)  Positive(True) 로 판정했는데, 결과가 True 입니다..\n",
    "   * Type 1 에러인 경우 FP : Positive(True) 로 판정했는데 결과가 False 입니다.\n",
    "   * Type II 에러인 경우 FN: 거짓인데 잘못 판(진실이라고)정하는 경우 입니다.\n",
    "   \n",
    "   * Recall, Sensitive, 민감도, TPR(True Positive Rate)= $\\dfrac{True}{Real Positive}$ = $\\dfrac{TP}{TP+FN}$\n",
    "   * Precision(정밀도), PPR(Positive Prective Rate) = $\\dfrac{TP}{TP+FP}$\n",
    "   \n",
    "   * 등등이 있습니다."
   ]
  },
  {
   "cell_type": "markdown",
   "metadata": {},
   "source": [
    "## 검정 종류"
   ]
  },
  {
   "cell_type": "markdown",
   "metadata": {},
   "source": [
    "   * 정규분포와 같은 모수(Parameter) 를 이용한 검정방법을 모수 검정방법 이라 하고, 모수를 이용하지 않은 방법을 비모수(Non-Parametric) 검정방법이라고 합니다.\n",
    "   \n",
    "   * 모수검정\n",
    "      * t-검정\n",
    "      * F-검정\n",
    "      * 회귀분석\n",
    "      * 분산분석\n",
    "\n",
    "   * 비모수 검정\n",
    "      * 부호검정\n",
    "      * Wilcoxon 검정(순위포함 부호검정)\n",
    "      * Mann-Whitney 의 U 검정\n",
    "      * 카이제곱 ($\\chi^2$) 검정\n",
    "      * 피셔 직접 확률 검정\n",
    "\n",
    "\n",
    "   * 검정의 목적에 따라서 모수의 유의성 검정, 적합도 검정(특정 모집단에서 추출된 것인지 여부), 균일성 검정(두개의 표본이 같은 모집단에 의한것인지 여부), 독립성 검정(두개의 표본이 독립성 여부) 등으로 나뉜다."
   ]
  },
  {
   "cell_type": "markdown",
   "metadata": {},
   "source": []
  }
 ],
 "metadata": {
  "kernelspec": {
   "display_name": "R",
   "language": "R",
   "name": "ir"
  },
  "language_info": {
   "codemirror_mode": "r",
   "file_extension": ".r",
   "mimetype": "text/x-r-source",
   "name": "R",
   "pygments_lexer": "r",
   "version": "3.4.3"
  }
 },
 "nbformat": 4,
 "nbformat_minor": 2
}
