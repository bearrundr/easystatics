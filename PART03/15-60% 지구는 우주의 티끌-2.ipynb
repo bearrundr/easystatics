{
 "cells": [
  {
   "cell_type": "markdown",
   "metadata": {},
   "source": [
    "# <span style=\"color:blue\"> 이토록 쉬운 통계 & R </span>"
   ]
  },
  {
   "cell_type": "markdown",
   "metadata": {},
   "source": [
    "<img src=\"../image/cover.png\" width=\"200\" height=\"400\" align=\"left\">  임경덕 지음"
   ]
  },
  {
   "cell_type": "markdown",
   "metadata": {},
   "source": [
    "## PART 3 차이를 예측하는 통계 모형"
   ]
  },
  {
   "cell_type": "markdown",
   "metadata": {},
   "source": [
    "## 60% 지구는 우주의 티끌(18 일차)"
   ]
  },
  {
   "cell_type": "markdown",
   "metadata": {},
   "source": [
    "   * 자연스런 확률 도입 (범주형변수)\n",
    "   * 그리고 P-값(P-value) 설명"
   ]
  },
  {
   "cell_type": "markdown",
   "metadata": {},
   "source": [
    "## 자연스런 확률"
   ]
  },
  {
   "cell_type": "markdown",
   "metadata": {},
   "source": [
    "#### AB 테스트 (범주형 변수)"
   ]
  },
  {
   "cell_type": "markdown",
   "metadata": {},
   "source": [
    "   * 온라인 배너 광고에 대해서 사용자의 반응을 확인 하는 방법에 많이 사용하는 것이 AB 테스트 입니다.\n",
    "   * 이용자에게 두가지 배너를 임의적으로 보여주고 반응을 확인 합니다.\n",
    "   * 두 배너중에서 어떤 배너가 더 반응이 좋은지에 대해서 확인을 해보니, 배너를 보고 클릭한 사람과 무시한 사람 두가지 유형으로 나뉘었습니다.\n",
    "   \n",
    "     <img src=\"../image/ed097.png\" width=\"500\" height=\"200\" align=\"left\">  page 150"
   ]
  },
  {
   "cell_type": "markdown",
   "metadata": {},
   "source": [
    "   * 배너 A, B 에 각각 노출된 사람은 50명이고, 전체중에 반응한 사람은 60명, 배너를 무시한 사람은 40명이 었습니다.\n",
    "   * 배너 A 는 50명 중에서 35명이 반응을 했고, 배너 B 는 25명이 반응을 했습니다.\n",
    "   \n",
    "   \n",
    "   * 배너 A 의 효과가 더 좋은것으로 나왔습니다 만.. 이 효과가 우연이 아니다 라고 말 할 수 있으면 비교를 해야 합니다.\n",
    "   * 비교를 위해서 분포를 활용합니다.\n",
    "   \n",
    "   \n",
    "   * 첫번째 변수는 A 50, B 50 번 랜덤으로 나오게 하고, 다른 변수는 랜덤으로 성공 60회 실패 40회 나오게 합니다.\n",
    "   * 모두 100 개의 관측치를 가지고 있으며, 하나씩 짝을 지어 데이터를 만들고 교차표를 만들어 봤습니다.\n",
    "   \n",
    "   <img src=\"../image/ed098.png\" width=\"500\" height=\"300\" align=\"left\">  page 151\n"
   ]
  },
  {
   "cell_type": "markdown",
   "metadata": {},
   "source": [
    "   * 서로 독립적이기 때문에 교차표에는 비율에 따라 배정을 하게 됩니다. 따라서 배너 A 에 반응만 알면 나머지는 자동으로 계산이 됩니다.\n",
    "   * 그러나 지금은 랜덤으로 뽑은것이므로 어는 경우에는 배너 A 가 배너 B 보더 더 반응을 하고 또 다른 경우에는 배너 B 가 더 반응을 할 것입니다.\n",
    "   * 평균적으로는 100명중에 60명이 반응을 했고, 배너 A 에는 50명이 있으므로 30명이 배너 A 에 반응할 가능성이 큽니다.\n",
    "  \n",
    "  \n",
    "   <img src=\"../image/ed099.png\" width=\"500\" height=\"200\" align=\"left\">  page 152"
   ]
  },
  {
   "cell_type": "markdown",
   "metadata": {},
   "source": [
    "   * 이 가정에 따라서 1000 개 랜덤을 샘플해서 배너 A 에 반응한 사람 히스트로그램을 봤습니다.\n",
    "   \n",
    "    <img src=\"../image/ed100.png\" width=\"500\" height=\"200\" align=\"left\">  page 152"
   ]
  },
  {
   "cell_type": "markdown",
   "metadata": {},
   "source": [
    "   * 예상대로 30명을 중심으로 분포가 되어 있습니다.\n",
    "   * 배너 B 에 반응한 사람은 60 - 30 이므로 30명이 반응을 할것으로 예상되며\n",
    "   * 두 배너의 효과 차이가 없다는 것을 의미 합니다.\n",
    "   \n",
    "   \n",
    "   * 이제 우리는 실제 데이터가 있으며, 배너 A 에 35명이 반응을 한 데이터 입니다.\n",
    "   * 1000 번의 표본 중에서 실제값 35 보다 큰 값이 나온 표본은 39개입니다.\n",
    "   * 확률로는 3.9 % 입니다.\n",
    "   \n",
    "   * 배너의 반응율에 차이가 없다는 가정에서 35보다 큰 경우는 3.9% 이고 100번 중에 4번 정도 일어나는 드문 경우입니다.\n",
    "   * 우연이라고 보기에는 충분히 큰 차이입니다."
   ]
  },
  {
   "cell_type": "markdown",
   "metadata": {},
   "source": [
    "### P-값 (p-value)"
   ]
  },
  {
   "cell_type": "markdown",
   "metadata": {},
   "source": [
    "   * 지금까지 차이가 없는 상황을 가정하고 랜덤샘플로 분포를 만들어 내고\n",
    "   * 그 분포에 실제 데이터의 상대적인 위치를 구해서 확률로 계산했습니다.\n",
    "   * 이전의 예에서 3.9% 라는 확률 입니다.\n",
    "   * 분포에서 실제 데이터의 상대적인 위치의 확률값을 **p-값(p-value)** 라고 합니다."
   ]
  },
  {
   "cell_type": "markdown",
   "metadata": {},
   "source": [
    "   * p 값을 계산 하는 목적은 대부분 데이터 속 차이가 얼마나 의미 있는지 보이기 위함입니다.\n",
    "   * 그리고 이 p-값은 데이터가 우연이 아닌 특이한 값인지를 나타냅니다.\n",
    "   * p 가 0 에 가까워지면 차이가 없다고 보기엔 실현 불가능한 만큼 큰 차이를 보이고\n",
    "   * p 가 1 에 가까워지면 충분히 우연하게 일어날수 있다는 것을 말합니다.\n",
    "   \n",
    "   \n",
    "   \n",
    "   * 다음절에서는 이 p-값의 기준값에 대해서 설명합니다."
   ]
  }
 ],
 "metadata": {
  "kernelspec": {
   "display_name": "R",
   "language": "R",
   "name": "ir"
  },
  "language_info": {
   "codemirror_mode": "r",
   "file_extension": ".r",
   "mimetype": "text/x-r-source",
   "name": "R",
   "pygments_lexer": "r",
   "version": "3.4.3"
  }
 },
 "nbformat": 4,
 "nbformat_minor": 2
}
