{
 "cells": [
  {
   "cell_type": "markdown",
   "metadata": {},
   "source": [
    "# <span style=\"color:blue\"> 이토록 쉬운 통계 & R </span>"
   ]
  },
  {
   "cell_type": "markdown",
   "metadata": {},
   "source": [
    "<img src=\"../image/cover.png\" width=\"200\" height=\"400\" align=\"left\">  임경덕 지음"
   ]
  },
  {
   "cell_type": "markdown",
   "metadata": {},
   "source": [
    "## PART 3 차이를 예측하는 통계 모형"
   ]
  },
  {
   "cell_type": "markdown",
   "metadata": {},
   "source": [
    "## 56% 우연과 운명사이(16 일차)"
   ]
  },
  {
   "cell_type": "markdown",
   "metadata": {},
   "source": [
    "   * PART 3 에 대한 개요입니다."
   ]
  },
  {
   "cell_type": "markdown",
   "metadata": {},
   "source": [
    "### PART 1 에서는"
   ]
  },
  {
   "cell_type": "markdown",
   "metadata": {},
   "source": [
    "   * 관심 변수와 관심 변속 속 차이를 확인 하였습니다."
   ]
  },
  {
   "cell_type": "markdown",
   "metadata": {},
   "source": [
    "### PART 2 에서는"
   ]
  },
  {
   "cell_type": "markdown",
   "metadata": {},
   "source": [
    "   * 관심 변수의 차이를 설명 변수를 도입하여 관계로 설명하는 방법 들에 관하여 이야기 해 왔습니다."
   ]
  },
  {
   "cell_type": "markdown",
   "metadata": {},
   "source": [
    "### PART 3 에서는"
   ]
  },
  {
   "cell_type": "markdown",
   "metadata": {},
   "source": [
    "   * 이제 그차이의 의미를 알아야 합니다.\n",
    "   * 그 차이가 그냥 어쩌나 나온 차이고 재수가 좋은 것인지, 아니면 반드시 그래야만 하는것인지에 대한 의미를 파악하고자 합니다."
   ]
  },
  {
   "cell_type": "markdown",
   "metadata": {},
   "source": [
    "### 따라서"
   ]
  },
  {
   "cell_type": "markdown",
   "metadata": {},
   "source": [
    "   * 변수속의 차이나는 것을 관계가 우연이 아니라고 보이는 과정을 테스트 또는 검정을 하여야 합니다.\n",
    "   * 우연이 아니라고 하기에는 설명이 불가능 할 만큼 큰 차이 또는 밀접한 관계가 있다는 것을 입증하는 것입니다.\n",
    "\n",
    "\n",
    "   * 큰지 아닌지 에 판단 할 만큼의 기준이 필요합니다.\n",
    "   * 또한 비교를 위해서는 표본(Sampling) 을 해야 할 것입니다.\n",
    "   * 이런 방법을 통해서 어떻게 비교하고 가능한지에 대한 논의를 할 것입니다.\n",
    "   \n",
    "   \n",
    "   * 이것과 더불어 마지막에는 상관관계에 대한 수식표현 즉 단순 회기분석에 대한 논의를 할 것입니다."
   ]
  }
 ],
 "metadata": {
  "kernelspec": {
   "display_name": "R",
   "language": "R",
   "name": "ir"
  },
  "language_info": {
   "codemirror_mode": "r",
   "file_extension": ".r",
   "mimetype": "text/x-r-source",
   "name": "R",
   "pygments_lexer": "r",
   "version": "3.4.3"
  }
 },
 "nbformat": 4,
 "nbformat_minor": 2
}
