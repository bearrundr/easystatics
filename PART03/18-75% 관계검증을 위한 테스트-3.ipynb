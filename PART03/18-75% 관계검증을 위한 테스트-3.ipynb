{
 "cells": [
  {
   "cell_type": "markdown",
   "metadata": {},
   "source": [
    "# <span style=\"color:blue\"> 이토록 쉬운 통계 & R </span>"
   ]
  },
  {
   "cell_type": "markdown",
   "metadata": {},
   "source": [
    "<img src=\"../image/cover.png\" width=\"200\" height=\"400\" align=\"left\">  임경덕 지음"
   ]
  },
  {
   "cell_type": "markdown",
   "metadata": {},
   "source": [
    "## PART 3 차이를 예측하는 통계 모형"
   ]
  },
  {
   "cell_type": "markdown",
   "metadata": {},
   "source": [
    "## 75% 관계검증을 위한 테스트 (26 일차)"
   ]
  },
  {
   "cell_type": "markdown",
   "metadata": {},
   "source": [
    "   * 이절에서는 다음 3가지를 설명합니다. 3가지 항목 다 다른 성질이어서 이것 3일에 나누어서 정리 하고자 합니다.\n",
    "   * t값을 이용한 신뢰구간 설명 (24)\n",
    "   * 카이제곱을 활용한 독립성 검정 (25)\n",
    "   * F 분포를 활용한 분산분석 (26)"
   ]
  },
  {
   "cell_type": "markdown",
   "metadata": {},
   "source": [
    "## F-분포를 활용한 분산분석"
   ]
  },
  {
   "cell_type": "markdown",
   "metadata": {},
   "source": [
    "   * 새로운 것이 나온다던가, 새로운 시스템이 도입하던가, 방법을 바꾸던가, 지금 하던 방식과 다른 방법을 사용한다면, 뭔가 차이를 찾아야 할 것입니다.\n",
    "   * 차이를 찾기위해선 비교를 해야 하고 얼마나 더 좋은지 효과를 입증해야 할 것입니다.\n",
    "   * 새로운 비료가 얼마나 더 효과가 좋은지, 새롭게 도입한 마케팅 기법이 기존에 비해서 효과가 더 좋은지 등등\n",
    "   * 이런 방법에 접근하기 위해서 먼저 **분산분석**을 다시 한번 검토합니다."
   ]
  },
  {
   "cell_type": "markdown",
   "metadata": {},
   "source": [
    "간단한 예제를 이용해서 다시한번 분산분석을 살펴 봅니다.\n",
    "\n",
    "   <img src=\"../image/ed124.png\" width=\"300\" height=\"500\" align=\"left\">  Page 198"
   ]
  },
  {
   "cell_type": "markdown",
   "metadata": {},
   "source": [
    "   * 6 명이 시험틴 결과 입니다. 10점 만점에 2점씩 차이씩 골고루 분포되어 있습니다.\n",
    "   * 6명의 점수를 $y$ 라고 합시다.\n",
    "   \n",
    " 그림으로 보면 더 이해 하기 쉽다고 합니다.\n",
    " \n",
    " \n",
    " <img src=\"../image/ed125.png\" width=\"400\" height=\"200\" align=\"left\">  Page 198"
   ]
  },
  {
   "cell_type": "markdown",
   "metadata": {},
   "source": [
    "   * 먼저 $y$ 의 평균값을 계산해 봅니다.\n",
    "$${\\bar y} = \\dfrac{0+2+4+6+8+10}{6} = \\dfrac{30}{6} = 5$$"
   ]
  },
  {
   "cell_type": "markdown",
   "metadata": {},
   "source": [
    "   * 평균은 5점 입니다.\n",
    "   * 이제 공부 하는 방식을 검토 합니다.\n",
    "   * 공부 하는 방식이 모두 3가지가 있다고 합니다. 각각을 A, B, C 라고 하고 학생 1, 6 은 A 방법, 학생 2,5 는 B 방법, 학생 3,4 는 C 방법으로 공부 했습니다.\n",
    "   * 이제 새로운 변수 공부방법이 추가 되었습니다.\n",
    "   \n",
    "<img src=\"../image/ed126.png\" width=\"300\" height=\"500\" align=\"left\">  Page 199"
   ]
  },
  {
   "cell_type": "markdown",
   "metadata": {},
   "source": [
    "   * 이것을 보기 좋게 다시 표현합니다.\n",
    "   \n",
    "   \n",
    "<img src=\"../image/ed127.png\" width=\"500\" height=\"200\" align=\"left\">  Page 200\n"
   ]
  },
  {
   "cell_type": "markdown",
   "metadata": {},
   "source": [
    "   * A 방법으로 공부한 학생은 10점과 0점, B 방법은 2점과 8점, C 방법으로 공부한 학생은 각각 4,6 점을 받았습니다. 공부 방법이 아니라 개인의 능력차인것 같습니다."
   ]
  },
  {
   "cell_type": "markdown",
   "metadata": {},
   "source": [
    "   * 만일 다음과 같은 점수를 받았다면 확실히 공부방법에 따른 차이가 있을 것입니다.\n",
    "  \n",
    "<img src=\"../image/ed128.png\" width=\"500\" height=\"200\" align=\"left\">  Page 200\n"
   ]
  },
  {
   "cell_type": "markdown",
   "metadata": {},
   "source": [
    "   * 위 예에서 점수라는 관심있는 연속형 변수의 차이를 공부방법이라는 범주형 변수로 설명했습니다. 대부분의 문제들은 이런 문제 유형들 일것입니다."
   ]
  },
  {
   "cell_type": "markdown",
   "metadata": {},
   "source": [
    "#### F 값 소개"
   ]
  },
  {
   "cell_type": "markdown",
   "metadata": {},
   "source": [
    "   * 분산분석은 데이터 속에서 어떤 차이 정도를 F-통계량(F-statistics) 혹은 F-값 (F-value) 로 계산합니다. F-분포는 이른 고안한 로널드 피셔(Ronald Fisher) 라는 통계학자 이름을 따 지었습니다.\n",
    "   * F 분포는 농업, 화학업, 제조업의 끊임없는 품질과 성능 개선에 영향을 주었고 지금도 의약업을 중심으로 널리 활용되고 있습니다.\n",
    "   * F 값은 범주형 변수가 연속형 변수의 차이를 얼마나 많이 설명하는지 표현하는 값입니다.\n",
    "   \n",
    "   * F 분포속에서 상대적인 위치를 측정한 p 값을 계산하여 차이를 파악하고 개선해 나갑니다.\n",
    "   \n",
    "   * 이제 F값과 분포를 어떻게 사용하는 지 예제를 통해 살펴 봅니다."
   ]
  },
  {
   "cell_type": "markdown",
   "metadata": {},
   "source": [
    "#### 예제를 이용한 F 설명"
   ]
  },
  {
   "cell_type": "markdown",
   "metadata": {},
   "source": [
    "   * 아까 예제로 다시 돌아와서 전체 평균과 수준을 잘 정리하면 다음표로 나타냅니다.\n",
    "   \n",
    "<img src=\"../image/ed129.png\" width=\"500\" height=\"200\" align=\"left\">  Page 201\n"
   ]
  },
  {
   "cell_type": "markdown",
   "metadata": {},
   "source": [
    "   * 공부방법에 따른 평균의 차이를 확인 할 수 있습니다. 그러나 우리는 유의성 검정을 확인하기 위해서는 분산을 계산합니다.\n",
    "   \n",
    "$$\n",
    "s^2_y = = \\dfrac{(0-5)^2+(2-5)^2+(4-5)^2+(6-5)^2+(8-5)^2+(10-5)^2}{6-1}= \\dfrac{70}{5} = 14\n",
    "$$"
   ]
  },
  {
   "cell_type": "markdown",
   "metadata": {},
   "source": [
    "   * 분산 $s^2_y$ 는 14이나 70을 좀더 살펴보도록 합니다.\n",
    "\n",
    "<img src=\"../image/ed130.png\" width=\"500\" height=\"400\" align=\"left\">  Page 202"
   ]
  },
  {
   "cell_type": "markdown",
   "metadata": {},
   "source": [
    "   * 이전 카이제곱에서 뭔가를 제곱을 더하면 자유도가 (n - 1) 인 카이제곱 분포와 관계가 있다는 것을 알았습니다.\n",
    "   \n",
    "   * 이번에는 6명의 공부 방법에 따른 A,B,C 세그룹 안에서  개인별 차이를 알아봅니다.\n",
    "   \n",
    "   \n",
    "   <img src=\"../image/ed131.png\" width=\"500\" height=\"200\" align=\"left\">  Page 203\n"
   ]
  },
  {
   "cell_type": "markdown",
   "metadata": {},
   "source": [
    "   * 개인별 그룹내에서 차이의 제곱을 다 더하면 각각은 1이므로 6이 됩니다.\n",
    "   \n",
    " $$\n",
    " \\left\\{(0-1)^2+(2-1)^2\\right\\} + \\left\\{(4-5)^2+(6-5)^2\\right\\} + \\left\\{(8-9)^2+(10-9)^2\\right\\} = 6\n",
    " $$"
   ]
  },
  {
   "cell_type": "markdown",
   "metadata": {},
   "source": [
    "   * 이제 마지막 제곱합은 전체평균 5와 각 그룹평균의 차이 제곱입니다.\n",
    " \n",
    "   <img src=\"../image/ed132.png\" width=\"500\" height=\"200\" align=\"left\">  Page 204"
   ]
  },
  {
   "cell_type": "markdown",
   "metadata": {},
   "source": [
    "   * 회색그룹의 평균은 1 은 전체평균 5 로 부터 4만큼 떨어져, 면적은 16이고 여기에 2명이라서 2를 곱합니다. 파란색그룹도 마찬가지고, 횐색그룹의 평균은 전체평균과 같아서 정사각형 면적이 0 입니다.\n",
    "   \n",
    "$$\n",
    " \\left\\{(1-5)^2+(1-5)^2\\right\\} + \\left\\{(5-5)^2+(5-5)^2\\right\\} + \\left\\{(9-5)^2+(9-5)^2\\right\\} = 64\n",
    "$$"
   ]
  },
  {
   "cell_type": "markdown",
   "metadata": {},
   "source": [
    "   * 이것을 55% 점심 뭐 먹지? 에서와 같이 표로 정리하면\n",
    "   \n",
    "   <img src=\"../image/ed133.png\" width=\"500\" height=\"200\" align=\"left\">  Page 205"
   ]
  },
  {
   "cell_type": "markdown",
   "metadata": {},
   "source": [
    "   * 6명 전체 평균 점수 ${\\bar y}$ 는 모두 5이지만, 공부방법 $x$ 에 따라서 그룹평균점수 ${\\bar y}_x$ 는 다릅니다. \n",
    "   * 이 점수표 속에는 학생들의 점수차이와 공부 방법의 차이 그리고 같은 공부 방법에도 존재하는 개인차가 담겨 있습니다.\n",
    "   * 관심있는 것은 공부방법에 따른 차이를 확인 하고 싶은 것입니다."
   ]
  },
  {
   "cell_type": "markdown",
   "metadata": {},
   "source": [
    "#### 세번의 제곱합의 의미"
   ]
  },
  {
   "cell_type": "markdown",
   "metadata": {},
   "source": [
    "지금 까지 3번의 제곱합을 보면 각각 $(y - {\\bar y})$, $(y - {\\bar y}_x)$, $({\\bar y}_x - {\\bar y})$ 에 해당합니다."
   ]
  },
  {
   "cell_type": "markdown",
   "metadata": {},
   "source": [
    "##### $(y - {\\bar y})$"
   ]
  },
  {
   "cell_type": "markdown",
   "metadata": {},
   "source": [
    "   * 사실상 분산의 의미, 관측치들어 서로 얼마나 다른지 의미 합니다."
   ]
  },
  {
   "cell_type": "markdown",
   "metadata": {},
   "source": [
    "##### $(y - {\\bar y}_x)$"
   ]
  },
  {
   "cell_type": "markdown",
   "metadata": {},
   "source": [
    "   * 설명변수로 관심변수를 설명 할 수 없는 부분입니다. 같은 그룹에 있는 두학생은 똑같은 방법으로 공부 했지만 2점이라는 점수차이가 있습니다. 이차는 개개인의 환경, 성격등 다양한 요인이 있을수 있으므로 데이터로는 설명하는데 한계가 있습니다."
   ]
  },
  {
   "cell_type": "markdown",
   "metadata": {},
   "source": [
    "##### $({\\bar y}_x - {\\bar y})$"
   ]
  },
  {
   "cell_type": "markdown",
   "metadata": {},
   "source": [
    "   * 그룹의 평균들이 전체 평균과 얼마나 차이가 나는지 말합니다.그룹간 평균 점수가 얼마나 차이가 나는지 측정하고 공부 방법에 따라서 점수 차이가 얼마나 다른지 알려 줍니다. 이 값이 크면 클수록 그룹에 따른 차이가 크다고 할 수 있습니다."
   ]
  },
  {
   "cell_type": "markdown",
   "metadata": {},
   "source": [
    "이 세가지 제곱합의 관계는 70 = 64 + 6 의 관계가 있습니다. 이것은 일반적인 현상입니다. 이것을 수식으로 표현하면 다음처럼 됩니다.\n",
    "\n",
    "$$\n",
    "\\sum_{i=1}^{n}(y_i - {\\bar y})^2 = \\sum_{i=1}^{n}(yg_i - {\\bar y})^2 + \\sum_{i=1}^{n}(y_i - yg_i)^2\n",
    "$$"
   ]
  },
  {
   "cell_type": "markdown",
   "metadata": {},
   "source": [
    "   * 관측치의 전체적인 차이를 의미하는 분산은 그룹의 차이로 설명할 수 있는 부분과 도저히 설명할 수 없는 부분으로 나뉜다는 것입니다.\n",
    "   * 어떤 범주형 변수로 설명이 가능한 부분이 어느정도 큰지를 파악하는 것이 중요합니다.\n",
    "   * 분산분석은 제곱합을 활용해서 범주형 변수, 그룹에 따른 평균의 차이를 설명하려고 합니다."
   ]
  },
  {
   "cell_type": "markdown",
   "metadata": {},
   "source": [
    "   * 이런 차이를 파악할 통계량이 F-값 입니다. 제곱합은 관측치가 관계하므로 갯수도 고려해야 하고 범주형 변수의 수준 갯수 그리고 그룹의 갯수도 고려해야 합니다. 따라서 도표로 정리하는 것이 편리 합니다.\n",
    "   * 전체 자유도는 전체관측치에서 1을 뺀 n-1 로 합니다. 6개의 관측치 이므로 6 - 1은 5가 됩니다.\n",
    "   \n",
    "   \n",
    "<img src=\"../image/ed134.png\" width=\"500\" height=\"200\" align=\"left\">  Page 207"
   ]
  },
  {
   "cell_type": "markdown",
   "metadata": {},
   "source": [
    "   * 이것을 2 부분으로 나누어 봅니다.\n",
    "\n",
    "<img src=\"../image/ed135.png\" width=\"500\" height=\"200\" align=\"left\">  Page 207"
   ]
  },
  {
   "cell_type": "markdown",
   "metadata": {},
   "source": [
    "   * 처음에는 그룹간의 차이 이고, 다음은 그룹내 개인차 입니다.\n",
    "   * 공부 방법은 그룹 A, B, C 3 그룹이 있으므로 자유도는 1 을 빼서 2 입니다.\n",
    "   \n",
    "<img src=\"../image/ed136.png\" width=\"500\" height=\"200\" align=\"left\">  Page 208"
   ]
  },
  {
   "cell_type": "markdown",
   "metadata": {},
   "source": [
    "   * 개인의 자유도는 전체 자유도 5 에서 2를 빼 3이 됩니다.\n",
    "   \n",
    "<img src=\"../image/ed137.png\" width=\"500\" height=\"200\" align=\"left\">  Page 208"
   ]
  },
  {
   "cell_type": "markdown",
   "metadata": {},
   "source": [
    "   * 각각의 제곱합을 자유도로 나누어 평균제곱합(분산) 에 넣습니다.\n",
    "   \n",
    "<img src=\"../image/ed138.png\" width=\"500\" height=\"200\" align=\"left\">  Page 209"
   ]
  },
  {
   "cell_type": "markdown",
   "metadata": {},
   "source": [
    "   * 이제 다 왔습니다.\n",
    "   \n",
    "   * F 값은 공부방법의 평균제곱합을 개인차의 평균제곱합으로 나눈것입니다."
   ]
  },
  {
   "cell_type": "markdown",
   "metadata": {},
   "source": [
    "$$\n",
    "F-값 = \\dfrac{설명할\\;수\\;있는\\;부분의\\;평균제곱합}{설명할\\;수\\;없는\\;부분의\\;평균제곱힙} = \\dfrac{32}{2} = 16\n",
    "$$"
   ]
  },
  {
   "cell_type": "markdown",
   "metadata": {},
   "source": [
    "   * F 값이 크면 클수록 그룹을 나누는 역활을 하는 범주형 설명 변수로 관심변수의 차이를 더 많이 설명 할 수 있습니다. 즉 F 값이 크면 그룹별 평균차이가 크다는 의미 입니다.\n",
    "   * 과거의 방법과 새로운 방법을 비교 실험한 결과 큰 F 값을 얻으면 기존보다 개선된 방법이 훨씬 낫다는 의미 입니다.\n",
    "   * F 값의 기준이 중요한데, F 분포를 사용하여 상대적인 위치를 찾고, p 값을 계산합니다."
   ]
  },
  {
   "cell_type": "markdown",
   "metadata": {},
   "source": [
    "   * F 분포의 확률밀도 식은 다음과 같습니다.\n",
    "\n",
    "$$\n",
    "f(x) = \\dfrac{\\sqrt{\\dfrac{(d_1x)^{d_1}d^{d_2}_2}{(d_1x + d_2)^{d_1+d_2}}}}{x B(\\dfrac{d_1}{2},\\dfrac{d_2}{2})}\n",
    "$$"
   ]
  },
  {
   "cell_type": "markdown",
   "metadata": {},
   "source": [
    "   * 모수가 $d_1$ 과 $d_2$ 입니다. 이들은 각각 평균제곱합을 구할때의 각각의 자유도 입니다. 각각 2, 3 입니다."
   ]
  },
  {
   "cell_type": "markdown",
   "metadata": {},
   "source": [
    "<img src=\"../image/ed139.png\" width=\"500\" height=\"200\" align=\"left\">  Page 210"
   ]
  },
  {
   "cell_type": "markdown",
   "metadata": {},
   "source": [
    "   * R 을 이용하여 표현해 봤습니다."
   ]
  },
  {
   "cell_type": "code",
   "execution_count": 12,
   "metadata": {},
   "outputs": [
    {
     "data": {
      "image/png": "[encoded data removed]",
      "text/plain": [
       "plot without title"
      ]
     },
     "metadata": {},
     "output_type": "display_data"
    }
   ],
   "source": [
    "# 테스트 데이터 생성 벡터\n",
    "x=seq(from=0, to=20, length=200)\n",
    "\n",
    "# f 함수 evaluate\n",
    "# degree of freedom (1, 1)\n",
    "y_1 = df(x, 1, 1)\n",
    "y_2 = df(x, 3, 1)\n",
    "y_3 = df(x, 2, 3)\n",
    "y_4 = df(x, 2, 3)\n",
    "y_5 = df(x, 6, 3)\n",
    "y_6 = df(x, 3, 6)\n",
    "y_7 = df(x, 6, 7)\n",
    "\n",
    "\n",
    "# Plot\n",
    "plot(x, y_1, col = 1, type = \"l\")\n",
    "lines(x, y_2, col = 2)\n",
    "lines(x, y_3, col = 3)\n",
    "#lines(x, y_4, col = 4)\n",
    "#lines(x, y_5, col = 5)\n",
    "#lines(x, y_6, col = 6)\n",
    "#lines(x, y_7, col = 7)\n",
    "\n",
    "\n",
    "# add 범례\n",
    "#legend(\"topright\", title=\"F distribution\", c(\"df = (1,1)\", \"df = (3,1)\", \"df = (6,1)\", \"df = (2,3)\",\n",
    "#       \"df = (6,3)\", \"df = (3,6)\", \"df = (6,6)\"),\n",
    "#       col = c(1,2,3,4,5,6,7), lty = 1)\n",
    "\n",
    "legend(\"topright\", title=\"F distribution\", c(\"df = (1,1)\", \"df = (3,1)\", \"df = (2,3)\"),\n",
    "       col = c(1,2,3), lty = 1)"
   ]
  },
  {
   "cell_type": "markdown",
   "metadata": {},
   "source": [
    "   * 이제 자유도가 (2,3) 인 F 분포에서 F 값 16 이 어디 있는지 확인 해보아요.\n",
    "   \n",
    "<img src=\"../image/ed140.png\" width=\"500\" height=\"200\" align=\"left\">  Page 211"
   ]
  },
  {
   "cell_type": "markdown",
   "metadata": {},
   "source": [
    "   * F (2, 3) 에서 16이 나올 p 값이 0.0251 이며, 2.5% 입니다. 이 값은 유의수준 5% 에 비하면 p 값이 작으로므 공부방법에 따른 점수차이는 의미 있는 차이라고 할 수 있습니다. C 방법이 효과가 있다는 의미 입니다."
   ]
  },
  {
   "cell_type": "markdown",
   "metadata": {},
   "source": [
    "#### 통계모형"
   ]
  },
  {
   "cell_type": "markdown",
   "metadata": {},
   "source": [
    "대표적으로 t-분포, 카이제곱 분포 F-분포 등을 살펴봤습니다. 이외에도 많은 분포가 있습니다. 그러나 데이터 분석 경우에는 앞의 3가지가 가장 대표적이며 이 3가지를 숙지하면 다른 것도 쉽게 접근 할 수 있습니다. 기본적으로 값을 구하고 분포로 부터 p 값을 구하고 그리고 나서 유의성 검정을 합니다.\n",
    "\n",
    "p 값이 0에 가까울수로 $H_0$ 가설이 기각되고 대안가설이 선택되고, 유의수준이 0.05 보다 작으면 의미 있는 차이라고 볼 수 있다는 것입니다."
   ]
  },
  {
   "cell_type": "markdown",
   "metadata": {},
   "source": [
    "유의성 검정도 훌륭하지만 검정을 활용하면 통계모형(Statistical Model) 을 만들어 낼 수 있습니다.  통계모형은 관심있는 차이를 확인하고 그 차이를 설명 할 수 있는 최적의 관계를 찾아내는데 목적이 있습니다. \n",
    "\n",
    "다음절에서는 통계모형중에 가장 오래된 선형 회귀모형에 대해서 알아보도록 합니다."
   ]
  }
 ],
 "metadata": {
  "kernelspec": {
   "display_name": "R",
   "language": "R",
   "name": "ir"
  },
  "language_info": {
   "codemirror_mode": "r",
   "file_extension": ".r",
   "mimetype": "text/x-r-source",
   "name": "R",
   "pygments_lexer": "r",
   "version": "3.4.3"
  }
 },
 "nbformat": 4,
 "nbformat_minor": 2
}
