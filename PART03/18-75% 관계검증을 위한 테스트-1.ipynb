{
 "cells": [
  {
   "cell_type": "markdown",
   "metadata": {},
   "source": [
    "# <span style=\"color:blue\"> 이토록 쉬운 통계 & R </span>"
   ]
  },
  {
   "cell_type": "markdown",
   "metadata": {},
   "source": [
    "<img src=\"../image/cover.png\" width=\"200\" height=\"400\" align=\"left\">  임경덕 지음"
   ]
  },
  {
   "cell_type": "markdown",
   "metadata": {},
   "source": [
    "## PART 3 차이를 예측하는 통계 모형"
   ]
  },
  {
   "cell_type": "markdown",
   "metadata": {},
   "source": [
    "## 75% 관계검증을 위한 테스트 (24 일차)"
   ]
  },
  {
   "cell_type": "markdown",
   "metadata": {},
   "source": [
    "   * 이절에서는 다음 3가지를 설명합니다. 3가지 항목 다 다른 성질이어서 이것 3일에 나누어서 정리 하고자 합니다.\n",
    "   * t값을 이용한 신뢰구간 설명 (24)\n",
    "   * 카이제곱을 활용한 독립성 검정 (25)\n",
    "   * F 분포를 활용한 분산분석 (26)"
   ]
  },
  {
   "cell_type": "markdown",
   "metadata": {},
   "source": [
    "## t-검정의 활용"
   ]
  },
  {
   "cell_type": "markdown",
   "metadata": {},
   "source": [
    "#### 이야기 전개"
   ]
  },
  {
   "cell_type": "markdown",
   "metadata": {},
   "source": [
    "   * 영국 한 연구원 조사에서 한국인 남성 평균키가 $174.9 cm$ 라는 자료가 있습니다.\n",
    "   * 이것의 연구 결과를 검증해보자고 합니다.\n",
    "   * 여러가지 제약사항 때문에 10개의 표본을 구해서 확인해보자고 합니다.\n",
    "\n",
    "\n",
    "   * 그럼 10명의 표본을 구했을때 t-검정을 하고자 한다면, 한국인 남성 평균키 $174.9 cm$ 를 검증 할 수 있을 까요???"
   ]
  },
  {
   "cell_type": "markdown",
   "metadata": {},
   "source": [
    "일반적인 t-검정 절차는 다음과 같습니다.\n",
    "\n",
    "1. 가지고 있는 데이터로 부터 t-값과 자유도 n-1 을 계산합니다.\n",
    "2. 자유도 n-1 의 t-분포에서 t-값의 위치를 찾아서 p-값을 계산합니다.\n",
    "3. p 값이 유의수준 0.05 보다 작으면 차이가 의미 있다고 판단합니다."
   ]
  },
  {
   "cell_type": "markdown",
   "metadata": {},
   "source": [
    "그런데 아직 1번을 할 수 있는 데이터가 없습니다. 그래서 데이터는 없지만 어느정도 t-값이 나와야 검증 할 수 있는지 역으로 추적해 봅니다.\n",
    "<ol reversed>\n",
    "    <li>p-값은 적어도 유의수준과 동일한 0.05 가 나와야 의미가 있다고 판단합니다.</li>\n",
    "    <li>10 명의 키를 잴 예정이므로 자유도가 9인 t 분포에서 0.05 가 되는 p 값이 필요합니다.</li>\n",
    "    <li>t 값을 만들어낼 적절한 기준값과 표본평균, 표본평균의 표준편차가 필요하다.</li>\n",
    "</ol>"
   ]
  },
  {
   "cell_type": "markdown",
   "metadata": {},
   "source": [
    "   * 기준값은 영국 연구팀이 제시한 평균키인 174.9 cm 입니다. 검정을 해보고 싶은것은 한국 남성 10평의 평균 키가 174.9 cm 보다 작다는 것입니다.\n",
    "   * 자유도 9 인 t 분포에서 t 값이 얼마나 작아야 하는지 살펴보아요."
   ]
  },
  {
   "cell_type": "markdown",
   "metadata": {},
   "source": [
    "  <img src=\"../image/ed113.png\" width=\"500\" height=\"200\" align=\"left\">  Page 183"
   ]
  },
  {
   "cell_type": "markdown",
   "metadata": {},
   "source": [
    "   * t 값이 -1 이면 p 값은 얼마 일까요?\n",
    "   \n",
    "  <img src=\"../image/ed114.png\" width=\"500\" height=\"200\" align=\"left\">  Page 184"
   ]
  },
  {
   "cell_type": "markdown",
   "metadata": {},
   "source": [
    "   * t 가 -1 일 때 p 값은 0.17 이 됩니다.\n",
    "   * R 같은 것으로 계산했을때 유의수준 0.05 가 될려면 t 값은 -1.83 이 나온다고 합니다.\n",
    "   \n",
    "   <img src=\"../image/ed115.png\" width=\"500\" height=\"200\" align=\"left\">  Page 185"
   ]
  },
  {
   "cell_type": "markdown",
   "metadata": {},
   "source": [
    "#### 신뢰구간 설정"
   ]
  },
  {
   "cell_type": "markdown",
   "metadata": {},
   "source": [
    "   * 한국 성인 남성의 키가 174.9 cm 라고 가정하고 실제 사람들의 키를 재서 계산한 t-값이 -1.83 보다 작게 나온다면 p 값은 0.05 보다 작아 집니다. \n",
    "   * 그렇게 나오면 실제 사람들의 키가 작다 라는 근거로 사용 할 수 있습니다.\n",
    "   \n",
    "   \n",
    "   * 그럼 10명의 평균키가 얼마나 작아야 t-값이 -1.83 보다 작은지 역으로 계산해 보면 됩니다.\n",
    "\n",
    "\n",
    "$$\n",
    " 목표 t-값 = \\dfrac{표본평균 - 기준값}{표본평균의 표준편차} \\le -1.83\n",
    "$$"
   ]
  },
  {
   "cell_type": "markdown",
   "metadata": {},
   "source": [
    "   * 기준값은 174.9 cm 입니다.\n",
    "   * 여기서 표본평균과 표본평균의 표준편차 두가지를 알아야 하는데, 지금 두가지를 알 수는 없습니다.\n",
    "   * 우리가 알아야 하는것은 표본평균입니다. 따라서 표본평균의 표준편차를 적절한 값으로 대체 하고자 합니다.\n",
    "   * 이전 아빠키 아들키 에서 아들키의 표준편차를 가져와 사용합니다. 일반적으로 이런 경우에는 공신력있는 기관에서 발표한 자료를 차용 하는 경우도 있습니다.\n",
    "   * 이경우 표준편차는 7.1 cm 입니다.\n",
    "   \n",
    "   \n",
    "   * 관측치를 10개로 할 것이므로\n",
    "$$ s_{\\bar x} = \\dfrac{s_x}{\\sqrt{n}} = \\dfrac{7.1 cm}{\\sqrt{10}} = 2.25 cm $$"
   ]
  },
  {
   "cell_type": "markdown",
   "metadata": {},
   "source": [
    "   * 이제 이값을 목표 t-값에 넣으면\n",
    "   \n",
    "$$ 목표 t-값 = \\dfrac{표본평균 - 174.9 cm}{2.25 cm} \\le -1.83 $$"
   ]
  },
  {
   "cell_type": "markdown",
   "metadata": {},
   "source": [
    "* 이제 표본평균으로 풀어보면 다음과 같습니다.\n",
    "\n",
    "$$ 표본평균 \\le -1.83 \\times 2.25 cm + 174.9 cm = 170.8 cm $$"
   ]
  },
  {
   "cell_type": "markdown",
   "metadata": {},
   "source": [
    "   * 이제 찾던 목표값이 나왔습니다. 10명의 표본을 구해서 그 평균이 170.8 cm 보다 작다면 한국 남성의 키는 174.9 cm 보다 작다고 할 수 있을것 같습니다.\n",
    "   * 테스트를 통과 했다고 해서 통계에서는 확신적인 표현을 자제합니다.\n",
    "   * 임의로 선택한 표본이 모두 키가 작은 경우도 있기 때문입니다."
   ]
  },
  {
   "cell_type": "markdown",
   "metadata": {},
   "source": [
    "   * t 검정은 다양하게 활용이 가능합니다. 예를 들어 한국 남성과 일본 남성 키가 의미 있는지 여부 등등\n",
    "   * 이외에도 선형회귀분석에서 변수의 필요성을 판단할때도 t- 검정을 활용합니다.\n",
    "       * t 값으로 판단한 변수의 중요성이 0 에 가까우면 그 변수는 쓸모가 없고, 충분히 큰 양수이거나 음수 일 경우에 필요있는 변수라고 판단합니다.\n",
    "       * 이부분은 회귀 분석에서 다시 논의 할 것입니다."
   ]
  },
  {
   "cell_type": "markdown",
   "metadata": {},
   "source": [
    "   * 다음절에서는 카이제곱 분포와 f- 분포에 대해서 설명합니다."
   ]
  }
 ],
 "metadata": {
  "kernelspec": {
   "display_name": "R",
   "language": "R",
   "name": "ir"
  },
  "language_info": {
   "codemirror_mode": "r",
   "file_extension": ".r",
   "mimetype": "text/x-r-source",
   "name": "R",
   "pygments_lexer": "r",
   "version": "3.4.3"
  }
 },
 "nbformat": 4,
 "nbformat_minor": 2
}
