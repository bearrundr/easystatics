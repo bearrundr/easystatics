{
 "cells": [
  {
   "cell_type": "markdown",
   "metadata": {},
   "source": [
    "# <span style=\"color:blue\"> 이토록 쉬운 통계 & R </span>"
   ]
  },
  {
   "cell_type": "markdown",
   "metadata": {},
   "source": [
    "<img src=\"../image/cover.png\" width=\"200\" height=\"400\" align=\"left\">  임경덕 지음"
   ]
  },
  {
   "cell_type": "markdown",
   "metadata": {},
   "source": [
    "## PART 3 차이를 예측하는 통계 모형"
   ]
  },
  {
   "cell_type": "markdown",
   "metadata": {},
   "source": [
    "## 16 Sufficient Statistic (충분통계량)- (21일차) "
   ]
  },
  {
   "cell_type": "markdown",
   "metadata": {},
   "source": [
    "   * 충분통계량에 대해서 충분한 정보가 없어서 따로 한번 정리 해보았습니다.\n",
    "   * [Tom Kennedy 교수 강의록입니다] (http://math.arizona.edu/~tgk/) (http://math.arizona.edu/~tgk/466/sufficient.pdf)"
   ]
  },
  {
   "cell_type": "markdown",
   "metadata": {},
   "source": [
    "## 1. Sufficient Statistics"
   ]
  },
  {
   "cell_type": "markdown",
   "metadata": {},
   "source": [
    "### Statistic (통계량)"
   ]
  },
  {
   "cell_type": "markdown",
   "metadata": {},
   "source": [
    "임의복원 표본 $X=\\left\\{X_1, X_2,\\cdots,X_n\\right\\}$ 에서 함수 $T = r(X_1, X_2, \\cdots, X_n)$ 을 통계량 (Statistic) 이라고 합니다."
   ]
  },
  {
   "cell_type": "markdown",
   "metadata": {},
   "source": [
    "#### 통계량 예들"
   ]
  },
  {
   "cell_type": "markdown",
   "metadata": {},
   "source": [
    "$$\n",
    "\\eqalign {\n",
    "{\\bar X_n} &= \\dfrac{1}{n}\\sum_{i=n}^{n}X_n  \\qquad(표본평균) \\\\\n",
    "s^2 &= \\dfrac{1}{n - 1}\\sum_{i=1}^{n}(X_i - {\\bar X}_n)^2 \\qquad(표본편차) \\\\\n",
    "T_1 &= max\\left\\{X_1,X_2,\\cdots,X_n\\right\\} \\\\\n",
    "T_2 &= \\quad5  \\qquad\\qquad\\qquad(1)\n",
    "}\n",
    "$$"
   ]
  },
  {
   "cell_type": "markdown",
   "metadata": {},
   "source": [
    "마지막 식은 이상하게 보이긴 해보 통계량이라고 할 수 있습니다. 만일 $T$ 가 모수 $\\theta$ 와 가까워 지면, 통계량 $T$는 모수의 추정량(estimator) 라고 할 수 있습니다. 표본평균은 모집단 평균 추정량 , 표본편차 는 모집단 편차의 추정량 이라고 할 수 있습니다."
   ]
  },
  {
   "cell_type": "markdown",
   "metadata": {},
   "source": [
    "명백하게 $X_1,X_2,\\cdots,X_n$ 에 대하여 많은 함수가 있으므로, 많은 통계량이 있겠습니다. 좋은 모수의 추정량을 찾을려고 하면, 이들 모든 통계량을 고려해야 하는지 또는 그 중에서 일부만 고려해도 되는 것인지를 알아봐야 합니다.\n",
    "\n",
    "또는 다른말로 표본의 모든 정보를 포함할 수 있는 임의표본 추출의 몇 안되는 키 함수들이 있을것인지에 대한 질문입니다."
   ]
  },
  {
   "cell_type": "markdown",
   "metadata": {},
   "source": [
    "예를들면, 표본평균과 표본편차를 알고 있다고 합시다. 그럼 이것 이외에 임의표본이 모집단에 관한 더 많은 정보를 포함 하고 있을 필요가 있는지 여부입니다. 우리는 항상 하나 또는 그 이상의 미지의 모수를 가지고 주어진 분포 족들(정규분포, 이항분포, 감마분포, 등등) 에 의해서 기술되는 모집단을 가정해 왔습니다. 따라서 이에 대한 질문은 모집단을 표현하고 있는 분포중에서 어떤것을 사용하느냐에 딸려 있다고 할 수 있습니다."
   ]
  },
  {
   "cell_type": "markdown",
   "metadata": {},
   "source": [
    "### Sufficient statistic (충분통계량)"
   ]
  },
  {
   "cell_type": "markdown",
   "metadata": {},
   "source": [
    "휴리스틱한 방법으로 충분통계량에 대해서 정의하는 것으로 시작합니다. $T$ 값을 알고 있는 통계학자가 전체 표본을 알고 있는 통계학자 처럼 미지의 모수를 추정 할 수 있다면 T 는 충분 통계량이라고 할 수 있습니다."
   ]
  },
  {
   "cell_type": "markdown",
   "metadata": {},
   "source": [
    "수학적 정의는 다음과 같습니다. \n",
    "\n",
    "통계량 $T = r(X_1,X_2,\\cdots,X_n)$ 이 다음 조건을 만족하면 충분통계량 이라고 할 수 있습니다. \n",
    "\n",
    "$T=t$ 와 $\\theta$ 가 주어진 조건에서 $X_1,X_2,\\cdots,X_n$ 의 조건 분포가 $\\theta$ 에 의존하지 않으면, 통계량 $T$ 는 충분통계량이다."
   ]
  },
  {
   "cell_type": "markdown",
   "metadata": {},
   "source": [
    "#### 수학적 정의 유도"
   ]
  },
  {
   "cell_type": "markdown",
   "metadata": {},
   "source": [
    "수학적 정의를 유도하기 의해서 다음과 같은 사고실험을 해보아요. $T = r(X_1,X_2,\\cdots,X_n)$ 를 충분통계량 이라고 합시다. 이제 두명의 통계학자가 있는데, 각각을 A,B 라고 하면 통계학자 A 는 전체 임의 표본을 알고 있습니다. 반면에 통계학자 B 는 단지 T 의 값 $t$ 만 알고 있습니다."
   ]
  },
  {
   "cell_type": "markdown",
   "metadata": {},
   "source": [
    "$\\theta$ 와 $T$ 가 조건으로 주어진 $X_1,X_2,\\cdots,X_n$  의 조건분포가 $\\theta$ 에 독립이기 때문에 통계학자 B 는 조건분포를 알 수 있습니다. 따라서 B 는 조건분포에서 컴퓨터를 사용하여 임의표본 $X'_1,X'_2,\\cdots,X'_n$ 을 생성하였습니다.  B 의 임의표본은 미지의 모수를 갖고 있는 모집단으로 부터 추출한 임의표본과 같다고 할 수 있어서, 통계학자 B 는 통계학자 A 가 그의 임의표본 $X_1,X_2,\\cdots,X_n$ 으로 하는것과 같은 것을 $X'_1,X'_2,\\cdots,X'_n$ 를 이용하여 할 수 있습니다."
   ]
  },
  {
   "cell_type": "markdown",
   "metadata": {},
   "source": [
    "충분통계량에 대한 수학적 정의는 이와 같은 휴리스틱한 정의를 포함하는 개념이어야 합니다."
   ]
  },
  {
   "cell_type": "markdown",
   "metadata": {},
   "source": [
    "충분통계량을 찾는 것이라든지 통계량이 충분하다는 것을 확인 하기위한 정의를 사용하기는 어렵습니다. 다행히도 충분통계량을 쉽게 찾도록 해주는 정리가 있습니다."
   ]
  },
  {
   "cell_type": "markdown",
   "metadata": {},
   "source": [
    "**Theorem 1.** (인수분해 정리: Factorization Theorem)\n",
    "\n",
    "\n",
    "$X_1,X_2,\\cdots,X_n$ 를 결합밀도 함수 $f(x_1,x_2,\\cdots,x_n \\lvert \\theta)$ 에서 임의표본 이라고 하자. 그러면 $T = r(X_1,X_2,\\cdots,X_n)$ 충분통계량 인것과 \n",
    "$$f(x_1,x_2,\\cdots,x_n \\lvert \\theta) = u(x_1,x_2,\\cdots,x_n)\\;v(r(x_1,x_2,\\cdots,x_n),\\theta) \\qquad (2)$$"
   ]
  },
  {
   "cell_type": "markdown",
   "metadata": {},
   "source": [
    "는 서로 필요충분조건(동형, 같다) 입니다."
   ]
  },
  {
   "cell_type": "markdown",
   "metadata": {},
   "source": [
    "여기서 $u, v$ 는 non-negative 함수입니다. 함수 $u$ 는 전체 임의 표본 에 의존하며 미지 모수 $\\theta$ 에 의존하지 않습니다. 함수 $v$ 는 $theta$ 와 함수 $r(x_1,x_2,\\cdots,x_n)$ 의 값에 의존합니다."
   ]
  },
  {
   "cell_type": "markdown",
   "metadata": {},
   "source": [
    "$f(t)$ 가 one to one 함수이고 $T$ 가 충분통계량이면 $f(T)$ 는 충분통계량이다. 또한 충분통계량에 0 이 아닌 상수를 곱하면 또 다른 충분통계량이 된다."
   ]
  },
  {
   "cell_type": "markdown",
   "metadata": {},
   "source": [
    "#### Example (정규분포, 미지 평균, 분산은 알고 있음)"
   ]
  },
  {
   "cell_type": "markdown",
   "metadata": {},
   "source": [
    "평균 $\\mu$ 를 미지이고, $\\sigma^2$ 를 알고 있는 정규분포를 생각하자. 결합밀도 함수는 \n",
    "$$\n",
    "\\eqalign{\n",
    "f(x_1,x_2,\\cdots,x_n \\lvert \\mu) &= (2\\pi)^{-n/2}\\sigma^{-n}\\exp\\left(\\dfrac{-1}{2\\sigma^2}\\sum_{i=1}^{n}(x_i - \\mu)^2\\right) \\\\\n",
    "&= (2\\pi)^{-n/2}\\sigma^{-n}\\exp\\left(\\dfrac{-1}{2\\sigma^2}\\sum_{i=1}^{n}x^2_i - \\dfrac{\\mu}{\\sigma^2}\\sum_{i=1}^{n}x_i - \\dfrac{n\\mu^2}{2\\sigma^2}\\right)\n",
    "}\n",
    "$$"
   ]
  },
  {
   "cell_type": "markdown",
   "metadata": {},
   "source": [
    "$\\sigma^2$ 을 알고 있으므로, \n",
    "$$u(x_1,x_2,\\cdots,x_n) = (2\\pi)^{-n/2}\\sigma^{-n}\\exp\\left(\\dfrac{-1}{2\\sigma^2}\\sum_{i=1}^{n}x^2_i\\right)$$"
   ]
  },
  {
   "cell_type": "markdown",
   "metadata": {},
   "source": [
    "$$v(r(x_1,x_2,\\cdots,x_n),\\mu) = (2\\pi)^{-n/2}\\sigma^{-n}\\exp\\left(-\\dfrac{n\\mu^2}{2\\sigma^2} + \\dfrac{\\mu}{\\sigma^2}r(x_1,x_2,\\cdots,x_n) \\right)$$"
   ]
  },
  {
   "cell_type": "markdown",
   "metadata": {},
   "source": [
    "여기서 $r(x_1,x_2,\\cdots,x_n) = \\sum_{i=1}^{n}x_i$  이다."
   ]
  },
  {
   "cell_type": "markdown",
   "metadata": {},
   "source": [
    "이것은 인수분해 정리에 의하여 $\\sum_{i=1}^{n}X_i$  은 충분통계량이다. 따라서 표본평균 ${\\bar X}_{n}$ 은 충분통계량 입니다."
   ]
  },
  {
   "cell_type": "markdown",
   "metadata": {},
   "source": [
    "#### Example (Uniform 모집단, 연속균등분포)"
   ]
  },
  {
   "cell_type": "markdown",
   "metadata": {},
   "source": [
    "$X_i$ 가 구간 $[0,\\theta]$ 에서 연속균등분포 라고 하자. $\\theta$ 는 미지수 입니다. 그렇다면 결합확률밀도는 \n",
    "$$f(x_1,\\cdots,x_n \\lvert \\theta) = \\theta^{-n}{\\mathbb 1} \\;\\;\\;(x_i \\le \\theta, i=1,2,\\cdots,n)$$"
   ]
  },
  {
   "cell_type": "markdown",
   "metadata": {},
   "source": [
    "여기서 ${\\mathbb 1}(E)$ 는 지시함수(Indicator function) 입니다. 사건(Event) 가 발생하면 1 이고, 아니면 0 입니다."
   ]
  },
  {
   "cell_type": "markdown",
   "metadata": {},
   "source": [
    "이제 $(x_i \\le \\theta, i=1,2,\\cdots,n) $ 과 $max\\left\\{x_1,x_2,\\cdots,x_n\\right\\} \\lt \\theta$ 는 필요충분(동형) 이다."
   ]
  },
  {
   "cell_type": "markdown",
   "metadata": {},
   "source": [
    "따라서 \n",
    "\n",
    "$$f(x_1,\\cdots,x_n \\lvert \\theta) = \\theta^{-n}{\\mathbb 1}(max\\left\\{x_1,x_2,\\cdots,x_n\\right\\} \\lt \\theta)$$"
   ]
  },
  {
   "cell_type": "markdown",
   "metadata": {},
   "source": [
    "인수분해 정리에 의해 $T=max\\left\\{x_1,x_2,\\cdots,x_n\\right\\}$ 는 충분통계량입니다."
   ]
  },
  {
   "cell_type": "markdown",
   "metadata": {},
   "source": [
    "이 경우에 표본평균은 어떻게 되나요? 이 예제에서 충분통계량이 될까요? 인수분해 정리에 의하면 ${\\mathbb 1}(max\\left\\{x_1,x_2,\\cdots,x_n\\right\\} \\lt \\theta)$ 이 표본평균과 $\\theta$ 함수로 되어야만 표본평균이 충분통계량이 될 수 있습니다. 따라서 이번 예제에서는 충분통계량이 될 수 없습니다."
   ]
  },
  {
   "cell_type": "markdown",
   "metadata": {},
   "source": [
    "#### Example (감마분포, $\\alpha$ 는 미지모수, $\\beta$ 는 알고 있음)"
   ]
  },
  {
   "cell_type": "markdown",
   "metadata": {},
   "source": [
    "분포가 감마분포이고 $beta$ 는 알고 $\\alpha$ 는 모른다고 하자. 결합밀도함수는 \n",
    "$$\n",
    "f(x_1,\\cdots,x_n \\lvert \\alpha) = \\dfrac{\\beta^{n\\alpha}}{\\Gamma(\\alpha)^n}\\left(\\prod_{i=1}^{n}x^{\\alpha-1}_i \\right)\\exp\\left(-\\beta \\sum_{i=1}^{n}x_i \\right)\n",
    "$$"
   ]
  },
  {
   "cell_type": "markdown",
   "metadata": {},
   "source": [
    "여기서\n",
    "$$\n",
    "\\prod_{i=1}^{n}x^{\\alpha-1}_i = \\exp \\left( (\\alpha - 1) \\sum_{i=1}^n \\ln(x_i)\\right)\n",
    "$$"
   ]
  },
  {
   "cell_type": "markdown",
   "metadata": {},
   "source": [
    "가 되므로 $T=\\sum_{i=1}^{n}\\ln \\left(X_i)\\right)$ 는 충분 통계량이 됩니다. 참고로 $\\exp(T) = \\prod_{i=1}^{n} X_i$ 도 또한 충분통계량이 됩니다. 그러나 표본평균은 충분통계량이 되지 못합니다."
   ]
  },
  {
   "cell_type": "markdown",
   "metadata": {},
   "source": [
    "이제 정규분포에 대해서 다시 논의 해요. 그러나 이번에는 $\\mu$ 와 $\\sigma^2$ 둘다 모두 미지의 모수입니다. 그렇다면 표본평균은 충분통계량이 될 수 없습니다. 이 경우 충분성을 얻기 위해서 하나 이상 통계량을 사용할 필요가 있습니다. 충분성 정의(휴리스틱 과 수학적 모두) 는 자연스럽게 여러 통계량으로 확장 가능합니다."
   ]
  },
  {
   "cell_type": "markdown",
   "metadata": {},
   "source": [
    "이제 $k$ 통계량을 고려 합시다.\n",
    "$$\n",
    "T_i = r(X_1,X_2,\\cdots,X_n), \\qquad  i = 1,2,\\cdots,k \\qquad (3)\n",
    "$$"
   ]
  },
  {
   "cell_type": "markdown",
   "metadata": {},
   "source": [
    "이제 만일 $T_1,T_2,\\cdots,T_k$ 이 다음 조건을 만족하면 결합 충분 통계량이라고 할 수 있습니다. \n",
    "$T_1,T_2,\\cdots,T_k$ 을 알고 있는 통계학자가 전제 임의표본을 알고 있는 통계학자 처럼 미지의 모수를 추정하는 작업을 할 수 있으면 결합충분통계량이라고 할 수 있습니다."
   ]
  },
  {
   "cell_type": "markdown",
   "metadata": {},
   "source": [
    "일반적으로 이런 상황에서는 $\\theta$ 는 여러개의 모수를 나타내며, 통계량의 갯수, $k$, 는 미지의 모수 갯수와 같다. "
   ]
  },
  {
   "cell_type": "markdown",
   "metadata": {},
   "source": [
    "수학적 정의는 다음과 같습니다."
   ]
  },
  {
   "cell_type": "markdown",
   "metadata": {},
   "source": [
    "통계량 $T_1,T_2,\\cdots,T_k$ 이 다음조건을 만족하면 결합충분 통계량입니다.\n",
    "\n",
    "주어진 $T_i = t_i\\;for\\; 1 = 1,2,\\cdots,n$ 와 $\\theta$ 에 대해서 $X_1,X_2,\\cdots,X_n$ 의 조건결합분포가 $\\theta$ 에 의존하지 않는다.\n"
   ]
  },
  {
   "cell_type": "markdown",
   "metadata": {},
   "source": [
    "다음 정리가 있으므로 이 정리를 사용하지는 않습니다."
   ]
  },
  {
   "cell_type": "markdown",
   "metadata": {},
   "source": [
    "**Theorem 2.** (인수분해 정리: Factorization Theorem)"
   ]
  },
  {
   "cell_type": "markdown",
   "metadata": {},
   "source": [
    "$X_1,X_2,\\cdots,X_n$ 를 결합밀도 함수 $f(x_1,x_2,\\cdots,x_n \\lvert \\theta)$ 에서 임의표본 이라고 하자. \n",
    "\n",
    "그러면 통계량 \n",
    "$$T_i = r_i(X_1,X_2,\\cdots,X_n), \\;\\;\\; i = 1,2,\\cdots,k \\qquad (4)$$\n",
    "충분통계량 인것과 \n",
    "$$\n",
    "\\eqalign {\n",
    "f(x_1,x_2,\\cdots,x_n \\lvert \\theta) = &u(x_1,x_2,\\cdots,x_n) \\\\\n",
    "&v(r_i(x_1,x_2,\\cdots,x_n),r_2(x_1,x_2,\\cdots,x_n),\\cdots,r_k(x_1,x_2,\\cdots,x_n),\\theta)\n",
    "}\n",
    "$$"
   ]
  },
  {
   "cell_type": "markdown",
   "metadata": {},
   "source": [
    "여기서 $u$ 와 $v$ 는 non-negative 함수 입니다. 함수 $u$ 는 전체 임의 표본 $x_1,\\cdots,x_n$ 에 의존하지만, 미지 모수 $\\theta$ 는 아니다. "
   ]
  },
  {
   "cell_type": "markdown",
   "metadata": {},
   "source": [
    "$v$ 는 $\\theta$ 에 의존하며, 임의표본은 단지 $r_i(x_1,\\cdots,x_n), i=1,2,\\cdots,k$ 로 만 의존 합니다."
   ]
  },
  {
   "cell_type": "markdown",
   "metadata": {},
   "source": [
    "충분통계량일 경우 one to one 함수에 충분통계량을 적용하여 또다른 충분 통계량을 얻은것을 기억해보세요. 이것을 일반화 하면 다음과 같습니다.\n",
    "\n",
    "$g(t_1,t_2,\\cdots,t_k)$ 를 one to one 이고 ${\\mathbb R}^k$ 에서 값을 갖는다고 하자. 이때 $T_1,T_2,\\cdots,T_k$ 가 충분통계량이면 $g_i(T_1,T_2,\\cdots,T_k)$ 도 충분통계량이 됩니다."
   ]
  },
  {
   "cell_type": "markdown",
   "metadata": {},
   "source": [
    "이제 이제 2개의 예제를 다시 한번 살펴 봅시다."
   ]
  },
  {
   "cell_type": "markdown",
   "metadata": {},
   "source": [
    "먼저 미지의 표본평균과 표본편차를 갖고 있는 정규분포를 생각해보자.\n",
    "\n",
    "처음예제는 미지의 표본평균과 분산을 갖고 있는 정규분포입니다. 이전 예제에서 \n",
    "\n",
    "$$\n",
    "T_1 = \\sum_{i=1}^nX_i,\\qquad T_2 = \\sum_{i=1}^{n}X^2_i\n",
    "$$"
   ]
  },
  {
   "cell_type": "markdown",
   "metadata": {},
   "source": [
    "는 결합 충분 통계량 입니다. 따라서 이것을 이용하면, 표본평균과 표본분산 역시 결합 충분 통계량 이됩니다 (이경우 $g(t_1,t_2)$ 를 구해보자??)"
   ]
  },
  {
   "cell_type": "markdown",
   "metadata": {},
   "source": [
    " "
   ]
  },
  {
   "cell_type": "markdown",
   "metadata": {},
   "source": [
    "이번에는 감마 분포인 경우 $\\alpha$, $\\beta$ 를 미지모수로 보면\n",
    "$$\n",
    "T_1 = \\sum_{i=1}^nX_i,\\qquad T_2 = \\sum_{i=1}^{n}\\ln (X_i)\n",
    "$$"
   ]
  },
  {
   "cell_type": "raw",
   "metadata": {},
   "source": [
    "가 결합 충분 통계량이 됩니다."
   ]
  },
  {
   "cell_type": "markdown",
   "metadata": {},
   "source": [
    "## 2. Exercise"
   ]
  },
  {
   "cell_type": "markdown",
   "metadata": {},
   "source": [
    "1. 감마 분포에서 두개의 미지 모수일때 sum ($\\alpha + \\beta$) 와 곱($\\alpha\\beta$) 이 충분통계량 이 됩니다.\n",
    "2. 다음 구간 $[\\theta_1, \\theta_2]$ 에서 연속균등분포 일때, 두개의 통계량이 충분통계량인것을 보여라.\n",
    "3. 포아송 분포나 기하분포 인경우 충분 통계량을 구하라\n",
    "4. 베타 분포일 경우 충분 통계량을 구하시오\n"
   ]
  }
 ],
 "metadata": {
  "kernelspec": {
   "display_name": "R",
   "language": "R",
   "name": "ir"
  },
  "language_info": {
   "codemirror_mode": "r",
   "file_extension": ".r",
   "mimetype": "text/x-r-source",
   "name": "R",
   "pygments_lexer": "r",
   "version": "3.4.3"
  }
 },
 "nbformat": 4,
 "nbformat_minor": 2
}
