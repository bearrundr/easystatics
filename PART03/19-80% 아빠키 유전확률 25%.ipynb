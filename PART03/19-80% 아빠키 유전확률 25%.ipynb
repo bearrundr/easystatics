{
 "cells": [
  {
   "cell_type": "markdown",
   "metadata": {},
   "source": [
    "# <span style=\"color:blue\"> 이토록 쉬운 통계 & R </span>"
   ]
  },
  {
   "cell_type": "markdown",
   "metadata": {},
   "source": [
    "<img src=\"../image/cover.png\" width=\"200\" height=\"400\" align=\"left\">  임경덕 지음"
   ]
  },
  {
   "cell_type": "markdown",
   "metadata": {},
   "source": [
    "## PART 3 차이를 예측하는 통계 모형"
   ]
  },
  {
   "cell_type": "markdown",
   "metadata": {},
   "source": [
    "## 80% 아빠키 유전확률, 25% (27 일차)"
   ]
  },
  {
   "cell_type": "markdown",
   "metadata": {},
   "source": [
    "   * 두 연속형 변수의 관계 설명\n",
    "   * 간단 선형회귀모형에 대한 설명"
   ]
  },
  {
   "cell_type": "markdown",
   "metadata": {},
   "source": [
    "### 데이터 분석이란?"
   ]
  },
  {
   "cell_type": "markdown",
   "metadata": {},
   "source": [
    "   * 데이터 속에 있는 차이를 확인하고 설명하는 과정\n",
    "   * 변수 간의 관계를 확인하고 관계가 의미 있는지 없는지 테스트"
   ]
  },
  {
   "cell_type": "markdown",
   "metadata": {},
   "source": [
    "#### 데이터 속의 차이는 "
   ]
  },
  {
   "cell_type": "markdown",
   "metadata": {},
   "source": [
    "   * 두 범주형 변수의 관계 는 카이제곱 검정\n",
    "   * 연속형 변수화 범주형 변수의 관계는 분산분석과 F-검정"
   ]
  },
  {
   "cell_type": "markdown",
   "metadata": {},
   "source": [
    "#### 두 연속형 변수 인 경우에는"
   ]
  },
  {
   "cell_type": "markdown",
   "metadata": {},
   "source": [
    "   * 상관계수로 설명\n",
    "   * 상관계수에 대한 유의성 검정\n",
    "   * 단순 선형회귀 모델\n"
   ]
  },
  {
   "cell_type": "markdown",
   "metadata": {},
   "source": [
    "아빠키가 180cm 이면 아들키는 얼마일까요?  선형회귀모델에서 진행합니다."
   ]
  },
  {
   "cell_type": "markdown",
   "metadata": {},
   "source": [
    "### 다시 한번 상관계수"
   ]
  },
  {
   "cell_type": "markdown",
   "metadata": {},
   "source": [
    "   * 아빠 키와 아들 키의 두 연속형 변수를 산점도로 표현하고 둘사이의 관계가 0.5 라는 상관계수를 구했습니다."
   ]
  },
  {
   "cell_type": "markdown",
   "metadata": {},
   "source": [
    "<img src=\"../image/ed141.png\" width=\"300\" height=\"300\" align=\"left\">  Page 215"
   ]
  },
  {
   "cell_type": "markdown",
   "metadata": {},
   "source": [
    "   * 산점도에서 보면 아빠키의 평균과 아들 키의 평균을 기준으로 제 1, 3 사분면에 상대적으로 관측치가 몰려 있습니다.\n",
    "   * 다시한번 상관계수를 구하기 위해서 표준화된 산점도로 다시 표현 해보면\n",
    "\n",
    "<img src=\"../image/ed142.png\" width=\"300\" height=\"300\" align=\"left\">  Page 216"
   ]
  },
  {
   "cell_type": "markdown",
   "metadata": {},
   "source": [
    "   * 여기서 상관계수는 **09-35% 부전자전, 유전연결고리** 에서 구했으며, 0.5 가 나왔습니다. 이것의 대체적인 의미는 아빠키가 크면 대체로 아들키도 크다는 경향을 의미 합니다.\n",
    "   * 이제는 내키가 170 cm 라면 아들키는 얼마까지 자랄지 예측을 선형회귀 모형(Linear regression model)으로 진행합니다."
   ]
  },
  {
   "cell_type": "markdown",
   "metadata": {},
   "source": [
    "### 선형회귀모형"
   ]
  },
  {
   "cell_type": "markdown",
   "metadata": {},
   "source": [
    "#### 추세선\n",
    "\n",
    "상관계수 값을 기울기로 하여 표준화된 산점도에서 원점을 지나는 직선 입니다. 다음 그림에서 추세선을 살펴보세요\n",
    "\n",
    "<img src=\"../image/ed143.png\" width=\"300\" height=\"300\" align=\"left\">  Page 217"
   ]
  },
  {
   "cell_type": "markdown",
   "metadata": {},
   "source": [
    "이 추세선은 기울기가 상관계수이고 원점을 지나는 직선의 방정식이 되므로\n",
    "\n",
    "$$y = bx$$ \n",
    "\n",
    "처럼 표시 할 수 있습니다."
   ]
  },
  {
   "cell_type": "markdown",
   "metadata": {},
   "source": [
    "이식의 의미는 \n",
    "$$\n",
    "표준화된 아들 키 = 0.5 \\times 표준화된 아빠 키\n",
    "$$\n",
    "\n",
    "일반적으로 세로축에 관심변수를 가로축에 설명변수를 배치 합니다."
   ]
  },
  {
   "cell_type": "markdown",
   "metadata": {},
   "source": [
    "이제 이것을 표준화된 키가 아닌 실제 데이터로 표현되는 식으로 표현하고자 합니다.\n",
    "\n",
    "* 1단계 : 상관계수로 표준화된 두 변수 관계를 표현 합니다.\n",
    "$$\n",
    "\\dfrac{(아들 키 - 아들 키의 평균)}{아들 키의 표준편차} \\qquad = 0.5 \\times \\dfrac{(아빠 키 - 아빠 키의 평균)}{아빠 키의 표준편차}\n",
    "$$"
   ]
  },
  {
   "cell_type": "markdown",
   "metadata": {},
   "source": [
    "* 2단계: 양변에 아들 키의 표준편차를 곱합니다.\n",
    "$$\n",
    "(아들 키 - 아들 키의 평균) = 0.5 \\times \\dfrac{(아빠 키 - 아빠 키의 평균)}{아빠 키의 표준편차} \\qquad \\times (아들 키의 표준편차)\n",
    "$$"
   ]
  },
  {
   "cell_type": "markdown",
   "metadata": {},
   "source": [
    "위 식은 좀더 깔끔하게 정리 하면\n",
    "\n",
    "$$\n",
    "(아들 키 - 아들 키의 평균) = 0.5 \\times \\dfrac{(아들 키의 표준편차)}{아빠 키의 표준편차} \\qquad \\times (아빠 키 - 아빠 키의 평균))\n",
    "$$"
   ]
  },
  {
   "cell_type": "markdown",
   "metadata": {},
   "source": [
    "* 3단계: 양변에 아들키의 평균을 더합니다.\n",
    "$$\n",
    "아들 키 = 0.5 \\times \\dfrac{(아들 키의 표준편차)}{아빠 키의 표준편차} \\qquad \\times (아빠 키 - 아빠 키의 평균)) + 아들 키의 평균\n",
    "$$"
   ]
  },
  {
   "cell_type": "markdown",
   "metadata": {},
   "source": [
    "이제 이식에 실제 값을 넣어보아요.\n",
    "\n",
    "$$\n",
    "아들 키 = 0.5 \\times \\dfrac{7.15cm}{6.97cm} \\qquad \\times (아빠 키 - 171.93cm)) + 174.46cm\n",
    "$$"
   ]
  },
  {
   "cell_type": "markdown",
   "metadata": {},
   "source": [
    "이 식을 다 정리하면 다음과 같습니다.\n",
    "$$\n",
    "아들키 = 0.514 \\times 아빠키 + 86.07 cm\n",
    "$$"
   ]
  },
  {
   "cell_type": "markdown",
   "metadata": {},
   "source": [
    "이 식을 표준화 전 산점도에 표현해봅니다.\n",
    "\n",
    "<img src=\"../image/ed144.png\" width=\"300\" height=\"300\" align=\"left\">  Page 221"
   ]
  },
  {
   "cell_type": "markdown",
   "metadata": {},
   "source": [
    "이제 구한 식을 이용해서 아빠 키가 170 cm 인 경우 기대해볼 수 있는 아들키는 \n",
    "$$\n",
    "0.514 \\times 170cm + 86.07cm = 172.77cm\n",
    "$$\n",
    "\n",
    "정도 입니다."
   ]
  },
  {
   "cell_type": "markdown",
   "metadata": {},
   "source": [
    "이 식을 이용해서 5명의 아빠키를 가지고 구한 아들키의 예측값 입니다.\n",
    "\n",
    "\n",
    "\n",
    "<img src=\"../image/ed145.png\" width=\"500\" height=\"300\" align=\"left\">  Page 222"
   ]
  },
  {
   "cell_type": "markdown",
   "metadata": {},
   "source": [
    "구해진 표에 대한 특징을 살펴보면 다음과 같습니다.\n",
    "\n",
    "   * 아빠 키의 평균키 정도에서 아들키의 기대값은 아들 키의 평균에 가깝습니다.\n",
    "   * 평균 보다 작은 아빠 키인 경우 기대 되는 아들키는 평균에서 기대되는 값보다 큽니다.\n",
    "      * 예를 들어 아빠키가 150 cm 이면 아들키는 13cm 큰 163.2cm 가 됩니다.\n",
    "   * 평균보다 큰 아빠키인 경우 기대되는 아들키는 평균에서 기대되는 값보다 작습니다.\n",
    "      * 예를 들어 아빠키가 190cm 인 경우 기대되는 아들키는 183.7cm 가 됩니다."
   ]
  },
  {
   "cell_type": "raw",
   "metadata": {},
   "source": [
    "즉 아빠키가 크다고 해서 아들키가 무작정 크는 것이 아니고 그 시대 평균값으로 돌아 온다는 것입니다. regression (퇴보, 감소) 는 이런의미에서 사용했습니다."
   ]
  },
  {
   "cell_type": "markdown",
   "metadata": {},
   "source": [
    "아들키가 부모의 영향을 받는것은 사실이지만, 그 영향이 100\\% 가 아니고 설명할 수 없는 개인적인 차이들이 있다는 것입니다."
   ]
  },
  {
   "cell_type": "markdown",
   "metadata": {},
   "source": [
    "### 부모 맘 같지 않은 자식"
   ]
  },
  {
   "cell_type": "markdown",
   "metadata": {},
   "source": [
    "예제에서 아들 키에 대한 회귀식은 y 을 아들 키, x 를 아빠키로 하면\n",
    "$$\n",
    "y = 0.514x + 86.07\n",
    "$$ \n",
    "\n",
    "로 예측이 가능합니다. 그러나 아빠키로 인하여 아들키를 100% 정확하게 예측하는 것은 아닙니다. 그 증거로 다시 산점도를 살펴 보기로 합니다."
   ]
  },
  {
   "cell_type": "markdown",
   "metadata": {},
   "source": [
    "<img src=\"../image/ed146.png\" width=\"300\" height=\"300\" align=\"left\">  Page 223"
   ]
  },
  {
   "cell_type": "markdown",
   "metadata": {},
   "source": [
    "산점도에서 아빠 키가 171cm 에서 173cm 사이로 평균 키 정도의 가족을 살펴보면 아들 키의 예측값은 174cm 에서 175cm 정도이나, 산점도에서 보면 모든 아들 키가 $174 \\sim 175cm$ 은 아닙니다. 174cm 보다 작은 키 아들도 , 175cm 보다 큰 아들도 있습니다. 이를 다시 히스토그램으로 보면 다음과 같습니다."
   ]
  },
  {
   "cell_type": "markdown",
   "metadata": {},
   "source": [
    "<img src=\"../image/ed147.png\" width=\"500\" height=\"300\" align=\"left\">  Page 224"
   ]
  },
  {
   "cell_type": "markdown",
   "metadata": {},
   "source": [
    "대부분이 175cm 정도의 키를 가지고 있으나, 일부는 190cm 이상 이고 일부는 150cm 보다 작기도 합니다. 즉 여기서도 전체 분산에 은 그룹에 대한 분산 과 개인의 그룹에 대한 분산정도가 나올 수 있습니다. 왜냐하면 아빠 키가 절대적으로 아들키에 100% 영향을 주는 것은 아니기 때문입니다."
   ]
  },
  {
   "cell_type": "markdown",
   "metadata": {},
   "source": [
    "#### 아빠 키가 아들 키에 주는 영향력은 어느 정도 일까 (결정계수 Coefficient of Determination)"
   ]
  },
  {
   "cell_type": "markdown",
   "metadata": {},
   "source": [
    "   * 앞서 설명한 F-분포에서 살펴본 분산분해 개념을 이용하면 선형회귀 모형도 관심변수를 설명 할 수 있습니다.\n",
    "   * 편의상 아들 키를 $y$, 아빠 키를 $x$ 로 표시하면 선형회귀모형은 다음과 같습니다.\n",
    "   $$\n",
    "   y = 0.514x + 86.07 + e\n",
    "   $$"
   ]
  },
  {
   "cell_type": "markdown",
   "metadata": {},
   "source": [
    "$e$ 는 아빠 키로만 설명 할 수 없는 부분, 에러라고 표시해서 $e$ 로 표시합니다. 따라서 $e$ 를 배제한 식 은 실제 값하고 다를 수 있으므로 ${\\hat y}$ 로 표시합니다. 즉\n",
    "$$\n",
    "{\\hat y} = 0.514x + 86.07\n",
    "$$ \n",
    "\n",
    "입니다."
   ]
  },
  {
   "cell_type": "markdown",
   "metadata": {},
   "source": [
    "#### 회귀분석에서 분산분석"
   ]
  },
  {
   "cell_type": "markdown",
   "metadata": {},
   "source": [
    "분산분석에서 한것과 같은 방식으로 제곱합을 구하려고 합니다. 실제값은 $y$, 그리고 $y$ 의 평균값${\\bar y}$, 그리고 나머지는 예측값 ${\\hat y}$ 로 나누어서 다음과 같은 표를 만들었습니다."
   ]
  },
  {
   "cell_type": "markdown",
   "metadata": {},
   "source": [
    "<img src=\"../image/ed148.png\" width=\"500\" height=\"300\" align=\"left\">  Page 225"
   ]
  },
  {
   "cell_type": "markdown",
   "metadata": {},
   "source": [
    "-1. $(y - {\\hat y})$ 의 제곱 구하기\n",
    "   * 사실상 분산 의미\n",
    "   * 계산된 값은 55048.8 입니다.\n",
    "   \n",
    "$$\\sum_{i=1}^{1078} (y_i - {\\bar y})^2 = 55,049 $$\n"
   ]
  },
  {
   "cell_type": "markdown",
   "metadata": {},
   "source": [
    "-2. $({\\hat y} - {\\bar y})$ 의 제곱 구하기\n",
    "   * 예측값과 평균값의 차이 입니다.\n",
    "   * 즉 평균값으로 구한 예측치와 회귀분석으로 구한 예측치의 차이로 값의 차이가 크다는 것은 평균값 보다 회귀분석으로 구한 예측치 값이 더 좋은지 의미 합니다.\n",
    "   \n",
    "$$\n",
    "\\sum_{i=1}^{1078}({\\hat y}_i - {\\bar y})^2 = 13,836\n",
    "$$"
   ]
  },
  {
   "cell_type": "markdown",
   "metadata": {},
   "source": [
    "-3. $(y - {\\hat y})$ 의 제곱 구하기\n",
    "   * 분산분석과 같이 잘 알지 못하는 부분 즉 에러 부분입니다. ${\\hat y}$ 로 예측하지만, 실제값 $y$ 와 차이 입니다. 즉 $e$ 입니다.\n",
    "   * 계산을 하면 다음과 같습니다.\n",
    "   \n",
    "$$\n",
    "\\sum_{i=1}^{1078}(y_i - {\\hat y}_i)^2 = 41,213\n",
    "$$"
   ]
  },
  {
   "cell_type": "markdown",
   "metadata": {},
   "source": [
    "제곱합의 관계는 \n",
    "$$\n",
    "55,049 = 13,836 + 41,213\n",
    "$$"
   ]
  },
  {
   "cell_type": "markdown",
   "metadata": {},
   "source": [
    "#### 회귀분석모형이 설명하는 부분의 비중은 ?"
   ]
  },
  {
   "cell_type": "markdown",
   "metadata": {},
   "source": [
    "$$\n",
    "\\dfrac{13,836}{55,049} = 0.25\n",
    "$$\n",
    "\n",
    "즉 25% 입니다. 아빠 키로 아들 키를 설명 할 수 있는 부분이 25% 정도 입니다."
   ]
  },
  {
   "cell_type": "markdown",
   "metadata": {},
   "source": [
    "전제 분산의 크기 중에서 모형이 설명하는 부분을 비율로 표현한것을 **결정계수(Coefficient of determination)** 이라고 하고 $R^2$ 로 표시 합니다. 즉 아빠 키와 아들 키의 회귀분석에서 구한 것인 경우 $R^2$ = 0.25 입니다."
   ]
  },
  {
   "cell_type": "markdown",
   "metadata": {},
   "source": [
    "$R^2$ 으로 표현한 이유은 상관계수 $r_{xy}$ 의 제곱이기 때문입니다."
   ]
  },
  {
   "cell_type": "markdown",
   "metadata": {},
   "source": [
    "#### 다양한 회귀분석 모형 의 모습"
   ]
  },
  {
   "cell_type": "markdown",
   "metadata": {},
   "source": [
    "   * 지금 까지 설명한 것은 간단한 모형으로, **단순선형회귀(Simple Linear Regression)** 이라고 합니다.\n",
    "   * 이외에도 연속형 변수가 1개가 아닌 여러개의 연속형 설명변수를 사용한 경우 다중선형회귀분석(multiple linear regression) 이라 합니다.\n",
    "   * 결과가 y 값 하나가 아닌 $\\left\\{y_1,\\cdots,y_n\\right\\}$ 인 경우 다변량 회귀분석\n",
    "   * 결과가 연속형 관심변수가 아닌 0, 1 이진인 경우 로지스틱 회귀분석 등등으로 확장 나갑니다."
   ]
  },
  {
   "cell_type": "markdown",
   "metadata": {},
   "source": [
    "#### 회귀분석이란??"
   ]
  },
  {
   "cell_type": "markdown",
   "metadata": {},
   "source": [
    "많은 설명 변수 중에서 진짜 모형에 필요한 의미 있는 변수를 찾기 위해 t-검정을 사용하고, 전체 모형이 관심 변수를 설명하는 양으로 F-검정을 활용합니다. 이런식으로 필요한 변수를 선택하고, 모형의 효율을 따져 가면 회귀모형을 만드는 과정을 **회귀분석(Regression Analysis)** 라고 합니다."
   ]
  },
  {
   "cell_type": "markdown",
   "metadata": {},
   "source": [
    "## 지금 까지 내용 정리"
   ]
  },
  {
   "cell_type": "markdown",
   "metadata": {},
   "source": [
    "   * PART 1 에서 통계 요약\n",
    "   * PART 2 에서 통계모형을 이용한 데이터의 차이점 확인\n",
    "   * PART 3 에서 차이점의 의미 및 p-값 활용. p-값은 확률입니다. 차이가 없다는 가정하에 분포를 만들어 놓고, 실제 구한 값을 넣었을 경우 차이가 얼마나 큰지, 우연의 일치가 아닌지 차이를 구함\n"
   ]
  },
  {
   "cell_type": "markdown",
   "metadata": {},
   "source": [
    "PART 4 에서는 실제 R 을 이용하여 PART1, 2, 3 의 내용을 반복합니다."
   ]
  }
 ],
 "metadata": {
  "kernelspec": {
   "display_name": "R",
   "language": "R",
   "name": "ir"
  },
  "language_info": {
   "codemirror_mode": "r",
   "file_extension": ".r",
   "mimetype": "text/x-r-source",
   "name": "R",
   "pygments_lexer": "r",
   "version": "3.4.3"
  }
 },
 "nbformat": 4,
 "nbformat_minor": 2
}
