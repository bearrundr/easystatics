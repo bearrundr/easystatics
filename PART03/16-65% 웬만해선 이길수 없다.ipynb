{
 "cells": [
  {
   "cell_type": "markdown",
   "metadata": {},
   "source": [
    "# <span style=\"color:blue\"> 이토록 쉬운 통계 & R </span>"
   ]
  },
  {
   "cell_type": "markdown",
   "metadata": {},
   "source": [
    "<img src=\"../image/cover.png\" width=\"200\" height=\"400\" align=\"left\">  임경덕 지음"
   ]
  },
  {
   "cell_type": "markdown",
   "metadata": {},
   "source": [
    "## PART 3 차이를 예측하는 통계 모형"
   ]
  },
  {
   "cell_type": "markdown",
   "metadata": {},
   "source": [
    "## 65% 웬만해선 이길 수 없다(19 일차)"
   ]
  },
  {
   "cell_type": "markdown",
   "metadata": {},
   "source": [
    "   * P-값 유의수준\n",
    "   * 정규분포"
   ]
  },
  {
   "cell_type": "markdown",
   "metadata": {},
   "source": [
    "#### 적정한 p-값"
   ]
  },
  {
   "cell_type": "markdown",
   "metadata": {},
   "source": [
    "   * 기준이 된는 p 값을 0으로 한다면 많은 의미 있는 차이까지도 무위한 차이로 만들어 버릴 수 있습니다.\n",
    "   * 예를 들어 아빠키와 아들 키의 상관계수에 서 0.5 가 나왔습니다. 만일 그것보다 더 작은 값이 나왔다 하여도 무의미한 상관관계가 됩니다.\n",
    "   * 예를 들어 실제 상관계수가 0.3 본다면 $\\pm 0.3$ 을 넘는 상관계수는 10,000 중에 22 개 있고 p-값은 0.0022 가 됩니다. 즉 0.22% 정도 이면 아주 드문 경우 입니다. 이런  p 값 까지도 무의한 경우로 보게 됩니다.\n",
    "   * 만일 기준이 되는 p 값을 0.5 로 본다면 의미없는 데이터중 50%가 0.5 보다 작게 나올 수 있기 때문에 의미 없는 50%에 대해서도 의미 있는 차이라고 결정을 내려야 합니다.\n",
    "   \n",
    "   \n",
    "   <img src=\"../image/ed101.png\" width=\"500\" height=\"200\" align=\"left\">  page 156"
   ]
  },
  {
   "cell_type": "markdown",
   "metadata": {},
   "source": [
    "   * p-값의 판단기준이 0.5는 너무 크고, 0 은 너무 작습니다.\n",
    "   * 적절한 기준을 잡아야 만 합니다."
   ]
  },
  {
   "cell_type": "markdown",
   "metadata": {},
   "source": [
    "## 유의수준"
   ]
  },
  {
   "cell_type": "markdown",
   "metadata": {},
   "source": [
    "   * p 값은 데이터속 차이가 얼마나 희귀한지 흔한지의 정도를 $0 \\sim 1$ 사이로 표현합니다. 1 이면 차이가 없는 것이며, 0 이면 차이가 너무 커서 누가봐도 차이를 인정하는 수준입니다.\n",
    "   * p-값을 활용하는 목적이 데이터의 차이에 의미를 부여하는 것이라고 한다면 p-값은 0에 가까워야 합니다.\n",
    "   * 많은 시행착오를 거쳐 p-값은 5%를 기준으로 잡았습니다.\n",
    "   * 이것을 **유의수준(Significant level)** 이라고 합니다."
   ]
  },
  {
   "cell_type": "markdown",
   "metadata": {},
   "source": [
    "#### 유의성검정"
   ]
  },
  {
   "cell_type": "markdown",
   "metadata": {},
   "source": [
    "   * 유의수준이란 데이터의 차이가 유의미한 것인지 아닌지를 판단합니다.\n",
    "   * 만약 p-값이 유의수준 보다 작으면 차이가 통계적으로 유의미 하고, p-값이 유의수준 보다 크면 우연히 라도 충분히 일어날 수 있는 차이로 판단 할 수 있습니다.\n",
    "   * 수많은 시행 착오를 거쳐 **유의수준은 5%**를 기준으로 잡습니다."
   ]
  },
  {
   "cell_type": "markdown",
   "metadata": {},
   "source": [
    "   * 유의수준은 0.5 입니다."
   ]
  },
  {
   "cell_type": "markdown",
   "metadata": {},
   "source": [
    "   * 유의수준은 데이터의 차이가 유의미한 것인지 아닌지를 판단하는 기준입니다. p 값이 유의수준보다 작으면 차이가 통계적으로 유의미 하고\n",
    "   * p 값이 유의수준 보다 크면 우연히라도 충분히 일어날 수 있는 차이입니다.\n",
    "   * 이 과정을 **유의성 검정(Significant Test)** 라고 합니다.\n",
    "   \n",
    "   \n",
    "   * 유의성 검정 결과가 차이의 유의성을 \"결정\" 하는 것이 아니고 판단의 근거가 된다는 것입니다."
   ]
  },
  {
   "cell_type": "markdown",
   "metadata": {},
   "source": [
    "#### 유의성 검정의 결과는 판단의 근거 이다"
   ]
  },
  {
   "cell_type": "markdown",
   "metadata": {},
   "source": [
    "   * p-값을 계산 할 때 사용한 분포는 의미 없는 표본으로 부터 만들었습니다.\n",
    "   * 유의수준은 그 분포에 적용하였습니다.\n",
    "   \n",
    "   \n",
    "   * 그렇다면 유의수준을 5%로 하는 순간 의미 없는 표본중에는 5%는 유의성 검정을 통과하게 됩니다.\n",
    "   * 우리는 데이터에서 발견한 차이의 유의미 성을 판단하고 싶은데 이 과정에서 유의수준만큼 틀릴 가능성이 있다는 것을 의미 합니다.\n",
    "   \n",
    "   \n",
    "   * 따라서 여러 시행 착오를 거쳐 암묵적으로 5%라는 기준이 만들어 졌으므로\n",
    "   * **5%의 오류 가능성을 품고 p-값과 유의수준을 비교해서 판단하게 됩니다.**"
   ]
  },
  {
   "cell_type": "markdown",
   "metadata": {},
   "source": [
    "## 필요악과 같은 분포"
   ]
  },
  {
   "cell_type": "markdown",
   "metadata": {},
   "source": [
    "   * 유의성 검정은 간단하게 이야기 하면 p-값을 구하고 유의수준과 p-값을 비교만 하면 되는 간단한 과정입니다.\n",
    "   * p-값을 구하기 위한 분포는 이미 여러 가지 만들어져 있습니다.\n",
    "   * 그 중에서 적절한 분포를 사용하여 p-값을 구하고 유의 수준을 비교 합니다."
   ]
  },
  {
   "cell_type": "markdown",
   "metadata": {},
   "source": [
    "   * 따라서 우리가 직접 표본을 뽑아서 분포를 만드는 것이 아니라, 이미 만들어져 있는 분포중에서 적절한 것을 사용하면 됩니다.\n",
    "   * 그중에서 가장 일반적이고 많이 사용하는 정규 분포에 대해서 먼저 알아 보겠습니다."
   ]
  },
  {
   "cell_type": "markdown",
   "metadata": {},
   "source": [
    "## 키의 히스토그램과 정규분포"
   ]
  },
  {
   "cell_type": "markdown",
   "metadata": {},
   "source": [
    "   * 이번에는 아빠키와 아들키 데이터 중에서 아들 키 만 따로 살펴봅니다.\n",
    "\n",
    "\n",
    "   <img src=\"../image/ed102.png\" width=\"500\" height=\"200\" align=\"left\">  page 160"
   ]
  },
  {
   "cell_type": "markdown",
   "metadata": {},
   "source": [
    "   * 아들 1078명의 키를 표현한 히스토그램입니다.\n",
    "   * $150 cm$ 부터 $200 cm$ 까지 $2.5 cm$ 단위로 총 20개 구간을 나누어 빈도를 계산하였습니다.\n",
    "   * 세로축은 전체 1078명중 구간마다 사람의 비중을 나타낸 **밀도(density)** 입니다."
   ]
  },
  {
   "cell_type": "markdown",
   "metadata": {},
   "source": [
    "   * $172.5 \\sim 175 cm$ 구간 비중이 가장 높고, 그 구간을 중심으로  양쪽으로 넓게 종모양으로 펼쳐져 있습니다.\n",
    "   * 이 히스토그램을 이용해서 키가 $180 cm$ 보다 클 확률은 어떻게 계산 할 까요?"
   ]
  },
  {
   "cell_type": "markdown",
   "metadata": {},
   "source": [
    "   <img src=\"../image/ed103.png\" width=\"500\" height=\"200\" align=\"left\">  page 161"
   ]
  },
  {
   "cell_type": "markdown",
   "metadata": {},
   "source": [
    "   * $180 cm$ 보다 큰 구간들의 비중을 모두 합해 봅니다.\n",
    "   * 키가 $180 cm$ 이상인 아들이 모두 237 명 있다면, 237/1078 = 0.22 가 됩니다.\n",
    "   * 따라서 히스토그램을 통해서 계산한 확률은 22% 입니다."
   ]
  },
  {
   "cell_type": "markdown",
   "metadata": {},
   "source": [
    "#### 정규분포"
   ]
  },
  {
   "cell_type": "markdown",
   "metadata": {},
   "source": [
    "   * 이런 히스토그램을 매번 데이터에 따라서 그리기 보다는 이론적인 분포를 활용합니다.\n",
    "   * 그런 대표적인 분포가 **정규분포** 또는 **가우스분포** 라고 합니다.\n",
    "   * 아들 키라는 이름 대신에 일반적인 변수 $x$ 에 대한 정규분포는 다음과 같은 **확률밀도함수(pdf:probability density function)** 으로 표현됩니다."
   ]
  },
  {
   "cell_type": "markdown",
   "metadata": {},
   "source": [
    "$$f(x)=\\dfrac{1}{\\sqrt{2\\pi}}e^{-\\dfrac{1}{2}\\bigl(\\dfrac{x-\\mu}{\\sigma}\\bigl)^2}$$"
   ]
  },
  {
   "cell_type": "markdown",
   "metadata": {},
   "source": [
    "   * 여기서 $\\pi, e$ 는 각각 3.14, 2.72 에 가까운 값을 갖는 특별한 수입니다.\n",
    "   * 키에 $x$ 값만 넣으면 바로 밀도를 계산 할 수 있습니다.\n",
    "   * $\\mu$ 는 평균값이고, $\\sigma$ 는 표준편자입니다."
   ]
  },
  {
   "cell_type": "markdown",
   "metadata": {},
   "source": [
    "   * $z = \\dfrac{x - \\mu}{\\sigma}$ 로 표준화 과정에서 나온 변수입니다. 실제 정규분포도에서는 이값을 계산하여 직접표에서 밀도를 구합니다.\n",
    "   * R 에서는 그냥 함수에 대입하면 바로 나옵니다."
   ]
  },
  {
   "cell_type": "markdown",
   "metadata": {},
   "source": [
    "#### 아들키 정규분포"
   ]
  },
  {
   "cell_type": "markdown",
   "metadata": {},
   "source": [
    "   * 아들키의 평균은 $174.5 cm$ 이고 표준편차는 $7.1 cm$ 이므로 정규분포 함수는 다음과 같습니다."
   ]
  },
  {
   "cell_type": "markdown",
   "metadata": {},
   "source": [
    "$$f(x)=\\dfrac{1}{\\sqrt{2\\pi}}e^{-\\dfrac{1}{2}\\bigl(\\dfrac{x-174.5}{7.1}\\bigl)^2}$$"
   ]
  },
  {
   "cell_type": "markdown",
   "metadata": {},
   "source": [
    "   <img src=\"../image/ed104.png\" width=\"500\" height=\"200\" align=\"left\">  page 162"
   ]
  },
  {
   "cell_type": "markdown",
   "metadata": {},
   "source": [
    "   * 아들키에 변수를 넣으면 밀도가 바로 계산이 됩니다. 위 표는 그 중에서 5개만 임의로 밀도를 구한 것입니다.\n",
    "   * 모든 값을 넣어 밀도를 계산한 다음 히스트그램위에 곡선 형태로 그려 보면 다음과 같습니다.\n",
    "   \n",
    "      <img src=\"../image/ed105.png\" width=\"500\" height=\"200\" align=\"left\">  page 163"
   ]
  },
  {
   "cell_type": "markdown",
   "metadata": {},
   "source": [
    "   * 검은선이 정규분포 곡선입니다."
   ]
  },
  {
   "cell_type": "markdown",
   "metadata": {},
   "source": [
    "#### 정규분포 성질"
   ]
  },
  {
   "cell_type": "markdown",
   "metadata": {},
   "source": [
    "   * 표준화 부분에 제곱을 하므로, 좌우대칭이 됩니다.\n",
    "   * 지수에 - 부분이 있어 값이 커질수록 지수적으로 감소 합니다.\n",
    "   * 밀도 곡선은 히스토그램과 거의 일치 합니다.\n",
    "   * 밀도의 합계는 곡선의 면적을 구하면 되므로 적분을 하면되며, 100% 이므로 1 이 됩니다."
   ]
  },
  {
   "cell_type": "markdown",
   "metadata": {},
   "source": [
    "#### 아들키 $180 cm$ 이상인 확률를 구하려면"
   ]
  },
  {
   "cell_type": "markdown",
   "metadata": {},
   "source": [
    "   * 다음 그림처럼 $180 cm$ 이상인 면적만 계산합니다.\n",
    "   \n",
    "    <img src=\"../image/ed106.png\" width=\"500\" height=\"200\" align=\"left\">  page 164"
   ]
  },
  {
   "cell_type": "markdown",
   "metadata": {},
   "source": [
    "   * 면적을 계산하면 21.91% 가 나옵니다.\n",
    "   * R 에서는 계산해주는 함수들을 제공 합니다."
   ]
  },
  {
   "cell_type": "markdown",
   "metadata": {},
   "source": [
    "#### 결론"
   ]
  },
  {
   "cell_type": "markdown",
   "metadata": {},
   "source": [
    "   * 통계적인 비교를 하기위해서는 확률을 계산해야만 합니다.\n",
    "   * 계산을 하기위해서는 분포를 활용합니다.\n",
    "   * 정규분포 의 확률밀도함수 $f(x)$ 에서는 2가지를 정하면 분포함수의 모양이 결정됩니다.\n",
    "   * 이들 각각은 $\\mu$ (평균값) 과 $\\sigma$(표준편차) 입니다.\n",
    "   * 이렇게 분포의 모양을 결정하는 값들을 **모수(parameter)** 라고 합니다.\n",
    "   * 정규분포는 단 2개의 모수를 가지고 있습니다."
   ]
  },
  {
   "cell_type": "markdown",
   "metadata": {},
   "source": [
    "   * 아들키에서는 $\\mu = 174.5 cm$ 이고 $\\sigma = 7.1 cm$ 였습니다."
   ]
  },
  {
   "cell_type": "markdown",
   "metadata": {},
   "source": [
    "[참고사항]\n",
    "정규분포에 관련된 테이블을 참조하면 $180 cm$ 이상인 아들의 확률분포를 테이블에서 찾을수 있습니다.\n",
    "\n",
    "[정규분포에 대한 테이블](https://en.wikipedia.org/wiki/Standard_normal_table)\n",
    "\n",
    "1. 먼저 $z = \\dfrac{(180 - 174.5)}{7.1} = 0.774648$ 을 먼저 계산합니다.\n",
    "2. 위 정규분포 에 대한 테이블을 클릭한 후, 여러 정규분포 테이블중에서 Complementary cumulative 부분을 찾습니다.\n",
    "3. 세로축이 소숫점 첫째자리입니다. 따라서 0.7을 찾습니다.\n",
    "4. 가로축이 0.77 의 소솟점 두째 자릿수 입니다. 세로축 0.7 에서 가로축 7을 찾습니다.\n",
    "5. 값이 **0.22065** 가 테이블에 보일 것입니다. 즉 22% 입니다.\n"
   ]
  },
  {
   "cell_type": "markdown",
   "metadata": {},
   "source": [
    "[참고사항] 68-95-99.7 rule\n",
    "   * 정규분포 $-\\sigma \\le x \\le \\sigma$ 에 싸인 면적이 0.68 이고\n",
    "   * 정규분포 $-2\\sigma \\le x \\le 2\\sigma$ 에 싸인 면적이 0.95 이고\n",
    "   * 정규분포 $-3\\sigma \\le x \\le 3\\sigma$ 에 싸인 면적이 0.997 입니다.\n",
    "   \n",
    "   급할때 요긴하게 사용할 수 있습니다."
   ]
  },
  {
   "cell_type": "markdown",
   "metadata": {},
   "source": [
    "#### 다음절에서는"
   ]
  },
  {
   "cell_type": "markdown",
   "metadata": {},
   "source": [
    "   * 순서대로 $t$-분포, $\\chi^2$(카이제곱)-분포, F-분포 를 순서대로 설명 할 예정입니다."
   ]
  }
 ],
 "metadata": {
  "kernelspec": {
   "display_name": "R",
   "language": "R",
   "name": "ir"
  },
  "language_info": {
   "codemirror_mode": "r",
   "file_extension": ".r",
   "mimetype": "text/x-r-source",
   "name": "R",
   "pygments_lexer": "r",
   "version": "3.4.3"
  }
 },
 "nbformat": 4,
 "nbformat_minor": 2
}
