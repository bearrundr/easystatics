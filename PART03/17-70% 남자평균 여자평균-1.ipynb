{
 "cells": [
  {
   "cell_type": "markdown",
   "metadata": {},
   "source": [
    "# <span style=\"color:blue\"> 이토록 쉬운 통계 & R </span>"
   ]
  },
  {
   "cell_type": "markdown",
   "metadata": {},
   "source": [
    "<img src=\"../image/cover.png\" width=\"200\" height=\"400\" align=\"left\">  임경덕 지음"
   ]
  },
  {
   "cell_type": "markdown",
   "metadata": {},
   "source": [
    "## PART 3 차이를 예측하는 통계 모형"
   ]
  },
  {
   "cell_type": "markdown",
   "metadata": {},
   "source": [
    "## 70% 남자평균 174.8 cm, 여자평균 162.3cm -1 (21 일차)"
   ]
  },
  {
   "cell_type": "markdown",
   "metadata": {},
   "source": [
    "   * 표본평균의 표준편차"
   ]
  },
  {
   "cell_type": "markdown",
   "metadata": {},
   "source": [
    "#### 이야기 전개"
   ]
  },
  {
   "cell_type": "markdown",
   "metadata": {},
   "source": [
    "   * 영국의 한 연구팀이 한국 남성의 평균 키가 $159.8 cm$ 에서 $174.9 cm$ 로, 여성은 $144.2 cm$ 에서 $162.3 cm$ 로 커졌다고 합니다. 이에 대하여 $170 cm$ 인 남성, $160 cm$ 여성도 평균이하가 아니라 평균 범위에 들어 갈 수 있다는 이야기를 t-검정을 이용해서 설명하려고 합나다.\n",
    "   * 이에 따라서 먼저 t-검정을 설명하기 이전에 표준평균의 표준편차에 대해서 설명하고, t-분포에 대해서 설명한 후에 t-검정을 이용하여 키에 대한 검증을 하려고 합니다."
   ]
  },
  {
   "cell_type": "markdown",
   "metadata": {},
   "source": [
    "## 표본평균의 표준편차"
   ]
  },
  {
   "cell_type": "markdown",
   "metadata": {},
   "source": [
    "   * 일단 책에서는 많은 이야기를 하지만 나름대로 다른 말로 정리 하려고 합니다. 그리고 책에 있는 에피소드를 소개 하려고 합니다."
   ]
  },
  {
   "cell_type": "markdown",
   "metadata": {},
   "source": [
    "### 표본평균"
   ]
  },
  {
   "cell_type": "markdown",
   "metadata": {},
   "source": [
    "   * 128 페이지 샘플링 관련 참조 하세요."
   ]
  },
  {
   "cell_type": "markdown",
   "metadata": {},
   "source": [
    "###### 모집단"
   ]
  },
  {
   "cell_type": "markdown",
   "metadata": {},
   "source": [
    "   * 통계적 관찰 및 처리 대상이 되는 전체 집단이며, 특정 확률분포를 따르는 확률변수들의 전체 집합, 확률공간입니다."
   ]
  },
  {
   "cell_type": "markdown",
   "metadata": {},
   "source": [
    "##### 전수조사, 표본조사, 표본추출"
   ]
  },
  {
   "cell_type": "markdown",
   "metadata": {},
   "source": [
    "   * 전수조사\n",
    "      * 모집단 전체의 구성원을 모두 조사하는 통계적 작업 입니다.\n",
    "      * 전수조사의 예로는 대선과 총선의 투표용지 개표작업, 인구주택총조사등이 있습니다."
   ]
  },
  {
   "cell_type": "markdown",
   "metadata": {},
   "source": [
    "   * 표본추출\n",
    "      * 전수조사가 불가능하여(비용, 시간등의 이유로) 집단의 특성을 추정하기 위해 일부 표본(Sample)만 추출하여 조사합니다. 이때 지표로 활용할 표본 뽑는 작업을 표본 추출이라고 합니다.(Sampling)\n",
    "      * 표본의 특성을 조사하는 것을 표본조사\n",
    "      * 표본조사를 토대로 모집단의 성질을 추정하는 작업을 통계적 추정 이라고 합니다.\n",
    "      * 표본 추출은 임의적이며, 복원추출이 가장 일반적입니다.\n",
    "      [출처] 표본평균의 평균과 분산, 통계적 추정 - 작성자 자비"
   ]
  },
  {
   "cell_type": "markdown",
   "metadata": {},
   "source": [
    "##### 표본평균"
   ]
  },
  {
   "cell_type": "markdown",
   "metadata": {},
   "source": [
    "   * 표본평균(Sample mean)은 추출된 표본의 단순 산술평균이며 ${\\bar X}$ 로 표시합니다.\n",
    "   * 한번 표본을 추출했을때 ${X_1,X_2,...,X_n}$ 이라고 하면 평균 ${\\bar X}$ 는 다음과 같습니다.\n",
    "   \n",
    "$${\\bar X} = \\dfrac{(X_1 + X_2 + X_3 + \\cdots + X_n)}{n}$$\n",
    "\n",
    "   * 이때 분산은 다음과 같이 정의 합니다.\n",
    "   \n",
    "$$s^2 = \\dfrac{1}{n - 1}\\sum_{i=n}^{n}(X_i - {\\bar X})^2 $$"
   ]
  },
  {
   "cell_type": "markdown",
   "metadata": {},
   "source": [
    "   * 여기서 임의 복원 추출된 표본들의 경우 표본평균값이 매번 달라집니다. 그리고 임의적으로 추출하므로 확률적으로 정해지는 **확률변수** 입니다.\n",
    "   * 따라서 표본평균은 확률변수 이므로 어떤분포를 따르것이므로, 이때의 평균과 분산은 무엇으로 구할 것인가 입니다.\n",
    "   * 고등학교 교과과정에서는 표본평균과 표본평균의 분산을 기대값과 분산의 개념으로 설명을 진행하며, 이에 대한 정리를 증명없이 간단하게 소개 합니다."
   ]
  },
  {
   "cell_type": "markdown",
   "metadata": {},
   "source": [
    "   * 그 내용을 소개하면 다음과 같습니다."
   ]
  },
  {
   "cell_type": "markdown",
   "metadata": {},
   "source": [
    "모평균이 m, 모분산이 σ2 인 모집단에서 크기가 n인 표본을 임의추출할 때, 표본평균 에 대하여 다음이 성립한다.\n",
    "①\n",
    "② 모집단이 정규분포 N(m, σ2)을 따르면, 표본평균 는 정규분포 을 따른다.\n",
    "③ 모집단의 분포가 정규분포가 아닐 때에도 표본의 크기 n이 충분히 크면 는 근사적으로 정규분포 을 따른다. "
   ]
  },
  {
   "cell_type": "markdown",
   "metadata": {},
   "source": [
    "   * 모집단 평균이 $\\mu$ 이고 분산이 $\\sigma^2$ 인 모집단에서 크기가 n 인 표본을 임의 복원 추출할때 표본평균에 대하여 다음이 성립합니다.\n",
    "   * 표본평균은 확률변수 이므로 다음과 같이 표현합니다.\n",
    "   \n",
    "   * ① $E({\\bar X}) = \\mu$ , $Var({\\bar X}) = \\dfrac{\\sigma^2}{n}$ , $\\sigma(X) = \\dfrac{\\sigma}{\\sqrt{n}}$\n",
    "   * ② 모집단이 정규분포 $N(\\mu, \\sigma^2)$ 을 따르면 표본평균은 정규분포를 따른다.\n",
    "   * ③ 모집단의 정규분포가 아닐때에도 표본의 크기 $n$ 이 충분히 크면 ${\\bar X}$ 는 정규적 근사분포 $N(\\mu, \\dfrac{\\sigma^2}{n})$ 을 따른다."
   ]
  },
  {
   "cell_type": "markdown",
   "metadata": {},
   "source": [
    "## 표본평균의 표준편차"
   ]
  },
  {
   "cell_type": "markdown",
   "metadata": {},
   "source": [
    "#### 개념"
   ]
  },
  {
   "cell_type": "markdown",
   "metadata": {},
   "source": [
    "   * 크기가 n인 표본을 추출하면 추출은 임의로 하므로 표본평균은 확률변수가 되어야 하며 표본평균은 모집단의 평균주위에 분포됩니다.\n",
    "   * 표본평균 분포를 분산이라고 볼수 있으며, 여기서 표준평균의 표준편차가 나올수 있습니다.\n",
    "   * 표본평균의 표준편차는 앞의 설명했듯이 $\\sqrt{n}$ 에 반비례 하게 됩니다. 이것이 무슨 의미를 갖는지 설명하고자 합니다."
   ]
  },
  {
   "cell_type": "markdown",
   "metadata": {},
   "source": [
    "#### 대선 예\n",
    "\n",
    "   * 4천만명이 투표하는 대선에서 예를 볼려고 합니다.\n",
    "   * 대선 결과를 예측하기 위해서 주변 한사람에게 물어봤습니다. 기호 1번을 찍었다고 알고 있어도 그 기호1번이 당선이 될것이라곤 믿지 않습니다.\n",
    "   * 즉 표본의 크기가 1인 표본 추출을 한것입니다."
   ]
  },
  {
   "cell_type": "markdown",
   "metadata": {},
   "source": [
    "   * 평균을 구하려고 할려면, 1, 2개가 아니라 충분히 큰 관측치 수가 필요합니다.\n",
    "   * 이번에는 $n$ 을 늘려서 100 으로 하여 관측치를 측정합니다.\n",
    "   * 100 명중 60 명이 기호 1번이라면 60% 당선예측을 할 수 있겠습니다.\n",
    "   * 그러나 또 다른 100 명을 추출하여 관측치를 측정하면 이번에는 100명중 60명이 아닐 가능성이 큽니다."
   ]
  },
  {
   "cell_type": "markdown",
   "metadata": {},
   "source": [
    "   * 만일 1000 명에게서 관측치를 모으면 100 명일때보다는 당선예측율은 높아지겠습니다.\n",
    "   * 만일 4천만명에서 만명을 제외한 3,999 만명으로 크기를 정하여 샘플을 만들고 관측치를 측정하면, 표준평균은 여러번 샘플을 추출하여도 예측된 당선은 변하지 않을 것입니다.\n",
    "   * 즉 데이터의 관측치가 많으면 많을수록 데이터에서 계산된 표본평균은 좀처럼 변하지 않고 안곳에 모이게 될것입니다. "
   ]
  },
  {
   "cell_type": "markdown",
   "metadata": {},
   "source": [
    "   * 이런 개념이 포본평균의 표본편차에 들어 있습니다.\n",
    "   * 즉 n 에 커지면 커질수로 표본평균의 분포는 어떤 한 값에 점점 모이게 됩니다."
   ]
  },
  {
   "cell_type": "markdown",
   "metadata": {},
   "source": [
    "##### 표본평균의 유의성 검증"
   ]
  },
  {
   "cell_type": "markdown",
   "metadata": {},
   "source": [
    "   * 다음에 살펴볼 t-분포에서 표본평균과 표본평균의 표준편차를 이용합니다.\n",
    "   * 남녀 평균키 $174.9 cm$ 이 $170 cm$ 에서 $162.3 cm$ 이 $169 cm$ 에서 그리 크지 않다는 것을 보이고자 합니다.\n",
    "   * 따라서 남자를 예를 들면 평균키 $170 cm$ 에서도 충분히 $174.9 cm$ 가 나올수 있다는 것을 입증만 하면 됩니다.\n",
    "   \n",
    "   \n",
    "   \n",
    "   * 즉 표본평균의 유의성에 대한 검증이 됩니다.\n",
    "   * 남성 10명으로 측정하여 평균이 $4.9 cm$ 차이는 큰 의미가 없겠지만, 1,000 만명의 키를 측정한 것이라면 $4.9cm$ 는 무시 못합니다.\n",
    "   * 관측치에 수에 따라서 차이가 다르며, **이것을 표본평균의 표준편차로 측정을 하고자 합니다.**"
   ]
  },
  {
   "cell_type": "markdown",
   "metadata": {},
   "source": [
    "## 기대값에 대한 기본 공식 -- 책에 없는 내용이지만, 표본평균의 표준편차를 이해하려면 다음공식이 필요함."
   ]
  },
  {
   "cell_type": "markdown",
   "metadata": {},
   "source": [
    "   * 확률변수 X 의 확률분포 함수가 $f(x)$ 일때 X 의 기대값 $E(X)$ 는\n",
    "$$E(X) = \\sum_{x} x \\;f(x) = \\int_{\\infty}^{\\infty} x\\;f(x) \\;dx$$"
   ]
  },
  {
   "cell_type": "markdown",
   "metadata": {},
   "source": [
    "   * 결합분포에 대한 기대값 은 확률변수 $X,Y$ 의 결합확률분포함수가 $f(x,y)$ 일때\n",
    "   $$\\mu_x = E(X) = \\sum_{x} x\\;f_X(x) = \\int_{-\\infty}^{\\infty} x\\;f_X(x)\\;dx$$\n",
    "   $$\\mu_y = E(Y) = \\sum_{y} y\\;f_Y(Y) = \\int_{-\\infty}^{\\infty} y\\;f_X(x)\\;dy$$\n",
    "\n",
    "   * 여기서 $f_X(x)$, $f_Y(x)$ 는 주변확률분포 입니다."
   ]
  },
  {
   "cell_type": "markdown",
   "metadata": {},
   "source": [
    "   * 확률변수 X와 Y의 결합확률함수가 $f(x,y)$ 일때, 확률변수 $g(X,Y)$ 의 기대값은 \n",
    "   \n",
    "$$\\mu_g(X,Y) = E(g(X,Y)) = \\sum_{x}\\sum_{y}g(x,y)\\;f(x,y) = \\int_{-\\infty}^{\\infty}g(x,y)\\;f(x,y)\\;dx\\;dy$$"
   ]
  },
  {
   "cell_type": "markdown",
   "metadata": {},
   "source": [
    "   * 이 정의를 이용하여 몇가지 기대값에 대한 정리를 해보면 다음과 같다.\n",
    "   * $g(X,Y) = X + Y$ 인 경우\n",
    "$$\n",
    "\\eqalign {\n",
    "E(X + Y) &= \\int_{-\\infty}^{\\infty}\\int_{-\\infty}^{\\infty}(x+y)\\;f(x,y)\\;dx\\;dy \\\\\n",
    "&= \\int_{-\\infty}^{\\infty}\\int_{-\\infty}^{\\infty} x\\;f(x,y) + y\\;f(x,y)\\;dx\\;dy \\\\\n",
    "&= \\int_{-\\infty}^{\\infty}\\int_{-\\infty}^{\\infty} x\\;f(x,y)\\;dx\\;dy + \\int_{-\\infty}^{\\infty}\\int_{-\\infty}^{\\infty} y\\;f(x,y)\\;dx\\;dy \\\\\n",
    "&= E(X) + E(Y)\n",
    "}\n",
    "$$\n",
    "\n",
    "$$\n",
    "(\\because \\int_{-\\infty}^{\\infty}\\int_{-\\infty}^{\\infty} x\\;f(x,y)\\;dx\\;dy = E(X),\\; \\int_{-\\infty}^{\\infty}\\int_{-\\infty}^{\\infty} y\\;f(x,y)\\;dx\\;dy = E(Y))\n",
    "$$"
   ]
  },
  {
   "cell_type": "markdown",
   "metadata": {},
   "source": [
    "   * $g(X,Y) = aX + b$ 인 경우\n",
    "   \n",
    "$$\n",
    "\\eqalign {\n",
    "E(aX + b) &= \\int_{-\\infty}^{\\infty}(ax+b)\\;f(x)\\;dx \\\\\n",
    "&= \\int_{-\\infty}^{\\infty}ax\\;f(x) + b\\;f(x)\\;dx \\\\\n",
    "&= \\int_{-\\infty}^{\\infty}ax\\;f(x) + \\int_{-\\infty}^{\\infty} b\\;f(x)\\;dx \\\\\n",
    "&= a\\int_{-\\infty}^{\\infty}x\\;f(x) + b\\int_{-\\infty}^{\\infty} f(x)\\;dx \\\\\n",
    "&= aE(X) + b\n",
    "}\n",
    "$$\n",
    "\n",
    "\n",
    "$$\n",
    "(\\because \\int_{-\\infty}^{\\infty}x\\;f(x) = E(X),\\; \\int_{-\\infty}^{\\infty} f(x)\\;dx = 1)\n",
    "$$"
   ]
  },
  {
   "cell_type": "markdown",
   "metadata": {},
   "source": [
    "   * 확률변수 X, Y 가 서로 독립일떼 $g(X,Y) = XY$ 의 기대값은 ?\n",
    "   \n",
    "$$\n",
    "\\eqalign {\n",
    "E(XY) &= \\int_{-\\infty}^{\\infty}\\int_{-\\infty}^{\\infty}xy\\;f(x,y)\\;dx\\;dy \\\\\n",
    "&= \\int_{-\\infty}^{\\infty}\\int_{-\\infty}^{\\infty}xy\\;f_X(x)\\;f_Y(y)\\;dx\\;dy \\\\\n",
    "&= \\int_{-\\infty}^{\\infty}x\\;f_X(x)\\; \\int_{-\\infty}^{\\infty} y\\;f_Y(y)\\;dx\\;dy \\\\\n",
    "&= E(X)\\;E(Y)\n",
    "}\n",
    "$$"
   ]
  },
  {
   "cell_type": "markdown",
   "metadata": {},
   "source": [
    "   * 몇가지 중요한 공식들  (a, b, c 는 임의의 실수)\n",
    "$$\n",
    "\\eqalign {\n",
    "E(X + Y) &= E(X) + E(Y) \\\\\n",
    "E(XY) &= E(X)\\;E(Y) \\\\\n",
    "E(aX + b) &= aE(X) + b \\\\\n",
    "E(aX^2 + bX + c) &= aE(X^2) = bE(X) + c \\\\\n",
    "E(aX + bY) &= aE(X) + bE(Y)\n",
    "}\n",
    "$$"
   ]
  },
  {
   "cell_type": "markdown",
   "metadata": {},
   "source": [
    "#### 분산에 대한 기본 공식"
   ]
  },
  {
   "cell_type": "markdown",
   "metadata": {},
   "source": [
    "   * 표준편차를 계산하기 위한 사용되는 기본 공식들"
   ]
  },
  {
   "cell_type": "markdown",
   "metadata": {},
   "source": [
    "   * 확률변수 X 에 대해서 분산 Var(X) 는\n",
    "   * $Var(X) = E[(X - E(X))^2]$ \n",
    "   * $E(X) = \\mu$ 라고 하면\n",
    "   * $Var(X) = E[(X - \\mu)^2]$"
   ]
  },
  {
   "cell_type": "markdown",
   "metadata": {},
   "source": [
    "   * 표준편차 $\\sigma^2 = Var(X)$ 와 $\\sigma = \\sqrt{Var(X)}$"
   ]
  },
  {
   "cell_type": "markdown",
   "metadata": {},
   "source": [
    "   * 확률분포 함수 $f(x)$ 에 대해서 $Var(X) = E[(X - \\mu)^2] = \\sum_{x}(x - \\mu)^2\\;f(x) = \\int_{-\\infty}^{\\infty}(x-\\mu)^2\\;f(x)\\;dx$"
   ]
  },
  {
   "cell_type": "markdown",
   "metadata": {},
   "source": [
    "   * 결합분포 함수 $f(x,y)$ 에 대해서 $Var(X) = E[(X - \\mu)^2] = \\sum_{x}\\sum_{y}(x - \\mu)^2\\;f(x,y) = \\int_{-\\infty}^{\\infty}\\int_{-\\infty}^{\\infty}(x-\\mu)^2\\;f(x,y)\\;dx\\;dy$"
   ]
  },
  {
   "cell_type": "markdown",
   "metadata": {},
   "source": [
    "   * 분산의 정의를 이용해 다른 식을 유도해 봅시다."
   ]
  },
  {
   "cell_type": "markdown",
   "metadata": {},
   "source": [
    "$$\n",
    "\\eqalign {\n",
    "Var(X) &= E[(X - \\mu)^2] = E[X^2 - 2\\mu X + \\mu^2] \\\\\n",
    "&= E(X^2) - 2\\mu E(X) + \\mu^2 = E(X^2) - 2\\mu^2 + \\mu^2 \\\\\n",
    "&= E(X^2) - \\mu^2 = E(X^2) - \\left \\{ E(X)\\right \\}^2 \\;\\; (\\because E(X) = \\mu) \n",
    "}\n",
    "$$"
   ]
  },
  {
   "cell_type": "markdown",
   "metadata": {},
   "source": [
    "   * $a,b$ 는 임의 실수이고 $E(X) = \\mu$ 라 두면,\n",
    "   \n",
    "$$\n",
    "\\eqalign {\n",
    "Var(aX + b) &= E[((aX + b) - E(aX + b))^2] = E[((aX + b) - a\\mu - b)^2] \\\\\n",
    "&= E[(aX - a\\mu)^2] = E[a^2X^2 - 2a^2\\mu X + a^2\\mu^2]\\\\\n",
    "&= a^2E(X^2) - 2a^2\\mu E(X) + a^2\\mu^2 (\\because E(X) = \\mu) \\\\\n",
    "&= a^2E(X^2) - a^2\\mu^2 = a^2\\left\\{E(X^2) - \\mu^2\\right\\} \\\\\n",
    "&= a^2 Var(X)\n",
    "}\n",
    "$$"
   ]
  },
  {
   "cell_type": "markdown",
   "metadata": {},
   "source": [
    "$$\n",
    "\\eqalign {\n",
    "Var(aX + bY) &= E[((aX + bY) - E(aX + bY))^2] \\\\\n",
    "&= E[(aX + bY -aE(X) - bE(Y)\\; )^2] \\\\\n",
    "&= E[(a(X - E(X)) + b(Y - E(Y))\\;)^2]\\\\\n",
    "&= E[a^2(X - E(X))^2 + 2ab(X - E(X))(Y - E(Y)) + b^2(Y - E(Y))^2] \\\\\n",
    "&= a^2E[(X - E(X))^2] + b^2E[(Y - E(Y))^2] + 2abE[(X - E(X))(Y - E(Y))]\\\\\n",
    "&= a^2 Var(X) + b^2 Var(Y) + 2ab Cov(X,Y) \n",
    "}\n",
    "$$"
   ]
  },
  {
   "cell_type": "markdown",
   "metadata": {},
   "source": [
    "   * X, Y 가 독립이면 $Cov(X,Y) = 0$ 이므로\n",
    "$$Var(aX + bY) = a^2 Var(X) + b^2 Var(Y)$$\n",
    "\n",
    "   * a = 1, b = 1 이고, X,Y 가 독립이면\n",
    "$$Var(X + Y) = Var(X) + Var(Y)$$"
   ]
  },
  {
   "cell_type": "markdown",
   "metadata": {},
   "source": [
    "#### 공분산 (Covariance) 와 상관계수(Correlation)"
   ]
  },
  {
   "cell_type": "markdown",
   "metadata": {},
   "source": [
    "##### 공분산의 정의"
   ]
  },
  {
   "cell_type": "markdown",
   "metadata": {},
   "source": [
    "   * 두 확률변수 X, Y 의 공분산은 X 가 변할때 Y 가 변하는 정도를 나태내는 값\n",
    "$$Cov(X,Y) = E[(X - \\mu_x)(Y - \\mu_y)]$$ \n",
    "\n",
    "   * 두 확률변수 X, Y 에 결합확률분포 함수를 $f(x,y)$ 라고 하면 공분산 $Cov(X,Y)$ 는 다음과 같다.\n",
    "   \n",
    "   \n",
    "$$Cov(X,Y) = \\sum_x \\sum_y(x - \\mu_x)(y - \\mu_y)\\;f(x,y) = \\int_{-\\infty}^{\\infty}\\int_{-\\infty}^{\\infty}(x - u_x)(y - u_y)\\;dx\\;dy$$"
   ]
  },
  {
   "cell_type": "markdown",
   "metadata": {},
   "source": [
    "   * 공분산의 정의를 이용하여 \n",
    "\n",
    "$$\n",
    "\\eqalign{\n",
    "Cov(X,Y) &= E[(X - \\mu_x)(Y - \\mu_y)] = E[XY - X\\mu_y - \\mu_x Y + \\mu_x \\mu_y] \\\\\n",
    "&= E(XY) -\\mu_y E(X) - \\mu_x E(Y) + \\mu_x \\mu_y \\\\\n",
    "&= E(XY) - \\mu_x \\mu_y = E(XY) - E(X)E(Y)\n",
    "}\n",
    "$$\n",
    "\n",
    "왜냐하면 $E(X) = \\mu_x$, $E(Y) = \\mu_y$\n"
   ]
  },
  {
   "cell_type": "markdown",
   "metadata": {},
   "source": [
    "$$\n",
    "\\eqalign{\n",
    "Cov(X,X) &= E[(X - \\mu_x)(X - \\mu_x)] = E[X^2 - X\\mu_x - \\mu_x X + \\mu_x \\mu_x] \\\\\n",
    "&= E(X^2) -\\mu_x E(X) - \\mu_x E(X) + \\mu_x \\mu_x \\\\\n",
    "&= E(X^2) - \\mu_x^2 = E(X^2) - \\left\\{E(X)\\right\\}^2 \\\\\n",
    "&= Var(X)\n",
    "}\n",
    "$$"
   ]
  },
  {
   "cell_type": "markdown",
   "metadata": {},
   "source": [
    "   * 두 확률변수 X,Y 가 독립변수 이면  $E(XY) = E(X)E(Y)$ 이므로\n",
    "   \n",
    "   * $Cor(X,Y) = E(XY) - E(X)E(Y) = E(X)E(Y) - E(X)E(Y) = 0$\n"
   ]
  },
  {
   "cell_type": "markdown",
   "metadata": {},
   "source": [
    "   * 공분산의 의미\n",
    "   \n",
    "   \n",
    "   * Cov(X, Y) > 0    X가 증가 할 때 Y도 증가한다.\n",
    "   * Cov(X, Y) < 0    X가 증가 할 때 Y는 감소한다.\n",
    "   * Cov(X, Y) = 0    공분산이 0이라면 두 변수간에는 아무런 선형관계가 없으며 두 변수는 서로 독립적인 관계에 있음을 알 수 있다.\n",
    "   * 그러나 두 변수가 독립적이라면 공분산은 0이 되지만, 공분산이 0이라고 해서 항상 독립적이라고 할 수 없다.\n",
    "   \n",
    "   \n",
    "   * 공분산은 두 확률변수의 결합 방향을 의미합니다.\n",
    "   * 단위에 무관한 정확한 계량 값을 구하려면 상관계수(Correlation) 을 구하여야 합니다."
   ]
  },
  {
   "cell_type": "markdown",
   "metadata": {},
   "source": [
    "   * a, b, c, d 가 임의 실수라면 다음의 식이 만족합니다.\n",
    "\n",
    "$$\n",
    "\\begin{array}{ll}\n",
    "Cov(aX, bY) &=  ab\\;Cov(X,Y)\\cr\n",
    "Cov(X+a, Y+b) &= Cov(X,Y) \\cr\n",
    "Cov(X, aX+b) &= a\\;Var(X) \\cr\n",
    "Cov(aX+b, cX+d) &= ac\\;Var(X)\n",
    "\\end{array}\n",
    "$$\n"
   ]
  },
  {
   "cell_type": "markdown",
   "metadata": {},
   "source": [
    "##### 상관계수"
   ]
  },
  {
   "cell_type": "markdown",
   "metadata": {},
   "source": [
    "$$ \\rho \\;or\\; r_{xy} = \\dfrac{Cor(X,Y)}{\\sqrt{Var(X)\\;Var(Y)}}  \\; where \\;\\; -1 \\le \\rho \\le 1$$"
   ]
  },
  {
   "cell_type": "markdown",
   "metadata": {},
   "source": [
    "   * 상관계수의 의미\n",
    "\n",
    "   * 상관계수의 절대값은 1을 넘을 수 없다.\n",
    "   * 확률변수 X, Y가 독립이라면 상관계수는 0이다.\n",
    "   * X와 Y가 선형적 관계라면 상관계수는 야의 선형관계면 1 혹은 음의 선형관계면 -1이다."
   ]
  },
  {
   "cell_type": "markdown",
   "metadata": {},
   "source": [
    "## 표본평균의 표준편차 추정"
   ]
  },
  {
   "cell_type": "markdown",
   "metadata": {},
   "source": [
    "   * 모집단에서 딱 한개 측정치는  $n$ 개를  표본 추출합니다.\n",
    "   * 모집단에 대해서는 평균이나 모집단 표준편차는 알수 없는 환경입니다.\n",
    "   * 이경우 표본평균과 표본평균의 표준편차를 구하고자 합니다."
   ]
  },
  {
   "cell_type": "markdown",
   "metadata": {},
   "source": [
    "#### 표본평균"
   ]
  },
  {
   "cell_type": "markdown",
   "metadata": {},
   "source": [
    "   * 표본평균은 표본샘플된 관측치 갯수를 다 더해서 나누면 됩니다.\n",
    "   * $X = \\left\\{x_1, x_2, x_3,\\cdots, x_n\\right\\}$ 입니다.\n",
    "   \n",
    "   $${\\bar x} = \\dfrac{1}{n}\\sum_{i = 1}^{n}x_n$$"
   ]
  },
  {
   "cell_type": "markdown",
   "metadata": {},
   "source": [
    "   * 표번평균의 표준편차를 구하려면 분산을 구하여야 하는데, 지금 샘플링은 딱 1 개만 있으며, 표본평균도 딱 1개 입니다.\n",
    "   * 따라서 표본평균의 표준편차를 단순 계산이 아니고 **추정(Estimate) 계산** 을 하여야 합니다."
   ]
  },
  {
   "cell_type": "markdown",
   "metadata": {},
   "source": [
    "   * 분산이나 표준편차를 계산하기 위해서는 여러개의 표본이 필요하나 지금은 딱 1개만 있으므로 n개의 관측치가 있는 표본 샘플에서 표본평균과 표본평균 분산을 추정 계산을 합니다."
   ]
  },
  {
   "cell_type": "markdown",
   "metadata": {},
   "source": [
    "   * **사실 이부분은 저자의 설명하고자 하는 의도를 파악하는데 많은 애를 먹었습니다.ㅜㅜ**\n",
    "   * 너무 많은 이야기를 수식없이 핵심만 이야기 하려다 보니, 내용에서 이야기를 전개하는데 몇몇 중요한 이야기가 빠진것 같습니다.\n",
    "   * 그렇지만 고등학교 수준에서 이야기 하는것보다는 좀더 핵심적으로 설명하려고 한것 같습니다."
   ]
  },
  {
   "cell_type": "markdown",
   "metadata": {},
   "source": [
    "#### 표본평균 표준편차를 구하는 기본 생각"
   ]
  },
  {
   "cell_type": "markdown",
   "metadata": {},
   "source": [
    "   * 표본평균은 딱 1 개 가 있으며, 그안에 관측치가 $n$ 개 있으며, 관측치는 $\\left\\{x_1, x_2, x_3,\\cdots,x_n \\right \\}$ 로 표시합니다.\n",
    "   * 앞에서 설명하였다시피 표본추출은 임의복원 추출로 가정합니다. 임의 비복원추출을 가정할 수 도 있으나 논의를 간단하게 하기 위해서 임의복원추출로 가정합니다.\n",
    "   * 임의 복원 추출이라는 것은 모집단에서 임의로 하나의 샘플을 가져오고 정보를 확인 한 후에 다시 샘플을 모집단에 넣어두는 것을 말합니다.\n",
    "   * 예를 들면 빨간공 4개 파란공 6개 들은 보자기에서 임의적으로 하나를 가져와 빨간공인지 파란공이지 확인한 후에 다시 보자기에 공을 넣는 것을 임의 복원 추출이라고 합니다."
   ]
  },
  {
   "cell_type": "markdown",
   "metadata": {},
   "source": [
    "   * 이런 상황에서 표본평균은 확률변수이며, 그 안의 $n$ 개의 관측치 $\\left\\{x_1, x_2, x_3, \\cdots, x_n \\right \\}$ 또한 확률변수이며 임의복원이므로 서로 독립변수 입니다. \n",
    "   * 따라서 n 개의 독립 확률변수 각각은 기대치(평균)과 분산을 가질수 있습니다.\n",
    "   * 이제 이전에 지루하게 책에는 없는 내용을  앞에서 평균, 분산, 공분산 관련 설명했던 공식 내용을 활용할 수 있습니다.\n",
    "   * 즉 두개의 독립 확률변수 X, Y 를 결합한 기대치는 다음과 같다고 할 수 있습니다.\n",
    "   \n",
    "   \n",
    "   * $E(aX + bY) = aE(X) + bE(Y)$\n",
    "   * $Var(aX + bY) = a^2Var(X) + b^2Var(Y)$"
   ]
  },
  {
   "cell_type": "markdown",
   "metadata": {},
   "source": [
    "   * 표본평균 표본분산 을 구하는 기본 아이디어는 다음과 같습니다\n",
    "   \n",
    "   * 각 관측치를 n개가 있는것처럼 생각하고 각각에 $\\dfrac{1}{n}$ 만큼씩 가증치를 줍니다.\n",
    "   \n",
    "   * $E({\\bar x}) = E(\\dfrac{x_1+x_2+x_3+\\cdots+x_n}{n}) = E(\\dfrac{1}{n}x_1+\\dfrac{1}{n}x_2+\\dfrac{1}{n}x_3+\\cdots+\\dfrac{1}{n}x_n) = \\dfrac{1}{n}E(x_1)+\\dfrac{1}{n}E(x_2)+\\dfrac{1}{n}E(x_3)+\\cdots+\\dfrac{1}{n}E(x_n)$ 이 된다.\n",
    "   \n",
    "   * 이것은 $\\dfrac{1}{n}(E(x_1) + E(x_2) + E(x_3) + \\cdots + E(x_n))$ 이 됩니다.\n",
    "   \n",
    "   * 즉 관측치를 $\\left\\{x_1,x_2,x_3,\\cdots,x_n\\right\\}$ 대신에 표본평균을 맞추기 위하여 각 관측치에 $\\dfrac{1}{n}$ 만큼의 가중치를 준 $\\left\\{\\dfrac{1}{n}x_1, \\dfrac{1}{n}x_2, \\dfrac{1}{n}x_3,\\cdots,\\dfrac{1}{n}x_n\\right\\}$ 도 각 관측치는 독립적인 확률변수가 되고, 분산을 가질수가 있다.\n",
    "\n",
    "   \n"
   ]
  },
  {
   "cell_type": "markdown",
   "metadata": {},
   "source": [
    "   * 분산식은 모집단 $\\sigma^2$ 에서 가져와야 하나, 일반적으로 모집단 분산을 구할수가 없으므로 이에 유사한 표본 편차로 대체한다.\n",
    "   * $Var({\\bar x}) = Var(\\dfrac{1}{n}x_1 + \\dfrac{1}{n}x_2 + \\dfrac{1}{n}x_3 + \\cdots + \\dfrac{1}{n}x_n) = \\dfrac{1}{n^2}(Var(x_1) + Var(x_2) + Var(x_3) + \\cdots + Var(x_n)) = \\dfrac{1}{n^2}( n \\times s^2)$ \n",
    "   \n",
    "   * $Var(x_1), Var(x_2), \\cdots, Var(x_n)$ 은 모집단 $\\sigma^2$ 와 같아야 하나, 현실적으로 모집단의 분산을 구할수 없으므로 대신 표본분산 $s^2$ 으로 사용 할 수 있습니다."
   ]
  },
  {
   "cell_type": "markdown",
   "metadata": {},
   "source": [
    "#### 이제 이런 지식을 기본으로 하여 책으로 돌아가서 보면"
   ]
  },
  {
   "cell_type": "markdown",
   "metadata": {},
   "source": [
    "   * page 170 부터 내용을 보면\n",
    "   * 표본평균은 단 하나만 있으므로 분산을 계산 할 수 없습니다.\n",
    "   * 그래서 관측치 1개를 n개 있는 것처럼 생각하고 표준편차를 계산합니다. ( 이것이 가능한 이유는 앞에서 설명했듯이 관측치가 확률변수이기 때문에 가능합니다)\n",
    "   \n",
    "    <img src=\"../image/ed107.png\" width=\"500\" height=\"200\" align=\"left\">  page 170"
   ]
  },
  {
   "cell_type": "markdown",
   "metadata": {},
   "source": [
    "   * 그림은 n = 10 이라고 가정하고 1개의 관측치를 10개로 나눈것입니다.\n",
    "   \n",
    "   * 그럼 표본평균은 다음과 같이 풀어쓸수 있습니다.\n",
    "   $${\\bar x} = \\dfrac{x_1}{n} + \\dfrac{x_2}{n} + \\dfrac{x_3}{n} + \\cdots + \\dfrac{x_{n-1}}{n} + \\dfrac{x_n}{n}$$ "
   ]
  },
  {
   "cell_type": "markdown",
   "metadata": {},
   "source": [
    "   * 즉 n 으로 나눈 각관측치 역시 확률변수이므로 기대값이 $\\dfrac{x_i}{n}$ 이 되며, 이들역시 분산을 가질수 있습니다.\n",
    "   * 분산은 모평균의 분산을 구 할 수 없으므로 표본편차를 사용합니다.\n",
    "   $$ s^2_x = \\dfrac{1}{n - 1}\\sum_{i=1}^{n}(x_i - {\\bar x})^2$$"
   ]
  },
  {
   "cell_type": "markdown",
   "metadata": {},
   "source": [
    "   * 여기서 $\\dfrac{x_1}{n}$ 부터 $n$ 항까지 분산을 계산하여 n 항 까지 합산을 합니다.. 이경우 이전에 봤듯이 계수 가 $\\dfrac{1}{n}$ 이 있으므로 $\\sum$ 바깥으로 나오면서 제곱이 됩니다."
   ]
  },
  {
   "cell_type": "markdown",
   "metadata": {},
   "source": [
    "  * 즉 $s^2_{x_1/n} = \\dfrac{s^2_{x}}{n^2}, s^2_{x_2/n} = \\dfrac{s^2_{x}}{n^2}, \\cdots$ 이 됩니다.\n",
    "  \n",
    "  \n",
    "  * 이것이 가능한 이유는 확률변수 $x_i$ 가 각각독립 확률변수이기 때문에 가능합니다."
   ]
  },
  {
   "cell_type": "markdown",
   "metadata": {},
   "source": [
    "   * 이것을 모두 합산하면 다음과 같습니다\n",
    "$$\n",
    "\\eqalign {\n",
    "   s^2_{\\bar x} &= s^2_{x_1/n} + s^2_{x_2/n} + s^2_{x_3/n} + \\cdots + s^2_{x_{n-1}/n} + s^2_{x_n/n} \\\\\n",
    "   &= \\dfrac{s^2_x}{n^2} + \\dfrac{s^2_x}{n^2} + \\dfrac{s^2_x}{n^2} + \\cdots + \\dfrac{s^2_x}{n^2} + \\dfrac{s^2_x}{n^2} \\\\\n",
    "   &= n \\times \\dfrac{s^2_x}{n^2} = \\dfrac{s^2_x}{n}\n",
    "}\n",
    "$$"
   ]
  },
  {
   "cell_type": "markdown",
   "metadata": {},
   "source": [
    "   * 참 많이 돌아 왔습니다. 그러나 결론은 표본평균의 $s^2_{\\bar x}$ 는 표본 분산  $s^2_x$ 의 $\\frac{1}{n}$ 이라는 것입니다.\n",
    "   * 즉 하나의 값 $x$ 의 분산 보다는 n 개의 값 평균 ${\\bar x}$ 가 한곳으로 집중 분포되어 있을것이고, 따라서 분산이 $n$ 에 반비례하는 것입니다.\n",
    "   * 표본평균의 표준편차는 간단하게 $s_{\\bar x} = \\sqrt{\\dfrac{s^2_x}{n}} = \\dfrac{s_x}{\\sqrt{n}}$ 입니다.\n",
    "   \n",
    "   \n",
    "   * 표본평균의 표준편차는 $\\dfrac{1}{\\sqrt{n}}$ 배가 됩니다. 즉 관측치가 100 개이면 분포되는 정도는 1/10 이 되는 것입니다."
   ]
  },
  {
   "cell_type": "markdown",
   "metadata": {},
   "source": [
    "#### 마지막으로 잠깐 퀴즈를 내보면 (천재학습에 있는 고등학교 문제입니다.)"
   ]
  },
  {
   "cell_type": "markdown",
   "metadata": {},
   "source": [
    "   * 정규분포 $N(60, 8^2)$을 따르는 모집단에서 크기가 25인 표본을 임의추출할 때, 표본평균 ${\\bar x}$ 의 평균 $E({\\bar x})$와 분산 $V({\\bar x})$를 각각 구하여라. "
   ]
  },
  {
   "cell_type": "markdown",
   "metadata": {},
   "source": [
    "   * 풀이 : $E({\\bar x}) = 60$, $V({\\bar x}) = \\dfrac{8^2}{25} = (\\dfrac{8}{5})^2$"
   ]
  },
  {
   "cell_type": "markdown",
   "metadata": {},
   "source": [
    "   * 다음에 t-분포및 p-값 검정에 대해서 설명합니다.\n",
    "   * 휴ㅠㅠ 이번 정말 힘들었어요ㅜㅜ"
   ]
  }
 ],
 "metadata": {
  "kernelspec": {
   "display_name": "R",
   "language": "R",
   "name": "ir"
  },
  "language_info": {
   "codemirror_mode": "r",
   "file_extension": ".r",
   "mimetype": "text/x-r-source",
   "name": "R",
   "pygments_lexer": "r",
   "version": "3.4.3"
  }
 },
 "nbformat": 4,
 "nbformat_minor": 2
}
