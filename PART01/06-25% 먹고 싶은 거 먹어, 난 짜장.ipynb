{
 "cells": [
  {
   "cell_type": "markdown",
   "metadata": {},
   "source": [
    "# <span style=\"color:blue\"> 이토록 쉬운 통계 & R </span>"
   ]
  },
  {
   "cell_type": "markdown",
   "metadata": {},
   "source": [
    "<img src=\"../image/cover.png\" width=\"200\" height=\"400\" align=\"left\">  임경덕 지음"
   ]
  },
  {
   "cell_type": "markdown",
   "metadata": {},
   "source": [
    "## 25% 먹고 싶은거 먹어, 난 짜장 (6일차)"
   ]
  },
  {
   "cell_type": "markdown",
   "metadata": {},
   "source": [
    "   * 범주형 변수에 대한 설명"
   ]
  },
  {
   "cell_type": "markdown",
   "metadata": {},
   "source": [
    "   * 범주형 변수는 정해진 값 중에 하나를 선택해야 하는 변수입니다.\n",
    "   * 범주형 변수가 가질수 있는 한정적인 값들을 **수준(Levels)** 라고 합니다."
   ]
  },
  {
   "cell_type": "markdown",
   "metadata": {},
   "source": [
    "   * 연속형 변수인 경우에는 줄을 세워놓고, 사분위 숫자를 찻거나, 평균, 표준편차등을 구하지만\n",
    "   * 범주형 변수는 수준별로 몇개의 관측치가 있는지 세면 됩니다.\n",
    "   * 예를 들면 성별인 경우 남자, 여자가 몇명인지 세면 성별 분포를 바로 확인 할 수 있습니다.\n",
    "   * **계수(Counting)** 로 범주형 변수를 요약하는 과정을 살펴 봅시다."
   ]
  },
  {
   "cell_type": "markdown",
   "metadata": {},
   "source": [
    "## 동전 던지기"
   ]
  },
  {
   "cell_type": "markdown",
   "metadata": {},
   "source": [
    "   * 동전을 던져서 받은 뒤 나온 면이 앞면인지 뒷면이진를 기록합니다.\n",
    "   * 이것을 모두 10 회 반복합니다.\n",
    "   * 변수는 **동전을 던져 나온 면** 이 됩니다.\n",
    "   * 나올수 있는 값은 앞 또는 뒤 2개의 값만 있으므로 범주형 변수 입니다.\n",
    "   \n",
    "   * 이것을 기록한것이 다름과 같습니다.\n",
    "   \n",
    " <img src=\"../image/ed031.png\" width=\"500\" height=\"400\" align=\"center\">"
   ]
  },
  {
   "cell_type": "markdown",
   "metadata": {},
   "source": [
    "   * 이것을 앞면과 뒷면으로 정렬하면\n",
    "\n",
    "<img src=\"../image/ed031.png\" width=\"500\" height=\"400\" align=\"center\">"
   ]
  },
  {
   "cell_type": "markdown",
   "metadata": {},
   "source": [
    "   * 최종적으로 다음과 같은 표로 정리 됩니다.\n",
    "   \n",
    " <img src=\"../image/ed033.png\" width=\"500\" height=\"400\" align=\"center\">"
   ]
  },
  {
   "cell_type": "markdown",
   "metadata": {},
   "source": [
    "   * 지금의 경우는 수준이 2개이나, 거주지역, 연령대 처럼 범주형 변수의 수준 갯수가 많으면, 숫자만으로 파악하기 쉽지 않습니다.\n",
    "   * 직관적으로 파악 할 수 있는 그래프를 활용 합니다."
   ]
  },
  {
   "cell_type": "markdown",
   "metadata": {},
   "source": [
    "## 파이차트 와 막대 그래프"
   ]
  },
  {
   "cell_type": "markdown",
   "metadata": {},
   "source": [
    "### 파이차트"
   ]
  },
  {
   "cell_type": "markdown",
   "metadata": {},
   "source": [
    "<img src=\"../image/ed034.png\" width=\"500\" height=\"400\" align=\"center\">"
   ]
  },
  {
   "cell_type": "markdown",
   "metadata": {},
   "source": [
    "### 막대그래프"
   ]
  },
  {
   "cell_type": "markdown",
   "metadata": {},
   "source": [
    "<img src=\"../image/ed035.png\" width=\"500\" height=\"400\" align=\"center\">"
   ]
  },
  {
   "cell_type": "markdown",
   "metadata": {},
   "source": [
    "   * 히스토그램과 차이는 가로축에 연속형 변수가 들어와서 구간을 적절히 나누는 중간 과정이 있습니다.\n",
    "   * 막대그래프 인 경우에는 가로축이 범주형 변수라서, 구간을 나눌필요가 없습니다."
   ]
  },
  {
   "cell_type": "markdown",
   "metadata": {},
   "source": [
    "   * 수준이 늘어나면, 파이차트 보다는 막대그래프가 효과적입니다. 파이차트인 경우에는 $360^\\circ$ 가 한계가 있으므로 막대그래프는 막대만 추가하면 되나, 파이차트인 경우에는 계속 전체각도 $360^\\circ$ 를 나누어야 하므로 데이터를 한눈에 보기 어렵다."
   ]
  },
  {
   "cell_type": "markdown",
   "metadata": {},
   "source": [
    "   * 연령대별 회원수 라는 데이터로 살펴보면 다음과 같습니다.\n",
    "\n",
    "<img src=\"../image/ed036.png\" width=\"500\" height=\"400\" align=\"center\">"
   ]
  },
  {
   "cell_type": "markdown",
   "metadata": {},
   "source": [
    "<img src=\"../image/ed037.png\" width=\"500\" height=\"400\" align=\"center\">"
   ]
  },
  {
   "cell_type": "markdown",
   "metadata": {},
   "source": [
    "   * 총 5 개의 수준을 그래프로 보면 파이차트 인 경우에는 비교하기가 어렵습니다.\n",
    "   * 예를 들면 20대 와 40대의 파이크기는 같고, 30대는 이들보다 1만큼 크지만, 파이 챠트에서는 잘 파악하기 어렵니다.\n",
    "   * 막대 그래프인 경우에는 크기가 높이로 표현되어 있어 이들 비교가 한눈에 나타난다."
   ]
  },
  {
   "cell_type": "markdown",
   "metadata": {},
   "source": [
    "   * 범주형 변수는 계수(Counting) 을 통하여  간단하게 요약하고, 그 결과를 막대그래프로 손쉽게 표현 할 수 있습니다."
   ]
  }
 ],
 "metadata": {
  "kernelspec": {
   "display_name": "R",
   "language": "R",
   "name": "ir"
  },
  "language_info": {
   "codemirror_mode": "r",
   "file_extension": ".r",
   "mimetype": "text/x-r-source",
   "name": "R",
   "pygments_lexer": "r",
   "version": "3.4.3"
  }
 },
 "nbformat": 4,
 "nbformat_minor": 2
}
