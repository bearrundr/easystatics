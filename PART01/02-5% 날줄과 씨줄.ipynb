{
 "cells": [
  {
   "cell_type": "markdown",
   "metadata": {},
   "source": [
    "# <span style=\"color:blue\"> 이토록 쉬운 통계 & R </span>"
   ]
  },
  {
   "cell_type": "markdown",
   "metadata": {},
   "source": [
    "<img src=\"../image/cover.png\" width=\"200\" height=\"400\" align=\"left\">  임경덕 지음"
   ]
  },
  {
   "cell_type": "markdown",
   "metadata": {},
   "source": [
    "## 5% 날줄과 씨줄 (2일차)"
   ]
  },
  {
   "cell_type": "markdown",
   "metadata": {},
   "source": [
    "   * 데이터를 모을려면\n",
    "       * 어떤 공통된 특징이 있어야 한다.\n",
    "       * 또한 특징은 데이터의 각각에 비교가능해야 합니다.\n",
    "       * 예를들어 신체적인 특징을 보면 몸무게, 키, 성별 이 될 수도 있습니다.\n",
    "       * 다르게는 사는동데, 출근하는 교통수단, 교육수준. 연봉등이 될 수도 있습니다.\n",
    "       * 이런 특징에 대한 차이를 확인 할 수 없으면, 데이터를 분석 할 의미가 없습니다."
   ]
  },
  {
   "cell_type": "markdown",
   "metadata": {},
   "source": [
    "   * **그래서 데이터에서 어떤것을 봐야 할지를 생각하는 것이 중요합니다.**\n",
    "   * 그런것을 관점이라고 합니다. 이것은 몸무게, 키, 성별, 교육수준, 연봉 등등이 될 수 있습니다."
   ]
  },
  {
   "cell_type": "markdown",
   "metadata": {},
   "source": [
    "## 데이터의 구성"
   ]
  },
  {
   "cell_type": "markdown",
   "metadata": {},
   "source": [
    "<img src=\"../image/ed002.png\" width=\"300\" height=\"200\" align=\"left\">"
   ]
  },
  {
   "cell_type": "markdown",
   "metadata": {},
   "source": [
    "   * 변수 (Variable)\n",
    "      * 표에서 몸무게 라는 세로줄을 보면 5명이 서로 다른 값을 가지고 있다.\n",
    "      * 이렇게 고정된 관점에서 다섯명 각각이 다른 값을 가지고 있는 것을 알 수 있다.\n",
    "      * 몸무게 라는 열에서 다양한 값들이 모여 있다고 해서 이것을 변수라고 부릅니다.\n",
    "      * 위 표에서는 모두 3개 (**이름, 성별, 몸무게**)의 **변수** 가 있습니다.\n",
    "      * 변수는 열로 표시 됩니다. (날줄)"
   ]
  },
  {
   "cell_type": "markdown",
   "metadata": {},
   "source": [
    "   * 관측치 또는 관측개체\n",
    "       * 데이터를 만드는 관측의 단위\n",
    "       * 표에서는 A, B, C, D,... 등등이 된다.  (책에서는 이것을 이제 설명 합니다.)\n",
    "       * 관측의 단위를 정하고 나면 변수를 정합니다.\n",
    "       * 표에서는 관측의 단위가 사람(A,B,...등) 이고, 변수는 이름, 성별, 몸무게 입니다.\n",
    "       * 각 관측치는 행 (씨줄) 로 표시 합니다."
   ]
  },
  {
   "cell_type": "markdown",
   "metadata": {},
   "source": [
    "   * **데이터는 이렇게 변수(열) 와 관측치(행)** 으로 구성됩니다."
   ]
  },
  {
   "cell_type": "markdown",
   "metadata": {},
   "source": []
  }
 ],
 "metadata": {
  "kernelspec": {
   "display_name": "R",
   "language": "R",
   "name": "ir"
  },
  "language_info": {
   "codemirror_mode": "r",
   "file_extension": ".r",
   "mimetype": "text/x-r-source",
   "name": "R",
   "pygments_lexer": "r",
   "version": "3.4.3"
  }
 },
 "nbformat": 4,
 "nbformat_minor": 2
}
