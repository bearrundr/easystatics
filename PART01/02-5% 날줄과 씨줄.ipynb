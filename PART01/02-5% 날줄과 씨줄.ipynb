{
 "cells": [
  {
   "cell_type": "markdown",
   "metadata": {},
   "source": [
    "# <span style=\"color:blue\"> 이토록 쉬운 통계 & R </span>"
   ]
  },
  {
   "cell_type": "markdown",
   "metadata": {},
   "source": [
    "<img src=\"../image/cover.png\" width=\"200\" height=\"400\" align=\"left\">  임경덕 지음"
   ]
  },
  {
   "cell_type": "markdown",
   "metadata": {},
   "source": [
    "## 5% 날줄과 씨줄 (2일차)"
   ]
  },
  {
   "cell_type": "markdown",
   "metadata": {},
   "source": [
    "   * 데이터를 모을려면\n",
    "       * 어떤 공통된 특징이 있어야 한다.\n",
    "       * 또한 특징은 데이터의 각각에 비교가능해야 합니다.\n",
    "       * 예를들어 신체적인 특징을 보면 몸무게, 키, 성별 이 될 수도 있습니다.\n",
    "       * 다르게는 사는동데, 출근하는 교통수단, 교육수준. 연봉등이 될 수도 있습니다.\n",
    "       * 이런 특징에 대한 차이를 확인 할 수 없으면, 데이터를 분석 할 의미가 없습니다."
   ]
  },
  {
   "cell_type": "markdown",
   "metadata": {},
   "source": [
    "   * **그래서 데이터에서 어떤것을 봐야 할지를 생각하는 것이 중요합니다.**\n",
    "   * 그런것을 관점이라고 합니다. 이것은 몸무게, 키, 성별, 교육수준, 연봉 등등이 될 수 있습니다."
   ]
  },
  {
   "cell_type": "markdown",
   "metadata": {},
   "source": [
    "## 데이터의 구성"
   ]
  },
  {
   "cell_type": "markdown",
   "metadata": {},
   "source": [
    "<img src=\"../image/ed002.png\" width=\"300\" height=\"200\" align=\"left\">"
   ]
  },
  {
   "cell_type": "markdown",
   "metadata": {},
   "source": [
    "   * 변수 (Variable)\n",
    "      * 표에서 몸무게 라는 세로줄을 보면 5명이 서로 다른 값을 가지고 있다.\n",
    "      * 이렇게 고정된 관점에서 다섯명 각각이 다른 값을 가지고 있는 것을 알 수 있다.\n",
    "      * 몸무게 라는 열에서 다양한 값들이 모여 있다고 해서 이것을 변수라고 부릅니다.\n",
    "      * 위 표에서는 모두 3개 (**이름, 성별, 몸무게**)의 **변수** 가 있습니다.\n",
    "      * 변수는 열로 표시 됩니다. (날줄)"
   ]
  },
  {
   "cell_type": "markdown",
   "metadata": {},
   "source": [
    "   * 관측치 또는 관측개체(Observation)\n",
    "       * 데이터를 만드는 관측의 단위\n",
    "       * 표에서는 A, B, C, D,... 등등이 된다.  (책에서는 이것을 이제 설명 합니다.)\n",
    "       * 관측의 단위를 정하고 나면 변수를 정합니다.\n",
    "       * 표에서는 관측의 단위가 사람(A,B,...등) 이고, 변수는 이름, 성별, 몸무게 입니다.\n",
    "       * 각 관측치는 행 (씨줄) 로 표시 합니다."
   ]
  },
  {
   "cell_type": "markdown",
   "metadata": {},
   "source": [
    "   * **데이터는 이렇게 변수(열) 와 관측치(행)** 으로 구성됩니다."
   ]
  },
  {
   "cell_type": "markdown",
   "metadata": {},
   "source": [
    "## 데이터와 데이터 공간"
   ]
  },
  {
   "cell_type": "markdown",
   "metadata": {},
   "source": [
    "   * 데이터는 데이터 공간에서 점으로 표현을 할 수 있습니다.\n",
    "   * 위 표를 예로 들어 보면 가로축을 몸무게로 세로축을 성별로 하는 2차원 공간에서 점으로 표시 합니다.\n",
    "      * 가로축은 왼쪽에서 오른쪽으로 몸무게가 많이 나가도록 하고\n",
    "      * 세로축은 성별로 위쪽은 남자, 아래쪽은 여자로 표시 할 수 있습니다.\n",
    "      * 다음 그림에서 데이터 변수는  가로, 세로축으로 놓으면 관측치는 에 A,B,C,... 등 으로 점으로 표현합니다\n",
    "\n",
    "<img src=\"../image/ed003.png\" width=\"400\" height=\"300\" align=\"left\">"
   ]
  },
  {
   "cell_type": "markdown",
   "metadata": {},
   "source": [
    "  * 만일 변수가 2개 이상 3, 4, 로 늘어 나면 2개의 축에서 3, 4, 축으로 늘어 납니다.\n",
    "  * 이것을 변수가 2개면 2차원, 3개면 3차원, 4개면 4차원... 이런식으로 부릅니다.\n",
    "  * 데이터(관측치) 는 이러한 변수들이 만들어 놓은 공간에 점으로 표시 됩니다."
   ]
  },
  {
   "cell_type": "markdown",
   "metadata": {},
   "source": [
    "   * 데이터 분석이란, 데이터를 구성하는 변수와 관측치가 축과 점으로 표현이 되는데, 이런 공간에서 특징을 설명하고, 흩허져 있는 점들의 관측치 패턴을 찿아내는 과정입니다."
   ]
  },
  {
   "cell_type": "markdown",
   "metadata": {},
   "source": [
    "### 통계적 접근 과 프로파일링"
   ]
  },
  {
   "cell_type": "markdown",
   "metadata": {},
   "source": [
    "   * 100 개의 변수와 100만개의 관측치가 있을때, 데이터를 살펴보는 방법.\n",
    "       * 한꺼번에 보기에는 너무 복잡하고, 어렵다.\n",
    "       * 프로파일링\n",
    "           * 한개의 관측치에 대해서 각 변수별 자료를 살표본다\n",
    "           * 키는 190 cm, 몸무게는 80 kg, 이름은 홍길동 ... 이런식이다.\n",
    "       * 통계적 접근\n",
    "           * 하나의 변수에 대해서 100만개의 관측치를 살펴본다.\n",
    "           * 키라는 변수를 선택하면, 최대 큰키, 평균, 가장 작은키 등등... 특징을 찿아냅니다.\n",
    "           * 관측치 살펴 봄으로써 의미 있는 패턴을 찿아냅니다.\n",
    "           \n",
    "   * 데이터 분석은 데이터를 변수 단위로 나누어서 분석하거나 변수 사이의 관계를 살펴봅니다."
   ]
  },
  {
   "cell_type": "markdown",
   "metadata": {},
   "source": [
    "### 알파벳을 활용한 예제 데이터의 표현"
   ]
  },
  {
   "cell_type": "markdown",
   "metadata": {},
   "source": [
    "   * 데이터를 분석하기 위해서는 수식을 사용하여야 하면, 수식에 필요한 여러가지 수학적 기호를 약속해야 합니다."
   ]
  },
  {
   "cell_type": "markdown",
   "metadata": {},
   "source": [
    "   * 변수의 갯수 $p$, 관측치의 갯수 $n$"
   ]
  },
  {
   "cell_type": "markdown",
   "metadata": {},
   "source": [
    "   * 데이터의 크기 $ x \\times p$"
   ]
  },
  {
   "cell_type": "markdown",
   "metadata": {},
   "source": [
    "   * 변수 $x$"
   ]
  },
  {
   "cell_type": "markdown",
   "metadata": {},
   "source": [
    "   * 관측치 및 아래 첨차 알파벳\n",
    "        * 하나의 변수에는 $n$ 개의 관측치가 있습니다.\n",
    "        * 따라서 변수는 $x$ 로 표시합니다.\n",
    "        * 아래첨자는 몇번째 관측치 인지 표시 합니다.\n",
    "        * 예를 들어 변수 $x$ 의 i 번쨰 관측치는 $x_i$ 로 표시 합니다.\n",
    "        * $x_n$ 은 $x$ 의 마지막 관측치 입니다."
   ]
  },
  {
   "cell_type": "markdown",
   "metadata": {},
   "source": [
    "   * $x$ 를 $x_i$ 로 표현 한다면 다음과 같다.\n",
    "   \n",
    "$$ x = \\begin{bmatrix}x_1\\\\\\ x_2 \\\\\\ x_3 \\\\\\ \\vdots \\\\\\ x_{n-1} \\\\\\ x_n \\end{bmatrix}$$"
   ]
  },
  {
   "cell_type": "markdown",
   "metadata": {},
   "source": [
    "   * 합계 $\\Sigma$(시스마, sigma)\n",
    "        * 변수 $x$ 의 $n$ 개 관측치를 모두 합하는 것은 다음과 같이 표현한다.\n",
    "$$ x_1 + x_2 + x_3 + \\dots + x_{n_1} + x_n$$\n",
    "\n",
    "        * 이것을 Sigma 로 간단하게 표현 합니다.\n",
    "        \n",
    "$$ \\sum_{i = 1}^{n} x_i $$"
   ]
  },
  {
   "cell_type": "markdown",
   "metadata": {},
   "source": [
    "### 기술 통계량과 변수 요약"
   ]
  },
  {
   "cell_type": "markdown",
   "metadata": {},
   "source": [
    "   * 변수의 특징을 설명하기 위해 한 줄(열)의 데이터에 다양한 연산을 사용해 계산하는데, 이런 계산된 숫자들을 **통계량(Static)** 이 라고 합니다.\n",
    "   * 데이터의 특징을 설명하는 통계량을 **기술통계량(Descriptive Staticstics)** 라고 한다.\n",
    "   * 평균, 최솟값, 최댓값, 중앙값, 분산 등등이 대표적인 기술통계량 입니다."
   ]
  },
  {
   "cell_type": "markdown",
   "metadata": {},
   "source": [
    " #### 변수"
   ]
  },
  {
   "cell_type": "markdown",
   "metadata": {},
   "source": [
    "   * 연속형(Continuous) 변수\n",
    "        * 몸무개 처럼 한없이 다양한 값을 가지는 변수\n",
    "        * 순서를 정하거나 값을 더해서 통계값을 계산 합니다.\n",
    "        \n",
    "   * 범주형(Categorical) 변수\n",
    "        * 남녀 성별 처럼 정해진 몇몇 값 중에서 선택\n",
    "        * 값이 같은 관측치를 묶어서 개수를 셉니다."
   ]
  },
  {
   "cell_type": "code",
   "execution_count": null,
   "metadata": {},
   "outputs": [],
   "source": []
  }
 ],
 "metadata": {
  "kernelspec": {
   "display_name": "R",
   "language": "R",
   "name": "ir"
  },
  "language_info": {
   "codemirror_mode": "r",
   "file_extension": ".r",
   "mimetype": "text/x-r-source",
   "name": "R",
   "pygments_lexer": "r",
   "version": "3.4.3"
  }
 },
 "nbformat": 4,
 "nbformat_minor": 2
}
