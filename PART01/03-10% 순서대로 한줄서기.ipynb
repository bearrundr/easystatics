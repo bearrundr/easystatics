{
 "cells": [
  {
   "cell_type": "markdown",
   "metadata": {},
   "source": [
    "# <span style=\"color:blue\"> 이토록 쉬운 통계 & R </span>"
   ]
  },
  {
   "cell_type": "markdown",
   "metadata": {},
   "source": [
    "<img src=\"../image/cover.png\" width=\"200\" height=\"400\" align=\"left\">  임경덕 지음"
   ]
  },
  {
   "cell_type": "markdown",
   "metadata": {},
   "source": [
    "## 10% 순서대로 한줄서기 (3일차)"
   ]
  },
  {
   "cell_type": "markdown",
   "metadata": {},
   "source": [
    "   * 연속형 변수를 통계적 분석을 하려면, 관측치들에 순서를 정하면, 어느 순간 패턴이 보인다고 합니다."
   ]
  },
  {
   "cell_type": "markdown",
   "metadata": {},
   "source": [
    "## 정렬과 순서 통계량"
   ]
  },
  {
   "cell_type": "markdown",
   "metadata": {},
   "source": [
    "   * 정렬\n",
    "       * 임의로 값들의 크기가 섞여있는 숫자의 배열을 오름차순 또는 내림차순으로 순서를 변경하는 과정입니다.\n",
    "       \n",
    "### <font color=\"blue\"> $$4\\;5\\;3\\;8\\;9\\;7\\;0\\;1\\;2\\;6 \\to 0\\;1\\;2\\;3\\;4\\;5\\;6\\;7\\;8\\;9$$</font>"
   ]
  },
  {
   "cell_type": "markdown",
   "metadata": {},
   "source": [
    "   * 정렬을 하면 크기에 따라 순서가 정해지고, 그러면 패턴이 보이게 됩니다. \n",
    "   * 그리고 관측치 사이 비교가 가능해집니다."
   ]
  },
  {
   "cell_type": "markdown",
   "metadata": {},
   "source": [
    "   * 통계학에서는 이런것을 **순서통계량(Order Statistics)** 라고 합니다."
   ]
  },
  {
   "cell_type": "markdown",
   "metadata": {},
   "source": [
    "   * 가장 작은 값을 **최솟값(Minimum)** 이라고 합니다.\n",
    "   * 가장 큰 값을 **최댓값(Maximim)** 이라고 합니다."
   ]
  },
  {
   "cell_type": "markdown",
   "metadata": {},
   "source": [
    "## 분위수(Quantile, 퀀타일)"
   ]
  },
  {
   "cell_type": "markdown",
   "metadata": {},
   "source": [
    "   * 변수의 측정값이 순서가 정해지면, 어떤 특정한 기준이 되는 숫자들이 있습니다. 이런 것을 **분위수(Quantile)** 라고 합니다.\n",
    "   * 보통은 다음에 설명하는 사분위수가 분위수 대표입니다.\n",
    "   * 가장 대표적인 **분위수** 는 100 등분의 기준으로 나눈 **백분위수(Pencentile)** 이 있습니다.\n",
    "   \n",
    "   * 책에 있는 예에서 개념을 다시 설명하면 다음과 같습니다."
   ]
  },
  {
   "cell_type": "markdown",
   "metadata": {},
   "source": [
    "<img src=\"../image/ed005.png\" width=\"500\" height=\"400\" align=\"center\">"
   ]
  },
  {
   "cell_type": "markdown",
   "metadata": {},
   "source": [
    "   * 101 개의 관측치를 순서대로 나열했습니다. (예, 프로듀스 원오원 의 시청자 투표에 대한 어느 순간 스냅샷입니다)\n",
    "   * 최솟값은 50.8 이고 최댓값은 99.7 입니다.\n",
    "   * 하위 30명이 탈락이라면, 31번째 점수인 67.6 점을 넘어야 하겠습니다.\n",
    "   * 67.6 점 기준으로 낮은 관측치는 30 개 이고 높은 관측치는 70 개입니다.\n",
    "   * 따라서 31 번째를 기준으로, $30%$ 는 낮고, $70%$는 높습니다.\n",
    "   * 67.6 점을 백분위수로 말하면 **30번째 100 분위수** 라고 합니다.\n",
    "   * $101 \\times 0.3 = 30.3 \\sim 31$\n",
    "   * 최솟값은 $0%$ 이고 최댓값은 $100%$ 입니다."
   ]
  },
  {
   "cell_type": "markdown",
   "metadata": {},
   "source": [
    "## 사분위수(Quantile) 와 다섯 숫자 요약"
   ]
  },
  {
   "cell_type": "markdown",
   "metadata": {},
   "source": [
    "   * 사분위수는 다음에 설명할 상자그림 (boxplot) 하고 많이 어울림니다.\n",
    "   * 먼저 그림을 살펴 보세요\n",
    "   \n",
    " <img src=\"../image/ed007.png\" width=\"500\" height=\"200\" align=\"center\">\n",
    "   "
   ]
  },
  {
   "cell_type": "markdown",
   "metadata": {},
   "source": [
    "   * 중앙값(Median)\n",
    "      * 전체 관측치에서 그 중간인 50% 인 지점의 값.\n",
    "      * 관측치가 홀수 인경우에는 \n",
    "           * 예를 들어 9 개인 경우엔 $(9 + 1) /2 = 5$, 즉 5번째를 중앙값으로 취한다.\n",
    "      * 관측치가 짝수인 경우\n",
    "           * 예를 들어 8개인 경우엔 $(8 + 1) /2 = 4.5$ 이므로, 4번째와 5번째 값의 평균값을 취한다.\n",
    "      * 이런 방식은 4분위수인 Q1, Q3 를 구할 경우에도 같은 방식으로 한다."
   ]
  },
  {
   "cell_type": "markdown",
   "metadata": {},
   "source": [
    "   * 최솟값(0 %) 과 중앙값의 50% 지점을 Q1 이라고 한다."
   ]
  },
  {
   "cell_type": "markdown",
   "metadata": {},
   "source": [
    "   * 중앙값과 최댓값(100 %) 의 50% 지점을 Q3 라고 한다."
   ]
  },
  {
   "cell_type": "markdown",
   "metadata": {},
   "source": [
    "   * 다섯숫자 요약 (Five Number Summary)\n",
    "      * 연속형 변수로 최솟값, Q1, 중앙값, Q3, 최댓값 을 다섯숫자 요약이라고 합니다."
   ]
  },
  {
   "cell_type": "markdown",
   "metadata": {},
   "source": [
    "## 상자그림 (Boxplot)"
   ]
  },
  {
   "cell_type": "markdown",
   "metadata": {},
   "source": [
    "   * 101 의 관측치를 50 점에서 100 점사이에 막대로 표시하면 다음 그림과 같다.\n",
    "\n",
    "<img src=\"../image/ed008.png\" width=\"500\" height=\"200\" align=\"center\">"
   ]
  },
  {
   "cell_type": "markdown",
   "metadata": {},
   "source": [
    "   * 이 그림으로는 패턴을 확인 하기에는 좀 복잡해 보입니다.\n",
    "   * 그래서 다섯숫자 요약을 활용합니다.\n",
    "   \n",
    " <img src=\"../image/ed009.png\" width=\"500\" height=\"200\" align=\"center\">"
   ]
  },
  {
   "cell_type": "markdown",
   "metadata": {},
   "source": [
    "   * 이것을 조금 더 쉽게 표현하자면 Q1 과 Q3 사이를 네모난 상자로 표현하고 최솟값, 최댓값까지를 직선으로 연결합니다.\n",
    "   * 101 개의 관측치로 상자그림을 표현하면 다음과 같습니다.\n",
    "   \n",
    " <img src=\"../image/ed010.png\" width=\"500\" height=\"200\" align=\"center\">"
   ]
  },
  {
   "cell_type": "markdown",
   "metadata": {},
   "source": [
    "   * 상자그림을 보면, 상자속 구간이 양쪽 구간보다 길이가 좁고 특히 $ 75 \\sim 75%$ 점수대에 많이 몰려 있습니다.\n",
    "   * 중상위권 경쟁이 치열하다는 것을 나타냅니다.\n",
    "   * $75 \\sim 100 %$ 구간의 길이가 긴것을 보면 중상위권과 고득점자의 차이가 크다는 것을 알 수 있습니다."
   ]
  },
  {
   "cell_type": "markdown",
   "metadata": {},
   "source": [
    "## 히스토그램(Histogram)"
   ]
  },
  {
   "cell_type": "markdown",
   "metadata": {},
   "source": [
    "   * 관측치들의 분포를 알고 싶을 경우에는 히스토그램을 사용합니다.\n",
    "   * 먼저 101 예제에서 10점 간격 (bin 이라고 합니다) 으로 **도수분포표(Frequency Table)** 를 만듭니다.\n",
    "   \n",
    "<img src=\"../image/ed012.png\" width=\"500\" height=\"200\" align=\"center\">"
   ]
  },
  {
   "cell_type": "markdown",
   "metadata": {},
   "source": [
    "   * 50 점 부터 100 점까지를 10점 간격으로 하여 각 구간에 포함되는 관측치가 몇개가 있는지를 세어 표를 만든 결과 입니다.\n",
    "   * 이 표를 그림으로 표현하면 **히스트로그램** 이 됩니다.\n",
    "   \n",
    " <img src=\"../image/ed011.png\" width=\"500\" height=\"200\" align=\"center\">"
   ]
  },
  {
   "cell_type": "markdown",
   "metadata": {},
   "source": [
    "   * 각 구간에 표함되는 관측치 구간을 5점간격(bin = 5) 로 하여 히스토그램을 다시 표현해봅니다.\n",
    " \n",
    "  <img src=\"../image/ed013.png\" width=\"500\" height=\"200\" align=\"center\">"
   ]
  },
  {
   "cell_type": "markdown",
   "metadata": {},
   "source": [
    "   * 구간을 더 적게 하면 더 많은 정보를 포함하고 있습니다. \n",
    "   * $75 \\sim 80$ 점의 중상위권 관측치가 몰려있고, 85점 이상 고득점의 관측치는 적다는것을 히스토그램에서 알 수 한눈에 알 수 있습니다."
   ]
  },
  {
   "cell_type": "markdown",
   "metadata": {},
   "source": [
    "## 히스토그램과 상자그림 비교"
   ]
  },
  {
   "cell_type": "markdown",
   "metadata": {},
   "source": [
    "   * 히스토그램\n",
    "        * 변수를 같은 길이로 나누어 각 구간에 몇 개의 관측치가 있는지 관측치의 비율을 살표보는 방법\n",
    "        * 구간을 잘 나누면, 패턴은 자세히 확인이 가능하나, 훨씬 많은 값을 확인 해야만 합니다."
   ]
  },
  {
   "cell_type": "markdown",
   "metadata": {},
   "source": [
    "   * 상자그림\n",
    "       * 관측치를 같은 비율로 나누는 지점을 살펴 각 구간의 간격을 살펴봅니다.\n",
    "       * 어떤 연속형 변수든 5개의 값으로 표현 할 수 있으나, 세부적인 패턴을 놓칠 수 있습니다."
   ]
  },
  {
   "cell_type": "markdown",
   "metadata": {},
   "source": [
    "   * 간단하고 빠른 분석을 하거나 그룹에 따른 차이를 확인 하고자 하면 상자그림을, 하나의 변수에 대해서 자세히 살펴볼 경우에는 히스토그램을 사용합니다. "
   ]
  }
 ],
 "metadata": {
  "kernelspec": {
   "display_name": "R",
   "language": "R",
   "name": "ir"
  },
  "language_info": {
   "codemirror_mode": "r",
   "file_extension": ".r",
   "mimetype": "text/x-r-source",
   "name": "R",
   "pygments_lexer": "r",
   "version": "3.4.3"
  }
 },
 "nbformat": 4,
 "nbformat_minor": 2
}
