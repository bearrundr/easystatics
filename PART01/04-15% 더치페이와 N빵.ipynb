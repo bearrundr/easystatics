{
 "cells": [
  {
   "cell_type": "markdown",
   "metadata": {},
   "source": [
    "# <span style=\"color:blue\"> 이토록 쉬운 통계 & R </span>"
   ]
  },
  {
   "cell_type": "markdown",
   "metadata": {},
   "source": [
    "<img src=\"../image/cover.png\" width=\"200\" height=\"400\" align=\"left\">  임경덕 지음"
   ]
  },
  {
   "cell_type": "markdown",
   "metadata": {},
   "source": [
    "## 15% 더치페이와 N빵 (4일차)"
   ]
  },
  {
   "cell_type": "markdown",
   "metadata": {},
   "source": [
    "   * 연속형 변수의 평균, 분산, 표준편차 등에 대해서 알아봅니다."
   ]
  },
  {
   "cell_type": "markdown",
   "metadata": {},
   "source": [
    "   * 더치페이란 음식점에서 자신이 먹은것 만큼 내는 것을 말합니다.\n",
    "   * N빵이란 전체금액을 사람수 만큼 나누어서 내는것을 N 분의 1 혹은 N빵이라고 합니다."
   ]
  },
  {
   "cell_type": "markdown",
   "metadata": {},
   "source": [
    "## 평균"
   ]
  },
  {
   "cell_type": "markdown",
   "metadata": {},
   "source": [
    "   * 다음의 시나리오를 생가해 봅니다.\n",
    "       * 친구 다섯명이 각각 7,500원, 8,000원, 10,000원, 11,000원, 13,500원 짜리 음식을 시키고 계산서를 받아보니 50,000원이 나왔습니다.\n",
    "       * 그렇다면 당연히 먹은만큼 돈을 내야 하죠.. 이것을 터치페이라고 합니다.\n",
    "       * 그러나 만일 50,000만원의 회비가 있고, 공평하게 나누어서 음식을 주문한다면 10,000원 짜리 주문을 해야 겠습니다. 이것을 N빵이라고 합니다.\n",
    "       \n",
    "       \n",
    "   * **이것을 평균(Mean) 이라고 합니다. 당연히 중앙값(Median) 하고는 다릅니다.**"
   ]
  },
  {
   "cell_type": "markdown",
   "metadata": {},
   "source": [
    "   * 앞으로 설명을 위해서 먼저 간단하게 이 시나리오를 그림으로 표현합니다.\n",
    " \n",
    " <img src=\"../image/ed014.png\" width=\"500\" height=\"200\" align=\"center\">"
   ]
  },
  {
   "cell_type": "markdown",
   "metadata": {},
   "source": [
    "   * 변수 $x$ 의 평균은 모든 관측치를 다 더한 다음 관측치의 개수 $n$ 으로 나누어 계산을 합니다.\n",
    "   \n",
    "$$ {\\bar x} = \\dfrac{\\sum_{i=1}^{n}}{n} = \\dfrac{1}{n}\\sum_{i=1}^{n}x_i$$"
   ]
  },
  {
   "cell_type": "markdown",
   "metadata": {},
   "source": [
    "   * 평균값은 변수위에 바(-) 를 얹어 ${\\bar x}$ 로 표시하고 x-bar 로 읽습니다.\n",
    "   * 평균을 알면 각 관측치 들의 평균과 차이점을 알 수 있으며, 상대적인 의미를 파악 할 수 있게됩니다."
   ]
  },
  {
   "cell_type": "markdown",
   "metadata": {},
   "source": [
    "   * 다음 시나리오상을 평균에 대하여 그림으로 표현하면 다음과 같습니다.\n",
    "   \n",
    "  <img src=\"../image/ed015.png\" width=\"500\" height=\"200\" align=\"center\">"
   ]
  },
  {
   "cell_type": "markdown",
   "metadata": {},
   "source": [
    "   * 왼쪽 2 사람은 각각 2,500원, 2,000원 손해를 보고, 오른쪽 2 사람은 각각 1,000원, 3,500원을 이득보게 됩니다."
   ]
  },
  {
   "cell_type": "markdown",
   "metadata": {},
   "source": [
    "## 분산 (Variance)"
   ]
  },
  {
   "cell_type": "markdown",
   "metadata": {},
   "source": [
    "   * 같은 평균 10,000원에 다른 상황을 소개합니다.\n",
    "\n",
    "  <img src=\"../image/ed016.png\" width=\"500\" height=\"200\" align=\"center\">"
   ]
  },
  {
   "cell_type": "markdown",
   "metadata": {},
   "source": [
    "   * 메뉴 주문을 9,000원에서 11,000 사이에 주문한 그룹입니다.\n",
    "   * 두번째 그룹이 N빵에 더 가깝습니다. 왜냐하면 더치페이를 하는것과 큰 차이가 없기 때문입니다.\n",
    "   * 이처럼 평균이 같더라고, 평균을 중심으로 생기는 차이는 다를수 있습니다.\n",
    "   * 이런 차이를 통계에서는 **분산(Variance)** 을 사용하여 표시 합니다.\n",
    "   \n",
    "   \n",
    "   * 모든 관측치 들이 같다면, 분산은 0 입니다. 관측치들의 차이가 커지면 커질수록 분산은 커집니다.\n",
    "   \n",
    "   * 분산은 다음과 같이 표현합니다.\n",
    "   \n",
    " \n",
    " $$s^{2}_{x} = \\dfrac{1}{n - 1} \\sum_{i=1}^{n}(x_i - {\\bar x})^2$$"
   ]
  },
  {
   "cell_type": "markdown",
   "metadata": {},
   "source": [
    "   * 나누는 수가 관측치 개수 $n$ 이 아니고 $n - 1$ 을 주목하세요.\n",
    "   * 관측치는 전체를 대상으로 하는 모집단이 아니고, 그 중의 일부만 선택한 표본 집단입니다. 이경우에느 분산은 $n -1$ 로 나눕니다."
   ]
  },
  {
   "cell_type": "markdown",
   "metadata": {},
   "source": [
    "#### 분산 계산 순서"
   ]
  },
  {
   "cell_type": "markdown",
   "metadata": {},
   "source": [
    "   * 1단계: $(x_i - {\\bar x})$, 각각의 관측치에서 평균을 뻅니다."
   ]
  },
  {
   "cell_type": "markdown",
   "metadata": {},
   "source": [
    "   * 2단계: $(x_i - {\\bar x})^2$ , 1 단계에서 계산한 값을 제곱합니다."
   ]
  },
  {
   "cell_type": "markdown",
   "metadata": {},
   "source": [
    "   * 3단계:$\\sum_{i=1}^n(x_i - {\\bar x})^2$, 2 단계에서 모든 관측치에 대해서 계산 하고, 그 결과를 모두 더합니다."
   ]
  },
  {
   "cell_type": "markdown",
   "metadata": {},
   "source": [
    "   * 4단계:$\\dfrac{1}{n - 1}\\sum_{i=1}^n[\\;]$, 3단계에서 구한 합계를 n - 1 로 나눕니다. \n",
    "       * $n$ 이 아니고 $n - 1$ 로 나누는 것이 더 근사값에 가깝다고 합니다. 그러나 관측치가 많아지면 즉 $n$ 이 커지면 큰차이가 없다고 합니다.\n",
    "       * 결국 분산은 $[\\;]$ 의 평균을 구하는 것과 같은 것이라서, 평균에서 떨어져 있는 정도로 해석이 됩니다."
   ]
  },
  {
   "cell_type": "markdown",
   "metadata": {},
   "source": [
    "   * 이것을 이해를 돕기위해 두번째 그룹을 그림으로 표현하면 다음과 같습니다.\n",
    "   \n",
    "   \n",
    "  <img src=\"../image/ed017.png\" width=\"500\" height=\"200\" align=\"center\">"
   ]
  },
  {
   "cell_type": "markdown",
   "metadata": {},
   "source": [
    "   * 평균과 차이값을 다 더하면 0 이 되므로 분산은 이값들의 제곱을 사용합니다.\n",
    "   * 제곱을 적용한 결과를 다음 그림으로 표현합니다.\n",
    "   \n",
    "   <img src=\"../image/ed018.png\" width=\"500\" height=\"200\" align=\"center\">"
   ]
  },
  {
   "cell_type": "markdown",
   "metadata": {},
   "source": [
    "   * 두번째 그룹의 분산을 계산하면 $(-1,000)^2, (1,000)^2, (-500)^2, (500)^2, 0$ 을 다합치면 2,500,000 $(원)^2$ 이 됩니다.\n",
    "   * 이것을 (5 - 1) 로 나누면 분산이 됩니다.\n",
    "   \n",
    "$$\\dfrac{(-1,000원)^2 + (1,000원)^2 + ) + (-500원)^2 + (500원)^2 + (9999)^2}{(5 - 1)} \\;\\;\\;= \\dfrac{2,500,000 원^2}{4} = 635,000 원^2$$"
   ]
  },
  {
   "cell_type": "markdown",
   "metadata": {},
   "source": [
    "   * 첫번쨰 그룹의 경우 분산을 구해보면, $5,875,000(원)^2$ 이 됩니다. 무려 10 배정도 크게 나옵니다."
   ]
  },
  {
   "cell_type": "markdown",
   "metadata": {},
   "source": [
    "### 분산에 평균값과 차이 절대값의 합 보다는 제곱의 합을 선호하는 이유"
   ]
  },
  {
   "cell_type": "markdown",
   "metadata": {},
   "source": [
    "   * 절대값을 사용 할 경우에는 미분이 일부영역에서는 가능하지 않습니다. 따라서 미분 가능한 분산을 더 선호 합니다.\n",
    "   * 현실적으로 평균에서 100명이 100원의 차이를 보이는 경우와, 100명중 2명만 5,000원의 차이를 보이는 경우\n",
    "\n",
    "   * 절대값을 사용하는 경우에는 $100 \\times 100원 = 2 \\times 5,000원 = 10,000원$ 으로 모두 같은 값이 나옵니다.\n",
    "   \n",
    "   \n",
    "   * 그러나 제곱을 이용한 경우라면\n",
    "       $$ 100 \\times (100원)^2 = 1,000,000원^2 \\lt 2 \\times (5,000원)^2 = 50,000,000원^2$$"
   ]
  },
  {
   "cell_type": "markdown",
   "metadata": {},
   "source": [
    "## 표준편차(Standard Deviation)"
   ]
  },
  {
   "cell_type": "markdown",
   "metadata": {},
   "source": [
    "   * 분산을 사용하면 평균이 같아도 관측치 사이이의 차이를 알수는 있으나, 제곱을 하므로써, 값이 너무크고, 그리고 단위가 제곱의 형태로 나옵니다.\n",
    "   * 따라서 이것을 현실감있는 단위로 표현을 하고자 해서 분산의 제곱근($\\sqrt{\\;}$) 으로 표현합니다.\n",
    "   * 이렇게 표현 하는 것을 **표준편차** 라고 합니다.\n",
    "   \n",
    "   \n",
    "   * 첫번쨰 그룹의 표준편차는 $\\sqrt{5,875,000 원)^2} = 2,425 원$ 이 됩니다."
   ]
  },
  {
   "cell_type": "markdown",
   "metadata": {},
   "source": [
    "   * 변수 {x} 의 표준편차는 다음 식으로 계산합니다.\n",
    "   \n",
    " $$s_x = \\sqrt{\\dfrac{1}{n-1}\\sum_{i=1}^{n}(x_i - {\\bar x})^2}$$"
   ]
  },
  {
   "cell_type": "markdown",
   "metadata": {},
   "source": [
    "   * 변수 x 의 표준 편차는 \"standard deviation\" 의 첫 글자를 따와서 $s_x$ 로 표시합니다. 분산은 $s^2_x$ 로 표시합니다."
   ]
  },
  {
   "cell_type": "markdown",
   "metadata": {},
   "source": [
    "   * 표준편차의 사용중에 중요한것이 표준화 입니다. 다음절에서 설명합니다."
   ]
  }
 ],
 "metadata": {
  "kernelspec": {
   "display_name": "R",
   "language": "R",
   "name": "ir"
  },
  "language_info": {
   "codemirror_mode": "r",
   "file_extension": ".r",
   "mimetype": "text/x-r-source",
   "name": "R",
   "pygments_lexer": "r",
   "version": "3.4.3"
  }
 },
 "nbformat": 4,
 "nbformat_minor": 2
}
