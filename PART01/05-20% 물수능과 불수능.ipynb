{
 "cells": [
  {
   "cell_type": "markdown",
   "metadata": {},
   "source": [
    "# <span style=\"color:blue\"> 이토록 쉬운 통계 & R </span>"
   ]
  },
  {
   "cell_type": "markdown",
   "metadata": {},
   "source": [
    "<img src=\"../image/cover.png\" width=\"200\" height=\"400\" align=\"left\">  임경덕 지음"
   ]
  },
  {
   "cell_type": "markdown",
   "metadata": {},
   "source": [
    "## 20% 물수능과 불수능 (5일차)"
   ]
  },
  {
   "cell_type": "markdown",
   "metadata": {},
   "source": [
    "   * 같은 종류의 다른 데이터 간의 상대적인 비교 방법"
   ]
  },
  {
   "cell_type": "markdown",
   "metadata": {},
   "source": [
    "### [책에 없는 이야기]"
   ]
  },
  {
   "cell_type": "markdown",
   "metadata": {},
   "source": [
    "   * 평균과 표준편차가 다른 두개의 집단이 있습니다. 두 집단을 각각  A, B 집단이라고 한다면, A, B 집단 의 평균이 같다고 하여도 표준편차가 다르면 A, B 두 집단에 속한 두개의 관측치를 비교 할 수 가 없습니다."
   ]
  },
  {
   "cell_type": "markdown",
   "metadata": {},
   "source": [
    "   * 그러나 매년 치루워 지는 수능문제라든지 또는 IQ 테스트등은 매번 치루어지는 시험 또는 테스트 때문에 각각의 측정치들을 비고 해야만 합니다."
   ]
  },
  {
   "cell_type": "markdown",
   "metadata": {},
   "source": [
    "  * 따라서 A, B 두 집단을 비교 할 수 있도록 두 집단을 표준화 또는 정규화 합니다.  이것은 두 집단의 평균을 0 으로 맞추고, 표준편차를 1로 맟추면 두 집단간의 관측치를 비교 할 수 있습니다."
   ]
  },
  {
   "cell_type": "markdown",
   "metadata": {},
   "source": [
    "   * 이것은 새로운 변수 $Z$ 를 소개하여 $Z = \\dfrac{X - \\mu}{\\sigma} $ 와 같은 방법으로 합니다"
   ]
  },
  {
   "cell_type": "markdown",
   "metadata": {},
   "source": [
    "   * 즉 두 집단의 평균을 0 으로 맞추고, 표준편차를 1로 하여 일치시켜 놓고,두 집단간의 관측치를 비교 합니다."
   ]
  },
  {
   "cell_type": "markdown",
   "metadata": {},
   "source": [
    "#### 수능의 난이도"
   ]
  },
  {
   "cell_type": "markdown",
   "metadata": {},
   "source": [
    "<img src=\"../image/ed020.png\" width=\"500\" height=\"400\" align=\"center\">"
   ]
  },
  {
   "cell_type": "markdown",
   "metadata": {},
   "source": [
    "   * 최근 홀수년도 수리가형 등급기준 점수표\n",
    "   * 2011 년도 난이도가 매우높고, 2015년도 난이도는 매우 낮습니다.\n",
    "   * 맨년도 난이도가 다르므로, 절대적인 점수를 사용하기가 어렵다.\n",
    "   * 대안으로 대안적인 점수 또는 평가기준이 필요하다."
   ]
  },
  {
   "cell_type": "markdown",
   "metadata": {},
   "source": [
    "#### 대안1: 백분위를 활용하는 방법"
   ]
  },
  {
   "cell_type": "markdown",
   "metadata": {},
   "source": [
    "   * 백분위를 활용해서 점수 순서대로 배열 한 후에 적절한 비율로 잘라서 등급을 매긴다.\n",
    "   * 2011 년도 인 경우 100점을 맞으나, 79점을 맞으나, 같은 1등급이다. 어려운 시험에서 100점은 맞은 학생에게 더 높은 가중치를 줄 필요가 있습니다."
   ]
  },
  {
   "cell_type": "markdown",
   "metadata": {},
   "source": [
    "#### 대안2: 평균과 표준편차를 이용하여 **표준점수** 라는 새로운 점수 체계"
   ]
  },
  {
   "cell_type": "markdown",
   "metadata": {},
   "source": [
    "   * 2011 년도 어려운 수능시험에서 100점을 맞은 경우 더 높은 점수를 받을 수 있는 점수체계."
   ]
  },
  {
   "cell_type": "markdown",
   "metadata": {},
   "source": [
    "## 표준화(Standardization)"
   ]
  },
  {
   "cell_type": "markdown",
   "metadata": {},
   "source": [
    "### 중심화(Centering)"
   ]
  },
  {
   "cell_type": "markdown",
   "metadata": {},
   "source": [
    "   * 서로 다른 난이도에서 얻은 점수체계에서, 비교하여, 어는 점수가 상대적으로 더 잘 한 것인지 비교 판단 하는 방법.\n",
    "   \n",
    "   * 다음 예제로서 표준화에 대해 이해를 해보세요.\n",
    "   \n",
    " <img src=\"../image/ed021.png\" width=\"500\" height=\"400\" align=\"center\">"
   ]
  },
  {
   "cell_type": "markdown",
   "metadata": {},
   "source": [
    "   * 변수 $x$ , 학생 6명의 시험 점수가 있습니다. 최솟값은 6점, 최대값은 22 점입니다.\n",
    "   * 평균과 표준편자를 구해보자.\n",
    "   \n",
    "   $${\\bar x} = \\dfrac{6 + 10 + 15 + 18 + 19 + 22}{6} = 15$$\n",
    "   \n",
    "   $$s_x = \\sqrt{\\dfrac{(-9)^2 + (-5)^2 + (0)^2 + (3)^2 + (4)^2 + (7)^2}{6 - 1}} = \\sqrt{\\dfrac{180}{5}} = 6$$"
   ]
  },
  {
   "cell_type": "markdown",
   "metadata": {},
   "source": [
    "####  평균점수가 너무 낮아서 기본점수를 10점씩 더 줬습니다. (모든 관측치에 기본값을 더하는 경우 평균만 이동하고, 표준편차는 변하지 않는다)\n",
    "\n",
    "   * 즉 $y = x + 10$ 으로 합니다.\n",
    "   \n",
    " <img src=\"../image/ed022.png\" width=\"500\" height=\"400\" align=\"center\">"
   ]
  },
  {
   "cell_type": "markdown",
   "metadata": {},
   "source": [
    "   * 이제 다시 평균과 표준편차를 보면\n",
    "$${\\bar x} = 15 + 10 = 25 $$\n",
    "\n",
    "$$s_x = 6$$"
   ]
  },
  {
   "cell_type": "markdown",
   "metadata": {},
   "source": [
    "   * 평균 점수는 10 커진 25점이 되었으나, 표준편차는 변함없이 그래도 6입니다.\n",
    "   * 따라서 절대적인 점수가 아닌 상대적인 점수로 보면 두 성적은 전혀 차이가 없다.\n",
    "   \n",
    "   * 따라서 모든 관측치에서 평균을 빼서 평균을 0 으로 이동시키는 것을 **중심화(Centering)** 이라고 합니다.\n",
    "   \n",
    " \n",
    "  <img src=\"../image/ed023.png\" width=\"500\" height=\"400\" align=\"center\">"
   ]
  },
  {
   "cell_type": "markdown",
   "metadata": {},
   "source": [
    "   * 평균과 표준편자를 구해보면\n",
    "$${\\bar x} = 25 - 25 = 0$$\n",
    "\n",
    "$$s_x = 6$$"
   ]
  },
  {
   "cell_type": "markdown",
   "metadata": {},
   "source": [
    "### 척도화 (Scaling)"
   ]
  },
  {
   "cell_type": "markdown",
   "metadata": {},
   "source": [
    "   * 이번에는 모든 점수를 2배로 바꿨습니다. 즉 새로운 변수 $y = 2x$ 로 합니다.\n",
    "   \n",
    "   <img src=\"../image/ed024.png\" width=\"500\" height=\"400\" align=\"center\">"
   ]
  },
  {
   "cell_type": "markdown",
   "metadata": {},
   "source": [
    "   * 이번에도 역시 참고 삼아 평균과 표준편차를 구해보면\n",
    "\n",
    "$${\\bar y} = \\dfrac{12 + 20 + 30 + 36 + 38 + 44}{6} = 30 = 15 \\times 2 = {\\bar x} \\times 2$$\n",
    "\n",
    "$$s_y = \\sqrt{\\dfrac{(-18)^2 + (-10)^2 + (0)^2 + (6)^2 + (8)^2 + (14)^2}{6 - 1}} = \\sqrt{\\dfrac{720}{5}} = 12 = 2 \\times 6 = 2 \\times s_x$$"
   ]
  },
  {
   "cell_type": "markdown",
   "metadata": {},
   "source": [
    "   * 중심화를 해보면\n",
    "\n",
    "   <img src=\"../image/ed025.png\" width=\"500\" height=\"400\" align=\"center\">"
   ]
  },
  {
   "cell_type": "markdown",
   "metadata": {},
   "source": [
    "   * 중심화를 하면 관측치 들이 평균 0 을 기준으호 원래 점수의 중심화 보다 2배 멀리 벌어져 있습니다.\n",
    "   * 그러나 실제 원래점수와 비교 해보면 값들이 2배 되었을뿐 차이가 없습니다.\n",
    "   * 이런 예들은 많이 있습니다.\n",
    "       * 키를 센티로 측정 한후에 미터로 환산 하는 경우\n",
    "       * 온도를 화씨로 측정한 후에 섭씨로 환산 하는 경우\n",
    "       * 모두 측정후에 환산을 하여도 상대적인 차이는 없습니다."
   ]
  },
  {
   "cell_type": "markdown",
   "metadata": {},
   "source": [
    "   * 표준편차인 경우에도 원래의 데이터에 2배를 해주었으므로, 평균으로 부터 거리가 2배로 되고, 따라서 표준편차도 2배로 됩니다.\n",
    "   * 따라서 중심화된 각 관측치를 해당 되는 표준편차로 나누어 준 값은 변하지 않게 됩니다.\n",
    "   * 말이 조금 어려운데, 실제 예를 들어서 보면\n",
    "\n",
    "   * 처음 데이터의 중심화된 표준편차는 6 이고 제일 왼쪽의 학생의 점수는 -9 입니다. 따라서 $\\dfrac{-9}{6} = -1.5 $ 입니다.\n",
    "       * 이거슨 이 학생의 점수는 평균에서 표준편차의 1.5 배 만큼 더 낮다는 의미를 말합니다. \n",
    "       * 이 경우에는 관측치를 표준편차로 나누어 주기때문에 단위는 없는 단순 비율입니다.\n",
    "   * 마찬가지로 2배로 한 경우에 원래의 제일 왼쪽 학생의 점수 는 -18 이고 표준편차는 12입니다. 따라서 $\\dfrac{-18}{12} = -1.5$ 입니다."
   ]
  },
  {
   "cell_type": "markdown",
   "metadata": {},
   "source": [
    "   * 각 관측치를 표준편차로 나눈 것을 **척도화(Scalinn)** 이라고 합니다."
   ]
  },
  {
   "cell_type": "markdown",
   "metadata": {},
   "source": [
    "   * 중심화를 하면 평균에 비해서 얼마나 크고 작은지에 대해서 상대적인 평가를 하게 되고\n",
    "   * 척도화를 하면 단위를 없애면서 관측치들이 표준편차에 비해서 몇배 작은치 큰지만 파악하게 됩니다."
   ]
  },
  {
   "cell_type": "markdown",
   "metadata": {},
   "source": [
    "## 표준화 예제"
   ]
  },
  {
   "cell_type": "markdown",
   "metadata": {},
   "source": [
    "   * 2011 년 수능 수리가형 평균 : 47.8, 표준편차 : 19.7\n",
    "   * 2015 년 수능 수리가형 평균 : 55.4, 표준편차 : 28.5 \n",
    "   \n",
    "   * 이것을 바탕으로 1000 명의 가상성적을 히스토그램으로 그려보면.. (이것은 정규분포라고 가정하고, 표준편차와 평균을 가지고 그려보는 것입니다.)\n",
    "\n",
    "   <img src=\"../image/ed028.png\" width=\"500\" height=\"400\" align=\"center\">"
   ]
  },
  {
   "cell_type": "markdown",
   "metadata": {},
   "source": [
    "   * 중위권 학생들을 보면 2015년에 상향으로 이동한것이 보입니다.\n",
    "   * 더 넓게 퍼져 있어서 표준 편차도 크게 됩니다.\n",
    "   \n",
    "   \n",
    "   * 이제 2011년 80점을 받은 학생과 2015년 100점을 받은 학생을 비교해보면\n",
    "\n",
    "$$2011년 \\;\\;=\\;\\; \\dfrac{ 80점 - 47.8점}{19.7 점} = 1.63$$\n",
    "\n",
    "$$2011년 \\;\\;=\\;\\; \\dfrac{100점 - 55.4.8점}{28.5 점} = 1.56$$"
   ]
  },
  {
   "cell_type": "markdown",
   "metadata": {},
   "source": [
    "   * 2011 년에 80점을 맞은 학생은 중심에서 오른쪽으로 1.63 만큼 떨어져 있고, 2015년에 100점을 맞은 학생은 중심에서 오른쪽으로 1.56 만큼 떨어져 있습니다."
   ]
  },
  {
   "cell_type": "markdown",
   "metadata": {},
   "source": [
    "   * 실제 수능은 이렇게 계산된 값에 20을 곱하고, 100을 더해서 표준점수로 계산을 합니다.\n",
    "   \n",
    "   * 표준화된 과정을 거쳐서 2011년과 2015년을 비교하면 거의 분포는 비숫하게 됩니다.\n",
    "   \n",
    "      <img src=\"../image/ed029.png\" width=\"500\" height=\"400\" align=\"center\">"
   ]
  },
  {
   "cell_type": "markdown",
   "metadata": {},
   "source": [
    "   * 표준화는 많이 활용이 되고 있는데,\n",
    "       * IQ 는 평균이 100 인 표준화된 점수를 사용합니다.\n",
    "       * 옷 사이즈도 신체지수를 평균잡아서 구합니다.\n",
    "       * 예를 들어 여성복 사이즈 55는 1979년 여성 평균키 155 cm 와 평균 가슴둘레 85 cm 를 기준으로 잡은것입니다."
   ]
  }
 ],
 "metadata": {
  "kernelspec": {
   "display_name": "R",
   "language": "R",
   "name": "ir"
  },
  "language_info": {
   "codemirror_mode": "r",
   "file_extension": ".r",
   "mimetype": "text/x-r-source",
   "name": "R",
   "pygments_lexer": "r",
   "version": "3.4.3"
  }
 },
 "nbformat": 4,
 "nbformat_minor": 2
}
