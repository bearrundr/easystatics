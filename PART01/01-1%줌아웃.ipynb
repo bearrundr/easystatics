{
 "cells": [
  {
   "cell_type": "markdown",
   "metadata": {},
   "source": [
    "# PART 1 차이를 확인하는 데이터 요약"
   ]
  },
  {
   "cell_type": "markdown",
   "metadata": {},
   "source": [
    "## 01 1% 줌아웃"
   ]
  },
  {
   "cell_type": "markdown",
   "metadata": {},
   "source": [
    "### 요약"
   ]
  },
  {
   "cell_type": "markdown",
   "metadata": {},
   "source": [
    "   * 데이터를 숲이라고 하면\n",
    "        * 처음 부터 숲의 나무를 보고 자세히 관찰을 하기 보다는\n",
    "        * 개략적으로 숲의 모양을 보고 특징을 파악하고 그리고 나서 나무를 관찰하듯이\n",
    "        * 데이터도 그런식으로 관찰을 하여야 한다."
   ]
  },
  {
   "cell_type": "markdown",
   "metadata": {},
   "source": [
    "   * 모아논 데이터의 특징은\n",
    "       * 말로 표현하기 보다는\n",
    "       * 숫자도 표현하여야 하며\n",
    "       * 평균, 편차 등등이 데이터의 특징을 표현 하는 것이라 하겠다\n",
    "   * 이런 숫자로 데이터의 특징을 표현하는 과정을  **<big>요약</big>**   이라고 한다."
   ]
  },
  {
   "cell_type": "markdown",
   "metadata": {},
   "source": [
    "  * 데이터를 처음에 만나면 분석을 하기전에\n",
    "      * 요약을 하여, 데이터의 특징을 파악하고\n",
    "      * 어떤차이가 있는지를 살펴\n",
    "      * 데이터의 분석 방향을 잘 설정할 수 있습니다."
   ]
  },
  {
   "cell_type": "markdown",
   "metadata": {},
   "source": [
    "   * PART 01 에서는\n",
    "      * 통계에서 다루는 데이터가 어떤 모양을 하고, \n",
    "      * 데이터를 잘 요약하기 위해 어떤 숫자들을 계산하는지 살표 볼 것입니다."
   ]
  }
 ],
 "metadata": {
  "kernelspec": {
   "display_name": "R",
   "language": "R",
   "name": "ir"
  },
  "language_info": {
   "codemirror_mode": "r",
   "file_extension": ".r",
   "mimetype": "text/x-r-source",
   "name": "R",
   "pygments_lexer": "r",
   "version": "3.4.3"
  }
 },
 "nbformat": 4,
 "nbformat_minor": 2
}
