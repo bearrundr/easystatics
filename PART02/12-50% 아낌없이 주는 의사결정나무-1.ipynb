{
 "cells": [
  {
   "cell_type": "markdown",
   "metadata": {},
   "source": [
    "# <span style=\"color:blue\"> 이토록 쉬운 통계 & R </span>"
   ]
  },
  {
   "cell_type": "markdown",
   "metadata": {},
   "source": [
    "<img src=\"../image/cover.png\" width=\"200\" height=\"400\" align=\"left\">  임경덕 지음"
   ]
  },
  {
   "cell_type": "markdown",
   "metadata": {},
   "source": [
    "## 50% 아낌없이 주는 의사 결정나무(13 일차) -- 모자이크 그림"
   ]
  },
  {
   "cell_type": "markdown",
   "metadata": {},
   "source": [
    "   * 테이터의 차이를 확인하고 설명하려면, 조건부 확률, 조건부 평균을 구해야 하는데, 설명변수를 구하는 방법이 매우 어렵습니다.\n",
    "   * 관심변수는 하나이지만, 설명 변수는 여러개가 될 수 도 있습니다.\n",
    "   * 이런 설명 변수를 찾는데 의사결정나무(Decision Tree) 도 매우 유용한 도구가 됩니다.\n",
    "   * 먼저 모자이크 그림을 설명하고 다음에 의사결정나무를 설명하고자 합니다."
   ]
  },
  {
   "cell_type": "markdown",
   "metadata": {},
   "source": [
    "## 모자이크 그림"
   ]
  },
  {
   "cell_type": "markdown",
   "metadata": {},
   "source": [
    "   * 의사결정 나무를 이야기 하기 전에 먼저 모자이크 그림을 설명합니다.\n",
    "   * 모자이크 그림은 분할 정복 전략입니다.\n",
    "   * 전체 데이터를 한 눈에 파악하기는 어렵습니다. 그래서 데이터를 쪼개고 부분으로 나누어 분석하는 방법을 **분할 정복(Divede and Conquer)** 이라고 합니다."
   ]
  },
  {
   "cell_type": "markdown",
   "metadata": {},
   "source": [
    "   * 먼저 타이타닉 호 데이터를 가지고 설명합니다.\n",
    "   \n",
    "  <img src=\"../image/ed067.png\" width=\"500\" height=\"300\" align=\"left\">  Page 111"
   ]
  },
  {
   "cell_type": "markdown",
   "metadata": {},
   "source": [
    "   * 타이타닉호에는 모두 2201 명이 타고 있었습니다.\n",
    "   * 빙산에 부딪히고 나서 711명만 살았습니다.\n",
    "   * 이중에는 남자도 있고, 여자도 있고, 성인도 있고, 아이도 있습니다.\n",
    "   * 비싼 돈을 주고산 1, 2등석에 탄사람도 있고, 3등석에 탄 사람도 있습니다.\n",
    "   * 이것을 바탕으로 총 2201명의 승객을 좌석등급, 성별, 연령 구분에 따라서 데이터를 정리 하고 생존 여부에 따라서 구분 했습니다.\n",
    "   * 변수가 4개(좌석등급, 성별, 연령, 생존여부) 를 교차표로 정리하였습니다."
   ]
  },
  {
   "cell_type": "markdown",
   "metadata": {},
   "source": [
    "   * 교차표에는 연령, 성별, 좌석등급에 따라서 생존자와 사망자의 수를 확인 할 수 있습니다.\n",
    "       * 1등석 성인 여성 140명은  생존했으며, 4명은 사망했습니다.\n",
    "       * 선원은 모두 성인이고, 670명 사망에 192명이 생존했습니다.\n",
    "\n",
    "   * 숫자로는 생존 여부를 한눈에 파악하기 어렵기 때문에 그림으로 표현하고자 합니다.\n",
    "   * 범주형 변수가 만들어 내는 그룹의 크기에 따라서 사각형을 나누도록 합니다.\n",
    "   * 그룹의 크기에 따라 사각형의 크기를 표현하도록 합니다."
   ]
  },
  {
   "cell_type": "markdown",
   "metadata": {},
   "source": [
    "   * 먼저 좌석등급에 따라서 사각형의 크기를 나눕니다.\n",
    "   \n",
    "<img src=\"../image/ed068.png\" width=\"400\" height=\"400\" align=\"left\">  Page 112"
   ]
  },
  {
   "cell_type": "markdown",
   "metadata": {},
   "source": [
    "   * 2201 명중 1,2,3 등석, 선원의 수는 325명, 285명, 706명, 885명 이며, 사각형의 폭을 좌석등급에 비례해서 결정합니다.\n",
    "   * 그림에서 3등석하고 선원의 사각형이 큽니다.\n",
    "   \n",
    "   \n",
    "   * 다음 성별을 구분으로 가로로 나누어 봅니다.\n",
    "   \n",
    " <img src=\"../image/ed069.png\" width=\"500\" height=\"500\" align=\"left\">  Page 113"
   ]
  },
  {
   "cell_type": "markdown",
   "metadata": {},
   "source": [
    "   * 아래쪽은 여자, 위쪽은 남자로 구분하였습니다.\n",
    "   \n",
    "   * 다시 사각형을 성인과 아이 구분으로 세로로 구분합니다.\n",
    " \n",
    " <img src=\"../image/ed070.png\" width=\"500\" height=\"500\" align=\"left\">  Page 114"
   ]
  },
  {
   "cell_type": "markdown",
   "metadata": {},
   "source": [
    "   * 마지막으로 생존여부를 가로로 나누고, 생존자는 파란색, 사망자는 회색으로 구분합니다.\n",
    "   \n",
    " <img src=\"../image/ed071.png\" width=\"500\" height=\"400\" align=\"left\">  Page 114"
   ]
  },
  {
   "cell_type": "markdown",
   "metadata": {},
   "source": [
    "   * 각 상자에서 파랑색 상자의 비율이 높으로면 생존자가 더 많고, 회색의 비율이 높으면 사망자가 더 많은 것입니다.\n",
    "   * 그림에서 보면 여자와 아이, 그리고 좌석등급이 높은 사람들의 생존율이 확연히 높은것으로 나타납을 확인 할 수 있습니다."
   ]
  },
  {
   "cell_type": "markdown",
   "metadata": {},
   "source": [
    "   * 여기서 사망여부가 관심변수라면, 나머지 3가지 변수 연령, 성별, 좌석등급은 설명변수가 되겠습니다.\n",
    "   * 설명변수 3개의 조합으로 16개의 작은 조각으로 나누고 각 조각에서 그룹의 생존율 차이를 확인 할 수 있습니다.\n",
    "\n",
    "\n",
    "   * 이런 방법이 분할 정복을 하는 방법입니다."
   ]
  },
  {
   "cell_type": "markdown",
   "metadata": {},
   "source": [
    "   * 좋은 접근 방법이긴 하나, 최선의 방법은 아닙니다.\n",
    "       * 예를 들면, 3등석 여자 승객의 경우 아이와 성인의 생존율에 큰 차이가 없습니다. 그 상자는 합쳐도 큰 문제가 될 것 같지 않습니다.\n",
    "       * 만일 나누어서 큰차이가 없다면, 굳이 나누어서 설명할 필요가 없을 것입니다.\n",
    "       * 데이타의 차이를 보기 위하여 3개의 설명변수를 동원하여 16개의 조건을 살펴보았는데, 이중에는 굳이 살펴보지 않아도 될 조건들이 들어 있습니다.\n",
    "       * 설명 변수가 더 늘어나면 날수록 살펴보아야 할 조건은 2의 배수로 늘어나므로, 설명변수가 많은 경우에는 분석하기에 많은 시간이 낭비되고 있습니다.\n",
    "\n",
    "\n",
    "   * 따라서 조건을 줄이면서도 두 그룹의 차이를 더 명확하게 볼 수 있는 방법을 소개 하고자 하는데 다음절에서 설명할 **의사결정나무(Decision Tree)** 입니다."
   ]
  },
  {
   "cell_type": "code",
   "execution_count": null,
   "metadata": {},
   "outputs": [],
   "source": []
  }
 ],
 "metadata": {
  "kernelspec": {
   "display_name": "R",
   "language": "R",
   "name": "ir"
  },
  "language_info": {
   "codemirror_mode": "r",
   "file_extension": ".r",
   "mimetype": "text/x-r-source",
   "name": "R",
   "pygments_lexer": "r",
   "version": "3.4.3"
  }
 },
 "nbformat": 4,
 "nbformat_minor": 2
}
