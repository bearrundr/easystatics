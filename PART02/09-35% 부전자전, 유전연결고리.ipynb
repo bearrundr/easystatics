{
 "cells": [
  {
   "cell_type": "markdown",
   "metadata": {},
   "source": [
    "# <span style=\"color:blue\"> 이토록 쉬운 통계 & R </span>"
   ]
  },
  {
   "cell_type": "markdown",
   "metadata": {},
   "source": [
    "<img src=\"../image/cover.png\" width=\"200\" height=\"400\" align=\"left\">  임경덕 지음"
   ]
  },
  {
   "cell_type": "markdown",
   "metadata": {},
   "source": [
    "## 35% 부전자전, 유전 연결고리 (9일차)"
   ]
  },
  {
   "cell_type": "markdown",
   "metadata": {},
   "source": [
    "   * 산점도\n",
    "   * 상관관계\n",
    "   * 공분산\n",
    "   * 상관계수에 대한 설명 (피어슨 상관계수)"
   ]
  },
  {
   "cell_type": "markdown",
   "metadata": {},
   "source": [
    "   * 아빠키와 아들키와 상관관계로 설명"
   ]
  },
  {
   "cell_type": "markdown",
   "metadata": {},
   "source": [
    "   * 통상적으로 부모키와 자식키의 관계가 있을 것이라는 것을 생각하게 된다.\n",
    "   * 얼마만큼의 영향이 있을까요?\n",
    "   * 피어슨 방법을 따라 갑니다. (피어슨 상관계수)"
   ]
  },
  {
   "cell_type": "markdown",
   "metadata": {},
   "source": [
    "## 산점도"
   ]
  },
  {
   "cell_type": "markdown",
   "metadata": {},
   "source": [
    "   * 연속형 변수에 대한 표현 방법\n",
    "\n",
    "   * 아빠키와 아들키의 관계를 확인하기 위한 데이터 준비 (1078 개의 데이터)\n",
    "   \n",
    " \n",
    "<img src=\"../image/ed040.png\" width=\"400\" height=\"200\" align=\"left\">  Page 77"
   ]
  },
  {
   "cell_type": "markdown",
   "metadata": {},
   "source": [
    "   * 아빠키, 아들키 두개의 변수와 1078개의 관측치 가 있습니다.\n",
    "   * 따라서 가로축에는 아빠키, 세로축에는 아들키로 2차원 공간에 연속형 변수를 표현합니다.\n",
    "   * 다음 그림은 2차원 상에 표현한 그래프 입니다.\n",
    "\n",
    "<img src=\"../image/ed041.png\" width=\"300\" height=\"300\" align=\"left\">  Page 77"
   ]
  },
  {
   "cell_type": "markdown",
   "metadata": {},
   "source": [
    "   * 위 그림을 **산점도(Scattering plot)** 라고 합니다.\n",
    "   * 산점도 는 연속형 변수들 사이의 관계를 분석하기 위해 사용합니다.\n",
    "   \n",
    "   \n",
    "   * 아들 평균키는 $174.5 cm$  아빠 평균키는 $179.9 cm$ 입니다. 이들을 산점도에 같이 표현 합니다. 즉 각각의 평균키를 아들 평균키를 수평선으로 아빠평균키를 수직선으로 보조선을 그러 봅니다.\n",
    "   \n",
    "\n",
    "<img src=\"../image/ed042.png\" width=\"300\" height=\"300\" align=\"left\">  Page 78"
   ]
  },
  {
   "cell_type": "markdown",
   "metadata": {},
   "source": [
    "   * 평균선을 기준으로 오른쪽 위쪽 부터 반시계 방향으로 순서대로 1, 2, 3, 4 사분면이라고 합니다.\n",
    "   * 아빠키 평균 수직선을 기준으로 왼쪽은 평균보다 키가 작은 아빠들, 오른쪽은 평균보다 키가 큰 아빠들입니다.\n",
    "   * 아들 평균 수평선을 기준으로 위쪽은 평균보더 키가 큰 아들들, 아래 쪽은 평균보다 키가 작은 아들들입니다."
   ]
  },
  {
   "cell_type": "markdown",
   "metadata": {},
   "source": [
    "   * 제 1 사분면은 아빠, 아들 다 키가 큽니다.\n",
    "   * 제 3 사분면은 아빠, 아들 다 키가 작습니다.\n",
    "   * 이 둘 사분면은 아들키와 아빠키가 관계가 있다고 할 수 있습니다.\n",
    "   * 제 2 사분면과 제 4 사분면은 아빠의 키와 아들의 키가 서로 반대 입니다.\n",
    "   * 위 산점도를 보면 확실히 제 1 사분면과 제 3 사분면에 점이 많이 찍혀 있습니다. 즉 아빠키와 아들키는 밀접한 관계가 있는 것으로 보입니다."
   ]
  },
  {
   "cell_type": "markdown",
   "metadata": {},
   "source": [
    "#### 밀접한 관계를 숫자로 표현 하는 방법"
   ]
  },
  {
   "cell_type": "markdown",
   "metadata": {},
   "source": [
    "##### 첫번쨰 방법"
   ]
  },
  {
   "cell_type": "markdown",
   "metadata": {},
   "source": [
    "   * 간단하게 각 사분면에 있는 점의 숫자를 세는 방법입니다.\n",
    "   * 그러나 이런 방법은 다음과 같은 문제점이 있습니다.\n",
    "   \n",
    "<img src=\"../image/ed043.png\" width=\"300\" height=\"300\" align=\"left\">  Page 79"
   ]
  },
  {
   "cell_type": "markdown",
   "metadata": {},
   "source": [
    "   * 위 표는 1078 개 에서 뽑은 4개 데이터 입니다. 이것을 산점도로 표현 하면 다음과 같습니다.\n",
    "   \n",
    " <img src=\"../image/ed044.png\" width=\"300\" height=\"300\" align=\"left\">  Page 80"
   ]
  },
  {
   "cell_type": "markdown",
   "metadata": {},
   "source": [
    "   * 단지 점을 센다면, 2, 4 사분면에 2개의 점, 1,3 사분면에 2개의 점으로 2:2 가 되어 아무런 관계가 없는 것 처럼 보입니다.\n",
    "   * 단지 각 사분면에 속한 점을 세는 것은 관계를 찾아낼 수 없음니다.\n",
    "   \n",
    "   * 그러나 자세히 보면 두 평균 보조선이 만나는 점에서 부터 각 점의 길이는 다르게 보입니다.\n",
    "   * 즉 두 평균보조선이 만나는 점에서 부터 관측치 까지 거리에 따라 영향력을 정 할 수 있을 것 같습니다.\n",
    "   * 이것을 중심에서 관측치 까지의 사각형의 면적을 사용합니다. 이것을 상관관계 라고 합니다."
   ]
  },
  {
   "cell_type": "markdown",
   "metadata": {},
   "source": [
    "## 상관관계"
   ]
  },
  {
   "cell_type": "markdown",
   "metadata": {},
   "source": [
    "   * 중심에서 관측치가 멀수록 두 변수는 영향력이 강하다고 할 수 있습니다. 그리고 이것을 숫자표 표현을 아빠의 평균으로 부터의 거리 와 아들의 평균으로 부터의 곱으로 표현합니다.\n",
    "   * 평균으로 부터 멀수록 값은 커지고 평균과 가까울수록 작아집니다. 이것을 그림으로 표현 하면 다음과 같습니다.\n",
    "   \n",
    "<img src=\"../image/ed045.png\" width=\"300\" height=\"300\" align=\"left\">  Page 81"
   ]
  },
  {
   "cell_type": "markdown",
   "metadata": {},
   "source": [
    "   * 1 사분면은 $18.1 cm$ 와 $15.5 cm$ 의 곱인 $289.55 cm^2$ 가 됩니다.\n",
    "   * 3 사분면은 $-11.9 cm$ 와 $-14,6 cm$ 곱인 $172.55 cm^2$ 로 표현합니다.\n",
    "   * 2 사분면은 $5.5 cm$ 와 $-1.9 cm$ 곱인 $-10.45 cm^2$ 로 됩니다.\n",
    "   * 4 사분면은 $8.1 cm$ 와 $-4.5 cm$ 곱인 $-36.5 cm^2$ 이 됩니다."
   ]
  },
  {
   "cell_type": "markdown",
   "metadata": {},
   "source": [
    "### 공분산"
   ]
  },
  {
   "cell_type": "markdown",
   "metadata": {},
   "source": [
    "   * 이들을 다 더해서 n - 1 로 나누어 줍니다.\n",
    "   * 이 숫자를 $x$ 와 $y$ 두개의 변수를 활용해서 평균을 계산하는 것이므로 **공분산(Covariance)** 라고 합니다.\n",
    "   * 이것은 단일 변수의 분산을 2개의 변수로 개념을 확장한것으로 보면 됩니다."
   ]
  },
  {
   "cell_type": "markdown",
   "metadata": {},
   "source": [
    "   * 수식으로 표현 하면 다음과 같습니다.\n",
    "   \n",
    "$$ q_{xy} = \\dfrac{1}{n - 1} \\sum_{i=1}^{n} (x_i - {\\bar x})(y_i - {\\bar y}) $$"
   ]
  },
  {
   "cell_type": "markdown",
   "metadata": {},
   "source": [
    "   * 주어진 예제의 공분산은 다음과 같습니다.\n",
    "   * 먼저 1078 개의 점이 만들어 내는 사각형을 겹쳐 그려보면 다음과 같습니다.\n",
    "   \n",
    " <img src=\"../image/ed046.png\" width=\"300\" height=\"300\" align=\"left\">  Page 83"
   ]
  },
  {
   "cell_type": "markdown",
   "metadata": {},
   "source": [
    "   * 확실히 파란색의 사각형이 음 면적보다 더 넓고 강하게 보입니다.\n",
    "   \n",
    "   * 공분산은 다음과 같습니다.\n",
    "   \n",
    " $$ q_xy = \\dfrac{1}{1078 - 1} \\sum_{i = 1}^{1078}  (x_i - {\\bar x})(y_i - {\\bar y}) = 25 cm^2  $$"
   ]
  },
  {
   "cell_type": "markdown",
   "metadata": {},
   "source": [
    "   * 공분산 값의 양수 일 경우 **양의 상관관계** 가 있다. 음수일 경우 에는 **음의 상관관계** 가 있다고 합니다. 예제인 경우에는 양의 상관관계가 있습니다.\n",
    "   * 음의 상관관계 예는 아이폰관 갤럭시 같이 상호 보완재 또는 대체제 인 경우로 해석이 될 수 있습니다."
   ]
  },
  {
   "cell_type": "markdown",
   "metadata": {},
   "source": [
    "## 상관계수"
   ]
  },
  {
   "cell_type": "markdown",
   "metadata": {},
   "source": [
    "   * 상관관계만 양수라는 정보이외 다른 정보를 알기 어렵습니다. 또한 단위가 서로 각각이라서 일반화 하기 어렵습니다.\n",
    "   * 따라서 이것을 단위를 없애는 방법을 사용합니다. 쯕 상관관계에 표준편차로 나누어 비로서 표현 하도록 합니다.\n",
    "   * 표준화된 두 변의의 공분산을 **상관계수(Correlation Coefficient)** 라고 합니다"
   ]
  },
  {
   "cell_type": "markdown",
   "metadata": {},
   "source": [
    "   * 이전 집단의 중심화, 척도화와 같은 방법을 사용하여 진행합니다.\n",
    "   \n",
    "  <img src=\"../image/ed047.png\" width=\"500\" height=\"300\" align=\"left\">  Page 85"
   ]
  },
  {
   "cell_type": "markdown",
   "metadata": {},
   "source": [
    "   * 표준화를 한표입니다. 이것을 그림으로 보면 다음과 같습니다.\n",
    "   \n",
    "  <img src=\"../image/ed048.png\" width=\"300\" height=\"300\" align=\"left\">  Page 85"
   ]
  },
  {
   "cell_type": "markdown",
   "metadata": {},
   "source": [
    "   * 이전 그림과 같습니다. 단 차이는 아빠키, 아들키가 원래의 키가 아닌 표준화된 값입니다.\n",
    "   * 표준화된 아빠키, 아들키를 각각 $x'$, $y'$ 이라고 하면"
   ]
  },
  {
   "cell_type": "markdown",
   "metadata": {},
   "source": [
    "$$x' = \\dfrac{(x_i - {\\bar x})}{s_x},\\;\\;   y' = \\dfrac{(y_i - {\\bar y})}{s_y}$$"
   ]
  },
  {
   "cell_type": "markdown",
   "metadata": {},
   "source": [
    "$$q_{x'y'} = \\dfrac{1}{1078 - 1}\\sum_{i = 1}^{1078} (x'_i - {\\bar x'})(y'_i - {\\bar y'}) = \\dfrac{1}{1078 - 1} \\sum_{i = 1}^{1078} x'_iy'_i = 0.5$$\n",
    "\n",
    "   * 중심화 하여 ${\\bar x}$, ${\\bar y}$ 는 0 으로 되어 있다."
   ]
  },
  {
   "cell_type": "markdown",
   "metadata": {},
   "source": [
    "   * 상관계수 가 0.5 입니다. 이것은 PART 3 에서 다시 살펴 봅니다.\n",
    "   \n",
    "   * 상관계수는 $r_{xy}$ 로 표현하면 다음과 같이 됩니다."
   ]
  },
  {
   "cell_type": "markdown",
   "metadata": {},
   "source": [
    "$$r_{xy} = \\dfrac{1}{n - 1} \\sum_{i=1}^{n} \\dfrac{(x_i - {\\bar x})}{s_x} \\; \\dfrac{(y_i - {\\bar y})}{s_y} = \\dfrac{q_{xy}}{s_x\\;s_y}\\;, \\; -1 \\le r_{xy} \\le 1$$"
   ]
  },
  {
   "cell_type": "markdown",
   "metadata": {},
   "source": [
    "   * 상관관계 $25 cm$ 와 다른  상관계수 0.5 는 \n",
    "   1. 단위가 없어졌으므로, 다른 상관계수와 비교가 가능합니다.\n",
    "   2. 따라서 0.5 라는 숫자가 큰것인지 크면 어느정도 큰것인지 구분이 필요합니다. 이것은 PART 3에서 합니다.\n",
    "   3. 상관계수 $r_{xy}$ 는 1 에서 -1 사이의 값을 가집니다.\n",
    "   4. $r_{xy}$ 를 피어슨 상관계수라고 합니다."
   ]
  },
  {
   "cell_type": "markdown",
   "metadata": {},
   "source": [
    "#### 상관계수 $r_{xy}$ 의 의미"
   ]
  },
  {
   "cell_type": "markdown",
   "metadata": {},
   "source": [
    "   * 1 : 두 변수가 똑같은 경우\n",
    "   * -1 : 두 변수가 가장 다를 경우\n",
    "   * -1 에 가까울 수록 음의 상관 관계\n",
    "   * 1 에 가까울 수록 양의 상관관계를 갖습니다.\n",
    "   * 0 에 가까울 수록 서로 관련이 없습니다."
   ]
  },
  {
   "cell_type": "markdown",
   "metadata": {},
   "source": [
    "#### 산점도에서 봤을 경우"
   ]
  },
  {
   "cell_type": "markdown",
   "metadata": {},
   "source": [
    "   * 관측치가 원형에 가까울 수록 상관관계는 0에 가깝습니다.\n",
    "   * 타원을 거쳐 직선에 가까울수록 강한 상관관계를 갖습니다."
   ]
  },
  {
   "cell_type": "markdown",
   "metadata": {},
   "source": [
    "   * 다음 절에는 먼저 범주형 변수에서 상관관계를 살표보고, PART 3 에서 상관관계를 이용하여 아빠키에 따른 아들키의 예측및 영향력에 대해서 살펴봅니다."
   ]
  }
 ],
 "metadata": {
  "kernelspec": {
   "display_name": "R",
   "language": "R",
   "name": "ir"
  },
  "language_info": {
   "codemirror_mode": "r",
   "file_extension": ".r",
   "mimetype": "text/x-r-source",
   "name": "R",
   "pygments_lexer": "r",
   "version": "3.4.3"
  }
 },
 "nbformat": 4,
 "nbformat_minor": 2
}
