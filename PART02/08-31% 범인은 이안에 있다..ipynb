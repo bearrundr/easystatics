{
 "cells": [
  {
   "cell_type": "markdown",
   "metadata": {},
   "source": [
    "# <span style=\"color:blue\"> 이토록 쉬운 통계 & R </span>"
   ]
  },
  {
   "cell_type": "markdown",
   "metadata": {},
   "source": [
    "<img src=\"../image/cover.png\" width=\"200\" height=\"400\" align=\"left\">  임경덕 지음"
   ]
  },
  {
   "cell_type": "markdown",
   "metadata": {},
   "source": [
    "## 31% 범인은 이 안에 있다 (8일차)"
   ]
  },
  {
   "cell_type": "markdown",
   "metadata": {},
   "source": [
    "   * 관심 있는 변수간의 차이는 반드시 원인이 있으며 그 원인은 데이터 안에 있습니다.\n",
    "   * PART 2 에서 하고자 하는 내용을 설명한다."
   ]
  },
  {
   "cell_type": "markdown",
   "metadata": {},
   "source": [
    "### 사건(Event)"
   ]
  },
  {
   "cell_type": "markdown",
   "metadata": {},
   "source": [
    "   * 매일 매일의 통계적 사건을 대하고 있습니다.\n",
    "   * 동전을 10번 던지는 사건\n",
    "   * 대선과 같은 복잡한 사건\n",
    "   * 기타 등등"
   ]
  },
  {
   "cell_type": "markdown",
   "metadata": {},
   "source": [
    "   * 통계에서는 데이타를 조사, 왜 그런 결과가 나왔는지를 조사합니다."
   ]
  },
  {
   "cell_type": "markdown",
   "metadata": {},
   "source": [
    "   * 과거에 일어난 사건을 데이터로 기록 합니다.\n",
    "   * 데이터 속에는 변수들이 있습니다.\n",
    "   * 데이터 분석이란 변수를  활용하여 논리적으로 차이를 설명.\n",
    "   * 첫번째 과정이 변수간의 관계탐색 (상관도, 산점도) 함."
   ]
  },
  {
   "cell_type": "markdown",
   "metadata": {},
   "source": [
    "#### 관심변수"
   ]
  },
  {
   "cell_type": "markdown",
   "metadata": {},
   "source": [
    "   * 데이터 속에 있는 여러 변수 중에서 차이를 확인하고 설명하려는 변수\n",
    "   * 종속변수 라고도 합니다."
   ]
  },
  {
   "cell_type": "markdown",
   "metadata": {},
   "source": [
    "#### 설명변수"
   ]
  },
  {
   "cell_type": "markdown",
   "metadata": {},
   "source": [
    "   * 관심 변수의 차이를 설명해주는 변수\n",
    "   * 독립변수 하고도 함."
   ]
  },
  {
   "cell_type": "markdown",
   "metadata": {},
   "source": [
    "#### 예"
   ]
  },
  {
   "cell_type": "markdown",
   "metadata": {},
   "source": [
    "   * 신장, 키를 예를 들어 보자.\n",
    "   * 우리는 모두 서로 다른 키를 가지고 있다. 이런 차이를 설명이 가능할까요?\n",
    "   * 부모의 키를 활용하여 설명할 수 는 있지 않을까요?\n",
    "   * 유전적 영향을 확인하고, 생활환경과 관련된 변수를 사용하면 설명이 가능할까요?\n",
    "   * 생활습관, 운동량, 심리상태등 우리가 알 수 없는 요소들이 복합적으로 작용 할 까요?"
   ]
  },
  {
   "cell_type": "markdown",
   "metadata": {},
   "source": [
    "   * 통계에서는 이 모든 것을 숫자로 표현하고 수식으로 표현합니다."
   ]
  },
  {
   "cell_type": "markdown",
   "metadata": {},
   "source": [
    "   * PART 2 에서는 차이를 설명하기 위한 변수의 관계를 PART3 에서는 차이를 입증하기 위한 테스트를 중심으로 설명합니다."
   ]
  }
 ],
 "metadata": {
  "kernelspec": {
   "display_name": "R",
   "language": "R",
   "name": "ir"
  },
  "language_info": {
   "codemirror_mode": "r",
   "file_extension": ".r",
   "mimetype": "text/x-r-source",
   "name": "R",
   "pygments_lexer": "r",
   "version": "3.4.3"
  }
 },
 "nbformat": 4,
 "nbformat_minor": 2
}
