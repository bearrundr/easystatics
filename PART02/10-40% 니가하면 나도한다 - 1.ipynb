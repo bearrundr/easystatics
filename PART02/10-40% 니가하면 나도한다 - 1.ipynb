{
 "cells": [
  {
   "cell_type": "markdown",
   "metadata": {},
   "source": [
    "# <span style=\"color:blue\"> 이토록 쉬운 통계 & R </span>"
   ]
  },
  {
   "cell_type": "markdown",
   "metadata": {},
   "source": [
    "<img src=\"../image/cover.png\" width=\"200\" height=\"400\" align=\"left\">  임경덕 지음"
   ]
  },
  {
   "cell_type": "markdown",
   "metadata": {},
   "source": [
    "## 40% 니가하면 나도한다 - 1 (10일차)"
   ]
  },
  {
   "cell_type": "markdown",
   "metadata": {},
   "source": [
    "   * 교차표\n",
    "   * 행, 열 백분율\n",
    "   * 열지도"
   ]
  },
  {
   "cell_type": "markdown",
   "metadata": {},
   "source": [
    "   * 범주형 변수의 상관관계를 보기 위한 예를 하나 들어 보아요.\n",
    "   \n",
    "<img src=\"../image/ed049.png\" width=\"500\" height=\"200\" align=\"left\">  Page 88"
   ]
  },
  {
   "cell_type": "markdown",
   "metadata": {},
   "source": [
    "   * 시험기간 고생하는 학생을 위한 간식을 준비했습니다.\n",
    "   * 케이크와 햄버거 먹을것 하고, 커피와 사이다 마실것을 준비했습니다.\n",
    "   * 학생에게 선택하라고 하면, 어떤 선택을 하게 될까요?\n",
    "   \n",
    "   \n",
    "   * 가능한 조합이 위 표에 있습니다.\n",
    "   * (케이크, 커피) 와 (햄버거, 사이다) 조합이 많을 것 같습니다.\n",
    "   * 이런 범주형 변수에 적절한 조합수준을 어떻게 확인하고 표현 할 까요?"
   ]
  },
  {
   "cell_type": "markdown",
   "metadata": {},
   "source": [
    "   * 이런 것을 범주형 변수의 조합관계 (각 범주형 변수 수준 간의 조합관계) 라고 하고, 다음절에 이런 조합관계를 표현하는 방법을 논의 할 것입니다."
   ]
  },
  {
   "cell_type": "markdown",
   "metadata": {},
   "source": [
    "## 교차표(Contingency Table), 분활표, 또는 Cross Table"
   ]
  },
  {
   "cell_type": "markdown",
   "metadata": {},
   "source": [
    "   * 범주형 변수는 표로 표현합니다.\n",
    "   * 관측치도 다양향 값을 갖는 것이 아니고, {남자, 여자} 와 같이 몇가지 정해진 수준중에 하나를 선택하는 값을 갖습니다.\n",
    "   * 따라서 수직선으로 표현하기 보다는 다음과 같은 표로 데이터를 요약 할 수 있습니다.\n",
    "   \n",
    "   <img src=\"../image/ed050.png\" width=\"500\" height=\"300\" align=\"left\">  Page 89"
   ]
  },
  {
   "cell_type": "markdown",
   "metadata": {},
   "source": [
    "   * 첫번째 변수는 수준 1, 2, 3, 4로 두번째 변수에는 수준 A, B, C 로 표시 했습니다.\n",
    "   * 위 표에는 모두 12가지 조합 할 수 있는 표입니다.\n",
    "   \n",
    "   \n",
    "   * 다음의 예를 가지고 교차표에 대해서 이해을 합니다.\n",
    "   * 표는 4번의 올림픽 대회에서 한국인 선수가 딴 메달 성적을 교차표로 정리 했습니다."
   ]
  },
  {
   "cell_type": "markdown",
   "metadata": {},
   "source": [
    "  <img src=\"../image/ed051.png\" width=\"500\" height=\"300\" align=\"left\">  Page 90"
   ]
  },
  {
   "cell_type": "markdown",
   "metadata": {},
   "source": [
    "   * 가로축(행) 으로는 올림픽 대회를, 세로축(열)에는 메달 이라는 변수를 해서, 총 12개의 조합으로 구성된 교차표 입니다.\n",
    "   * 이런표는 두 범주형 변수를 매우 효과적으로 요약 할 수 있습니다.\n",
    "   * 예를 들면, 리우 올림픽 에서 딴 은메달 갯수는 행으로는 31회 리우 올림픽을, 세로축으로는 은메달을 찿아서 교차되는 칸의 숫자 3을 쉽게 찿아 낼 수 있습니다.\n",
    "   \n",
    "   \n",
    "   * 이제 이들을 각 행, 열의 합계를 같이 표현 하도록 합니다.\n",
    "   \n",
    "  <img src=\"../image/ed052.png\" width=\"500\" height=\"300\" align=\"left\">  Page 91"
   ]
  },
  {
   "cell_type": "markdown",
   "metadata": {},
   "source": [
    "   * 리우 올림픽에서는 9개의 금메달, 3개의 은메달, 9개의 동메달 총 21 개의 메달을 땄습니다.\n",
    "   * 4회 올림픽 동안 모두 딴 은메달 갯수는 33개 입니다.\n",
    "   \n",
    "   \n",
    "   * 위 표를 한눈에 알아보기 쉽게 하기 위하여 백분율로 표시하는 테이블을 만듭니다."
   ]
  },
  {
   "cell_type": "markdown",
   "metadata": {},
   "source": [
    "## 행 백분율과 열 백분율"
   ]
  },
  {
   "cell_type": "markdown",
   "metadata": {},
   "source": [
    "   * 교차표에는 행과 열 두 변수가 있습니다.\n",
    "   * 어느 칸의 숫자가 큰지 작은지 판단으로는 두 변수의 관계를 파악하기 힘들다.\n",
    "   * 따라서 한변수를 고정하고 그에 따른 다른 변수가 어떤역할을 하는지 파악하는 것이 중요하다.\n",
    "\n",
    "\n",
    "#### 행에 있는 대회를 고정한 백분율"
   ]
  },
  {
   "cell_type": "markdown",
   "metadata": {},
   "source": [
    "  <img src=\"../image/ed053.png\" width=\"500\" height=\"300\" align=\"left\">  Page 92"
   ]
  },
  {
   "cell_type": "markdown",
   "metadata": {},
   "source": [
    "   * 행 합계를 1로 하여 각 열의 비중이 얼마인지 계산 한것을 **행 백분율** 이라고 합니다.\n",
    "   * 맨 마지막 행에 있는 열 합계에 대한 백분율을 살표 볼수 있습니다.\n",
    "   * 우리나라 선수들이 획득한 메달중 40% 는 금메달, 은메달, 동메달은 각각 30% 입니다.\n",
    "   \n",
    "   \n",
    "   * 행 백분율을 계산한다음, 열단위로 교차표를 살펴보면 정보를 얻을 수 있습니다.\n",
    "   * 예를 들어\n",
    "       * 전체대회에서 은메달은 30% 비중이나\n",
    "       * 아테네 에서는 40%로 훨신 높고, 리우에서 은메달은 14%로 매우 낮습니다.\n",
    "       * 아테네 에서 금메달은 30%로 전체 비중 40% 보다 낮습니다. 등등\n",
    "\n",
    "   * 백분율을 구하면, 전반적인 열 비중패턴과 다르게, 각 행(대회)가 어떤 열과 조금 또는 덜 관련이 있는지 살펴볼 수 있습니다.\n",
    "       * 아테네는 금메달 보다는 은메달\n",
    "       * 런던은 동메달 보다는 금메달\n",
    "       * 리우는 은메달 보다는 금메달, 동메달이 관련이 높다고 할 수 있다."
   ]
  },
  {
   "cell_type": "markdown",
   "metadata": {},
   "source": [
    "#### 열에 있는 대회를 고정한 백분율"
   ]
  },
  {
   "cell_type": "markdown",
   "metadata": {},
   "source": [
    "   * 열 합계를 1로 봤을 경우 각 행의 비중을 살펴보는 열 백분율, 즉 각 메달의 합계를 1로 봤을떄 어떤대회에서 메달이 많이 나왔는지 살펴보는것 입니다."
   ]
  },
  {
   "cell_type": "markdown",
   "metadata": {},
   "source": [
    "  <img src=\"../image/ed054.png\" width=\"500\" height=\"300\" align=\"left\">  Page 93"
   ]
  },
  {
   "cell_type": "markdown",
   "metadata": {},
   "source": [
    "   * 베이징과 런던의 금메달이 각각 13개 인데, 각각 30% 입니다.\n",
    "   * 행 합계에 대한 열 배분율을 보면, 총 111개 메달중에서 베이징이 29% 의 메달을 얻었고, 리우가 19%로 가장 낮습니다.\n",
    "   * 행단위로 살펴보면\n",
    "       * 아테네는 27%의 메달 비중이나, 은메달 비중이 26%로 가장 높고, 금메달은 20%로 비중이 낮다.\n",
    "       * 전체 메달 비중에서 리우가 가장 낮고, 그중에서 은메달 비중은 9%로 가장 낮습니다. 대신 동메달 비중은 다른대회에 비해서 차이가 없음니다.\n",
    "       * 전체적으로 메달 딴 순위는 베이징 -> 아테네 -> 런던 -> 리우 순이고, \n",
    "       * 런던은 금메달, 베이징은 은메달, 리우는 동메달을 다른 메달에 비해서 조금 더 많이 땄습니다."
   ]
  },
  {
   "cell_type": "markdown",
   "metadata": {},
   "source": [
    "   * 이렇게 숫자로 표현은 하지만 범주형 변수들의 수준이 늘어나면 숫자로 보기 어렵기 때문에 각 칸을 색깔로 표현하는 방법을 사용한다."
   ]
  },
  {
   "cell_type": "markdown",
   "metadata": {},
   "source": [
    "## 열지도 (Heatmap)"
   ]
  },
  {
   "cell_type": "markdown",
   "metadata": {},
   "source": [
    "   * 가로, 세로가 각각 4, 3줄로 12개의 조합은 집중만 하면, 패턴을 파악 할 수 있으나, 수준이 늘어나면 쉽게 파악이 힘들게 된다.\n",
    "   * 교차표에서 각 숫자를 색깔로 표현하여 쉽게 패턴을 찾도록 합니다.\n",
    "   \n",
    "   \n",
    "   * 다음 그림은 메달수에 대한 열지도 입니다.\n",
    "   \n",
    "     <img src=\"../image/ed055.png\" width=\"400\" height=\"400\" align=\"left\">  Page 95"
   ]
  },
  {
   "cell_type": "markdown",
   "metadata": {},
   "source": [
    "   * 금메달수가 가장 많았던 (13개) 런던, 베이징이 금메달에서 가장 진하고, 은메달수 3개로 가장 작은 리우에서 은메달 색아 가장 연합니다.\n",
    "   \n",
    "   \n",
    "   * 같은 그림으로 행 백분율 열지도는 다음과 같습니다.\n",
    "   \n",
    "     <img src=\"../image/ed056.png\" width=\"400\" height=\"400\" align=\"left\">  Page 96"
   ]
  },
  {
   "cell_type": "markdown",
   "metadata": {},
   "source": [
    "<img src=\"../image/ed057.png\" width=\"400\" height=\"400\" align=\"left\">  Page 96"
   ]
  },
  {
   "cell_type": "markdown",
   "metadata": {},
   "source": [
    "   * 열지도는 범주형 변수의 수준이 많을 수록 더욱 효과적입니다.\n",
    "   \n",
    "      <img src=\"../image/ed058.png\" width=\"600\" height=\"600\" align=\"left\">  Page 97"
   ]
  },
  {
   "cell_type": "markdown",
   "metadata": {},
   "source": [
    "<img src=\"../image/ed059.png\" width=\"600\" height=\"400\" align=\"left\">  Page 98"
   ]
  },
  {
   "cell_type": "markdown",
   "metadata": {},
   "source": [
    "   * 지역을 막론하고, 40대와 50대의 색깔이 전체적으로 짙습니다. \n",
    "   * 15세 미만의 인구는 색이 연합니다.\n",
    "   * 수도권 보다는 지방의 60세 인구비중이 높습니다.\n",
    "   * 30 - 40 대 초중반 공무원 들과, 자녀들이 모여 있는 세종특별자치시도 눈에 띕니다."
   ]
  },
  {
   "cell_type": "markdown",
   "metadata": {},
   "source": [
    "   * 열지도는 R 에서도 쉽게 표현 할 수 있으며, 위와 같은 방법으로 활용이 높습니다."
   ]
  }
 ],
 "metadata": {
  "kernelspec": {
   "display_name": "R",
   "language": "R",
   "name": "ir"
  },
  "language_info": {
   "codemirror_mode": "r",
   "file_extension": ".r",
   "mimetype": "text/x-r-source",
   "name": "R",
   "pygments_lexer": "r",
   "version": "3.4.3"
  }
 },
 "nbformat": 4,
 "nbformat_minor": 2
}
