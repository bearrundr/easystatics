{
 "cells": [
  {
   "cell_type": "markdown",
   "metadata": {},
   "source": [
    "# <span style=\"color:blue\"> 이토록 쉬운 통계 & R </span>"
   ]
  },
  {
   "cell_type": "markdown",
   "metadata": {},
   "source": [
    "<img src=\"../image/cover.png\" width=\"200\" height=\"400\" align=\"left\">  임경덕 지음"
   ]
  },
  {
   "cell_type": "markdown",
   "metadata": {},
   "source": [
    "## 50% 아낌없이 주는 의사 결정나무(14 일차) -- 의사결정나무(Decision Tree)"
   ]
  },
  {
   "cell_type": "markdown",
   "metadata": {},
   "source": [
    "   * 테이터의 차이를 확인하고 설명하려면, 조건부 확률, 조건부 평균을 구해야 하는데, 설명변수를 구하는 방법이 매우 어렵습니다.\n",
    "   * 관심변수는 하나이지만, 설명 변수는 여러개가 될 수 도 있습니다.\n",
    "   * 이런 설명 변수를 찾는데 이번에는 의사결정나무(Decision Tree) 를 설명하고자 합니다."
   ]
  },
  {
   "cell_type": "markdown",
   "metadata": {},
   "source": [
    "## 의사결정나무 모형"
   ]
  },
  {
   "cell_type": "markdown",
   "metadata": {},
   "source": [
    "   * 히스토그램이나 막대그래프 상에서 관심 변수 속 관측치들이 서로 다른 값을 갖는 것은 보입니다.\n",
    "   * 이런 차이를 설명하기 위해서 다른 변수로 설명하고자 하는데, 여러개의 설명 변수는 다양한 조건을 만들게 되고, 이런 다양한 조건에 따라서 관심 변수의 차이가 크게 변하는 것은 확인 할 수 있습니다.\n",
    "   * 그러나 변수가 많아지면 많을수록 가능한 조건도 많아지고, 큰차이도 없는 조건까지 살펴보는 것은 무의미 합니다.\n",
    "   * 즉 앞의 예 처럼 3개의 설명변수를 조합 16가지 조건을 다 살펴 볼 이유가 없다는 뜻입니다."
   ]
  },
  {
   "cell_type": "markdown",
   "metadata": {},
   "source": [
    "   * 모든 설명 변수를 사용하는 것이 아니라 중요한 변수만 선택해서 차이를 설명하는 **통계모형(Statistica Model)** 을 고안했습니다.\n",
    "   * 그 중에서도 직관적으로 이해 할 수 있는 **의사결정나무 모형(Decision Tree)** 에 대해서 알아봅니다."
   ]
  },
  {
   "cell_type": "markdown",
   "metadata": {},
   "source": [
    "#### 의사결정나무 진행 방법"
   ]
  },
  {
   "cell_type": "markdown",
   "metadata": {},
   "source": [
    "   * 전체 관측치를 둘로 나눌 최적의 조건을 찾습니다. 많은 설명변수 가운데 단 하나의 조건만을 선택하는데, 가장 중요한 조건을 선택합니다.\n",
    "   * 다음 다시 둘을 나눌때도 역시 같은 방법으로 최적의 조건을 찾습니다.\n",
    "   * 더 이상 나눌수 없을 때 까지 이 방법을 계속 반복합니다."
   ]
  },
  {
   "cell_type": "markdown",
   "metadata": {},
   "source": [
    "#### 최적의 조건"
   ]
  },
  {
   "cell_type": "markdown",
   "metadata": {},
   "source": [
    "   * 예를 들어 초등학생 안경쓴 학생의 비율이 30%라고 합시다\n",
    "   * 학년을 기준으로 고학년과 저학년을 나누어 봤더니 고학년 중에서 안경쓴 학생 비율은 31% 이고, 저학년 중에서는 29% 입니다.\n",
    "   * 반면 성별을 기준으로 나누어 봤더니, 남학생의 비율은 40% 이고, 여학생 비율은 20% 입니다.\n",
    "   \n",
    "   \n",
    "   * 학년과 성별 중에서 어느 변수가 더 큰차이를 만들어 낼까요?\n",
    "       * 여기서는 성별입니다.\n",
    "       \n",
    "   * 이런 개념을 Information Gain 이라고 하는데, 정보의 엔트로피를 이용해서 설명합니다."
   ]
  },
  {
   "cell_type": "markdown",
   "metadata": {},
   "source": [
    "#### 타이타닉 호 예제"
   ]
  },
  {
   "cell_type": "markdown",
   "metadata": {},
   "source": [
    "   * 나무의 몸통입니다. 몸통에는 전체 관측치가 다 모여 있습니다. 전체 탑승자의 생존율을 계산해보면 2201명중 711명이 생존해 있으므로 약 32% 입니다.\n",
    "   \n",
    "<img src=\"../image/ed074.png\" width=\"50\" height=\"50\" align=\"center\">  Page 119"
   ]
  },
  {
   "cell_type": "markdown",
   "metadata": {},
   "source": [
    "   * 다음 의사결정 나무 모형이 최적의 조건을 찾습니다. 조건에 따라서 관측치를 2개의 그룹으로 나눕니다.\n",
    "   * 의사결정나무 모형이 찾은 최적의 조건은 성별 = 남자 입니다.\n",
    "   \n",
    "   \n",
    "   \n",
    "   \n",
    " <img src=\"../image/ed075.png\" width=\"600\" height=\"300\" align=\"center\">  Page 119"
   ]
  },
  {
   "cell_type": "markdown",
   "metadata": {},
   "source": [
    "   * 이 조건에 일치하면 왼쪽으로 일치하지 않으면 오른쪽으로 이동합니다.\n",
    "   * 왼쪽에는 탑승자중 남자 1,731 명이 모여 있고 생존율은 21% 이고 오른쪽은 470명의 여자들이 모여 있고 생존율이 73% 입니다.\n",
    "   * 다른 설명변수 조건 보다는 성별 변수가 가장 차이를 보이기 때문에 성별 변수가 선택된 것입니다.\n",
    "   \n",
    "   \n",
    "   \n",
    " <img src=\"../image/ed076.png\" width=\"600\" height=\"300\" align=\"center\">  Page 120"
   ]
  },
  {
   "cell_type": "markdown",
   "metadata": {},
   "source": [
    "   * 오른쪽 가지에서 좌석등급으로 나누어 봅니다.\n",
    "   * 좌석등급이 3등급 조건으로 나누어 보면 오른쪽에는 좌석등급이 1,2 급인 여자승객이 외쪽은 3등급인 여자 승객입니다.\n",
    "   * 좌석등급이 1,2 급인 여성승객은 93%의 생존율을 보이고 있고, 3등급인 여성 승객은 46% 생존율을 나타냅니다.\n",
    "   \n",
    "   \n",
    "  <img src=\"../image/ed077.png\" width=\"600\" height=\"500\" align=\"center\">  Page 120"
   ]
  },
  {
   "cell_type": "markdown",
   "metadata": {},
   "source": [
    "   * 이번에는 남자그룹에서 먼저 연령구분으로 왼쪽은 성인 오른쪽은 아이로 나누었습니다.\n",
    "   * 그리고 아이그룹은 다시 좌석등급으로 왼쪽은 3등급, 오른쪽은 1,2 등급으로 나누었습니다.\n",
    "   * 그림에서 아이를 나누는 기준은 좌석등급입니다. (연령구분은 오타입니다)\n",
    "   \n",
    "   \n",
    "   * 제일 외쪽은 성인 남자 인 경우인데, 생존율이 20%입니다.\n",
    "   * 이후로는 모형에서 가지를 뻗지 않습니다."
   ]
  },
  {
   "cell_type": "markdown",
   "metadata": {},
   "source": [
    "   * 즉 의사결정나무 모형은 3개의 설명변수를 사용하여 16개 그룹으로 나누지 않고, 5개의 그룹으로 나누어서 설명합니다.\n",
    "   * 더 조건을 넣을수 있지만, 5개가 가장 효율적이라고 생각한 것입니다.   "
   ]
  },
  {
   "cell_type": "markdown",
   "metadata": {},
   "source": [
    "   * 다음절에서는 소위 A/B 테스트에 대해서 설명합니다."
   ]
  }
 ],
 "metadata": {
  "kernelspec": {
   "display_name": "R",
   "language": "R",
   "name": "ir"
  },
  "language_info": {
   "codemirror_mode": "r",
   "file_extension": ".r",
   "mimetype": "text/x-r-source",
   "name": "R",
   "pygments_lexer": "r",
   "version": "3.4.3"
  }
 },
 "nbformat": 4,
 "nbformat_minor": 2
}
