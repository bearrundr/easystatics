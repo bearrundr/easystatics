{
 "cells": [
  {
   "cell_type": "markdown",
   "metadata": {},
   "source": [
    "# <span style=\"color:blue\"> 이토록 쉬운 통계 & R </span>"
   ]
  },
  {
   "cell_type": "markdown",
   "metadata": {},
   "source": [
    "<img src=\"../image/cover.png\" width=\"200\" height=\"400\" align=\"left\">  임경덕 지음"
   ]
  },
  {
   "cell_type": "markdown",
   "metadata": {},
   "source": [
    "## 40% 니가하면 나도한다 - 2 (11일차) -- 독립"
   ]
  },
  {
   "cell_type": "markdown",
   "metadata": {},
   "source": [
    "   * 두 변수관계가 독립관계인지 종속관계인지 설명합니다."
   ]
  },
  {
   "cell_type": "markdown",
   "metadata": {},
   "source": [
    "## 독립"
   ]
  },
  {
   "cell_type": "markdown",
   "metadata": {},
   "source": [
    "   * 먼저 앞의 표에서 그림을 가지고 설명 하겠습니다.\n",
    "   \n",
    "   <img src=\"../image/ed053.png\" width=\"500\" height=\"300\" align=\"left\">  Page 92"
   ]
  },
  {
   "cell_type": "markdown",
   "metadata": {},
   "source": [
    "   * 위 표는 이전에 설명한 행 백분율입니다. \n",
    "   * 표에서 보면, 각 대회별 메달의 비중이 다릅니다.\n",
    "   * 이런 경우를 대회와 메달수를 종속이 되었다고 할 수 있습니다.\n",
    "   * 만일 대회와 금메달이 독립이 되어 있다고 말 할 수 있으려면, 금메달 비중은 모든 대회별로 같아야 할 것입니다.\n",
    "   * 만일 28회 아테네에서 금메달 딴 비중이 30% 라면 열 합계도 30% 이어야 하지만, 베이징, 런던, 리우 모든 대회에도 30%의 비중으로 메달을 땄다고 할 수 있으면, 대회와 금메달은 **독립** 이라고 말 할 수 있습니다."
   ]
  },
  {
   "cell_type": "markdown",
   "metadata": {},
   "source": [
    "### 책에 있는 설명"
   ]
  },
  {
   "cell_type": "markdown",
   "metadata": {},
   "source": [
    "   * 4번의 올림픽에서 총 111개의 메달을 땄고, 각 대회별 또는 메달별로 딴 메달 갯수를 알고 있다고 가정하고, 다음의 테이블을 채울수 있는 방법이 있을까요?"
   ]
  },
  {
   "cell_type": "markdown",
   "metadata": {},
   "source": [
    "<img src=\"../image/ed060.png\" width=\"600\" height=\"400\" align=\"left\">  Page 99"
   ]
  },
  {
   "cell_type": "markdown",
   "metadata": {},
   "source": [
    "   * 채울수 있는 가장 유력한 방법은 각 메달별, 대회별 메달의 비율수 만큼 빈칸을 채우는 방법일 것입니다.\n",
    "   * 아래 테이블은 각 비례로 테이블의 각 항에 배분한것입니다."
   ]
  },
  {
   "cell_type": "markdown",
   "metadata": {},
   "source": [
    "<table style=\"border: 1px solid #1C6EA4; -color: #EEEEEE; width: 100%; ext-align: left;  border-collapse: collapse;\">\n",
    "<thead style=\"background: #1C6EA4;-moz-linear-gradient(top, #5592bb 0%, #327cad 66%, #1C6EA4 100%);-webkit-linear-gradient(top, #5592bb 0%, #327cad 66%, #1C6EA4 100%);linear-gradient(to bottom, #5592bb 0%, #327cad 66%, #1C6EA4 100%);border-bottom: 2px solid #444444;\">\n",
    "<tr>\n",
    "<th stype=\"border: 1px solid #AAAAAA; padding: 3px 2px;font-size: 15px;font-weight: bold;color: #FFFFFF;border-left: 2px solid #D0E4F5;border-left: none;\"></th>\n",
    "<th stype=\"border: 1px solid #AAAAAA; padding: 3px 2px;font-size: 15px;font-weight: bold;color: #FFFFFF;border-left: 2px solid #D0E4F5;\">금메달</th>\n",
    "<th stype=\"border: 1px solid #AAAAAA; padding: 3px 2px;font-size: 15px;font-weight: bold;color: #FFFFFF;border-left: 2px solid #D0E4F5;\">은메달</th>\n",
    "<th stype=\"border: 1px solid #AAAAAA; padding: 3px 2px;font-size: 15px;font-weight: bold;color: #FFFFFF;border-left: 2px solid #D0E4F5;\">동메달</th>\n",
    "<th stype=\"border: 1px solid #AAAAAA; padding: 3px 2px;font-size: 15px;font-weight: bold;color: #FFFFFF;border-left: 2px solid #D0E4F5;\">행합계</th>\n",
    "</tr>\n",
    "</thead>\n",
    "<tbody>\n",
    "<tr>\n",
    "<td stype=\"border: 1px solid #AAAAAA; padding: 3px 2px;font-size: 13px;\">28회 아테네</td>\n",
    "<td stype=\"border: 1px solid #AAAAAA; padding: 3px 2px;font-size: 13px;\">$\\small 0.270 \\times 0.397$<br>=0.107(11.898)</td>\n",
    "<td stype=\"border: 1px solid #AAAAAA; padding: 3px 2px;font-size: 13px;\">$\\small 0.270 \\times 0.297$<br>=0.080(8.901)</td>\n",
    "<td stype=\"border: 1px solid #AAAAAA; padding: 3px 2px;font-size: 13px;\">$\\small 0.270 \\times 0.306$<br>=0.083(9.171)</td>\n",
    "<td stype=\"border: 1px solid #AAAAAA; padding: 3px 2px;font-size: 13px;\">0.270<br>(30)</td>\n",
    "</tr>\n",
    "<tr style=\"background: #D0E4F5;\">\n",
    "<td stype=\"border: 1px solid #AAAAAA; padding: 3px 2px;font-size: 13px;\">29회 베이징</td>\n",
    "<td stype=\"border: 1px solid #AAAAAA; padding: 3px 2px;font-size: 13px;\">$\\small 0.289 \\times 0.397$<br>=0.115(12.735)</td>\n",
    "<td stype=\"border: 1px solid #AAAAAA; padding: 3px 2px;font-size: 13px;\">$\\small 0.289 \\times 0.297$<br>=0.086(9.527)</td>\n",
    "<td stype=\"border: 1px solid #AAAAAA; padding: 3px 2px;font-size: 13px;\">$\\small 0.289 \\times 0.306$<br>=0.088(9.816)</td>\n",
    "<td stype=\"border: 1px solid #AAAAAA; padding: 3px 2px;font-size: 13px;\">0.289<br>(32)</td>\n",
    "</tr>\n",
    "<tr>\n",
    "<td stype=\"border: 1px solid #AAAAAA; padding: 3px 2px;font-size: 13px;\">30회 런던</td>\n",
    "<td stype=\"border: 1px solid #AAAAAA; padding: 3px 2px;font-size: 13px;\">$\\small 0.252 \\times 0.397$<br>=0.100(11.105)</td>\n",
    "<td stype=\"border: 1px solid #AAAAAA; padding: 3px 2px;font-size: 13px;\">$\\small 0.252 \\times 0.297$<br>=0.075(8.308)</td>\n",
    "<td stype=\"border: 1px solid #AAAAAA; padding: 3px 2px;font-size: 13px;\">$\\small 0.252 \\times 0.306$<br>=0.077(8.559)</td>\n",
    "<td stype=\"border: 1px solid #AAAAAA; padding: 3px 2px;font-size: 13px;\">0.252<br>(28)</td>\n",
    "</tr>\n",
    "<tr style=\"background: #D0E4F5;\">\n",
    "<td stype=\"border: 1px solid #AAAAAA; padding: 3px 2px;font-size: 13px;\">31회 리우</td>\n",
    "<td stype=\"border: 1px solid #AAAAAA; padding: 3px 2px;font-size: 13px;\">$\\small 0.189 \\times 0.397$<br>=0.075(8.319)</td>\n",
    "<td stype=\"border: 1px solid #AAAAAA; padding: 3px 2px;font-size: 13px;\">$\\small 0.189 \\times 0.297$<br>=0.056(6.231)</td>\n",
    "<td stype=\"border: 1px solid #AAAAAA; padding: 3px 2px;font-size: 13px;\">$\\small 0.189 \\times 0.306$<br>=0.058(6.420)</td>\n",
    "<td stype=\"border: 1px solid #AAAAAA; padding: 3px 2px;font-size: 13px;\">0.189<br>(21)</td>\n",
    "</tr>\n",
    "<tr>\n",
    "<td stype=\"border: 1px solid #AAAAAA; padding: 3px 2px;font-size: 13px;\">열합계</td>\n",
    "<td stype=\"border: 1px solid #AAAAAA; padding: 3px 2px;font-size: 13px;\">0.397<br>(44)</td>\n",
    "<td stype=\"border: 1px solid #AAAAAA; padding: 3px 2px;font-size: 13px;\">0.297<br>(33)</td>\n",
    "<td stype=\"border: 1px solid #AAAAAA; padding: 3px 2px;font-size: 13px;\">0.306<br>(34)</td>\n",
    "<td stype=\"border: 1px solid #AAAAAA; padding: 3px 2px;font-size: 13px;\">1.0<br>(111)</td>\n",
    "</tr>\n",
    "</tbody>\n",
    "</table>"
   ]
  },
  {
   "cell_type": "markdown",
   "metadata": {},
   "source": [
    "   * 배분한 결과는 다음과 같습니다.\n",
    "   \n",
    " <img src=\"../image/ed061.png\" width=\"600\" height=\"400\" align=\"left\">  Page 100"
   ]
  },
  {
   "cell_type": "markdown",
   "metadata": {},
   "source": [
    "   * 이렇게 배분한 결과, 예를 들면 아테네에서 9개의 매달은 같은 배분으로 베이징에서 10개이며, 런던에서는 8개, 리우에서는 6 개입니다.\n",
    "   * 더이상 아테네에서의 은메달 갯수는 아테네만의 고유한것이 아니고, 다른 대회에서는 단지 배분만 하면 정할 수 있게 됩니다. 즉 대회별 은메달이 더이상 관련이 없게 됩니다.\n",
    "   * 이런 경우 대회별 메달수와 메달종류별 메달수 두 범주형 변수를 **독립** 이라고 할 수 있습니다."
   ]
  },
  {
   "cell_type": "markdown",
   "metadata": {},
   "source": [
    "   * 위 독립인 테이블과 실제 데이터와 비교해보면 다음과 같습니다.\n",
    "   \n",
    " <img src=\"../image/ed062.png\" width=\"600\" height=\"400\" align=\"left\">  Page 101"
   ]
  },
  {
   "cell_type": "markdown",
   "metadata": {},
   "source": [
    "   * 독립을 가정한 결과와 실제 차이를 나타냅니다.\n",
    "   * 차이가 0이 아닌 변수는 교차표에서 두 변수가 독립이 아니라는 것입니다.\n",
    "   * 숫자하나 하나를 비교하며 12개 값차이를 보면서 독립인지 아닌지 판단 할 수 없습니다.\n",
    "   * 따라서 두 변수가 독립인지를 구분할 기준을 마련해야 합니다."
   ]
  },
  {
   "cell_type": "markdown",
   "metadata": {},
   "source": [
    "   * 독립인지 아닌지는 판단은 다음과 같은 아이디어를 사용합니다.\n",
    "   \n",
    "   \n",
    "   * 위 테이블에 12개 항목을 보면 독립이라고 가정한것과, 실제 데이터와의 차이를 기록했습니다.\n",
    "   * 독립을 예상한 것과 실데이터의 차이는 분산과 같은 개념으로 취급할 수 있습니다.\n",
    "   * 즉 수준조합별 관측치 갯수가 있고, 행, 열 백분율을 고려한 예상값이 있습니다. 그리고 예상값과 실제값 차이를 계산했습니다.\n",
    "   * 이 차이를 계산하면 두 변수가 독립인지 아닌지 판단 할 수 있습니다.\n",
    "   \n",
    "   \n",
    "   * 만일 두 변수가 독립이 아니라면, 수준끼리 서로 다른 특징을 나타낼 수 있으며, 이런 부분을 PART 3 에서 논의 할 것입니다."
   ]
  }
 ],
 "metadata": {
  "kernelspec": {
   "display_name": "R",
   "language": "R",
   "name": "ir"
  },
  "language_info": {
   "codemirror_mode": "r",
   "file_extension": ".r",
   "mimetype": "text/x-r-source",
   "name": "R",
   "pygments_lexer": "r",
   "version": "3.4.3"
  }
 },
 "nbformat": 4,
 "nbformat_minor": 2
}
