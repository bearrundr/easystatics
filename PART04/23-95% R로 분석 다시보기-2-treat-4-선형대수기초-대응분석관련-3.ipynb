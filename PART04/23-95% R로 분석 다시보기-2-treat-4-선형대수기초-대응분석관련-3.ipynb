{
 "cells": [
  {
   "cell_type": "markdown",
   "metadata": {},
   "source": [
    "# <span style=\"color:blue\"> 이토록 쉬운 통계 & R </span>"
   ]
  },
  {
   "cell_type": "markdown",
   "metadata": {},
   "source": [
    "<img src=\"../image/cover.png\" width=\"200\" height=\"400\" align=\"left\">  임경덕 지음"
   ]
  },
  {
   "cell_type": "markdown",
   "metadata": {},
   "source": [
    "## PART 4 데이터 분석 도구, R"
   ]
  },
  {
   "cell_type": "markdown",
   "metadata": {},
   "source": [
    "## 95% R로 분석 다시보기-2-treat-4-선형대수기초 대응분석관련-3 (43일차)"
   ]
  },
  {
   "cell_type": "markdown",
   "metadata": {},
   "source": [
    "   * 데이타프로젝트 (http://dataproject.xyz) 또는 (http://cafe.naver.com/dataartproject) 에 미리 저장된 스크립트를 다운 받을 수 있습니다.\n",
    "   * 스크립트를 활용하면 직접 명령어를 입력하지 않고 저장된 명령어들을 실행할 수 있습니다."
   ]
  },
  {
   "cell_type": "markdown",
   "metadata": {},
   "source": [
    "### 데이터 파일은 dataartproject.xyz 에 있습니다."
   ]
  },
  {
   "cell_type": "markdown",
   "metadata": {},
   "source": [
    "# 두개의 범주형 변수의 관계 찾기 -- treat - 대응분석 정리"
   ]
  },
  {
   "cell_type": "markdown",
   "metadata": {},
   "source": [
    "## 진료과목 중 내과만 자세히 살피기  -- 대응분석"
   ]
  },
  {
   "cell_type": "markdown",
   "metadata": {},
   "source": [
    "## 대응분석 관련 정리 계속"
   ]
  },
  {
   "cell_type": "markdown",
   "metadata": {},
   "source": [
    "대응분석을 설명하기 위해서는 몇가지 기본적인 내용의 정리가 필요합니다. 따라서 관련 내용을 먼저 정리 하고 진료 과목에 대한 대응 분석을 설명할 예정입니다.\n",
    "여기서 대응분석이라는 것은 일반적으로 두개의 범주형 변수의 관계에 대한 독립성 여부는 카이제곱 분석에 의하여 P 검정을 살펴보게 됩니다.\n",
    "\n",
    "그러나 다수준인 경우에는 분석시에 복잡한 양상을 띄게 됩니다. 따라서 이 경우에는 수준별 대응 분석을 하게 됩니다. 대응분석은 범주형 변수의 각 수준을 계량화하여 2차원 그래프 상에서 표현하여 두 범주형 변수가 변화는 관계를 살펴보는 것입니다.\n",
    "\n",
    "이런 내용을 이해 하기 위해서는 선형 대수와 관련 해서 몇가지 기초적인 지식이 필요합니다."
   ]
  },
  {
   "cell_type": "markdown",
   "metadata": {},
   "source": [
    "####  예제들과 관련한 정리 (http://darkpgmr.tistory.com/105)\n",
    "지금까지는 내용을 예제로서만 설명을 하여 따라갔지만, 그 이유에 대해서 간략하게 설명하고, 다음 SVD 관련 정리합니다."
   ]
  },
  {
   "cell_type": "markdown",
   "metadata": {},
   "source": [
    "#### 선형사상, 선형변환"
   ]
  },
  {
   "cell_type": "markdown",
   "metadata": {},
   "source": [
    "두 벡터 공간 사이에 정의 되는 사상중에 벡터 공간을 보존하는 함수. $f: \\mathbf V \\rightarrow W$ 라면\n",
    "* $f(\\mathbf V_1 + \\mathbf V_2) = f(\\mathbf V_1) + f(\\mathbf V_2)$\n",
    "* $f(c\\mathbf V) = cf(\\mathbf V)$\n",
    "\n",
    "사상 $f$ 가 $\\mathbb R^n$ 에서 $\\mathbb R^m$ 으로 선형사상인 경우 $f$ 를 $m \\times n$ 행렬에 의해 정해지는 $\\mathbb R^n$ 에서 $\\mathbb R^m$ 으로의 선형 사상이라고 합니다. "
   ]
  },
  {
   "cell_type": "markdown",
   "metadata": {},
   "source": [
    "$\\begin{pmatrix} y_1 \\\\ y_2 \\\\ \\end{pmatrix} = \\begin{pmatrix} a_{11} & a_{12} & a_{13} \\\\ a_{21} & a_{22} & a_{23} \\\\ \\end{pmatrix} \\begin{pmatrix} x_1 \\\\ x_2 \\\\ x_3 \\\\ \\end{pmatrix} $"
   ]
  },
  {
   "cell_type": "markdown",
   "metadata": {},
   "source": [
    "#### 사상 f 의 핵(kernel) / 영공간 (null space) Ker f"
   ]
  },
  {
   "cell_type": "markdown",
   "metadata": {},
   "source": [
    "$f$ 를 $m \\times n$ 행렬에 의해서 $\\mathbb R^n$ 에서 $\\mathbb R^m$ 으로 사상 했을때, 상 (image)이 zero vector 가 되는 원소의 집합을 사상 $f$ 의 커널 kernel 핵, 영공간, null space 라고 하고 Ker f 라고 표시 합니다.\n",
    "\n",
    "ker f = $\\{ \\mathrm v \\in \\mathrm V \\;|\\; f(\\mathrm v) = 0 \\}$\n",
    "\n",
    "다음의 예제를 살펴보아요"
   ]
  },
  {
   "cell_type": "markdown",
   "metadata": {},
   "source": [
    "$A = \\begin{pmatrix} 2 & 3 & 5 \\\\ -4 & 2 & 3 \\\\ \\end{pmatrix} $ 이면 영공간을 구하시오"
   ]
  },
  {
   "cell_type": "markdown",
   "metadata": {},
   "source": [
    "$\\mathbb R^3 $ 에서 벡터 $x, y, z$ 를 생각하면\n",
    "\n",
    "\n",
    "$ \\begin{pmatrix} 2 & 3 & 5 \\\\ -4 & 2 & 3 \\\\ \\end{pmatrix} \\begin{pmatrix} x \\\\ y \\\\ z \\\\ \\end{pmatrix} = \\begin{pmatrix} 0 \\\\ 0 \\\\ \\end{pmatrix} $\n",
    "\n",
    "이고 이것은 \n",
    "$$\n",
    "\\begin{align}\n",
    "2x + 3y + 5z &= 0, \\\\\n",
    "-4x + 2y + 3z &= 0\n",
    "\\end{align}\n",
    "$$\n",
    "\n",
    "과 같은 선형 연립방정식을 생각 해 볼 수 있다.\n",
    "\n",
    "이것은 또한 다음과 같은 행렬식으로 표현을 한다.\n",
    "\n",
    "$$ \\left[\n",
    "\\begin{array}{ccc|c}\n",
    "  2&3&5&0\\\\\n",
    "  -4&2&3&0\n",
    "\\end{array}\n",
    "\\right] \n",
    "$$\n",
    "\n",
    "\n",
    "이것을 가우스-조단 소거법을 이용하면 다음과 같이 됩니다.\n",
    "$$ \\left[\n",
    "\\begin{array}{ccc|c}\n",
    "  1&0&1/16&0\\\\\n",
    "  0&1&13/8&0\n",
    "\\end{array}\n",
    "\\right] \n",
    "$$\n",
    "\n",
    "\n",
    "따라서 $x, y$ 를 $z$ 에 관한 항으로 구하면\n",
    "$$\n",
    "\\begin{align}\n",
    "x &= -\\dfrac{1}{16}z \\\\\n",
    "y &= -\\dfrac{13}{8}z\n",
    "\\end{align}\n",
    "$$\n",
    "\n",
    "\n",
    "이 되므로\n",
    "\n",
    "영벡터는 \n",
    "$ \\begin{pmatrix} x & y & z \\\\ \\end{pmatrix} = c\\begin{pmatrix} -1 \\\\ -26 \\\\ 16 \\\\ \\end{pmatrix}  $ 의 normalize 한 벡터가 될 것입니다.\n",
    "\n",
    "이들은 각각 행벡터\n",
    "\n",
    "$ \\begin{pmatrix} 2 & 3 & 5 \\\\ \\end{pmatrix} \\cdot \\begin{pmatrix} -1 \\\\ -26 \\\\ 16 \\\\ \\end{pmatrix} = 0  $ 과 $ \\begin{pmatrix} -4 & 2 & 3 \\\\ \\end{pmatrix} \\cdot \\begin{pmatrix} -1 \\\\ -26 \\\\ 16 \\\\ \\end{pmatrix} = 0  $ 이 된다\n"
   ]
  },
  {
   "cell_type": "code",
   "execution_count": 26,
   "metadata": {},
   "outputs": [],
   "source": [
    "#install.packages(\"pracma\")\n",
    "library(pracma)"
   ]
  },
  {
   "cell_type": "code",
   "execution_count": 25,
   "metadata": {},
   "outputs": [
    {
     "name": "stdout",
     "output_type": "stream",
     "text": [
      "     [,1] [,2] [,3]\n",
      "[1,]    2    3    5\n",
      "[2,]   -4    2    3\n"
     ]
    }
   ],
   "source": [
    "A = matrix(c(2,3,5,-4,2,3), 2, 3, byrow = TRUE)\n",
    "print(A)"
   ]
  },
  {
   "cell_type": "code",
   "execution_count": 28,
   "metadata": {},
   "outputs": [
    {
     "name": "stdout",
     "output_type": "stream",
     "text": [
      "            [,1]\n",
      "[1,] -0.03273853\n",
      "[2,] -0.85120179\n",
      "[3,]  0.52381648\n"
     ]
    }
   ],
   "source": [
    "# kernel 구함\n",
    "kerf = nullspace(A)\n",
    "print(kerf)\n",
    "                 "
   ]
  },
  {
   "cell_type": "code",
   "execution_count": 35,
   "metadata": {},
   "outputs": [
    {
     "name": "stdout",
     "output_type": "stream",
     "text": [
      "[1] 2 3 5\n",
      "     [,1]\n",
      "[1,]    0\n",
      "[1] -4  2  3\n",
      "     [,1]\n",
      "[1,]    0\n"
     ]
    }
   ],
   "source": [
    "A1 = A[1,]\n",
    "print(A1)\n",
    "\n",
    "print(A1 %*% kerf)\n",
    "\n",
    "A2 = A[2,]\n",
    "print(A2)\n",
    "\n",
    "print(round(A2 %*% kerf, 2))"
   ]
  },
  {
   "cell_type": "markdown",
   "metadata": {},
   "source": [
    "#### 사상 f 의 상 Im f"
   ]
  },
  {
   "cell_type": "markdown",
   "metadata": {},
   "source": [
    "$ Im\\; f = \\{ f(\\mathrm v) \\;|\\; \\mathrm v \\in \\mathrm V \\}$\n",
    "\n",
    "즉 유한 차원 벡터 공간 $\\mathrm V$ 에서 정의 되는 선형 사상 $f: \\mathrm V \\rightarrow \\mathrm V$ 에 대해 사상 f 가 모든 원소를 자기 자신으로 보낼때 사상 f 의 상 또는 치역이라고 합니다.\n"
   ]
  },
  {
   "cell_type": "markdown",
   "metadata": {},
   "source": [
    "#### 차원 정리\n",
    "\n",
    "Ker f 는 $\\mathbb R^n$ 의 부분공간이고, im f 는 $\\mathbb R^m$ 의 부분공간이면 dim(Ker f) 와 dim(Im f) 사이에는 \n",
    "dim($\\mathrm V $) = dim(Ker f) + dim(Im f) 관계가 있습니다."
   ]
  },
  {
   "cell_type": "markdown",
   "metadata": {},
   "source": [
    "#### 행렬의 계수 rank, rank A rk(A)"
   ]
  },
  {
   "cell_type": "markdown",
   "metadata": {},
   "source": [
    "선형대수에서 행렬 A 의 열계수 column rank 는 선형 독립인 열벡터의 최대 개수 입니다. 또한 행계수는 선형독립인 행(row rank) 벡터의 최대 개수 입니다.\n",
    "행렬에서는 열계수와 행계수는 항상 같으므로 구분없이 이를 계수 정리(rank theorem) 라고 합니다.\n",
    "\n",
    "계수는 상공간 (Im f) 차원을 계수라고 정의 할 수 있으며, 따라서 전체 차원에서 null space 차원을 뺀 수를 계수라고 할 수 있다.\n"
   ]
  },
  {
   "cell_type": "markdown",
   "metadata": {},
   "source": [
    "예 1)\n",
    "\n",
    "$$\n",
    " 1차 연립방정식 \n",
    "\\begin{cases}\n",
    "y_1 &= 4x_1 + 6x_2  \\\\\n",
    "y_2 &= 2x_1 + 1 x_2 \n",
    "\\end{cases}\n",
    "$$\n",
    "\n",
    "이 식은 다음처럼 행렬식으로 표현 하고 열벡터 를 가져오면\n",
    "\n",
    "\n",
    "$ \\begin{pmatrix} y_1 \\\\ y_2 \\end{pmatrix} = \\begin{pmatrix} 4x_1 + 6x_2 \\\\ 2x_1 + 1x_2 \\end{pmatrix} = \\begin{pmatrix} 4&6 \\\\ 2&1 \\end{pmatrix}\\begin{pmatrix} x_1 \\\\ x_2 \\end{pmatrix} = x_1\\begin{pmatrix} 4 \\\\ 2 \\end{pmatrix} + x_2\\begin{pmatrix} 6 \\\\ 1 \\end{pmatrix}$\n",
    "\n",
    "\n",
    "두벡터 $ \\begin{pmatrix} 4 \\\\ 2 \\end{pmatrix}$ 와 $ \\begin{pmatrix} 6 \\\\ 1 \\end{pmatrix}$ 은 선형 독립이므로 rank $ \\begin{pmatrix} 4 & 6\\\\ 2&1 \\end{pmatrix} = 2$ 이다."
   ]
  },
  {
   "cell_type": "markdown",
   "metadata": {},
   "source": [
    "예 2)\n",
    "\n",
    "$$\n",
    " 1차 연립방정식 \n",
    "\\begin{cases}\n",
    "y_1 &= 4x_1 + 6x_2  \\\\\n",
    "y_2 &= 2x_1 + 3 x_2 \n",
    "\\end{cases}\n",
    "$$\n",
    "\n",
    "이 식은 다음처럼 행렬식으로 표현 하고 열벡터 를 가져오면\n",
    "\n",
    "\n",
    "$ \\begin{pmatrix} y_1 \\\\ y_2 \\end{pmatrix} = \\begin{pmatrix} 4x_1 + 6x_2 \\\\ 2x_1 + 3x_2 \\end{pmatrix} = \\begin{pmatrix} 4&6 \\\\ 2&3 \\end{pmatrix}\\begin{pmatrix} x_1 \\\\ x_2 \\end{pmatrix} = x_1\\begin{pmatrix} 4 \\\\ 2 \\end{pmatrix} + x_2\\begin{pmatrix} 6 \\\\ 3 \\end{pmatrix} = 2x_1\\begin{pmatrix} 2 \\\\ 1 \\end{pmatrix} + 3x_2\\begin{pmatrix} 2 \\\\ 1 \\end{pmatrix} = [2x_1 + 3x_2]\\begin{pmatrix} 2 \\\\ 1 \\end{pmatrix} $\n",
    "\n",
    "\n",
    "이므로 rank $ \\begin{pmatrix} 4 & 6\\\\ 2&3 \\end{pmatrix} = 1$ 이다."
   ]
  },
  {
   "cell_type": "markdown",
   "metadata": {},
   "source": [
    "행렬의 계수를 계산하는 좀더 간단한 방법은 가우스-조르단 소거법( 행사다리꼴) 을 이용하여, 0 이 아닌 행의 갯수가 rank 가 됩니다.\n",
    "\n",
    "$$\n",
    "\\mathbf A = \\begin{pmatrix} 2&1&0&4\\\\4&3&-1&12\\\\0&-3&3&-12 \\end{pmatrix} (2행 = 2 행 - 1 행 \\times 2) \\Rightarrow \\begin{pmatrix} 2&1&0&4 \\\\ 0&1&-1&4\\\\0&-3&3&-12 \\end{pmatrix}(3행 = 3행 + 2행 \\times 2) \\Rightarrow \\begin{pmatrix} 2&1&0&4 \\\\ 0&1&-1&4 \\\\ 0&0&0&0 \\end{pmatrix}\n",
    "$$\n",
    "\n",
    "마지막 결과에서 행 사다리꼴이 되고, 2개의 0 이 아닌 행이 있으므로 rank A = 2 가 된다."
   ]
  },
  {
   "cell_type": "code",
   "execution_count": 36,
   "metadata": {},
   "outputs": [
    {
     "name": "stdout",
     "output_type": "stream",
     "text": [
      "     [,1] [,2] [,3] [,4]\n",
      "[1,]    2    1    0    4\n",
      "[2,]    4    3   -1   12\n",
      "[3,]    0   -3    3  -12\n"
     ]
    }
   ],
   "source": [
    "# R 로서 구현해보면 \n",
    "A = matrix(c(2,1,0,4,4,3,-1,12,0,-3,3,-12), nrow = 3, ncol = 4, byrow = TRUE)\n",
    "print(A)"
   ]
  },
  {
   "cell_type": "code",
   "execution_count": 39,
   "metadata": {},
   "outputs": [
    {
     "name": "stdout",
     "output_type": "stream",
     "text": [
      " [1]  7.0 10.5  4.5  6.0  8.5  2.0  4.5  3.0  8.5 10.5 12.0  1.0\n"
     ]
    }
   ],
   "source": [
    "print(rank(A)) # 이것은 우리가 구하는 rank 가 아닙니다."
   ]
  },
  {
   "cell_type": "code",
   "execution_count": 42,
   "metadata": {},
   "outputs": [],
   "source": [
    "library(Matrix)"
   ]
  },
  {
   "cell_type": "code",
   "execution_count": 43,
   "metadata": {},
   "outputs": [
    {
     "data": {
      "text/html": [
       "2"
      ],
      "text/latex": [
       "2"
      ],
      "text/markdown": [
       "2"
      ],
      "text/plain": [
       "[1] 2\n",
       "attr(,\"method\")\n",
       "[1] \"tolNorm2\"\n",
       "attr(,\"useGrad\")\n",
       "[1] FALSE\n",
       "attr(,\"tol\")\n",
       "[1] 8.881784e-16"
      ]
     },
     "metadata": {},
     "output_type": "display_data"
    }
   ],
   "source": [
    "rankMatrix(A)"
   ]
  },
  {
   "cell_type": "markdown",
   "metadata": {},
   "source": [
    "### 마르코프 과정 및 대각화 적용하여 계산하기"
   ]
  },
  {
   "cell_type": "markdown",
   "metadata": {},
   "source": [
    "### 대각화에 p 제곱을 하였을 경우\n",
    "\n",
    "$\\mathbf A = \\mathbf P \\mathbf \\Lambda \\mathbf P^{-1}$ 이 되면\n",
    "\n",
    "$\\mathbf A^2 은  \\mathbf P \\mathbf \\Lambda \\mathbf P^{-1} \\mathbf P \\mathbf \\Lambda \\mathbf P^{-1} = \\mathbf P \\mathbf \\Lambda \\mathbf I \\mathbf \\Lambda \\mathbf P^{-1} = \\mathbf P \\mathbf \\Lambda^2 \\mathbf P^{-1}$ 이 된다.\n",
    "\n",
    "이것을 p 제곱 까지 적용해나가면\n",
    "$\\mathbf A^p =  \\mathbf P \\mathbf \\Lambda^p \\mathbf P^{-1}$ 가 됩니다.\n",
    "\n",
    "$\\Lambda$ 는 대각행렬이므로 $\\Lambda^p$ 는 각 대각선 요소의 p 제곱으로 나타나게 됩니다."
   ]
  },
  {
   "cell_type": "markdown",
   "metadata": {},
   "source": [
    "### 마르코프 과정, 마코프 과정, 마코프 연쇄"
   ]
  },
  {
   "cell_type": "markdown",
   "metadata": {},
   "source": [
    "* 확률과정(Stochastic process): 시스템의 상태가 시간에 따라 확률적으로 변해가는 과정\n",
    "* 마코프 과정(Markov process): 확률과정 중에 시스템의 미래 상태가 현재의 상태만 주어지면 과거의 역사와는 무관하게 결정는 확률과정\n",
    "* 마코프 연쇄(Markov chain): 마코프 과정에서 시간의 변화를 연속적으로 고려하지 않고 이산적인 경우만 고려한 경우. "
   ]
  },
  {
   "cell_type": "markdown",
   "metadata": {},
   "source": [
    "#### 마코브 연쇄의 예 (가장 많은 예: 조미료 회사)\n"
   ]
  },
  {
   "cell_type": "markdown",
   "metadata": {},
   "source": [
    "조미료 회사에서 어느 도시가구의 화학조미료 사용 현황 조사 결과\n",
    "* 전체 가구의 80%가 음식을 조리 할 때 화학 조미료 사용\n",
    "* 다음 표와 같은 확률에 의해 월별 조미료 사용 변화\n",
    "\n",
    "$$\n",
    "\\text{<월별 조미료 사용 변화 확률>} \\\\\n",
    "\\begin{array}{|c|l|c|}\n",
    "\\hline\n",
    "\\text{이번달 \\ 다음달} & \\text{사용함} & \\text{사용 안함} \\\\\n",
    "\\hline\n",
    "사용함 & 0.9 & 0.1 \\\\\n",
    "사용 안함 & 0.05 & 0.95 \\\\\n",
    "\\hline\n",
    "\\end{array}\n",
    "$$\n"
   ]
  },
  {
   "cell_type": "markdown",
   "metadata": {},
   "source": [
    "* 상태전이도\n",
    "   * $s_1$ = 조미료 사용, $s_2$ 조미료 사용 안함.\n",
    "<img src=\"trans.gif\" width=\"300px\" >"
   ]
  },
  {
   "cell_type": "markdown",
   "metadata": {},
   "source": [
    "* 사용변화 확률표를 행렬로 표시 하면 전이확률 행렬 또는 전이행렬 이라고 합니다.\n",
    "\n",
    "$\\mathbf P = \\begin{pmatrix} 0.9&0.1\\\\0.05&0.95 \\end{pmatrix} $"
   ]
  },
  {
   "cell_type": "markdown",
   "metadata": {},
   "source": [
    "* 확률 나무에 의한 2달후 점유율 예측\n",
    "<img src=\"ptree.gif\" width=\"300px\" >\n",
    "\n",
    "* 이번달에 조미료를 사용하던 가구가 \n",
    "   * 두달후에도 계속 조미료를 사용할 확률: 0.81 + 0.005 = 0.815\n",
    "   * 두달후에 조미료를 사용 하지 않을 확률: 0.09 + 0.095 = 0.185"
   ]
  },
  {
   "cell_type": "markdown",
   "metadata": {},
   "source": [
    "* 전이확률에 위한 직접 계산을 수행하면"
   ]
  },
  {
   "cell_type": "code",
   "execution_count": 49,
   "metadata": {},
   "outputs": [
    {
     "name": "stdout",
     "output_type": "stream",
     "text": [
      "     [,1] [,2]\n",
      "[1,] 0.90 0.10\n",
      "[2,] 0.05 0.95\n"
     ]
    }
   ],
   "source": [
    "P = matrix(c(0.9,0.1,0.05,0.95), nrow=2, byrow = TRUE)\n",
    "print(P)"
   ]
  },
  {
   "cell_type": "code",
   "execution_count": 50,
   "metadata": {},
   "outputs": [
    {
     "name": "stdout",
     "output_type": "stream",
     "text": [
      "\n",
      "The downloaded binary packages are in\n",
      "\t/var/folders/3b/1f9v1lwn73q8hwwj6344j9pw0000gn/T//RtmpPJoKVc/downloaded_packages\n"
     ]
    }
   ],
   "source": [
    "#install.packages(\"matrixcalc\")"
   ]
  },
  {
   "cell_type": "code",
   "execution_count": 53,
   "metadata": {},
   "outputs": [
    {
     "data": {
      "text/html": [
       "'P^2='"
      ],
      "text/latex": [
       "'P\\textasciicircum{}2='"
      ],
      "text/markdown": [
       "'P^2='"
      ],
      "text/plain": [
       "[1] \"P^2=\""
      ]
     },
     "metadata": {},
     "output_type": "display_data"
    },
    {
     "name": "stdout",
     "output_type": "stream",
     "text": [
      "       [,1]   [,2]\n",
      "[1,] 0.8150 0.1850\n",
      "[2,] 0.0925 0.9075\n",
      "       [,1]   [,2]\n",
      "[1,] 0.8150 0.1850\n",
      "[2,] 0.0925 0.9075\n"
     ]
    }
   ],
   "source": [
    "# 두달이므로 P^2 을 계산해보면 위와 결과가 같다.\n",
    "require(matrixcalc)\n",
    "'P^2='\n",
    "print(P %*% P)\n",
    "print(matrix.power(P,2))"
   ]
  },
  {
   "cell_type": "markdown",
   "metadata": {},
   "source": [
    "#### 안정상태 분석\n",
    "* 안전상대란  \n",
    "    위의 조미료 회사 예를 살펴보아요.  \n",
    "    66개월 이후에 보면 전이행렬이 변화하지 않는 상태가 되는데, 이를 안정상태라고 합니다."
   ]
  },
  {
   "cell_type": "code",
   "execution_count": 61,
   "metadata": {},
   "outputs": [
    {
     "data": {
      "text/html": [
       "'P^1='"
      ],
      "text/latex": [
       "'P\\textasciicircum{}1='"
      ],
      "text/markdown": [
       "'P^1='"
      ],
      "text/plain": [
       "[1] \"P^1=\""
      ]
     },
     "metadata": {},
     "output_type": "display_data"
    },
    {
     "name": "stdout",
     "output_type": "stream",
     "text": [
      "     [,1] [,2]\n",
      "[1,] 0.90 0.10\n",
      "[2,] 0.05 0.95\n"
     ]
    },
    {
     "data": {
      "text/html": [
       "'P^6='"
      ],
      "text/latex": [
       "'P\\textasciicircum{}6='"
      ],
      "text/markdown": [
       "'P^6='"
      ],
      "text/plain": [
       "[1] \"P^6=\""
      ]
     },
     "metadata": {},
     "output_type": "display_data"
    },
    {
     "name": "stdout",
     "output_type": "stream",
     "text": [
      "       [,1]   [,2]\n",
      "[1,] 0.5848 0.4152\n",
      "[2,] 0.2076 0.7924\n"
     ]
    },
    {
     "data": {
      "text/html": [
       "'P^12='"
      ],
      "text/latex": [
       "'P\\textasciicircum{}12='"
      ],
      "text/markdown": [
       "'P^12='"
      ],
      "text/plain": [
       "[1] \"P^12=\""
      ]
     },
     "metadata": {},
     "output_type": "display_data"
    },
    {
     "name": "stdout",
     "output_type": "stream",
     "text": [
      "       [,1]   [,2]\n",
      "[1,] 0.4282 0.5718\n",
      "[2,] 0.2859 0.7141\n"
     ]
    },
    {
     "data": {
      "text/html": [
       "'P^24='"
      ],
      "text/latex": [
       "'P\\textasciicircum{}24='"
      ],
      "text/markdown": [
       "'P^24='"
      ],
      "text/plain": [
       "[1] \"P^24=\""
      ]
     },
     "metadata": {},
     "output_type": "display_data"
    },
    {
     "name": "stdout",
     "output_type": "stream",
     "text": [
      "       [,1]   [,2]\n",
      "[1,] 0.3468 0.6532\n",
      "[2,] 0.3266 0.6734\n"
     ]
    },
    {
     "data": {
      "text/html": [
       "'P^36='"
      ],
      "text/latex": [
       "'P\\textasciicircum{}36='"
      ],
      "text/markdown": [
       "'P^36='"
      ],
      "text/plain": [
       "[1] \"P^36=\""
      ]
     },
     "metadata": {},
     "output_type": "display_data"
    },
    {
     "name": "stdout",
     "output_type": "stream",
     "text": [
      "       [,1]   [,2]\n",
      "[1,] 0.3353 0.6647\n",
      "[2,] 0.3324 0.6676\n"
     ]
    },
    {
     "data": {
      "text/html": [
       "'P^64='"
      ],
      "text/latex": [
       "'P\\textasciicircum{}64='"
      ],
      "text/markdown": [
       "'P^64='"
      ],
      "text/plain": [
       "[1] \"P^64=\""
      ]
     },
     "metadata": {},
     "output_type": "display_data"
    },
    {
     "name": "stdout",
     "output_type": "stream",
     "text": [
      "       [,1]   [,2]\n",
      "[1,] 0.3334 0.6666\n",
      "[2,] 0.3333 0.6667\n"
     ]
    },
    {
     "data": {
      "text/html": [
       "'P^65='"
      ],
      "text/latex": [
       "'P\\textasciicircum{}65='"
      ],
      "text/markdown": [
       "'P^65='"
      ],
      "text/plain": [
       "[1] \"P^65=\""
      ]
     },
     "metadata": {},
     "output_type": "display_data"
    },
    {
     "name": "stdout",
     "output_type": "stream",
     "text": [
      "       [,1]   [,2]\n",
      "[1,] 0.3334 0.6666\n",
      "[2,] 0.3333 0.6667\n"
     ]
    },
    {
     "data": {
      "text/html": [
       "'P^66='"
      ],
      "text/latex": [
       "'P\\textasciicircum{}66='"
      ],
      "text/markdown": [
       "'P^66='"
      ],
      "text/plain": [
       "[1] \"P^66=\""
      ]
     },
     "metadata": {},
     "output_type": "display_data"
    },
    {
     "name": "stdout",
     "output_type": "stream",
     "text": [
      "       [,1]   [,2]\n",
      "[1,] 0.3333 0.6667\n",
      "[2,] 0.3333 0.6667\n"
     ]
    },
    {
     "data": {
      "text/html": [
       "'P^67='"
      ],
      "text/latex": [
       "'P\\textasciicircum{}67='"
      ],
      "text/markdown": [
       "'P^67='"
      ],
      "text/plain": [
       "[1] \"P^67=\""
      ]
     },
     "metadata": {},
     "output_type": "display_data"
    },
    {
     "name": "stdout",
     "output_type": "stream",
     "text": [
      "       [,1]   [,2]\n",
      "[1,] 0.3333 0.6667\n",
      "[2,] 0.3333 0.6667\n"
     ]
    },
    {
     "data": {
      "text/html": [
       "'P^100='"
      ],
      "text/latex": [
       "'P\\textasciicircum{}100='"
      ],
      "text/markdown": [
       "'P^100='"
      ],
      "text/plain": [
       "[1] \"P^100=\""
      ]
     },
     "metadata": {},
     "output_type": "display_data"
    },
    {
     "name": "stdout",
     "output_type": "stream",
     "text": [
      "       [,1]   [,2]\n",
      "[1,] 0.3333 0.6667\n",
      "[2,] 0.3333 0.6667\n"
     ]
    },
    {
     "data": {
      "text/html": [
       "'P^200='"
      ],
      "text/latex": [
       "'P\\textasciicircum{}200='"
      ],
      "text/markdown": [
       "'P^200='"
      ],
      "text/plain": [
       "[1] \"P^200=\""
      ]
     },
     "metadata": {},
     "output_type": "display_data"
    },
    {
     "name": "stdout",
     "output_type": "stream",
     "text": [
      "       [,1]   [,2]\n",
      "[1,] 0.3333 0.6667\n",
      "[2,] 0.3333 0.6667\n"
     ]
    }
   ],
   "source": [
    "'P^1='\n",
    "print(round(matrix.power(P,1),4))\n",
    "'P^6='\n",
    "print(round(matrix.power(P,6),4))\n",
    "'P^12='\n",
    "print(round(matrix.power(P,12),4))\n",
    "'P^24='\n",
    "print(round(matrix.power(P,24),4))\n",
    "'P^36='\n",
    "print(round(matrix.power(P,36),4))\n",
    "'P^64='\n",
    "print(round(matrix.power(P,64),4))\n",
    "'P^65='\n",
    "print(round(matrix.power(P,65),4))\n",
    "'P^66='\n",
    "print(round(matrix.power(P,66),4))\n",
    "'P^67='\n",
    "print(round(matrix.power(P,67),4))\n",
    "'P^100='\n",
    "print(round(matrix.power(P,100),4))\n",
    "'P^200='\n",
    "print(round(matrix.power(P,200),4))\n"
   ]
  },
  {
   "cell_type": "markdown",
   "metadata": {},
   "source": [
    "결과에서 보면 66개월 이후에는 전이 행렬이 변화하지 않는데, 이런 상태를 전이행렬이 안정상태라고 합니다.\n",
    "\n",
    "조금 더 이야기를 진행하기 위해서 몇가지 라이브러리를 설치 합니다."
   ]
  },
  {
   "cell_type": "code",
   "execution_count": 75,
   "metadata": {},
   "outputs": [],
   "source": [
    "\n",
    "# https://www.r-bloggers.com/getting-started-with-markov-chains/\n",
    "#install.packages(\"expm\")\n",
    "#install.packages(\"markovchain\")\n",
    "#install.packages(\"diagram\")\n",
    "#install.packages(\"pracma\")\n"
   ]
  },
  {
   "cell_type": "code",
   "execution_count": 76,
   "metadata": {},
   "outputs": [],
   "source": [
    "library(expm)\n",
    "library(markovchain)\n",
    "library(diagram)\n",
    "library(pracma)"
   ]
  },
  {
   "cell_type": "code",
   "execution_count": 118,
   "metadata": {},
   "outputs": [
    {
     "data": {
      "text/html": [
       "<table>\n",
       "<thead><tr><th></th><th scope=col>Rain</th><th scope=col>Nice</th><th scope=col>Snow</th></tr></thead>\n",
       "<tbody>\n",
       "\t<tr><th scope=row>Rain</th><td>0.50</td><td>0.25</td><td>0.25</td></tr>\n",
       "\t<tr><th scope=row>Nice</th><td>0.50</td><td>0.00</td><td>0.50</td></tr>\n",
       "\t<tr><th scope=row>Snow</th><td>0.25</td><td>0.25</td><td>0.50</td></tr>\n",
       "</tbody>\n",
       "</table>\n"
      ],
      "text/latex": [
       "\\begin{tabular}{r|lll}\n",
       "  & Rain & Nice & Snow\\\\\n",
       "\\hline\n",
       "\tRain & 0.50 & 0.25 & 0.25\\\\\n",
       "\tNice & 0.50 & 0.00 & 0.50\\\\\n",
       "\tSnow & 0.25 & 0.25 & 0.50\\\\\n",
       "\\end{tabular}\n"
      ],
      "text/markdown": [
       "\n",
       "| <!--/--> | Rain | Nice | Snow | \n",
       "|---|---|---|\n",
       "| Rain | 0.50 | 0.25 | 0.25 | \n",
       "| Nice | 0.50 | 0.00 | 0.50 | \n",
       "| Snow | 0.25 | 0.25 | 0.50 | \n",
       "\n",
       "\n"
      ],
      "text/plain": [
       "     Rain Nice Snow\n",
       "Rain 0.50 0.25 0.25\n",
       "Nice 0.50 0.00 0.50\n",
       "Snow 0.25 0.25 0.50"
      ]
     },
     "metadata": {},
     "output_type": "display_data"
    }
   ],
   "source": [
    "stateNames = c(\"Rain\", \"Nice\", \"Snow\")\n",
    "Oz = matrix(c(.5,.25,.25,.5,0,.5,.25,.25,.5), nrow = 3, byrow=TRUE)\n",
    "rownames(Oz) = stateNames\n",
    "colnames(Oz) = stateNames\n",
    "round(Oz, 3)"
   ]
  },
  {
   "cell_type": "code",
   "execution_count": 112,
   "metadata": {},
   "outputs": [
    {
     "data": {
      "image/png": "[encoded data removed]",
      "text/plain": [
       "Plot with title “날씨 상태 천이도”"
      ]
     },
     "metadata": {},
     "output_type": "display_data"
    }
   ],
   "source": [
    "par(family=\"NanumGothic\")  # 한글 폰트 설정\n",
    "options(warn=-1)  # 워닝 disable\n",
    "\n",
    "plotmat(Oz,pos = c(1,2),\n",
    "        lwd = 1, box.lwd = 2,\n",
    "        cex.txt = 0.8,\n",
    "        box.size = 0.1,\n",
    "        box.type = \"circle\",\n",
    "        box.prop = 0.5,\n",
    "        box.col = \"light yellow\",\n",
    "        arr.length=.1,\n",
    "        arr.width=.1,\n",
    "        self.cex = .4,\n",
    "        self.shifty = -.01,\n",
    "        self.shiftx = .13,\n",
    "        main = \"날씨 상태 천이도\")\n",
    "options(warn=0)"
   ]
  },
  {
   "cell_type": "code",
   "execution_count": 119,
   "metadata": {},
   "outputs": [
    {
     "data": {
      "text/html": [
       "<table>\n",
       "<thead><tr><th></th><th scope=col>Rain</th><th scope=col>Nice</th><th scope=col>Snow</th></tr></thead>\n",
       "<tbody>\n",
       "\t<tr><th scope=row>Rain</th><td>0.406</td><td>0.203</td><td>0.391</td></tr>\n",
       "\t<tr><th scope=row>Nice</th><td>0.406</td><td>0.188</td><td>0.406</td></tr>\n",
       "\t<tr><th scope=row>Snow</th><td>0.391</td><td>0.203</td><td>0.406</td></tr>\n",
       "</tbody>\n",
       "</table>\n"
      ],
      "text/latex": [
       "\\begin{tabular}{r|lll}\n",
       "  & Rain & Nice & Snow\\\\\n",
       "\\hline\n",
       "\tRain & 0.406 & 0.203 & 0.391\\\\\n",
       "\tNice & 0.406 & 0.188 & 0.406\\\\\n",
       "\tSnow & 0.391 & 0.203 & 0.406\\\\\n",
       "\\end{tabular}\n"
      ],
      "text/markdown": [
       "\n",
       "| <!--/--> | Rain | Nice | Snow | \n",
       "|---|---|---|\n",
       "| Rain | 0.406 | 0.203 | 0.391 | \n",
       "| Nice | 0.406 | 0.188 | 0.406 | \n",
       "| Snow | 0.391 | 0.203 | 0.406 | \n",
       "\n",
       "\n"
      ],
      "text/plain": [
       "     Rain  Nice  Snow \n",
       "Rain 0.406 0.203 0.391\n",
       "Nice 0.406 0.188 0.406\n",
       "Snow 0.391 0.203 0.406"
      ]
     },
     "metadata": {},
     "output_type": "display_data"
    }
   ],
   "source": [
    "# 3번 천이 했을 경우 전이행렬\n",
    "Oz3 = Oz %^% 3\n",
    "round(Oz3,3)"
   ]
  },
  {
   "cell_type": "code",
   "execution_count": 122,
   "metadata": {},
   "outputs": [
    {
     "data": {
      "text/html": [
       "<table>\n",
       "<thead><tr><th scope=col>Rain</th><th scope=col>Nice</th><th scope=col>Snow</th></tr></thead>\n",
       "<tbody>\n",
       "\t<tr><td>0.401</td><td>0.198</td><td>0.401</td></tr>\n",
       "</tbody>\n",
       "</table>\n"
      ],
      "text/latex": [
       "\\begin{tabular}{lll}\n",
       " Rain & Nice & Snow\\\\\n",
       "\\hline\n",
       "\t 0.401 & 0.198 & 0.401\\\\\n",
       "\\end{tabular}\n"
      ],
      "text/markdown": [
       "\n",
       "Rain | Nice | Snow | \n",
       "|---|\n",
       "| 0.401 | 0.198 | 0.401 | \n",
       "\n",
       "\n"
      ],
      "text/plain": [
       "     Rain  Nice  Snow \n",
       "[1,] 0.401 0.198 0.401"
      ]
     },
     "metadata": {},
     "output_type": "display_data"
    }
   ],
   "source": [
    "# 오늘 비올 확률이 1/3 , 청명한 날씨가 1/3, 눈올 확률이 1/3 이면 전이 확률에 의해서 3일 후에는 다음과 같은 확률이 됩니다.\n",
    "u = c(1/3,1/3,1/3)\n",
    "round(u %*% Oz3, 3)"
   ]
  },
  {
   "cell_type": "markdown",
   "metadata": {},
   "source": [
    "다음에 마코프체인 부터 계속 진행합니다.\n"
   ]
  }
 ],
 "metadata": {
  "kernelspec": {
   "display_name": "R",
   "language": "R",
   "name": "ir"
  },
  "language_info": {
   "codemirror_mode": "r",
   "file_extension": ".r",
   "mimetype": "text/x-r-source",
   "name": "R",
   "pygments_lexer": "r",
   "version": "3.4.3"
  }
 },
 "nbformat": 4,
 "nbformat_minor": 2
}
