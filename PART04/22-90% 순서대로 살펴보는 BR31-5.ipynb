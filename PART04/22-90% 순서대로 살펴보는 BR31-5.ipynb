{
 "cells": [
  {
   "cell_type": "markdown",
   "metadata": {},
   "source": [
    "# <span style=\"color:blue\"> 이토록 쉬운 통계 & R </span>"
   ]
  },
  {
   "cell_type": "markdown",
   "metadata": {},
   "source": [
    "<img src=\"../image/cover.png\" width=\"200\" height=\"400\" align=\"left\">  임경덕 지음"
   ]
  },
  {
   "cell_type": "markdown",
   "metadata": {},
   "source": [
    "## PART 4 데이터 분석 도구, R"
   ]
  },
  {
   "cell_type": "markdown",
   "metadata": {},
   "source": [
    "## 90% 순서대로 살펴보는 BR31-5 (35일차)"
   ]
  },
  {
   "cell_type": "markdown",
   "metadata": {},
   "source": [
    "   * 데이타프로젝트 (http://dataproject.xyz) 또는 (http://cafe.naver.com/dataartproject) 에 미리 저장된 스크립트를 다운 받을 수 있습니다.\n",
    "   * 스크립트를 활용하면 직접 명령어를 입력하지 않고 저장된 명령어들을 실행할 수 있습니다.\n",
    "   * 지금 설치된 R 버젼은 3.4.3 입니다. 제목 BR31 은 Basic R 31 로 3.1 버젼입니다. 그러나 큰 차이는 없을 것 같습니다.\n",
    "   * page 278 level 함수로 범주형 변수의 수준확인하고 바꾸기 계속\n",
    "   * Gender_age.csv 데이타로 계속 복습및 진행\n"
   ]
  },
  {
   "cell_type": "markdown",
   "metadata": {},
   "source": [
    "### 데이터 파일은 dataartproject.xyz 에 있습니다."
   ]
  },
  {
   "cell_type": "markdown",
   "metadata": {},
   "source": [
    "## 복습"
   ]
  },
  {
   "cell_type": "code",
   "execution_count": 1,
   "metadata": {},
   "outputs": [],
   "source": [
    "demo = read.csv(\"Practice/data/gender_age.csv\")"
   ]
  },
  {
   "cell_type": "code",
   "execution_count": 2,
   "metadata": {},
   "outputs": [
    {
     "data": {
      "text/html": [
       "<table>\n",
       "<thead><tr><th scope=col>Gender</th><th scope=col>Age</th></tr></thead>\n",
       "<tbody>\n",
       "\t<tr><td>1 </td><td>30</td></tr>\n",
       "\t<tr><td>2 </td><td>20</td></tr>\n",
       "\t<tr><td>1 </td><td>20</td></tr>\n",
       "\t<tr><td>2 </td><td>20</td></tr>\n",
       "\t<tr><td>1 </td><td>30</td></tr>\n",
       "\t<tr><td>2 </td><td>30</td></tr>\n",
       "</tbody>\n",
       "</table>\n"
      ],
      "text/latex": [
       "\\begin{tabular}{r|ll}\n",
       " Gender & Age\\\\\n",
       "\\hline\n",
       "\t 1  & 30\\\\\n",
       "\t 2  & 20\\\\\n",
       "\t 1  & 20\\\\\n",
       "\t 2  & 20\\\\\n",
       "\t 1  & 30\\\\\n",
       "\t 2  & 30\\\\\n",
       "\\end{tabular}\n"
      ],
      "text/markdown": [
       "\n",
       "Gender | Age | \n",
       "|---|---|---|---|---|---|\n",
       "| 1  | 30 | \n",
       "| 2  | 20 | \n",
       "| 1  | 20 | \n",
       "| 2  | 20 | \n",
       "| 1  | 30 | \n",
       "| 2  | 30 | \n",
       "\n",
       "\n"
      ],
      "text/plain": [
       "  Gender Age\n",
       "1 1      30 \n",
       "2 2      20 \n",
       "3 1      20 \n",
       "4 2      20 \n",
       "5 1      30 \n",
       "6 2      30 "
      ]
     },
     "metadata": {},
     "output_type": "display_data"
    }
   ],
   "source": [
    "demo"
   ]
  },
  {
   "cell_type": "code",
   "execution_count": 3,
   "metadata": {},
   "outputs": [
    {
     "name": "stdout",
     "output_type": "stream",
     "text": [
      "'data.frame':\t6 obs. of  2 variables:\n",
      " $ Gender: int  1 2 1 2 1 2\n",
      " $ Age   : int  30 20 20 20 30 30\n"
     ]
    }
   ],
   "source": [
    "# 데이터의 구조를 파악합니다.\n",
    "str(demo)"
   ]
  },
  {
   "cell_type": "markdown",
   "metadata": {},
   "source": [
    "   * Gender 를 숫자로 인식하고 있습니다. 이것을 범주형 변수로 인식하게 하여야 합니다."
   ]
  },
  {
   "cell_type": "code",
   "execution_count": 4,
   "metadata": {},
   "outputs": [
    {
     "data": {
      "text/html": [
       "<ol class=list-inline>\n",
       "\t<li>1</li>\n",
       "\t<li>2</li>\n",
       "\t<li>1</li>\n",
       "\t<li>2</li>\n",
       "\t<li>1</li>\n",
       "\t<li>2</li>\n",
       "</ol>\n"
      ],
      "text/latex": [
       "\\begin{enumerate*}\n",
       "\\item 1\n",
       "\\item 2\n",
       "\\item 1\n",
       "\\item 2\n",
       "\\item 1\n",
       "\\item 2\n",
       "\\end{enumerate*}\n"
      ],
      "text/markdown": [
       "1. 1\n",
       "2. 2\n",
       "3. 1\n",
       "4. 2\n",
       "5. 1\n",
       "6. 2\n",
       "\n",
       "\n"
      ],
      "text/plain": [
       "[1] 1 2 1 2 1 2"
      ]
     },
     "metadata": {},
     "output_type": "display_data"
    }
   ],
   "source": [
    "demo$Gender"
   ]
  },
  {
   "cell_type": "code",
   "execution_count": 5,
   "metadata": {},
   "outputs": [
    {
     "data": {
      "text/html": [
       "<ol class=list-inline>\n",
       "\t<li>1</li>\n",
       "\t<li>2</li>\n",
       "\t<li>1</li>\n",
       "\t<li>2</li>\n",
       "\t<li>1</li>\n",
       "\t<li>2</li>\n",
       "</ol>\n"
      ],
      "text/latex": [
       "\\begin{enumerate*}\n",
       "\\item 1\n",
       "\\item 2\n",
       "\\item 1\n",
       "\\item 2\n",
       "\\item 1\n",
       "\\item 2\n",
       "\\end{enumerate*}\n"
      ],
      "text/markdown": [
       "1. 1\n",
       "2. 2\n",
       "3. 1\n",
       "4. 2\n",
       "5. 1\n",
       "6. 2\n",
       "\n",
       "\n"
      ],
      "text/plain": [
       "[1] 1 2 1 2 1 2\n",
       "Levels: 1 2"
      ]
     },
     "metadata": {},
     "output_type": "display_data"
    }
   ],
   "source": [
    "# 범주형 변수로 인식\n",
    "factor(demo$Gender)"
   ]
  },
  {
   "cell_type": "code",
   "execution_count": 6,
   "metadata": {},
   "outputs": [
    {
     "name": "stdout",
     "output_type": "stream",
     "text": [
      " Factor w/ 2 levels \"1\",\"2\": 1 2 1 2 1 2\n"
     ]
    }
   ],
   "source": [
    "str(factor(demo$Gender))"
   ]
  },
  {
   "cell_type": "markdown",
   "metadata": {},
   "source": [
    "### $ 를 활용한 변수 수정과 추가하기"
   ]
  },
  {
   "cell_type": "code",
   "execution_count": 7,
   "metadata": {},
   "outputs": [],
   "source": [
    "# Gender 를 변수형 변수로 인식\n",
    "demo$Gender = factor(demo$Gender)"
   ]
  },
  {
   "cell_type": "code",
   "execution_count": 8,
   "metadata": {},
   "outputs": [
    {
     "name": "stdout",
     "output_type": "stream",
     "text": [
      "'data.frame':\t6 obs. of  2 variables:\n",
      " $ Gender: Factor w/ 2 levels \"1\",\"2\": 1 2 1 2 1 2\n",
      " $ Age   : int  30 20 20 20 30 30\n"
     ]
    }
   ],
   "source": [
    "str(demo)"
   ]
  },
  {
   "cell_type": "code",
   "execution_count": 9,
   "metadata": {},
   "outputs": [
    {
     "data": {
      "text/html": [
       "<ol class=list-inline>\n",
       "\t<li>'1_30대'</li>\n",
       "\t<li>'2_20대'</li>\n",
       "\t<li>'1_20대'</li>\n",
       "\t<li>'2_20대'</li>\n",
       "\t<li>'1_30대'</li>\n",
       "\t<li>'2_30대'</li>\n",
       "</ol>\n"
      ],
      "text/latex": [
       "\\begin{enumerate*}\n",
       "\\item '1\\_30대'\n",
       "\\item '2\\_20대'\n",
       "\\item '1\\_20대'\n",
       "\\item '2\\_20대'\n",
       "\\item '1\\_30대'\n",
       "\\item '2\\_30대'\n",
       "\\end{enumerate*}\n"
      ],
      "text/markdown": [
       "1. '1_30대'\n",
       "2. '2_20대'\n",
       "3. '1_20대'\n",
       "4. '2_20대'\n",
       "5. '1_30대'\n",
       "6. '2_30대'\n",
       "\n",
       "\n"
      ],
      "text/plain": [
       "[1] \"1_30대\" \"2_20대\" \"1_20대\" \"2_20대\" \"1_30대\" \"2_30대\""
      ]
     },
     "metadata": {},
     "output_type": "display_data"
    }
   ],
   "source": [
    "# 데이터 프레임에 변수 추가 하기\n",
    "paste0(demo$Gender,\"_\",demo$Age,\"대\")"
   ]
  },
  {
   "cell_type": "code",
   "execution_count": 10,
   "metadata": {},
   "outputs": [],
   "source": [
    "# 이것을 새로운 변수 \"Group\" 로 추가합니다.\n",
    "demo$Group = paste0(demo$Gender,\"_\",demo$Age,\"대\")"
   ]
  },
  {
   "cell_type": "code",
   "execution_count": 11,
   "metadata": {},
   "outputs": [
    {
     "name": "stdout",
     "output_type": "stream",
     "text": [
      "'data.frame':\t6 obs. of  3 variables:\n",
      " $ Gender: Factor w/ 2 levels \"1\",\"2\": 1 2 1 2 1 2\n",
      " $ Age   : int  30 20 20 20 30 30\n",
      " $ Group : chr  \"1_30대\" \"2_20대\" \"1_20대\" \"2_20대\" ...\n"
     ]
    }
   ],
   "source": [
    "# demo 의 구조를 보면\n",
    "str(demo)"
   ]
  },
  {
   "cell_type": "markdown",
   "metadata": {},
   "source": [
    "### 계속 진행 "
   ]
  },
  {
   "cell_type": "markdown",
   "metadata": {},
   "source": [
    "### levels() 함수로 범주형 변수 수준확인 및 변경"
   ]
  },
  {
   "cell_type": "code",
   "execution_count": 12,
   "metadata": {},
   "outputs": [
    {
     "data": {
      "text/html": [
       "<ol class=list-inline>\n",
       "\t<li>'1'</li>\n",
       "\t<li>'2'</li>\n",
       "</ol>\n"
      ],
      "text/latex": [
       "\\begin{enumerate*}\n",
       "\\item '1'\n",
       "\\item '2'\n",
       "\\end{enumerate*}\n"
      ],
      "text/markdown": [
       "1. '1'\n",
       "2. '2'\n",
       "\n",
       "\n"
      ],
      "text/plain": [
       "[1] \"1\" \"2\""
      ]
     },
     "metadata": {},
     "output_type": "display_data"
    }
   ],
   "source": [
    "levels(demo$Gender)"
   ]
  },
  {
   "cell_type": "code",
   "execution_count": 14,
   "metadata": {},
   "outputs": [],
   "source": [
    "# 변수형 변수 수준 변경\n",
    "levels(demo$Gender) = c(\"1_남자\", \"2_여자\")"
   ]
  },
  {
   "cell_type": "code",
   "execution_count": 15,
   "metadata": {},
   "outputs": [
    {
     "data": {
      "text/html": [
       "<table>\n",
       "<thead><tr><th scope=col>Gender</th><th scope=col>Age</th><th scope=col>Group</th></tr></thead>\n",
       "<tbody>\n",
       "\t<tr><td>1_남자</td><td>30    </td><td>1_30대</td></tr>\n",
       "\t<tr><td>2_여자</td><td>20    </td><td>2_20대</td></tr>\n",
       "\t<tr><td>1_남자</td><td>20    </td><td>1_20대</td></tr>\n",
       "\t<tr><td>2_여자</td><td>20    </td><td>2_20대</td></tr>\n",
       "\t<tr><td>1_남자</td><td>30    </td><td>1_30대</td></tr>\n",
       "\t<tr><td>2_여자</td><td>30    </td><td>2_30대</td></tr>\n",
       "</tbody>\n",
       "</table>\n"
      ],
      "text/latex": [
       "\\begin{tabular}{r|lll}\n",
       " Gender & Age & Group\\\\\n",
       "\\hline\n",
       "\t 1\\_남자 & 30       & 1\\_30대\\\\\n",
       "\t 2\\_여자 & 20       & 2\\_20대\\\\\n",
       "\t 1\\_남자 & 20       & 1\\_20대\\\\\n",
       "\t 2\\_여자 & 20       & 2\\_20대\\\\\n",
       "\t 1\\_남자 & 30       & 1\\_30대\\\\\n",
       "\t 2\\_여자 & 30       & 2\\_30대\\\\\n",
       "\\end{tabular}\n"
      ],
      "text/markdown": [
       "\n",
       "Gender | Age | Group | \n",
       "|---|---|---|---|---|---|\n",
       "| 1_남자 | 30     | 1_30대 | \n",
       "| 2_여자 | 20     | 2_20대 | \n",
       "| 1_남자 | 20     | 1_20대 | \n",
       "| 2_여자 | 20     | 2_20대 | \n",
       "| 1_남자 | 30     | 1_30대 | \n",
       "| 2_여자 | 30     | 2_30대 | \n",
       "\n",
       "\n"
      ],
      "text/plain": [
       "  Gender Age Group \n",
       "1 1_남자 30  1_30대\n",
       "2 2_여자 20  2_20대\n",
       "3 1_남자 20  1_20대\n",
       "4 2_여자 20  2_20대\n",
       "5 1_남자 30  1_30대\n",
       "6 2_여자 30  2_30대"
      ]
     },
     "metadata": {},
     "output_type": "display_data"
    }
   ],
   "source": [
    "demo"
   ]
  },
  {
   "cell_type": "code",
   "execution_count": 17,
   "metadata": {},
   "outputs": [
    {
     "name": "stdout",
     "output_type": "stream",
     "text": [
      " Factor w/ 2 levels \"1_남자\",\"2_여자\": 1 2 1 2 1 2\n"
     ]
    }
   ],
   "source": [
    "str(demo$Gender)"
   ]
  },
  {
   "cell_type": "code",
   "execution_count": 19,
   "metadata": {},
   "outputs": [
    {
     "name": "stdout",
     "output_type": "stream",
     "text": [
      " num [1:6] 1 2 1 2 1 2\n"
     ]
    }
   ],
   "source": [
    "# 실제로 Gender 변수에는 1,2 갖은 숫자로만 저장 되어 있음 따라서 as.numeric 함수로 보면\n",
    "str(as.numeric(demo$Gender))"
   ]
  },
  {
   "cell_type": "markdown",
   "metadata": {},
   "source": [
    "### which() 함수로 조건과 일치하는 관측치 찾기"
   ]
  },
  {
   "cell_type": "code",
   "execution_count": 20,
   "metadata": {},
   "outputs": [
    {
     "data": {
      "text/html": [
       "<ol class=list-inline>\n",
       "\t<li>1</li>\n",
       "\t<li>5</li>\n",
       "\t<li>6</li>\n",
       "</ol>\n"
      ],
      "text/latex": [
       "\\begin{enumerate*}\n",
       "\\item 1\n",
       "\\item 5\n",
       "\\item 6\n",
       "\\end{enumerate*}\n"
      ],
      "text/markdown": [
       "1. 1\n",
       "2. 5\n",
       "3. 6\n",
       "\n",
       "\n"
      ],
      "text/plain": [
       "[1] 1 5 6"
      ]
     },
     "metadata": {},
     "output_type": "display_data"
    }
   ],
   "source": [
    "which(demo$Age == 30)"
   ]
  },
  {
   "cell_type": "code",
   "execution_count": 26,
   "metadata": {},
   "outputs": [
    {
     "data": {
      "text/html": [
       "<ol class=list-inline>\n",
       "\t<li>1</li>\n",
       "\t<li>5</li>\n",
       "</ol>\n"
      ],
      "text/latex": [
       "\\begin{enumerate*}\n",
       "\\item 1\n",
       "\\item 5\n",
       "\\end{enumerate*}\n"
      ],
      "text/markdown": [
       "1. 1\n",
       "2. 5\n",
       "\n",
       "\n"
      ],
      "text/plain": [
       "[1] 1 5"
      ]
     },
     "metadata": {},
     "output_type": "display_data"
    }
   ],
   "source": [
    "which(demo$Age == 30 & demo$Gender == \"1_남자\")"
   ]
  },
  {
   "cell_type": "markdown",
   "metadata": {},
   "source": [
    "### [] 와 논리 연산 으로 관측치 선택하기"
   ]
  },
  {
   "cell_type": "code",
   "execution_count": 27,
   "metadata": {},
   "outputs": [
    {
     "ename": "ERROR",
     "evalue": "Error in `[.data.frame`(demo, demo$Age == 30 & demo$Gender == \"1_남자\"): undefined columns selected\n",
     "output_type": "error",
     "traceback": [
      "Error in `[.data.frame`(demo, demo$Age == 30 & demo$Gender == \"1_남자\"): undefined columns selected\nTraceback:\n",
      "1. demo[demo$Age == 30 & demo$Gender == \"1_남자\"]",
      "2. `[.data.frame`(demo, demo$Age == 30 & demo$Gender == \"1_남자\")",
      "3. stop(\"undefined columns selected\")"
     ]
    }
   ],
   "source": [
    "demo[demo$Age == 30 & demo$Gender == \"1_남자\"]"
   ]
  },
  {
   "cell_type": "code",
   "execution_count": 28,
   "metadata": {},
   "outputs": [
    {
     "data": {
      "text/html": [
       "<table>\n",
       "<thead><tr><th></th><th scope=col>Gender</th><th scope=col>Age</th><th scope=col>Group</th></tr></thead>\n",
       "<tbody>\n",
       "\t<tr><th scope=row>1</th><td>1_남자</td><td>30    </td><td>1_30대</td></tr>\n",
       "\t<tr><th scope=row>5</th><td>1_남자</td><td>30    </td><td>1_30대</td></tr>\n",
       "</tbody>\n",
       "</table>\n"
      ],
      "text/latex": [
       "\\begin{tabular}{r|lll}\n",
       "  & Gender & Age & Group\\\\\n",
       "\\hline\n",
       "\t1 & 1\\_남자 & 30       & 1\\_30대\\\\\n",
       "\t5 & 1\\_남자 & 30       & 1\\_30대\\\\\n",
       "\\end{tabular}\n"
      ],
      "text/markdown": [
       "\n",
       "| <!--/--> | Gender | Age | Group | \n",
       "|---|---|\n",
       "| 1 | 1_남자 | 30     | 1_30대 | \n",
       "| 5 | 1_남자 | 30     | 1_30대 | \n",
       "\n",
       "\n"
      ],
      "text/plain": [
       "  Gender Age Group \n",
       "1 1_남자 30  1_30대\n",
       "5 1_남자 30  1_30대"
      ]
     },
     "metadata": {},
     "output_type": "display_data"
    }
   ],
   "source": [
    "demo[demo$Age == 30 & demo$Gender == \"1_남자\",]"
   ]
  },
  {
   "cell_type": "code",
   "execution_count": null,
   "metadata": {},
   "outputs": [],
   "source": []
  }
 ],
 "metadata": {
  "kernelspec": {
   "display_name": "R",
   "language": "R",
   "name": "ir"
  },
  "language_info": {
   "codemirror_mode": "r",
   "file_extension": ".r",
   "mimetype": "text/x-r-source",
   "name": "R",
   "pygments_lexer": "r",
   "version": "3.4.3"
  }
 },
 "nbformat": 4,
 "nbformat_minor": 2
}
