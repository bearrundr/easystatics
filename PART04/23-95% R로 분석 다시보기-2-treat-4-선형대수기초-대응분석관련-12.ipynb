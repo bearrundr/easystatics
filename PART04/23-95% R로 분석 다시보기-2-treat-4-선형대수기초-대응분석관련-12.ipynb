{
 "cells": [
  {
   "cell_type": "markdown",
   "metadata": {},
   "source": [
    "# <span style=\"color:blue\"> 이토록 쉬운 통계 & R </span>"
   ]
  },
  {
   "cell_type": "markdown",
   "metadata": {},
   "source": [
    "<img src=\"../image/cover.png\" width=\"200\" height=\"400\" align=\"left\">  임경덕 지음"
   ]
  },
  {
   "cell_type": "markdown",
   "metadata": {},
   "source": [
    "## PART 4 데이터 분석 도구, R"
   ]
  },
  {
   "cell_type": "markdown",
   "metadata": {},
   "source": [
    "## 95% R로 분석 다시보기-2-treat-4-선형대수기초 대응분석관련-12 (52일차)"
   ]
  },
  {
   "cell_type": "markdown",
   "metadata": {},
   "source": [
    "   * 데이타프로젝트 (http://dataproject.xyz) 또는 (http://cafe.naver.com/dataartproject) 에 미리 저장된 스크립트를 다운 받을 수 있습니다.\n",
    "   * 스크립트를 활용하면 직접 명령어를 입력하지 않고 저장된 명령어들을 실행할 수 있습니다."
   ]
  },
  {
   "cell_type": "markdown",
   "metadata": {},
   "source": [
    "### 데이터 파일은 dataartproject.xyz 에 있습니다."
   ]
  },
  {
   "cell_type": "markdown",
   "metadata": {},
   "source": [
    "# 두개의 범주형 변수의 관계 찾기 -- treat - 대응분석 정리"
   ]
  },
  {
   "cell_type": "markdown",
   "metadata": {},
   "source": [
    "## 이번에는 CA 문석의 이론과 실습을 설명하고, 다음에 다시 예제를 푸는 형식으로 할 예정입니다.\n",
    "http://www.sthda.com/english/articles/31-principal-component-methods-in-r-practical-guide/120-correspondence-analysis-theory-and-practice/"
   ]
  },
  {
   "cell_type": "markdown",
   "metadata": {},
   "source": [
    "## 요구 패키지 들\n",
    "FactorMineR : CA 계산 패키지\n",
    "factoextra  : 결과를 출력 그래프로 표시"
   ]
  },
  {
   "cell_type": "code",
   "execution_count": 1,
   "metadata": {},
   "outputs": [],
   "source": [
    "#install.packages(\"FactoMineR\")\n",
    "#install.packages(\"factoextra\")"
   ]
  },
  {
   "cell_type": "code",
   "execution_count": 2,
   "metadata": {},
   "outputs": [
    {
     "name": "stderr",
     "output_type": "stream",
     "text": [
      "Loading required package: ggplot2\n",
      "Welcome! Related Books: `Practical Guide To Cluster Analysis in R` at https://goo.gl/13EFCZ\n"
     ]
    }
   ],
   "source": [
    "# 패키지 로드\n",
    "library(FactoMineR)\n",
    "library(factoextra)"
   ]
  },
  {
   "cell_type": "markdown",
   "metadata": {},
   "source": [
    "데모 데이터로 housetasks 를 사용합니다. \n",
    "* row 는 여러 집안일들을 나타내고\n",
    "* column 은 누가 일을 한것인지 표시합니다. (아내, 남편, 공동, 위탁) 으로 구분합니다.\n",
    "* 각 셀의 값은 빈도수를 나타냅니다."
   ]
  },
  {
   "cell_type": "code",
   "execution_count": 3,
   "metadata": {},
   "outputs": [],
   "source": [
    "# data 준비 housetasks 는 factoextra 에 포함된 데이터 입니다.\n",
    "data(housetasks)"
   ]
  },
  {
   "cell_type": "code",
   "execution_count": 5,
   "metadata": {},
   "outputs": [
    {
     "data": {
      "text/html": [
       "<table>\n",
       "<thead><tr><th></th><th scope=col>Wife</th><th scope=col>Alternating</th><th scope=col>Husband</th><th scope=col>Jointly</th></tr></thead>\n",
       "<tbody>\n",
       "\t<tr><th scope=row>Laundry</th><td>156</td><td>14 </td><td>  2</td><td>  4</td></tr>\n",
       "\t<tr><th scope=row>Main_meal</th><td>124</td><td>20 </td><td>  5</td><td>  4</td></tr>\n",
       "\t<tr><th scope=row>Dinner</th><td> 77</td><td>11 </td><td>  7</td><td> 13</td></tr>\n",
       "\t<tr><th scope=row>Breakfeast</th><td> 82</td><td>36 </td><td> 15</td><td>  7</td></tr>\n",
       "\t<tr><th scope=row>Tidying</th><td> 53</td><td>11 </td><td>  1</td><td> 57</td></tr>\n",
       "\t<tr><th scope=row>Dishes</th><td> 32</td><td>24 </td><td>  4</td><td> 53</td></tr>\n",
       "\t<tr><th scope=row>Shopping</th><td> 33</td><td>23 </td><td>  9</td><td> 55</td></tr>\n",
       "\t<tr><th scope=row>Official</th><td> 12</td><td>46 </td><td> 23</td><td> 15</td></tr>\n",
       "\t<tr><th scope=row>Driving</th><td> 10</td><td>51 </td><td> 75</td><td>  3</td></tr>\n",
       "\t<tr><th scope=row>Finances</th><td> 13</td><td>13 </td><td> 21</td><td> 66</td></tr>\n",
       "\t<tr><th scope=row>Insurance</th><td>  8</td><td> 1 </td><td> 53</td><td> 77</td></tr>\n",
       "\t<tr><th scope=row>Repairs</th><td>  0</td><td> 3 </td><td>160</td><td>  2</td></tr>\n",
       "\t<tr><th scope=row>Holidays</th><td>  0</td><td> 1 </td><td>  6</td><td>153</td></tr>\n",
       "</tbody>\n",
       "</table>\n"
      ],
      "text/latex": [
       "\\begin{tabular}{r|llll}\n",
       "  & Wife & Alternating & Husband & Jointly\\\\\n",
       "\\hline\n",
       "\tLaundry & 156 & 14  &   2 &   4\\\\\n",
       "\tMain\\_meal & 124 & 20  &   5 &   4\\\\\n",
       "\tDinner &  77 & 11  &   7 &  13\\\\\n",
       "\tBreakfeast &  82 & 36  &  15 &   7\\\\\n",
       "\tTidying &  53 & 11  &   1 &  57\\\\\n",
       "\tDishes &  32 & 24  &   4 &  53\\\\\n",
       "\tShopping &  33 & 23  &   9 &  55\\\\\n",
       "\tOfficial &  12 & 46  &  23 &  15\\\\\n",
       "\tDriving &  10 & 51  &  75 &   3\\\\\n",
       "\tFinances &  13 & 13  &  21 &  66\\\\\n",
       "\tInsurance &   8 &  1  &  53 &  77\\\\\n",
       "\tRepairs &   0 &  3  & 160 &   2\\\\\n",
       "\tHolidays &   0 &  1  &   6 & 153\\\\\n",
       "\\end{tabular}\n"
      ],
      "text/markdown": [
       "\n",
       "| <!--/--> | Wife | Alternating | Husband | Jointly | \n",
       "|---|---|---|---|---|---|---|---|---|---|---|---|---|\n",
       "| Laundry | 156 | 14  |   2 |   4 | \n",
       "| Main_meal | 124 | 20  |   5 |   4 | \n",
       "| Dinner |  77 | 11  |   7 |  13 | \n",
       "| Breakfeast |  82 | 36  |  15 |   7 | \n",
       "| Tidying |  53 | 11  |   1 |  57 | \n",
       "| Dishes |  32 | 24  |   4 |  53 | \n",
       "| Shopping |  33 | 23  |   9 |  55 | \n",
       "| Official |  12 | 46  |  23 |  15 | \n",
       "| Driving |  10 | 51  |  75 |   3 | \n",
       "| Finances |  13 | 13  |  21 |  66 | \n",
       "| Insurance |   8 |  1  |  53 |  77 | \n",
       "| Repairs |   0 |  3  | 160 |   2 | \n",
       "| Holidays |   0 |  1  |   6 | 153 | \n",
       "\n",
       "\n"
      ],
      "text/plain": [
       "           Wife Alternating Husband Jointly\n",
       "Laundry    156  14            2       4    \n",
       "Main_meal  124  20            5       4    \n",
       "Dinner      77  11            7      13    \n",
       "Breakfeast  82  36           15       7    \n",
       "Tidying     53  11            1      57    \n",
       "Dishes      32  24            4      53    \n",
       "Shopping    33  23            9      55    \n",
       "Official    12  46           23      15    \n",
       "Driving     10  51           75       3    \n",
       "Finances    13  13           21      66    \n",
       "Insurance    8   1           53      77    \n",
       "Repairs      0   3          160       2    \n",
       "Holidays     0   1            6     153    "
      ]
     },
     "metadata": {},
     "output_type": "display_data"
    }
   ],
   "source": [
    "#head(housetasks) 교차표를 보면 다음과 같습니다.\n",
    "housetasks"
   ]
  },
  {
   "cell_type": "markdown",
   "metadata": {},
   "source": [
    "데이터 내용을 보면\n",
    "* Main_Meal, 세탁, 저녁 등은 주부가 주로 담당합니다.\n",
    "* 수리 는 남편이 주로 담당합니다.\n",
    "* 휴일은 부부 공동 담당합니다."
   ]
  },
  {
   "cell_type": "markdown",
   "metadata": {},
   "source": [
    "## 교차표 테이블의 그래프"
   ]
  },
  {
   "cell_type": "markdown",
   "metadata": {},
   "source": [
    "balloonplot() 로 교차표 를 그래프로 알기 쉽게 표시 합니다."
   ]
  },
  {
   "cell_type": "code",
   "execution_count": 7,
   "metadata": {},
   "outputs": [
    {
     "name": "stderr",
     "output_type": "stream",
     "text": [
      "\n",
      "Attaching package: ‘gplots’\n",
      "\n",
      "The following object is masked from ‘package:stats’:\n",
      "\n",
      "    lowess\n",
      "\n"
     ]
    }
   ],
   "source": [
    "library(gplots)"
   ]
  },
  {
   "cell_type": "code",
   "execution_count": 8,
   "metadata": {},
   "outputs": [],
   "source": [
    "# 1. 교차표를 테이블 형식으로 변환합니다.\n",
    "dt <- as.table(as.matrix(housetasks))"
   ]
  },
  {
   "cell_type": "code",
   "execution_count": 9,
   "metadata": {},
   "outputs": [
    {
     "data": {
      "image/png": "[encoded data removed]",
      "text/plain": [
       "Plot with title “housetasks”"
      ]
     },
     "metadata": {},
     "output_type": "display_data"
    }
   ],
   "source": [
    "# 2. balloonplot() 으로 표시\n",
    "balloonplot(t(dt), main=\"housetasks\", xlab=\"\", ylab=\"\", label = F, show.margins = F)"
   ]
  },
  {
   "cell_type": "markdown",
   "metadata": {},
   "source": [
    "교차표가 매우 큰 경우에는 그래프로 해석하는 것은 매우 힘들다. 이런 경우에는 CA 같은 것이 필요합니다."
   ]
  },
  {
   "cell_type": "markdown",
   "metadata": {},
   "source": [
    "## 중요 용어 정의\n",
    "* Row margins: Row sum(row.sum) : 가로 합\n",
    "* Column margins: Column sum(col.sum) : 세로 합\n",
    "* Grand total : total sum of all values in the contigency table : 교차표 모든 값의 합"
   ]
  },
  {
   "cell_type": "code",
   "execution_count": 11,
   "metadata": {},
   "outputs": [
    {
     "data": {
      "text/html": [
       "<dl class=dl-horizontal>\n",
       "\t<dt>Laundry</dt>\n",
       "\t\t<dd>176</dd>\n",
       "\t<dt>Main_meal</dt>\n",
       "\t\t<dd>153</dd>\n",
       "\t<dt>Dinner</dt>\n",
       "\t\t<dd>108</dd>\n",
       "\t<dt>Breakfeast</dt>\n",
       "\t\t<dd>140</dd>\n",
       "\t<dt>Tidying</dt>\n",
       "\t\t<dd>122</dd>\n",
       "\t<dt>Dishes</dt>\n",
       "\t\t<dd>113</dd>\n",
       "\t<dt>Shopping</dt>\n",
       "\t\t<dd>120</dd>\n",
       "\t<dt>Official</dt>\n",
       "\t\t<dd>96</dd>\n",
       "\t<dt>Driving</dt>\n",
       "\t\t<dd>139</dd>\n",
       "\t<dt>Finances</dt>\n",
       "\t\t<dd>113</dd>\n",
       "\t<dt>Insurance</dt>\n",
       "\t\t<dd>139</dd>\n",
       "\t<dt>Repairs</dt>\n",
       "\t\t<dd>165</dd>\n",
       "\t<dt>Holidays</dt>\n",
       "\t\t<dd>160</dd>\n",
       "</dl>\n"
      ],
      "text/latex": [
       "\\begin{description*}\n",
       "\\item[Laundry] 176\n",
       "\\item[Main\\textbackslash{}\\_meal] 153\n",
       "\\item[Dinner] 108\n",
       "\\item[Breakfeast] 140\n",
       "\\item[Tidying] 122\n",
       "\\item[Dishes] 113\n",
       "\\item[Shopping] 120\n",
       "\\item[Official] 96\n",
       "\\item[Driving] 139\n",
       "\\item[Finances] 113\n",
       "\\item[Insurance] 139\n",
       "\\item[Repairs] 165\n",
       "\\item[Holidays] 160\n",
       "\\end{description*}\n"
      ],
      "text/markdown": [
       "Laundry\n",
       ":   176Main_meal\n",
       ":   153Dinner\n",
       ":   108Breakfeast\n",
       ":   140Tidying\n",
       ":   122Dishes\n",
       ":   113Shopping\n",
       ":   120Official\n",
       ":   96Driving\n",
       ":   139Finances\n",
       ":   113Insurance\n",
       ":   139Repairs\n",
       ":   165Holidays\n",
       ":   160\n",
       "\n"
      ],
      "text/plain": [
       "   Laundry  Main_meal     Dinner Breakfeast    Tidying     Dishes   Shopping \n",
       "       176        153        108        140        122        113        120 \n",
       "  Official    Driving   Finances  Insurance    Repairs   Holidays \n",
       "        96        139        113        139        165        160 "
      ]
     },
     "metadata": {},
     "output_type": "display_data"
    }
   ],
   "source": [
    "# Row margin\n",
    "row.sum <- apply(housetasks, 1, sum)\n",
    "row.sum"
   ]
  },
  {
   "cell_type": "code",
   "execution_count": 12,
   "metadata": {},
   "outputs": [
    {
     "data": {
      "text/html": [
       "<dl class=dl-horizontal>\n",
       "\t<dt>Wife</dt>\n",
       "\t\t<dd>600</dd>\n",
       "\t<dt>Alternating</dt>\n",
       "\t\t<dd>254</dd>\n",
       "\t<dt>Husband</dt>\n",
       "\t\t<dd>381</dd>\n",
       "\t<dt>Jointly</dt>\n",
       "\t\t<dd>509</dd>\n",
       "</dl>\n"
      ],
      "text/latex": [
       "\\begin{description*}\n",
       "\\item[Wife] 600\n",
       "\\item[Alternating] 254\n",
       "\\item[Husband] 381\n",
       "\\item[Jointly] 509\n",
       "\\end{description*}\n"
      ],
      "text/markdown": [
       "Wife\n",
       ":   600Alternating\n",
       ":   254Husband\n",
       ":   381Jointly\n",
       ":   509\n",
       "\n"
      ],
      "text/plain": [
       "       Wife Alternating     Husband     Jointly \n",
       "        600         254         381         509 "
      ]
     },
     "metadata": {},
     "output_type": "display_data"
    }
   ],
   "source": [
    "# column sum\n",
    "col.sum <- apply(housetasks, 2, sum)\n",
    "col.sum"
   ]
  },
  {
   "cell_type": "code",
   "execution_count": 16,
   "metadata": {},
   "outputs": [
    {
     "data": {
      "text/html": [
       "1744"
      ],
      "text/latex": [
       "1744"
      ],
      "text/markdown": [
       "1744"
      ],
      "text/plain": [
       "[1] 1744"
      ]
     },
     "metadata": {},
     "output_type": "display_data"
    }
   ],
   "source": [
    "# grand total\n",
    "n <- grand.total <- sum(housetasks)\n",
    "n"
   ]
  },
  {
   "cell_type": "markdown",
   "metadata": {},
   "source": [
    "## 가로 를 나타내는 변수들"
   ]
  },
  {
   "cell_type": "markdown",
   "metadata": {},
   "source": [
    "### Row Profile"
   ]
  },
  {
   "cell_type": "markdown",
   "metadata": {},
   "source": [
    "Row profile 은 각 가로의 주변합 (margin) 으로 나눈 값이다 즉\n",
    "$$ row.profile = \\dfrac{row}{row.sum}$$\n",
    "예를 들면 Laundry/Wife 세탁/주부 row.profile = 156/176 = 88.6% 이다."
   ]
  },
  {
   "cell_type": "code",
   "execution_count": 14,
   "metadata": {},
   "outputs": [
    {
     "data": {
      "text/html": [
       "<table>\n",
       "<thead><tr><th></th><th scope=col>Wife</th><th scope=col>Alternating</th><th scope=col>Husband</th><th scope=col>Jointly</th></tr></thead>\n",
       "<tbody>\n",
       "\t<tr><th scope=row>Laundry</th><td>0.88636364 </td><td>0.079545455</td><td>0.011363636</td><td>0.02272727 </td></tr>\n",
       "\t<tr><th scope=row>Main_meal</th><td>0.81045752 </td><td>0.130718954</td><td>0.032679739</td><td>0.02614379 </td></tr>\n",
       "\t<tr><th scope=row>Dinner</th><td>0.71296296 </td><td>0.101851852</td><td>0.064814815</td><td>0.12037037 </td></tr>\n",
       "\t<tr><th scope=row>Breakfeast</th><td>0.58571429 </td><td>0.257142857</td><td>0.107142857</td><td>0.05000000 </td></tr>\n",
       "\t<tr><th scope=row>Tidying</th><td>0.43442623 </td><td>0.090163934</td><td>0.008196721</td><td>0.46721311 </td></tr>\n",
       "\t<tr><th scope=row>Dishes</th><td>0.28318584 </td><td>0.212389381</td><td>0.035398230</td><td>0.46902655 </td></tr>\n",
       "\t<tr><th scope=row>Shopping</th><td>0.27500000 </td><td>0.191666667</td><td>0.075000000</td><td>0.45833333 </td></tr>\n",
       "\t<tr><th scope=row>Official</th><td>0.12500000 </td><td>0.479166667</td><td>0.239583333</td><td>0.15625000 </td></tr>\n",
       "\t<tr><th scope=row>Driving</th><td>0.07194245 </td><td>0.366906475</td><td>0.539568345</td><td>0.02158273 </td></tr>\n",
       "\t<tr><th scope=row>Finances</th><td>0.11504425 </td><td>0.115044248</td><td>0.185840708</td><td>0.58407080 </td></tr>\n",
       "\t<tr><th scope=row>Insurance</th><td>0.05755396 </td><td>0.007194245</td><td>0.381294964</td><td>0.55395683 </td></tr>\n",
       "\t<tr><th scope=row>Repairs</th><td>0.00000000 </td><td>0.018181818</td><td>0.969696970</td><td>0.01212121 </td></tr>\n",
       "\t<tr><th scope=row>Holidays</th><td>0.00000000 </td><td>0.006250000</td><td>0.037500000</td><td>0.95625000 </td></tr>\n",
       "</tbody>\n",
       "</table>\n"
      ],
      "text/latex": [
       "\\begin{tabular}{r|llll}\n",
       "  & Wife & Alternating & Husband & Jointly\\\\\n",
       "\\hline\n",
       "\tLaundry & 0.88636364  & 0.079545455 & 0.011363636 & 0.02272727 \\\\\n",
       "\tMain\\_meal & 0.81045752  & 0.130718954 & 0.032679739 & 0.02614379 \\\\\n",
       "\tDinner & 0.71296296  & 0.101851852 & 0.064814815 & 0.12037037 \\\\\n",
       "\tBreakfeast & 0.58571429  & 0.257142857 & 0.107142857 & 0.05000000 \\\\\n",
       "\tTidying & 0.43442623  & 0.090163934 & 0.008196721 & 0.46721311 \\\\\n",
       "\tDishes & 0.28318584  & 0.212389381 & 0.035398230 & 0.46902655 \\\\\n",
       "\tShopping & 0.27500000  & 0.191666667 & 0.075000000 & 0.45833333 \\\\\n",
       "\tOfficial & 0.12500000  & 0.479166667 & 0.239583333 & 0.15625000 \\\\\n",
       "\tDriving & 0.07194245  & 0.366906475 & 0.539568345 & 0.02158273 \\\\\n",
       "\tFinances & 0.11504425  & 0.115044248 & 0.185840708 & 0.58407080 \\\\\n",
       "\tInsurance & 0.05755396  & 0.007194245 & 0.381294964 & 0.55395683 \\\\\n",
       "\tRepairs & 0.00000000  & 0.018181818 & 0.969696970 & 0.01212121 \\\\\n",
       "\tHolidays & 0.00000000  & 0.006250000 & 0.037500000 & 0.95625000 \\\\\n",
       "\\end{tabular}\n"
      ],
      "text/markdown": [
       "\n",
       "| <!--/--> | Wife | Alternating | Husband | Jointly | \n",
       "|---|---|---|---|---|---|---|---|---|---|---|---|---|\n",
       "| Laundry | 0.88636364  | 0.079545455 | 0.011363636 | 0.02272727  | \n",
       "| Main_meal | 0.81045752  | 0.130718954 | 0.032679739 | 0.02614379  | \n",
       "| Dinner | 0.71296296  | 0.101851852 | 0.064814815 | 0.12037037  | \n",
       "| Breakfeast | 0.58571429  | 0.257142857 | 0.107142857 | 0.05000000  | \n",
       "| Tidying | 0.43442623  | 0.090163934 | 0.008196721 | 0.46721311  | \n",
       "| Dishes | 0.28318584  | 0.212389381 | 0.035398230 | 0.46902655  | \n",
       "| Shopping | 0.27500000  | 0.191666667 | 0.075000000 | 0.45833333  | \n",
       "| Official | 0.12500000  | 0.479166667 | 0.239583333 | 0.15625000  | \n",
       "| Driving | 0.07194245  | 0.366906475 | 0.539568345 | 0.02158273  | \n",
       "| Finances | 0.11504425  | 0.115044248 | 0.185840708 | 0.58407080  | \n",
       "| Insurance | 0.05755396  | 0.007194245 | 0.381294964 | 0.55395683  | \n",
       "| Repairs | 0.00000000  | 0.018181818 | 0.969696970 | 0.01212121  | \n",
       "| Holidays | 0.00000000  | 0.006250000 | 0.037500000 | 0.95625000  | \n",
       "\n",
       "\n"
      ],
      "text/plain": [
       "           Wife       Alternating Husband     Jointly   \n",
       "Laundry    0.88636364 0.079545455 0.011363636 0.02272727\n",
       "Main_meal  0.81045752 0.130718954 0.032679739 0.02614379\n",
       "Dinner     0.71296296 0.101851852 0.064814815 0.12037037\n",
       "Breakfeast 0.58571429 0.257142857 0.107142857 0.05000000\n",
       "Tidying    0.43442623 0.090163934 0.008196721 0.46721311\n",
       "Dishes     0.28318584 0.212389381 0.035398230 0.46902655\n",
       "Shopping   0.27500000 0.191666667 0.075000000 0.45833333\n",
       "Official   0.12500000 0.479166667 0.239583333 0.15625000\n",
       "Driving    0.07194245 0.366906475 0.539568345 0.02158273\n",
       "Finances   0.11504425 0.115044248 0.185840708 0.58407080\n",
       "Insurance  0.05755396 0.007194245 0.381294964 0.55395683\n",
       "Repairs    0.00000000 0.018181818 0.969696970 0.01212121\n",
       "Holidays   0.00000000 0.006250000 0.037500000 0.95625000"
      ]
     },
     "metadata": {},
     "output_type": "display_data"
    }
   ],
   "source": [
    "row.profile <- housetasks / row.sum\n",
    "row.profile"
   ]
  },
  {
   "cell_type": "markdown",
   "metadata": {},
   "source": [
    "가로줄의 마지막에 에는 각 세로줄의 평균을 구한다. 이것은 average.rp 라고 표시 하고 \n",
    "$$\n",
    "average.rp = \\dfrac{column.sum}{grand.total}\n",
    "$$"
   ]
  },
  {
   "cell_type": "code",
   "execution_count": 17,
   "metadata": {},
   "outputs": [
    {
     "data": {
      "text/html": [
       "<dl class=dl-horizontal>\n",
       "\t<dt>Wife</dt>\n",
       "\t\t<dd>0.344036697247706</dd>\n",
       "\t<dt>Alternating</dt>\n",
       "\t\t<dd>0.145642201834862</dd>\n",
       "\t<dt>Husband</dt>\n",
       "\t\t<dd>0.218463302752294</dd>\n",
       "\t<dt>Jointly</dt>\n",
       "\t\t<dd>0.291857798165138</dd>\n",
       "</dl>\n"
      ],
      "text/latex": [
       "\\begin{description*}\n",
       "\\item[Wife] 0.344036697247706\n",
       "\\item[Alternating] 0.145642201834862\n",
       "\\item[Husband] 0.218463302752294\n",
       "\\item[Jointly] 0.291857798165138\n",
       "\\end{description*}\n"
      ],
      "text/markdown": [
       "Wife\n",
       ":   0.344036697247706Alternating\n",
       ":   0.145642201834862Husband\n",
       ":   0.218463302752294Jointly\n",
       ":   0.291857798165138\n",
       "\n"
      ],
      "text/plain": [
       "       Wife Alternating     Husband     Jointly \n",
       "  0.3440367   0.1456422   0.2184633   0.2918578 "
      ]
     },
     "metadata": {},
     "output_type": "display_data"
    }
   ],
   "source": [
    "# column sum\n",
    "col.sum <- apply(housetasks, 2, sum)\n",
    "\n",
    "# average row profile = column sums / grand total\n",
    "average.rp <- col.sum/n\n",
    "average.rp"
   ]
  },
  {
   "cell_type": "markdown",
   "metadata": {},
   "source": [
    "### row profile 사이의 거리 또는 유사도\n",
    "\n",
    "두개의 가로줄 row1, row2 를 비교하려면, 그들 사이의 거리를 다음과 같이 정의 하여 사용합니다.\n",
    "\n",
    "$$\n",
    "d^2(row_1, row_2) = \\sum\\dfrac{(row.profile_1 - row.profile_2)^2}{average.profile}\n",
    "$$\n",
    "\n",
    "거리를 chi-square 거리 (카이제곱 거리) 라고 합니다.\n",
    "\n",
    "예를 들어 세탁 (Laundary) 와 주식(Main_meal) 사이의 거리 또는 유사도는\n",
    "\n",
    "$$\n",
    "d^2(Laundary, Main_meal) = \\dfrac{}{} + \\dfrac{}{} + \\cdots = 0.036\n",
    "$$\n",
    "\n",
    "이다."
   ]
  },
  {
   "cell_type": "code",
   "execution_count": 23,
   "metadata": {},
   "outputs": [
    {
     "data": {
      "text/html": [
       "0.0368478745321217"
      ],
      "text/latex": [
       "0.0368478745321217"
      ],
      "text/markdown": [
       "0.0368478745321217"
      ],
      "text/plain": [
       "[1] 0.03684787"
      ]
     },
     "metadata": {},
     "output_type": "display_data"
    }
   ],
   "source": [
    "# 몇가지 가로줄 사이의 거리를 구하는 예제들\n",
    "\n",
    "# Laundry and Main_meal profiles\n",
    "laundry.p <- row.profile[\"Laundry\",]\n",
    "main_meal.p <- row.profile[\"Main_meal\",]\n",
    "\n",
    "# distance between Laundry and Main_meal\n",
    "d2 <- sum(((laundry.p - main_meal.p)^2)/average.rp)\n",
    "d2"
   ]
  },
  {
   "cell_type": "code",
   "execution_count": 25,
   "metadata": {},
   "outputs": [
    {
     "data": {
      "text/html": [
       "3.77202811397596"
      ],
      "text/latex": [
       "3.77202811397596"
      ],
      "text/markdown": [
       "3.77202811397596"
      ],
      "text/plain": [
       "[1] 3.772028"
      ]
     },
     "metadata": {},
     "output_type": "display_data"
    }
   ],
   "source": [
    "# Laundry 와 Driving 사이 거리\n",
    "driving.p <- row.profile[\"Driving\",]\n",
    "\n",
    "# 세탁 가로줄과 거리\n",
    "d2 <- sum(((laundry.p - driving.p)^2)/average.rp)\n",
    "d2"
   ]
  },
  {
   "cell_type": "markdown",
   "metadata": {},
   "source": [
    "### 평균가로줄 row profile 과 각 가로줄과 거리"
   ]
  },
  {
   "cell_type": "markdown",
   "metadata": {},
   "source": [
    "$$\n",
    "d^2(row_i, average.profile) = \\sum\\dfrac{(row.profile_i - average.profile)^2}{average.profile}\n",
    "$$"
   ]
  },
  {
   "cell_type": "code",
   "execution_count": 29,
   "metadata": {},
   "outputs": [
    {
     "data": {
      "text/html": [
       "<table>\n",
       "<tbody>\n",
       "\t<tr><th scope=row>Laundry</th><td>1.329</td></tr>\n",
       "\t<tr><th scope=row>Main_meal</th><td>1.034</td></tr>\n",
       "\t<tr><th scope=row>Dinner</th><td>0.618</td></tr>\n",
       "\t<tr><th scope=row>Breakfeast</th><td>0.512</td></tr>\n",
       "\t<tr><th scope=row>Tidying</th><td>0.353</td></tr>\n",
       "\t<tr><th scope=row>Dishes</th><td>0.302</td></tr>\n",
       "\t<tr><th scope=row>Shopping</th><td>0.218</td></tr>\n",
       "\t<tr><th scope=row>Official</th><td>0.968</td></tr>\n",
       "\t<tr><th scope=row>Driving</th><td>1.274</td></tr>\n",
       "\t<tr><th scope=row>Finances</th><td>0.456</td></tr>\n",
       "\t<tr><th scope=row>Insurance</th><td>0.727</td></tr>\n",
       "\t<tr><th scope=row>Repairs</th><td>3.307</td></tr>\n",
       "\t<tr><th scope=row>Holidays</th><td>2.140</td></tr>\n",
       "</tbody>\n",
       "</table>\n"
      ],
      "text/latex": [
       "\\begin{tabular}{r|l}\n",
       "\tLaundry & 1.329\\\\\n",
       "\tMain\\_meal & 1.034\\\\\n",
       "\tDinner & 0.618\\\\\n",
       "\tBreakfeast & 0.512\\\\\n",
       "\tTidying & 0.353\\\\\n",
       "\tDishes & 0.302\\\\\n",
       "\tShopping & 0.218\\\\\n",
       "\tOfficial & 0.968\\\\\n",
       "\tDriving & 1.274\\\\\n",
       "\tFinances & 0.456\\\\\n",
       "\tInsurance & 0.727\\\\\n",
       "\tRepairs & 3.307\\\\\n",
       "\tHolidays & 2.140\\\\\n",
       "\\end{tabular}\n"
      ],
      "text/markdown": [
       "\n",
       "| Laundry | 1.329 | \n",
       "| Main_meal | 1.034 | \n",
       "| Dinner | 0.618 | \n",
       "| Breakfeast | 0.512 | \n",
       "| Tidying | 0.353 | \n",
       "| Dishes | 0.302 | \n",
       "| Shopping | 0.218 | \n",
       "| Official | 0.968 | \n",
       "| Driving | 1.274 | \n",
       "| Finances | 0.456 | \n",
       "| Insurance | 0.727 | \n",
       "| Repairs | 3.307 | \n",
       "| Holidays | 2.140 | \n",
       "\n",
       "\n"
      ],
      "text/plain": [
       "           [,1] \n",
       "Laundry    1.329\n",
       "Main_meal  1.034\n",
       "Dinner     0.618\n",
       "Breakfeast 0.512\n",
       "Tidying    0.353\n",
       "Dishes     0.302\n",
       "Shopping   0.218\n",
       "Official   0.968\n",
       "Driving    1.274\n",
       "Finances   0.456\n",
       "Insurance  0.727\n",
       "Repairs    3.307\n",
       "Holidays   2.140"
      ]
     },
     "metadata": {},
     "output_type": "display_data"
    }
   ],
   "source": [
    "d2.row <- apply(row.profile, 1, function(row.p, av.p) {sum(((row.p - av.p)^2)/av.p)}, average.rp)\n",
    "as.matrix(round(d2.row, 3))"
   ]
  },
  {
   "cell_type": "markdown",
   "metadata": {},
   "source": [
    "가로줄에서 수선 (Repairs) 휴일(Holiday), 세탁(Laundry), 운전(Driving) 등은 평균에서 많이 떨어진 profile 입니다."
   ]
  },
  {
   "cell_type": "markdown",
   "metadata": {},
   "source": [
    "### 거리 행렬 (Distance Matrix)"
   ]
  },
  {
   "cell_type": "code",
   "execution_count": 39,
   "metadata": {},
   "outputs": [],
   "source": [
    "# data: a data frame or matrix\n",
    "# average.profile: average profile\n",
    "dist.matrix <- function(data, average.profile) {\n",
    "    mat <- as.matrix(t(data))\n",
    "#    print(mat)\n",
    "    n <- ncol(mat)\n",
    "#    print (n)\n",
    "    dist.mat <- matrix(NA, n, n)\n",
    "    diag(dist.mat) <- 0\n",
    "\n",
    "    for(i in 1:(n -1)) {\n",
    "        for(j in (i + 1):n) {\n",
    "            d2 <- sum(((mat[,i] - mat[,j])^2)/average.profile)\n",
    "            dist.mat[i,j] <- dist.mat[j,i] <- d2\n",
    "        }\n",
    "    }\n",
    "    colnames(dist.mat) <- rownames(dist.mat) <- colnames(mat)\n",
    "    \n",
    "    # return\n",
    "    dist.mat\n",
    "}"
   ]
  },
  {
   "cell_type": "code",
   "execution_count": 41,
   "metadata": {},
   "outputs": [
    {
     "data": {
      "image/png": "[encoded data removed]",
      "text/plain": [
       "Plot with title “”"
      ]
     },
     "metadata": {},
     "output_type": "display_data"
    }
   ],
   "source": [
    "# 거리 행렬\n",
    "dist.mat <- dist.matrix(row.profile, average.rp)\n",
    "dist.mat <- round(dist.mat, 2)\n",
    "\n",
    "#dist.mat\n",
    "# visualization\n",
    "library(corrplot)\n",
    "corrplot(dist.mat, type=\"upper\", is.corr = F)"
   ]
  },
  {
   "cell_type": "markdown",
   "metadata": {},
   "source": [
    "원의 크기는 row.profile 사이의 거리에 비례합니다. 거리와 농도를 비교하여 원의 크기를 비교하여 쉽게 찾아 낼 수 있습니다."
   ]
  },
  {
   "cell_type": "markdown",
   "metadata": {},
   "source": [
    "### Row mass 과 inertia (가로 질량과 관성)\n",
    "\n",
    "일반적으로 질량과 관성은 물리 용어이나, 통계에서 보면 수식의 유사성으로 인하여 관성과 질량의 개념을 차입해서 사용합니다.  \n",
    "여기서 물리에서 질량은 질점의 질량을 말하기 보다는 바위나, 쇠구슬등의 강체에서 일종의 밀도 개념으로 봐야 합니다. 이것을 질량 밀도 라고 하는게 전체 질량을 무게로 표시합니다. 마찬가지로 가로 질량은 가로의 합을 전체 합으로 나눈 값을 말합니다.\n",
    "통계에서 가로질량 (또는 가로 비중) 은\n",
    "\n",
    "$$\n",
    "row.mass = \\dfrac{row.sum}{grand.total}\n",
    "$$"
   ]
  },
  {
   "cell_type": "code",
   "execution_count": 42,
   "metadata": {},
   "outputs": [
    {
     "data": {
      "text/html": [
       "<dl class=dl-horizontal>\n",
       "\t<dt>Laundry</dt>\n",
       "\t\t<dd>0.100917431192661</dd>\n",
       "\t<dt>Main_meal</dt>\n",
       "\t\t<dd>0.0877293577981651</dd>\n",
       "\t<dt>Dinner</dt>\n",
       "\t\t<dd>0.0619266055045872</dd>\n",
       "\t<dt>Breakfeast</dt>\n",
       "\t\t<dd>0.0802752293577982</dd>\n",
       "\t<dt>Tidying</dt>\n",
       "\t\t<dd>0.069954128440367</dd>\n",
       "\t<dt>Dishes</dt>\n",
       "\t\t<dd>0.0647935779816514</dd>\n",
       "\t<dt>Shopping</dt>\n",
       "\t\t<dd>0.0688073394495413</dd>\n",
       "\t<dt>Official</dt>\n",
       "\t\t<dd>0.055045871559633</dd>\n",
       "\t<dt>Driving</dt>\n",
       "\t\t<dd>0.0797018348623853</dd>\n",
       "\t<dt>Finances</dt>\n",
       "\t\t<dd>0.0647935779816514</dd>\n",
       "\t<dt>Insurance</dt>\n",
       "\t\t<dd>0.0797018348623853</dd>\n",
       "\t<dt>Repairs</dt>\n",
       "\t\t<dd>0.0946100917431193</dd>\n",
       "\t<dt>Holidays</dt>\n",
       "\t\t<dd>0.0917431192660551</dd>\n",
       "</dl>\n"
      ],
      "text/latex": [
       "\\begin{description*}\n",
       "\\item[Laundry] 0.100917431192661\n",
       "\\item[Main\\textbackslash{}\\_meal] 0.0877293577981651\n",
       "\\item[Dinner] 0.0619266055045872\n",
       "\\item[Breakfeast] 0.0802752293577982\n",
       "\\item[Tidying] 0.069954128440367\n",
       "\\item[Dishes] 0.0647935779816514\n",
       "\\item[Shopping] 0.0688073394495413\n",
       "\\item[Official] 0.055045871559633\n",
       "\\item[Driving] 0.0797018348623853\n",
       "\\item[Finances] 0.0647935779816514\n",
       "\\item[Insurance] 0.0797018348623853\n",
       "\\item[Repairs] 0.0946100917431193\n",
       "\\item[Holidays] 0.0917431192660551\n",
       "\\end{description*}\n"
      ],
      "text/markdown": [
       "Laundry\n",
       ":   0.100917431192661Main_meal\n",
       ":   0.0877293577981651Dinner\n",
       ":   0.0619266055045872Breakfeast\n",
       ":   0.0802752293577982Tidying\n",
       ":   0.069954128440367Dishes\n",
       ":   0.0647935779816514Shopping\n",
       ":   0.0688073394495413Official\n",
       ":   0.055045871559633Driving\n",
       ":   0.0797018348623853Finances\n",
       ":   0.0647935779816514Insurance\n",
       ":   0.0797018348623853Repairs\n",
       ":   0.0946100917431193Holidays\n",
       ":   0.0917431192660551\n",
       "\n"
      ],
      "text/plain": [
       "   Laundry  Main_meal     Dinner Breakfeast    Tidying     Dishes   Shopping \n",
       "0.10091743 0.08772936 0.06192661 0.08027523 0.06995413 0.06479358 0.06880734 \n",
       "  Official    Driving   Finances  Insurance    Repairs   Holidays \n",
       "0.05504587 0.07970183 0.06479358 0.07970183 0.09461009 0.09174312 "
      ]
     },
     "metadata": {},
     "output_type": "display_data"
    }
   ],
   "source": [
    "row.sum <- apply(housetasks, 1, sum)\n",
    "grand.total <- sum(housetasks)\n",
    "row.mass <- row.sum / grand.total\n",
    "row.mass"
   ]
  },
  {
   "cell_type": "markdown",
   "metadata": {},
   "source": [
    "가로 관성은 가로 관성모멘트 입니다. 관성모멘트란 한점의 질량이 있을때, 질량에 거리를 곱합 값으로 회전력과 관계가 있습니다. 마찬가지로 통계에서 가로 질량에 원점으로 부터의 거리를 곱한 값으로 정합니다.\n",
    "\n",
    "$$\n",
    "row.inertia = row.mass \\times d^2(row)\n",
    "$$\n",
    "\n",
    "통계에서 가로 또는 세로 관성은 그것을 포함하는 정보의 양이다. 따라서 total inertial (전체관성)은 데이터 테이블이 포함한 전체 관성이라고 할 수 있다."
   ]
  },
  {
   "cell_type": "code",
   "execution_count": 43,
   "metadata": {},
   "outputs": [
    {
     "data": {
      "text/html": [
       "<dl class=dl-horizontal>\n",
       "\t<dt>Laundry</dt>\n",
       "\t\t<dd>0.134159764350788</dd>\n",
       "\t<dt>Main_meal</dt>\n",
       "\t\t<dd>0.0906923467694758</dd>\n",
       "\t<dt>Dinner</dt>\n",
       "\t\t<dd>0.0382463307819461</dd>\n",
       "\t<dt>Breakfeast</dt>\n",
       "\t\t<dd>0.0411236795212246</dd>\n",
       "\t<dt>Tidying</dt>\n",
       "\t\t<dd>0.0246669651422176</dd>\n",
       "\t<dt>Dishes</dt>\n",
       "\t\t<dd>0.0195873246723945</dd>\n",
       "\t<dt>Shopping</dt>\n",
       "\t\t<dd>0.0149701699740106</dd>\n",
       "\t<dt>Official</dt>\n",
       "\t\t<dd>0.0532999964298546</dd>\n",
       "\t<dt>Driving</dt>\n",
       "\t\t<dd>0.10150885149316</dd>\n",
       "\t<dt>Finances</dt>\n",
       "\t\t<dd>0.0295644582159772</dd>\n",
       "\t<dt>Insurance</dt>\n",
       "\t\t<dd>0.0579358424437533</dd>\n",
       "\t<dt>Repairs</dt>\n",
       "\t\t<dd>0.312874106238116</dd>\n",
       "\t<dt>Holidays</dt>\n",
       "\t\t<dd>0.196310643322315</dd>\n",
       "</dl>\n"
      ],
      "text/latex": [
       "\\begin{description*}\n",
       "\\item[Laundry] 0.134159764350788\n",
       "\\item[Main\\textbackslash{}\\_meal] 0.0906923467694758\n",
       "\\item[Dinner] 0.0382463307819461\n",
       "\\item[Breakfeast] 0.0411236795212246\n",
       "\\item[Tidying] 0.0246669651422176\n",
       "\\item[Dishes] 0.0195873246723945\n",
       "\\item[Shopping] 0.0149701699740106\n",
       "\\item[Official] 0.0532999964298546\n",
       "\\item[Driving] 0.10150885149316\n",
       "\\item[Finances] 0.0295644582159772\n",
       "\\item[Insurance] 0.0579358424437533\n",
       "\\item[Repairs] 0.312874106238116\n",
       "\\item[Holidays] 0.196310643322315\n",
       "\\end{description*}\n"
      ],
      "text/markdown": [
       "Laundry\n",
       ":   0.134159764350788Main_meal\n",
       ":   0.0906923467694758Dinner\n",
       ":   0.0382463307819461Breakfeast\n",
       ":   0.0411236795212246Tidying\n",
       ":   0.0246669651422176Dishes\n",
       ":   0.0195873246723945Shopping\n",
       ":   0.0149701699740106Official\n",
       ":   0.0532999964298546Driving\n",
       ":   0.10150885149316Finances\n",
       ":   0.0295644582159772Insurance\n",
       ":   0.0579358424437533Repairs\n",
       ":   0.312874106238116Holidays\n",
       ":   0.196310643322315\n",
       "\n"
      ],
      "text/plain": [
       "   Laundry  Main_meal     Dinner Breakfeast    Tidying     Dishes   Shopping \n",
       "0.13415976 0.09069235 0.03824633 0.04112368 0.02466697 0.01958732 0.01497017 \n",
       "  Official    Driving   Finances  Insurance    Repairs   Holidays \n",
       "0.05330000 0.10150885 0.02956446 0.05793584 0.31287411 0.19631064 "
      ]
     },
     "metadata": {},
     "output_type": "display_data"
    }
   ],
   "source": [
    "row.inertia <- row.mass * d2.row\n",
    "row.inertia"
   ]
  },
  {
   "cell_type": "code",
   "execution_count": 44,
   "metadata": {},
   "outputs": [
    {
     "data": {
      "text/html": [
       "1.11494047935523"
      ],
      "text/latex": [
       "1.11494047935523"
      ],
      "text/markdown": [
       "1.11494047935523"
      ],
      "text/plain": [
       "[1] 1.11494"
      ]
     },
     "metadata": {},
     "output_type": "display_data"
    }
   ],
   "source": [
    "# 총 관성 total inertia\n",
    "sum(row.inertia)"
   ]
  },
  {
   "cell_type": "markdown",
   "metadata": {},
   "source": [
    "### 가로변수 (Row) 정리"
   ]
  },
  {
   "cell_type": "markdown",
   "metadata": {},
   "source": [
    "지금까지 정리한 row 를 테이블로 정리하면 다음과 같습니다."
   ]
  },
  {
   "cell_type": "code",
   "execution_count": 45,
   "metadata": {},
   "outputs": [
    {
     "data": {
      "text/html": [
       "<table>\n",
       "<thead><tr><th></th><th scope=col>d2</th><th scope=col>mass</th><th scope=col>inertia</th></tr></thead>\n",
       "<tbody>\n",
       "\t<tr><th scope=row>Laundry</th><td>1.329</td><td>0.101</td><td>0.134</td></tr>\n",
       "\t<tr><th scope=row>Main_meal</th><td>1.034</td><td>0.088</td><td>0.091</td></tr>\n",
       "\t<tr><th scope=row>Dinner</th><td>0.618</td><td>0.062</td><td>0.038</td></tr>\n",
       "\t<tr><th scope=row>Breakfeast</th><td>0.512</td><td>0.080</td><td>0.041</td></tr>\n",
       "\t<tr><th scope=row>Tidying</th><td>0.353</td><td>0.070</td><td>0.025</td></tr>\n",
       "\t<tr><th scope=row>Dishes</th><td>0.302</td><td>0.065</td><td>0.020</td></tr>\n",
       "\t<tr><th scope=row>Shopping</th><td>0.218</td><td>0.069</td><td>0.015</td></tr>\n",
       "\t<tr><th scope=row>Official</th><td>0.968</td><td>0.055</td><td>0.053</td></tr>\n",
       "\t<tr><th scope=row>Driving</th><td>1.274</td><td>0.080</td><td>0.102</td></tr>\n",
       "\t<tr><th scope=row>Finances</th><td>0.456</td><td>0.065</td><td>0.030</td></tr>\n",
       "\t<tr><th scope=row>Insurance</th><td>0.727</td><td>0.080</td><td>0.058</td></tr>\n",
       "\t<tr><th scope=row>Repairs</th><td>3.307</td><td>0.095</td><td>0.313</td></tr>\n",
       "\t<tr><th scope=row>Holidays</th><td>2.140</td><td>0.092</td><td>0.196</td></tr>\n",
       "</tbody>\n",
       "</table>\n"
      ],
      "text/latex": [
       "\\begin{tabular}{r|lll}\n",
       "  & d2 & mass & inertia\\\\\n",
       "\\hline\n",
       "\tLaundry & 1.329 & 0.101 & 0.134\\\\\n",
       "\tMain\\_meal & 1.034 & 0.088 & 0.091\\\\\n",
       "\tDinner & 0.618 & 0.062 & 0.038\\\\\n",
       "\tBreakfeast & 0.512 & 0.080 & 0.041\\\\\n",
       "\tTidying & 0.353 & 0.070 & 0.025\\\\\n",
       "\tDishes & 0.302 & 0.065 & 0.020\\\\\n",
       "\tShopping & 0.218 & 0.069 & 0.015\\\\\n",
       "\tOfficial & 0.968 & 0.055 & 0.053\\\\\n",
       "\tDriving & 1.274 & 0.080 & 0.102\\\\\n",
       "\tFinances & 0.456 & 0.065 & 0.030\\\\\n",
       "\tInsurance & 0.727 & 0.080 & 0.058\\\\\n",
       "\tRepairs & 3.307 & 0.095 & 0.313\\\\\n",
       "\tHolidays & 2.140 & 0.092 & 0.196\\\\\n",
       "\\end{tabular}\n"
      ],
      "text/markdown": [
       "\n",
       "| <!--/--> | d2 | mass | inertia | \n",
       "|---|---|---|---|---|---|---|---|---|---|---|---|---|\n",
       "| Laundry | 1.329 | 0.101 | 0.134 | \n",
       "| Main_meal | 1.034 | 0.088 | 0.091 | \n",
       "| Dinner | 0.618 | 0.062 | 0.038 | \n",
       "| Breakfeast | 0.512 | 0.080 | 0.041 | \n",
       "| Tidying | 0.353 | 0.070 | 0.025 | \n",
       "| Dishes | 0.302 | 0.065 | 0.020 | \n",
       "| Shopping | 0.218 | 0.069 | 0.015 | \n",
       "| Official | 0.968 | 0.055 | 0.053 | \n",
       "| Driving | 1.274 | 0.080 | 0.102 | \n",
       "| Finances | 0.456 | 0.065 | 0.030 | \n",
       "| Insurance | 0.727 | 0.080 | 0.058 | \n",
       "| Repairs | 3.307 | 0.095 | 0.313 | \n",
       "| Holidays | 2.140 | 0.092 | 0.196 | \n",
       "\n",
       "\n"
      ],
      "text/plain": [
       "           d2    mass  inertia\n",
       "Laundry    1.329 0.101 0.134  \n",
       "Main_meal  1.034 0.088 0.091  \n",
       "Dinner     0.618 0.062 0.038  \n",
       "Breakfeast 0.512 0.080 0.041  \n",
       "Tidying    0.353 0.070 0.025  \n",
       "Dishes     0.302 0.065 0.020  \n",
       "Shopping   0.218 0.069 0.015  \n",
       "Official   0.968 0.055 0.053  \n",
       "Driving    1.274 0.080 0.102  \n",
       "Finances   0.456 0.065 0.030  \n",
       "Insurance  0.727 0.080 0.058  \n",
       "Repairs    3.307 0.095 0.313  \n",
       "Holidays   2.140 0.092 0.196  "
      ]
     },
     "metadata": {},
     "output_type": "display_data"
    }
   ],
   "source": [
    "row <- cbind.data.frame(d2 = d2.row, mass=row.mass, inertia = row.inertia)\n",
    "round(row, 3)"
   ]
  },
  {
   "cell_type": "markdown",
   "metadata": {},
   "source": [
    "## 세로를 나타내는 변수들 "
   ]
  },
  {
   "cell_type": "markdown",
   "metadata": {},
   "source": [
    "### Column profiles (세로변수)\n",
    "\n",
    "Column profile 은 row.profile 처럼 세로들의 주변합과 비율 입니다.\n",
    "\n",
    "$$\n",
    "col.profile = \\dfrac{col}{col.sum}\n",
    "$$\n"
   ]
  },
  {
   "cell_type": "code",
   "execution_count": 55,
   "metadata": {},
   "outputs": [
    {
     "data": {
      "text/html": [
       "<table>\n",
       "<thead><tr><th></th><th scope=col>Wife</th><th scope=col>Alternating</th><th scope=col>Husband</th><th scope=col>Jointly</th></tr></thead>\n",
       "<tbody>\n",
       "\t<tr><th scope=row>Laundry</th><td>0.26000000 </td><td>0.055118110</td><td>0.005249344</td><td>0.007858546</td></tr>\n",
       "\t<tr><th scope=row>Main_meal</th><td>0.20666667 </td><td>0.078740157</td><td>0.013123360</td><td>0.007858546</td></tr>\n",
       "\t<tr><th scope=row>Dinner</th><td>0.12833333 </td><td>0.043307087</td><td>0.018372703</td><td>0.025540275</td></tr>\n",
       "\t<tr><th scope=row>Breakfeast</th><td>0.13666667 </td><td>0.141732283</td><td>0.039370079</td><td>0.013752456</td></tr>\n",
       "\t<tr><th scope=row>Tidying</th><td>0.08833333 </td><td>0.043307087</td><td>0.002624672</td><td>0.111984283</td></tr>\n",
       "\t<tr><th scope=row>Dishes</th><td>0.05333333 </td><td>0.094488189</td><td>0.010498688</td><td>0.104125737</td></tr>\n",
       "\t<tr><th scope=row>Shopping</th><td>0.05500000 </td><td>0.090551181</td><td>0.023622047</td><td>0.108055010</td></tr>\n",
       "\t<tr><th scope=row>Official</th><td>0.02000000 </td><td>0.181102362</td><td>0.060367454</td><td>0.029469548</td></tr>\n",
       "\t<tr><th scope=row>Driving</th><td>0.01666667 </td><td>0.200787402</td><td>0.196850394</td><td>0.005893910</td></tr>\n",
       "\t<tr><th scope=row>Finances</th><td>0.02166667 </td><td>0.051181102</td><td>0.055118110</td><td>0.129666012</td></tr>\n",
       "\t<tr><th scope=row>Insurance</th><td>0.01333333 </td><td>0.003937008</td><td>0.139107612</td><td>0.151277014</td></tr>\n",
       "\t<tr><th scope=row>Repairs</th><td>0.00000000 </td><td>0.011811024</td><td>0.419947507</td><td>0.003929273</td></tr>\n",
       "\t<tr><th scope=row>Holidays</th><td>0.00000000 </td><td>0.003937008</td><td>0.015748031</td><td>0.300589391</td></tr>\n",
       "</tbody>\n",
       "</table>\n"
      ],
      "text/latex": [
       "\\begin{tabular}{r|llll}\n",
       "  & Wife & Alternating & Husband & Jointly\\\\\n",
       "\\hline\n",
       "\tLaundry & 0.26000000  & 0.055118110 & 0.005249344 & 0.007858546\\\\\n",
       "\tMain\\_meal & 0.20666667  & 0.078740157 & 0.013123360 & 0.007858546\\\\\n",
       "\tDinner & 0.12833333  & 0.043307087 & 0.018372703 & 0.025540275\\\\\n",
       "\tBreakfeast & 0.13666667  & 0.141732283 & 0.039370079 & 0.013752456\\\\\n",
       "\tTidying & 0.08833333  & 0.043307087 & 0.002624672 & 0.111984283\\\\\n",
       "\tDishes & 0.05333333  & 0.094488189 & 0.010498688 & 0.104125737\\\\\n",
       "\tShopping & 0.05500000  & 0.090551181 & 0.023622047 & 0.108055010\\\\\n",
       "\tOfficial & 0.02000000  & 0.181102362 & 0.060367454 & 0.029469548\\\\\n",
       "\tDriving & 0.01666667  & 0.200787402 & 0.196850394 & 0.005893910\\\\\n",
       "\tFinances & 0.02166667  & 0.051181102 & 0.055118110 & 0.129666012\\\\\n",
       "\tInsurance & 0.01333333  & 0.003937008 & 0.139107612 & 0.151277014\\\\\n",
       "\tRepairs & 0.00000000  & 0.011811024 & 0.419947507 & 0.003929273\\\\\n",
       "\tHolidays & 0.00000000  & 0.003937008 & 0.015748031 & 0.300589391\\\\\n",
       "\\end{tabular}\n"
      ],
      "text/markdown": [
       "\n",
       "| <!--/--> | Wife | Alternating | Husband | Jointly | \n",
       "|---|---|---|---|---|---|---|---|---|---|---|---|---|\n",
       "| Laundry | 0.26000000  | 0.055118110 | 0.005249344 | 0.007858546 | \n",
       "| Main_meal | 0.20666667  | 0.078740157 | 0.013123360 | 0.007858546 | \n",
       "| Dinner | 0.12833333  | 0.043307087 | 0.018372703 | 0.025540275 | \n",
       "| Breakfeast | 0.13666667  | 0.141732283 | 0.039370079 | 0.013752456 | \n",
       "| Tidying | 0.08833333  | 0.043307087 | 0.002624672 | 0.111984283 | \n",
       "| Dishes | 0.05333333  | 0.094488189 | 0.010498688 | 0.104125737 | \n",
       "| Shopping | 0.05500000  | 0.090551181 | 0.023622047 | 0.108055010 | \n",
       "| Official | 0.02000000  | 0.181102362 | 0.060367454 | 0.029469548 | \n",
       "| Driving | 0.01666667  | 0.200787402 | 0.196850394 | 0.005893910 | \n",
       "| Finances | 0.02166667  | 0.051181102 | 0.055118110 | 0.129666012 | \n",
       "| Insurance | 0.01333333  | 0.003937008 | 0.139107612 | 0.151277014 | \n",
       "| Repairs | 0.00000000  | 0.011811024 | 0.419947507 | 0.003929273 | \n",
       "| Holidays | 0.00000000  | 0.003937008 | 0.015748031 | 0.300589391 | \n",
       "\n",
       "\n"
      ],
      "text/plain": [
       "           Wife       Alternating Husband     Jointly    \n",
       "Laundry    0.26000000 0.055118110 0.005249344 0.007858546\n",
       "Main_meal  0.20666667 0.078740157 0.013123360 0.007858546\n",
       "Dinner     0.12833333 0.043307087 0.018372703 0.025540275\n",
       "Breakfeast 0.13666667 0.141732283 0.039370079 0.013752456\n",
       "Tidying    0.08833333 0.043307087 0.002624672 0.111984283\n",
       "Dishes     0.05333333 0.094488189 0.010498688 0.104125737\n",
       "Shopping   0.05500000 0.090551181 0.023622047 0.108055010\n",
       "Official   0.02000000 0.181102362 0.060367454 0.029469548\n",
       "Driving    0.01666667 0.200787402 0.196850394 0.005893910\n",
       "Finances   0.02166667 0.051181102 0.055118110 0.129666012\n",
       "Insurance  0.01333333 0.003937008 0.139107612 0.151277014\n",
       "Repairs    0.00000000 0.011811024 0.419947507 0.003929273\n",
       "Holidays   0.00000000 0.003937008 0.015748031 0.300589391"
      ]
     },
     "metadata": {},
     "output_type": "display_data"
    },
    {
     "name": "stdout",
     "output_type": "stream",
     "text": [
      "col.profile 합= 1 \n",
      "\n"
     ]
    }
   ],
   "source": [
    "col.profile <- t(housetasks) / col.sum\n",
    "col.profile <- as.data.frame(t(col.profile))\n",
    "\n",
    "col.profile\n",
    "cat(\"col.profile 합=\", sum(col.profile)/dim(col.profile)[2], \"\\n\\n\")"
   ]
  },
  {
   "cell_type": "markdown",
   "metadata": {},
   "source": [
    "평균 column profile 은 가로변수들의 합으로 계산합니다.\n",
    "\n",
    "$$\n",
    "average.cp = \\dfrac{row.sum}{grand.total}\n",
    "$$"
   ]
  },
  {
   "cell_type": "code",
   "execution_count": 57,
   "metadata": {},
   "outputs": [
    {
     "data": {
      "text/html": [
       "<dl class=dl-horizontal>\n",
       "\t<dt>Laundry</dt>\n",
       "\t\t<dd>176</dd>\n",
       "\t<dt>Main_meal</dt>\n",
       "\t\t<dd>153</dd>\n",
       "\t<dt>Dinner</dt>\n",
       "\t\t<dd>108</dd>\n",
       "\t<dt>Breakfeast</dt>\n",
       "\t\t<dd>140</dd>\n",
       "\t<dt>Tidying</dt>\n",
       "\t\t<dd>122</dd>\n",
       "\t<dt>Dishes</dt>\n",
       "\t\t<dd>113</dd>\n",
       "\t<dt>Shopping</dt>\n",
       "\t\t<dd>120</dd>\n",
       "\t<dt>Official</dt>\n",
       "\t\t<dd>96</dd>\n",
       "\t<dt>Driving</dt>\n",
       "\t\t<dd>139</dd>\n",
       "\t<dt>Finances</dt>\n",
       "\t\t<dd>113</dd>\n",
       "\t<dt>Insurance</dt>\n",
       "\t\t<dd>139</dd>\n",
       "\t<dt>Repairs</dt>\n",
       "\t\t<dd>165</dd>\n",
       "\t<dt>Holidays</dt>\n",
       "\t\t<dd>160</dd>\n",
       "</dl>\n"
      ],
      "text/latex": [
       "\\begin{description*}\n",
       "\\item[Laundry] 176\n",
       "\\item[Main\\textbackslash{}\\_meal] 153\n",
       "\\item[Dinner] 108\n",
       "\\item[Breakfeast] 140\n",
       "\\item[Tidying] 122\n",
       "\\item[Dishes] 113\n",
       "\\item[Shopping] 120\n",
       "\\item[Official] 96\n",
       "\\item[Driving] 139\n",
       "\\item[Finances] 113\n",
       "\\item[Insurance] 139\n",
       "\\item[Repairs] 165\n",
       "\\item[Holidays] 160\n",
       "\\end{description*}\n"
      ],
      "text/markdown": [
       "Laundry\n",
       ":   176Main_meal\n",
       ":   153Dinner\n",
       ":   108Breakfeast\n",
       ":   140Tidying\n",
       ":   122Dishes\n",
       ":   113Shopping\n",
       ":   120Official\n",
       ":   96Driving\n",
       ":   139Finances\n",
       ":   113Insurance\n",
       ":   139Repairs\n",
       ":   165Holidays\n",
       ":   160\n",
       "\n"
      ],
      "text/plain": [
       "   Laundry  Main_meal     Dinner Breakfeast    Tidying     Dishes   Shopping \n",
       "       176        153        108        140        122        113        120 \n",
       "  Official    Driving   Finances  Insurance    Repairs   Holidays \n",
       "        96        139        113        139        165        160 "
      ]
     },
     "metadata": {},
     "output_type": "display_data"
    }
   ],
   "source": [
    "# Row sums\n",
    "row.sum <- apply(housetasks, 1, sum)\n",
    "row.sum"
   ]
  },
  {
   "cell_type": "code",
   "execution_count": 58,
   "metadata": {},
   "outputs": [
    {
     "data": {
      "text/html": [
       "<dl class=dl-horizontal>\n",
       "\t<dt>Laundry</dt>\n",
       "\t\t<dd>0.100917431192661</dd>\n",
       "\t<dt>Main_meal</dt>\n",
       "\t\t<dd>0.0877293577981651</dd>\n",
       "\t<dt>Dinner</dt>\n",
       "\t\t<dd>0.0619266055045872</dd>\n",
       "\t<dt>Breakfeast</dt>\n",
       "\t\t<dd>0.0802752293577982</dd>\n",
       "\t<dt>Tidying</dt>\n",
       "\t\t<dd>0.069954128440367</dd>\n",
       "\t<dt>Dishes</dt>\n",
       "\t\t<dd>0.0647935779816514</dd>\n",
       "\t<dt>Shopping</dt>\n",
       "\t\t<dd>0.0688073394495413</dd>\n",
       "\t<dt>Official</dt>\n",
       "\t\t<dd>0.055045871559633</dd>\n",
       "\t<dt>Driving</dt>\n",
       "\t\t<dd>0.0797018348623853</dd>\n",
       "\t<dt>Finances</dt>\n",
       "\t\t<dd>0.0647935779816514</dd>\n",
       "\t<dt>Insurance</dt>\n",
       "\t\t<dd>0.0797018348623853</dd>\n",
       "\t<dt>Repairs</dt>\n",
       "\t\t<dd>0.0946100917431193</dd>\n",
       "\t<dt>Holidays</dt>\n",
       "\t\t<dd>0.0917431192660551</dd>\n",
       "</dl>\n"
      ],
      "text/latex": [
       "\\begin{description*}\n",
       "\\item[Laundry] 0.100917431192661\n",
       "\\item[Main\\textbackslash{}\\_meal] 0.0877293577981651\n",
       "\\item[Dinner] 0.0619266055045872\n",
       "\\item[Breakfeast] 0.0802752293577982\n",
       "\\item[Tidying] 0.069954128440367\n",
       "\\item[Dishes] 0.0647935779816514\n",
       "\\item[Shopping] 0.0688073394495413\n",
       "\\item[Official] 0.055045871559633\n",
       "\\item[Driving] 0.0797018348623853\n",
       "\\item[Finances] 0.0647935779816514\n",
       "\\item[Insurance] 0.0797018348623853\n",
       "\\item[Repairs] 0.0946100917431193\n",
       "\\item[Holidays] 0.0917431192660551\n",
       "\\end{description*}\n"
      ],
      "text/markdown": [
       "Laundry\n",
       ":   0.100917431192661Main_meal\n",
       ":   0.0877293577981651Dinner\n",
       ":   0.0619266055045872Breakfeast\n",
       ":   0.0802752293577982Tidying\n",
       ":   0.069954128440367Dishes\n",
       ":   0.0647935779816514Shopping\n",
       ":   0.0688073394495413Official\n",
       ":   0.055045871559633Driving\n",
       ":   0.0797018348623853Finances\n",
       ":   0.0647935779816514Insurance\n",
       ":   0.0797018348623853Repairs\n",
       ":   0.0946100917431193Holidays\n",
       ":   0.0917431192660551\n",
       "\n"
      ],
      "text/plain": [
       "   Laundry  Main_meal     Dinner Breakfeast    Tidying     Dishes   Shopping \n",
       "0.10091743 0.08772936 0.06192661 0.08027523 0.06995413 0.06479358 0.06880734 \n",
       "  Official    Driving   Finances  Insurance    Repairs   Holidays \n",
       "0.05504587 0.07970183 0.06479358 0.07970183 0.09461009 0.09174312 "
      ]
     },
     "metadata": {},
     "output_type": "display_data"
    }
   ],
   "source": [
    "# 평균 세로 프로파일 = 가로합 / 합\n",
    "average.cp <- row.sum / n\n",
    "average.cp"
   ]
  },
  {
   "cell_type": "markdown",
   "metadata": {},
   "source": [
    "### 컬럼 프로파일 사이 거리 (유사도) \n",
    "\n",
    "세로 열들을 비교 하려면, 가로열 비교 하듯이 거리를 다음과 같이 정의 하여 계량적으로 비교한다.\n",
    "\n",
    "$$\n",
    "d^2(col1, col2) = \\sum \\dfrac{(col.profile1 - col.profile2)^2}{average.profile}\n",
    "$$\n",
    "\n",
    "예를 들면\n",
    "$$\n",
    "d^2(Wife, Husband) = \\dfrac{(0.26 - 0.005)^2}{0.10} + \\dfrac{(0.21 - 0.013)^2}{0.09} + \\cdots + \\cdots = 4.05\n",
    "$$"
   ]
  },
  {
   "cell_type": "code",
   "execution_count": 59,
   "metadata": {},
   "outputs": [
    {
     "data": {
      "text/html": [
       "4.0503108362568"
      ],
      "text/latex": [
       "4.0503108362568"
      ],
      "text/markdown": [
       "4.0503108362568"
      ],
      "text/plain": [
       "[1] 4.050311"
      ]
     },
     "metadata": {},
     "output_type": "display_data"
    }
   ],
   "source": [
    "# Wife 와 Husband 프로파일\n",
    "wife.p <- col.profile[\"Wife\"]\n",
    "husband.p <- col.profile[\"Husband\"]\n",
    "\n",
    "# Wife 와 Husband 사이거리\n",
    "d2 <- sum(((wife.p - husband.p)^2)/average.cp)\n",
    "d2"
   ]
  },
  {
   "cell_type": "markdown",
   "metadata": {},
   "source": [
    "### 각 세로 프로파일 (column profile) 과 평균 세로 프로파일 사이 거리"
   ]
  },
  {
   "cell_type": "markdown",
   "metadata": {},
   "source": [
    "$$\n",
    "d^2(col_i, average.profile) = \\sum \\dfrac{(col.profile_i - average.profile)^2}{average.profile}\n",
    "$$"
   ]
  },
  {
   "cell_type": "code",
   "execution_count": 60,
   "metadata": {},
   "outputs": [
    {
     "data": {
      "text/html": [
       "<dl class=dl-horizontal>\n",
       "\t<dt>Wife</dt>\n",
       "\t\t<dd>0.875</dd>\n",
       "\t<dt>Alternating</dt>\n",
       "\t\t<dd>0.809</dd>\n",
       "\t<dt>Husband</dt>\n",
       "\t\t<dd>1.746</dd>\n",
       "\t<dt>Jointly</dt>\n",
       "\t\t<dd>1.078</dd>\n",
       "</dl>\n"
      ],
      "text/latex": [
       "\\begin{description*}\n",
       "\\item[Wife] 0.875\n",
       "\\item[Alternating] 0.809\n",
       "\\item[Husband] 1.746\n",
       "\\item[Jointly] 1.078\n",
       "\\end{description*}\n"
      ],
      "text/markdown": [
       "Wife\n",
       ":   0.875Alternating\n",
       ":   0.809Husband\n",
       ":   1.746Jointly\n",
       ":   1.078\n",
       "\n"
      ],
      "text/plain": [
       "       Wife Alternating     Husband     Jointly \n",
       "      0.875       0.809       1.746       1.078 "
      ]
     },
     "metadata": {},
     "output_type": "display_data"
    }
   ],
   "source": [
    "d2.col <- apply(col.profile, 2, \n",
    "               function(col.p, av.p){sum(((col.p - av.p)^2)/av.p)},\n",
    "               average.cp)\n",
    "round(d2.col, 3)"
   ]
  },
  {
   "cell_type": "markdown",
   "metadata": {},
   "source": [
    "### 거리 행렬 (Distance matrix)"
   ]
  },
  {
   "cell_type": "code",
   "execution_count": 61,
   "metadata": {},
   "outputs": [
    {
     "data": {
      "text/html": [
       "<table>\n",
       "<thead><tr><th></th><th scope=col>Wife</th><th scope=col>Alternating</th><th scope=col>Husband</th><th scope=col>Jointly</th></tr></thead>\n",
       "<tbody>\n",
       "\t<tr><th scope=row>Wife</th><td>0.00</td><td>1.71</td><td>4.05</td><td>2.93</td></tr>\n",
       "\t<tr><th scope=row>Alternating</th><td>1.71</td><td>0.00</td><td>2.67</td><td>2.58</td></tr>\n",
       "\t<tr><th scope=row>Husband</th><td>4.05</td><td>2.67</td><td>0.00</td><td>3.70</td></tr>\n",
       "\t<tr><th scope=row>Jointly</th><td>2.93</td><td>2.58</td><td>3.70</td><td>0.00</td></tr>\n",
       "</tbody>\n",
       "</table>\n"
      ],
      "text/latex": [
       "\\begin{tabular}{r|llll}\n",
       "  & Wife & Alternating & Husband & Jointly\\\\\n",
       "\\hline\n",
       "\tWife & 0.00 & 1.71 & 4.05 & 2.93\\\\\n",
       "\tAlternating & 1.71 & 0.00 & 2.67 & 2.58\\\\\n",
       "\tHusband & 4.05 & 2.67 & 0.00 & 3.70\\\\\n",
       "\tJointly & 2.93 & 2.58 & 3.70 & 0.00\\\\\n",
       "\\end{tabular}\n"
      ],
      "text/markdown": [
       "\n",
       "| <!--/--> | Wife | Alternating | Husband | Jointly | \n",
       "|---|---|---|---|\n",
       "| Wife | 0.00 | 1.71 | 4.05 | 2.93 | \n",
       "| Alternating | 1.71 | 0.00 | 2.67 | 2.58 | \n",
       "| Husband | 4.05 | 2.67 | 0.00 | 3.70 | \n",
       "| Jointly | 2.93 | 2.58 | 3.70 | 0.00 | \n",
       "\n",
       "\n"
      ],
      "text/plain": [
       "            Wife Alternating Husband Jointly\n",
       "Wife        0.00 1.71        4.05    2.93   \n",
       "Alternating 1.71 0.00        2.67    2.58   \n",
       "Husband     4.05 2.67        0.00    3.70   \n",
       "Jointly     2.93 2.58        3.70    0.00   "
      ]
     },
     "metadata": {},
     "output_type": "display_data"
    }
   ],
   "source": [
    "dist.mat <- dist.matrix(t(col.profile), average.cp)\n",
    "dist.mat <- round(dist.mat, 2)\n",
    "dist.mat"
   ]
  },
  {
   "cell_type": "code",
   "execution_count": 62,
   "metadata": {},
   "outputs": [
    {
     "data": {
      "image/png": "[encoded data removed]",
      "text/plain": [
       "Plot with title “”"
      ]
     },
     "metadata": {},
     "output_type": "display_data"
    }
   ],
   "source": [
    "# 행렬을 그래프로 표시\n",
    "library(corrplot)\n",
    "corrplot(dist.mat, type = \"upper\", order = \"hclust\", is.corr = F)"
   ]
  },
  {
   "cell_type": "markdown",
   "metadata": {},
   "source": [
    "### 세로질량 과 관성 (Column mass and Inertia)\n",
    "\n",
    "세로질량 (또는 세로 비중)은 다음처럼 정의 합니다.\n",
    "\n",
    "$$\n",
    "col.mass = \\dfrac{col.mass}{grand.total}\n",
    "$$"
   ]
  },
  {
   "cell_type": "code",
   "execution_count": 63,
   "metadata": {},
   "outputs": [
    {
     "data": {
      "text/html": [
       "<dl class=dl-horizontal>\n",
       "\t<dt>Wife</dt>\n",
       "\t\t<dd>0.344036697247706</dd>\n",
       "\t<dt>Alternating</dt>\n",
       "\t\t<dd>0.145642201834862</dd>\n",
       "\t<dt>Husband</dt>\n",
       "\t\t<dd>0.218463302752294</dd>\n",
       "\t<dt>Jointly</dt>\n",
       "\t\t<dd>0.291857798165138</dd>\n",
       "</dl>\n"
      ],
      "text/latex": [
       "\\begin{description*}\n",
       "\\item[Wife] 0.344036697247706\n",
       "\\item[Alternating] 0.145642201834862\n",
       "\\item[Husband] 0.218463302752294\n",
       "\\item[Jointly] 0.291857798165138\n",
       "\\end{description*}\n"
      ],
      "text/markdown": [
       "Wife\n",
       ":   0.344036697247706Alternating\n",
       ":   0.145642201834862Husband\n",
       ":   0.218463302752294Jointly\n",
       ":   0.291857798165138\n",
       "\n"
      ],
      "text/plain": [
       "       Wife Alternating     Husband     Jointly \n",
       "  0.3440367   0.1456422   0.2184633   0.2918578 "
      ]
     },
     "metadata": {},
     "output_type": "display_data"
    }
   ],
   "source": [
    "col.sum <- apply(housetasks, 2, sum)\n",
    "grand.total <- sum(housetasks)\n",
    "col.mass <- col.sum/grand.total\n",
    "col.mass"
   ]
  },
  {
   "cell_type": "markdown",
   "metadata": {},
   "source": [
    "세로 관성 (column inertia) 는 세로질량 에 평균 세로 프로파일의 제곱과 곱이다.\n",
    "\n",
    "$$\n",
    "col.inertial = col.mass \\times d^2(col)\n",
    "$$"
   ]
  },
  {
   "cell_type": "code",
   "execution_count": 64,
   "metadata": {},
   "outputs": [
    {
     "data": {
      "text/html": [
       "<dl class=dl-horizontal>\n",
       "\t<dt>Wife</dt>\n",
       "\t\t<dd>0.301018548216505</dd>\n",
       "\t<dt>Alternating</dt>\n",
       "\t\t<dd>0.117824224242952</dd>\n",
       "\t<dt>Husband</dt>\n",
       "\t\t<dd>0.381372938314095</dd>\n",
       "\t<dt>Jointly</dt>\n",
       "\t\t<dd>0.314724768581682</dd>\n",
       "</dl>\n"
      ],
      "text/latex": [
       "\\begin{description*}\n",
       "\\item[Wife] 0.301018548216505\n",
       "\\item[Alternating] 0.117824224242952\n",
       "\\item[Husband] 0.381372938314095\n",
       "\\item[Jointly] 0.314724768581682\n",
       "\\end{description*}\n"
      ],
      "text/markdown": [
       "Wife\n",
       ":   0.301018548216505Alternating\n",
       ":   0.117824224242952Husband\n",
       ":   0.381372938314095Jointly\n",
       ":   0.314724768581682\n",
       "\n"
      ],
      "text/plain": [
       "       Wife Alternating     Husband     Jointly \n",
       "  0.3010185   0.1178242   0.3813729   0.3147248 "
      ]
     },
     "metadata": {},
     "output_type": "display_data"
    }
   ],
   "source": [
    "col.inertia <- col.mass * d2.col\n",
    "col.inertia"
   ]
  },
  {
   "cell_type": "code",
   "execution_count": 65,
   "metadata": {},
   "outputs": [
    {
     "data": {
      "text/html": [
       "1.11494047935523"
      ],
      "text/latex": [
       "1.11494047935523"
      ],
      "text/markdown": [
       "1.11494047935523"
      ],
      "text/plain": [
       "[1] 1.11494"
      ]
     },
     "metadata": {},
     "output_type": "display_data"
    }
   ],
   "source": [
    "# inertial 합은\n",
    "sum(col.inertia)"
   ]
  },
  {
   "cell_type": "markdown",
   "metadata": {},
   "source": [
    "### 세로 변수 정리"
   ]
  },
  {
   "cell_type": "code",
   "execution_count": 66,
   "metadata": {},
   "outputs": [
    {
     "data": {
      "text/html": [
       "<table>\n",
       "<thead><tr><th></th><th scope=col>d2</th><th scope=col>mass</th><th scope=col>inertia</th></tr></thead>\n",
       "<tbody>\n",
       "\t<tr><th scope=row>Wife</th><td>0.875</td><td>0.344</td><td>0.301</td></tr>\n",
       "\t<tr><th scope=row>Alternating</th><td>0.809</td><td>0.146</td><td>0.118</td></tr>\n",
       "\t<tr><th scope=row>Husband</th><td>1.746</td><td>0.218</td><td>0.381</td></tr>\n",
       "\t<tr><th scope=row>Jointly</th><td>1.078</td><td>0.292</td><td>0.315</td></tr>\n",
       "</tbody>\n",
       "</table>\n"
      ],
      "text/latex": [
       "\\begin{tabular}{r|lll}\n",
       "  & d2 & mass & inertia\\\\\n",
       "\\hline\n",
       "\tWife & 0.875 & 0.344 & 0.301\\\\\n",
       "\tAlternating & 0.809 & 0.146 & 0.118\\\\\n",
       "\tHusband & 1.746 & 0.218 & 0.381\\\\\n",
       "\tJointly & 1.078 & 0.292 & 0.315\\\\\n",
       "\\end{tabular}\n"
      ],
      "text/markdown": [
       "\n",
       "| <!--/--> | d2 | mass | inertia | \n",
       "|---|---|---|---|\n",
       "| Wife | 0.875 | 0.344 | 0.301 | \n",
       "| Alternating | 0.809 | 0.146 | 0.118 | \n",
       "| Husband | 1.746 | 0.218 | 0.381 | \n",
       "| Jointly | 1.078 | 0.292 | 0.315 | \n",
       "\n",
       "\n"
      ],
      "text/plain": [
       "            d2    mass  inertia\n",
       "Wife        0.875 0.344 0.301  \n",
       "Alternating 0.809 0.146 0.118  \n",
       "Husband     1.746 0.218 0.381  \n",
       "Jointly     1.078 0.292 0.315  "
      ]
     },
     "metadata": {},
     "output_type": "display_data"
    }
   ],
   "source": [
    "col <- cbind.data.frame(d2 = d2.col, mass = col.mass, inertia = col.inertia)\n",
    "round(col, 3)"
   ]
  },
  {
   "cell_type": "markdown",
   "metadata": {},
   "source": [
    "## 가로변수와 세로변수 연관 (Association between row and column variables)"
   ]
  },
  {
   "cell_type": "markdown",
   "metadata": {},
   "source": [
    "교차표 가 작을 경우 쉽게 그래프로 가로, 세로 프로파일을 파악 할 수 있다. 위의 예를 보면\n",
    "* 집안일 경우 세탁, 메인식사, 저녁 이 주로 주부에 의해서 행해진다.\n",
    "* 수리와 운전은 남편에 의해서 행해진다.\n",
    "* 휴일에는 종종 공동으로 집안일을 한다.\n",
    "\n",
    "그러나 큰 교차표에서는 그래프로 한눈에 파악이 쉽지 않습니다. 따라서 분석하기 위한 여러 과정이 있습니다.  \n",
    "\n",
    "이중에서 카이 제곱 테스트 독립성 검정이 좋은 방법 중에 하나입니다."
   ]
  },
  {
   "cell_type": "markdown",
   "metadata": {},
   "source": [
    "### 카이제곱 검정 (Chi-square test)"
   ]
  },
  {
   "cell_type": "markdown",
   "metadata": {},
   "source": [
    "**카이제곱 검정** 은 교차표에서 통계적으로 유의한 관계가 있는지를 검정 하는 기법입니다.\n",
    "* 영가설(귀무가설) $(H_0)$ : 교차표에서 가로, 세로 변수가 독립적이다.\n",
    "* 대립가설 : $(H_1)$ : 가로 세로 변수가 종속적이다.\n",
    "\n",
    "따라서 영가설 가정하에, 교차표 각 항목에 예상 값을 계산합니다. 예상값은 다음과 같이 계산합니다.\n",
    "\n",
    "$$\n",
    "e = \\dfrac{row.sum * col.sum}{grand.total}\n",
    "$$\n",
    "\n",
    "카이제곱 통계량은 \n",
    "$$\n",
    "\\chi^2 = \\sum \\dfrac{(o - e)^2}{e}\n",
    "$$\n",
    "\n",
    "* o : 관측 값\n",
    "* e : 예측 값\n",
    "\n",
    "\n",
    "카이제곱 통계량은 유의값 과 자유도 를 이용하여 비교합니다.\n",
    "* 유의값 p = 0.05\n",
    "* 자유도 $df = (r - 1)(c -1)$ 입니다.\n",
    "   * r : 교차표에서 가로줄 곗수\n",
    "   * c : 교차표에서 세로줄 갯수\n",
    "   \n",
    "카이제곱 통계량이 유의값 보다 작으면 교차표의 가로 세로 변수는 서로 독립적이지 않다. \n",
    "* 참고로 교차표의 각 셀에서 빈도 값은 5보다는 커야 합니다.\n",
    "\n",
    "R 에선 카이제곱 검정 함수 chisq.test() 를 제공합니다."
   ]
  },
  {
   "cell_type": "code",
   "execution_count": 67,
   "metadata": {},
   "outputs": [
    {
     "data": {
      "text/plain": [
       "\n",
       "\tPearson's Chi-squared test\n",
       "\n",
       "data:  housetasks\n",
       "X-squared = 1944.5, df = 36, p-value < 2.2e-16\n"
      ]
     },
     "metadata": {},
     "output_type": "display_data"
    }
   ],
   "source": [
    "chisq <- chisq.test(housetasks)\n",
    "chisq"
   ]
  },
  {
   "cell_type": "markdown",
   "metadata": {},
   "source": [
    "이 예에서 보면, 가로 세로 변수는 p-value 가 거의 0 이므로 유의값 0.5 보다 작다. 따라서 집안일과 부부역활은 매우 밀접한 관계가 있다고 할 수 있다.\n",
    "\n",
    "카이제곱 통계량은 1944.5 입니다.\n",
    "\n",
    "관측 과 예측된 값을 살펴보면"
   ]
  },
  {
   "cell_type": "code",
   "execution_count": 68,
   "metadata": {},
   "outputs": [
    {
     "data": {
      "text/html": [
       "<table>\n",
       "<thead><tr><th></th><th scope=col>Wife</th><th scope=col>Alternating</th><th scope=col>Husband</th><th scope=col>Jointly</th></tr></thead>\n",
       "<tbody>\n",
       "\t<tr><th scope=row>Laundry</th><td>156</td><td>14 </td><td>  2</td><td>  4</td></tr>\n",
       "\t<tr><th scope=row>Main_meal</th><td>124</td><td>20 </td><td>  5</td><td>  4</td></tr>\n",
       "\t<tr><th scope=row>Dinner</th><td> 77</td><td>11 </td><td>  7</td><td> 13</td></tr>\n",
       "\t<tr><th scope=row>Breakfeast</th><td> 82</td><td>36 </td><td> 15</td><td>  7</td></tr>\n",
       "\t<tr><th scope=row>Tidying</th><td> 53</td><td>11 </td><td>  1</td><td> 57</td></tr>\n",
       "\t<tr><th scope=row>Dishes</th><td> 32</td><td>24 </td><td>  4</td><td> 53</td></tr>\n",
       "\t<tr><th scope=row>Shopping</th><td> 33</td><td>23 </td><td>  9</td><td> 55</td></tr>\n",
       "\t<tr><th scope=row>Official</th><td> 12</td><td>46 </td><td> 23</td><td> 15</td></tr>\n",
       "\t<tr><th scope=row>Driving</th><td> 10</td><td>51 </td><td> 75</td><td>  3</td></tr>\n",
       "\t<tr><th scope=row>Finances</th><td> 13</td><td>13 </td><td> 21</td><td> 66</td></tr>\n",
       "\t<tr><th scope=row>Insurance</th><td>  8</td><td> 1 </td><td> 53</td><td> 77</td></tr>\n",
       "\t<tr><th scope=row>Repairs</th><td>  0</td><td> 3 </td><td>160</td><td>  2</td></tr>\n",
       "\t<tr><th scope=row>Holidays</th><td>  0</td><td> 1 </td><td>  6</td><td>153</td></tr>\n",
       "</tbody>\n",
       "</table>\n"
      ],
      "text/latex": [
       "\\begin{tabular}{r|llll}\n",
       "  & Wife & Alternating & Husband & Jointly\\\\\n",
       "\\hline\n",
       "\tLaundry & 156 & 14  &   2 &   4\\\\\n",
       "\tMain\\_meal & 124 & 20  &   5 &   4\\\\\n",
       "\tDinner &  77 & 11  &   7 &  13\\\\\n",
       "\tBreakfeast &  82 & 36  &  15 &   7\\\\\n",
       "\tTidying &  53 & 11  &   1 &  57\\\\\n",
       "\tDishes &  32 & 24  &   4 &  53\\\\\n",
       "\tShopping &  33 & 23  &   9 &  55\\\\\n",
       "\tOfficial &  12 & 46  &  23 &  15\\\\\n",
       "\tDriving &  10 & 51  &  75 &   3\\\\\n",
       "\tFinances &  13 & 13  &  21 &  66\\\\\n",
       "\tInsurance &   8 &  1  &  53 &  77\\\\\n",
       "\tRepairs &   0 &  3  & 160 &   2\\\\\n",
       "\tHolidays &   0 &  1  &   6 & 153\\\\\n",
       "\\end{tabular}\n"
      ],
      "text/markdown": [
       "\n",
       "| <!--/--> | Wife | Alternating | Husband | Jointly | \n",
       "|---|---|---|---|---|---|---|---|---|---|---|---|---|\n",
       "| Laundry | 156 | 14  |   2 |   4 | \n",
       "| Main_meal | 124 | 20  |   5 |   4 | \n",
       "| Dinner |  77 | 11  |   7 |  13 | \n",
       "| Breakfeast |  82 | 36  |  15 |   7 | \n",
       "| Tidying |  53 | 11  |   1 |  57 | \n",
       "| Dishes |  32 | 24  |   4 |  53 | \n",
       "| Shopping |  33 | 23  |   9 |  55 | \n",
       "| Official |  12 | 46  |  23 |  15 | \n",
       "| Driving |  10 | 51  |  75 |   3 | \n",
       "| Finances |  13 | 13  |  21 |  66 | \n",
       "| Insurance |   8 |  1  |  53 |  77 | \n",
       "| Repairs |   0 |  3  | 160 |   2 | \n",
       "| Holidays |   0 |  1  |   6 | 153 | \n",
       "\n",
       "\n"
      ],
      "text/plain": [
       "           Wife Alternating Husband Jointly\n",
       "Laundry    156  14            2       4    \n",
       "Main_meal  124  20            5       4    \n",
       "Dinner      77  11            7      13    \n",
       "Breakfeast  82  36           15       7    \n",
       "Tidying     53  11            1      57    \n",
       "Dishes      32  24            4      53    \n",
       "Shopping    33  23            9      55    \n",
       "Official    12  46           23      15    \n",
       "Driving     10  51           75       3    \n",
       "Finances    13  13           21      66    \n",
       "Insurance    8   1           53      77    \n",
       "Repairs      0   3          160       2    \n",
       "Holidays     0   1            6     153    "
      ]
     },
     "metadata": {},
     "output_type": "display_data"
    }
   ],
   "source": [
    "chisq$observed"
   ]
  },
  {
   "cell_type": "code",
   "execution_count": 70,
   "metadata": {},
   "outputs": [
    {
     "data": {
      "text/html": [
       "<table>\n",
       "<thead><tr><th></th><th scope=col>Wife</th><th scope=col>Alternating</th><th scope=col>Husband</th><th scope=col>Jointly</th></tr></thead>\n",
       "<tbody>\n",
       "\t<tr><th scope=row>Laundry</th><td>60.55</td><td>25.63</td><td>38.45</td><td>51.37</td></tr>\n",
       "\t<tr><th scope=row>Main_meal</th><td>52.64</td><td>22.28</td><td>33.42</td><td>44.65</td></tr>\n",
       "\t<tr><th scope=row>Dinner</th><td>37.16</td><td>15.73</td><td>23.59</td><td>31.52</td></tr>\n",
       "\t<tr><th scope=row>Breakfeast</th><td>48.17</td><td>20.39</td><td>30.58</td><td>40.86</td></tr>\n",
       "\t<tr><th scope=row>Tidying</th><td>41.97</td><td>17.77</td><td>26.65</td><td>35.61</td></tr>\n",
       "\t<tr><th scope=row>Dishes</th><td>38.88</td><td>16.46</td><td>24.69</td><td>32.98</td></tr>\n",
       "\t<tr><th scope=row>Shopping</th><td>41.28</td><td>17.48</td><td>26.22</td><td>35.02</td></tr>\n",
       "\t<tr><th scope=row>Official</th><td>33.03</td><td>13.98</td><td>20.97</td><td>28.02</td></tr>\n",
       "\t<tr><th scope=row>Driving</th><td>47.82</td><td>20.24</td><td>30.37</td><td>40.57</td></tr>\n",
       "\t<tr><th scope=row>Finances</th><td>38.88</td><td>16.46</td><td>24.69</td><td>32.98</td></tr>\n",
       "\t<tr><th scope=row>Insurance</th><td>47.82</td><td>20.24</td><td>30.37</td><td>40.57</td></tr>\n",
       "\t<tr><th scope=row>Repairs</th><td>56.77</td><td>24.03</td><td>36.05</td><td>48.16</td></tr>\n",
       "\t<tr><th scope=row>Holidays</th><td>55.05</td><td>23.30</td><td>34.95</td><td>46.70</td></tr>\n",
       "</tbody>\n",
       "</table>\n"
      ],
      "text/latex": [
       "\\begin{tabular}{r|llll}\n",
       "  & Wife & Alternating & Husband & Jointly\\\\\n",
       "\\hline\n",
       "\tLaundry & 60.55 & 25.63 & 38.45 & 51.37\\\\\n",
       "\tMain\\_meal & 52.64 & 22.28 & 33.42 & 44.65\\\\\n",
       "\tDinner & 37.16 & 15.73 & 23.59 & 31.52\\\\\n",
       "\tBreakfeast & 48.17 & 20.39 & 30.58 & 40.86\\\\\n",
       "\tTidying & 41.97 & 17.77 & 26.65 & 35.61\\\\\n",
       "\tDishes & 38.88 & 16.46 & 24.69 & 32.98\\\\\n",
       "\tShopping & 41.28 & 17.48 & 26.22 & 35.02\\\\\n",
       "\tOfficial & 33.03 & 13.98 & 20.97 & 28.02\\\\\n",
       "\tDriving & 47.82 & 20.24 & 30.37 & 40.57\\\\\n",
       "\tFinances & 38.88 & 16.46 & 24.69 & 32.98\\\\\n",
       "\tInsurance & 47.82 & 20.24 & 30.37 & 40.57\\\\\n",
       "\tRepairs & 56.77 & 24.03 & 36.05 & 48.16\\\\\n",
       "\tHolidays & 55.05 & 23.30 & 34.95 & 46.70\\\\\n",
       "\\end{tabular}\n"
      ],
      "text/markdown": [
       "\n",
       "| <!--/--> | Wife | Alternating | Husband | Jointly | \n",
       "|---|---|---|---|---|---|---|---|---|---|---|---|---|\n",
       "| Laundry | 60.55 | 25.63 | 38.45 | 51.37 | \n",
       "| Main_meal | 52.64 | 22.28 | 33.42 | 44.65 | \n",
       "| Dinner | 37.16 | 15.73 | 23.59 | 31.52 | \n",
       "| Breakfeast | 48.17 | 20.39 | 30.58 | 40.86 | \n",
       "| Tidying | 41.97 | 17.77 | 26.65 | 35.61 | \n",
       "| Dishes | 38.88 | 16.46 | 24.69 | 32.98 | \n",
       "| Shopping | 41.28 | 17.48 | 26.22 | 35.02 | \n",
       "| Official | 33.03 | 13.98 | 20.97 | 28.02 | \n",
       "| Driving | 47.82 | 20.24 | 30.37 | 40.57 | \n",
       "| Finances | 38.88 | 16.46 | 24.69 | 32.98 | \n",
       "| Insurance | 47.82 | 20.24 | 30.37 | 40.57 | \n",
       "| Repairs | 56.77 | 24.03 | 36.05 | 48.16 | \n",
       "| Holidays | 55.05 | 23.30 | 34.95 | 46.70 | \n",
       "\n",
       "\n"
      ],
      "text/plain": [
       "           Wife  Alternating Husband Jointly\n",
       "Laundry    60.55 25.63       38.45   51.37  \n",
       "Main_meal  52.64 22.28       33.42   44.65  \n",
       "Dinner     37.16 15.73       23.59   31.52  \n",
       "Breakfeast 48.17 20.39       30.58   40.86  \n",
       "Tidying    41.97 17.77       26.65   35.61  \n",
       "Dishes     38.88 16.46       24.69   32.98  \n",
       "Shopping   41.28 17.48       26.22   35.02  \n",
       "Official   33.03 13.98       20.97   28.02  \n",
       "Driving    47.82 20.24       30.37   40.57  \n",
       "Finances   38.88 16.46       24.69   32.98  \n",
       "Insurance  47.82 20.24       30.37   40.57  \n",
       "Repairs    56.77 24.03       36.05   48.16  \n",
       "Holidays   55.05 23.30       34.95   46.70  "
      ]
     },
     "metadata": {},
     "output_type": "display_data"
    }
   ],
   "source": [
    "# 예측값은 \n",
    "round(chisq$expected, 2)"
   ]
  },
  {
   "cell_type": "markdown",
   "metadata": {},
   "source": [
    "카이제곱 통계량은 1944.5 이다. 그러면 **교차표상의 어떤 항목들이 카이제곱 통계량에 영향을 많이 줄까?**  \n",
    "\n",
    "이것은 다음에 계속 진행합니다."
   ]
  }
 ],
 "metadata": {
  "kernelspec": {
   "display_name": "R",
   "language": "R",
   "name": "ir"
  },
  "language_info": {
   "codemirror_mode": "r",
   "file_extension": ".r",
   "mimetype": "text/x-r-source",
   "name": "R",
   "pygments_lexer": "r",
   "version": "3.4.3"
  }
 },
 "nbformat": 4,
 "nbformat_minor": 2
}
