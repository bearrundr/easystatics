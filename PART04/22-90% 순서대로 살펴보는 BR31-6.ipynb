{
 "cells": [
  {
   "cell_type": "markdown",
   "metadata": {},
   "source": [
    "# <span style=\"color:blue\"> 이토록 쉬운 통계 & R </span>"
   ]
  },
  {
   "cell_type": "markdown",
   "metadata": {},
   "source": [
    "<img src=\"../image/cover.png\" width=\"200\" height=\"400\" align=\"left\">  임경덕 지음"
   ]
  },
  {
   "cell_type": "markdown",
   "metadata": {},
   "source": [
    "## PART 4 데이터 분석 도구, R"
   ]
  },
  {
   "cell_type": "markdown",
   "metadata": {},
   "source": [
    "## 90% 순서대로 살펴보는 BR31-6 (36일차)"
   ]
  },
  {
   "cell_type": "markdown",
   "metadata": {},
   "source": [
    "   * 데이타프로젝트 (http://dataproject.xyz) 또는 (http://cafe.naver.com/dataartproject) 에 미리 저장된 스크립트를 다운 받을 수 있습니다.\n",
    "   * 스크립트를 활용하면 직접 명령어를 입력하지 않고 저장된 명령어들을 실행할 수 있습니다.\n",
    "   * 지금 설치된 R 버젼은 3.4.3 입니다. 제목 BR31 은 Basic R 31 로 3.1 버젼입니다. 그러나 큰 차이는 없을 것 같습니다.\n",
    "   * page 282 subset() 함수부터 계속 진행"
   ]
  },
  {
   "cell_type": "markdown",
   "metadata": {},
   "source": [
    "### 데이터 파일은 dataartproject.xyz 에 있습니다."
   ]
  },
  {
   "cell_type": "code",
   "execution_count": 8,
   "metadata": {},
   "outputs": [],
   "source": [
    "# subway 데이터 로드\n",
    "subway = read.csv(\"Practice/data/subway.csv\")"
   ]
  },
  {
   "cell_type": "code",
   "execution_count": 9,
   "metadata": {},
   "outputs": [],
   "source": [
    "# 변수명 조정\n",
    "names(subway) = c(\"Station\", \"Date\", \"InOut\", paste0(\"H\", 5:25))"
   ]
  },
  {
   "cell_type": "markdown",
   "metadata": {},
   "source": [
    "### subset() 함수로 부분 데이터 선택하기"
   ]
  },
  {
   "cell_type": "code",
   "execution_count": 10,
   "metadata": {},
   "outputs": [],
   "source": [
    "subdata1 = subset(subway, Station %in% c(\"강남(222)\", \"명동(424)\"))"
   ]
  },
  {
   "cell_type": "code",
   "execution_count": 11,
   "metadata": {},
   "outputs": [
    {
     "name": "stdout",
     "output_type": "stream",
     "text": [
      "'data.frame':\t124 obs. of  24 variables:\n",
      " $ Station: Factor w/ 119 levels \"가락시장(340)\",..: 2 2 2 2 2 2 2 2 2 2 ...\n",
      " $ Date   : Factor w/ 31 levels \"2016-12-01\",\"2016-12-02\",..: 1 1 2 2 3 3 4 4 5 5 ...\n",
      " $ InOut  : Factor w/ 2 levels \"승차\",\"하차\": 1 2 1 2 1 2 1 2 1 2 ...\n",
      " $ H5     : num  421 520 420 509 903 320 767 146 373 509 ...\n",
      " $ H6     : num  807 2442 806 2377 907 ...\n",
      " $ H7     : num  2087 6944 1952 6687 809 ...\n",
      " $ H8     : num  3435 15612 3357 15203 1228 ...\n",
      " $ H9     : num  2619 13090 2511 12988 1687 ...\n",
      " $ H10    : num  2343 6066 2298 6256 2248 ...\n",
      " $ H11    : num  2952 4568 3035 5096 3218 ...\n",
      " $ H12    : num  3356 4340 3931 4478 4472 ...\n",
      " $ H13    : num  4835 5396 4957 5805 5693 ...\n",
      " $ H14    : num  4740 4784 5229 5293 6226 ...\n",
      " $ H15    : num  5876 4559 6116 5061 7071 ...\n",
      " $ H16    : num  6389 4619 6723 5432 8459 ...\n",
      " $ H17    : num  8641 6582 9256 7398 9650 ...\n",
      " $ H18    : num  14714 9701 15777 11822 7618 ...\n",
      " $ H19    : num  10351 8178 11210 13295 5721 ...\n",
      " $ H20    : num  7976 3282 8264 5105 5730 ...\n",
      " $ H21    : num  10193 2383 10123 3124 7063 ...\n",
      " $ H22    : num  10206 2103 11160 2640 8467 ...\n",
      " $ H23    : num  4845 1175 7515 1917 4815 ...\n",
      " $ H24    : num  1076 512 2110 899 378 ...\n",
      " $ H25    : num  0 0 3 33 12 28 0 0 0 0 ...\n"
     ]
    }
   ],
   "source": [
    "# 데이터 확인하기\n",
    "str(subdata1)"
   ]
  },
  {
   "cell_type": "code",
   "execution_count": 13,
   "metadata": {},
   "outputs": [],
   "source": [
    "subdata2 = subset(subway, Station %in% c(\"강남(222)\", \"명동(424)\") & Date==\"2016-12-24\")"
   ]
  },
  {
   "cell_type": "code",
   "execution_count": 14,
   "metadata": {},
   "outputs": [
    {
     "name": "stdout",
     "output_type": "stream",
     "text": [
      "'data.frame':\t4 obs. of  24 variables:\n",
      " $ Station: Factor w/ 119 levels \"가락시장(340)\",..: 2 2 37 37\n",
      " $ Date   : Factor w/ 31 levels \"2016-12-01\",\"2016-12-02\",..: 24 24 24 24\n",
      " $ InOut  : Factor w/ 2 levels \"승차\",\"하차\": 1 2 1 2\n",
      " $ H5     : num  1133 356 58 33\n",
      " $ H6     : num  1093 1254 112 529\n",
      " $ H7     : num  760 1264 183 831\n",
      " $ H8     : num  1056 2993 386 1281\n",
      " $ H9     : num  1471 6211 765 2472\n",
      " $ H10    : num  2113 5394 1527 3306\n",
      " $ H11    : num  3176 5733 1709 4276\n",
      " $ H12    : num  4460 6098 2074 5690\n",
      " $ H13    : num  5509 7159 2483 6636\n",
      " $ H14    : num  5883 6537 3025 7463\n",
      " $ H15    : num  6573 6079 3806 7285\n",
      " $ H16    : num  7672 5995 4742 8065\n",
      " $ H17    : num  8170 6118 5802 8345\n",
      " $ H18    : num  6446 6693 6164 7868\n",
      " $ H19    : num  4844 5103 6268 6047\n",
      " $ H20    : num  4667 4303 6423 4118\n",
      " $ H21    : num  5829 4115 7093 3013\n",
      " $ H22    : num  6575 3179 6998 1748\n",
      " $ H23    : num  3848 2204 3818 796\n",
      " $ H24    : num  100 254 3 79\n",
      " $ H25    : num  0 0 0 0\n"
     ]
    }
   ],
   "source": [
    "str(subdata2)"
   ]
  },
  {
   "cell_type": "markdown",
   "metadata": {},
   "source": [
    "   * subdata1 은 강남, 명동 두 역의 데이터 124건의 관측치에 대한 데이타입니다.\n",
    "   * sundata2 는 강남, 명동 두역의 2016년 12월 24일 데이터 4건에 대한 데이터입니다.\n",
    "   \n",
    "   \n",
    "   \n",
    "   * 만일 밤 11 시 이후의 데이터를 구하기 위해선 select 옵션을 사용해서 다음과 같이 선택합니다."
   ]
  },
  {
   "cell_type": "code",
   "execution_count": 15,
   "metadata": {},
   "outputs": [],
   "source": [
    "subdata3 = subset(subway, Station %in% c(\"강남(222)\", \"명동(424)\") & Date==\"2016-12-24\", select=c(Station, InOut, H23, H24, H25))"
   ]
  },
  {
   "cell_type": "code",
   "execution_count": 16,
   "metadata": {},
   "outputs": [
    {
     "data": {
      "text/html": [
       "<table>\n",
       "<thead><tr><th></th><th scope=col>Station</th><th scope=col>InOut</th><th scope=col>H23</th><th scope=col>H24</th><th scope=col>H25</th></tr></thead>\n",
       "<tbody>\n",
       "\t<tr><th scope=row>1969</th><td>강남(222)</td><td>승차     </td><td>3848     </td><td>100      </td><td>0        </td></tr>\n",
       "\t<tr><th scope=row>1970</th><td>강남(222)</td><td>하차     </td><td>2204     </td><td>254      </td><td>0        </td></tr>\n",
       "\t<tr><th scope=row>6743</th><td>명동(424)</td><td>승차     </td><td>3818     </td><td>  3      </td><td>0        </td></tr>\n",
       "\t<tr><th scope=row>6744</th><td>명동(424)</td><td>하차     </td><td> 796     </td><td> 79      </td><td>0        </td></tr>\n",
       "</tbody>\n",
       "</table>\n"
      ],
      "text/latex": [
       "\\begin{tabular}{r|lllll}\n",
       "  & Station & InOut & H23 & H24 & H25\\\\\n",
       "\\hline\n",
       "\t1969 & 강남(222) & 승차      & 3848      & 100       & 0        \\\\\n",
       "\t1970 & 강남(222) & 하차      & 2204      & 254       & 0        \\\\\n",
       "\t6743 & 명동(424) & 승차      & 3818      &   3       & 0        \\\\\n",
       "\t6744 & 명동(424) & 하차      &  796      &  79       & 0        \\\\\n",
       "\\end{tabular}\n"
      ],
      "text/markdown": [
       "\n",
       "| <!--/--> | Station | InOut | H23 | H24 | H25 | \n",
       "|---|---|---|---|\n",
       "| 1969 | 강남(222) | 승차      | 3848      | 100       | 0         | \n",
       "| 1970 | 강남(222) | 하차      | 2204      | 254       | 0         | \n",
       "| 6743 | 명동(424) | 승차      | 3818      |   3       | 0         | \n",
       "| 6744 | 명동(424) | 하차      |  796      |  79       | 0         | \n",
       "\n",
       "\n"
      ],
      "text/plain": [
       "     Station   InOut H23  H24 H25\n",
       "1969 강남(222) 승차  3848 100 0  \n",
       "1970 강남(222) 하차  2204 254 0  \n",
       "6743 명동(424) 승차  3818   3 0  \n",
       "6744 명동(424) 하차   796  79 0  "
      ]
     },
     "metadata": {},
     "output_type": "display_data"
    }
   ],
   "source": [
    "subdata3"
   ]
  },
  {
   "cell_type": "markdown",
   "metadata": {},
   "source": [
    "### dim()/nrow()/length() 로 변수/데이터 크기 확인 하기"
   ]
  },
  {
   "cell_type": "code",
   "execution_count": 18,
   "metadata": {},
   "outputs": [
    {
     "data": {
      "text/html": [
       "<ol class=list-inline>\n",
       "\t<li>124</li>\n",
       "\t<li>24</li>\n",
       "</ol>\n"
      ],
      "text/latex": [
       "\\begin{enumerate*}\n",
       "\\item 124\n",
       "\\item 24\n",
       "\\end{enumerate*}\n"
      ],
      "text/markdown": [
       "1. 124\n",
       "2. 24\n",
       "\n",
       "\n"
      ],
      "text/plain": [
       "[1] 124  24"
      ]
     },
     "metadata": {},
     "output_type": "display_data"
    }
   ],
   "source": [
    "dim(subdata1)"
   ]
  },
  {
   "cell_type": "code",
   "execution_count": 19,
   "metadata": {},
   "outputs": [
    {
     "data": {
      "text/html": [
       "124"
      ],
      "text/latex": [
       "124"
      ],
      "text/markdown": [
       "124"
      ],
      "text/plain": [
       "[1] 124"
      ]
     },
     "metadata": {},
     "output_type": "display_data"
    }
   ],
   "source": [
    "nrow(subdata1)"
   ]
  },
  {
   "cell_type": "code",
   "execution_count": 20,
   "metadata": {},
   "outputs": [
    {
     "data": {
      "text/html": [
       "7378"
      ],
      "text/latex": [
       "7378"
      ],
      "text/markdown": [
       "7378"
      ],
      "text/plain": [
       "[1] 7378"
      ]
     },
     "metadata": {},
     "output_type": "display_data"
    }
   ],
   "source": [
    "length(subway$Station)"
   ]
  },
  {
   "cell_type": "code",
   "execution_count": 21,
   "metadata": {},
   "outputs": [
    {
     "data": {
      "text/html": [
       "119"
      ],
      "text/latex": [
       "119"
      ],
      "text/markdown": [
       "119"
      ],
      "text/plain": [
       "[1] 119"
      ]
     },
     "metadata": {},
     "output_type": "display_data"
    }
   ],
   "source": [
    "length(levels(subway$Station))"
   ]
  },
  {
   "cell_type": "markdown",
   "metadata": {},
   "source": [
    "   * subdata1 에는 124 개의 관측치 와 24개의 변수가 있습니다.\n",
    "   * Subway 의  Station 관측치를 세면 총 7378 개의 관측치가 있습니다.\n",
    "   * 수준을 count 하려면 levels 함수를 이용하여 다음 length 를 구하면 119 개의 Station 이 있습니다."
   ]
  },
  {
   "cell_type": "markdown",
   "metadata": {},
   "source": [
    "### write.csv() 함수를 이용하여 csv 파일로 저장하기"
   ]
  },
  {
   "cell_type": "code",
   "execution_count": 22,
   "metadata": {},
   "outputs": [],
   "source": [
    "# 컬럼 header 를 포함해서\n",
    "write.csv(subdata3, \"Practice/data/result.csv\")"
   ]
  },
  {
   "cell_type": "code",
   "execution_count": 23,
   "metadata": {},
   "outputs": [],
   "source": [
    "# 컬럼 header 를 뺴고\n",
    "write.csv(subdata3, \"Practice/data/result.csv\", row.names=FALSE)"
   ]
  },
  {
   "cell_type": "markdown",
   "metadata": {},
   "source": [
    "### install.packages() 로 패키지 설치 하기"
   ]
  },
  {
   "cell_type": "code",
   "execution_count": 24,
   "metadata": {},
   "outputs": [
    {
     "name": "stdout",
     "output_type": "stream",
     "text": [
      "\n",
      "The downloaded binary packages are in\n",
      "\t/var/folders/3b/1f9v1lwn73q8hwwj6344j9pw0000gn/T//RtmpISUDLk/downloaded_packages\n"
     ]
    }
   ],
   "source": [
    "install.packages(\"ca\")"
   ]
  },
  {
   "cell_type": "markdown",
   "metadata": {},
   "source": [
    "### library() 함수로 패키지 불러오기"
   ]
  },
  {
   "cell_type": "code",
   "execution_count": 26,
   "metadata": {},
   "outputs": [],
   "source": [
    "# 설치한 패키지를 사용하려면 library 함수를 이용하여 패키지를 불러야 합니다.\n",
    "library(ca)"
   ]
  },
  {
   "cell_type": "code",
   "execution_count": 27,
   "metadata": {},
   "outputs": [
    {
     "ename": "ERROR",
     "evalue": "Error in library(cza): there is no package called ‘cza’\n",
     "output_type": "error",
     "traceback": [
      "Error in library(cza): there is no package called ‘cza’\nTraceback:\n",
      "1. library(cza)",
      "2. stop(txt, domain = NA)"
     ]
    }
   ],
   "source": [
    "# 설치하지 않은 패키지를 불룰경우에는 에러 메세지가 나옵니다.\n",
    "library(cza)"
   ]
  },
  {
   "cell_type": "code",
   "execution_count": 28,
   "metadata": {},
   "outputs": [
    {
     "data": {
      "text/html": [
       "<table>\n",
       "<thead><tr><th></th><th scope=col>none</th><th scope=col>light</th><th scope=col>medium</th><th scope=col>heavy</th></tr></thead>\n",
       "<tbody>\n",
       "\t<tr><th scope=row>SM</th><td> 4</td><td> 2</td><td> 3</td><td> 2</td></tr>\n",
       "\t<tr><th scope=row>JM</th><td> 4</td><td> 3</td><td> 7</td><td> 4</td></tr>\n",
       "\t<tr><th scope=row>SE</th><td>25</td><td>10</td><td>12</td><td> 4</td></tr>\n",
       "\t<tr><th scope=row>JE</th><td>18</td><td>24</td><td>33</td><td>13</td></tr>\n",
       "\t<tr><th scope=row>SC</th><td>10</td><td> 6</td><td> 7</td><td> 2</td></tr>\n",
       "</tbody>\n",
       "</table>\n"
      ],
      "text/latex": [
       "\\begin{tabular}{r|llll}\n",
       "  & none & light & medium & heavy\\\\\n",
       "\\hline\n",
       "\tSM &  4 &  2 &  3 &  2\\\\\n",
       "\tJM &  4 &  3 &  7 &  4\\\\\n",
       "\tSE & 25 & 10 & 12 &  4\\\\\n",
       "\tJE & 18 & 24 & 33 & 13\\\\\n",
       "\tSC & 10 &  6 &  7 &  2\\\\\n",
       "\\end{tabular}\n"
      ],
      "text/markdown": [
       "\n",
       "| <!--/--> | none | light | medium | heavy | \n",
       "|---|---|---|---|---|\n",
       "| SM |  4 |  2 |  3 |  2 | \n",
       "| JM |  4 |  3 |  7 |  4 | \n",
       "| SE | 25 | 10 | 12 |  4 | \n",
       "| JE | 18 | 24 | 33 | 13 | \n",
       "| SC | 10 |  6 |  7 |  2 | \n",
       "\n",
       "\n"
      ],
      "text/plain": [
       "   none light medium heavy\n",
       "SM  4    2     3      2   \n",
       "JM  4    3     7      4   \n",
       "SE 25   10    12      4   \n",
       "JE 18   24    33     13   \n",
       "SC 10    6     7      2   "
      ]
     },
     "metadata": {},
     "output_type": "display_data"
    }
   ],
   "source": [
    "# ca 패키지를 불렀으므로 데이터를 확인 할 수 있습니다.\n",
    "smoke"
   ]
  },
  {
   "cell_type": "markdown",
   "metadata": {},
   "source": [
    "지금 까지 31 개의 기본적인 R 연산자, 함수 기능들을 살펴 보았습니다. 다음 부터는 실제 데이터를 이용하여 다양한 분석 예제들을 직접 실행해 보면서 살펴 보겠습니다."
   ]
  }
 ],
 "metadata": {
  "kernelspec": {
   "display_name": "R",
   "language": "R",
   "name": "ir"
  },
  "language_info": {
   "codemirror_mode": "r",
   "file_extension": ".r",
   "mimetype": "text/x-r-source",
   "name": "R",
   "pygments_lexer": "r",
   "version": "3.4.3"
  }
 },
 "nbformat": 4,
 "nbformat_minor": 2
}
