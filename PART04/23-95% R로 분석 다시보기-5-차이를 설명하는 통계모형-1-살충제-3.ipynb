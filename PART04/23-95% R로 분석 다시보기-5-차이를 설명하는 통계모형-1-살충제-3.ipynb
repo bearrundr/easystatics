{
 "cells": [
  {
   "cell_type": "markdown",
   "metadata": {},
   "source": [
    "# <span style=\"color:blue\"> 이토록 쉬운 통계 & R </span>"
   ]
  },
  {
   "cell_type": "markdown",
   "metadata": {},
   "source": [
    "<img src=\"../image/cover.png\" width=\"200\" height=\"400\" align=\"left\">  임경덕 지음"
   ]
  },
  {
   "cell_type": "markdown",
   "metadata": {},
   "source": [
    "## PART 4 데이터 분석 도구, R"
   ]
  },
  {
   "cell_type": "markdown",
   "metadata": {},
   "source": [
    "## 23-95% R로 분석 다시보기-5-차이를 설명하는 통계모형-1-살충제-3 (64일차)"
   ]
  },
  {
   "cell_type": "markdown",
   "metadata": {},
   "source": [
    "   * 데이타프로젝트 (http://dataproject.xyz) 또는 (http://cafe.naver.com/dataartproject) 에 미리 저장된 스크립트를 다운 받을 수 있습니다.\n",
    "   * 스크립트를 활용하면 직접 명령어를 입력하지 않고 저장된 명령어들을 실행할 수 있습니다."
   ]
  },
  {
   "cell_type": "markdown",
   "metadata": {},
   "source": [
    "### 데이터 파일은 dataartproject.xyz 에 있습니다."
   ]
  },
  {
   "cell_type": "markdown",
   "metadata": {},
   "source": [
    "# 차이를 설명하는 간단한 통계모형\n",
    "\n",
    "## 이원분산분석 테스트  -- ANOVA\n"
   ]
  },
  {
   "cell_type": "markdown",
   "metadata": {},
   "source": [
    "이전에 살충제 예제를 가지고 일원 분산 분석을 시행 하였습니다. 이번에는 간단하게 2개의 독립변수를 갖는 분산분석에 대해서 정리하도록 하겠습니다. 저번과 이번을 정리하고 이것을 일반화 하면 다원 분산 분석을 이해하기 쉬울 것 같습니다.\n",
    "\n",
    "http://www.sthda.com/english/wiki/two-way-anova-test-in-r"
   ]
  },
  {
   "cell_type": "markdown",
   "metadata": {},
   "source": [
    "### 이원분산분석 이란?"
   ]
  },
  {
   "cell_type": "markdown",
   "metadata": {},
   "source": [
    "관심변수를 설명하는데, 두개의 독립변수가 동시적으로 영향을 주는 경우 분석 인 경우 이원 분산 분석을 이용합니다. 그룹하는 변수들을 factors 라고 하고 factors 에서 서로 다른 범주들을 levels (수준) 이라고 합니다. 각 factors 에서 수준끼리 결합된 것을 셀 (cell) 이라고 합니다."
   ]
  },
  {
   "cell_type": "markdown",
   "metadata": {},
   "source": [
    "### 이원 분산 분석 검정 영가설"
   ]
  },
  {
   "cell_type": "markdown",
   "metadata": {},
   "source": [
    "이원 분산 분석에 대한 검정 영가설 \n",
    "\n",
    "1. 범주형 변수 A 평균에 대한 차이점이 없다.\n",
    "2. 범주형 변수 B 평균에 대한 차이점이 없다.\n",
    "3. factors A, B 는 서로 독립적이다.\n",
    "\n",
    "이에 대한 대립가설은 \n",
    "1. 1), 2) 에 대한 대립가설은 평균들이 다르다.\n",
    "2. 3) 에 대한 대립가설은 A, B 가 서로 종속적이다.\n"
   ]
  },
  {
   "cell_type": "markdown",
   "metadata": {},
   "source": [
    "### 이원 분산 분석 검정에 대한 가정"
   ]
  },
  {
   "cell_type": "markdown",
   "metadata": {},
   "source": [
    "다른 모든 분산 분석처럼 각 셀에 있는 관측값들은 정규 분포이고 등분산이어야 한다. 따라서 먼저 ANOVA 적용전에 이러한 가정이 맞는지 먼저 확인을 해야 합니다."
   ]
  },
  {
   "cell_type": "markdown",
   "metadata": {},
   "source": [
    "### 데이터 준비"
   ]
  },
  {
   "cell_type": "markdown",
   "metadata": {},
   "source": [
    "다음 데이터는 기니피그의 치아 성장에 대한 비타민 C 의 영향 에 대한 조사 데이터 입니다. R 에 데이터가 준비 되어 있으며, 데이터는 ToothGrowth 입니다."
   ]
  },
  {
   "cell_type": "markdown",
   "metadata": {},
   "source": [
    "데이터는 60마리 기니피그의 상아질모세포 길이 입니다. (odontoblasts: 치아성장을 담당하는 세포). 기니피그는 3가지 비타민 C 용량 (0.5, 1, 2) 중에 하나를 복용하고 비타민 C 형태는 오렌지 쥬스 또는 아스코르빈산(비타민 C 형태로 코팅 VC 로 표시) 입니다."
   ]
  },
  {
   "cell_type": "code",
   "execution_count": 2,
   "metadata": {},
   "outputs": [
    {
     "data": {
      "text/html": [
       "<table>\n",
       "<thead><tr><th scope=col>len</th><th scope=col>supp</th><th scope=col>dose</th></tr></thead>\n",
       "<tbody>\n",
       "\t<tr><td> 4.2</td><td>VC  </td><td>0.5 </td></tr>\n",
       "\t<tr><td>11.5</td><td>VC  </td><td>0.5 </td></tr>\n",
       "\t<tr><td> 7.3</td><td>VC  </td><td>0.5 </td></tr>\n",
       "\t<tr><td> 5.8</td><td>VC  </td><td>0.5 </td></tr>\n",
       "\t<tr><td> 6.4</td><td>VC  </td><td>0.5 </td></tr>\n",
       "\t<tr><td>10.0</td><td>VC  </td><td>0.5 </td></tr>\n",
       "</tbody>\n",
       "</table>\n"
      ],
      "text/latex": [
       "\\begin{tabular}{r|lll}\n",
       " len & supp & dose\\\\\n",
       "\\hline\n",
       "\t  4.2 & VC   & 0.5 \\\\\n",
       "\t 11.5 & VC   & 0.5 \\\\\n",
       "\t  7.3 & VC   & 0.5 \\\\\n",
       "\t  5.8 & VC   & 0.5 \\\\\n",
       "\t  6.4 & VC   & 0.5 \\\\\n",
       "\t 10.0 & VC   & 0.5 \\\\\n",
       "\\end{tabular}\n"
      ],
      "text/markdown": [
       "\n",
       "len | supp | dose | \n",
       "|---|---|---|---|---|---|\n",
       "|  4.2 | VC   | 0.5  | \n",
       "| 11.5 | VC   | 0.5  | \n",
       "|  7.3 | VC   | 0.5  | \n",
       "|  5.8 | VC   | 0.5  | \n",
       "|  6.4 | VC   | 0.5  | \n",
       "| 10.0 | VC   | 0.5  | \n",
       "\n",
       "\n"
      ],
      "text/plain": [
       "  len  supp dose\n",
       "1  4.2 VC   0.5 \n",
       "2 11.5 VC   0.5 \n",
       "3  7.3 VC   0.5 \n",
       "4  5.8 VC   0.5 \n",
       "5  6.4 VC   0.5 \n",
       "6 10.0 VC   0.5 "
      ]
     },
     "metadata": {},
     "output_type": "display_data"
    }
   ],
   "source": [
    "my_data <- ToothGrowth\n",
    "head(my_data)"
   ]
  },
  {
   "cell_type": "markdown",
   "metadata": {},
   "source": [
    "이것을 랜덤하게 데이터를 확인 하는 방법은 sample_n() 함수를 이용합니다. sample_n() 함수는 dplyr 패키지에 있습니다."
   ]
  },
  {
   "cell_type": "code",
   "execution_count": 3,
   "metadata": {},
   "outputs": [
    {
     "name": "stderr",
     "output_type": "stream",
     "text": [
      "\n",
      "Attaching package: ‘dplyr’\n",
      "\n",
      "The following objects are masked from ‘package:stats’:\n",
      "\n",
      "    filter, lag\n",
      "\n",
      "The following objects are masked from ‘package:base’:\n",
      "\n",
      "    intersect, setdiff, setequal, union\n",
      "\n"
     ]
    }
   ],
   "source": [
    "library(dplyr)"
   ]
  },
  {
   "cell_type": "code",
   "execution_count": 4,
   "metadata": {},
   "outputs": [
    {
     "data": {
      "text/html": [
       "<table>\n",
       "<thead><tr><th></th><th scope=col>len</th><th scope=col>supp</th><th scope=col>dose</th></tr></thead>\n",
       "<tbody>\n",
       "\t<tr><th scope=row>7</th><td>11.2</td><td>VC  </td><td>0.5 </td></tr>\n",
       "\t<tr><th scope=row>37</th><td> 8.2</td><td>OJ  </td><td>0.5 </td></tr>\n",
       "\t<tr><th scope=row>36</th><td>10.0</td><td>OJ  </td><td>0.5 </td></tr>\n",
       "\t<tr><th scope=row>58</th><td>27.3</td><td>OJ  </td><td>2.0 </td></tr>\n",
       "\t<tr><th scope=row>49</th><td>14.5</td><td>OJ  </td><td>1.0 </td></tr>\n",
       "\t<tr><th scope=row>57</th><td>26.4</td><td>OJ  </td><td>2.0 </td></tr>\n",
       "\t<tr><th scope=row>1</th><td> 4.2</td><td>VC  </td><td>0.5 </td></tr>\n",
       "\t<tr><th scope=row>13</th><td>15.2</td><td>VC  </td><td>1.0 </td></tr>\n",
       "\t<tr><th scope=row>35</th><td>14.5</td><td>OJ  </td><td>0.5 </td></tr>\n",
       "\t<tr><th scope=row>27</th><td>26.7</td><td>VC  </td><td>2.0 </td></tr>\n",
       "</tbody>\n",
       "</table>\n"
      ],
      "text/latex": [
       "\\begin{tabular}{r|lll}\n",
       "  & len & supp & dose\\\\\n",
       "\\hline\n",
       "\t7 & 11.2 & VC   & 0.5 \\\\\n",
       "\t37 &  8.2 & OJ   & 0.5 \\\\\n",
       "\t36 & 10.0 & OJ   & 0.5 \\\\\n",
       "\t58 & 27.3 & OJ   & 2.0 \\\\\n",
       "\t49 & 14.5 & OJ   & 1.0 \\\\\n",
       "\t57 & 26.4 & OJ   & 2.0 \\\\\n",
       "\t1 &  4.2 & VC   & 0.5 \\\\\n",
       "\t13 & 15.2 & VC   & 1.0 \\\\\n",
       "\t35 & 14.5 & OJ   & 0.5 \\\\\n",
       "\t27 & 26.7 & VC   & 2.0 \\\\\n",
       "\\end{tabular}\n"
      ],
      "text/markdown": [
       "\n",
       "| <!--/--> | len | supp | dose | \n",
       "|---|---|---|---|---|---|---|---|---|---|\n",
       "| 7 | 11.2 | VC   | 0.5  | \n",
       "| 37 |  8.2 | OJ   | 0.5  | \n",
       "| 36 | 10.0 | OJ   | 0.5  | \n",
       "| 58 | 27.3 | OJ   | 2.0  | \n",
       "| 49 | 14.5 | OJ   | 1.0  | \n",
       "| 57 | 26.4 | OJ   | 2.0  | \n",
       "| 1 |  4.2 | VC   | 0.5  | \n",
       "| 13 | 15.2 | VC   | 1.0  | \n",
       "| 35 | 14.5 | OJ   | 0.5  | \n",
       "| 27 | 26.7 | VC   | 2.0  | \n",
       "\n",
       "\n"
      ],
      "text/plain": [
       "   len  supp dose\n",
       "7  11.2 VC   0.5 \n",
       "37  8.2 OJ   0.5 \n",
       "36 10.0 OJ   0.5 \n",
       "58 27.3 OJ   2.0 \n",
       "49 14.5 OJ   1.0 \n",
       "57 26.4 OJ   2.0 \n",
       "1   4.2 VC   0.5 \n",
       "13 15.2 VC   1.0 \n",
       "35 14.5 OJ   0.5 \n",
       "27 26.7 VC   2.0 "
      ]
     },
     "metadata": {},
     "output_type": "display_data"
    }
   ],
   "source": [
    "# 10 개의 데이터를 임의로 확인 해 봅니다.\n",
    "set.seed(1234)\n",
    "sample_n(my_data, 10)"
   ]
  },
  {
   "cell_type": "code",
   "execution_count": 5,
   "metadata": {},
   "outputs": [
    {
     "name": "stdout",
     "output_type": "stream",
     "text": [
      "'data.frame':\t60 obs. of  3 variables:\n",
      " $ len : num  4.2 11.5 7.3 5.8 6.4 10 11.2 11.2 5.2 7 ...\n",
      " $ supp: Factor w/ 2 levels \"OJ\",\"VC\": 2 2 2 2 2 2 2 2 2 2 ...\n",
      " $ dose: num  0.5 0.5 0.5 0.5 0.5 0.5 0.5 0.5 0.5 0.5 ...\n"
     ]
    }
   ],
   "source": [
    "# 데이터 구조를 확인해 봅니다.\n",
    "str(my_data)"
   ]
  },
  {
   "cell_type": "markdown",
   "metadata": {},
   "source": [
    "3개의 변수가 있습니다.  \n",
    "* len : 기니피그 치아 모근\n",
    "* supp : 복용 형태 OJ : 오렌지 주스, VC : 아스코르빈산\n",
    "* dose : 용량 , 0.5, 1, 2 "
   ]
  },
  {
   "cell_type": "markdown",
   "metadata": {},
   "source": [
    "dose 가 숫자로 되어 있으므로 범주형 변수로 변경을 해야 합니다. factor() 함수를 이용합니다."
   ]
  },
  {
   "cell_type": "code",
   "execution_count": 6,
   "metadata": {},
   "outputs": [
    {
     "data": {
      "text/html": [
       "<table>\n",
       "<thead><tr><th scope=col>len</th><th scope=col>supp</th><th scope=col>dose</th></tr></thead>\n",
       "<tbody>\n",
       "\t<tr><td> 4.2</td><td>VC  </td><td>D0.5</td></tr>\n",
       "\t<tr><td>11.5</td><td>VC  </td><td>D0.5</td></tr>\n",
       "\t<tr><td> 7.3</td><td>VC  </td><td>D0.5</td></tr>\n",
       "\t<tr><td> 5.8</td><td>VC  </td><td>D0.5</td></tr>\n",
       "\t<tr><td> 6.4</td><td>VC  </td><td>D0.5</td></tr>\n",
       "\t<tr><td>10.0</td><td>VC  </td><td>D0.5</td></tr>\n",
       "</tbody>\n",
       "</table>\n"
      ],
      "text/latex": [
       "\\begin{tabular}{r|lll}\n",
       " len & supp & dose\\\\\n",
       "\\hline\n",
       "\t  4.2 & VC   & D0.5\\\\\n",
       "\t 11.5 & VC   & D0.5\\\\\n",
       "\t  7.3 & VC   & D0.5\\\\\n",
       "\t  5.8 & VC   & D0.5\\\\\n",
       "\t  6.4 & VC   & D0.5\\\\\n",
       "\t 10.0 & VC   & D0.5\\\\\n",
       "\\end{tabular}\n"
      ],
      "text/markdown": [
       "\n",
       "len | supp | dose | \n",
       "|---|---|---|---|---|---|\n",
       "|  4.2 | VC   | D0.5 | \n",
       "| 11.5 | VC   | D0.5 | \n",
       "|  7.3 | VC   | D0.5 | \n",
       "|  5.8 | VC   | D0.5 | \n",
       "|  6.4 | VC   | D0.5 | \n",
       "| 10.0 | VC   | D0.5 | \n",
       "\n",
       "\n"
      ],
      "text/plain": [
       "  len  supp dose\n",
       "1  4.2 VC   D0.5\n",
       "2 11.5 VC   D0.5\n",
       "3  7.3 VC   D0.5\n",
       "4  5.8 VC   D0.5\n",
       "5  6.4 VC   D0.5\n",
       "6 10.0 VC   D0.5"
      ]
     },
     "metadata": {},
     "output_type": "display_data"
    },
    {
     "data": {
      "text/html": [
       "<table>\n",
       "<thead><tr><th></th><th scope=col>len</th><th scope=col>supp</th><th scope=col>dose</th></tr></thead>\n",
       "<tbody>\n",
       "\t<tr><th scope=row>42</th><td>23.3</td><td>OJ  </td><td>D1  </td></tr>\n",
       "\t<tr><th scope=row>33</th><td>17.6</td><td>OJ  </td><td>D0.5</td></tr>\n",
       "\t<tr><th scope=row>17</th><td>13.6</td><td>VC  </td><td>D1  </td></tr>\n",
       "\t<tr><th scope=row>53</th><td>22.4</td><td>OJ  </td><td>D2  </td></tr>\n",
       "\t<tr><th scope=row>58</th><td>27.3</td><td>OJ  </td><td>D2  </td></tr>\n",
       "\t<tr><th scope=row>47</th><td>25.8</td><td>OJ  </td><td>D1  </td></tr>\n",
       "\t<tr><th scope=row>16</th><td>17.3</td><td>VC  </td><td>D1  </td></tr>\n",
       "\t<tr><th scope=row>15</th><td>22.5</td><td>VC  </td><td>D1  </td></tr>\n",
       "\t<tr><th scope=row>10</th><td> 7.0</td><td>VC  </td><td>D0.5</td></tr>\n",
       "\t<tr><th scope=row>12</th><td>16.5</td><td>VC  </td><td>D1  </td></tr>\n",
       "</tbody>\n",
       "</table>\n"
      ],
      "text/latex": [
       "\\begin{tabular}{r|lll}\n",
       "  & len & supp & dose\\\\\n",
       "\\hline\n",
       "\t42 & 23.3 & OJ   & D1  \\\\\n",
       "\t33 & 17.6 & OJ   & D0.5\\\\\n",
       "\t17 & 13.6 & VC   & D1  \\\\\n",
       "\t53 & 22.4 & OJ   & D2  \\\\\n",
       "\t58 & 27.3 & OJ   & D2  \\\\\n",
       "\t47 & 25.8 & OJ   & D1  \\\\\n",
       "\t16 & 17.3 & VC   & D1  \\\\\n",
       "\t15 & 22.5 & VC   & D1  \\\\\n",
       "\t10 &  7.0 & VC   & D0.5\\\\\n",
       "\t12 & 16.5 & VC   & D1  \\\\\n",
       "\\end{tabular}\n"
      ],
      "text/markdown": [
       "\n",
       "| <!--/--> | len | supp | dose | \n",
       "|---|---|---|---|---|---|---|---|---|---|\n",
       "| 42 | 23.3 | OJ   | D1   | \n",
       "| 33 | 17.6 | OJ   | D0.5 | \n",
       "| 17 | 13.6 | VC   | D1   | \n",
       "| 53 | 22.4 | OJ   | D2   | \n",
       "| 58 | 27.3 | OJ   | D2   | \n",
       "| 47 | 25.8 | OJ   | D1   | \n",
       "| 16 | 17.3 | VC   | D1   | \n",
       "| 15 | 22.5 | VC   | D1   | \n",
       "| 10 |  7.0 | VC   | D0.5 | \n",
       "| 12 | 16.5 | VC   | D1   | \n",
       "\n",
       "\n"
      ],
      "text/plain": [
       "   len  supp dose\n",
       "42 23.3 OJ   D1  \n",
       "33 17.6 OJ   D0.5\n",
       "17 13.6 VC   D1  \n",
       "53 22.4 OJ   D2  \n",
       "58 27.3 OJ   D2  \n",
       "47 25.8 OJ   D1  \n",
       "16 17.3 VC   D1  \n",
       "15 22.5 VC   D1  \n",
       "10  7.0 VC   D0.5\n",
       "12 16.5 VC   D1  "
      ]
     },
     "metadata": {},
     "output_type": "display_data"
    }
   ],
   "source": [
    "# Convert dose as a factor and recode the levels\n",
    "# as \"D0.5\", \"D1\", \"D2\"\n",
    "my_data$dose <- factor(my_data$dose, levels = c(0.5,1,2), labels=c(\"D0.5\", \"D1\", \"D2\"))\n",
    "head(my_data)\n",
    "sample_n(my_data, 10)"
   ]
  },
  {
   "cell_type": "markdown",
   "metadata": {},
   "source": [
    "용량과 용법에 따른 빈도수를 파악하고 자 하려면 교차표를 이용해 봅니다."
   ]
  },
  {
   "cell_type": "code",
   "execution_count": 7,
   "metadata": {},
   "outputs": [
    {
     "data": {
      "text/plain": [
       "    \n",
       "     D0.5 D1 D2\n",
       "  OJ   10 10 10\n",
       "  VC   10 10 10"
      ]
     },
     "metadata": {},
     "output_type": "display_data"
    }
   ],
   "source": [
    "table(my_data$supp, my_data$dose)"
   ]
  },
  {
   "cell_type": "markdown",
   "metadata": {},
   "source": [
    "### 데이터의 도표화"
   ]
  },
  {
   "cell_type": "code",
   "execution_count": 8,
   "metadata": {},
   "outputs": [
    {
     "name": "stderr",
     "output_type": "stream",
     "text": [
      "Loading required package: ggplot2\n",
      "\n",
      "Attaching package: ‘ggplot2’\n",
      "\n",
      "The following object is masked from ‘package:dplyr’:\n",
      "\n",
      "    vars\n",
      "\n",
      "Loading required package: magrittr\n"
     ]
    }
   ],
   "source": [
    "library(\"ggpubr\")"
   ]
  },
  {
   "cell_type": "code",
   "execution_count": 10,
   "metadata": {},
   "outputs": [
    {
     "data": {},
     "metadata": {},
     "output_type": "display_data"
    },
    {
     "data": {
      "image/png": "[encoded data removed]",
      "text/plain": [
       "plot without title"
      ]
     },
     "metadata": {},
     "output_type": "display_data"
    }
   ],
   "source": [
    "# 2개 변수에 대한 박스상자 \n",
    "# 치근의 용량에 대한 표시 (dose)\n",
    "# 용법에 따른 색깔 표시  (supp)\n",
    "ggboxplot(my_data, x = \"dose\", y = \"len\", color=\"supp\", palette = c(\"#00AFBB\", \"#E7B800\"))"
   ]
  },
  {
   "cell_type": "code",
   "execution_count": null,
   "metadata": {},
   "outputs": [],
   "source": [
    "# 다중 그룹에 대한 라인 플롯\n",
    "# 용량에 따른 치모근 의 길이 표시\n",
    "# 용법 (supp) 에 대한 것은 상자 색깔 표시\n",
    "# "
   ]
  }
 ],
 "metadata": {
  "kernelspec": {
   "display_name": "R",
   "language": "R",
   "name": "ir"
  },
  "language_info": {
   "codemirror_mode": "r",
   "file_extension": ".r",
   "mimetype": "text/x-r-source",
   "name": "R",
   "pygments_lexer": "r",
   "version": "3.4.3"
  }
 },
 "nbformat": 4,
 "nbformat_minor": 2
}
