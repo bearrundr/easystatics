{
 "cells": [
  {
   "cell_type": "markdown",
   "metadata": {},
   "source": [
    "# <span style=\"color:blue\"> 이토록 쉬운 통계 & R </span>"
   ]
  },
  {
   "cell_type": "markdown",
   "metadata": {},
   "source": [
    "<img src=\"../image/cover.png\" width=\"200\" height=\"400\" align=\"left\">  임경덕 지음"
   ]
  },
  {
   "cell_type": "markdown",
   "metadata": {},
   "source": [
    "## PART 4 데이터 분석 도구, R"
   ]
  },
  {
   "cell_type": "markdown",
   "metadata": {},
   "source": [
    "## 95% R로 분석 다시보기-2-treat-4-선형대수기초 대응분석관련-2 (42일차)"
   ]
  },
  {
   "cell_type": "markdown",
   "metadata": {},
   "source": [
    "   * 데이타프로젝트 (http://dataproject.xyz) 또는 (http://cafe.naver.com/dataartproject) 에 미리 저장된 스크립트를 다운 받을 수 있습니다.\n",
    "   * 스크립트를 활용하면 직접 명령어를 입력하지 않고 저장된 명령어들을 실행할 수 있습니다."
   ]
  },
  {
   "cell_type": "markdown",
   "metadata": {},
   "source": [
    "### 데이터 파일은 dataartproject.xyz 에 있습니다."
   ]
  },
  {
   "cell_type": "markdown",
   "metadata": {},
   "source": [
    "# 두개의 범주형 변수의 관계 찾기 -- treat - 대응분석 정리"
   ]
  },
  {
   "cell_type": "markdown",
   "metadata": {},
   "source": [
    "## 진료과목 중 내과만 자세히 살피기  -- 대응분석"
   ]
  },
  {
   "cell_type": "markdown",
   "metadata": {},
   "source": [
    "## 대응분석 관련 정리 계속"
   ]
  },
  {
   "cell_type": "markdown",
   "metadata": {},
   "source": [
    "대응분석을 설명하기 위해서는 몇가지 기본적인 내용의 정리가 필요합니다. 따라서 관련 내용을 먼저 정리 하고 진료 과목에 대한 대응 분석을 설명할 예정입니다.\n",
    "여기서 대응분석이라는 것은 일반적으로 두개의 범주형 변수의 관계에 대한 독립성 여부는 카이제곱 분석에 의하여 P 검정을 살펴보게 됩니다.\n",
    "\n",
    "그러나 다수준인 경우에는 분석시에 복잡한 양상을 띄게 됩니다. 따라서 이 경우에는 수준별 대응 분석을 하게 됩니다. 대응분석은 범주형 변수의 각 수준을 계량화하여 2차원 그래프 상에서 표현하여 두 범주형 변수가 변화는 관계를 살펴보는 것입니다.\n",
    "\n",
    "이런 내용을 이해 하기 위해서는 선형 대수와 관련 해서 몇가지 기초적인 지식이 필요합니다."
   ]
  },
  {
   "cell_type": "markdown",
   "metadata": {},
   "source": [
    "####  예제들과 관련한 정리 (http://darkpgmr.tistory.com/105)\n",
    "지금까지는 내용을 예제로서만 설명을 하여 따라갔지만, 그 이유에 대해서 간략하게 설명하고, 다음 SVD 관련 정리합니다."
   ]
  },
  {
   "cell_type": "markdown",
   "metadata": {},
   "source": [
    "1. 선형대수학에서 다루는 고유값, 고유벡터 을 소개하는 이유"
   ]
  },
  {
   "cell_type": "markdown",
   "metadata": {},
   "source": [
    "##### 벡터의 소개 \n",
    "\n",
    "* 먼저 하나의 벡터는 임의의 두개 이상의 벡터로 나누어 질 수 있습니다. 즉 $\\mathbf V= \\mathbf V_1 + \\mathbf V_2$\n",
    "* 선형독립 또는 일차독립(linearly independent) 란 벡터들이 집합이 있을떼 임의의 벡터들의 합으로 나타냈을 없을 경우에 선형독립 또는 일차독립이라고 합니다. (말이 좀 어려운데..)\n",
    "   * 예를 가지고 설명하면 선형독립의 가장 일반적인 예가 3차원 공간에서 $\\mathbf x, \\mathbf y, \\mathbf z$ 를 생각할 수 있습니다.\n",
    "   * $\\mathbf x, \\mathbf y, \\mathbf z$ 는 각각 길이가 1인 단위 벡터 입니다.\n",
    "   * 3차원 좌표(공간)에서 원점(0,0,0) 부터 임의 점까지 벡터 $\\mathbf v$ 는 $\\mathbf x, \\mathbf y, \\mathbf z$ 로 표시 할 수 있습니다. 이것을 $\\mathbf v = \\mathbf x + \\mathbf y + \\mathbf z$ 로 표시합니다.\n",
    "   * 3차원 공간 어느 점도 이런 방식으로 표시 할 수 있으며, 이때 $\\mathbf x, \\mathbf y, \\mathbf z$ 을 기저 벡터라고 하고 이들은 서로 선형독립이라고 합니다. 왜냐하면 $\\mathbf x, \\mathbf y, \\mathbf z$ 어느것 하나 다른 것의 합으로 표시 할 수 없기 때문입니다.\n",
    "   * 벡터의 집합 $\\mathbf V = \\{\\mathbf v_1,\\mathbf v_2,\\cdots,\\mathbf v_n \\}$ 이 선형독립 또는 일차독립이라 함은 $\\mathbf V$ 에 있는 어떤 요소들을 다른 요소들의 합으로 표시 할 수 없습니다.\n",
    "   \n",
    "   \n",
    "##### 벡터에 행렬을 곱할때\n",
    "* 행렬에 벡터를 곱하는 기하학적 의미는 벡터의 길이를 변화 시키거나 벡터의 방향을 변화 시킨다. [참조](https://wikidocs.net/4050)\n",
    "* 행렬에 벡터를 곱한다는 형식은 행렬 $\\mathbf A$ 에 벡터 $\\mathbf V$ 가 있을 때 $\\mathbf A \\cdot \\mathbf V$ 와 같은 모습니다.\n",
    "\n",
    "\n",
    "##### 고유값과 고유벡터\n",
    "* 행렬에서 고유값을 구하는 이유는 다음과 같습니다.\n",
    "* 고유값, 고유벡터를 구하는 식은 다음과 같습니다. $\\mathbf E  \\mathbf V = \\lambda \\mathbf V$ \n",
    "* 행렬 $\\mathbf E$ 를 벡터 $\\mathbf V$ 에 곱하였을때 벡터의 변화가 자기 자신의 상수배 되는 0이 아닌 벡터가 있으며 상수배를 고유값, 변하지 않는 벡터를 고유벡터라고 합니다.\n",
    "\n",
    "##### 고유값, 고유벡터 의 전개 : 대각화\n",
    "* 고유값 식의 전개는 다음과 같이 할 수 있습니다. 여기서 $\\mathbf P \\mathbf P^{-1} = \\mathbf P^{-1} \\mathbf P = \\mathbf I$\n",
    "* $\\mathbf I = \\begin{pmatrix} 1 & 0 & \\cdots & 0 \\\\ 0 & 1 & \\ddots & \\vdots \\\\ \\vdots & \\ddots & \\ddots & 0 \\\\ 0 & 0 & \\cdots & 1 \\\\ \\end{pmatrix} $\n",
    "* $\\mathbf E \\mathbf V = \\lambda \\mathbf V \\Rightarrow \\mathbf E \\mathbf P \\mathbf P^{-1} \\mathbf V= \\lambda \\mathbf P \\mathbf P^{-1} \\mathbf V = \\mathbf P (\\lambda \\mathbf P^{-1} \\mathbf V) \\Rightarrow \\mathbf P^{-1}\\mathbf E \\mathbf P (\\mathbf P^{-1} \\mathbf V) = \\lambda (\\mathbf P^{-1} \\mathbf V)$\n",
    "* Let $\\mathbf X = \\mathbf P^{-1} \\mathbf V$ 라고 놓으면 $\\mathbf P^{-1} \\mathbf E \\mathbf P \\mathbf X = \\lambda \\mathbf X$\n",
    "\n",
    "\n",
    "* 또는 \n",
    "* $\\mathbf E \\mathbf V = \\lambda \\mathbf V \\Rightarrow \\mathbf E \\mathbf P^{-1} \\mathbf P \\mathbf V= \\lambda \\mathbf P^{-1} \\mathbf P \\mathbf V = \\mathbf P^{-1} (\\lambda \\mathbf P \\mathbf V) \\Rightarrow \\mathbf P\\mathbf E \\mathbf P^{-1} (\\mathbf P \\mathbf V) = \\lambda (\\mathbf P \\mathbf V)$\n",
    "* Let $\\mathbf X = \\mathbf P \\mathbf V$ 라고 놓으면 $\\mathbf P \\mathbf E \\mathbf P^{-1} \\mathbf X = \\lambda \\mathbf X$"
   ]
  },
  {
   "cell_type": "markdown",
   "metadata": {},
   "source": [
    "* 이것을 해석해 보면, 어떤 행렬 $\\mathbf P$ 가 있어서 그 $\\mathbf P$ 가 $\\mathbf E$ 에 적용하여 $\\mathbf P^{-1} \\mathbf E \\mathbf P$ 또는 $\\mathbf P \\mathbf E \\mathbf P^{-1}$ 을 대각화 할 수 있는 그런 $\\mathbf P$ 가 있어\n",
    "* 대각화 가  $\\mathbf \\Lambda = \\begin{pmatrix} \\lambda_1 & 0 & \\cdots & 0 \\\\ 0 & \\lambda_2 & \\ddots & \\vdots \\\\ \\vdots & \\ddots & \\ddots & 0 \\\\ 0 & 0 & \\cdots & \\lambda_n \\\\ \\end{pmatrix} $ , 여기서 $\\lambda_i$ 는 각 고유값 이다, "
   ]
  },
  {
   "cell_type": "markdown",
   "metadata": {},
   "source": [
    "$\\mathbf \\Lambda \\mathbf X = \\lambda \\mathbf X$ 가 되는 $\\mathbf X$ 를 구할 수 있습니다. 이때 $\\mathbf X = \\mathbf P \\mathbf V$ 가 됩니다.  따라서 어떤 행렬 $\\mathbf E$ 가 주어지면, 그 행렬에 관계되는 고유값및 고유벡터를  구할 수 있으며, 또한 $\\mathbf P$ 를 구할 수 있어 고유벡터를 회전시켜 대각화 행렬의 기저 벡터들이 됩니다."
   ]
  },
  {
   "cell_type": "markdown",
   "metadata": {},
   "source": [
    "그런 행렬 $\\mathbf P$ 의 형태는 다음과 같습니다."
   ]
  },
  {
   "cell_type": "markdown",
   "metadata": {},
   "source": [
    "##### 대각화 시키는 행렬 분해"
   ]
  },
  {
   "cell_type": "markdown",
   "metadata": {},
   "source": [
    "*  $\\mathbf E  \\mathbf V = \\lambda \\mathbf V$  에서 살펴보면"
   ]
  },
  {
   "cell_type": "markdown",
   "metadata": {},
   "source": [
    "* 우변은 예를 들면 $3 \\times 3$ 행렬의 경우를 보면 $\\lambda$ 는 $\\lambda_1, \\lambda_2, \\lambda_3$ 최대 서로 다는 3개가 나올 수 있으며 고유벡터 역시 3개가 나온다.\n",
    "* $\\mathbf P$ 를 고유값들을 열벡터로 하면 다음과 같이 됩니다.\n",
    "* $ \\mathbf P = \\begin{pmatrix} \\mathrm v_{11} & \\mathrm v_{12} & \\mathrm v_{13} \\\\ \\mathrm v_{21} & \\mathrm v_{22} & \\mathrm v_{23} \\\\ \\mathrm v_{31} & \\mathrm v_{32} & \\mathrm v_{33} \\\\ \\end{pmatrix} $\n",
    "* 그럼 $ \\mathbf P \\mathbf \\Lambda = \\begin{pmatrix} \\mathrm v_{11} & \\mathrm v_{12} & \\mathrm v_{13} \\\\ \\mathrm v_{21} & \\mathrm v_{22} & \\mathrm v_{23} \\\\ \\mathrm v_{31} & \\mathrm v_{32} & \\mathrm v_{33} \\\\ \\end{pmatrix}\\begin{pmatrix} \\lambda_1 & 0 & 0 \\\\ 0 & \\lambda_2 & 0 \\\\ 0 & 0 & \\lambda_3 \\\\ \\end{pmatrix} = \\begin{pmatrix} \\lambda_1 \\mathrm v_{11} & \\lambda_2\\mathrm v_{12} & \\lambda_3\\mathrm v_{13} \\\\ \\lambda_1\\mathrm v_{21} & \\lambda_2\\mathrm v_{22} & \\lambda_3\\mathrm v_{23} \\\\ \\lambda_1\\mathrm v_{31} & \\lambda_2\\mathrm v_{32} & \\lambda_3\\mathrm v_{33} \\\\ \\end{pmatrix} $ 이 된다."
   ]
  },
  {
   "cell_type": "markdown",
   "metadata": {},
   "source": [
    "* 행렬 $\\mathbf E$ 의 고유값, 고유벡터들을 각각 $\\lambda_i, \\mathrm v_i, i = 1,2,\\cdots, n$ 이라고 하면\n",
    "$$\n",
    "\\begin{align}\n",
    "\\mathbf E \\mathrm v_1 &= \\lambda_1 \\mathrm v_1 \\\\\n",
    "\\mathbf E \\mathrm v_2 &= \\lambda_2 \\mathrm v_2 \\\\\n",
    "\\mathbf E \\mathrm v_3 &= \\lambda_3 \\mathrm v_3 \\\\\n",
    "\\vdots \\\\\n",
    "\\mathbf E \\mathrm v_n &= \\lambda_n \\mathrm v_n\n",
    "\\end{align}\n",
    "$$"
   ]
  },
  {
   "cell_type": "markdown",
   "metadata": {},
   "source": [
    "* 이제 이것을 한번에 표현하면 다음과 같이 됩니다.\n",
    "$$\n",
    "\\begin{align}\n",
    "\\mathbf E [\\mathrm v_1, \\mathrm v_2, \\cdots, \\mathrm v_n] &= [\\lambda_1 \\mathrm v_1, \\lambda_2 \\mathrm v_2, \\cdots, \\lambda_n \\mathrm v_n ] \\\\\n",
    "&= [\\mathrm v_1, \\mathrm v_2, \\cdots, \\mathrm v_n] \\begin{pmatrix} \\lambda_1 & 0 & 0 \\\\ 0 & \\ddots & 0 \\\\ 0 & 0 & \\lambda_n \\\\ \\end{pmatrix}\n",
    "\\end{align}\n",
    "\\Rightarrow \\mathbf E \\mathbf P = \\mathbf P \\mathbf \\Lambda \\Rightarrow \\mathbf E = \\mathbf P \\mathbf \\Lambda \\mathbf P^{-1} \\Rightarrow \\mathbf P^{-1} \\mathbf E \\mathbf P\n",
    "$$"
   ]
  },
  {
   "cell_type": "markdown",
   "metadata": {},
   "source": [
    "## 왜 이런것은 하는지????????"
   ]
  },
  {
   "cell_type": "markdown",
   "metadata": {},
   "source": [
    "* 범주형 자료들을 모은 통계 관측치 또는 일반 관측된 자료들은 행렬로 표현을 할 수 있습니다. 즉 행렬은 우리가 보고 관측된 기록입니다.\n",
    "* 예를 들면 월별 판매기록, 년도별 인구증가율, 품목변 판매량 등등은 2차원 행렬로 표현이 가능합니다. \n",
    "* 이런 관측된 자료들을 분석을 할 경우에 고유값을 구하고 고유벡터를 구하게 되면 2차원 행렬 요소들이 부분적인 군집을 이루게 되고, 그 군집을 이루는 기저 벡터들이 원인이나 기타 설명할 수 있는 변수로 표시 할 수 있게 됩니다.\n",
    "* 이런 이유로 고유값과 고유벡터는 매우 중요한 것이라고 할 수 있습니다."
   ]
  },
  {
   "cell_type": "markdown",
   "metadata": {},
   "source": [
    "### 이제 정방형 행렬($n \\times n)$ 에서 일반화 ($m \\times n$) 행렬로 진행합니다. 먼저 R 에서 행렬 처리 명령어를 살펴봅니다."
   ]
  },
  {
   "cell_type": "markdown",
   "metadata": {},
   "source": [
    "#### R 에서 행렬 생성\n",
    "\n",
    "* 1. rbind (row bind), 2 cbind (column bind), 3 matrix"
   ]
  },
  {
   "cell_type": "code",
   "execution_count": 4,
   "metadata": {},
   "outputs": [
    {
     "name": "stdout",
     "output_type": "stream",
     "text": [
      "      [,1] [,2] [,3] [,4]\n",
      "row_1    1    2    3    4\n",
      "row_2    5    6    7    8\n"
     ]
    }
   ],
   "source": [
    "# rbind\n",
    "row_1 = c(1,2,3,4)\n",
    "row_2 = c(5,6,7,8)\n",
    "\n",
    "data_rbind = rbind(row_1, row_2)\n",
    "print(data_rbind)\n"
   ]
  },
  {
   "cell_type": "code",
   "execution_count": 6,
   "metadata": {},
   "outputs": [
    {
     "name": "stdout",
     "output_type": "stream",
     "text": [
      "      col_1 col_2 col_3 col_4\n",
      "row_1     1     2     3     4\n",
      "row_2     5     6     7     8\n"
     ]
    }
   ],
   "source": [
    "#col naming\n",
    "colnames(data_rbind) = paste(\"col_\", 1:4, sep=\"\")\n",
    "print(data_rbind)"
   ]
  },
  {
   "cell_type": "code",
   "execution_count": 9,
   "metadata": {},
   "outputs": [
    {
     "name": "stdout",
     "output_type": "stream",
     "text": [
      "     col_1 col_2 col_3 col_4\n",
      "[1,]     1     2     3     4\n",
      "[2,]     5     6     7     8\n"
     ]
    }
   ],
   "source": [
    "# cbind\n",
    "col_1 <- c(1, 5)\n",
    "col_2 <- c(2, 6)\n",
    "col_3 <- c(3, 7)\n",
    "col_4 <- c(4, 8)\n",
    "\n",
    "data_cbind = cbind(col_1, col_2, col_3, col_4)\n",
    "print(data_cbind)"
   ]
  },
  {
   "cell_type": "code",
   "execution_count": 10,
   "metadata": {},
   "outputs": [
    {
     "name": "stdout",
     "output_type": "stream",
     "text": [
      "      col_1 col_2 col_3 col_4\n",
      "row_1     1     2     3     4\n",
      "row_2     5     6     7     8\n"
     ]
    }
   ],
   "source": [
    "# row naming\n",
    "rownames(data_cbind) = paste(\"row_\", 1:2, sep=\"\")\n",
    "print(data_cbind)"
   ]
  },
  {
   "cell_type": "code",
   "execution_count": 12,
   "metadata": {},
   "outputs": [
    {
     "name": "stdout",
     "output_type": "stream",
     "text": [
      "     [,1] [,2] [,3] [,4]\n",
      "[1,]    1    2    3    4\n",
      "[2,]    5    6    7    8\n"
     ]
    }
   ],
   "source": [
    "# matrix\n",
    "raw_data = c(1, 2, 3, 4, 5, 6, 7, 8)\n",
    "data_matrix = matrix(raw_data, nrow=2, byrow=TRUE)\n",
    "print(data_matrix)"
   ]
  },
  {
   "cell_type": "code",
   "execution_count": 13,
   "metadata": {},
   "outputs": [
    {
     "data": {
      "text/html": [
       "<ol class=list-inline>\n",
       "\t<li>2</li>\n",
       "\t<li>4</li>\n",
       "</ol>\n"
      ],
      "text/latex": [
       "\\begin{enumerate*}\n",
       "\\item 2\n",
       "\\item 4\n",
       "\\end{enumerate*}\n"
      ],
      "text/markdown": [
       "1. 2\n",
       "2. 4\n",
       "\n",
       "\n"
      ],
      "text/plain": [
       "[1] 2 4"
      ]
     },
     "metadata": {},
     "output_type": "display_data"
    }
   ],
   "source": [
    "dim(data_matrix)"
   ]
  },
  {
   "cell_type": "code",
   "execution_count": 14,
   "metadata": {},
   "outputs": [
    {
     "name": "stdout",
     "output_type": "stream",
     "text": [
      "       column\n",
      "row     col_1 col_2 col_3 col_4\n",
      "  row_1     1     2     3     4\n",
      "  row_2     5     6     7     8\n"
     ]
    }
   ],
   "source": [
    "dimnames(data_matrix) = list(\"row\" = c(\"row_1\", \"row_2\"), \"column\" = c(\"col_1\", \"col_2\", \"col_3\", \"col_4\"))\n",
    "print(data_matrix)"
   ]
  },
  {
   "cell_type": "markdown",
   "metadata": {},
   "source": [
    "* 행렬에서 행이나 열을 하나만 인덱싱하게 되면 벡터로 바뀌는데, 행렬로 계속 차원을 유지 하고 싶을 경우 drop = FALSE 사용합니다."
   ]
  },
  {
   "cell_type": "code",
   "execution_count": 20,
   "metadata": {},
   "outputs": [
    {
     "name": "stdout",
     "output_type": "stream",
     "text": [
      "       column\n",
      "row     col_1 col_2 col_3 col_4\n",
      "  row_1     1     2     3     4\n",
      "  row_2     5     6     7     8\n"
     ]
    },
    {
     "data": {
      "text/html": [
       "''"
      ],
      "text/latex": [
       "''"
      ],
      "text/markdown": [
       "''"
      ],
      "text/plain": [
       "[1] \"\""
      ]
     },
     "metadata": {},
     "output_type": "display_data"
    },
    {
     "name": "stdout",
     "output_type": "stream",
     "text": [
      "row_1 row_2 \n",
      "    2     6 \n"
     ]
    }
   ],
   "source": [
    "print(data_matrix)\n",
    "data_index = data_matrix[,2]\n",
    "''\n",
    "print(data_index)"
   ]
  },
  {
   "cell_type": "code",
   "execution_count": 24,
   "metadata": {},
   "outputs": [
    {
     "data": {
      "text/html": [
       "'matrix'"
      ],
      "text/latex": [
       "'matrix'"
      ],
      "text/markdown": [
       "'matrix'"
      ],
      "text/plain": [
       "[1] \"matrix\""
      ]
     },
     "metadata": {},
     "output_type": "display_data"
    },
    {
     "data": {
      "text/html": [
       "'numeric'"
      ],
      "text/latex": [
       "'numeric'"
      ],
      "text/markdown": [
       "'numeric'"
      ],
      "text/plain": [
       "[1] \"numeric\""
      ]
     },
     "metadata": {},
     "output_type": "display_data"
    },
    {
     "name": "stdout",
     "output_type": "stream",
     "text": [
      " num [1:2, 1:4] 1 5 2 6 3 7 4 8\n",
      " - attr(*, \"dimnames\")=List of 2\n",
      "  ..$ row   : chr [1:2] \"row_1\" \"row_2\"\n",
      "  ..$ column: chr [1:4] \"col_1\" \"col_2\" \"col_3\" \"col_4\"\n",
      " Named num [1:2] 2 6\n",
      " - attr(*, \"names\")= chr [1:2] \"row_1\" \"row_2\"\n"
     ]
    }
   ],
   "source": [
    "class(data_matrix)\n",
    "class(data_index)\n",
    "str(data_matrix)\n",
    "str(data_index)"
   ]
  },
  {
   "cell_type": "code",
   "execution_count": 25,
   "metadata": {},
   "outputs": [
    {
     "name": "stdout",
     "output_type": "stream",
     "text": [
      "       column\n",
      "row     col_2\n",
      "  row_1     2\n",
      "  row_2     6\n"
     ]
    }
   ],
   "source": [
    "# using drop = false\n",
    "data_drop_false = data_matrix[, 2, drop = FALSE]\n",
    "print(data_drop_false)"
   ]
  },
  {
   "cell_type": "code",
   "execution_count": 26,
   "metadata": {},
   "outputs": [
    {
     "data": {
      "text/html": [
       "'matrix'"
      ],
      "text/latex": [
       "'matrix'"
      ],
      "text/markdown": [
       "'matrix'"
      ],
      "text/plain": [
       "[1] \"matrix\""
      ]
     },
     "metadata": {},
     "output_type": "display_data"
    }
   ],
   "source": [
    "class(data_drop_false)"
   ]
  },
  {
   "cell_type": "code",
   "execution_count": 27,
   "metadata": {},
   "outputs": [
    {
     "name": "stdout",
     "output_type": "stream",
     "text": [
      " num [1:2, 1] 2 6\n",
      " - attr(*, \"dimnames\")=List of 2\n",
      "  ..$ row   : chr [1:2] \"row_1\" \"row_2\"\n",
      "  ..$ column: chr \"col_2\"\n"
     ]
    }
   ],
   "source": [
    "str(data_drop_false)"
   ]
  },
  {
   "cell_type": "markdown",
   "metadata": {},
   "source": [
    "#### 특수 행렬들\n",
    "* null matrix : 영행렬\n",
    "* 정방행렬 : regular matrix\n",
    "* 전치행렬(transpose matrix)\n",
    "* 대칭행렬(symmetry matrix)\n",
    "* 상삼각행렬(upper triangular matrix)\n",
    "* 하삼각행렬(lower triangular matrix)\n",
    "* 대각행렬(diagonal matrix)\n",
    "* 항등행렬(identity matrix)\n"
   ]
  },
  {
   "cell_type": "markdown",
   "metadata": {},
   "source": [
    "##### 영행렬\n",
    "* 모든 원소가 0 인 행렬"
   ]
  },
  {
   "cell_type": "code",
   "execution_count": 41,
   "metadata": {},
   "outputs": [
    {
     "name": "stdout",
     "output_type": "stream",
     "text": [
      "     [,1] [,2] [,3]\n",
      "[1,]    0    0    0\n",
      "[2,]    0    0    0\n",
      "[3,]    0    0    0\n"
     ]
    }
   ],
   "source": [
    "# 영행렬\n",
    "A_zero = matrix(rep(0,9), nrow = 3, byrow = TRUE)\n",
    "print(A_zero)"
   ]
  },
  {
   "cell_type": "markdown",
   "metadata": {},
   "source": [
    "##### 정방행렬(Square matrix)\n",
    "* 행렬의 차수(dim) 이 $n \\times n$ 인 행렬"
   ]
  },
  {
   "cell_type": "code",
   "execution_count": 39,
   "metadata": {},
   "outputs": [
    {
     "name": "stdout",
     "output_type": "stream",
     "text": [
      "     [,1] [,2] [,3] [,4]\n",
      "[1,]    3    0    5   -4\n",
      "[2,]    1    6   -3    5\n",
      "[3,]   -2    4    0   12\n",
      "[4,]    4    2   10    6\n"
     ]
    },
    {
     "data": {
      "text/html": [
       "<ol class=list-inline>\n",
       "\t<li>3</li>\n",
       "\t<li>6</li>\n",
       "\t<li>0</li>\n",
       "\t<li>6</li>\n",
       "</ol>\n"
      ],
      "text/latex": [
       "\\begin{enumerate*}\n",
       "\\item 3\n",
       "\\item 6\n",
       "\\item 0\n",
       "\\item 6\n",
       "\\end{enumerate*}\n"
      ],
      "text/markdown": [
       "1. 3\n",
       "2. 6\n",
       "3. 0\n",
       "4. 6\n",
       "\n",
       "\n"
      ],
      "text/plain": [
       "[1] 3 6 0 6"
      ]
     },
     "metadata": {},
     "output_type": "display_data"
    },
    {
     "data": {
      "text/html": [
       "<ol class=list-inline>\n",
       "\t<li>4</li>\n",
       "\t<li>4</li>\n",
       "</ol>\n"
      ],
      "text/latex": [
       "\\begin{enumerate*}\n",
       "\\item 4\n",
       "\\item 4\n",
       "\\end{enumerate*}\n"
      ],
      "text/markdown": [
       "1. 4\n",
       "2. 4\n",
       "\n",
       "\n"
      ],
      "text/plain": [
       "[1] 4 4"
      ]
     },
     "metadata": {},
     "output_type": "display_data"
    }
   ],
   "source": [
    "# 정방행렬  차수가 n X n 인 행렬\n",
    "A_r = matrix(c(3, 1, -2, 4, 0, 6, 4, 2, 5, -3, 0, 10, -4, 5, 12, 6), 4)\n",
    "print(A_r)\n",
    "diag(A_r)\n",
    "dim(A_r)"
   ]
  },
  {
   "cell_type": "markdown",
   "metadata": {},
   "source": [
    "##### 전치행렬\n",
    "* $A_{ij} \\rightarrow A_{ji}$\n",
    "* $A^t$ 로 표시"
   ]
  },
  {
   "cell_type": "code",
   "execution_count": 33,
   "metadata": {},
   "outputs": [
    {
     "name": "stdout",
     "output_type": "stream",
     "text": [
      "     [,1] [,2] [,3]\n",
      "[1,]    1    2    3\n",
      "[2,]    4    5    6\n",
      "[3,]    7    8    9\n"
     ]
    }
   ],
   "source": [
    "# 전치행렬\n",
    "A = matrix(c(1:9), nrow=3, byrow=TRUE)\n",
    "print(A)"
   ]
  },
  {
   "cell_type": "code",
   "execution_count": 34,
   "metadata": {},
   "outputs": [
    {
     "name": "stdout",
     "output_type": "stream",
     "text": [
      "     [,1] [,2] [,3]\n",
      "[1,]    1    4    7\n",
      "[2,]    2    5    8\n",
      "[3,]    3    6    9\n"
     ]
    }
   ],
   "source": [
    "# t 함수 : 전치행렬\n",
    "A_t = t(A)\n",
    "print(A_t)"
   ]
  },
  {
   "cell_type": "code",
   "execution_count": 35,
   "metadata": {},
   "outputs": [
    {
     "name": "stdout",
     "output_type": "stream",
     "text": [
      "     [,1] [,2] [,3]\n",
      "[1,]    4    6    8\n",
      "[2,]    5    7    9\n"
     ]
    }
   ],
   "source": [
    "B = matrix(c(4:9), nc = 3)\n",
    "print(B)"
   ]
  },
  {
   "cell_type": "code",
   "execution_count": 36,
   "metadata": {},
   "outputs": [
    {
     "name": "stdout",
     "output_type": "stream",
     "text": [
      "     [,1] [,2]\n",
      "[1,]    4    5\n",
      "[2,]    6    7\n",
      "[3,]    8    9\n"
     ]
    }
   ],
   "source": [
    "B_t = t(B)\n",
    "print(B_t)"
   ]
  },
  {
   "cell_type": "markdown",
   "metadata": {},
   "source": [
    "##### 대칭행렬\n",
    "* $A_{ij} = A_{ji}$ 인 행렬\n",
    "* $A = A^t$ 이면 A 는 대칭행렬입니다."
   ]
  },
  {
   "cell_type": "code",
   "execution_count": 40,
   "metadata": {},
   "outputs": [
    {
     "name": "stdout",
     "output_type": "stream",
     "text": [
      "     [,1] [,2] [,3]\n",
      "[1,]  3.5  0.6  2.1\n",
      "[2,]  0.6  4.5  1.9\n",
      "[3,]  2.1  1.9  6.8\n"
     ]
    }
   ],
   "source": [
    "# 대칭행렬\n",
    "A_s = matrix(c(3.5, 0.6, 2.1, 0.6, 4.5, 1.9, 2.1, 1.9, 6.8), 3)\n",
    "print(A_s)"
   ]
  },
  {
   "cell_type": "markdown",
   "metadata": {},
   "source": [
    "##### 상삼각행렬\n",
    "* 대각원소 아래 모든 원소는 0 즉 $i \\gt j$ 인 모든 $i,j$ 에 대해서 $A_{ij} = 0$"
   ]
  },
  {
   "cell_type": "code",
   "execution_count": 43,
   "metadata": {},
   "outputs": [
    {
     "name": "stdout",
     "output_type": "stream",
     "text": [
      "     [,1] [,2] [,3] [,4]\n",
      "[1,]    1    2    3    4\n",
      "[2,]    0    0   -1    2\n",
      "[3,]    0    0    3    0\n",
      "[4,]    0    0    0    5\n"
     ]
    }
   ],
   "source": [
    "A_u = matrix(c(1, 0, 0, 0, 2, 0, 0, 0, 3, -1, 3, 0, 4, 2, 0, 5), 4)\n",
    "print(A_u)"
   ]
  },
  {
   "cell_type": "code",
   "execution_count": 44,
   "metadata": {},
   "outputs": [
    {
     "data": {
      "text/html": [
       "TRUE"
      ],
      "text/latex": [
       "TRUE"
      ],
      "text/markdown": [
       "TRUE"
      ],
      "text/plain": [
       "[1] TRUE\n",
       "attr(,\"kind\")\n",
       "[1] \"U\""
      ]
     },
     "metadata": {},
     "output_type": "display_data"
    }
   ],
   "source": [
    "Matrix::isTriangular(A_u)"
   ]
  },
  {
   "cell_type": "markdown",
   "metadata": {},
   "source": [
    "##### 대각행렬\n",
    "* 정방행렬에서 모든 비대각원소가 0 일때, 즉 $i \\ne j$ 인 모든 $i,j$ 에 대해서 $A_{ij} = 0$"
   ]
  },
  {
   "cell_type": "code",
   "execution_count": 45,
   "metadata": {},
   "outputs": [
    {
     "name": "stdout",
     "output_type": "stream",
     "text": [
      "     [,1] [,2] [,3] [,4]\n",
      "[1,]    3    0    0    0\n",
      "[2,]    0    5    0    0\n",
      "[3,]    0    0   -4    0\n",
      "[4,]    0    0    0    7\n"
     ]
    }
   ],
   "source": [
    "A_d = diag(c(3,5,-4,7))\n",
    "print(A_d)"
   ]
  },
  {
   "cell_type": "markdown",
   "metadata": {},
   "source": [
    "##### 항등행렬 (identity matrix)\n",
    "* 모든 대각원소의 값이 1 인 항렬\n",
    "* $ \\mathbf I$ 로 표시하고, $\\mathbf A \\mathbf I$ = $\\mathbf I \\mathbf A = \\mathbf A$"
   ]
  },
  {
   "cell_type": "code",
   "execution_count": 46,
   "metadata": {},
   "outputs": [
    {
     "name": "stdout",
     "output_type": "stream",
     "text": [
      "     [,1] [,2] [,3]\n",
      "[1,]    1    0    0\n",
      "[2,]    0    1    0\n",
      "[3,]    0    0    1\n"
     ]
    }
   ],
   "source": [
    "A_i = diag(3)\n",
    "print(A_i)"
   ]
  },
  {
   "cell_type": "code",
   "execution_count": 47,
   "metadata": {},
   "outputs": [
    {
     "name": "stdout",
     "output_type": "stream",
     "text": [
      "     [,1] [,2] [,3]\n",
      "[1,]    3    0    0\n",
      "[2,]    0    3    0\n",
      "[3,]    0    0    3\n"
     ]
    }
   ],
   "source": [
    "print(3 * A_i)"
   ]
  },
  {
   "cell_type": "markdown",
   "metadata": {},
   "source": [
    "#### R 에서 행렬의 연산\n",
    "* +, -, *, /, ^, %*%, cbind(), rbind(), colMeans(), rowMeans(), colSums(), rowSums(), t()"
   ]
  },
  {
   "cell_type": "markdown",
   "metadata": {},
   "source": [
    "##### 행렬 내 각 숫자끼리의 연산 : +, -, *, /, ^"
   ]
  },
  {
   "cell_type": "code",
   "execution_count": 48,
   "metadata": {},
   "outputs": [
    {
     "name": "stdout",
     "output_type": "stream",
     "text": [
      "     [,1] [,2]\n",
      "[1,]    1    3\n",
      "[2,]    2    4\n"
     ]
    }
   ],
   "source": [
    "# 행렬 X 와 행렬 Y 생성\n",
    "X = matrix(1:4, nrow = 2, ncol= 2, byrow = FALSE, dimnames = NULL)\n",
    "print(X)"
   ]
  },
  {
   "cell_type": "code",
   "execution_count": 49,
   "metadata": {},
   "outputs": [
    {
     "name": "stdout",
     "output_type": "stream",
     "text": [
      "     [,1] [,2]\n",
      "[1,]    5    6\n",
      "[2,]    7    8\n"
     ]
    }
   ],
   "source": [
    "Y = matrix(5:8, nrow = 2, ncol = 2, byrow = TRUE, dimnames = NULL)\n",
    "print(Y)"
   ]
  },
  {
   "cell_type": "code",
   "execution_count": 59,
   "metadata": {},
   "outputs": [
    {
     "data": {
      "text/html": [
       "<table>\n",
       "<tbody>\n",
       "\t<tr><td>1</td><td>3</td></tr>\n",
       "\t<tr><td>2</td><td>4</td></tr>\n",
       "</tbody>\n",
       "</table>\n"
      ],
      "text/latex": [
       "\\begin{tabular}{ll}\n",
       "\t 1 & 3\\\\\n",
       "\t 2 & 4\\\\\n",
       "\\end{tabular}\n"
      ],
      "text/markdown": [
       "\n",
       "| 1 | 3 | \n",
       "| 2 | 4 | \n",
       "\n",
       "\n"
      ],
      "text/plain": [
       "     [,1] [,2]\n",
       "[1,] 1    3   \n",
       "[2,] 2    4   "
      ]
     },
     "metadata": {},
     "output_type": "display_data"
    },
    {
     "data": {
      "text/html": [
       "<table>\n",
       "<tbody>\n",
       "\t<tr><td>5</td><td>6</td></tr>\n",
       "\t<tr><td>7</td><td>8</td></tr>\n",
       "</tbody>\n",
       "</table>\n"
      ],
      "text/latex": [
       "\\begin{tabular}{ll}\n",
       "\t 5 & 6\\\\\n",
       "\t 7 & 8\\\\\n",
       "\\end{tabular}\n"
      ],
      "text/markdown": [
       "\n",
       "| 5 | 6 | \n",
       "| 7 | 8 | \n",
       "\n",
       "\n"
      ],
      "text/plain": [
       "     [,1] [,2]\n",
       "[1,] 5    6   \n",
       "[2,] 7    8   "
      ]
     },
     "metadata": {},
     "output_type": "display_data"
    },
    {
     "data": {
      "text/html": [
       "'더하기 X + Y'"
      ],
      "text/latex": [
       "'더하기 X + Y'"
      ],
      "text/markdown": [
       "'더하기 X + Y'"
      ],
      "text/plain": [
       "[1] \"더하기 X + Y\""
      ]
     },
     "metadata": {},
     "output_type": "display_data"
    },
    {
     "name": "stdout",
     "output_type": "stream",
     "text": [
      "     [,1] [,2]\n",
      "[1,]    6    9\n",
      "[2,]    9   12\n"
     ]
    },
    {
     "data": {
      "text/html": [
       "'빼기 X - Y'"
      ],
      "text/latex": [
       "'빼기 X - Y'"
      ],
      "text/markdown": [
       "'빼기 X - Y'"
      ],
      "text/plain": [
       "[1] \"빼기 X - Y\""
      ]
     },
     "metadata": {},
     "output_type": "display_data"
    },
    {
     "name": "stdout",
     "output_type": "stream",
     "text": [
      "     [,1] [,2]\n",
      "[1,]   -4   -3\n",
      "[2,]   -5   -4\n"
     ]
    },
    {
     "data": {
      "text/html": [
       "<span style=white-space:pre-wrap>'곱하기 X * Y  ; 행렬곱하고는 다릅니다. 행렬곱은 %*% 입니다.'</span>"
      ],
      "text/latex": [
       "'곱하기 X * Y  ; 행렬곱하고는 다릅니다. 행렬곱은 \\%*\\% 입니다.'"
      ],
      "text/markdown": [
       "<span style=white-space:pre-wrap>'곱하기 X * Y  ; 행렬곱하고는 다릅니다. 행렬곱은 %*% 입니다.'</span>"
      ],
      "text/plain": [
       "[1] \"곱하기 X * Y  ; 행렬곱하고는 다릅니다. 행렬곱은 %*% 입니다.\""
      ]
     },
     "metadata": {},
     "output_type": "display_data"
    },
    {
     "name": "stdout",
     "output_type": "stream",
     "text": [
      "     [,1] [,2]\n",
      "[1,]    5   18\n",
      "[2,]   14   32\n"
     ]
    },
    {
     "data": {
      "text/html": [
       "'나누기 X /Y'"
      ],
      "text/latex": [
       "'나누기 X /Y'"
      ],
      "text/markdown": [
       "'나누기 X /Y'"
      ],
      "text/plain": [
       "[1] \"나누기 X /Y\""
      ]
     },
     "metadata": {},
     "output_type": "display_data"
    },
    {
     "name": "stdout",
     "output_type": "stream",
     "text": [
      "          [,1] [,2]\n",
      "[1,] 0.2000000  0.5\n",
      "[2,] 0.2857143  0.5\n"
     ]
    },
    {
     "data": {
      "text/html": [
       "'지수곱 X^Y'"
      ],
      "text/latex": [
       "'지수곱 X\\textasciicircum{}Y'"
      ],
      "text/markdown": [
       "'지수곱 X^Y'"
      ],
      "text/plain": [
       "[1] \"지수곱 X^Y\""
      ]
     },
     "metadata": {},
     "output_type": "display_data"
    },
    {
     "name": "stdout",
     "output_type": "stream",
     "text": [
      "     [,1]  [,2]\n",
      "[1,]    1   729\n",
      "[2,]  128 65536\n"
     ]
    }
   ],
   "source": [
    "# 행렬 X, Y 사칙연산들\n",
    "X\n",
    "Y\n",
    "'더하기 X + Y'\n",
    "print(X + Y)\n",
    "\n",
    "'빼기 X - Y'\n",
    "print(X - Y)\n",
    "\n",
    "'곱하기 X * Y  ; 행렬곱하고는 다릅니다. 행렬곱은 %*% 입니다.'\n",
    "print(X * Y)\n",
    "\n",
    "'나누기 X /Y'\n",
    "print(zapsmall(X /Y))\n",
    "\n",
    "'지수곱 X^Y'\n",
    "print(X^Y)"
   ]
  },
  {
   "cell_type": "markdown",
   "metadata": {},
   "source": [
    "#### 행렬 곱 : X%*%Y"
   ]
  },
  {
   "cell_type": "code",
   "execution_count": 60,
   "metadata": {},
   "outputs": [
    {
     "data": {
      "text/html": [
       "'X'"
      ],
      "text/latex": [
       "'X'"
      ],
      "text/markdown": [
       "'X'"
      ],
      "text/plain": [
       "[1] \"X\""
      ]
     },
     "metadata": {},
     "output_type": "display_data"
    },
    {
     "name": "stdout",
     "output_type": "stream",
     "text": [
      "     [,1] [,2]\n",
      "[1,]    1    3\n",
      "[2,]    2    4\n"
     ]
    },
    {
     "data": {
      "text/html": [
       "'Y'"
      ],
      "text/latex": [
       "'Y'"
      ],
      "text/markdown": [
       "'Y'"
      ],
      "text/plain": [
       "[1] \"Y\""
      ]
     },
     "metadata": {},
     "output_type": "display_data"
    },
    {
     "name": "stdout",
     "output_type": "stream",
     "text": [
      "     [,1] [,2]\n",
      "[1,]    5    6\n",
      "[2,]    7    8\n"
     ]
    },
    {
     "data": {
      "text/html": [
       "'X%*%Y'"
      ],
      "text/latex": [
       "'X\\%*\\%Y'"
      ],
      "text/markdown": [
       "'X%*%Y'"
      ],
      "text/plain": [
       "[1] \"X%*%Y\""
      ]
     },
     "metadata": {},
     "output_type": "display_data"
    },
    {
     "name": "stdout",
     "output_type": "stream",
     "text": [
      "     [,1] [,2]\n",
      "[1,]   26   30\n",
      "[2,]   38   44\n"
     ]
    }
   ],
   "source": [
    "'X'\n",
    "print(X)\n",
    "'Y'\n",
    "print(Y)\n",
    "'X%*%Y'\n",
    "print(X%*%Y)"
   ]
  },
  {
   "cell_type": "markdown",
   "metadata": {},
   "source": [
    "#### 행렬 세로결합 cbind(), 가로결합 rbind()"
   ]
  },
  {
   "cell_type": "code",
   "execution_count": 61,
   "metadata": {},
   "outputs": [
    {
     "data": {
      "text/html": [
       "'X'"
      ],
      "text/latex": [
       "'X'"
      ],
      "text/markdown": [
       "'X'"
      ],
      "text/plain": [
       "[1] \"X\""
      ]
     },
     "metadata": {},
     "output_type": "display_data"
    },
    {
     "name": "stdout",
     "output_type": "stream",
     "text": [
      "     [,1] [,2]\n",
      "[1,]    1    3\n",
      "[2,]    2    4\n"
     ]
    },
    {
     "data": {
      "text/html": [
       "'Y'"
      ],
      "text/latex": [
       "'Y'"
      ],
      "text/markdown": [
       "'Y'"
      ],
      "text/plain": [
       "[1] \"Y\""
      ]
     },
     "metadata": {},
     "output_type": "display_data"
    },
    {
     "name": "stdout",
     "output_type": "stream",
     "text": [
      "     [,1] [,2]\n",
      "[1,]    5    6\n",
      "[2,]    7    8\n"
     ]
    },
    {
     "data": {
      "text/html": [
       "'세로결합 cbind(X,Y)'"
      ],
      "text/latex": [
       "'세로결합 cbind(X,Y)'"
      ],
      "text/markdown": [
       "'세로결합 cbind(X,Y)'"
      ],
      "text/plain": [
       "[1] \"세로결합 cbind(X,Y)\""
      ]
     },
     "metadata": {},
     "output_type": "display_data"
    },
    {
     "name": "stdout",
     "output_type": "stream",
     "text": [
      "     [,1] [,2] [,3] [,4]\n",
      "[1,]    1    3    5    6\n",
      "[2,]    2    4    7    8\n"
     ]
    },
    {
     "data": {
      "text/html": [
       "'가로결합 rbind(X,Y)'"
      ],
      "text/latex": [
       "'가로결합 rbind(X,Y)'"
      ],
      "text/markdown": [
       "'가로결합 rbind(X,Y)'"
      ],
      "text/plain": [
       "[1] \"가로결합 rbind(X,Y)\""
      ]
     },
     "metadata": {},
     "output_type": "display_data"
    },
    {
     "name": "stdout",
     "output_type": "stream",
     "text": [
      "     [,1] [,2]\n",
      "[1,]    1    3\n",
      "[2,]    2    4\n",
      "[3,]    5    6\n",
      "[4,]    7    8\n"
     ]
    }
   ],
   "source": [
    "# 세로결합 cbind()\n",
    "'X'\n",
    "print(X)\n",
    "'Y'\n",
    "print(Y)\n",
    "'세로결합 cbind(X,Y)'\n",
    "print(cbind(X,Y))\n",
    "'가로결합 rbind(X,Y)'\n",
    "print(rbind(X,Y))"
   ]
  },
  {
   "cell_type": "markdown",
   "metadata": {},
   "source": [
    "#### 열 평균 colMeans(), 행평균 rowMeans()"
   ]
  },
  {
   "cell_type": "code",
   "execution_count": 64,
   "metadata": {},
   "outputs": [
    {
     "data": {
      "text/html": [
       "'X'"
      ],
      "text/latex": [
       "'X'"
      ],
      "text/markdown": [
       "'X'"
      ],
      "text/plain": [
       "[1] \"X\""
      ]
     },
     "metadata": {},
     "output_type": "display_data"
    },
    {
     "name": "stdout",
     "output_type": "stream",
     "text": [
      "     [,1] [,2]\n",
      "[1,]    1    3\n",
      "[2,]    2    4\n"
     ]
    },
    {
     "data": {
      "text/html": [
       "'colMeans(X)'"
      ],
      "text/latex": [
       "'colMeans(X)'"
      ],
      "text/markdown": [
       "'colMeans(X)'"
      ],
      "text/plain": [
       "[1] \"colMeans(X)\""
      ]
     },
     "metadata": {},
     "output_type": "display_data"
    },
    {
     "name": "stdout",
     "output_type": "stream",
     "text": [
      "[1] 1.5 3.5\n"
     ]
    },
    {
     "data": {
      "text/html": [
       "'rowMeans(X)'"
      ],
      "text/latex": [
       "'rowMeans(X)'"
      ],
      "text/markdown": [
       "'rowMeans(X)'"
      ],
      "text/plain": [
       "[1] \"rowMeans(X)\""
      ]
     },
     "metadata": {},
     "output_type": "display_data"
    },
    {
     "name": "stdout",
     "output_type": "stream",
     "text": [
      "[1] 2 3\n"
     ]
    }
   ],
   "source": [
    "'X'\n",
    "print(X)\n",
    "'colMeans(X)'\n",
    "print(colMeans(X))\n",
    "'rowMeans(X)'\n",
    "print(rowMeans(X))"
   ]
  },
  {
   "cell_type": "markdown",
   "metadata": {},
   "source": [
    "#### 열합계 colSums(), 행합계 rowSums()"
   ]
  },
  {
   "cell_type": "code",
   "execution_count": 69,
   "metadata": {},
   "outputs": [
    {
     "data": {
      "text/html": [
       "'X'"
      ],
      "text/latex": [
       "'X'"
      ],
      "text/markdown": [
       "'X'"
      ],
      "text/plain": [
       "[1] \"X\""
      ]
     },
     "metadata": {},
     "output_type": "display_data"
    },
    {
     "name": "stdout",
     "output_type": "stream",
     "text": [
      "     [,1] [,2]\n",
      "[1,]    1    3\n",
      "[2,]    2    4\n"
     ]
    },
    {
     "data": {
      "text/html": [
       "'colSums(X)'"
      ],
      "text/latex": [
       "'colSums(X)'"
      ],
      "text/markdown": [
       "'colSums(X)'"
      ],
      "text/plain": [
       "[1] \"colSums(X)\""
      ]
     },
     "metadata": {},
     "output_type": "display_data"
    },
    {
     "name": "stdout",
     "output_type": "stream",
     "text": [
      "[1] 3 7\n"
     ]
    },
    {
     "data": {
      "text/html": [
       "'rowSums(X)'"
      ],
      "text/latex": [
       "'rowSums(X)'"
      ],
      "text/markdown": [
       "'rowSums(X)'"
      ],
      "text/plain": [
       "[1] \"rowSums(X)\""
      ]
     },
     "metadata": {},
     "output_type": "display_data"
    },
    {
     "name": "stdout",
     "output_type": "stream",
     "text": [
      "[1] 4 6\n"
     ]
    },
    {
     "data": {
      "text/html": [
       "'colSums(X, na.rm = TRUE) na.rm = TRUE: 값이 없으면 계산 no'"
      ],
      "text/latex": [
       "'colSums(X, na.rm = TRUE) na.rm = TRUE: 값이 없으면 계산 no'"
      ],
      "text/markdown": [
       "'colSums(X, na.rm = TRUE) na.rm = TRUE: 값이 없으면 계산 no'"
      ],
      "text/plain": [
       "[1] \"colSums(X, na.rm = TRUE) na.rm = TRUE: 값이 없으면 계산 no\""
      ]
     },
     "metadata": {},
     "output_type": "display_data"
    },
    {
     "name": "stdout",
     "output_type": "stream",
     "text": [
      "[1] 3 7\n"
     ]
    },
    {
     "data": {
      "text/html": [
       "'rowSums(X, na.rm = TRUE)'"
      ],
      "text/latex": [
       "'rowSums(X, na.rm = TRUE)'"
      ],
      "text/markdown": [
       "'rowSums(X, na.rm = TRUE)'"
      ],
      "text/plain": [
       "[1] \"rowSums(X, na.rm = TRUE)\""
      ]
     },
     "metadata": {},
     "output_type": "display_data"
    },
    {
     "name": "stdout",
     "output_type": "stream",
     "text": [
      "[1] 4 6\n"
     ]
    }
   ],
   "source": [
    "'X'\n",
    "print(X)\n",
    "\n",
    "'colSums(X)'\n",
    "print(colSums(X))\n",
    "\n",
    "'rowSums(X)'\n",
    "print(rowSums(X))\n",
    "\n",
    "'colSums(X, na.rm = TRUE) na.rm = TRUE: 값이 없으면 계산 no'\n",
    "print(colSums(X, na.rm = TRUE))\n",
    "\n",
    "'rowSums(X, na.rm = TRUE)'\n",
    "print(rowSums(X, na.rm = TRUE))"
   ]
  },
  {
   "cell_type": "code",
   "execution_count": 75,
   "metadata": {},
   "outputs": [
    {
     "data": {
      "text/html": [
       "'na.omit(), na.rm = TRUE 확인'"
      ],
      "text/latex": [
       "'na.omit(), na.rm = TRUE 확인'"
      ],
      "text/markdown": [
       "'na.omit(), na.rm = TRUE 확인'"
      ],
      "text/plain": [
       "[1] \"na.omit(), na.rm = TRUE 확인\""
      ]
     },
     "metadata": {},
     "output_type": "display_data"
    },
    {
     "name": "stdout",
     "output_type": "stream",
     "text": [
      "'data.frame':\t93 obs. of  27 variables:\n",
      " $ Manufacturer      : Factor w/ 32 levels \"Acura\",\"Audi\",..: 1 1 2 2 3 4 4 4 4 5 ...\n",
      " $ Model             : Factor w/ 93 levels \"100\",\"190E\",\"240\",..: 49 56 9 1 6 24 54 74 73 35 ...\n",
      " $ Type              : Factor w/ 6 levels \"Compact\",\"Large\",..: 4 3 1 3 3 3 2 2 3 2 ...\n",
      " $ Min.Price         : num  12.9 29.2 25.9 30.8 23.7 14.2 19.9 22.6 26.3 33 ...\n",
      " $ Price             : num  15.9 33.9 29.1 37.7 30 15.7 20.8 23.7 26.3 34.7 ...\n",
      " $ Max.Price         : num  18.8 38.7 32.3 44.6 36.2 17.3 21.7 24.9 26.3 36.3 ...\n",
      " $ MPG.city          : int  25 18 20 19 22 22 19 16 19 16 ...\n",
      " $ MPG.highway       : int  31 25 26 26 30 31 28 25 27 25 ...\n",
      " $ AirBags           : Factor w/ 3 levels \"Driver & Passenger\",..: 3 1 2 1 2 2 2 2 2 2 ...\n",
      " $ DriveTrain        : Factor w/ 3 levels \"4WD\",\"Front\",..: 2 2 2 2 3 2 2 3 2 2 ...\n",
      " $ Cylinders         : Factor w/ 6 levels \"3\",\"4\",\"5\",\"6\",..: 2 4 4 4 2 2 4 4 4 5 ...\n",
      " $ EngineSize        : num  1.8 3.2 2.8 2.8 3.5 2.2 3.8 5.7 3.8 4.9 ...\n",
      " $ Horsepower        : int  140 200 172 172 208 110 170 180 170 200 ...\n",
      " $ RPM               : int  6300 5500 5500 5500 5700 5200 4800 4000 4800 4100 ...\n",
      " $ Rev.per.mile      : int  2890 2335 2280 2535 2545 2565 1570 1320 1690 1510 ...\n",
      " $ Man.trans.avail   : Factor w/ 2 levels \"No\",\"Yes\": 2 2 2 2 2 1 1 1 1 1 ...\n",
      " $ Fuel.tank.capacity: num  13.2 18 16.9 21.1 21.1 16.4 18 23 18.8 18 ...\n",
      " $ Passengers        : int  5 5 5 6 4 6 6 6 5 6 ...\n",
      " $ Length            : int  177 195 180 193 186 189 200 216 198 206 ...\n",
      " $ Wheelbase         : int  102 115 102 106 109 105 111 116 108 114 ...\n",
      " $ Width             : int  68 71 67 70 69 69 74 78 73 73 ...\n",
      " $ Turn.circle       : int  37 38 37 37 39 41 42 45 41 43 ...\n",
      " $ Rear.seat.room    : num  26.5 30 28 31 27 28 30.5 30.5 26.5 35 ...\n",
      " $ Luggage.room      : int  11 15 14 17 13 16 17 21 14 18 ...\n",
      " $ Weight            : int  2705 3560 3375 3405 3640 2880 3470 4105 3495 3620 ...\n",
      " $ Origin            : Factor w/ 2 levels \"USA\",\"non-USA\": 2 2 2 2 2 1 1 1 1 1 ...\n",
      " $ Make              : Factor w/ 93 levels \"Acura Integra\",..: 1 2 4 3 5 6 7 9 8 10 ...\n"
     ]
    },
    {
     "data": {
      "text/html": [
       "'값이 없는 row 확인'"
      ],
      "text/latex": [
       "'값이 없는 row 확인'"
      ],
      "text/markdown": [
       "'값이 없는 row 확인'"
      ],
      "text/plain": [
       "[1] \"값이 없는 row 확인\""
      ]
     },
     "metadata": {},
     "output_type": "display_data"
    },
    {
     "name": "stdout",
     "output_type": "stream",
     "text": [
      "[1] 13\n"
     ]
    },
    {
     "data": {
      "text/html": [
       "'값이 없는 row 제거: na.omit(Cars93)'"
      ],
      "text/latex": [
       "'값이 없는 row 제거: na.omit(Cars93)'"
      ],
      "text/markdown": [
       "'값이 없는 row 제거: na.omit(Cars93)'"
      ],
      "text/plain": [
       "[1] \"값이 없는 row 제거: na.omit(Cars93)\""
      ]
     },
     "metadata": {},
     "output_type": "display_data"
    },
    {
     "data": {
      "text/html": [
       "0"
      ],
      "text/latex": [
       "0"
      ],
      "text/markdown": [
       "0"
      ],
      "text/plain": [
       "[1] 0"
      ]
     },
     "metadata": {},
     "output_type": "display_data"
    }
   ],
   "source": [
    "'na.omit(), na.rm = TRUE 확인'\n",
    "library(MASS)\n",
    "str(Cars93)\n",
    "\n",
    "'값이 없는 row 확인'\n",
    "print(sum(is.na(Cars93)))\n",
    "\n",
    "'값이 없는 row 제거: na.omit(Cars93)'\n",
    "Cars93_na.omit = na.omit(Cars93)\n",
    "sum(is.na(Cars93_na.omit))\n"
   ]
  },
  {
   "cell_type": "markdown",
   "metadata": {},
   "source": [
    "#### 직교행렬 (Orthogonal matrix)\n",
    "##### 정직교 행렬\n",
    "* x 의 norm : $||x|| = \\sqrt{(x^tx)}$\n",
    "* 정규벡터: norm 이 1 인 벡터 $u = \\dfrac{x}{||x||}$"
   ]
  },
  {
   "cell_type": "code",
   "execution_count": 84,
   "metadata": {},
   "outputs": [
    {
     "name": "stdout",
     "output_type": "stream",
     "text": [
      "[1] 2 3 4 1\n"
     ]
    },
    {
     "data": {
      "text/html": [
       "' F or f is Frobian norm : 유클리드 norm: 대표적: 피타고라스 정리'"
      ],
      "text/latex": [
       "' F or f is Frobian norm : 유클리드 norm: 대표적: 피타고라스 정리'"
      ],
      "text/markdown": [
       "' F or f is Frobian norm : 유클리드 norm: 대표적: 피타고라스 정리'"
      ],
      "text/plain": [
       "[1] \" F or f is Frobian norm : 유클리드 norm: 대표적: 피타고라스 정리\""
      ]
     },
     "metadata": {},
     "output_type": "display_data"
    },
    {
     "name": "stdout",
     "output_type": "stream",
     "text": [
      "[1] 5.477226\n"
     ]
    },
    {
     "data": {
      "text/html": [
       "'sum(x_1^2)'"
      ],
      "text/latex": [
       "'sum(x\\_1\\textasciicircum{}2)'"
      ],
      "text/markdown": [
       "'sum(x_1^2)'"
      ],
      "text/plain": [
       "[1] \"sum(x_1^2)\""
      ]
     },
     "metadata": {},
     "output_type": "display_data"
    },
    {
     "name": "stdout",
     "output_type": "stream",
     "text": [
      "[1] 30\n"
     ]
    },
    {
     "data": {
      "text/html": [
       "'sqrt(sum(x_1^2))'"
      ],
      "text/latex": [
       "'sqrt(sum(x\\_1\\textasciicircum{}2))'"
      ],
      "text/markdown": [
       "'sqrt(sum(x_1^2))'"
      ],
      "text/plain": [
       "[1] \"sqrt(sum(x_1^2))\""
      ]
     },
     "metadata": {},
     "output_type": "display_data"
    },
    {
     "name": "stdout",
     "output_type": "stream",
     "text": [
      "[1] 5.477226\n"
     ]
    }
   ],
   "source": [
    "x_1 = c(2,3,4,1)\n",
    "print(x_1)\n",
    "' F or f is Frobian norm : 유클리드 norm: 대표적: 피타고라스 정리'\n",
    "print(norm(matrix(x_1, 4), \"F\"))\n",
    "'sum(x_1^2)'\n",
    "print(sum(x_1^2))\n",
    "'sqrt(sum(x_1^2))'\n",
    "print(sqrt(sum(x_1^2)))"
   ]
  },
  {
   "cell_type": "markdown",
   "metadata": {},
   "source": [
    "* 같은 차수의 벡터 $x, y$ 에서 $x^t y = 0$ 일때 $x, y$ 는 서로 직교"
   ]
  },
  {
   "cell_type": "code",
   "execution_count": 85,
   "metadata": {},
   "outputs": [
    {
     "name": "stdout",
     "output_type": "stream",
     "text": [
      "[1] 1 2 2 4\n",
      "[1]  6  3 -2 -2\n"
     ]
    }
   ],
   "source": [
    "x_2 = c(1,2,2,4)\n",
    "print(x_2)\n",
    "y_2 = c(6,3,-2,-2)\n",
    "print(y_2)"
   ]
  },
  {
   "cell_type": "code",
   "execution_count": 87,
   "metadata": {},
   "outputs": [
    {
     "data": {
      "text/html": [
       "'x_2 %*% y_2'"
      ],
      "text/latex": [
       "'x\\_2 \\%*\\% y\\_2'"
      ],
      "text/markdown": [
       "'x_2 %*% y_2'"
      ],
      "text/plain": [
       "[1] \"x_2 %*% y_2\""
      ]
     },
     "metadata": {},
     "output_type": "display_data"
    },
    {
     "name": "stdout",
     "output_type": "stream",
     "text": [
      "     [,1]\n",
      "[1,]    0\n"
     ]
    },
    {
     "data": {
      "text/html": [
       "'x_2 와 y_2 는 서로 직교입니다.'"
      ],
      "text/latex": [
       "'x\\_2 와 y\\_2 는 서로 직교입니다.'"
      ],
      "text/markdown": [
       "'x_2 와 y_2 는 서로 직교입니다.'"
      ],
      "text/plain": [
       "[1] \"x_2 와 y_2 는 서로 직교입니다.\""
      ]
     },
     "metadata": {},
     "output_type": "display_data"
    }
   ],
   "source": [
    "'x_2 %*% y_2'\n",
    "print(x_2%*%y_2)\n",
    "'x_2 와 y_2 는 서로 직교입니다.'"
   ]
  },
  {
   "cell_type": "markdown",
   "metadata": {},
   "source": [
    "* 두 정규벡터가 직교할 때 그 두 벡터를 정직교벡터라고 함 $\\mathbf u^t\\mathbf u = 1, \\mathbf v^t \\mathbf v = 1, \\mathbf u \\mathbf v = 0$"
   ]
  },
  {
   "cell_type": "code",
   "execution_count": 92,
   "metadata": {},
   "outputs": [
    {
     "data": {
      "text/html": [
       "'u_1'"
      ],
      "text/latex": [
       "'u\\_1'"
      ],
      "text/markdown": [
       "'u_1'"
      ],
      "text/plain": [
       "[1] \"u_1\""
      ]
     },
     "metadata": {},
     "output_type": "display_data"
    },
    {
     "name": "stdout",
     "output_type": "stream",
     "text": [
      "[1] 1 1 3 3 4\n"
     ]
    },
    {
     "data": {
      "text/html": [
       "'u_1 norm'"
      ],
      "text/latex": [
       "'u\\_1 norm'"
      ],
      "text/markdown": [
       "'u_1 norm'"
      ],
      "text/plain": [
       "[1] \"u_1 norm\""
      ]
     },
     "metadata": {},
     "output_type": "display_data"
    },
    {
     "name": "stdout",
     "output_type": "stream",
     "text": [
      "[1] 6\n"
     ]
    },
    {
     "data": {
      "text/html": [
       "'u_1_u'"
      ],
      "text/latex": [
       "'u\\_1\\_u'"
      ],
      "text/markdown": [
       "'u_1_u'"
      ],
      "text/plain": [
       "[1] \"u_1_u\""
      ]
     },
     "metadata": {},
     "output_type": "display_data"
    },
    {
     "name": "stdout",
     "output_type": "stream",
     "text": [
      "[1] 0.1666667 0.1666667 0.5000000 0.5000000 0.6666667\n"
     ]
    },
    {
     "data": {
      "text/html": [
       "'v_1_u'"
      ],
      "text/latex": [
       "'v\\_1\\_u'"
      ],
      "text/markdown": [
       "'v_1_u'"
      ],
      "text/plain": [
       "[1] \"v_1_u\""
      ]
     },
     "metadata": {},
     "output_type": "display_data"
    },
    {
     "name": "stdout",
     "output_type": "stream",
     "text": [
      "[1] -0.1 -0.9 -0.1 -0.1  0.4\n"
     ]
    }
   ],
   "source": [
    "u_1 = c(1,1,3,3,4)\n",
    "u_1_n = sqrt(sum(u_1^2))\n",
    "'u_1'\n",
    "print(u_1)\n",
    "'u_1 norm'\n",
    "print(u_1_n)\n",
    "u_1_u = 1/u_1_n * u_1\n",
    "'u_1_u'\n",
    "print(u_1_u)\n",
    "v_1 = c(-0.1,-0.9, -0.1, -0.1, 0.4)\n",
    "v_1_n = sqrt(sum(v_1^2))\n",
    "v_1_u = 1/v_1_n * v_1\n",
    "'v_1_u'\n",
    "print(v_1_u)"
   ]
  },
  {
   "cell_type": "code",
   "execution_count": 96,
   "metadata": {},
   "outputs": [
    {
     "data": {
      "text/html": [
       "'u_1_u %*% u_1_u'"
      ],
      "text/latex": [
       "'u\\_1\\_u \\%*\\% u\\_1\\_u'"
      ],
      "text/markdown": [
       "'u_1_u %*% u_1_u'"
      ],
      "text/plain": [
       "[1] \"u_1_u %*% u_1_u\""
      ]
     },
     "metadata": {},
     "output_type": "display_data"
    },
    {
     "name": "stdout",
     "output_type": "stream",
     "text": [
      "     [,1]\n",
      "[1,]    1\n"
     ]
    },
    {
     "data": {
      "text/html": [
       "'v_1_u %*% v_1_u'"
      ],
      "text/latex": [
       "'v\\_1\\_u \\%*\\% v\\_1\\_u'"
      ],
      "text/markdown": [
       "'v_1_u %*% v_1_u'"
      ],
      "text/plain": [
       "[1] \"v_1_u %*% v_1_u\""
      ]
     },
     "metadata": {},
     "output_type": "display_data"
    },
    {
     "name": "stdout",
     "output_type": "stream",
     "text": [
      "     [,1]\n",
      "[1,]    1\n"
     ]
    },
    {
     "data": {
      "text/html": [
       "'u_1_u %*% v_1_u'"
      ],
      "text/latex": [
       "'u\\_1\\_u \\%*\\% v\\_1\\_u'"
      ],
      "text/markdown": [
       "'u_1_u %*% v_1_u'"
      ],
      "text/plain": [
       "[1] \"u_1_u %*% v_1_u\""
      ]
     },
     "metadata": {},
     "output_type": "display_data"
    },
    {
     "name": "stdout",
     "output_type": "stream",
     "text": [
      "     [,1]\n",
      "[1,]    0\n"
     ]
    }
   ],
   "source": [
    "'u_1_u %*% u_1_u'\n",
    "print(u_1_u %*% u_1_u)\n",
    "'v_1_u %*% v_1_u'\n",
    "print(v_1_u %*% v_1_u)\n",
    "'u_1_u %*% v_1_u'\n",
    "print(u_1_u %*% v_1_u)"
   ]
  },
  {
   "cell_type": "markdown",
   "metadata": {},
   "source": [
    "* 정 직교 집합: 집합에 있는 모든 벡터들이 정규 벡터이고 서로 다른 벡터 끼리 직교\n",
    "   * 행렬 $\\mathbf P_{r \\times c}$ 의 행들이 정 직교 집합을 이룰 때, 정 직교 행을 가진다고 함. 그러면 $\\mathbf P \\mathbf P^t = \\mathbf I_{r}$ 이 성립합니다. 역이 항상 성립하지는 않습니다."
   ]
  },
  {
   "cell_type": "code",
   "execution_count": 97,
   "metadata": {},
   "outputs": [
    {
     "name": "stdout",
     "output_type": "stream",
     "text": [
      "     [,1] [,2] [,3]\n",
      "[1,]    1    0    0\n",
      "[2,]    0    1    0\n"
     ]
    }
   ],
   "source": [
    "P17 = matrix(c(1, 0, 0, 1, 0, 0), 2)\n",
    "print(P17)"
   ]
  },
  {
   "cell_type": "code",
   "execution_count": 100,
   "metadata": {},
   "outputs": [
    {
     "data": {
      "text/html": [
       "'P17 %*% t(P17)'"
      ],
      "text/latex": [
       "'P17 \\%*\\% t(P17)'"
      ],
      "text/markdown": [
       "'P17 %*% t(P17)'"
      ],
      "text/plain": [
       "[1] \"P17 %*% t(P17)\""
      ]
     },
     "metadata": {},
     "output_type": "display_data"
    },
    {
     "name": "stdout",
     "output_type": "stream",
     "text": [
      "     [,1] [,2]\n",
      "[1,]    1    0\n",
      "[2,]    0    1\n"
     ]
    }
   ],
   "source": [
    "'P17 %*% t(P17)'\n",
    "print(P17 %*% t(P17))"
   ]
  },
  {
   "cell_type": "code",
   "execution_count": 101,
   "metadata": {},
   "outputs": [
    {
     "data": {
      "text/html": [
       "'t(P17) %*% P17'"
      ],
      "text/latex": [
       "'t(P17) \\%*\\% P17'"
      ],
      "text/markdown": [
       "'t(P17) %*% P17'"
      ],
      "text/plain": [
       "[1] \"t(P17) %*% P17\""
      ]
     },
     "metadata": {},
     "output_type": "display_data"
    },
    {
     "name": "stdout",
     "output_type": "stream",
     "text": [
      "     [,1] [,2] [,3]\n",
      "[1,]    1    0    0\n",
      "[2,]    0    1    0\n",
      "[3,]    0    0    0\n"
     ]
    }
   ],
   "source": [
    "'t(P17) %*% P17'\n",
    "print(t(P17) %*% P17)"
   ]
  },
  {
   "cell_type": "code",
   "execution_count": 102,
   "metadata": {},
   "outputs": [
    {
     "name": "stdout",
     "output_type": "stream",
     "text": [
      "          [,1]       [,2]       [,3]\n",
      "[1,] 0.5773503  0.5773503  0.5773503\n",
      "[2,] 0.7071068 -0.7071068  0.0000000\n",
      "[3,] 0.4082483  0.4082483 -0.8164966\n"
     ]
    }
   ],
   "source": [
    "P18 = 1/sqrt(6)*matrix(c(sqrt(2), sqrt(3), 1, sqrt(2), -sqrt(3), 1, sqrt(2), 0, -2), 3)\n",
    "print(P18)"
   ]
  },
  {
   "cell_type": "code",
   "execution_count": 104,
   "metadata": {},
   "outputs": [
    {
     "name": "stdout",
     "output_type": "stream",
     "text": [
      "     [,1] [,2] [,3]\n",
      "[1,]    1    0    0\n",
      "[2,]    0    1    0\n",
      "[3,]    0    0    1\n"
     ]
    }
   ],
   "source": [
    "print(round(t(P18) %*% P18, digits=5))"
   ]
  },
  {
   "cell_type": "code",
   "execution_count": 106,
   "metadata": {},
   "outputs": [
    {
     "name": "stdout",
     "output_type": "stream",
     "text": [
      "     [,1] [,2] [,3]\n",
      "[1,]    1    0    0\n",
      "[2,]    0    1    0\n",
      "[3,]    0    0    1\n"
     ]
    }
   ],
   "source": [
    "print(P18 %*% t(P18))"
   ]
  },
  {
   "cell_type": "markdown",
   "metadata": {},
   "source": [
    "다음에는 커널, 차원정리, 계수, 고유값 n 차원, 마크코프, 그리고 대망의 SVD 과정, 그리고 대응분석을 진행 할 예정입니다."
   ]
  },
  {
   "cell_type": "code",
   "execution_count": null,
   "metadata": {},
   "outputs": [],
   "source": []
  }
 ],
 "metadata": {
  "kernelspec": {
   "display_name": "R",
   "language": "R",
   "name": "ir"
  },
  "language_info": {
   "codemirror_mode": "r",
   "file_extension": ".r",
   "mimetype": "text/x-r-source",
   "name": "R",
   "pygments_lexer": "r",
   "version": "3.4.3"
  }
 },
 "nbformat": 4,
 "nbformat_minor": 2
}
