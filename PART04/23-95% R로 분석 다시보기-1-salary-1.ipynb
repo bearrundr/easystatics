{
 "cells": [
  {
   "cell_type": "markdown",
   "metadata": {},
   "source": [
    "# <span style=\"color:blue\"> 이토록 쉬운 통계 & R </span>"
   ]
  },
  {
   "cell_type": "markdown",
   "metadata": {},
   "source": [
    "<img src=\"../image/cover.png\" width=\"200\" height=\"400\" align=\"left\">  임경덕 지음"
   ]
  },
  {
   "cell_type": "markdown",
   "metadata": {},
   "source": [
    "## PART 4 데이터 분석 도구, R"
   ]
  },
  {
   "cell_type": "markdown",
   "metadata": {},
   "source": [
    "## 95% R로 분석 다시보기-1-salary-1 (37일차)"
   ]
  },
  {
   "cell_type": "markdown",
   "metadata": {},
   "source": [
    "   * 데이타프로젝트 (http://dataproject.xyz) 또는 (http://cafe.naver.com/dataartproject) 에 미리 저장된 스크립트를 다운 받을 수 있습니다.\n",
    "   * 스크립트를 활용하면 직접 명령어를 입력하지 않고 저장된 명령어들을 실행할 수 있습니다."
   ]
  },
  {
   "cell_type": "markdown",
   "metadata": {},
   "source": [
    "### 데이터 파일은 dataartproject.xyz 에 있습니다."
   ]
  },
  {
   "cell_type": "markdown",
   "metadata": {},
   "source": [
    "# 하나의 연속형 변수 요약하기"
   ]
  },
  {
   "cell_type": "markdown",
   "metadata": {},
   "source": [
    "## 내 연봉은 어느 정도 순위에 있을까?"
   ]
  },
  {
   "cell_type": "markdown",
   "metadata": {},
   "source": [
    "한국 납세자 연맹(koreatax.org) 에서는 연말정산 데이터를 기반으로 연봉 탐색 서비스를 제공합니다. 이것을 바탕으로 가상의 기업을 만들어 10,000 명이 근무하는 회사의 연봉 데이터를 만들었습니다."
   ]
  },
  {
   "cell_type": "code",
   "execution_count": 24,
   "metadata": {},
   "outputs": [],
   "source": [
    "data = subway = read.csv(\"Practice/data/salary_data.csv\")"
   ]
  },
  {
   "cell_type": "code",
   "execution_count": 11,
   "metadata": {},
   "outputs": [
    {
     "data": {
      "text/html": [
       "<table>\n",
       "<thead><tr><th scope=col>salary</th></tr></thead>\n",
       "<tbody>\n",
       "\t<tr><td>2930</td></tr>\n",
       "\t<tr><td>6122</td></tr>\n",
       "\t<tr><td>3301</td></tr>\n",
       "\t<tr><td> 979</td></tr>\n",
       "\t<tr><td>4926</td></tr>\n",
       "\t<tr><td>2328</td></tr>\n",
       "</tbody>\n",
       "</table>\n"
      ],
      "text/latex": [
       "\\begin{tabular}{r|l}\n",
       " salary\\\\\n",
       "\\hline\n",
       "\t 2930\\\\\n",
       "\t 6122\\\\\n",
       "\t 3301\\\\\n",
       "\t  979\\\\\n",
       "\t 4926\\\\\n",
       "\t 2328\\\\\n",
       "\\end{tabular}\n"
      ],
      "text/markdown": [
       "\n",
       "salary | \n",
       "|---|---|---|---|---|---|\n",
       "| 2930 | \n",
       "| 6122 | \n",
       "| 3301 | \n",
       "|  979 | \n",
       "| 4926 | \n",
       "| 2328 | \n",
       "\n",
       "\n"
      ],
      "text/plain": [
       "  salary\n",
       "1 2930  \n",
       "2 6122  \n",
       "3 3301  \n",
       "4  979  \n",
       "5 4926  \n",
       "6 2328  "
      ]
     },
     "metadata": {},
     "output_type": "display_data"
    }
   ],
   "source": [
    "head(data)"
   ]
  },
  {
   "cell_type": "code",
   "execution_count": 12,
   "metadata": {},
   "outputs": [
    {
     "data": {
      "text/html": [
       "10000"
      ],
      "text/latex": [
       "10000"
      ],
      "text/markdown": [
       "10000"
      ],
      "text/plain": [
       "[1] 10000"
      ]
     },
     "metadata": {},
     "output_type": "display_data"
    }
   ],
   "source": [
    "nrow(data)"
   ]
  },
  {
   "cell_type": "markdown",
   "metadata": {},
   "source": [
    "   * 10,000 개의 관측치가 있습니다.\n",
    "   * 누군가의 연봉을 말합니다. 단위는 만원입니다.\n",
    "   * 이제 이 데이타로 요약을 해보아요\n"
   ]
  },
  {
   "cell_type": "code",
   "execution_count": 13,
   "metadata": {},
   "outputs": [],
   "source": [
    "salary = data$salary"
   ]
  },
  {
   "cell_type": "code",
   "execution_count": 15,
   "metadata": {},
   "outputs": [
    {
     "data": {
      "text/html": [
       "<ol class=list-inline>\n",
       "\t<li>2930</li>\n",
       "\t<li>6122</li>\n",
       "\t<li>3301</li>\n",
       "\t<li>979</li>\n",
       "\t<li>4926</li>\n",
       "\t<li>2328</li>\n",
       "\t<li>82</li>\n",
       "\t<li>6879</li>\n",
       "\t<li>672</li>\n",
       "\t<li>350</li>\n",
       "\t<li>1812</li>\n",
       "\t<li>158</li>\n",
       "\t<li>5105</li>\n",
       "\t<li>4945</li>\n",
       "\t<li>170</li>\n",
       "\t<li>3914</li>\n",
       "\t<li>2042</li>\n",
       "\t<li>1966</li>\n",
       "\t<li>1020</li>\n",
       "\t<li>4899</li>\n",
       "\t<li>1575</li>\n",
       "\t<li>2714</li>\n",
       "\t<li>1451</li>\n",
       "\t<li>686</li>\n",
       "\t<li>1403</li>\n",
       "\t<li>3429</li>\n",
       "\t<li>7034</li>\n",
       "\t<li>3485</li>\n",
       "\t<li>3721</li>\n",
       "\t<li>3215</li>\n",
       "\t<li>5755</li>\n",
       "\t<li>2087</li>\n",
       "\t<li>160</li>\n",
       "\t<li>276</li>\n",
       "\t<li>3208</li>\n",
       "\t<li>2855</li>\n",
       "\t<li>1055</li>\n",
       "\t<li>2648</li>\n",
       "\t<li>4901</li>\n",
       "\t<li>1377</li>\n",
       "\t<li>108</li>\n",
       "\t<li>6167</li>\n",
       "\t<li>3005</li>\n",
       "\t<li>472</li>\n",
       "\t<li>2253</li>\n",
       "\t<li>408</li>\n",
       "\t<li>3127</li>\n",
       "\t<li>386</li>\n",
       "\t<li>392</li>\n",
       "\t<li>1948</li>\n",
       "</ol>\n"
      ],
      "text/latex": [
       "\\begin{enumerate*}\n",
       "\\item 2930\n",
       "\\item 6122\n",
       "\\item 3301\n",
       "\\item 979\n",
       "\\item 4926\n",
       "\\item 2328\n",
       "\\item 82\n",
       "\\item 6879\n",
       "\\item 672\n",
       "\\item 350\n",
       "\\item 1812\n",
       "\\item 158\n",
       "\\item 5105\n",
       "\\item 4945\n",
       "\\item 170\n",
       "\\item 3914\n",
       "\\item 2042\n",
       "\\item 1966\n",
       "\\item 1020\n",
       "\\item 4899\n",
       "\\item 1575\n",
       "\\item 2714\n",
       "\\item 1451\n",
       "\\item 686\n",
       "\\item 1403\n",
       "\\item 3429\n",
       "\\item 7034\n",
       "\\item 3485\n",
       "\\item 3721\n",
       "\\item 3215\n",
       "\\item 5755\n",
       "\\item 2087\n",
       "\\item 160\n",
       "\\item 276\n",
       "\\item 3208\n",
       "\\item 2855\n",
       "\\item 1055\n",
       "\\item 2648\n",
       "\\item 4901\n",
       "\\item 1377\n",
       "\\item 108\n",
       "\\item 6167\n",
       "\\item 3005\n",
       "\\item 472\n",
       "\\item 2253\n",
       "\\item 408\n",
       "\\item 3127\n",
       "\\item 386\n",
       "\\item 392\n",
       "\\item 1948\n",
       "\\end{enumerate*}\n"
      ],
      "text/markdown": [
       "1. 2930\n",
       "2. 6122\n",
       "3. 3301\n",
       "4. 979\n",
       "5. 4926\n",
       "6. 2328\n",
       "7. 82\n",
       "8. 6879\n",
       "9. 672\n",
       "10. 350\n",
       "11. 1812\n",
       "12. 158\n",
       "13. 5105\n",
       "14. 4945\n",
       "15. 170\n",
       "16. 3914\n",
       "17. 2042\n",
       "18. 1966\n",
       "19. 1020\n",
       "20. 4899\n",
       "21. 1575\n",
       "22. 2714\n",
       "23. 1451\n",
       "24. 686\n",
       "25. 1403\n",
       "26. 3429\n",
       "27. 7034\n",
       "28. 3485\n",
       "29. 3721\n",
       "30. 3215\n",
       "31. 5755\n",
       "32. 2087\n",
       "33. 160\n",
       "34. 276\n",
       "35. 3208\n",
       "36. 2855\n",
       "37. 1055\n",
       "38. 2648\n",
       "39. 4901\n",
       "40. 1377\n",
       "41. 108\n",
       "42. 6167\n",
       "43. 3005\n",
       "44. 472\n",
       "45. 2253\n",
       "46. 408\n",
       "47. 3127\n",
       "48. 386\n",
       "49. 392\n",
       "50. 1948\n",
       "\n",
       "\n"
      ],
      "text/plain": [
       " [1] 2930 6122 3301  979 4926 2328   82 6879  672  350 1812  158 5105 4945  170\n",
       "[16] 3914 2042 1966 1020 4899 1575 2714 1451  686 1403 3429 7034 3485 3721 3215\n",
       "[31] 5755 2087  160  276 3208 2855 1055 2648 4901 1377  108 6167 3005  472 2253\n",
       "[46]  408 3127  386  392 1948"
      ]
     },
     "metadata": {},
     "output_type": "display_data"
    }
   ],
   "source": [
    "head(salary, 50)"
   ]
  },
  {
   "cell_type": "code",
   "execution_count": 16,
   "metadata": {},
   "outputs": [
    {
     "data": {
      "text/html": [
       "<ol class=list-inline>\n",
       "\t<li>0</li>\n",
       "\t<li>0</li>\n",
       "\t<li>1</li>\n",
       "\t<li>1</li>\n",
       "\t<li>1</li>\n",
       "\t<li>2</li>\n",
       "\t<li>2</li>\n",
       "\t<li>3</li>\n",
       "\t<li>3</li>\n",
       "\t<li>3</li>\n",
       "\t<li>4</li>\n",
       "\t<li>4</li>\n",
       "\t<li>4</li>\n",
       "\t<li>4</li>\n",
       "\t<li>5</li>\n",
       "\t<li>6</li>\n",
       "\t<li>6</li>\n",
       "\t<li>7</li>\n",
       "\t<li>7</li>\n",
       "\t<li>7</li>\n",
       "\t<li>7</li>\n",
       "\t<li>8</li>\n",
       "\t<li>8</li>\n",
       "\t<li>8</li>\n",
       "\t<li>9</li>\n",
       "\t<li>9</li>\n",
       "\t<li>9</li>\n",
       "\t<li>10</li>\n",
       "\t<li>10</li>\n",
       "\t<li>10</li>\n",
       "\t<li>10</li>\n",
       "\t<li>10</li>\n",
       "\t<li>12</li>\n",
       "\t<li>13</li>\n",
       "\t<li>13</li>\n",
       "\t<li>13</li>\n",
       "\t<li>13</li>\n",
       "\t<li>14</li>\n",
       "\t<li>14</li>\n",
       "\t<li>15</li>\n",
       "\t<li>15</li>\n",
       "\t<li>16</li>\n",
       "\t<li>17</li>\n",
       "\t<li>17</li>\n",
       "\t<li>18</li>\n",
       "\t<li>18</li>\n",
       "\t<li>18</li>\n",
       "\t<li>18</li>\n",
       "\t<li>19</li>\n",
       "\t<li>20</li>\n",
       "</ol>\n"
      ],
      "text/latex": [
       "\\begin{enumerate*}\n",
       "\\item 0\n",
       "\\item 0\n",
       "\\item 1\n",
       "\\item 1\n",
       "\\item 1\n",
       "\\item 2\n",
       "\\item 2\n",
       "\\item 3\n",
       "\\item 3\n",
       "\\item 3\n",
       "\\item 4\n",
       "\\item 4\n",
       "\\item 4\n",
       "\\item 4\n",
       "\\item 5\n",
       "\\item 6\n",
       "\\item 6\n",
       "\\item 7\n",
       "\\item 7\n",
       "\\item 7\n",
       "\\item 7\n",
       "\\item 8\n",
       "\\item 8\n",
       "\\item 8\n",
       "\\item 9\n",
       "\\item 9\n",
       "\\item 9\n",
       "\\item 10\n",
       "\\item 10\n",
       "\\item 10\n",
       "\\item 10\n",
       "\\item 10\n",
       "\\item 12\n",
       "\\item 13\n",
       "\\item 13\n",
       "\\item 13\n",
       "\\item 13\n",
       "\\item 14\n",
       "\\item 14\n",
       "\\item 15\n",
       "\\item 15\n",
       "\\item 16\n",
       "\\item 17\n",
       "\\item 17\n",
       "\\item 18\n",
       "\\item 18\n",
       "\\item 18\n",
       "\\item 18\n",
       "\\item 19\n",
       "\\item 20\n",
       "\\end{enumerate*}\n"
      ],
      "text/markdown": [
       "1. 0\n",
       "2. 0\n",
       "3. 1\n",
       "4. 1\n",
       "5. 1\n",
       "6. 2\n",
       "7. 2\n",
       "8. 3\n",
       "9. 3\n",
       "10. 3\n",
       "11. 4\n",
       "12. 4\n",
       "13. 4\n",
       "14. 4\n",
       "15. 5\n",
       "16. 6\n",
       "17. 6\n",
       "18. 7\n",
       "19. 7\n",
       "20. 7\n",
       "21. 7\n",
       "22. 8\n",
       "23. 8\n",
       "24. 8\n",
       "25. 9\n",
       "26. 9\n",
       "27. 9\n",
       "28. 10\n",
       "29. 10\n",
       "30. 10\n",
       "31. 10\n",
       "32. 10\n",
       "33. 12\n",
       "34. 13\n",
       "35. 13\n",
       "36. 13\n",
       "37. 13\n",
       "38. 14\n",
       "39. 14\n",
       "40. 15\n",
       "41. 15\n",
       "42. 16\n",
       "43. 17\n",
       "44. 17\n",
       "45. 18\n",
       "46. 18\n",
       "47. 18\n",
       "48. 18\n",
       "49. 19\n",
       "50. 20\n",
       "\n",
       "\n"
      ],
      "text/plain": [
       " [1]  0  0  1  1  1  2  2  3  3  3  4  4  4  4  5  6  6  7  7  7  7  8  8  8  9\n",
       "[26]  9  9 10 10 10 10 10 12 13 13 13 13 14 14 15 15 16 17 17 18 18 18 18 19 20"
      ]
     },
     "metadata": {},
     "output_type": "display_data"
    }
   ],
   "source": [
    "# 오름차순으로 정렬하여 순서매기기를 해봅니다.\n",
    "head(sort(salary),50)"
   ]
  },
  {
   "cell_type": "code",
   "execution_count": 17,
   "metadata": {},
   "outputs": [
    {
     "data": {
      "text/html": [
       "0"
      ],
      "text/latex": [
       "0"
      ],
      "text/markdown": [
       "0"
      ],
      "text/plain": [
       "[1] 0"
      ]
     },
     "metadata": {},
     "output_type": "display_data"
    }
   ],
   "source": [
    "# 최솟값\n",
    "min(salary)"
   ]
  },
  {
   "cell_type": "code",
   "execution_count": 18,
   "metadata": {},
   "outputs": [
    {
     "data": {
      "text/html": [
       "86669"
      ],
      "text/latex": [
       "86669"
      ],
      "text/markdown": [
       "86669"
      ],
      "text/plain": [
       "[1] 86669"
      ]
     },
     "metadata": {},
     "output_type": "display_data"
    }
   ],
   "source": [
    "#최댓값\n",
    "max(salary)"
   ]
  },
  {
   "cell_type": "code",
   "execution_count": 19,
   "metadata": {},
   "outputs": [
    {
     "data": {
      "text/html": [
       "2276"
      ],
      "text/latex": [
       "2276"
      ],
      "text/markdown": [
       "2276"
      ],
      "text/plain": [
       "[1] 2276"
      ]
     },
     "metadata": {},
     "output_type": "display_data"
    }
   ],
   "source": [
    "#중간값\n",
    "median(salary)"
   ]
  },
  {
   "cell_type": "markdown",
   "metadata": {},
   "source": [
    "   * 최솟값은 0원, 최댓값은 8억 6천 669만원입니다.\n",
    "   * 중간값은 2천 276만원입니다."
   ]
  },
  {
   "cell_type": "code",
   "execution_count": 20,
   "metadata": {},
   "outputs": [
    {
     "data": {
      "text/html": [
       "<strong>90%:</strong> 6637"
      ],
      "text/latex": [
       "\\textbf{90\\textbackslash{}\\%:} 6637"
      ],
      "text/markdown": [
       "**90%:** 6637"
      ],
      "text/plain": [
       " 90% \n",
       "6637 "
      ]
     },
     "metadata": {},
     "output_type": "display_data"
    }
   ],
   "source": [
    "# 사분위수를 확인 해 보아요\n",
    "quantile(salary, 0.9)"
   ]
  },
  {
   "cell_type": "code",
   "execution_count": 21,
   "metadata": {},
   "outputs": [
    {
     "data": {
      "text/html": [
       "<strong>25%:</strong> 1194.75"
      ],
      "text/latex": [
       "\\textbf{25\\textbackslash{}\\%:} 1194.75"
      ],
      "text/markdown": [
       "**25%:** 1194.75"
      ],
      "text/plain": [
       "    25% \n",
       "1194.75 "
      ]
     },
     "metadata": {},
     "output_type": "display_data"
    }
   ],
   "source": [
    "quantile(salary, 0.25)"
   ]
  },
  {
   "cell_type": "code",
   "execution_count": 22,
   "metadata": {},
   "outputs": [
    {
     "data": {
      "text/html": [
       "<strong>75%:</strong> 4221.25"
      ],
      "text/latex": [
       "\\textbf{75\\textbackslash{}\\%:} 4221.25"
      ],
      "text/markdown": [
       "**75%:** 4221.25"
      ],
      "text/plain": [
       "    75% \n",
       "4221.25 "
      ]
     },
     "metadata": {},
     "output_type": "display_data"
    }
   ],
   "source": [
    "quantile(salary, 0.75)"
   ]
  },
  {
   "cell_type": "markdown",
   "metadata": {},
   "source": [
    "   * 90% 지점 연봉이 보이고\n",
    "   * Q1 은 약 1,195 만원\n",
    "   * Q3 는 4,221 만원입니다.\n",
    "   \n",
    "   \n",
    "   \n",
    "   * 이것을 한번에 하는 명령어는 summary 입니다."
   ]
  },
  {
   "cell_type": "code",
   "execution_count": 23,
   "metadata": {},
   "outputs": [
    {
     "data": {
      "text/plain": [
       "   Min. 1st Qu.  Median    Mean 3rd Qu.    Max. \n",
       "      0    1195    2276    3140    4221   86669 "
      ]
     },
     "metadata": {},
     "output_type": "display_data"
    }
   ],
   "source": [
    "summary(salary)"
   ]
  },
  {
   "cell_type": "code",
   "execution_count": null,
   "metadata": {},
   "outputs": [],
   "source": []
  }
 ],
 "metadata": {
  "kernelspec": {
   "display_name": "R",
   "language": "R",
   "name": "ir"
  },
  "language_info": {
   "codemirror_mode": "r",
   "file_extension": ".r",
   "mimetype": "text/x-r-source",
   "name": "R",
   "pygments_lexer": "r",
   "version": "3.4.3"
  }
 },
 "nbformat": 4,
 "nbformat_minor": 2
}
