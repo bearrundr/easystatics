{
 "cells": [
  {
   "cell_type": "markdown",
   "metadata": {},
   "source": [
    "# <span style=\"color:blue\"> 이토록 쉬운 통계 & R </span>"
   ]
  },
  {
   "cell_type": "markdown",
   "metadata": {},
   "source": [
    "<img src=\"../image/cover.png\" width=\"200\" height=\"400\" align=\"left\">  임경덕 지음"
   ]
  },
  {
   "cell_type": "markdown",
   "metadata": {},
   "source": [
    "## PART 4 데이터 분석 도구, R"
   ]
  },
  {
   "cell_type": "markdown",
   "metadata": {},
   "source": [
    "## 23-95% R로 분석 다시보기-4-연속형변수 관계-4 (61일차)"
   ]
  },
  {
   "cell_type": "markdown",
   "metadata": {},
   "source": [
    "   * 데이타프로젝트 (http://dataproject.xyz) 또는 (http://cafe.naver.com/dataartproject) 에 미리 저장된 스크립트를 다운 받을 수 있습니다.\n",
    "   * 스크립트를 활용하면 직접 명령어를 입력하지 않고 저장된 명령어들을 실행할 수 있습니다."
   ]
  },
  {
   "cell_type": "markdown",
   "metadata": {},
   "source": [
    "### 데이터 파일은 dataartproject.xyz 에 있습니다."
   ]
  },
  {
   "cell_type": "markdown",
   "metadata": {},
   "source": [
    "# 두개의 연속형 변수의 관계 찾기\n",
    "\n",
    "## 과연 아빠의 키는 아들 키에 얼마나 큰 영향을 줄까?  - 선형회귀 결정계수\n"
   ]
  },
  {
   "cell_type": "markdown",
   "metadata": {},
   "source": [
    "예전에 피어슨 통계학자가 아빠키와 아들키의 관계에 관심을 가지고 1978쌍의 키 데이터를 모았습니다. 이제 이것을 가지고 분석하고자 합니다.\n",
    "\n",
    "먼저 read.csv() 함수로 데이터를 불러오기로 합니다."
   ]
  },
  {
   "cell_type": "markdown",
   "metadata": {},
   "source": [
    "### 1. 파일 읽기"
   ]
  },
  {
   "cell_type": "code",
   "execution_count": 1,
   "metadata": {},
   "outputs": [
    {
     "name": "stdout",
     "output_type": "stream",
     "text": [
      "변수이름들= father son \n"
     ]
    },
    {
     "data": {
      "text/html": [
       "<table>\n",
       "<thead><tr><th scope=col>father</th><th scope=col>son</th></tr></thead>\n",
       "<tbody>\n",
       "\t<tr><td>165.2</td><td>151.8</td></tr>\n",
       "\t<tr><td>160.7</td><td>160.6</td></tr>\n",
       "\t<tr><td>165.0</td><td>160.9</td></tr>\n",
       "\t<tr><td>167.0</td><td>159.5</td></tr>\n",
       "\t<tr><td>155.3</td><td>163.3</td></tr>\n",
       "\t<tr><td>160.1</td><td>163.2</td></tr>\n",
       "</tbody>\n",
       "</table>\n"
      ],
      "text/latex": [
       "\\begin{tabular}{r|ll}\n",
       " father & son\\\\\n",
       "\\hline\n",
       "\t 165.2 & 151.8\\\\\n",
       "\t 160.7 & 160.6\\\\\n",
       "\t 165.0 & 160.9\\\\\n",
       "\t 167.0 & 159.5\\\\\n",
       "\t 155.3 & 163.3\\\\\n",
       "\t 160.1 & 163.2\\\\\n",
       "\\end{tabular}\n"
      ],
      "text/markdown": [
       "\n",
       "father | son | \n",
       "|---|---|---|---|---|---|\n",
       "| 165.2 | 151.8 | \n",
       "| 160.7 | 160.6 | \n",
       "| 165.0 | 160.9 | \n",
       "| 167.0 | 159.5 | \n",
       "| 155.3 | 163.3 | \n",
       "| 160.1 | 163.2 | \n",
       "\n",
       "\n"
      ],
      "text/plain": [
       "  father son  \n",
       "1 165.2  151.8\n",
       "2 160.7  160.6\n",
       "3 165.0  160.9\n",
       "4 167.0  159.5\n",
       "5 155.3  163.3\n",
       "6 160.1  163.2"
      ]
     },
     "metadata": {},
     "output_type": "display_data"
    }
   ],
   "source": [
    "# 파일 읽기\n",
    "heights <- read.csv(\"Practice/data/heights.csv\")\n",
    "\n",
    "cat(\"변수이름들=\", names(heights), \"\\n\")\n",
    "head(heights) \n",
    "\n",
    "## 원래 파일을 사용하려면 father.son 데이터를 가져와야 합니다.\n",
    "#install.packages(\"UsingR\")\n",
    "#library(UsingR)\n",
    "#data(father.son)\n"
   ]
  },
  {
   "cell_type": "markdown",
   "metadata": {},
   "source": [
    "### 2. 데이터 요약"
   ]
  },
  {
   "cell_type": "code",
   "execution_count": 2,
   "metadata": {},
   "outputs": [
    {
     "name": "stdout",
     "output_type": "stream",
     "text": [
      "아빠 평균키= 171.9252 \n",
      "아빠 중간값= 172.1 \n",
      "아빠 최댓값= 191.6 \n",
      "아빠 최솟값= 149.9 \n",
      "아빠 최솟값= 149.9 \n",
      "아빠 범위= 149.9 191.6 \n",
      "아빠 사분위= 149.9 167.1 172.1 176.8 191.6 \n",
      "\n",
      "아빠 분산= 48.61361 \n",
      "아빠 표준편차= 6.972346 \n",
      "\n",
      "\n",
      "아들 평균키= 174.4572 \n",
      "아들 중간값= 174.3 \n",
      "아들 최댓값= 199 \n",
      "아들 최솟값= 148.6 \n",
      "아들 최솟값= 148.6 \n",
      "아들 범위= 148.6 199 \n",
      "아들 사분위= 148.6 170 174.3 179 199 \n",
      "\n",
      "아들 분산= 51.1327 \n",
      "아들 표준편차= 7.150713 \n",
      "\n",
      "\n"
     ]
    }
   ],
   "source": [
    "cat(\"아빠 평균키=\",mean(heights$father), \"\\n\")\n",
    "cat(\"아빠 중간값=\",median(heights$father), \"\\n\")\n",
    "cat(\"아빠 최댓값=\",max(heights$father), \"\\n\")\n",
    "cat(\"아빠 최솟값=\",min(heights$father), \"\\n\")\n",
    "cat(\"아빠 최솟값=\",min(heights$father), \"\\n\")\n",
    "cat(\"아빠 범위=\",range(heights$father), \"\\n\")\n",
    "cat(\"아빠 사분위=\",quantile(heights$father), \"\\n\\n\")\n",
    "\n",
    "cat(\"아빠 분산=\",var(heights$father), \"\\n\")\n",
    "cat(\"아빠 표준편차=\",sd(heights$father), \"\\n\\n\\n\")\n",
    "\n",
    "\n",
    "cat(\"아들 평균키=\",mean(heights$son), \"\\n\")\n",
    "cat(\"아들 중간값=\",median(heights$son), \"\\n\")\n",
    "\n",
    "cat(\"아들 최댓값=\",max(heights$son), \"\\n\")\n",
    "cat(\"아들 최솟값=\",min(heights$son), \"\\n\")\n",
    "cat(\"아들 최솟값=\",min(heights$son), \"\\n\")\n",
    "cat(\"아들 범위=\",range(heights$son), \"\\n\")\n",
    "cat(\"아들 사분위=\",quantile(heights$son), \"\\n\\n\")\n",
    "\n",
    "cat(\"아들 분산=\",var(heights$son), \"\\n\")\n",
    "cat(\"아들 표준편차=\",sd(heights$son), \"\\n\\n\\n\")"
   ]
  },
  {
   "cell_type": "markdown",
   "metadata": {},
   "source": [
    "선형회귀 를 R 에서 해보면 다음과 같습니다."
   ]
  },
  {
   "cell_type": "code",
   "execution_count": 3,
   "metadata": {},
   "outputs": [],
   "source": [
    "lm_height = lm(son ~ father, data = heights)"
   ]
  },
  {
   "cell_type": "markdown",
   "metadata": {},
   "source": [
    "* data : 사용하는 데이터 변수\n",
    "* 모형식 (formula) : 모형식은 관심갖는 변수의 관계를 설정하는데 사용합니다. 이번 경우에는 아들키 가 아빠키와 관계에 관심을 가지고 있습니다. 즉 아들키를 아빠키로 설명하고자 합니다. 이런 경우 아들키 를 먼저 표시하고 다음 \"~\" 를 사용하고 나서 아빠키를 표시합니다. 즉 son ~ father 가 됩니다.\n",
    "\n",
    "이제 결과를 확인해 보자."
   ]
  },
  {
   "cell_type": "code",
   "execution_count": 4,
   "metadata": {},
   "outputs": [
    {
     "data": {
      "text/plain": [
       "\n",
       "Call:\n",
       "lm(formula = son ~ father, data = heights)\n",
       "\n",
       "Residuals:\n",
       "     Min       1Q   Median       3Q      Max \n",
       "-22.5957  -3.8614   0.0091   4.1230  22.7570 \n",
       "\n",
       "Coefficients:\n",
       "            Estimate Std. Error t value Pr(>|t|)    \n",
       "(Intercept) 86.10257    4.65558   18.49   <2e-16 ***\n",
       "father       0.51391    0.02706   18.99   <2e-16 ***\n",
       "---\n",
       "Signif. codes:  0 ‘***’ 0.001 ‘**’ 0.01 ‘*’ 0.05 ‘.’ 0.1 ‘ ’ 1\n",
       "\n",
       "Residual standard error: 6.191 on 1076 degrees of freedom\n",
       "Multiple R-squared:  0.2511,\tAdjusted R-squared:  0.2504 \n",
       "F-statistic: 360.8 on 1 and 1076 DF,  p-value: < 2.2e-16\n"
      ]
     },
     "metadata": {},
     "output_type": "display_data"
    }
   ],
   "source": [
    "summary(lm_height)"
   ]
  },
  {
   "cell_type": "markdown",
   "metadata": {},
   "source": [
    "* 제일 먼저 관심 가질 값은 father 의 p 값입니다. 이값은 father 의 t 값 18.99 가 회귀모형 $\\beta_1$ 의 유의성을 따지기 떄문입니다.  이에 대한 것은 따로 회귀 분석에서 다시 정리 할 예정입니다. 단 여기서는 $\\beta_1$ 이 유의하며 따라서 회귀모형이 의미있는지 여부를 따지기만 합니다.  \n",
    "* 여기서는 t 값의 유의성에 대한 것인데 위 결과에서는 $Pr(\\gt |t|)$ 에서 $Pr(t > |18.99|)$ 를 따지는 것으로 거의 0 입니다.\n",
    "* 즉 $\\beta_1$ , 아빠키의 아들에 대한 영향력이 크다고 할 수 있다고 해석됩니다.\n",
    "* 이것은 귀무가설 $H_0$ 가 $\\beta_1$ 이 0 인지 아닌지 검정하는 것입니다."
   ]
  },
  {
   "cell_type": "markdown",
   "metadata": {},
   "source": [
    " 아들 키는 Estimate 의 86.10 을 y 축 절편으로 하여 아빠키에 0.51391 곱한만큼 결정됩니다.  \n",
    " 즉\n",
    "\n",
    "$$\n",
    "아들키 = 0.51391 \\times 아빠키 + 86.10257 \n",
    "$$"
   ]
  },
  {
   "cell_type": "markdown",
   "metadata": {},
   "source": [
    "입니다. 이것은 이전에 구한것과 같은 결과입니다. "
   ]
  },
  {
   "cell_type": "markdown",
   "metadata": {},
   "source": [
    "그래프에 구한 회귀식을 같이 표시하면 다음과 같습니다."
   ]
  },
  {
   "cell_type": "markdown",
   "metadata": {},
   "source": [
    "182cm 근처에서 아들키의 분포를 포함한 전체 그래프는 다음과 같습니다."
   ]
  },
  {
   "cell_type": "code",
   "execution_count": 52,
   "metadata": {},
   "outputs": [],
   "source": [
    "scatterhistaline_lm_near = function(heights, near, xlab=\"\", ylab=\"\"){\n",
    "\n",
    "  x = heights$father\n",
    "  y = heights$son\n",
    "    \n",
    "  nearl = near - 0.5\n",
    "  nearh = near + 0.5\n",
    "    \n",
    "  zones=matrix(c(2,0,1,3), ncol=2, byrow=TRUE)\n",
    "  layout(zones, widths=c(4/5,1/5), heights=c(1/5,4/5))\n",
    "  xhist = hist(x, plot=FALSE)\n",
    "  yhist = hist(y, plot=FALSE)\n",
    "  top = max(c(xhist$counts, yhist$counts))\n",
    "  par(mar=c(3,3,1,1))\n",
    "  plot(x,y, pch=16, col=rgb(0.2,0.2,0.2,0.5))\n",
    "  abline(v=mean(x), lty=2)\n",
    "  abline(h=mean(y), lty=2)\n",
    "# 회귀식 추가\n",
    "  abline(a=86.10257, b=0.51391, lty=1, col=\"red\")\n",
    "    \n",
    "# 아빠키가 near 근처 +- 0.5 근처 표시\n",
    "  abline(v=c(nearl, nearh, lty = 3))\n",
    " # with(subset(heights, heights$father >= nearl & heights$son < nearh), points(heights$father,heights$son, col=\"blue\"))\n",
    "\n",
    "  par(mar=c(0,3,1,1))\n",
    "  barplot(xhist$counts, axes=FALSE, ylim=c(0, top), space=0)\n",
    "  par(mar=c(3,0,1,1))\n",
    "  barplot(yhist$counts, axes=FALSE, xlim=c(0, top), space=0, horiz=TRUE)\n",
    "  par(oma=c(3,3,0,0))\n",
    "  mtext(xlab, side=1, line=1, outer=TRUE, adj=0, at=.8 * (mean(x) - min(x))/(max(x)-min(x)))\n",
    "  mtext(ylab, side=2, line=1, outer=TRUE, adj=0, at=(.8 * (mean(y) - min(y))/(max(y) - min(y))))\n",
    "}"
   ]
  },
  {
   "cell_type": "code",
   "execution_count": 53,
   "metadata": {},
   "outputs": [
    {
     "data": {
      "image/png": "[encoded data removed]",
      "text/plain": [
       "plot without title"
      ]
     },
     "metadata": {},
     "output_type": "display_data"
    }
   ],
   "source": [
    "scatterhistaline_lm_near(heights, 175, xlab=\"Father\", ylab=\"Son\")"
   ]
  },
  {
   "cell_type": "markdown",
   "metadata": {},
   "source": [
    "다음은 페이지 223 을 다시 리뷰하고 R-squared 결정계수에 대해서 정리합니다."
   ]
  },
  {
   "cell_type": "markdown",
   "metadata": {},
   "source": [
    "지금까지 결과를 보면 아들키는 86.97 cm 에 아빠키의 0.514배르를 한 값을 더한것으로 설명 할 수 있습니다. 그러나 아들키를 100% 예측은 할 수 없습니다. 그 이유를 설명하고자 합니다."
   ]
  },
  {
   "cell_type": "markdown",
   "metadata": {},
   "source": [
    "지금 위 그래프에서 아빠키가 175 인 경우 아들키는 "
   ]
  },
  {
   "cell_type": "code",
   "execution_count": 25,
   "metadata": {},
   "outputs": [
    {
     "data": {
      "text/html": [
       "176.03682"
      ],
      "text/latex": [
       "176.03682"
      ],
      "text/markdown": [
       "176.03682"
      ],
      "text/plain": [
       "[1] 176.0368"
      ]
     },
     "metadata": {},
     "output_type": "display_data"
    }
   ],
   "source": [
    "0.51391* 175+86.10257"
   ]
  },
  {
   "cell_type": "markdown",
   "metadata": {},
   "source": [
    "즉 176.04 cm 나와야 합니다. 그러나 위그래프에서 보면 180 근처에서 아들키는 대략 167 cm ~ 애서 187 cm 에 걸쳐 있습니다. 즉 아들키는 178.6 cm 가 아니라 178.6 보다 작을 수도 클 수도 있습니다. 즉 180 근처의 아들키를 히스토 그램으로 표시하면 다음과 같습니다."
   ]
  },
  {
   "cell_type": "code",
   "execution_count": 66,
   "metadata": {},
   "outputs": [],
   "source": [
    "selectson = subset(heights, heights$father >= 174.5  & heights$father < 175.5)\n",
    "#selectson = subset(heights, heights$father == 175)"
   ]
  },
  {
   "cell_type": "code",
   "execution_count": 67,
   "metadata": {},
   "outputs": [
    {
     "data": {
      "text/html": [
       "<table>\n",
       "<thead><tr><th></th><th scope=col>father</th><th scope=col>son</th></tr></thead>\n",
       "<tbody>\n",
       "\t<tr><th scope=row>67</th><td>175.2</td><td>171.7</td></tr>\n",
       "\t<tr><th scope=row>68</th><td>175.1</td><td>170.8</td></tr>\n",
       "\t<tr><th scope=row>94</th><td>174.5</td><td>172.7</td></tr>\n",
       "\t<tr><th scope=row>96</th><td>174.6</td><td>172.6</td></tr>\n",
       "\t<tr><th scope=row>123</th><td>174.5</td><td>176.4</td></tr>\n",
       "\t<tr><th scope=row>147</th><td>175.4</td><td>178.1</td></tr>\n",
       "</tbody>\n",
       "</table>\n"
      ],
      "text/latex": [
       "\\begin{tabular}{r|ll}\n",
       "  & father & son\\\\\n",
       "\\hline\n",
       "\t67 & 175.2 & 171.7\\\\\n",
       "\t68 & 175.1 & 170.8\\\\\n",
       "\t94 & 174.5 & 172.7\\\\\n",
       "\t96 & 174.6 & 172.6\\\\\n",
       "\t123 & 174.5 & 176.4\\\\\n",
       "\t147 & 175.4 & 178.1\\\\\n",
       "\\end{tabular}\n"
      ],
      "text/markdown": [
       "\n",
       "| <!--/--> | father | son | \n",
       "|---|---|---|---|---|---|\n",
       "| 67 | 175.2 | 171.7 | \n",
       "| 68 | 175.1 | 170.8 | \n",
       "| 94 | 174.5 | 172.7 | \n",
       "| 96 | 174.6 | 172.6 | \n",
       "| 123 | 174.5 | 176.4 | \n",
       "| 147 | 175.4 | 178.1 | \n",
       "\n",
       "\n"
      ],
      "text/plain": [
       "    father son  \n",
       "67  175.2  171.7\n",
       "68  175.1  170.8\n",
       "94  174.5  172.7\n",
       "96  174.6  172.6\n",
       "123 174.5  176.4\n",
       "147 175.4  178.1"
      ]
     },
     "metadata": {},
     "output_type": "display_data"
    },
    {
     "data": {
      "text/html": [
       "<dl class=dl-horizontal>\n",
       "\t<dt>0%</dt>\n",
       "\t\t<dd>163.3</dd>\n",
       "\t<dt>25%</dt>\n",
       "\t\t<dd>173.05</dd>\n",
       "\t<dt>50%</dt>\n",
       "\t\t<dd>176.25</dd>\n",
       "\t<dt>75%</dt>\n",
       "\t\t<dd>180.2</dd>\n",
       "\t<dt>100%</dt>\n",
       "\t\t<dd>199</dd>\n",
       "</dl>\n"
      ],
      "text/latex": [
       "\\begin{description*}\n",
       "\\item[0\\textbackslash{}\\%] 163.3\n",
       "\\item[25\\textbackslash{}\\%] 173.05\n",
       "\\item[50\\textbackslash{}\\%] 176.25\n",
       "\\item[75\\textbackslash{}\\%] 180.2\n",
       "\\item[100\\textbackslash{}\\%] 199\n",
       "\\end{description*}\n"
      ],
      "text/markdown": [
       "0%\n",
       ":   163.325%\n",
       ":   173.0550%\n",
       ":   176.2575%\n",
       ":   180.2100%\n",
       ":   199\n",
       "\n"
      ],
      "text/plain": [
       "    0%    25%    50%    75%   100% \n",
       "163.30 173.05 176.25 180.20 199.00 "
      ]
     },
     "metadata": {},
     "output_type": "display_data"
    },
    {
     "data": {
      "text/html": [
       "199"
      ],
      "text/latex": [
       "199"
      ],
      "text/markdown": [
       "199"
      ],
      "text/plain": [
       "[1] 199"
      ]
     },
     "metadata": {},
     "output_type": "display_data"
    },
    {
     "data": {
      "text/html": [
       "163.3"
      ],
      "text/latex": [
       "163.3"
      ],
      "text/markdown": [
       "163.3"
      ],
      "text/plain": [
       "[1] 163.3"
      ]
     },
     "metadata": {},
     "output_type": "display_data"
    },
    {
     "data": {
      "text/html": [
       "177.101666666667"
      ],
      "text/latex": [
       "177.101666666667"
      ],
      "text/markdown": [
       "177.101666666667"
      ],
      "text/plain": [
       "[1] 177.1017"
      ]
     },
     "metadata": {},
     "output_type": "display_data"
    },
    {
     "data": {
      "text/html": [
       "6.62717803447025"
      ],
      "text/latex": [
       "6.62717803447025"
      ],
      "text/markdown": [
       "6.62717803447025"
      ],
      "text/plain": [
       "[1] 6.627178"
      ]
     },
     "metadata": {},
     "output_type": "display_data"
    },
    {
     "data": {
      "image/png": "[encoded data removed]",
      "text/plain": [
       "Plot with title “Histogram of selectson$son”"
      ]
     },
     "metadata": {},
     "output_type": "display_data"
    }
   ],
   "source": [
    "head(selectson)\n",
    "quantile(selectson$son)\n",
    "max(selectson$son)\n",
    "min(selectson$son)\n",
    "mean(selectson$son)\n",
    "sd(selectson$son)\n",
    "hist(selectson$son)\n",
    "abline(v=176.03682,col=\"red\")"
   ]
  },
  {
   "cell_type": "markdown",
   "metadata": {},
   "source": [
    "아빠 키 175 근처에서 아들 키는 176.04 이고 (붉은수직선) 근처에서 개략적인 정규분포를 가지고 있습니다. 이것이 적은 관측값일 경우에는 t 분포를 고려 해야 하겠습니다.  이 그래프에서 보이는 것은 우리가 예측한 아들키는 176.04 이지만 실제 관측된 값에서 보면 키는 163 cm ~ 에서 199 cm 입니다."
   ]
  },
  {
   "cell_type": "markdown",
   "metadata": {},
   "source": [
    "선형회귀분석에서 관심변수를 잘 설명하는지는 분산분해를 이용한 결정계수입니다.  위 예제에서 보면 아빠키가 175인 경우 아들키는 177 에 표준편차 는 6.63 인 정규분포를 가지고 있습니다. 이것의 관계를 표시하면 다음과 같습니다."
   ]
  },
  {
   "cell_type": "markdown",
   "metadata": {},
   "source": [
    "아들 키를 $y$, 아빠키를 $x$ 라고 하면 모집단에서 회귀모형은 \n",
    "$$\n",
    "y = \\beta_0 + \\beta x + \\epsilon \\; (\\epsilon \\sim n(0, \\sigma^2)\n",
    "$$"
   ]
  },
  {
   "cell_type": "markdown",
   "metadata": {},
   "source": [
    "로 할 수 있으다. 여기서 $\\epsilon$ 은 평균이 0이고 표준편차가 $\\sigma$ 인 정규분포를 따른다. 이것은 우리 예제에서\n",
    "\n",
    "$$\n",
    "y = 86.07 + 0.514 x + \\epsilon \n",
    "$$\n",
    "\n",
    "으로 표현 됩니다."
   ]
  },
  {
   "cell_type": "markdown",
   "metadata": {},
   "source": [
    "그럼 회귀식은 우리 관측된 것으로 부터 결정해야 하므로 회귀식은 hat 로 표시하여\n",
    "$$\n",
    "\\hat y = b_0 + b_1 x \n",
    "$$"
   ]
  },
  {
   "cell_type": "markdown",
   "metadata": {},
   "source": [
    "로 표시하고 이것은 우리 예제에서 \n",
    "$$\n",
    "\\hat y = 86.07 + 0.514 x\n",
    "$$\n",
    "로 표시 할 수 있습니다."
   ]
  },
  {
   "cell_type": "markdown",
   "metadata": {},
   "source": [
    "그러면 우리가 관심있는 $\\beta_1$ 의 추정량 $b_1$ 에 대해서\n",
    "* 평균은 $\\beta_1$ 이고 분산은 $\\dfrac{\\sigma^2}{(n-1)S_x^2} $ 이다.\n",
    "* $b_1$ 을 정규화한 $\\frac{b_1 - \\beta_1}{(\\sigma/\\sqrt{(n-1)S_x^2})}$ 은 표준 정규분포입니다.\n",
    "   * 이것은 $\\epsilon$ 이 정규분포이므로 $b_1$ 도 당연히 정규분포를 따르게 된다."
   ]
  },
  {
   "cell_type": "markdown",
   "metadata": {},
   "source": [
    "이제 관측값 y , y 평균, 그리고 표본에서 회귀식  $\\hat y$ 의 관계를 찾아보자고 합니다."
   ]
  },
  {
   "cell_type": "code",
   "execution_count": 142,
   "metadata": {},
   "outputs": [
    {
     "data": {
      "text/html": [
       "<table>\n",
       "<thead><tr><th scope=col>family_no</th><th scope=col>father</th><th scope=col>son</th><th scope=col>mean</th><th scope=col>expected</th></tr></thead>\n",
       "<tbody>\n",
       "\t<tr><td>1       </td><td>165.2   </td><td>151.8   </td><td>174.4572</td><td>170.9828</td></tr>\n",
       "\t<tr><td>2       </td><td>160.7   </td><td>160.6   </td><td>174.4572</td><td>168.6698</td></tr>\n",
       "\t<tr><td>3       </td><td>165.0   </td><td>160.9   </td><td>174.4572</td><td>170.8800</td></tr>\n",
       "\t<tr><td>4       </td><td>167.0   </td><td>159.5   </td><td>174.4572</td><td>171.9080</td></tr>\n",
       "\t<tr><td>5       </td><td>155.3   </td><td>163.3   </td><td>174.4572</td><td>165.8942</td></tr>\n",
       "\t<tr><td>6       </td><td>160.1   </td><td>163.2   </td><td>174.4572</td><td>168.3614</td></tr>\n",
       "</tbody>\n",
       "</table>\n"
      ],
      "text/latex": [
       "\\begin{tabular}{r|lllll}\n",
       " family\\_no & father & son & mean & expected\\\\\n",
       "\\hline\n",
       "\t 1        & 165.2    & 151.8    & 174.4572 & 170.9828\\\\\n",
       "\t 2        & 160.7    & 160.6    & 174.4572 & 168.6698\\\\\n",
       "\t 3        & 165.0    & 160.9    & 174.4572 & 170.8800\\\\\n",
       "\t 4        & 167.0    & 159.5    & 174.4572 & 171.9080\\\\\n",
       "\t 5        & 155.3    & 163.3    & 174.4572 & 165.8942\\\\\n",
       "\t 6        & 160.1    & 163.2    & 174.4572 & 168.3614\\\\\n",
       "\\end{tabular}\n"
      ],
      "text/markdown": [
       "\n",
       "family_no | father | son | mean | expected | \n",
       "|---|---|---|---|---|---|\n",
       "| 1        | 165.2    | 151.8    | 174.4572 | 170.9828 | \n",
       "| 2        | 160.7    | 160.6    | 174.4572 | 168.6698 | \n",
       "| 3        | 165.0    | 160.9    | 174.4572 | 170.8800 | \n",
       "| 4        | 167.0    | 159.5    | 174.4572 | 171.9080 | \n",
       "| 5        | 155.3    | 163.3    | 174.4572 | 165.8942 | \n",
       "| 6        | 160.1    | 163.2    | 174.4572 | 168.3614 | \n",
       "\n",
       "\n"
      ],
      "text/plain": [
       "  family_no father son   mean     expected\n",
       "1 1         165.2  151.8 174.4572 170.9828\n",
       "2 2         160.7  160.6 174.4572 168.6698\n",
       "3 3         165.0  160.9 174.4572 170.8800\n",
       "4 4         167.0  159.5 174.4572 171.9080\n",
       "5 5         155.3  163.3 174.4572 165.8942\n",
       "6 6         160.1  163.2 174.4572 168.3614"
      ]
     },
     "metadata": {},
     "output_type": "display_data"
    }
   ],
   "source": [
    "fno <- 1:length(heights$father)\n",
    "son.dataframe <- data.frame(fno)\n",
    "son.dataframe[\"father\"] <- heights$father\n",
    "son.dataframe[\"son\"] <- heights$son\n",
    "\n",
    "expected <- 86.07 + 0.514 * heights$father\n",
    "average <- rep(mean(heights$son), length(heights$son))\n",
    "son.dataframe[\"mean\"] <- average\n",
    "son.dataframe[\"expected\"] <- expected\n",
    "\n",
    "names(son.dataframe) <- c(\"family_no\", \"father\", \"son\", \"mean\", \"expected\")\n",
    "\n",
    "head(son.dataframe)"
   ]
  },
  {
   "cell_type": "markdown",
   "metadata": {},
   "source": [
    "먼저 $(y_i - \\bar y)^2$ 을 계산하자.\n",
    "\n",
    "* $\\sum_{i=1}^{1078}(y_i - \\bar y)^2$"
   ]
  },
  {
   "cell_type": "code",
   "execution_count": 143,
   "metadata": {},
   "outputs": [
    {
     "data": {
      "text/html": [
       "<table>\n",
       "<thead><tr><th scope=col>family_no</th><th scope=col>father</th><th scope=col>son</th><th scope=col>mean</th><th scope=col>expected</th><th scope=col>y_ybar</th><th scope=col>y_ybar_squre</th></tr></thead>\n",
       "<tbody>\n",
       "\t<tr><td>1       </td><td>165.2   </td><td>151.8   </td><td>174.4572</td><td>170.9828</td><td>22.65724</td><td>513.3503</td></tr>\n",
       "\t<tr><td>2       </td><td>160.7   </td><td>160.6   </td><td>174.4572</td><td>168.6698</td><td>13.85724</td><td>192.0230</td></tr>\n",
       "\t<tr><td>3       </td><td>165.0   </td><td>160.9   </td><td>174.4572</td><td>170.8800</td><td>13.55724</td><td>183.7986</td></tr>\n",
       "\t<tr><td>4       </td><td>167.0   </td><td>159.5   </td><td>174.4572</td><td>171.9080</td><td>14.95724</td><td>223.7189</td></tr>\n",
       "\t<tr><td>5       </td><td>155.3   </td><td>163.3   </td><td>174.4572</td><td>165.8942</td><td>11.15724</td><td>124.4839</td></tr>\n",
       "\t<tr><td>6       </td><td>160.1   </td><td>163.2   </td><td>174.4572</td><td>168.3614</td><td>11.25724</td><td>126.7254</td></tr>\n",
       "</tbody>\n",
       "</table>\n"
      ],
      "text/latex": [
       "\\begin{tabular}{r|lllllll}\n",
       " family\\_no & father & son & mean & expected & y\\_ybar & y\\_ybar\\_squre\\\\\n",
       "\\hline\n",
       "\t 1        & 165.2    & 151.8    & 174.4572 & 170.9828 & 22.65724 & 513.3503\\\\\n",
       "\t 2        & 160.7    & 160.6    & 174.4572 & 168.6698 & 13.85724 & 192.0230\\\\\n",
       "\t 3        & 165.0    & 160.9    & 174.4572 & 170.8800 & 13.55724 & 183.7986\\\\\n",
       "\t 4        & 167.0    & 159.5    & 174.4572 & 171.9080 & 14.95724 & 223.7189\\\\\n",
       "\t 5        & 155.3    & 163.3    & 174.4572 & 165.8942 & 11.15724 & 124.4839\\\\\n",
       "\t 6        & 160.1    & 163.2    & 174.4572 & 168.3614 & 11.25724 & 126.7254\\\\\n",
       "\\end{tabular}\n"
      ],
      "text/markdown": [
       "\n",
       "family_no | father | son | mean | expected | y_ybar | y_ybar_squre | \n",
       "|---|---|---|---|---|---|\n",
       "| 1        | 165.2    | 151.8    | 174.4572 | 170.9828 | 22.65724 | 513.3503 | \n",
       "| 2        | 160.7    | 160.6    | 174.4572 | 168.6698 | 13.85724 | 192.0230 | \n",
       "| 3        | 165.0    | 160.9    | 174.4572 | 170.8800 | 13.55724 | 183.7986 | \n",
       "| 4        | 167.0    | 159.5    | 174.4572 | 171.9080 | 14.95724 | 223.7189 | \n",
       "| 5        | 155.3    | 163.3    | 174.4572 | 165.8942 | 11.15724 | 124.4839 | \n",
       "| 6        | 160.1    | 163.2    | 174.4572 | 168.3614 | 11.25724 | 126.7254 | \n",
       "\n",
       "\n"
      ],
      "text/plain": [
       "  family_no father son   mean     expected y_ybar   y_ybar_squre\n",
       "1 1         165.2  151.8 174.4572 170.9828 22.65724 513.3503    \n",
       "2 2         160.7  160.6 174.4572 168.6698 13.85724 192.0230    \n",
       "3 3         165.0  160.9 174.4572 170.8800 13.55724 183.7986    \n",
       "4 4         167.0  159.5 174.4572 171.9080 14.95724 223.7189    \n",
       "5 5         155.3  163.3 174.4572 165.8942 11.15724 124.4839    \n",
       "6 6         160.1  163.2 174.4572 168.3614 11.25724 126.7254    "
      ]
     },
     "metadata": {},
     "output_type": "display_data"
    },
    {
     "data": {
      "text/html": [
       "55069.9185621521"
      ],
      "text/latex": [
       "55069.9185621521"
      ],
      "text/markdown": [
       "55069.9185621521"
      ],
      "text/plain": [
       "[1] 55069.92"
      ]
     },
     "metadata": {},
     "output_type": "display_data"
    }
   ],
   "source": [
    "y_ybar <- abs(son.dataframe$son - son.dataframe$mean)\n",
    "son.dataframe[\"y_ybar\"] <- y_ybar\n",
    "son.dataframe[\"y_ybar_squre\"] <- y_ybar^2\n",
    "\n",
    "\n",
    "head(son.dataframe)\n",
    "sum(son.dataframe$y_ybar_squre)"
   ]
  },
  {
   "cell_type": "markdown",
   "metadata": {},
   "source": [
    "다음 $(\\hat y_i - \\bar y)^2$ 를 계산해보자\n",
    "\n",
    "* $\\sum_{i=1}^{1078}(\\hat y_i - \\bar y)^2$"
   ]
  },
  {
   "cell_type": "code",
   "execution_count": 145,
   "metadata": {},
   "outputs": [
    {
     "data": {
      "text/html": [
       "<table>\n",
       "<thead><tr><th scope=col>family_no</th><th scope=col>father</th><th scope=col>son</th><th scope=col>mean</th><th scope=col>expected</th><th scope=col>y_ybar</th><th scope=col>y_ybar_squre</th><th scope=col>yhat_ybar</th><th scope=col>yhat_ybar_squre</th></tr></thead>\n",
       "<tbody>\n",
       "\t<tr><td>1        </td><td>165.2    </td><td>151.8    </td><td>174.4572 </td><td>170.9828 </td><td>22.65724 </td><td>513.3503 </td><td>3.474436 </td><td>12.071703</td></tr>\n",
       "\t<tr><td>2        </td><td>160.7    </td><td>160.6    </td><td>174.4572 </td><td>168.6698 </td><td>13.85724 </td><td>192.0230 </td><td>5.787436 </td><td>33.494411</td></tr>\n",
       "\t<tr><td>3        </td><td>165.0    </td><td>160.9    </td><td>174.4572 </td><td>170.8800 </td><td>13.55724 </td><td>183.7986 </td><td>3.577236 </td><td>12.796615</td></tr>\n",
       "\t<tr><td>4        </td><td>167.0    </td><td>159.5    </td><td>174.4572 </td><td>171.9080 </td><td>14.95724 </td><td>223.7189 </td><td>2.549236 </td><td> 6.498602</td></tr>\n",
       "\t<tr><td>5        </td><td>155.3    </td><td>163.3    </td><td>174.4572 </td><td>165.8942 </td><td>11.15724 </td><td>124.4839 </td><td>8.563036 </td><td>73.325579</td></tr>\n",
       "\t<tr><td>6        </td><td>160.1    </td><td>163.2    </td><td>174.4572 </td><td>168.3614 </td><td>11.25724 </td><td>126.7254 </td><td>6.095836 </td><td>37.159212</td></tr>\n",
       "</tbody>\n",
       "</table>\n"
      ],
      "text/latex": [
       "\\begin{tabular}{r|lllllllll}\n",
       " family\\_no & father & son & mean & expected & y\\_ybar & y\\_ybar\\_squre & yhat\\_ybar & yhat\\_ybar\\_squre\\\\\n",
       "\\hline\n",
       "\t 1         & 165.2     & 151.8     & 174.4572  & 170.9828  & 22.65724  & 513.3503  & 3.474436  & 12.071703\\\\\n",
       "\t 2         & 160.7     & 160.6     & 174.4572  & 168.6698  & 13.85724  & 192.0230  & 5.787436  & 33.494411\\\\\n",
       "\t 3         & 165.0     & 160.9     & 174.4572  & 170.8800  & 13.55724  & 183.7986  & 3.577236  & 12.796615\\\\\n",
       "\t 4         & 167.0     & 159.5     & 174.4572  & 171.9080  & 14.95724  & 223.7189  & 2.549236  &  6.498602\\\\\n",
       "\t 5         & 155.3     & 163.3     & 174.4572  & 165.8942  & 11.15724  & 124.4839  & 8.563036  & 73.325579\\\\\n",
       "\t 6         & 160.1     & 163.2     & 174.4572  & 168.3614  & 11.25724  & 126.7254  & 6.095836  & 37.159212\\\\\n",
       "\\end{tabular}\n"
      ],
      "text/markdown": [
       "\n",
       "family_no | father | son | mean | expected | y_ybar | y_ybar_squre | yhat_ybar | yhat_ybar_squre | \n",
       "|---|---|---|---|---|---|\n",
       "| 1         | 165.2     | 151.8     | 174.4572  | 170.9828  | 22.65724  | 513.3503  | 3.474436  | 12.071703 | \n",
       "| 2         | 160.7     | 160.6     | 174.4572  | 168.6698  | 13.85724  | 192.0230  | 5.787436  | 33.494411 | \n",
       "| 3         | 165.0     | 160.9     | 174.4572  | 170.8800  | 13.55724  | 183.7986  | 3.577236  | 12.796615 | \n",
       "| 4         | 167.0     | 159.5     | 174.4572  | 171.9080  | 14.95724  | 223.7189  | 2.549236  |  6.498602 | \n",
       "| 5         | 155.3     | 163.3     | 174.4572  | 165.8942  | 11.15724  | 124.4839  | 8.563036  | 73.325579 | \n",
       "| 6         | 160.1     | 163.2     | 174.4572  | 168.3614  | 11.25724  | 126.7254  | 6.095836  | 37.159212 | \n",
       "\n",
       "\n"
      ],
      "text/plain": [
       "  family_no father son   mean     expected y_ybar   y_ybar_squre yhat_ybar\n",
       "1 1         165.2  151.8 174.4572 170.9828 22.65724 513.3503     3.474436 \n",
       "2 2         160.7  160.6 174.4572 168.6698 13.85724 192.0230     5.787436 \n",
       "3 3         165.0  160.9 174.4572 170.8800 13.55724 183.7986     3.577236 \n",
       "4 4         167.0  159.5 174.4572 171.9080 14.95724 223.7189     2.549236 \n",
       "5 5         155.3  163.3 174.4572 165.8942 11.15724 124.4839     8.563036 \n",
       "6 6         160.1  163.2 174.4572 168.3614 11.25724 126.7254     6.095836 \n",
       "  yhat_ybar_squre\n",
       "1 12.071703      \n",
       "2 33.494411      \n",
       "3 12.796615      \n",
       "4  6.498602      \n",
       "5 73.325579      \n",
       "6 37.159212      "
      ]
     },
     "metadata": {},
     "output_type": "display_data"
    },
    {
     "data": {
      "text/html": [
       "13832.8077643731"
      ],
      "text/latex": [
       "13832.8077643731"
      ],
      "text/markdown": [
       "13832.8077643731"
      ],
      "text/plain": [
       "[1] 13832.81"
      ]
     },
     "metadata": {},
     "output_type": "display_data"
    }
   ],
   "source": [
    "yhat_ybar <- abs(son.dataframe$expected - son.dataframe$mean)\n",
    "son.dataframe[\"yhat_ybar\"] <- yhat_ybar\n",
    "son.dataframe[\"yhat_ybar_squre\"] <- yhat_ybar^2\n",
    "\n",
    "head(son.dataframe)\n",
    "sum(son.dataframe$yhat_ybar_squre)"
   ]
  },
  {
   "cell_type": "markdown",
   "metadata": {},
   "source": [
    "다음 실제값가 예상값의 차이를 계산합니다. $(y_i - \\hat y_i)^2$\n",
    "* $\\sum_{i=1}^{1078} (y_i - \\hat y_i)^2$"
   ]
  },
  {
   "cell_type": "code",
   "execution_count": 146,
   "metadata": {},
   "outputs": [
    {
     "data": {
      "text/html": [
       "<table>\n",
       "<thead><tr><th scope=col>family_no</th><th scope=col>father</th><th scope=col>son</th><th scope=col>mean</th><th scope=col>expected</th><th scope=col>y_ybar</th><th scope=col>y_ybar_squre</th><th scope=col>yhat_ybar</th><th scope=col>yhat_ybar_squre</th><th scope=col>y_yhat</th><th scope=col>y_yhat_squre</th></tr></thead>\n",
       "<tbody>\n",
       "\t<tr><td>1         </td><td>165.2     </td><td>151.8     </td><td>174.4572  </td><td>170.9828  </td><td>22.65724  </td><td>513.3503  </td><td>3.474436  </td><td>12.071703 </td><td>19.1828   </td><td>367.979816</td></tr>\n",
       "\t<tr><td>2         </td><td>160.7     </td><td>160.6     </td><td>174.4572  </td><td>168.6698  </td><td>13.85724  </td><td>192.0230  </td><td>5.787436  </td><td>33.494411 </td><td> 8.0698   </td><td> 65.121672</td></tr>\n",
       "\t<tr><td>3         </td><td>165.0     </td><td>160.9     </td><td>174.4572  </td><td>170.8800  </td><td>13.55724  </td><td>183.7986  </td><td>3.577236  </td><td>12.796615 </td><td> 9.9800   </td><td> 99.600400</td></tr>\n",
       "\t<tr><td>4         </td><td>167.0     </td><td>159.5     </td><td>174.4572  </td><td>171.9080  </td><td>14.95724  </td><td>223.7189  </td><td>2.549236  </td><td> 6.498602 </td><td>12.4080   </td><td>153.958464</td></tr>\n",
       "\t<tr><td>5         </td><td>155.3     </td><td>163.3     </td><td>174.4572  </td><td>165.8942  </td><td>11.15724  </td><td>124.4839  </td><td>8.563036  </td><td>73.325579 </td><td> 2.5942   </td><td>  6.729874</td></tr>\n",
       "\t<tr><td>6         </td><td>160.1     </td><td>163.2     </td><td>174.4572  </td><td>168.3614  </td><td>11.25724  </td><td>126.7254  </td><td>6.095836  </td><td>37.159212 </td><td> 5.1614   </td><td> 26.640050</td></tr>\n",
       "</tbody>\n",
       "</table>\n"
      ],
      "text/latex": [
       "\\begin{tabular}{r|lllllllllll}\n",
       " family\\_no & father & son & mean & expected & y\\_ybar & y\\_ybar\\_squre & yhat\\_ybar & yhat\\_ybar\\_squre & y\\_yhat & y\\_yhat\\_squre\\\\\n",
       "\\hline\n",
       "\t 1          & 165.2      & 151.8      & 174.4572   & 170.9828   & 22.65724   & 513.3503   & 3.474436   & 12.071703  & 19.1828    & 367.979816\\\\\n",
       "\t 2          & 160.7      & 160.6      & 174.4572   & 168.6698   & 13.85724   & 192.0230   & 5.787436   & 33.494411  &  8.0698    &  65.121672\\\\\n",
       "\t 3          & 165.0      & 160.9      & 174.4572   & 170.8800   & 13.55724   & 183.7986   & 3.577236   & 12.796615  &  9.9800    &  99.600400\\\\\n",
       "\t 4          & 167.0      & 159.5      & 174.4572   & 171.9080   & 14.95724   & 223.7189   & 2.549236   &  6.498602  & 12.4080    & 153.958464\\\\\n",
       "\t 5          & 155.3      & 163.3      & 174.4572   & 165.8942   & 11.15724   & 124.4839   & 8.563036   & 73.325579  &  2.5942    &   6.729874\\\\\n",
       "\t 6          & 160.1      & 163.2      & 174.4572   & 168.3614   & 11.25724   & 126.7254   & 6.095836   & 37.159212  &  5.1614    &  26.640050\\\\\n",
       "\\end{tabular}\n"
      ],
      "text/markdown": [
       "\n",
       "family_no | father | son | mean | expected | y_ybar | y_ybar_squre | yhat_ybar | yhat_ybar_squre | y_yhat | y_yhat_squre | \n",
       "|---|---|---|---|---|---|\n",
       "| 1          | 165.2      | 151.8      | 174.4572   | 170.9828   | 22.65724   | 513.3503   | 3.474436   | 12.071703  | 19.1828    | 367.979816 | \n",
       "| 2          | 160.7      | 160.6      | 174.4572   | 168.6698   | 13.85724   | 192.0230   | 5.787436   | 33.494411  |  8.0698    |  65.121672 | \n",
       "| 3          | 165.0      | 160.9      | 174.4572   | 170.8800   | 13.55724   | 183.7986   | 3.577236   | 12.796615  |  9.9800    |  99.600400 | \n",
       "| 4          | 167.0      | 159.5      | 174.4572   | 171.9080   | 14.95724   | 223.7189   | 2.549236   |  6.498602  | 12.4080    | 153.958464 | \n",
       "| 5          | 155.3      | 163.3      | 174.4572   | 165.8942   | 11.15724   | 124.4839   | 8.563036   | 73.325579  |  2.5942    |   6.729874 | \n",
       "| 6          | 160.1      | 163.2      | 174.4572   | 168.3614   | 11.25724   | 126.7254   | 6.095836   | 37.159212  |  5.1614    |  26.640050 | \n",
       "\n",
       "\n"
      ],
      "text/plain": [
       "  family_no father son   mean     expected y_ybar   y_ybar_squre yhat_ybar\n",
       "1 1         165.2  151.8 174.4572 170.9828 22.65724 513.3503     3.474436 \n",
       "2 2         160.7  160.6 174.4572 168.6698 13.85724 192.0230     5.787436 \n",
       "3 3         165.0  160.9 174.4572 170.8800 13.55724 183.7986     3.577236 \n",
       "4 4         167.0  159.5 174.4572 171.9080 14.95724 223.7189     2.549236 \n",
       "5 5         155.3  163.3 174.4572 165.8942 11.15724 124.4839     8.563036 \n",
       "6 6         160.1  163.2 174.4572 168.3614 11.25724 126.7254     6.095836 \n",
       "  yhat_ybar_squre y_yhat  y_yhat_squre\n",
       "1 12.071703       19.1828 367.979816  \n",
       "2 33.494411        8.0698  65.121672  \n",
       "3 12.796615        9.9800  99.600400  \n",
       "4  6.498602       12.4080 153.958464  \n",
       "5 73.325579        2.5942   6.729874  \n",
       "6 37.159212        5.1614  26.640050  "
      ]
     },
     "metadata": {},
     "output_type": "display_data"
    },
    {
     "data": {
      "text/html": [
       "41242.45040608"
      ],
      "text/latex": [
       "41242.45040608"
      ],
      "text/markdown": [
       "41242.45040608"
      ],
      "text/plain": [
       "[1] 41242.45"
      ]
     },
     "metadata": {},
     "output_type": "display_data"
    }
   ],
   "source": [
    "y_yhat <- abs(son.dataframe$son - son.dataframe$expected)\n",
    "son.dataframe[\"y_yhat\"] <- y_yhat\n",
    "son.dataframe[\"y_yhat_squre\"] <- y_yhat^2\n",
    "\n",
    "head(son.dataframe)\n",
    "sum(son.dataframe$y_yhat_squre)"
   ]
  },
  {
   "cell_type": "markdown",
   "metadata": {},
   "source": [
    "이제 세곱들의 관계를 찾아보면 다음과 같습니다."
   ]
  },
  {
   "cell_type": "code",
   "execution_count": 147,
   "metadata": {},
   "outputs": [
    {
     "data": {
      "text/html": [
       "55069.9185621521"
      ],
      "text/latex": [
       "55069.9185621521"
      ],
      "text/markdown": [
       "55069.9185621521"
      ],
      "text/plain": [
       "[1] 55069.92"
      ]
     },
     "metadata": {},
     "output_type": "display_data"
    },
    {
     "data": {
      "text/html": [
       "55075.2581704531"
      ],
      "text/latex": [
       "55075.2581704531"
      ],
      "text/markdown": [
       "55075.2581704531"
      ],
      "text/plain": [
       "[1] 55075.26"
      ]
     },
     "metadata": {},
     "output_type": "display_data"
    }
   ],
   "source": [
    "sum(son.dataframe$y_ybar_squre)\n",
    "sum(son.dataframe$yhat_ybar_squre) + sum(son.dataframe$y_yhat_squre)"
   ]
  },
  {
   "cell_type": "markdown",
   "metadata": {},
   "source": [
    "위 두개의 숫자를 비교하면 거의 비숫하게 나옵니다. 실제로는 같은 값이지만,소숫점 처리 등으로 인하여 차이가 났습니다. 좀더 소숫점에서 정밀하게 처리한다면 같은 값으로 나올 것입니다."
   ]
  },
  {
   "cell_type": "markdown",
   "metadata": {},
   "source": [
    "#### 결정계수 "
   ]
  },
  {
   "cell_type": "markdown",
   "metadata": {},
   "source": [
    "위 숫자 중에서 선형회귀와 관계 있는 숫자는 yhat 과 ybar 차이의 제곱에 관한 항입니다. 즉 평균값 - 기대값 의 제곱에 대한 항입니다. 이 값이 실제 선형회귀에서 설명할 수 있는 부분으로 전체 분산에서 이값에 대한 비를 **결정계수** 라고 합니다. 즉 모형은 이렇게설명 할 수 있는 부분하고, 그렇지 않고 정규분포에 의존하는 설명하지 못하는 부분이 있는데, 결정계수는 이중에서 전체분산 에 대한 (평균값 - 기대값) 의 제곱에 대한 비 입니다. 이것의 값은 다음과 같습니다."
   ]
  },
  {
   "cell_type": "code",
   "execution_count": 154,
   "metadata": {},
   "outputs": [
    {
     "data": {
      "text/html": [
       "0.25118627602039"
      ],
      "text/latex": [
       "0.25118627602039"
      ],
      "text/markdown": [
       "0.25118627602039"
      ],
      "text/plain": [
       "[1] 0.2511863"
      ]
     },
     "metadata": {},
     "output_type": "display_data"
    },
    {
     "data": {
      "text/html": [
       "0.5011848720985"
      ],
      "text/latex": [
       "0.5011848720985"
      ],
      "text/markdown": [
       "0.5011848720985"
      ],
      "text/plain": [
       "[1] 0.5011849"
      ]
     },
     "metadata": {},
     "output_type": "display_data"
    }
   ],
   "source": [
    "R_squre = sum(son.dataframe$yhat_ybar_squre)  / sum(son.dataframe$y_ybar_squre)\n",
    "R_squre\n",
    "\n",
    "sqrt(R_squre)"
   ]
  },
  {
   "cell_type": "markdown",
   "metadata": {},
   "source": [
    "즉 25% 입니다. 이 값은 실제로는 상관계수의 제곱에 해당합니다. "
   ]
  },
  {
   "cell_type": "code",
   "execution_count": 153,
   "metadata": {},
   "outputs": [
    {
     "data": {
      "text/html": [
       "0.501094234731457"
      ],
      "text/latex": [
       "0.501094234731457"
      ],
      "text/markdown": [
       "0.501094234731457"
      ],
      "text/plain": [
       "[1] 0.5010942"
      ]
     },
     "metadata": {},
     "output_type": "display_data"
    },
    {
     "data": {
      "text/html": [
       "0.251095432081105"
      ],
      "text/latex": [
       "0.251095432081105"
      ],
      "text/markdown": [
       "0.251095432081105"
      ],
      "text/plain": [
       "[1] 0.2510954"
      ]
     },
     "metadata": {},
     "output_type": "display_data"
    }
   ],
   "source": [
    "r1 = cor(heights$son, heights$father)\n",
    "r1\n",
    "r1^2"
   ]
  },
  {
   "cell_type": "markdown",
   "metadata": {},
   "source": [
    "전체 분산중에서 모형이 설명되는 부분을 결정계수 라고 하고 $R^2$ 으로 표현합니다. 이 예에서는 25% 입니다. 그럼 나머지 75%는 엄마의 영향 또는 환경과 같은 우리가 알 수 없는 부분입니다.  "
   ]
  },
  {
   "cell_type": "markdown",
   "metadata": {},
   "source": [
    "모형중에서 필요한 의미 있는 변수를 찾아내는 경우 t-검정을 이용하고, F-검정을 이용하여 모형이 쓸모있는 지를 검정합니다. 즉 위 예에서 실제 25%만 설명이 가능하고 나머지 75%는 설명이 불가능하다고 하면 가정에 의한 선형모델이 의미 있는지 여부가 의문이 생기는데, 이것은 F-검정을 이용해서 확인하게 됩니다. 이부부은 따로 선형회기 부분 정리에서 다시 설명 할 예정입니다."
   ]
  },
  {
   "cell_type": "markdown",
   "metadata": {},
   "source": [
    "다시 327 페이지 아빠 아들키 선형회귀 분석 결과로 돌아와서\n"
   ]
  },
  {
   "cell_type": "code",
   "execution_count": 155,
   "metadata": {},
   "outputs": [
    {
     "data": {
      "text/plain": [
       "\n",
       "Call:\n",
       "lm(formula = son ~ father, data = heights)\n",
       "\n",
       "Residuals:\n",
       "     Min       1Q   Median       3Q      Max \n",
       "-22.5957  -3.8614   0.0091   4.1230  22.7570 \n",
       "\n",
       "Coefficients:\n",
       "            Estimate Std. Error t value Pr(>|t|)    \n",
       "(Intercept) 86.10257    4.65558   18.49   <2e-16 ***\n",
       "father       0.51391    0.02706   18.99   <2e-16 ***\n",
       "---\n",
       "Signif. codes:  0 ‘***’ 0.001 ‘**’ 0.01 ‘*’ 0.05 ‘.’ 0.1 ‘ ’ 1\n",
       "\n",
       "Residual standard error: 6.191 on 1076 degrees of freedom\n",
       "Multiple R-squared:  0.2511,\tAdjusted R-squared:  0.2504 \n",
       "F-statistic: 360.8 on 1 and 1076 DF,  p-value: < 2.2e-16\n"
      ]
     },
     "metadata": {},
     "output_type": "display_data"
    }
   ],
   "source": [
    "summary(lm_height)"
   ]
  },
  {
   "cell_type": "markdown",
   "metadata": {},
   "source": [
    "마지막줄 바로 위 보면 R-squred rㅏㅂㅅ이 0.2511 이 나옵니다. 이것이 바로 전에 계산한 결정계수 입니다. 이것은 상관계수의 제곱근에 해당합니다. 또한 결정할 수 없는 부분이 75%이나 F-검정에서 보면 역시 P-값이 거의 0에 해당합니다. 즉 아들키를 전체 평균으로 계산하는 것보다는 아빠키를 이용하여 설명하는 것이 매의 의미 있다는 것을 말합니다.  이부분은 선형회귀에서 상세하게 다를 예정입니다."
   ]
  }
 ],
 "metadata": {
  "kernelspec": {
   "display_name": "R",
   "language": "R",
   "name": "ir"
  },
  "language_info": {
   "codemirror_mode": "r",
   "file_extension": ".r",
   "mimetype": "text/x-r-source",
   "name": "R",
   "pygments_lexer": "r",
   "version": "3.4.3"
  }
 },
 "nbformat": 4,
 "nbformat_minor": 2
}
