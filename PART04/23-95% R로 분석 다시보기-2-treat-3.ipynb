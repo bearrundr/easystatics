{
 "cells": [
  {
   "cell_type": "markdown",
   "metadata": {},
   "source": [
    "# <span style=\"color:blue\"> 이토록 쉬운 통계 & R </span>"
   ]
  },
  {
   "cell_type": "markdown",
   "metadata": {},
   "source": [
    "<img src=\"../image/cover.png\" width=\"200\" height=\"400\" align=\"left\">  임경덕 지음"
   ]
  },
  {
   "cell_type": "markdown",
   "metadata": {},
   "source": [
    "## PART 4 데이터 분석 도구, R"
   ]
  },
  {
   "cell_type": "markdown",
   "metadata": {},
   "source": [
    "## 95% R로 분석 다시보기-2-treat-3 (40일차)"
   ]
  },
  {
   "cell_type": "markdown",
   "metadata": {},
   "source": [
    "   * 데이타프로젝트 (http://dataproject.xyz) 또는 (http://cafe.naver.com/dataartproject) 에 미리 저장된 스크립트를 다운 받을 수 있습니다.\n",
    "   * 스크립트를 활용하면 직접 명령어를 입력하지 않고 저장된 명령어들을 실행할 수 있습니다."
   ]
  },
  {
   "cell_type": "markdown",
   "metadata": {},
   "source": [
    "### 데이터 파일은 dataartproject.xyz 에 있습니다."
   ]
  },
  {
   "cell_type": "markdown",
   "metadata": {},
   "source": [
    "# 두개의 범주형 변수의 관계 찾기 -- treat 중 내과 분석"
   ]
  },
  {
   "cell_type": "markdown",
   "metadata": {},
   "source": [
    "## 진료과목 중 내과만 자세히 살피기"
   ]
  },
  {
   "cell_type": "markdown",
   "metadata": {},
   "source": [
    "공공 테이터 포털 (data.go.kr) 에서 각 정부부처에서 공개한 데이터들을 볼 수 있습니다. 그 중에서 건강보험공간에서 공개한 100만 건의 진료내역 정보를 살펴 봅시다. 원본 데이터는 2015년 약 100만건의 진료내역을 담고 있으나. 우리는 서울의 외래 진료내역인 약 200만건 데이터를 살펴 볼 것입니다."
   ]
  },
  {
   "cell_type": "code",
   "execution_count": 1,
   "metadata": {},
   "outputs": [],
   "source": [
    "treat = read.csv(\"Practice/data/treat.csv\")"
   ]
  },
  {
   "cell_type": "code",
   "execution_count": 2,
   "metadata": {},
   "outputs": [
    {
     "name": "stdout",
     "output_type": "stream",
     "text": [
      "'data.frame':\t2016783 obs. of  5 variables:\n",
      " $ MONTH    : int  12 12 12 12 12 12 12 12 12 12 ...\n",
      " $ AGE      : Factor w/ 18 levels \"01_0-4세\",\"02_5-9세\",..: 13 16 11 11 11 7 4 1 17 12 ...\n",
      " $ SEX      : int  2 1 2 2 2 2 2 2 2 2 ...\n",
      " $ DSBJT    : Factor w/ 20 levels \"가정의학과\",\"내과\",..: 11 11 11 11 11 11 11 19 19 19 ...\n",
      " $ MAIN_SICK: Factor w/ 1407 levels \"A02\",\"A03\",\"A04\",..: 460 446 446 449 449 68 449 724 71 724 ...\n"
     ]
    }
   ],
   "source": [
    "# 데이터의 구성을 살펴 볼 것입니다.\n",
    "str(treat)"
   ]
  },
  {
   "cell_type": "markdown",
   "metadata": {},
   "source": [
    "   * 이 데이터는 원본데이터를 가공한것입니다.\n",
    "   * 5개의 변수를 선택하고, 숫자로 코딩되어 있던 AGE (연령대) 와 DSBJT(진료과목)을 건강보험공단의 코딩표를 참조하여 보기 쉽게 수정했습니다.\n",
    "   * MAIN_SICK 은 환자가 병원에서 진료를 받을 때 질병의 종류를 구분한 코드 입니다.\n",
    "   \n",
    "   \n",
    "   * str() 함수로 살펴 본 바, MONTH(수진월) 과 SEX(성별) 이 int 형태로 구렁되어 있습니다.\n",
    "   * 의미상 범주형이므로 factor 를 사용해서 범주형 변수로 바꾸고 수준 이름도 바꿔 봅니다."
   ]
  },
  {
   "cell_type": "code",
   "execution_count": 3,
   "metadata": {},
   "outputs": [
    {
     "data": {
      "text/html": [
       "<ol class=list-inline>\n",
       "\t<li>'1'</li>\n",
       "\t<li>'2'</li>\n",
       "</ol>\n"
      ],
      "text/latex": [
       "\\begin{enumerate*}\n",
       "\\item '1'\n",
       "\\item '2'\n",
       "\\end{enumerate*}\n"
      ],
      "text/markdown": [
       "1. '1'\n",
       "2. '2'\n",
       "\n",
       "\n"
      ],
      "text/plain": [
       "[1] \"1\" \"2\""
      ]
     },
     "metadata": {},
     "output_type": "display_data"
    }
   ],
   "source": [
    "treat$MONTH = factor(treat$MONTH)\n",
    "treat$SEX = factor(treat$SEX)\n",
    "levels(treat$SEX)"
   ]
  },
  {
   "cell_type": "code",
   "execution_count": 4,
   "metadata": {},
   "outputs": [
    {
     "name": "stdout",
     "output_type": "stream",
     "text": [
      "'data.frame':\t2016783 obs. of  5 variables:\n",
      " $ MONTH    : Factor w/ 12 levels \"1\",\"2\",\"3\",\"4\",..: 12 12 12 12 12 12 12 12 12 12 ...\n",
      " $ AGE      : Factor w/ 18 levels \"01_0-4세\",\"02_5-9세\",..: 13 16 11 11 11 7 4 1 17 12 ...\n",
      " $ SEX      : Factor w/ 2 levels \"1\",\"2\": 2 1 2 2 2 2 2 2 2 2 ...\n",
      " $ DSBJT    : Factor w/ 20 levels \"가정의학과\",\"내과\",..: 11 11 11 11 11 11 11 19 19 19 ...\n",
      " $ MAIN_SICK: Factor w/ 1407 levels \"A02\",\"A03\",\"A04\",..: 460 446 446 449 449 68 449 724 71 724 ...\n"
     ]
    }
   ],
   "source": [
    "str(treat)"
   ]
  },
  {
   "cell_type": "markdown",
   "metadata": {},
   "source": [
    "MONTH 와 SEX 가 범주형 변수로 바뀌었습니다. 이제 levels 를 이용해서 수준을 바꾸어 봅니다."
   ]
  },
  {
   "cell_type": "code",
   "execution_count": 5,
   "metadata": {},
   "outputs": [],
   "source": [
    "levels(treat$SEX) = c(\"1_남\", \"2_여\")"
   ]
  },
  {
   "cell_type": "code",
   "execution_count": 6,
   "metadata": {},
   "outputs": [
    {
     "name": "stdout",
     "output_type": "stream",
     "text": [
      "'data.frame':\t2016783 obs. of  5 variables:\n",
      " $ MONTH    : Factor w/ 12 levels \"1\",\"2\",\"3\",\"4\",..: 12 12 12 12 12 12 12 12 12 12 ...\n",
      " $ AGE      : Factor w/ 18 levels \"01_0-4세\",\"02_5-9세\",..: 13 16 11 11 11 7 4 1 17 12 ...\n",
      " $ SEX      : Factor w/ 2 levels \"1_남\",\"2_여\": 2 1 2 2 2 2 2 2 2 2 ...\n",
      " $ DSBJT    : Factor w/ 20 levels \"가정의학과\",\"내과\",..: 11 11 11 11 11 11 11 19 19 19 ...\n",
      " $ MAIN_SICK: Factor w/ 1407 levels \"A02\",\"A03\",\"A04\",..: 460 446 446 449 449 68 449 724 71 724 ...\n"
     ]
    }
   ],
   "source": [
    "str(treat)"
   ]
  },
  {
   "cell_type": "markdown",
   "metadata": {},
   "source": [
    " #### treat 에서 treat 데이터 중 내과만 자세히 분석"
   ]
  },
  {
   "cell_type": "markdown",
   "metadata": {},
   "source": [
    "   * 내과 과목중에서 MAIN_SICK 와 AGE 관계를 보면 연령에 따라 어떤 병에 많이 걸리는지 확인할 수 있습니다.\n",
    "   * 분석중에 문제는 MAIN_SICK 의 질병 종류가 1047 로 너무 많아서 그림으로 표현이 힘들다는 점입니다."
   ]
  },
  {
   "cell_type": "code",
   "execution_count": 7,
   "metadata": {},
   "outputs": [],
   "source": [
    "internal = subset(treat, DSBJT='내과')"
   ]
  },
  {
   "cell_type": "code",
   "execution_count": 8,
   "metadata": {},
   "outputs": [],
   "source": [
    "t_MS_AGE = table(internal$MAIN_SICK, internal$AGE)"
   ]
  },
  {
   "cell_type": "code",
   "execution_count": 9,
   "metadata": {},
   "outputs": [
    {
     "data": {
      "text/html": [
       "<ol class=list-inline>\n",
       "\t<li>1407</li>\n",
       "\t<li>18</li>\n",
       "</ol>\n"
      ],
      "text/latex": [
       "\\begin{enumerate*}\n",
       "\\item 1407\n",
       "\\item 18\n",
       "\\end{enumerate*}\n"
      ],
      "text/markdown": [
       "1. 1407\n",
       "2. 18\n",
       "\n",
       "\n"
      ],
      "text/plain": [
       "[1] 1407   18"
      ]
     },
     "metadata": {},
     "output_type": "display_data"
    }
   ],
   "source": [
    "dim(t_MS_AGE)"
   ]
  },
  {
   "cell_type": "code",
   "execution_count": 11,
   "metadata": {},
   "outputs": [
    {
     "data": {
      "text/plain": [
       "     \n",
       "      01_0-4세 02_5-9세 03_10-14세 04_15-19세 05_20-24세 06_25-29세 07_30-34세\n",
       "  A02        2        1          0          1          1          0          1\n",
       "  A03        0        0          0          1          0          0          1\n",
       "  A04      119       96        103        231        268        335        288\n",
       "  A05        2        2          2          8         21         21         19\n",
       "  A06        0        0          0          0          5          2          1\n",
       "     \n",
       "      08_35-39세 09_40-44세 10_45-49세 11_50-54세 12_55-59세 13_60-64세\n",
       "  A02          0          0          0          1          0          0\n",
       "  A03          0          0          0          0          0          0\n",
       "  A04        202        181        196        164        170        176\n",
       "  A05         20         12         12         13          8          7\n",
       "  A06          6          1          0          2          0          0\n",
       "     \n",
       "      14_65-69세 15_70-74세 16_75-79세 17_80-84세 18_85세이상\n",
       "  A02          0          0          0          0           0\n",
       "  A03          0          0          0          0           0\n",
       "  A04        137        130        115         36          30\n",
       "  A05         13          4          8          2           2\n",
       "  A06          1          1          0          0           0"
      ]
     },
     "metadata": {},
     "output_type": "display_data"
    }
   ],
   "source": [
    "head(t_MS_AGE, 5)"
   ]
  },
  {
   "cell_type": "markdown",
   "metadata": {},
   "source": [
    "질병코드 A02,... 는 [KOICD 질병분류정보센터](http://www.koicd.kr/) 에서 확인 할 수 있습니다.\n",
    "예를 들어 A02 는 기타 살모네라 감염 입니다.\n",
    "\n",
    "   * 진료건수가 많은 질병만 살펴보는것이 더 의미가 있을 것입니다. 따라서 어떤 병이 진료 건수가 많은지 행 합계를 계산하여 봅니다."
   ]
  },
  {
   "cell_type": "code",
   "execution_count": 14,
   "metadata": {},
   "outputs": [],
   "source": [
    "t_MS_AGE2 = t_MS_AGE[rowSums(t_MS_AGE)>20000,]"
   ]
  },
  {
   "cell_type": "code",
   "execution_count": 15,
   "metadata": {},
   "outputs": [
    {
     "data": {
      "text/plain": [
       "     \n",
       "      01_0-4세 02_5-9세 03_10-14세 04_15-19세 05_20-24세 06_25-29세 07_30-34세\n",
       "  E11        0        0          8         30         97         70        295\n",
       "  H10     2197     2087       1101       1034       1052       1146       1371\n",
       "  I10        0        0          8         34         81        150        506\n",
       "  J00     8699     3095        884        726        623        815       1114\n",
       "  J01     9562     5964       1875       1434       1078       1410       1964\n",
       "  J02     8298     3847       1825       1705       1112       1529       2013\n",
       "  J03     6081     4374       2215       2170       1731       2450       2969\n",
       "  J04     2578     2202       1181       1167        855       1332       1692\n",
       "  J06     9286     4098       1807       1647       1259       1641       2132\n",
       "  J20    40386    21879       6885       5146       3438       4137       6211\n",
       "  J30     7491     6056       2923       2277       1555       1960       2418\n",
       "  K21      118       94        146        472        636       1031       1323\n",
       "  K29      290      577        754       1591       1444       1905       1986\n",
       "  L23      882      795        719        911       1299       1663       1855\n",
       "  M17        0       10         18         71         63         83        166\n",
       "  M48        1        0          2         20         54         61        118\n",
       "  M51        0        1         10        357        622        963       1396\n",
       "  M54       16       67        405       1134       1230       2123       3080\n",
       "  M75        1        1         10         72        154        274        428\n",
       "  N18        0        0          2          8          1         12        145\n",
       "     \n",
       "      08_35-39세 09_40-44세 10_45-49세 11_50-54세 12_55-59세 13_60-64세\n",
       "  E11        600       1551       2604       4509       5879       6142\n",
       "  H10       1300       1372       1356       1429       1789       1504\n",
       "  I10       1243       3638       7084      12449      16450      16684\n",
       "  J00       1045       1019        835        885        983        856\n",
       "  J01       2142       1733       1484       1452       1415       1093\n",
       "  J02       2222       1956       1771       1714       1801       1463\n",
       "  J03       3352       2858       2190       2045       2082       1500\n",
       "  J04       2014       1666       1572       1559       1693       1608\n",
       "  J06       2352       2210       1928       1934       2290       1796\n",
       "  J20       7255       7078       5937       6054       6639       6020\n",
       "  J30       2550       2502       2109       2062       2152       1773\n",
       "  K21       1410       2071       2197       2689       3105       2732\n",
       "  K29       1893       2329       2407       2622       3065       2647\n",
       "  L23       1859       1716       1951       2292       2264       1941\n",
       "  M17        186        503       1339       2690       5917       6744\n",
       "  M48        145        218        383       1166       2021       2344\n",
       "  M51       1723       1946       2667       2916       3464       3293\n",
       "  M54       2849       3308       3437       4786       5230       4897\n",
       "  M75        919       1419       2501       4460       4329       3693\n",
       "  N18       1157       1152       1529       2001       1694       2244\n",
       "     \n",
       "      14_65-69세 15_70-74세 16_75-79세 17_80-84세 18_85세이상\n",
       "  E11       5690       5514       4019       2092        1019\n",
       "  H10       1579       1532       1031        608         329\n",
       "  I10      16227      13524       9673       5297        3383\n",
       "  J00        715        604        470        233         129\n",
       "  J01        867        727        403        251          70\n",
       "  J02       1091        946        698        223         209\n",
       "  J03       1283        972        572        295         164\n",
       "  J04       1413       1037        730        312         166\n",
       "  J06       1549       1270        754        471         236\n",
       "  J20       5351       4795       3039       1618         877\n",
       "  J30       1554       1403        919        410         231\n",
       "  K21       2497       2157       1493        698         266\n",
       "  K29       2583       2231       1805        915         563\n",
       "  L23       2021       1727       1064        548         298\n",
       "  M17       9064       7578       4977       2732        1660\n",
       "  M48       4086       4603       3369       1683         802\n",
       "  M51       3673       3081       2224       1233         460\n",
       "  M54       5316       4922       3804       1945         882\n",
       "  M75       3016       2497       1154        655         160\n",
       "  N18       3621       4784       2494       1992         555"
      ]
     },
     "metadata": {},
     "output_type": "display_data"
    }
   ],
   "source": [
    "t_MS_AGE2"
   ]
  },
  {
   "cell_type": "code",
   "execution_count": 18,
   "metadata": {},
   "outputs": [
    {
     "data": {
      "image/png": "[encoded data removed]",
      "text/plain": [
       "plot without title"
      ]
     },
     "metadata": {},
     "output_type": "display_data"
    }
   ],
   "source": [
    "par(family=\"NanumGothic\")\n",
    "options(warn=-1)\n",
    "heatmap(t_MS_AGE2, col=colorRampPalette(c('white', 'dodgerblue'))(100), scale='none', Rowv=NA, Colv=NA, cexRow=1.5, cexCol=1.5)"
   ]
  },
  {
   "cell_type": "markdown",
   "metadata": {},
   "source": [
    "중요한 질병 코드 를 KOICD 에서 검색해보면 다음과 같습니다.\n",
    "\n",
    "| MAIN_SICK     | 질병코드          |\n",
    "| ------------- |:---------------:|\n",
    "| N18           | 만성 신장병       |\n",
    "| K29           | 위염 및 십이자장염  |\n",
    "| K21           | 위-식도 역류병     |\n",
    "| J20           | 급성 기관지염      |\n",
    "| I10           | 본태성 고혈압      |\n",
    "| E11           | 2형 당뇨병        |"
   ]
  },
  {
   "cell_type": "markdown",
   "metadata": {},
   "source": [
    "   * 젊은 사람은 K29 위염및 십이지장염으로 고통을 받고 있습니다.\n",
    "   * 어린 아이는 J20 급성기관지염으로 병원을 찾고 있습니다.\n",
    "   * 중년에 접어 들수록 I10 고혈압, E11 당뇨병 때문에 병원을 찾고 있습니다.\n",
    "   * 노년에 접어 들수록 N18 만성신장염 으로 진료를 받는 사람이 많습니다."
   ]
  },
  {
   "cell_type": "code",
   "execution_count": null,
   "metadata": {},
   "outputs": [],
   "source": []
  }
 ],
 "metadata": {
  "kernelspec": {
   "display_name": "R",
   "language": "R",
   "name": "ir"
  },
  "language_info": {
   "codemirror_mode": "r",
   "file_extension": ".r",
   "mimetype": "text/x-r-source",
   "name": "R",
   "pygments_lexer": "r",
   "version": "3.4.3"
  }
 },
 "nbformat": 4,
 "nbformat_minor": 2
}
