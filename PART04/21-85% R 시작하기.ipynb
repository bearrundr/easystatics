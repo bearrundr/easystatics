{
 "cells": [
  {
   "cell_type": "markdown",
   "metadata": {},
   "source": [
    "# <span style=\"color:blue\"> 이토록 쉬운 통계 & R </span>"
   ]
  },
  {
   "cell_type": "markdown",
   "metadata": {},
   "source": [
    "<img src=\"../image/cover.png\" width=\"200\" height=\"400\" align=\"left\">  임경덕 지음"
   ]
  },
  {
   "cell_type": "markdown",
   "metadata": {},
   "source": [
    "## PART 4 데이터 분석 도구, R"
   ]
  },
  {
   "cell_type": "markdown",
   "metadata": {},
   "source": [
    "## 85%  R 시작하기 (29 일차)"
   ]
  },
  {
   "cell_type": "markdown",
   "metadata": {},
   "source": [
    "   * R 설치 및 시작.\n",
    "   * 이부분은 간단하게 설치 URL 소개로 끝낼것입니다.\n",
    "   * 내용이 아주 부실합니다. 그러나 실제 설치는 시간이 많이 걸리므로 설치에 관련된 절차들은 생략 할 것입니다. 대신 구글링 해서 내용을 찾아 보시기 바랍니다."
   ]
  },
  {
   "cell_type": "markdown",
   "metadata": {},
   "source": [
    "## R 설치"
   ]
  },
  {
   "cell_type": "markdown",
   "metadata": {},
   "source": [
    "   * [R site: The R Project for Statistical Computing](http://www.cran.r-project.org/)\n",
    "   \n",
    "   * 설치 관련 해서는 많은 블로그 가 있습니다. 참조 하시기 바랍니다.\n",
    "      * 구글에서 \"R 설치\" 를 키워드로 검색하면 여러 싸이트 들이 보이는데, 그 중에서 이용하시면 될 것 같습니다.\n",
    "      * http://rfriend.tistory.com/5   (예)"
   ]
  },
  {
   "cell_type": "markdown",
   "metadata": {},
   "source": [
    "## R-Studio 설치"
   ]
  },
  {
   "cell_type": "markdown",
   "metadata": {},
   "source": [
    "   * [R Studio 사이트](https://www.rstudio.com/)\n",
    "   * 설치 관련해서 역시 구글을 검색하여 많은 블로그 중에서 참조 하시면 됩니다.\n",
    "       * http://rfriend.tistory.com/6?category=601862  (예)\n",
    "       \n",
    "       \n",
    "       \n",
    "   * 필요하다면 R Studio 사이트에서 R-Shiny 도 같이 설치 할 수 있습니다."
   ]
  },
  {
   "cell_type": "markdown",
   "metadata": {},
   "source": [
    "## Jupyter Notebook"
   ]
  },
  {
   "cell_type": "markdown",
   "metadata": {},
   "source": [
    "   * [아나콘다 사이트](https://www.anaconda.com/download/#macos) 에서 ananconda 를 다운 받아 설치 합니다.\n",
    "   * 설치 관련 해서는 역시 구글 검색으로 여러 블로그를 참조 하여 설치 하면 됩니다.\n",
    "   * http://thrillfighter.tistory.com/466   (예)\n",
    "   * 설치후에 설치된 폴더에서 jupyter notebook 하면 간단히 실행됩니다.\n",
    "   * 접속은 브라우저를 실행한 후에 http://localhost:8888 하면 브라우저 Jupyter notebook 이 실행됩니다.\n",
    "   \n",
    "   \n",
    "   * anaconda 설치후에 pip install r r-essentials 명령어를 실행하면, jupyter 에 r kernel 이 설치되고, jupyter notebook 에서 r 를 사용 할 수 있습니다.\n",
    "       * 자세한것은 구글 검색 바랍니다.\n",
    "       * 만일 이미 r 이 설치되어 있다면 Rstuion 를 실행한 후에 jupyter bridge 를 설치하면 됩니다.\n",
    "       * 자세한것 역시 구글 검색 바랍니다."
   ]
  },
  {
   "cell_type": "markdown",
   "metadata": {},
   "source": [
    "다음절 부터는 R 을 실제 사용하는데, Jupyter Notebook 을 이용해서 작업할 예정입니다."
   ]
  }
 ],
 "metadata": {
  "kernelspec": {
   "display_name": "R",
   "language": "R",
   "name": "ir"
  },
  "language_info": {
   "codemirror_mode": "r",
   "file_extension": ".r",
   "mimetype": "text/x-r-source",
   "name": "R",
   "pygments_lexer": "r",
   "version": "3.4.3"
  }
 },
 "nbformat": 4,
 "nbformat_minor": 2
}
