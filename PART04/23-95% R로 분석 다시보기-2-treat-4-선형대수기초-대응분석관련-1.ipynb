{
 "cells": [
  {
   "cell_type": "markdown",
   "metadata": {},
   "source": [
    "# <span style=\"color:blue\"> 이토록 쉬운 통계 & R </span>"
   ]
  },
  {
   "cell_type": "markdown",
   "metadata": {},
   "source": [
    "<img src=\"../image/cover.png\" width=\"200\" height=\"400\" align=\"left\">  임경덕 지음"
   ]
  },
  {
   "cell_type": "markdown",
   "metadata": {},
   "source": [
    "## PART 4 데이터 분석 도구, R"
   ]
  },
  {
   "cell_type": "markdown",
   "metadata": {},
   "source": [
    "## 95% R로 분석 다시보기-2-treat-4-선형대수기초 대응분석관련-1 (41일차)"
   ]
  },
  {
   "cell_type": "markdown",
   "metadata": {},
   "source": [
    "   * 데이타프로젝트 (http://dataproject.xyz) 또는 (http://cafe.naver.com/dataartproject) 에 미리 저장된 스크립트를 다운 받을 수 있습니다.\n",
    "   * 스크립트를 활용하면 직접 명령어를 입력하지 않고 저장된 명령어들을 실행할 수 있습니다."
   ]
  },
  {
   "cell_type": "markdown",
   "metadata": {},
   "source": [
    "### 데이터 파일은 dataartproject.xyz 에 있습니다."
   ]
  },
  {
   "cell_type": "markdown",
   "metadata": {},
   "source": [
    "# 두개의 범주형 변수의 관계 찾기 -- treat - 대응분석 정리"
   ]
  },
  {
   "cell_type": "markdown",
   "metadata": {},
   "source": [
    "## 진료과목 중 내과만 자세히 살피기  -- 대응분석"
   ]
  },
  {
   "cell_type": "markdown",
   "metadata": {},
   "source": [
    "공공 테이터 포털 (data.go.kr) 에서 각 정부부처에서 공개한 데이터들을 볼 수 있습니다. 그 중에서 건강보험공간에서 공개한 100만 건의 진료내역 정보를 살펴 봅시다. 원본 데이터는 2015년 약 100만건의 진료내역을 담고 있으나. 우리는 서울의 외래 진료내역인 약 200만건 데이터를 살펴 볼 것입니다."
   ]
  },
  {
   "cell_type": "markdown",
   "metadata": {},
   "source": [
    "## 대응분석 관련 정리"
   ]
  },
  {
   "cell_type": "markdown",
   "metadata": {},
   "source": [
    "대응분석을 설명하기 위해서는 몇가지 기본적인 내용의 정리가 필요합니다. 따라서 관련 내용을 먼저 정리 하고 진료 과목에 대한 대응 분석을 설명할 예정입니다.\n",
    "여기서 대응분석이라는 것은 일반적으로 두개의 범주형 변수의 관계에 대한 독립성 여부는 카이제곱 분석에 의하여 P 검정을 살펴보게 됩니다.\n",
    "\n",
    "그러나 다수준인 경우에는 분석시에 복잡한 양상을 띄게 됩니다. 따라서 이 경우에는 수준별 대응 분석을 하게 됩니다. 대응분석은 범주형 변수의 각 수준을 계량화하여 2차원 그래프 상에서 표현하여 두 범주형 변수가 변화는 관계를 살펴보는 것입니다.\n",
    "\n",
    "이런 내용을 이해 하기 위해서는 선형 대수와 관련 해서 몇가지 기초적인 지식이 필요합니다."
   ]
  },
  {
   "cell_type": "markdown",
   "metadata": {},
   "source": [
    "### 고유값 과 고유벡터 (Eigen Value & EigenVector)\n",
    "https://en.wikipedia.org/wiki/Eigendecomposition_of_a_matrix"
   ]
  },
  {
   "cell_type": "markdown",
   "metadata": {},
   "source": [
    "#### 정의"
   ]
  },
  {
   "cell_type": "markdown",
   "metadata": {},
   "source": [
    "* $\\mathbf A$ 를 $n \\times n$ 실수 혹은 복수수 행렬이고, $\\mathbf E$ 를 $n \\times 1$ 인 행렬 또는 벡터라고 하고 다음의 조건을 만족 한다고 하자.\n",
    "\n",
    "$$ \\mathbf A \\mathbf E = \\lambda \\mathbf E$$"
   ]
  },
  {
   "cell_type": "markdown",
   "metadata": {},
   "source": [
    "* 0 이 아닌 어떤 벡터 $\\mathbf E$ 에 대해서 실수 혹은 복소수 $\\lambda$ 를 $\\mathbf A$ 의 **고유값(eigenvalue)** 혹은 **특성값(characteristic value)** 라고 합니다.\n",
    "* $n \\times 1$ 행렬 또는 벡터 $\\mathbf E$ 를 고유값 $\\lambda$ 에 관한 **고유벡터(eigenvector)** 혹은 **특성벡터(characteristic vector)** 또는 **종행렬(column matrix)** 라고 합니다.\n",
    "* $\\mathbf A \\mathbf E$ 의 방향은 $\\mathbf E$ 의 방향과 평행합니다.\n",
    "* $\\alpha \\neq 0$ 이고 $\\mathbf A \\mathbf E = \\lambda \\mathbf E$ 이면 $\\mathbf A(\\alpha \\mathbf E) = \\alpha(\\lambda \\mathbf E) = \\lambda (\\alpha \\mathbf E)$ 즉 고유벡터의 0 이 아닌 스칼라 곱도 고유 벡터 입니다."
   ]
  },
  {
   "cell_type": "markdown",
   "metadata": {},
   "source": [
    "#### 고유벡터와 고유값 예"
   ]
  },
  {
   "cell_type": "markdown",
   "metadata": {},
   "source": [
    "1. 예 1.\n",
    "\n",
    "$$\n",
    "\\mathbf A = \\begin{pmatrix} 1 & 0 \\\\ 0 & 0 \\\\ \\end{pmatrix}  \\qquad \\mathbf A \\mathbf E =  \\begin{pmatrix} 1 & 0 \\\\ 0 & 0 \\\\ \\end{pmatrix}  \\begin{pmatrix} 0 \\\\ 4 \\\\ \\end{pmatrix} = \\begin{pmatrix} 0 \\\\ 0 \\\\ \\end{pmatrix} = \\lambda \\mathbf E = 0 \\begin{pmatrix} 0 \\\\ 4 \\\\ \\end{pmatrix}\n",
    "$$"
   ]
  },
  {
   "cell_type": "markdown",
   "metadata": {},
   "source": [
    "* 정의에 의하여 고유벡터는 $\\begin{pmatrix} 0 \\\\ 4 \\\\ \\end{pmatrix}$ 이고 고유값은 0 이 된다."
   ]
  },
  {
   "cell_type": "markdown",
   "metadata": {},
   "source": [
    "* $\\alpha \\neq 0$ 인 $\\alpha$ 에 대해서 $\\begin{pmatrix} 0 \\\\ 4 \\alpha \\\\ \\end{pmatrix}$ 도 고유값 0 인 고유벡터가 된다."
   ]
  },
  {
   "cell_type": "markdown",
   "metadata": {},
   "source": [
    "2. 예 2.\n",
    "\n",
    "$$\n",
    "\\mathbf A = \\begin{pmatrix} 1 & -1 & 0 \\\\ 0 & 1 & 1 \\\\ 0 & 0 & -1 \\\\ \\end{pmatrix}  \\qquad \\mathbf A \\mathbf E =  \\begin{pmatrix} 1 & -1 & 0 \\\\ 0 & 1 & 1 \\\\ 0 & 0 & -1 \\\\ \\end{pmatrix}  \\begin{pmatrix} 1 \\\\ 2 \\\\ -4 \\\\ \\end{pmatrix} = \\begin{pmatrix} -1 \\\\ -2 \\\\ 4 \\\\ \\end{pmatrix} = \\lambda \\mathbf E = -1 \\begin{pmatrix} 1 \\\\ 2 \\\\ -4 \\\\ \\end{pmatrix}\n",
    "$$"
   ]
  },
  {
   "cell_type": "markdown",
   "metadata": {},
   "source": [
    "* 정의에 의하여 고유벡터는 $\\begin{pmatrix} 1 \\\\ 2 \\\\ -4 \\\\ \\end{pmatrix}$ 이고 고유값은 -1 이 된다."
   ]
  },
  {
   "cell_type": "markdown",
   "metadata": {},
   "source": [
    "* 마찬가지로 \n",
    "\n",
    "$$\n",
    "\\mathbf A = \\begin{pmatrix} 1 & -1 & 0 \\\\ 0 & 1 & 1 \\\\ 0 & 0 & -1 \\\\ \\end{pmatrix}  \\qquad \\mathbf A \\mathbf E =  \\begin{pmatrix} 1 & -1 & 0 \\\\ 0 & 1 & 1 \\\\ 0 & 0 & -1 \\\\ \\end{pmatrix}  \\begin{pmatrix} 6 \\\\ 0 \\\\ 0 \\\\ \\end{pmatrix} = \\begin{pmatrix} 6 \\\\ 0 \\\\ 0 \\\\ \\end{pmatrix} = \\lambda \\mathbf E = 1 \\begin{pmatrix} 6 \\\\ 0 \\\\ 0 \\\\ \\end{pmatrix}\n",
    "$$"
   ]
  },
  {
   "cell_type": "markdown",
   "metadata": {},
   "source": [
    "* 정의에 의하여 고유벡터는 $\\begin{pmatrix} 6 \\\\ 0 \\\\ 0 \\\\ \\end{pmatrix}$ 이고 고유값은 1 이 된다."
   ]
  },
  {
   "cell_type": "markdown",
   "metadata": {},
   "source": [
    "#### 고유값과 고유벡터를 구하는 방법"
   ]
  },
  {
   "cell_type": "markdown",
   "metadata": {},
   "source": [
    "* $\\lambda$ 가 고유벡터 $\\mathbf E$ 에 관한 고유값이면 $\\mathbf A \\mathbf E = \\lambda \\mathbf E$ 이고 $\\lambda \\mathbf E - \\mathbf A \\mathbf E = \\mathbf 0$ 이다."
   ]
  },
  {
   "cell_type": "markdown",
   "metadata": {},
   "source": [
    "* 고유벡터로 묶으면 $(\\lambda \\mathbf I  - \\mathbf A) \\mathbf E = \\mathbf 0$ 이고, 방정식 형태로 하면 $(\\lambda \\mathbf I  - \\mathbf A) \\mathbf X = \\mathbf 0$ 가 된다.\n",
    "* 이 방정식의 자명하지 않은 해를 가질 필요충분 조건은   $\\vert \\lambda \\mathbf I  - \\mathbf A \\vert = \\mathbf 0$\n",
    "* 그러므로 $\\vert \\lambda \\mathbf I  - \\mathbf A \\vert = \\mathbf 0$ 일 때 $\\lambda$ 는 $\\mathbf A$ 의 고유값이 된다."
   ]
  },
  {
   "cell_type": "markdown",
   "metadata": {},
   "source": [
    "$$\n",
    "\\vert \\lambda \\mathbf I  - \\mathbf A \\vert = \\mathbf 0 \\Rightarrow \\begin{vmatrix} \\lambda - a_{11} & -a_{12} & \\cdots & -a_{1n} \\\\ -a_{21} & \\lambda - a_{22} & \\cdots & -a_{2n} \\\\ \\vdots & \\vdots & \\vdots & \\vdots \\\\ -a_{n1} & -a_{n2} & \\cdots & \\lambda - a_{nn} \\\\ \\end{vmatrix} = 0\n",
    "$$"
   ]
  },
  {
   "cell_type": "markdown",
   "metadata": {},
   "source": [
    "* 다항식 $\\vert \\lambda \\mathbf I  - \\mathbf A \\vert$ 는 $\\mathbf A$ 의 특성다항식 (characteristic polunomial) 이라 부르며 $P_A(\\lambda)$ 라 표시합니다.\n",
    "* $\\mathbf A$ 가 $n \\times n$ 행렬이면 $P_A(\\lambda)$ 는 n 차 다항식으로 $\\mathbf A$ 의 고유값은 실수 혹은 복소수 값을 갖는다.\n",
    "* $\\mathbf A$ 는 n 개의 고유값들 $\\lambda_1, \\lambda_2,\\cdots,\\lambda_n$ 을 갖는다. 중복은 가능하다.\n",
    "* 예를들어 $P_A(\\lambda) = (\\lambda - 1)(\\lambda - 3)^2 (\\lambda - i)^4$ 이면\n",
    "* $\\lambda = 1,3,3,i,i,i,i$ 가 된다."
   ]
  },
  {
   "cell_type": "markdown",
   "metadata": {},
   "source": [
    "#### 고유값과 고유벡터 예 3."
   ]
  },
  {
   "cell_type": "markdown",
   "metadata": {},
   "source": [
    "$\\mathbf A = \\begin{pmatrix} 1 & -1 & 0 \\\\ 0 & 1 & 1 \\\\ 0 & 0 & -1 \\\\ \\end{pmatrix} $ 의 고유값과 고유벡터를 구하세요."
   ]
  },
  {
   "cell_type": "markdown",
   "metadata": {},
   "source": [
    "* 특성 다항식 \n",
    "$$\n",
    "P_A(\\lambda) = \\vert \\lambda \\mathbf I  - \\mathbf A \\vert = \\left \\vert \\lambda \\begin{pmatrix} 1 & 0 & 0 \\\\ 0 & 1 & 0 \\\\ 0 & 0 & 1 \\\\ \\end{pmatrix} - \\begin{pmatrix} 1 & -1 & 0 \\\\ 0 & 1 & 1 \\\\ 0 & 0 & -1 \\\\ \\end{pmatrix}\\right \\vert = \\begin{vmatrix} \\lambda - 1 & 1 & 0 \\\\ 0 & \\lambda - 1 & -1 \\\\ 0 & 0 & \\lambda + 1 \\\\ \\end{vmatrix} = (\\lambda - 1)^2(\\lambda + 1) = 0\n",
    "$$"
   ]
  },
  {
   "cell_type": "markdown",
   "metadata": {},
   "source": [
    "* 고유값 $\\lambda$ = 1,1, -1 이 됩니다."
   ]
  },
  {
   "cell_type": "markdown",
   "metadata": {},
   "source": [
    "* $\\lambda = 1$ 에 대한 고유벡터"
   ]
  },
  {
   "cell_type": "markdown",
   "metadata": {},
   "source": [
    "$$\n",
    "(\\mathbf 1 \\mathbf I_3  - \\mathbf A) \\mathbf X =  \\left \\{ \\begin{pmatrix} 1 & 0 & 0 \\\\ 0 & 1 & 0 \\\\ 0 & 0 & 1 \\\\ \\end{pmatrix} - \\begin{pmatrix} 1 & -1 & 0 \\\\ 0 & 1 & 1 \\\\ 0 & 0 & -1 \\\\ \\end{pmatrix}\\right \\} \\mathbf X = \\begin{pmatrix} 0 & 1 & 0 \\\\ 0 & 0 & -1 \\\\ 0 & 0 & -2 \\\\ \\end{pmatrix} \\mathbf X = \\begin{pmatrix} 0 & 1 & 0 \\\\ 0 & 0 & -1 \\\\ 0 & 0 & -2 \\\\ \\end{pmatrix} \\begin{pmatrix} x_1 \\\\ x_2 \\\\ x_3 \\\\ \\end{pmatrix} = \\mathbf 0\n",
    "$$"
   ]
  },
  {
   "cell_type": "markdown",
   "metadata": {},
   "source": [
    "$ x_2 = 0, -x_3 = 0, -2x_3 = 0$ 이고 $x_1$ 은 임의 수이므로 $x_1 = \\alpha$ 로 놓을수 있습니다. 따라서"
   ]
  },
  {
   "cell_type": "markdown",
   "metadata": {},
   "source": [
    "$\\mathbf X = \\begin{pmatrix} \\alpha \\\\ 0 \\\\ 0 \\\\ \\end{pmatrix} = \\alpha \\begin{pmatrix} 1 \\\\ 0 \\\\ 0 \\\\ \\end{pmatrix} $\n",
    "\n",
    "\n",
    "이 됩니다. $X$ 는 null 벡터가 아니므로 $\\alpha \\neq 0$ 이 되어야 함."
   ]
  },
  {
   "cell_type": "markdown",
   "metadata": {},
   "source": [
    "* $\\lambda = -1$ 에 대한 고유벡터"
   ]
  },
  {
   "cell_type": "markdown",
   "metadata": {},
   "source": [
    "$$\n",
    "(\\mathbf -1 \\mathbf I_3  - \\mathbf A) \\mathbf X =  \\left \\{ \\begin{pmatrix} -1 & 0 & 0 \\\\ 0 & -1 & 0 \\\\ 0 & 0 & -1 \\\\ \\end{pmatrix} - \\begin{pmatrix} 1 & -1 & 0 \\\\ 0 & 1 & 1 \\\\ 0 & 0 & -1 \\\\ \\end{pmatrix}\\right \\} \\mathbf X = \\begin{pmatrix} -2 & 1 & 0 \\\\ 0 & -2 & -1 \\\\ 0 & 0 & 0 \\\\ \\end{pmatrix} \\mathbf X \\Rightarrow \\begin{pmatrix} 1 & -1/2 & 0 \\\\ 0 & 1 & 1/2 \\\\ 0 & 0 & 0 \\\\ \\end{pmatrix} \\begin{pmatrix} x_1 \\\\ x_2 \\\\ x_3 \\\\ \\end{pmatrix} = \\mathbf 0\n",
    "$$"
   ]
  },
  {
   "cell_type": "markdown",
   "metadata": {},
   "source": [
    "$x_1 = \\dfrac{1}{2}x_2 = -\\dfrac{1}{4}x_3, x_2 = -\\dfrac{1}{2}x_3$ 이므로"
   ]
  },
  {
   "cell_type": "markdown",
   "metadata": {},
   "source": [
    "$\\mathbf X = \\begin{pmatrix} -\\dfrac{1}{4}\\beta \\\\ -\\dfrac{1}{2}\\beta \\\\ \\beta \\\\ \\end{pmatrix} \\Rightarrow \\begin{pmatrix} \\beta \\\\ 2\\beta \\\\ -4\\beta \\\\ \\end{pmatrix} \\Rightarrow \\beta \\begin{pmatrix} 1 \\\\ 2 \\\\ -4 \\\\ \\end{pmatrix} $\n",
    "\n",
    "\n",
    "이 됩니다. $X$ 는 null 벡터가 아니므로 $\\beta \\neq 0$ 이 되어야 함."
   ]
  },
  {
   "cell_type": "markdown",
   "metadata": {},
   "source": [
    "### 행렬의 대각화(Diagonalization)"
   ]
  },
  {
   "cell_type": "markdown",
   "metadata": {},
   "source": [
    "#### 용어의 정리"
   ]
  },
  {
   "cell_type": "markdown",
   "metadata": {},
   "source": [
    "* 주 대각선 요소(main diagonal element) : 행렬 $\\mathbf A$ 의 요소 $a_{ii}$\n",
    "* 비 대각 요소 (off-diagonal element) : $a_{ii}$ 를 제외한 나머지 요소"
   ]
  },
  {
   "cell_type": "markdown",
   "metadata": {},
   "source": [
    "#### 정의\n"
   ]
  },
  {
   "cell_type": "markdown",
   "metadata": {},
   "source": [
    "* 대각행렬 (diagonal matrix) : 모든 비 대각 요소들이 0인 행렬\n",
    "\n",
    "$$\n",
    "\\mathbf D = \\begin{pmatrix} d_1 & 0 & \\cdots & 0 \\\\ 0 & d_2 & \\ddots & \\vdots \\\\ \\vdots & \\ddots & \\ddots & 0 \\\\ 0 & 0 & \\cdots & d_n \\\\ \\end{pmatrix}\n",
    "$$"
   ]
  },
  {
   "cell_type": "markdown",
   "metadata": {},
   "source": [
    "* $|D| = d_1d_2d\\cdots d_n$\n",
    "* 대각행렬이 regular matrix (= inversibel matrix) 이 될 필요충분조건은 주대각선의 모든 요소가 0 이 아닌 경우 입니다.\n",
    "* 만인 $d_j \\neq 0$ 이라면 역행렬은 다음과 같이 됩니다.\n",
    "$$\n",
    "\\mathbf D^{-1} = \\begin{pmatrix} \\dfrac{1}{d_1} & 0 & \\cdots & 0 \\\\ 0 & \\dfrac{1}{d_2} & \\ddots & \\vdots \\\\ \\vdots & \\ddots & \\ddots & 0 \\\\ 0 & 0 & \\cdots & \\dfrac{1}{d_n} \\\\ \\end{pmatrix}\n",
    "$$\n",
    "\n",
    "* $\\mathbf D$ 의 고유값은 주 대각선 요소 $d_1, d_2, \\cdots, d_n$ 이 됩니다.\n",
    "\n",
    "* 이와 관련된 고유벡터는 예를 들면 $d_j$ 와 관련된 고유벡터는 j 열은 1 나머지는 0 인 벡터입니다."
   ]
  },
  {
   "cell_type": "markdown",
   "metadata": {},
   "source": [
    "#### 대각화 가능 행렬(Diagonalizable matrix)"
   ]
  },
  {
   "cell_type": "markdown",
   "metadata": {},
   "source": [
    "* $\\mathbf P^{-1}\\mathbf A \\mathbf P$ 가 대각행렬 일 때 $n \\times n$ 정칙행렬(regular matrix) 인 P 가 있다면 행렬 $\\mathbf A$ 는 대각화가 가능합니다.\n",
    "* 그런 $\\mathbf P$ 가 있다면 $\\mathbf P$ 는 $\\mathbf A$ 를 대각화 한다고 한다.\n",
    "* 행렬 $\\mathbf A$ 가 n 개의 선형 독립인 고유벡터를 가지면 $\\mathbf A$ 는 대각화가 가능합니다.\n",
    "* $\\mathbf P$ 가 고유벡터를 이용하여 열로 행렬을 구성하여 행렬을 구성하면 $\\mathbf P^{-1} \\mathbf A \\mathbf P$ 는 주 대각선상에 그에 대응하는 고유값을 갖는 대각행렬이 됩니다.\n",
    "* 즉 $\\mathbf A$ 가 고유값 $\\lambda_1, \\lambda_2,\\cdots, \\lambda_n$ 을 갖고, 그에 대응하는 고유벡터 $\\mathbf V_1, \\mathbf V_2, \\cdots, \\mathbf V_n$ 를 가지며, 이 고유벡터들이 1차 독립이라면, $j$ 열이 $\\mathbf V_j$ 인 행렬 $\\mathbf P$ 를 만들 수 있고, $\\mathbf P^{-1} \\mathbf A \\mathbf P$ 가 주 대각선상에 $\\mathbf A$ 의 고유값 $\\lambda_1, \\lambda_2,\\cdots, \\lambda_n$ 을 갖는다.\n",
    "* $\\mathbf V_j = \\{\\mathrm v_{j1},\\mathrm v_{j2},\\cdots, \\mathrm v_{jn} \\} $ 라고 놓으면"
   ]
  },
  {
   "cell_type": "markdown",
   "metadata": {},
   "source": [
    "즉 $\\mathbf P = \\begin{pmatrix} \\mathrm v_{11} & \\mathrm v_{21} & \\cdots & \\mathrm v_{n1} \\\\ \\mathrm v_{12} & \\mathrm v_{22} & \\ddots & \\vdots \\\\ \\vdots & \\ddots & \\ddots & \\mathrm v_{nj} \\\\ \\mathrm v_{1n} & \\mathrm v_{2n} & \\cdots & \\mathrm v_{nn} \\\\ \\end{pmatrix} $ 라고 놓을 수 있으며\n",
    "\n",
    "\n",
    "$\\mathbf P^{-1} \\mathbf A \\mathbf P = \\begin{pmatrix} \\lambda_1 & 0 & \\cdots & 0 \\\\ 0 & \\lambda_2 & \\ddots & \\vdots \\\\ 0 & \\ddots & \\lambda_j & 0 \\\\ 0 & 0 & \\cdots & \\lambda_n \\\\ \\end{pmatrix} $ 가 됩니다."
   ]
  },
  {
   "cell_type": "markdown",
   "metadata": {},
   "source": [
    "#### 예 4."
   ]
  },
  {
   "cell_type": "markdown",
   "metadata": {},
   "source": [
    "* 4.1 먼저 $\\mathbf A = \\begin{pmatrix} -1 & 4 \\\\ 0 & 3 \\\\ \\end{pmatrix} $ 의 고유값과 고유벡터를 구하세요."
   ]
  },
  {
   "cell_type": "markdown",
   "metadata": {},
   "source": [
    "* 특성 다항식 \n",
    "$$\n",
    "P_A(\\lambda) = \\vert \\lambda \\mathbf I  - \\mathbf A \\vert = \\left \\vert \\lambda \\begin{pmatrix} 1 & 0  \\\\ 0 & 1  \\\\ \\end{pmatrix} - \\begin{pmatrix} -1 & 4 \\\\ 0 & 3 \\\\ \\end{pmatrix}\\right \\vert = \\begin{vmatrix} \\lambda + 1 & -4 \\\\ 0 & \\lambda - 3 \\\\ \\end{vmatrix} = (\\lambda + 1)(\\lambda - 3) = 0\n",
    "$$"
   ]
  },
  {
   "cell_type": "markdown",
   "metadata": {},
   "source": [
    "* 고유값 $\\lambda = -1, 3$ 이 됩니다."
   ]
  },
  {
   "cell_type": "markdown",
   "metadata": {},
   "source": [
    "* 4.2 -1 에 대한 고유벡터를 구하시오"
   ]
  },
  {
   "cell_type": "markdown",
   "metadata": {},
   "source": [
    "$$\n",
    "(\\mathbf 1 \\mathbf I_2  - \\mathbf A) \\mathbf X =  \\left \\{ -1 \\begin{pmatrix} 1 & 0 \\\\ 0 & 1 \\\\ \\end{pmatrix} - \\begin{pmatrix} -1 & 4 \\\\ 0 & 3 \\\\ \\end{pmatrix}\\right \\} \\mathbf X = \\begin{pmatrix} 0 & -4 \\\\ 0 & -4 \\\\ \\end{pmatrix} \\mathbf X = \\begin{pmatrix} 0 & -4 \\\\ 0 & -4 \\\\ \\end{pmatrix} \\begin{pmatrix} x_1 \\\\ x_2 \\\\ \\end{pmatrix} = \\mathbf 0 \\Rightarrow 0x_1 - 4x_2 = 0 \\Rightarrow x_2 = 0\n",
    "$$"
   ]
  },
  {
   "cell_type": "markdown",
   "metadata": {},
   "source": [
    "$\\mathbf X = \\begin{pmatrix} \\alpha \\\\ 0 \\\\ \\end{pmatrix} = \\alpha \\begin{pmatrix} 1 \\\\ 0 \\\\ \\end{pmatrix} $"
   ]
  },
  {
   "cell_type": "markdown",
   "metadata": {},
   "source": [
    "* 4.3 3 에 대한 고유벡터를 구하시오."
   ]
  },
  {
   "cell_type": "markdown",
   "metadata": {},
   "source": [
    "$$\n",
    "(\\mathbf 1 \\mathbf I_2  - \\mathbf A) \\mathbf X =  \\left \\{ 3 \\begin{pmatrix} 1 & 0 \\\\ 0 & 1 \\\\ \\end{pmatrix} - \\begin{pmatrix} -1 & 4 \\\\ 0 & 3 \\\\ \\end{pmatrix}\\right \\} \\mathbf X = \\begin{pmatrix} 4 & -4 \\\\ 0 & 0 \\\\ \\end{pmatrix} \\mathbf X = \\begin{pmatrix} 4 & -4 \\\\ 0 & 0 \\\\ \\end{pmatrix} \\begin{pmatrix} x_1 \\\\ x_2 \\\\ \\end{pmatrix} = \\mathbf 0 \\Rightarrow 4x_1 - 4x_2 = 0 \\Rightarrow x_1 = x_2\n",
    "$$"
   ]
  },
  {
   "cell_type": "markdown",
   "metadata": {},
   "source": [
    "$\\mathbf X = \\begin{pmatrix} \\alpha \\\\ \\alpha \\\\ \\end{pmatrix} = \\alpha \\begin{pmatrix} 1 \\\\ 1 \\\\ \\end{pmatrix} $"
   ]
  },
  {
   "cell_type": "markdown",
   "metadata": {},
   "source": [
    "* 4.3 $\\mathbf A$ 의 대각화 행렬을 구하시오.\n",
    "  * 행렬 $\\mathbf A = \\begin{pmatrix} a & c \\\\ b & d \\\\ \\end{pmatrix} $  라 하면\n",
    "  * $det(\\mathbf A) = ad - bc$ 이고\n",
    "  * $\\mathbf A^{-1} = \\dfrac{1}{det(\\mathbf A)} \\begin{pmatrix} d & -b \\\\ -c & a \\\\ \\end{pmatrix}$  가 된다\n",
    "\n",
    "\n",
    "\n",
    "\n",
    "* $\\mathbf P = \\begin{pmatrix} 1 & 1 \\\\ 0 & 1 \\\\ \\end{pmatrix} $ 라 놓으면 $det(\\mathbf P) = 1$ 이므로\n",
    "\n",
    "\n",
    "* $\\mathbf P^{-1} = \\begin{pmatrix} 1 & -1 \\\\ 0 & 1 \\\\ \\end{pmatrix} $ 이 된다.\n"
   ]
  },
  {
   "cell_type": "markdown",
   "metadata": {},
   "source": [
    "$\\mathbf P^{-1} \\mathbf A \\mathbf P = \\begin{pmatrix} 1 & -1 \\\\ 0 & 1 \\\\ \\end{pmatrix}\\begin{pmatrix} -1 & 4 \\\\ 0 & 3 \\\\ \\end{pmatrix}\\begin{pmatrix} 1 & 1 \\\\ 0 & 1 \\\\ \\end{pmatrix} = \\begin{pmatrix} -1 & 1 \\\\ 0 & 3 \\\\ \\end{pmatrix}\\begin{pmatrix} 1 & 1 \\\\ 0 & 1 \\\\ \\end{pmatrix} = \\begin{pmatrix} -1 & 0 \\\\ 0 & 3 \\\\ \\end{pmatrix}$"
   ]
  },
  {
   "cell_type": "markdown",
   "metadata": {},
   "source": [
    "#### 예 5. 일차독립에 대한 또다른 예"
   ]
  },
  {
   "cell_type": "markdown",
   "metadata": {},
   "source": [
    "* 5.1 먼저 $\\mathbf A = \\begin{pmatrix} 5 & -4 & 4 \\\\ 12 & -11 & 12 \\\\ 4 & -4 & 5 \\\\ \\end{pmatrix} $ 의 고유값과 고유벡터를 구하세요."
   ]
  },
  {
   "cell_type": "markdown",
   "metadata": {},
   "source": [
    "* 특성 다항식 \n",
    "$$\n",
    "P_A(\\lambda) = \\vert \\lambda \\mathbf I_3  - \\mathbf A \\vert = \\left \\vert \\lambda \\begin{pmatrix} 1 & 0 & 0 \\\\ 0 & 1 & 0 \\\\ 0 & 0 & 1 \\\\ \\end{pmatrix} - \\begin{pmatrix} 5 & -4 & 4 \\\\ 12 & -11 & 12 \\\\ 4 & -4 & 5 \\\\ \\end{pmatrix}\\right \\vert = \\begin{vmatrix} \\lambda - 5 & 4 & -4 \\\\ -12 & \\lambda + 11 & -12 \\\\ -4 & 4 & \\lambda - 5 \\\\ \\end{vmatrix} = (\\lambda - 1)^2(\\lambda + 3) = 0\n",
    "$$"
   ]
  },
  {
   "cell_type": "markdown",
   "metadata": {},
   "source": [
    "* 고유값 $\\lambda$ = 1,1, -3 이 됩니다."
   ]
  },
  {
   "cell_type": "markdown",
   "metadata": {},
   "source": [
    "* -3 에 대한 고유벡터"
   ]
  },
  {
   "cell_type": "markdown",
   "metadata": {},
   "source": [
    "$$\n",
    "(\\mathbf -3 \\mathbf I_3  - \\mathbf A) \\mathbf X =  \\left \\{ -3\\begin{pmatrix} 1 & 0 & 0 \\\\ 0 & 1 & 0 \\\\ 0 & 0 & 1 \\\\ \\end{pmatrix} - \\begin{pmatrix} 5 & -4 & 4 \\\\ 12 & -11 & 12 \\\\ 4 & -4 & 5 \\\\ \\end{pmatrix}\\right \\} \\mathbf X = \\begin{pmatrix} -8 & 4 & -4 \\\\ -12 & 8 & -12 \\\\ -4 & 4 & -8 \\\\ \\end{pmatrix} \\mathbf X \\Rightarrow \\begin{pmatrix} -2 & 1 & -1 \\\\ -3 & 2 & -3 \\\\ -1 & 1 & -2 \\\\ \\end{pmatrix} \\begin{pmatrix} x_1 \\\\ x_2 \\\\ x_3 \\\\ \\end{pmatrix} \\Rightarrow \\begin{pmatrix} 1 & -1/2 & 1/2 \\\\ 3/2 & -1 & 3/2 \\\\ 1/2 & -1/2 & 1 \\\\ \\end{pmatrix} \\begin{pmatrix} x_1 \\\\ x_2 \\\\ x_3 \\\\ \\end{pmatrix} = \\mathbf 0\n",
    "$$"
   ]
  },
  {
   "cell_type": "markdown",
   "metadata": {},
   "source": [
    "$x_1 = \\dfrac{1}{2}x_2 - \\dfrac{1}{2}x_3, x_3 = \\dfrac{1}{2}x_2 - \\dfrac{1}{2}x_1 \\Rightarrow x_1 = x_3$\n",
    "\n",
    "$x_2 = \\dfrac{3}{2}x_1 + \\dfrac{3}{2}x_3 = 3x_3$"
   ]
  },
  {
   "cell_type": "markdown",
   "metadata": {},
   "source": [
    "$\\mathbf X = \\begin{pmatrix} \\alpha \\\\ 3\\alpha \\\\ \\alpha \\\\ \\end{pmatrix} = \\alpha \\begin{pmatrix} 1 \\\\ 3 \\\\ 1 \\\\ \\end{pmatrix} $\n",
    "\n",
    "\n",
    "이 됩니다. $X$ 는 null 벡터가 아니므로 $\\alpha \\neq 0$ 이 되어야 함."
   ]
  },
  {
   "cell_type": "markdown",
   "metadata": {},
   "source": [
    "* $\\lambda = 1$ 에 대한 고유벡터를 구하면"
   ]
  },
  {
   "cell_type": "markdown",
   "metadata": {},
   "source": [
    "$$\n",
    "(\\mathbf I_3  - \\mathbf A) \\mathbf X =  \\left \\{ \\begin{pmatrix} 1 & 0 & 0 \\\\ 0 & 1 & 0 \\\\ 0 & 0 & 1 \\\\ \\end{pmatrix} - \\begin{pmatrix} 5 & -4 & 4 \\\\ 12 & -11 & 12 \\\\ 4 & -4 & 5 \\\\ \\end{pmatrix}\\right \\} \\mathbf X = \\begin{pmatrix} -4 & 4 & -4 \\\\ -12 & 12 & -12 \\\\ -4 & 4 & -4 \\\\ \\end{pmatrix} \\mathbf X \\Rightarrow \\begin{pmatrix} 1 & -1 & 1 \\\\ 3 & -3 & 3 \\\\ 1 & -1 & 1 \\\\ \\end{pmatrix} \\begin{pmatrix} x_1 \\\\ x_2 \\\\ x_3 \\\\ \\end{pmatrix}  = \\mathbf 0\n",
    "$$"
   ]
  },
  {
   "cell_type": "markdown",
   "metadata": {},
   "source": [
    "$x_1 - x_2 + x_3 = 0$\n",
    "\n",
    "Let $x_1 = \\alpha\\; and\\; x_2 = \\beta$\n",
    "\n",
    "$x_3 = -x_1 + x_2$"
   ]
  },
  {
   "cell_type": "markdown",
   "metadata": {},
   "source": [
    "$\\mathbf X = \\begin{pmatrix} \\alpha \\\\ \\beta \\\\ -\\alpha + \\beta \\\\ \\end{pmatrix} = \\begin{pmatrix} \\alpha \\\\ 0 \\\\ -\\alpha \\\\ \\end{pmatrix} + \\begin{pmatrix} 0 \\\\ \\beta \\\\ \\beta \\\\ \\end{pmatrix} = \\alpha \\begin{pmatrix} 1 \\\\ 0 \\\\ -1 \\\\ \\end{pmatrix} + \\beta \\begin{pmatrix} 0 \\\\ 1 \\\\ 1 \\\\ \\end{pmatrix}$\n"
   ]
  },
  {
   "cell_type": "markdown",
   "metadata": {},
   "source": [
    "고유벡터는 \n",
    "$$\n",
    "\\mathbf V_1 = \\begin{pmatrix} 1 \\\\ 3 \\\\ 1 \\\\ \\end{pmatrix} \\; \\mathbf V_2 = \\begin{pmatrix} 1 \\\\ 0 \\\\ -1 \\\\ \\end{pmatrix} \\; \\mathbf V_3 = \\begin{pmatrix} 0 \\\\ 1 \\\\ 1 \\\\ \\end{pmatrix}\n",
    "$$"
   ]
  },
  {
   "cell_type": "markdown",
   "metadata": {},
   "source": [
    "* $\\mathbf A$ 의 대각화 행렬을 구하기 "
   ]
  },
  {
   "cell_type": "markdown",
   "metadata": {},
   "source": [
    "* $3 \\times 3$ 의 역행렬은 다음과 같습니다.\n"
   ]
  },
  {
   "cell_type": "markdown",
   "metadata": {},
   "source": [
    "* $\\mathbf A^{-1} = \\begin{vmatrix} a & b & c \\\\ d & e & f \\\\ g & h & i \\\\ \\end{vmatrix}^{-1} = \\dfrac{1}{|\\mathbf A|} \\begin{vmatrix} ei-fh & ch-bi & bf-ce \\\\ fg-di & ai-cg & cd-af \\\\ dh-eg & bg-ah & ae-bd \\\\ \\end{vmatrix}$\n",
    "\n",
    "\n",
    "* $\\det(\\mathbf A) = a(ei-fh) - b(di - fg) + c(dh -eg) $"
   ]
  },
  {
   "cell_type": "markdown",
   "metadata": {},
   "source": [
    "* $\\mathbf P = \\begin{pmatrix} 1 & 1 & 0 \\\\ 3 & 0 & 1 \\\\ 1 & -1 & 1 \\\\ \\end{pmatrix} $ \n",
    "\n",
    "\n",
    "* $\\mathbf P^{-1} = \\begin{pmatrix} -1 & 1 & -1 \\\\ 2 & -1 & 1 \\\\ 3 & -2 & 3 \\\\ \\end{pmatrix} $ "
   ]
  },
  {
   "cell_type": "markdown",
   "metadata": {},
   "source": [
    "$\\mathbf P^{-1} \\mathbf A \\mathbf P = \\begin{pmatrix} -1 & 1 & -1 \\\\ 2 & -1 & 1 \\\\ 3 & -2 & 3 \\\\ \\end{pmatrix} \\begin{pmatrix} 5 & -4 & 4 \\\\ 12 & -11 & 12 \\\\ 4 & -4 & 5 \\\\ \\end{pmatrix}\\begin{pmatrix} 1 & 1 & 0 \\\\ 3 & 0 & 1 \\\\ 1 & -1 & 1 \\\\ \\end{pmatrix} = \\begin{pmatrix} 3 & -3 & 3 \\\\ 2 & -1 & 1 \\\\ 3 & -2 & 3 \\\\ \\end{pmatrix}\\begin{pmatrix} 1 & 1 & 0 \\\\ 3 & 0 & 1 \\\\ 1 & -1 & 1 \\\\ \\end{pmatrix} = \\begin{pmatrix} -3 & 0 & 0 \\\\ 0 & 1 & 0 \\\\ 0 & 0 & 1 \\\\ \\end{pmatrix}$"
   ]
  },
  {
   "cell_type": "code",
   "execution_count": null,
   "metadata": {},
   "outputs": [],
   "source": []
  }
 ],
 "metadata": {
  "kernelspec": {
   "display_name": "R",
   "language": "R",
   "name": "ir"
  },
  "language_info": {
   "codemirror_mode": "r",
   "file_extension": ".r",
   "mimetype": "text/x-r-source",
   "name": "R",
   "pygments_lexer": "r",
   "version": "3.4.3"
  }
 },
 "nbformat": 4,
 "nbformat_minor": 2
}
