{
 "cells": [
  {
   "cell_type": "markdown",
   "metadata": {},
   "source": [
    "# <span style=\"color:blue\"> 이토록 쉬운 통계 & R </span>"
   ]
  },
  {
   "cell_type": "markdown",
   "metadata": {},
   "source": [
    "<img src=\"../image/cover.png\" width=\"200\" height=\"400\" align=\"left\">  임경덕 지음"
   ]
  },
  {
   "cell_type": "markdown",
   "metadata": {},
   "source": [
    "## PART 4 데이터 분석 도구, R"
   ]
  },
  {
   "cell_type": "markdown",
   "metadata": {},
   "source": [
    "## 95% R로 분석 다시보기-2-treat-4-선형대수기초 대응분석관련-1 (41일차)"
   ]
  },
  {
   "cell_type": "markdown",
   "metadata": {},
   "source": [
    "   * 데이타프로젝트 (http://dataproject.xyz) 또는 (http://cafe.naver.com/dataartproject) 에 미리 저장된 스크립트를 다운 받을 수 있습니다.\n",
    "   * 스크립트를 활용하면 직접 명령어를 입력하지 않고 저장된 명령어들을 실행할 수 있습니다."
   ]
  },
  {
   "cell_type": "markdown",
   "metadata": {},
   "source": [
    "### 데이터 파일은 dataartproject.xyz 에 있습니다."
   ]
  },
  {
   "cell_type": "markdown",
   "metadata": {},
   "source": [
    "# 두개의 범주형 변수의 관계 찾기 -- treat - 대응분석 정리"
   ]
  },
  {
   "cell_type": "markdown",
   "metadata": {},
   "source": [
    "## 진료과목 중 내과만 자세히 살피기  -- 대응분석"
   ]
  },
  {
   "cell_type": "markdown",
   "metadata": {},
   "source": [
    "공공 테이터 포털 (data.go.kr) 에서 각 정부부처에서 공개한 데이터들을 볼 수 있습니다. 그 중에서 건강보험공간에서 공개한 100만 건의 진료내역 정보를 살펴 봅시다. 원본 데이터는 2015년 약 100만건의 진료내역을 담고 있으나. 우리는 서울의 외래 진료내역인 약 200만건 데이터를 살펴 볼 것입니다."
   ]
  },
  {
   "cell_type": "markdown",
   "metadata": {},
   "source": [
    "## 대응분석 관련 정리"
   ]
  },
  {
   "cell_type": "markdown",
   "metadata": {},
   "source": [
    "대응분석을 설명하기 위해서는 몇가지 기본적인 내용의 정리가 필요합니다. 따라서 관련 내용을 먼저 정리 하고 진료 과목에 대한 대응 분석을 설명할 예정입니다.\n",
    "여기서 대응분석이라는 것은 일반적으로 두개의 범주형 변수의 관계에 대한 독립성 여부는 카이제곱 분석에 의하여 P 검정을 살펴보게 됩니다.\n",
    "\n",
    "그러나 다수준인 경우에는 분석시에 복잡한 양상을 띄게 됩니다. 따라서 이 경우에는 수준별 대응 분석을 하게 됩니다. 대응분석은 범주형 변수의 각 수준을 계량화하여 2차원 그래프 상에서 표현하여 두 범주형 변수가 변화는 관계를 살펴보는 것입니다.\n",
    "\n",
    "이런 내용을 이해 하기 위해서는 선형 대수와 관련 해서 몇가지 기초적인 지식이 필요합니다."
   ]
  },
  {
   "cell_type": "markdown",
   "metadata": {},
   "source": [
    "### 고유값 과 고유벡터 (Eigen Value & EigenVector)\n",
    "https://en.wikipedia.org/wiki/Eigendecomposition_of_a_matrix"
   ]
  },
  {
   "cell_type": "markdown",
   "metadata": {},
   "source": [
    "#### 정의"
   ]
  },
  {
   "cell_type": "markdown",
   "metadata": {},
   "source": [
    "* $\\mathbf A$ 를 $n \\times n$ 실수 혹은 복수수 행렬이고, $\\mathbf E$ 를 $n \\times 1$ 인 행렬 또는 벡터라고 하고 다음의 조건을 만족 한다고 하자.\n",
    "\n",
    "$$ \\mathbf A \\mathbf E = \\lambda \\mathbf E$$"
   ]
  },
  {
   "cell_type": "markdown",
   "metadata": {},
   "source": [
    "* 0 이 아닌 어떤 벡터 $\\mathbf E$ 에 대해서 실수 혹은 복소수 $\\lambda$ 를 $\\mathbf A$ 의 **고유값(eigenvalue)** 혹은 **특성값(characteristic value)** 라고 합니다.\n",
    "* $n \\times 1$ 행렬 또는 벡터 $\\mathbf E$ 를 고유값 $\\lambda$ 에 관한 **고유벡터(eigenvector)** 혹은 **특성벡터(characteristic vector)** 또는 **종행렬(column matrix)** 라고 합니다.\n",
    "* $\\mathbf A \\mathbf E$ 의 방향은 $\\mathbf E$ 의 방향과 평행합니다.\n",
    "* $\\alpha \\neq 0$ 이고 $\\mathbf A \\mathbf E = \\lambda \\mathbf E$ 이면 $\\mathbf A(\\alpha \\mathbf E) = \\alpha(\\lambda \\mathbf E) = \\lambda (\\alpha \\mathbf E)$ 즉 고유벡터의 0 이 아닌 스칼라 곱도 고유 벡터 입니다."
   ]
  },
  {
   "cell_type": "markdown",
   "metadata": {},
   "source": [
    "#### 고유벡터와 고유값 예"
   ]
  },
  {
   "cell_type": "markdown",
   "metadata": {},
   "source": [
    "1. 예 1.\n",
    "\n",
    "$$\n",
    "\\mathbf A = \\begin{pmatrix} 1 & 0 \\\\ 0 & 0 \\\\ \\end{pmatrix}  \\qquad \\mathbf A \\mathbf E =  \\begin{pmatrix} 1 & 0 \\\\ 0 & 0 \\\\ \\end{pmatrix}  \\begin{pmatrix} 0 \\\\ 4 \\\\ \\end{pmatrix} = \\begin{pmatrix} 0 \\\\ 0 \\\\ \\end{pmatrix} = \\lambda \\mathbf E = 0 \\begin{pmatrix} 0 \\\\ 4 \\\\ \\end{pmatrix}\n",
    "$$"
   ]
  },
  {
   "cell_type": "markdown",
   "metadata": {},
   "source": [
    "* 정의에 의하여 고유벡터는 $\\begin{pmatrix} 0 \\\\ 4 \\\\ \\end{pmatrix}$ 이고 고유값은 0 이 된다."
   ]
  },
  {
   "cell_type": "markdown",
   "metadata": {},
   "source": [
    "* $\\alpha \\neq 0$ 인 $\\alpha$ 에 대해서 $\\begin{pmatrix} 0 \\\\ 4 \\alpha \\\\ \\end{pmatrix}$ 도 고유값 0 인 고유벡터가 된다."
   ]
  },
  {
   "cell_type": "markdown",
   "metadata": {},
   "source": [
    "2. 예 2.\n",
    "\n",
    "$$\n",
    "\\mathbf A = \\begin{pmatrix} 1 & -1 & 0 \\\\ 0 & 1 & 1 \\\\ 0 & 0 & -1 \\\\ \\end{pmatrix}  \\qquad \\mathbf A \\mathbf E =  \\begin{pmatrix} 1 & -1 & 0 \\\\ 0 & 1 & 1 \\\\ 0 & 0 & -1 \\\\ \\end{pmatrix}  \\begin{pmatrix} 1 \\\\ 2 \\\\ -4 \\\\ \\end{pmatrix} = \\begin{pmatrix} -1 \\\\ -2 \\\\ 4 \\\\ \\end{pmatrix} = \\lambda \\mathbf E = -1 \\begin{pmatrix} 1 \\\\ 2 \\\\ -4 \\\\ \\end{pmatrix}\n",
    "$$"
   ]
  },
  {
   "cell_type": "markdown",
   "metadata": {},
   "source": [
    "* 정의에 의하여 고유벡터는 $\\begin{pmatrix} 1 \\\\ 2 \\\\ -4 \\\\ \\end{pmatrix}$ 이고 고유값은 -1 이 된다."
   ]
  },
  {
   "cell_type": "markdown",
   "metadata": {},
   "source": [
    "* 마찬가지로 \n",
    "\n",
    "$$\n",
    "\\mathbf A = \\begin{pmatrix} 1 & -1 & 0 \\\\ 0 & 1 & 1 \\\\ 0 & 0 & -1 \\\\ \\end{pmatrix}  \\qquad \\mathbf A \\mathbf E =  \\begin{pmatrix} 1 & -1 & 0 \\\\ 0 & 1 & 1 \\\\ 0 & 0 & -1 \\\\ \\end{pmatrix}  \\begin{pmatrix} 6 \\\\ 0 \\\\ 0 \\\\ \\end{pmatrix} = \\begin{pmatrix} 6 \\\\ 0 \\\\ 0 \\\\ \\end{pmatrix} = \\lambda \\mathbf E = 1 \\begin{pmatrix} 6 \\\\ 0 \\\\ 0 \\\\ \\end{pmatrix}\n",
    "$$"
   ]
  },
  {
   "cell_type": "markdown",
   "metadata": {},
   "source": [
    "* 정의에 의하여 고유벡터는 $\\begin{pmatrix} 6 \\\\ 0 \\\\ 0 \\\\ \\end{pmatrix}$ 이고 고유값은 1 이 된다."
   ]
  },
  {
   "cell_type": "markdown",
   "metadata": {},
   "source": [
    "#### 고유값과 고유벡터를 구하는 방법"
   ]
  },
  {
   "cell_type": "markdown",
   "metadata": {},
   "source": [
    "* $\\lambda$ 가 고유벡터 $\\mathbf E$ 에 관한 고유값이면 $\\mathbf A \\mathbf E = \\lambda \\mathbf E$ 이고 $\\lambda \\mathbf E - \\mathbf A \\mathbf E = \\mathbf 0$ 이다."
   ]
  },
  {
   "cell_type": "markdown",
   "metadata": {},
   "source": [
    "* 고유벡터로 묶으면 $(\\lambda \\mathbf I  - \\mathbf A) \\mathbf E = \\mathbf 0$ 이고, 방정식 형태로 하면 $(\\lambda \\mathbf I  - \\mathbf A) \\mathbf X = \\mathbf 0$ 가 된다.\n",
    "* 이 방정식의 자명하지 않은 해를 가질 필요충분 조건은   $\\vert \\lambda \\mathbf I  - \\mathbf A \\vert = \\mathbf 0$\n",
    "* 그러므로 $\\vert \\lambda \\mathbf I  - \\mathbf A \\vert = \\mathbf 0$ 일 때 $\\lambda$ 는 $\\mathbf A$ 의 고유값이 된다."
   ]
  },
  {
   "cell_type": "markdown",
   "metadata": {},
   "source": [
    "$$\n",
    "\\vert \\lambda \\mathbf I  - \\mathbf A \\vert = \\mathbf 0 \\Rightarrow \\begin{vmatrix} \\lambda - a_{11} & -a_{12} & \\cdots & -a_{1n} \\\\ -a_{21} & \\lambda - a_{22} & \\cdots & -a_{2n} \\\\ \\vdots & \\vdots & \\vdots & \\vdots \\\\ -a_{n1} & -a_{n2} & \\cdots & \\lambda - a_{nn} \\\\ \\end{vmatrix} = 0\n",
    "$$"
   ]
  },
  {
   "cell_type": "markdown",
   "metadata": {},
   "source": [
    "* 다항식 $\\vert \\lambda \\mathbf I  - \\mathbf A \\vert$ 는 $\\mathbf A$ 의 특성다항식 (characteristic polunomial) 이라 부르며 $P_A(\\lambda)$ 라 표시합니다.\n",
    "* $\\mathbf A$ 가 $n \\times n$ 행렬이면 $P_A(\\lambda)$ 는 n 차 다항식으로 $\\mathbf A$ 의 고유값은 실수 혹은 복소수 값을 갖는다.\n",
    "* $\\mathbf A$ 는 n 개의 고유값들 $\\lambda_1, \\lambda_2,\\cdots,\\lambda_n$ 을 갖는다. 중복은 가능하다.\n",
    "* 예를들어 $P_A(\\lambda) = (\\lambda - 1)(\\lambda - 3)^2 (\\lambda - i)^4$ 이면\n",
    "* $\\lambda = 1,3,3,i,i,i,i$ 가 된다."
   ]
  },
  {
   "cell_type": "markdown",
   "metadata": {},
   "source": [
    "#### 고유값과 고유벡터 예 3."
   ]
  },
  {
   "cell_type": "markdown",
   "metadata": {},
   "source": [
    "$\\mathbf A = \\begin{pmatrix} 1 & -1 & 0 \\\\ 0 & 1 & 1 \\\\ 0 & 0 & -1 \\\\ \\end{pmatrix} $ 의 고유값과 고유벡터를 구하세요."
   ]
  },
  {
   "cell_type": "markdown",
   "metadata": {},
   "source": [
    "* 특성 다항식 \n",
    "$$\n",
    "P_A(\\lambda) = \\vert \\lambda \\mathbf I  - \\mathbf A \\vert = \\left \\vert \\lambda \\begin{pmatrix} 1 & 0 & 0 \\\\ 0 & 1 & 0 \\\\ 0 & 0 & 1 \\\\ \\end{pmatrix} - \\begin{pmatrix} 1 & -1 & 0 \\\\ 0 & 1 & 1 \\\\ 0 & 0 & -1 \\\\ \\end{pmatrix}\\right \\vert = \\begin{vmatrix} \\lambda - 1 & 1 & 0 \\\\ 0 & \\lambda - 1 & -1 \\\\ 0 & 0 & \\lambda + 1 \\\\ \\end{vmatrix} = (\\lambda - 1)^2(\\lambda + 1) = 0\n",
    "$$"
   ]
  },
  {
   "cell_type": "markdown",
   "metadata": {},
   "source": [
    "* 고유값 $\\lambda$ = 1,1, -1 이 됩니다."
   ]
  },
  {
   "cell_type": "markdown",
   "metadata": {},
   "source": [
    "* $\\lambda = 1$ 에 대한 고유벡터"
   ]
  },
  {
   "cell_type": "markdown",
   "metadata": {},
   "source": [
    "$$\n",
    "(\\mathbf 1 \\mathbf I_3  - \\mathbf A) \\mathbf X =  \\left \\{ \\begin{pmatrix} 1 & 0 & 0 \\\\ 0 & 1 & 0 \\\\ 0 & 0 & 1 \\\\ \\end{pmatrix} - \\begin{pmatrix} 1 & -1 & 0 \\\\ 0 & 1 & 1 \\\\ 0 & 0 & -1 \\\\ \\end{pmatrix}\\right \\} \\mathbf X = \\begin{pmatrix} 0 & 1 & 0 \\\\ 0 & 0 & -1 \\\\ 0 & 0 & -2 \\\\ \\end{pmatrix} \\mathbf X = \\begin{pmatrix} 0 & 1 & 0 \\\\ 0 & 0 & -1 \\\\ 0 & 0 & -2 \\\\ \\end{pmatrix} \\begin{pmatrix} x_1 \\\\ x_2 \\\\ x_3 \\\\ \\end{pmatrix} = \\mathbf 0\n",
    "$$"
   ]
  },
  {
   "cell_type": "markdown",
   "metadata": {},
   "source": [
    "$ x_2 = 0, -x_3 = 0, -2x_3 = 0$ 이고 $x_1$ 은 임의 수이므로 $x_1 = \\alpha$ 로 놓을수 있습니다. 따라서"
   ]
  },
  {
   "cell_type": "markdown",
   "metadata": {},
   "source": [
    "$\\mathbf X = \\begin{pmatrix} \\alpha \\\\ 0 \\\\ 0 \\\\ \\end{pmatrix} = \\alpha \\begin{pmatrix} 1 \\\\ 0 \\\\ 0 \\\\ \\end{pmatrix} $\n",
    "\n",
    "\n",
    "이 됩니다. $X$ 는 null 벡터가 아니므로 $\\alpha \\neq 0$ 이 되어야 함."
   ]
  },
  {
   "cell_type": "markdown",
   "metadata": {},
   "source": [
    "* $\\lambda = -1$ 에 대한 고유벡터"
   ]
  },
  {
   "cell_type": "markdown",
   "metadata": {},
   "source": [
    "$$\n",
    "(\\mathbf -1 \\mathbf I_3  - \\mathbf A) \\mathbf X =  \\left \\{ \\begin{pmatrix} -1 & 0 & 0 \\\\ 0 & -1 & 0 \\\\ 0 & 0 & -1 \\\\ \\end{pmatrix} - \\begin{pmatrix} 1 & -1 & 0 \\\\ 0 & 1 & 1 \\\\ 0 & 0 & -1 \\\\ \\end{pmatrix}\\right \\} \\mathbf X = \\begin{pmatrix} -2 & 1 & 0 \\\\ 0 & -2 & -1 \\\\ 0 & 0 & 0 \\\\ \\end{pmatrix} \\mathbf X \\Rightarrow \\begin{pmatrix} 1 & -1/2 & 0 \\\\ 0 & 1 & 1/2 \\\\ 0 & 0 & 0 \\\\ \\end{pmatrix} \\begin{pmatrix} x_1 \\\\ x_2 \\\\ x_3 \\\\ \\end{pmatrix} = \\mathbf 0\n",
    "$$"
   ]
  },
  {
   "cell_type": "markdown",
   "metadata": {},
   "source": [
    "$x_1 = \\dfrac{1}{2}x_2 = -\\dfrac{1}{4}x_3, x_2 = -\\dfrac{1}{2}x_3$ 이므로"
   ]
  },
  {
   "cell_type": "markdown",
   "metadata": {},
   "source": [
    "$\\mathbf X = \\begin{pmatrix} -\\dfrac{1}{4}\\beta \\\\ -\\dfrac{1}{2}\\beta \\\\ \\beta \\\\ \\end{pmatrix} \\Rightarrow \\begin{pmatrix} \\beta \\\\ 2\\beta \\\\ -4\\beta \\\\ \\end{pmatrix} \\Rightarrow \\beta \\begin{pmatrix} 1 \\\\ 2 \\\\ -4 \\\\ \\end{pmatrix} $\n",
    "\n",
    "\n",
    "이 됩니다. $X$ 는 null 벡터가 아니므로 $\\beta \\neq 0$ 이 되어야 함."
   ]
  },
  {
   "cell_type": "markdown",
   "metadata": {},
   "source": [
    "### 행렬의 대각화(Diagonalization)"
   ]
  },
  {
   "cell_type": "markdown",
   "metadata": {},
   "source": [
    "#### 용어의 정리"
   ]
  },
  {
   "cell_type": "markdown",
   "metadata": {},
   "source": [
    "* 주 대각선 요소(main diagonal element) : 행렬 $\\mathbf A$ 의 요소 $a_{ii}$\n",
    "* 비 대각 요소 (off-diagonal element) : $a_{ii}$ 를 제외한 나머지 요소"
   ]
  },
  {
   "cell_type": "markdown",
   "metadata": {},
   "source": [
    "#### 정의\n"
   ]
  },
  {
   "cell_type": "markdown",
   "metadata": {},
   "source": [
    "* 대각행렬 (diagonal matrix) : 모든 비 대각 요소들이 0인 행렬\n",
    "\n",
    "$$\n",
    "\\mathbf D = \\begin{pmatrix} d_1 & 0 & \\cdots & 0 \\\\ 0 & d_2 & \\ddots & \\vdots \\\\ \\vdots & \\ddots & \\ddots & 0 \\\\ 0 & 0 & \\cdots & d_n \\\\ \\end{pmatrix}\n",
    "$$"
   ]
  },
  {
   "cell_type": "markdown",
   "metadata": {},
   "source": [
    "* $|D| = d_1d_2d\\cdots d_n$\n",
    "* 대각행렬이 regular matrix (= inversibel matrix) 이 될 필요충분조건은 주대각선의 모든 요소가 0 이 아닌 경우 입니다.\n",
    "* 만인 $d_j \\neq 0$ 이라면 역행렬은 다음과 같이 됩니다.\n",
    "$$\n",
    "\\mathbf D^{-1} = \\begin{pmatrix} \\dfrac{1}{d_1} & 0 & \\cdots & 0 \\\\ 0 & \\dfrac{1}{d_2} & \\ddots & \\vdots \\\\ \\vdots & \\ddots & \\ddots & 0 \\\\ 0 & 0 & \\cdots & \\dfrac{1}{d_n} \\\\ \\end{pmatrix}\n",
    "$$\n",
    "\n",
    "* $\\mathbf D$ 의 고유값은 주 대각선 요소 $d_1, d_2, \\cdots, d_n$ 이 됩니다.\n",
    "\n",
    "* 이와 관련된 고유벡터는 예를 들면 $d_j$ 와 관련된 고유벡터는 j 열은 1 나머지는 0 인 벡터입니다."
   ]
  },
  {
   "cell_type": "markdown",
   "metadata": {},
   "source": [
    "#### 대각화 가능 행렬(Diagonalizable matrix)"
   ]
  },
  {
   "cell_type": "markdown",
   "metadata": {},
   "source": [
    "* $\\mathbf P^{-1}\\mathbf A \\mathbf P$ 가 대각행렬 일 때 $n \\times n$ 정칙행렬(regular matrix) 인 P 가 있다면 행렬 $\\mathbf A$ 는 대각화가 가능합니다.\n",
    "* 그런 $\\mathbf P$ 가 있다면 $\\mathbf P$ 는 $\\mathbf A$ 를 대각화 한다고 한다.\n",
    "* 행렬 $\\mathbf A$ 가 n 개의 선형 독립인 고유벡터를 가지면 $\\mathbf A$ 는 대각화가 가능합니다.\n",
    "* $\\mathbf P$ 가 고유벡터를 이용하여 열로 행렬을 구성하여 행렬을 구성하면 $\\mathbf P^{-1} \\mathbf A \\mathbf P$ 는 주 대각선상에 그에 대응하는 고유값을 갖는 대각행렬이 됩니다.\n",
    "* 즉 $\\mathbf A$ 가 고유값 $\\lambda_1, \\lambda_2,\\cdots, \\lambda_n$ 을 갖고, 그에 대응하는 고유벡터 $\\mathbf V_1, \\mathbf V_2, \\cdots, \\mathbf V_n$ 를 가지며, 이 고유벡터들이 1차 독립이라면, $j$ 열이 $\\mathbf V_j$ 인 행렬 $\\mathbf P$ 를 만들 수 있고, $\\mathbf P^{-1} \\mathbf A \\mathbf P$ 가 주 대각선상에 $\\mathbf A$ 의 고유값 $\\lambda_1, \\lambda_2,\\cdots, \\lambda_n$ 을 갖는다.\n",
    "* $\\mathbf V_j = \\{\\mathrm v_{j1},\\mathrm v_{j2},\\cdots, \\mathrm v_{jn} \\} $ 라고 놓으면"
   ]
  },
  {
   "cell_type": "markdown",
   "metadata": {},
   "source": [
    "즉 $\\mathbf P = \\begin{pmatrix} \\mathrm v_{11} & \\mathrm v_{21} & \\cdots & \\mathrm v_{n1} \\\\ \\mathrm v_{12} & \\mathrm v_{22} & \\ddots & \\vdots \\\\ \\vdots & \\ddots & \\ddots & \\mathrm v_{nj} \\\\ \\mathrm v_{1n} & \\mathrm v_{2n} & \\cdots & \\mathrm v_{nn} \\\\ \\end{pmatrix} $ 라고 놓을 수 있으며\n",
    "\n",
    "\n",
    "$\\mathbf P^{-1} \\mathbf A \\mathbf P = \\begin{pmatrix} \\lambda_1 & 0 & \\cdots & 0 \\\\ 0 & \\lambda_2 & \\ddots & \\vdots \\\\ 0 & \\ddots & \\lambda_j & 0 \\\\ 0 & 0 & \\cdots & \\lambda_n \\\\ \\end{pmatrix} $ 가 됩니다."
   ]
  },
  {
   "cell_type": "markdown",
   "metadata": {},
   "source": [
    "#### 예 4."
   ]
  },
  {
   "cell_type": "markdown",
   "metadata": {},
   "source": [
    "* 4.1 먼저 $\\mathbf A = \\begin{pmatrix} -1 & 4 \\\\ 0 & 3 \\\\ \\end{pmatrix} $ 의 고유값과 고유벡터를 구하세요."
   ]
  },
  {
   "cell_type": "markdown",
   "metadata": {},
   "source": [
    "* 특성 다항식 \n",
    "$$\n",
    "P_A(\\lambda) = \\vert \\lambda \\mathbf I  - \\mathbf A \\vert = \\left \\vert \\lambda \\begin{pmatrix} 1 & 0  \\\\ 0 & 1  \\\\ \\end{pmatrix} - \\begin{pmatrix} -1 & 4 \\\\ 0 & 3 \\\\ \\end{pmatrix}\\right \\vert = \\begin{vmatrix} \\lambda + 1 & -4 \\\\ 0 & \\lambda - 3 \\\\ \\end{vmatrix} = (\\lambda + 1)(\\lambda - 3) = 0\n",
    "$$"
   ]
  },
  {
   "cell_type": "markdown",
   "metadata": {},
   "source": [
    "* 고유값 $\\lambda = -1, 3$ 이 됩니다."
   ]
  },
  {
   "cell_type": "markdown",
   "metadata": {},
   "source": [
    "* 4.2 -1 에 대한 고유벡터를 구하시오"
   ]
  },
  {
   "cell_type": "markdown",
   "metadata": {},
   "source": [
    "$$\n",
    "(\\mathbf 1 \\mathbf I_2  - \\mathbf A) \\mathbf X =  \\left \\{ -1 \\begin{pmatrix} 1 & 0 \\\\ 0 & 1 \\\\ \\end{pmatrix} - \\begin{pmatrix} -1 & 4 \\\\ 0 & 3 \\\\ \\end{pmatrix}\\right \\} \\mathbf X = \\begin{pmatrix} 0 & -4 \\\\ 0 & -4 \\\\ \\end{pmatrix} \\mathbf X = \\begin{pmatrix} 0 & -4 \\\\ 0 & -4 \\\\ \\end{pmatrix} \\begin{pmatrix} x_1 \\\\ x_2 \\\\ \\end{pmatrix} = \\mathbf 0 \\Rightarrow 0x_1 - 4x_2 = 0 \\Rightarrow x_2 = 0\n",
    "$$"
   ]
  },
  {
   "cell_type": "markdown",
   "metadata": {},
   "source": [
    "$\\mathbf X = \\begin{pmatrix} \\alpha \\\\ 0 \\\\ \\end{pmatrix} = \\alpha \\begin{pmatrix} 1 \\\\ 0 \\\\ \\end{pmatrix} $"
   ]
  },
  {
   "cell_type": "markdown",
   "metadata": {},
   "source": [
    "* 4.3 3 에 대한 고유벡터를 구하시오."
   ]
  },
  {
   "cell_type": "markdown",
   "metadata": {},
   "source": [
    "$$\n",
    "(\\mathbf 1 \\mathbf I_2  - \\mathbf A) \\mathbf X =  \\left \\{ 3 \\begin{pmatrix} 1 & 0 \\\\ 0 & 1 \\\\ \\end{pmatrix} - \\begin{pmatrix} -1 & 4 \\\\ 0 & 3 \\\\ \\end{pmatrix}\\right \\} \\mathbf X = \\begin{pmatrix} 4 & -4 \\\\ 0 & 0 \\\\ \\end{pmatrix} \\mathbf X = \\begin{pmatrix} 4 & -4 \\\\ 0 & 0 \\\\ \\end{pmatrix} \\begin{pmatrix} x_1 \\\\ x_2 \\\\ \\end{pmatrix} = \\mathbf 0 \\Rightarrow 4x_1 - 4x_2 = 0 \\Rightarrow x_1 = x_2\n",
    "$$"
   ]
  },
  {
   "cell_type": "markdown",
   "metadata": {},
   "source": [
    "$\\mathbf X = \\begin{pmatrix} \\alpha \\\\ \\alpha \\\\ \\end{pmatrix} = \\alpha \\begin{pmatrix} 1 \\\\ 1 \\\\ \\end{pmatrix} $"
   ]
  },
  {
   "cell_type": "markdown",
   "metadata": {},
   "source": [
    "* 4.3 $\\mathbf A$ 의 대각화 행렬을 구하시오.\n",
    "  * 행렬 $\\mathbf A = \\begin{pmatrix} a & c \\\\ b & d \\\\ \\end{pmatrix} $  라 하면\n",
    "  * $det(\\mathbf A) = ad - bc$ 이고\n",
    "  * $\\mathbf A^{-1} = \\dfrac{1}{det(\\mathbf A)} \\begin{pmatrix} d & -b \\\\ -c & a \\\\ \\end{pmatrix}$  가 된다\n",
    "\n",
    "\n",
    "\n",
    "\n",
    "* $\\mathbf P = \\begin{pmatrix} 1 & 1 \\\\ 0 & 1 \\\\ \\end{pmatrix} $ 라 놓으면 $det(\\mathbf P) = 1$ 이므로\n",
    "\n",
    "\n",
    "* $\\mathbf P^{-1} = \\begin{pmatrix} 1 & -1 \\\\ 0 & 1 \\\\ \\end{pmatrix} $ 이 된다.\n"
   ]
  },
  {
   "cell_type": "markdown",
   "metadata": {},
   "source": [
    "$\\mathbf P^{-1} \\mathbf A \\mathbf P = \\begin{pmatrix} 1 & -1 \\\\ 0 & 1 \\\\ \\end{pmatrix}\\begin{pmatrix} -1 & 4 \\\\ 0 & 3 \\\\ \\end{pmatrix}\\begin{pmatrix} 1 & 1 \\\\ 0 & 1 \\\\ \\end{pmatrix} = \\begin{pmatrix} -1 & 1 \\\\ 0 & 3 \\\\ \\end{pmatrix}\\begin{pmatrix} 1 & 1 \\\\ 0 & 1 \\\\ \\end{pmatrix} = \\begin{pmatrix} -1 & 0 \\\\ 0 & 3 \\\\ \\end{pmatrix}$"
   ]
  },
  {
   "cell_type": "markdown",
   "metadata": {},
   "source": [
    "#### 예 5. 일차독립에 대한 또다른 예"
   ]
  },
  {
   "cell_type": "markdown",
   "metadata": {},
   "source": [
    "* 5.1 먼저 $\\mathbf A = \\begin{pmatrix} 5 & -4 & 4 \\\\ 12 & -11 & 12 \\\\ 4 & -4 & 5 \\\\ \\end{pmatrix} $ 의 고유값과 고유벡터를 구하세요."
   ]
  },
  {
   "cell_type": "markdown",
   "metadata": {},
   "source": [
    "* 특성 다항식 \n",
    "$$\n",
    "P_A(\\lambda) = \\vert \\lambda \\mathbf I_3  - \\mathbf A \\vert = \\left \\vert \\lambda \\begin{pmatrix} 1 & 0 & 0 \\\\ 0 & 1 & 0 \\\\ 0 & 0 & 1 \\\\ \\end{pmatrix} - \\begin{pmatrix} 5 & -4 & 4 \\\\ 12 & -11 & 12 \\\\ 4 & -4 & 5 \\\\ \\end{pmatrix}\\right \\vert = \\begin{vmatrix} \\lambda - 5 & 4 & -4 \\\\ -12 & \\lambda + 11 & -12 \\\\ -4 & 4 & \\lambda - 5 \\\\ \\end{vmatrix} = (\\lambda - 1)^2(\\lambda + 3) = 0\n",
    "$$"
   ]
  },
  {
   "cell_type": "markdown",
   "metadata": {},
   "source": [
    "* 고유값 $\\lambda$ = 1,1, -3 이 됩니다."
   ]
  },
  {
   "cell_type": "markdown",
   "metadata": {},
   "source": [
    "* -3 에 대한 고유벡터"
   ]
  },
  {
   "cell_type": "markdown",
   "metadata": {},
   "source": [
    "$$\n",
    "(\\mathbf -3 \\mathbf I_3  - \\mathbf A) \\mathbf X =  \\left \\{ -3\\begin{pmatrix} 1 & 0 & 0 \\\\ 0 & 1 & 0 \\\\ 0 & 0 & 1 \\\\ \\end{pmatrix} - \\begin{pmatrix} 5 & -4 & 4 \\\\ 12 & -11 & 12 \\\\ 4 & -4 & 5 \\\\ \\end{pmatrix}\\right \\} \\mathbf X = \\begin{pmatrix} -8 & 4 & -4 \\\\ -12 & 8 & -12 \\\\ -4 & 4 & -8 \\\\ \\end{pmatrix} \\mathbf X \\Rightarrow \\begin{pmatrix} -2 & 1 & -1 \\\\ -3 & 2 & -3 \\\\ -1 & 1 & -2 \\\\ \\end{pmatrix} \\begin{pmatrix} x_1 \\\\ x_2 \\\\ x_3 \\\\ \\end{pmatrix} \\Rightarrow \\begin{pmatrix} 1 & -1/2 & 1/2 \\\\ 3/2 & -1 & 3/2 \\\\ 1/2 & -1/2 & 1 \\\\ \\end{pmatrix} \\begin{pmatrix} x_1 \\\\ x_2 \\\\ x_3 \\\\ \\end{pmatrix} = \\mathbf 0\n",
    "$$"
   ]
  },
  {
   "cell_type": "markdown",
   "metadata": {},
   "source": [
    "$x_1 = \\dfrac{1}{2}x_2 - \\dfrac{1}{2}x_3, x_3 = \\dfrac{1}{2}x_2 - \\dfrac{1}{2}x_1 \\Rightarrow x_1 = x_3$\n",
    "\n",
    "$x_2 = \\dfrac{3}{2}x_1 + \\dfrac{3}{2}x_3 = 3x_3$"
   ]
  },
  {
   "cell_type": "markdown",
   "metadata": {},
   "source": [
    "$\\mathbf X = \\begin{pmatrix} \\alpha \\\\ 3\\alpha \\\\ \\alpha \\\\ \\end{pmatrix} = \\alpha \\begin{pmatrix} 1 \\\\ 3 \\\\ 1 \\\\ \\end{pmatrix} $\n",
    "\n",
    "\n",
    "이 됩니다. $X$ 는 null 벡터가 아니므로 $\\alpha \\neq 0$ 이 되어야 함."
   ]
  },
  {
   "cell_type": "markdown",
   "metadata": {},
   "source": [
    "* $\\lambda = 1$ 에 대한 고유벡터를 구하면"
   ]
  },
  {
   "cell_type": "markdown",
   "metadata": {},
   "source": [
    "$$\n",
    "(\\mathbf I_3  - \\mathbf A) \\mathbf X =  \\left \\{ \\begin{pmatrix} 1 & 0 & 0 \\\\ 0 & 1 & 0 \\\\ 0 & 0 & 1 \\\\ \\end{pmatrix} - \\begin{pmatrix} 5 & -4 & 4 \\\\ 12 & -11 & 12 \\\\ 4 & -4 & 5 \\\\ \\end{pmatrix}\\right \\} \\mathbf X = \\begin{pmatrix} -4 & 4 & -4 \\\\ -12 & 12 & -12 \\\\ -4 & 4 & -4 \\\\ \\end{pmatrix} \\mathbf X \\Rightarrow \\begin{pmatrix} 1 & -1 & 1 \\\\ 3 & -3 & 3 \\\\ 1 & -1 & 1 \\\\ \\end{pmatrix} \\begin{pmatrix} x_1 \\\\ x_2 \\\\ x_3 \\\\ \\end{pmatrix}  = \\mathbf 0\n",
    "$$"
   ]
  },
  {
   "cell_type": "markdown",
   "metadata": {},
   "source": [
    "$x_1 - x_2 + x_3 = 0$\n",
    "\n",
    "Let $x_1 = \\alpha\\; and\\; x_2 = \\beta$\n",
    "\n",
    "$x_3 = -x_1 + x_2$"
   ]
  },
  {
   "cell_type": "markdown",
   "metadata": {},
   "source": [
    "$\\mathbf X = \\begin{pmatrix} \\alpha \\\\ \\beta \\\\ -\\alpha + \\beta \\\\ \\end{pmatrix} = \\begin{pmatrix} \\alpha \\\\ 0 \\\\ -\\alpha \\\\ \\end{pmatrix} + \\begin{pmatrix} 0 \\\\ \\beta \\\\ \\beta \\\\ \\end{pmatrix} = \\alpha \\begin{pmatrix} 1 \\\\ 0 \\\\ -1 \\\\ \\end{pmatrix} + \\beta \\begin{pmatrix} 0 \\\\ 1 \\\\ 1 \\\\ \\end{pmatrix}$\n"
   ]
  },
  {
   "cell_type": "markdown",
   "metadata": {},
   "source": [
    "고유벡터는 \n",
    "$$\n",
    "\\mathbf V_1 = \\begin{pmatrix} 1 \\\\ 3 \\\\ 1 \\\\ \\end{pmatrix} \\; \\mathbf V_2 = \\begin{pmatrix} 1 \\\\ 0 \\\\ -1 \\\\ \\end{pmatrix} \\; \\mathbf V_3 = \\begin{pmatrix} 0 \\\\ 1 \\\\ 1 \\\\ \\end{pmatrix}\n",
    "$$"
   ]
  },
  {
   "cell_type": "markdown",
   "metadata": {},
   "source": [
    "* $\\mathbf A$ 의 대각화 행렬을 구하기 "
   ]
  },
  {
   "cell_type": "markdown",
   "metadata": {},
   "source": [
    "* $3 \\times 3$ 의 역행렬은 다음과 같습니다.\n"
   ]
  },
  {
   "cell_type": "markdown",
   "metadata": {},
   "source": [
    "* $\\mathbf A^{-1} = \\begin{vmatrix} a & b & c \\\\ d & e & f \\\\ g & h & i \\\\ \\end{vmatrix}^{-1} = \\dfrac{1}{|\\mathbf A|} \\begin{vmatrix} ei-fh & ch-bi & bf-ce \\\\ fg-di & ai-cg & cd-af \\\\ dh-eg & bg-ah & ae-bd \\\\ \\end{vmatrix}$\n",
    "\n",
    "\n",
    "* $\\det(\\mathbf A) = a(ei-fh) - b(di - fg) + c(dh -eg) $"
   ]
  },
  {
   "cell_type": "markdown",
   "metadata": {},
   "source": [
    "* $\\mathbf P = \\begin{pmatrix} 1 & 1 & 0 \\\\ 3 & 0 & 1 \\\\ 1 & -1 & 1 \\\\ \\end{pmatrix} $ \n",
    "\n",
    "\n",
    "* $\\mathbf P^{-1} = \\begin{pmatrix} -1 & 1 & -1 \\\\ 2 & -1 & 1 \\\\ 3 & -2 & 3 \\\\ \\end{pmatrix} $ "
   ]
  },
  {
   "cell_type": "markdown",
   "metadata": {},
   "source": [
    "$\\mathbf P^{-1} \\mathbf A \\mathbf P = \\begin{pmatrix} -1 & 1 & -1 \\\\ 2 & -1 & 1 \\\\ 3 & -2 & 3 \\\\ \\end{pmatrix} \\begin{pmatrix} 5 & -4 & 4 \\\\ 12 & -11 & 12 \\\\ 4 & -4 & 5 \\\\ \\end{pmatrix}\\begin{pmatrix} 1 & 1 & 0 \\\\ 3 & 0 & 1 \\\\ 1 & -1 & 1 \\\\ \\end{pmatrix} = \\begin{pmatrix} 3 & -3 & 3 \\\\ 2 & -1 & 1 \\\\ 3 & -2 & 3 \\\\ \\end{pmatrix}\\begin{pmatrix} 1 & 1 & 0 \\\\ 3 & 0 & 1 \\\\ 1 & -1 & 1 \\\\ \\end{pmatrix} = \\begin{pmatrix} -3 & 0 & 0 \\\\ 0 & 1 & 0 \\\\ 0 & 0 & 1 \\\\ \\end{pmatrix}$"
   ]
  },
  {
   "cell_type": "markdown",
   "metadata": {},
   "source": [
    "#### R Code samples"
   ]
  },
  {
   "cell_type": "code",
   "execution_count": 9,
   "metadata": {},
   "outputs": [
    {
     "name": "stdout",
     "output_type": "stream",
     "text": [
      "     [,1] [,2]\n",
      "[1,]    3    1\n",
      "[2,]    2    4\n"
     ]
    }
   ],
   "source": [
    "#1. 행렬의 생성\n",
    "\n",
    "A = matrix(c(3,1,\n",
    "             2,4), nrow = 2, byrow = TRUE)\n",
    "print(A)"
   ]
  },
  {
   "cell_type": "code",
   "execution_count": 10,
   "metadata": {},
   "outputs": [
    {
     "name": "stdout",
     "output_type": "stream",
     "text": [
      "[1] 10\n"
     ]
    }
   ],
   "source": [
    "#2.  행렬값\n",
    "\n",
    "print(det(A))"
   ]
  },
  {
   "cell_type": "code",
   "execution_count": 11,
   "metadata": {},
   "outputs": [
    {
     "name": "stdout",
     "output_type": "stream",
     "text": [
      "[1] 2 1\n",
      "     [,1] [,2]\n",
      "[1,]    2    4\n",
      "[2,]    3    1\n",
      "[1] -10\n"
     ]
    }
   ],
   "source": [
    "#3.  rows 와 cols 를 바꾸는 경우 \n",
    "\n",
    "print(2:1)\n",
    "print(A[2:1,])\n",
    "print(det(A[2:1,]))"
   ]
  },
  {
   "cell_type": "code",
   "execution_count": 12,
   "metadata": {},
   "outputs": [
    {
     "name": "stdout",
     "output_type": "stream",
     "text": [
      "     [,1] [,2]\n",
      "[1,]    3    2\n",
      "[2,]    1    4\n",
      "[1] 10\n"
     ]
    }
   ],
   "source": [
    "#4.  트랜스포스 및 행렬값\n",
    "\n",
    "print(t(A))\n",
    "print(det(t(A)))"
   ]
  },
  {
   "cell_type": "code",
   "execution_count": 13,
   "metadata": {},
   "outputs": [
    {
     "name": "stdout",
     "output_type": "stream",
     "text": [
      "     [,1] [,2]\n",
      "[1,]    3    0\n",
      "[2,]    0    1\n",
      "     [,1] [,2]\n",
      "[1,]    3    1\n",
      "[2,]    2    4\n",
      "     [,1] [,2]\n",
      "[1,]    9    3\n",
      "[2,]    2    4\n"
     ]
    }
   ],
   "source": [
    "#5. 행렬 곱\n",
    "\n",
    "print(diag(c(3,1)))\n",
    "print(A)\n",
    "print(diag(c(3,1))%*% A)"
   ]
  },
  {
   "cell_type": "code",
   "execution_count": 14,
   "metadata": {},
   "outputs": [
    {
     "name": "stdout",
     "output_type": "stream",
     "text": [
      "[1] 90\n",
      "[1] 90\n"
     ]
    }
   ],
   "source": [
    "# 행렬식 6. det(matrix * k) = k^2 * det(A)\n",
    "\n",
    "print(det(3 * A))\n",
    "print(3^2 * det(A))"
   ]
  },
  {
   "cell_type": "code",
   "execution_count": 15,
   "metadata": {},
   "outputs": [
    {
     "name": "stdout",
     "output_type": "stream",
     "text": [
      "     [,1] [,2]\n",
      "[1,]    4    2\n",
      "[2,]    3    5\n",
      "     [,1] [,2]\n",
      "[1,]    3    1\n",
      "[2,]    2    4\n",
      "[1] 140\n",
      "[1] 140\n"
     ]
    }
   ],
   "source": [
    "# 7. det(A * B) = det(A) * det(B)\n",
    "B = matrix(c(4,2,\n",
    "             3,5), nrow=2, byrow = TRUE)\n",
    "print(B)\n",
    "print(A)\n",
    "print(det(A %*% B))\n",
    "print(det(A) * det(B))"
   ]
  },
  {
   "cell_type": "code",
   "execution_count": 16,
   "metadata": {},
   "outputs": [
    {
     "name": "stdout",
     "output_type": "stream",
     "text": [
      "     [,1] [,2]\n",
      "[1,]    1    5\n",
      "[2,]    2    6\n",
      "[3,]    4    4\n",
      "     [,1] [,2] [,3]\n",
      "[1,]    1    5    1\n",
      "[2,]    2    6    2\n",
      "[3,]    4    4    4\n"
     ]
    }
   ],
   "source": [
    "# 8. rows 나 cols 중에 비례가 있을 경우 det(A) = 0 이 된다\n",
    "\n",
    "C = matrix(c(1, 5,\n",
    "             2, 6,\n",
    "             4, 4), nrow = 3, byrow = TRUE)\n",
    "print(C)\n",
    "# col bind\n",
    "C = cbind(C, C[,1])\n",
    "print(C)\n"
   ]
  },
  {
   "cell_type": "code",
   "execution_count": 17,
   "metadata": {},
   "outputs": [
    {
     "name": "stdout",
     "output_type": "stream",
     "text": [
      "[1] 0\n"
     ]
    }
   ],
   "source": [
    "print(det(C))"
   ]
  },
  {
   "cell_type": "code",
   "execution_count": 18,
   "metadata": {},
   "outputs": [
    {
     "name": "stdout",
     "output_type": "stream",
     "text": [
      "     [,1] [,2]\n",
      "[1,]    3    1\n",
      "[2,]    2    4\n",
      "[1] 10\n",
      "[1] 2 4\n",
      "[1] 6 2\n",
      "     [,1] [,2]\n",
      "[1,]    3    1\n",
      "[2,]   -4    2\n",
      "[1] 10\n"
     ]
    }
   ],
   "source": [
    "# 9. 하나 row 의 배수를 다른 row 에 더할 경우 det (행렬식) 은 변하지 않는다\n",
    "\n",
    "A = matrix(c(3,1,\n",
    "             2,4), nrow = 2, byrow = TRUE)\n",
    "print(A)\n",
    "print(det(A))\n",
    "print(A[2,])\n",
    "print(2 * A[1,])\n",
    "A[2,] = A[2,] - 2 * A[1,]\n",
    "print(A)\n",
    "print(det(A))"
   ]
  },
  {
   "cell_type": "code",
   "execution_count": 19,
   "metadata": {},
   "outputs": [
    {
     "name": "stdout",
     "output_type": "stream",
     "text": [
      "     [,1] [,2]\n",
      "[1,]    3    1\n",
      "[2,]    2    4\n"
     ]
    }
   ],
   "source": [
    "# 10. 기하학적 해석\n",
    "# 2 X 2 행렬에서 행렬식은 각  rows 또는 columns 에서 정의된 평행사변형의 면적이다. \n",
    "\n",
    "\n",
    "A = matrix(c(3,1,\n",
    "             2,4), nrow = 2, byrow = TRUE)\n",
    "print(A)"
   ]
  },
  {
   "cell_type": "code",
   "execution_count": 20,
   "metadata": {},
   "outputs": [
    {
     "name": "stdout",
     "output_type": "stream",
     "text": [
      "[1] 10\n"
     ]
    }
   ],
   "source": [
    "print(det(A))"
   ]
  },
  {
   "cell_type": "markdown",
   "metadata": {},
   "source": [
    "matlib 사용하면 좀 더 편합니다."
   ]
  },
  {
   "cell_type": "code",
   "execution_count": 21,
   "metadata": {},
   "outputs": [],
   "source": [
    "#install.packages('matlib')\n"
   ]
  },
  {
   "cell_type": "code",
   "execution_count": 22,
   "metadata": {},
   "outputs": [],
   "source": [
    "library(matlib)"
   ]
  },
  {
   "cell_type": "code",
   "execution_count": 23,
   "metadata": {},
   "outputs": [
    {
     "name": "stdout",
     "output_type": "stream",
     "text": [
      "     [,1] [,2]\n",
      "[1,]    3    1\n",
      "[2,]    2    4\n",
      "[1] 3 1\n",
      "[1] 2 4\n",
      "[1] 5 5\n",
      "    [,1] [,2]\n",
      "       0    0\n",
      "       3    1\n",
      "sum    5    5\n",
      "       2    4\n"
     ]
    },
    {
     "data": {
      "image/png": "[encoded data removed]",
      "text/plain": [
       "plot without title"
      ]
     },
     "metadata": {},
     "output_type": "display_data"
    }
   ],
   "source": [
    "A = matrix(c(3,1,\n",
    "             2,4), nrow = 2, byrow = TRUE)\n",
    "print(A)\n",
    "\n",
    "# set x, y limits\n",
    "xlim = c(0,6)\n",
    "ylim = c(0,6)\n",
    "\n",
    "# set graphics parameters\n",
    "# set margin\n",
    "par(mar=c(3,3,1,1)+.1, pin = c(5, 5))\n",
    "plot(xlim, ylim, type=\"n\", xlab=\"X1\", ylab=\"X2\", asp = 1)\n",
    "\n",
    "sum = A[1,] + A[2,]\n",
    "print(A[1,])\n",
    "print(A[2,])\n",
    "print(sum)\n",
    "\n",
    "# A의 rows 에 둘러쌓인 평행사변형 그리기\n",
    "# 꼭지점 정의\n",
    "vertex = rbind(c(0,0), A[1,], sum, A[2,])\n",
    "print(vertex)\n",
    "polygon(vertex, col=rgb(1,0,0,.2))\n",
    "\n",
    "vectors(A, labels=(c(\"a1\", \"a2\")), pos.lab=c(4,2))\n",
    "vectors(sum, origin = (A[1,]), col=\"blue\")\n",
    "vectors(sum, origin = (A[2,]), col=\"blue\")\n",
    "\n",
    "# 범례 표시\n",
    "text(0,6, \"det(A) is the area of its row vectors\", pos=4)\n",
    "text(mean(A[,1]), mean(A[,2]), \"det(A)\", cex=1.25)"
   ]
  },
  {
   "cell_type": "markdown",
   "metadata": {},
   "source": [
    "[행렬식에 대한 표현 참조](http://math.stackexchange.com/questions/29128/why-determinant-of-a-2-by-2-matrix-is-the-area-of-a-parallelogram)\n",
    "\n",
    "대각행렬인 경우 예제"
   ]
  },
  {
   "cell_type": "code",
   "execution_count": 24,
   "metadata": {},
   "outputs": [
    {
     "name": "stdout",
     "output_type": "stream",
     "text": [
      "     [,1] [,2]\n",
      "[1,]    2    0\n",
      "[2,]    0    2\n"
     ]
    }
   ],
   "source": [
    "# 대각행렬 \n",
    "\n",
    "D = 2 * diag(2)\n",
    "print(D)"
   ]
  },
  {
   "cell_type": "code",
   "execution_count": 25,
   "metadata": {},
   "outputs": [
    {
     "name": "stdout",
     "output_type": "stream",
     "text": [
      "[1] 4\n"
     ]
    }
   ],
   "source": [
    "print(det(D))"
   ]
  },
  {
   "cell_type": "code",
   "execution_count": 26,
   "metadata": {},
   "outputs": [
    {
     "data": {
      "image/png": "[encoded data removed]",
      "text/plain": [
       "plot without title"
      ]
     },
     "metadata": {},
     "output_type": "display_data"
    }
   ],
   "source": [
    "# 그림을 그리면 다음과 같습니다.\n",
    "\n",
    "par(mar=c(3,3,1,1)+.1, pin = c(5, 5))\n",
    "plot(c(0,2), c(0,2), type=\"n\", xlab=\"X1\", ylab=\"X2\", asp=1)\n",
    "sum <- D[1,] + D[2,]\n",
    "polygon( rbind(c(0,0), D[1,], sum, D[2,]), col=rgb(0,1,0,.2))\n",
    "vectors(D, labels=c(\"d1\", \"d2\"), pos.lab=c(3,4))\n",
    "vectors(sum, origin=D[1,], col=\"gray\")\n",
    "vectors(sum, origin=D[2,], col=\"gray\")\n",
    "text(mean(D[,1]), mean(D[,2]), \"det(D)\", cex=1.25)"
   ]
  },
  {
   "cell_type": "markdown",
   "metadata": {},
   "source": [
    "rows 나 cols 가 비례인 것이 있으면 행렬식이 0이 되는 이유"
   ]
  },
  {
   "cell_type": "code",
   "execution_count": 27,
   "metadata": {},
   "outputs": [
    {
     "name": "stdout",
     "output_type": "stream",
     "text": [
      "     [,1] [,2]\n",
      "[1,]    1    2\n",
      "[2,]    2    4\n"
     ]
    }
   ],
   "source": [
    "B = matrix(c(1,2,2,4), 2,2)\n",
    "print(B)"
   ]
  },
  {
   "cell_type": "code",
   "execution_count": 28,
   "metadata": {},
   "outputs": [
    {
     "name": "stdout",
     "output_type": "stream",
     "text": [
      "[1] 0\n"
     ]
    }
   ],
   "source": [
    "print(det(B))"
   ]
  },
  {
   "cell_type": "markdown",
   "metadata": {},
   "source": [
    "B(1,) 과 B(2,) 벡터는 동일선상 colinear 이라고 합니다.\n"
   ]
  },
  {
   "cell_type": "code",
   "execution_count": 29,
   "metadata": {},
   "outputs": [
    {
     "data": {
      "image/png": "[encoded data removed]",
      "text/plain": [
       "plot without title"
      ]
     },
     "metadata": {},
     "output_type": "display_data"
    }
   ],
   "source": [
    "par(mar=c(3,3,1,1)+.1, pin = c(5, 5))\n",
    "plot(c(0,4), c(0,4), type=\"n\", xlab=\"X1\", ylab=\"X2\", asp=1)\n",
    "vectors(B, labels=c(\"b1\", \"b2\"), pos.lab=c(4,2))"
   ]
  },
  {
   "cell_type": "markdown",
   "metadata": {},
   "source": [
    "#### 고유값, 고유벡터 의 성질 관련 R-code samples"
   ]
  },
  {
   "cell_type": "code",
   "execution_count": 30,
   "metadata": {},
   "outputs": [
    {
     "name": "stdout",
     "output_type": "stream",
     "text": [
      "     [,1] [,2]\n",
      "[1,]   -1    4\n",
      "[2,]    0    3\n"
     ]
    }
   ],
   "source": [
    "# 2 by 2 matrix\n",
    "A = matrix(c(-1,0,4,3), 2, 2)\n",
    "print(A)"
   ]
  },
  {
   "cell_type": "code",
   "execution_count": 31,
   "metadata": {},
   "outputs": [
    {
     "name": "stdout",
     "output_type": "stream",
     "text": [
      "eigen() decomposition\n",
      "$values\n",
      "[1]  3 -1\n",
      "\n",
      "$vectors\n",
      "          [,1] [,2]\n",
      "[1,] 0.7071068    1\n",
      "[2,] 0.7071068    0\n",
      "\n"
     ]
    }
   ],
   "source": [
    "# eigen value 및 eigen vector 구하기\n",
    "\n",
    "ev = eigen(A)\n",
    "print(ev)"
   ]
  },
  {
   "cell_type": "code",
   "execution_count": 32,
   "metadata": {},
   "outputs": [
    {
     "name": "stdout",
     "output_type": "stream",
     "text": [
      "     [,1] [,2] [,3]\n",
      "[1,]    1   -1    0\n",
      "[2,]    0    1    1\n",
      "[3,]    0    0   -1\n"
     ]
    }
   ],
   "source": [
    "A = matrix(c(1,0,0,-1,1,0,0,1,-1), 3, 3)\n",
    "print(A)"
   ]
  },
  {
   "cell_type": "code",
   "execution_count": 33,
   "metadata": {},
   "outputs": [
    {
     "name": "stdout",
     "output_type": "stream",
     "text": [
      "eigen() decomposition\n",
      "$values\n",
      "[1]  1  1 -1\n",
      "\n",
      "$vectors\n",
      "     [,1]         [,2]       [,3]\n",
      "[1,]    1 1.000000e+00 -0.2182179\n",
      "[2,]    0 2.220446e-16 -0.4364358\n",
      "[3,]    0 0.000000e+00  0.8728716\n",
      "\n",
      "     [,1] [,2]       [,3]\n",
      "[1,]    1    1 -0.2182179\n",
      "[2,]    0    0 -0.4364358\n",
      "[3,]    0    0  0.8728716\n"
     ]
    }
   ],
   "source": [
    "# eigen value 및 eigen vector 구하기\n",
    "\n",
    "ev = eigen(A)\n",
    "print(ev)\n",
    "print(zapsmall(ev$vectors))"
   ]
  },
  {
   "cell_type": "markdown",
   "metadata": {},
   "source": [
    "$\\lambda = -1$ 일 경우 고유벡터 가 -0.22, -0.44, 0,87 인 경우 앞의 예제에서 $\\sqrt(1 + 2^2 + 4^2)$ 으로 각 요소를 나눈값입니다. 즉 벡터 길이를 1 로 정규화(normalize) 한 것입니다."
   ]
  },
  {
   "cell_type": "code",
   "execution_count": 34,
   "metadata": {},
   "outputs": [
    {
     "name": "stdout",
     "output_type": "stream",
     "text": [
      "     [,1] [,2] [,3]\n",
      "[1,]    5   -4    4\n",
      "[2,]   12  -11   12\n",
      "[3,]    4   -4    5\n"
     ]
    }
   ],
   "source": [
    "# 앞의 예제 설명과 같은 행렬을 정의\n",
    "\n",
    "A = matrix(c(5, -4, 4, 12, -11, 12, 4, -4, 5), 3, 3, byrow=TRUE)\n",
    "print(A)"
   ]
  },
  {
   "cell_type": "code",
   "execution_count": 35,
   "metadata": {},
   "outputs": [
    {
     "name": "stdout",
     "output_type": "stream",
     "text": [
      "eigen() decomposition\n",
      "$values\n",
      "[1] -3  1  1\n",
      "\n",
      "$vectors\n",
      "           [,1]      [,2]       [,3]\n",
      "[1,] -0.3015113 0.5345225 -0.5885337\n",
      "[2,] -0.9045340 0.8017837 -0.7843904\n",
      "[3,] -0.3015113 0.2672612 -0.1958567\n",
      "\n",
      "[1] -3  1  1\n",
      "           [,1]      [,2]       [,3]\n",
      "[1,] -0.3015113 0.5345225 -0.5885337\n",
      "[2,] -0.9045340 0.8017837 -0.7843904\n",
      "[3,] -0.3015113 0.2672612 -0.1958567\n"
     ]
    }
   ],
   "source": [
    "# eigen value 구하기\n",
    "ev = eigen(A)\n",
    "print(ev)\n",
    "values = ev$values\n",
    "print(values)\n",
    "vectors = ev$vectors\n",
    "print(zapsmall(vectors))"
   ]
  },
  {
   "cell_type": "markdown",
   "metadata": {},
   "source": [
    "* 앞의 예제에서 $\\lambda -3$ 일때, 1, 3, 1, $\\lambda = 1$ 일때 1, 0, 1 $\\lambda = 1$ 일때 0, 1, 1 입니다. \n",
    "* $\\lambda = -3$ 일 경우에는 -0.3, -0.9, -0.3 은 각각의 요소에 $\\sqrt(11)$ 로 나누어 준 값이다.\n",
    "* $\\lambda = 1$ 인 경우 \n",
    "   * 3차원 공간에서 고유값은 3차 방정식의 해 이므로 $\\lambda$ 값은 3개 가 나와야 한다.\n",
    "   * 그러나 실제 해가 1 또는 2개나 나오는 경우가 있는데, 이 경우 고유값이 중첩이 되었다고 하고, (예제에서 1 이 그 경우에 해당함), 이 경우에는 고유벡터가 scaling 이외에도 선형독립인 고유벡터가 무수히 많이 나올 수 있습니다.\n",
    "   * 즉 기하학적 해석으로 설명하면, $\\lambda = 1$ 이 해당하는 두 고유벡터가 이루는 평면상에서 길이가 1 인 임의 고유벡터 2개를 선택하면 그 벡터는 고유벡터가 됩니다."
   ]
  },
  {
   "cell_type": "code",
   "execution_count": 36,
   "metadata": {},
   "outputs": [
    {
     "name": "stdout",
     "output_type": "stream",
     "text": [
      "     [,1] [,2] [,3]\n",
      "[1,]   13   -4    2\n",
      "[2,]   -4   11   -2\n",
      "[3,]    2   -2    8\n"
     ]
    }
   ],
   "source": [
    "# 또 다른 예제\n",
    "\n",
    "A = matrix(c(13, -4, 2, -4, 11, -2, 2, -2, 8), 3, 3, byrow=TRUE)\n",
    "print(A)"
   ]
  },
  {
   "cell_type": "code",
   "execution_count": 37,
   "metadata": {},
   "outputs": [
    {
     "name": "stdout",
     "output_type": "stream",
     "text": [
      "[1] 17  8  7\n",
      "           [,1]       [,2]      [,3]\n",
      "[1,]  0.7453560  0.6666667 0.0000000\n",
      "[2,] -0.5962848  0.6666667 0.4472136\n",
      "[3,]  0.2981424 -0.3333333 0.8944272\n"
     ]
    }
   ],
   "source": [
    "ev = eigen(A)\n",
    "values = ev$values\n",
    "vectors = ev$vectors\n",
    "\n",
    "print(values)\n",
    "print(zapsmall(vectors))"
   ]
  },
  {
   "cell_type": "markdown",
   "metadata": {},
   "source": [
    "### 고유값과 고유벡터의 성질\n",
    "\n",
    "* 행렬 $\\mathbf A$ 를 분해하는데, $\\mathbf A = \\mathbf V'\\mathbf \\Lambda \\mathbf V$ 형식을 사용합니다.\n",
    "* $\\mathbf V$ 를 eigen vector 로 이루어진 행렬이고, $\\mathbf \\Lambda = diag(\\lambda_1, \\lambda_2,\\cdots,\\lambda_p)$ 로 이루어진 대각선 행렬이고, $\\lambda_i$ 는 $\\lambda_1 \\ge \\lambda_2 \\ge \\cdots \\ge \\lambda_p$ 인 고유값들입니다.\n",
    "\n",
    "* 직교행렬 (Orthogonality): $\\mathbf V' \\mathbf V = \\mathbf I$\n",
    "   * zapsmall() 은 매우 작은 값을 0으로 처리 하는 함수입니다."
   ]
  },
  {
   "cell_type": "code",
   "execution_count": 38,
   "metadata": {},
   "outputs": [
    {
     "name": "stdout",
     "output_type": "stream",
     "text": [
      "     [,1] [,2] [,3]\n",
      "[1,]    1    0    0\n",
      "[2,]    0    1    0\n",
      "[3,]    0    0    1\n"
     ]
    }
   ],
   "source": [
    "# crossprod (X,Y) = t(X)%*% Y or crossprod(X) = t(X) %*% X\n",
    "\n",
    "print(zapsmall(crossprod(vectors)))"
   ]
  },
  {
   "cell_type": "markdown",
   "metadata": {},
   "source": [
    "##### 1. trace(A) = sum of eigenvalues = $\\sum \\lambda_i$"
   ]
  },
  {
   "cell_type": "code",
   "execution_count": 39,
   "metadata": {},
   "outputs": [
    {
     "name": "stdout",
     "output_type": "stream",
     "text": [
      "[1] 32\n"
     ]
    }
   ],
   "source": [
    "# trace A = sum of eigenvalus \n",
    "print(tr(A))"
   ]
  },
  {
   "cell_type": "code",
   "execution_count": 40,
   "metadata": {},
   "outputs": [
    {
     "name": "stdout",
     "output_type": "stream",
     "text": [
      "[1] 32\n"
     ]
    }
   ],
   "source": [
    "print(sum(values))"
   ]
  },
  {
   "cell_type": "markdown",
   "metadata": {},
   "source": [
    "##### 2. sum of square of A = sum of squares of eigenvalues $\\sum \\lambda_i^2$"
   ]
  },
  {
   "cell_type": "code",
   "execution_count": 41,
   "metadata": {},
   "outputs": [
    {
     "name": "stdout",
     "output_type": "stream",
     "text": [
      "     [,1] [,2] [,3]\n",
      "[1,]   13   -4    2\n",
      "[2,]   -4   11   -2\n",
      "[3,]    2   -2    8\n",
      "[1] 24\n"
     ]
    }
   ],
   "source": [
    "print(A)\n",
    "print(sum(A))"
   ]
  },
  {
   "cell_type": "code",
   "execution_count": 42,
   "metadata": {},
   "outputs": [
    {
     "name": "stdout",
     "output_type": "stream",
     "text": [
      "     [,1] [,2] [,3]\n",
      "[1,]  169   16    4\n",
      "[2,]   16  121    4\n",
      "[3,]    4    4   64\n"
     ]
    }
   ],
   "source": [
    "print(A^2)"
   ]
  },
  {
   "cell_type": "code",
   "execution_count": 43,
   "metadata": {},
   "outputs": [
    {
     "name": "stdout",
     "output_type": "stream",
     "text": [
      "[1] 402\n"
     ]
    }
   ],
   "source": [
    "print(sum(A^2))"
   ]
  },
  {
   "cell_type": "code",
   "execution_count": 44,
   "metadata": {},
   "outputs": [
    {
     "name": "stdout",
     "output_type": "stream",
     "text": [
      "[1] 17  8  7\n",
      "[1] 289  64  49\n",
      "[1] 402\n"
     ]
    }
   ],
   "source": [
    "print(values)\n",
    "print(values^2)\n",
    "print(sum(values^2))"
   ]
  },
  {
   "cell_type": "markdown",
   "metadata": {},
   "source": [
    "##### 3. 행렬식 = 고유값들의 곱 = $det(\\mathbf A) = \\Pi \\lambda_i$.  만일 $\\lambda_i = 0$ 이면 행렬식은 0 이됩니다."
   ]
  },
  {
   "cell_type": "code",
   "execution_count": 45,
   "metadata": {},
   "outputs": [
    {
     "name": "stdout",
     "output_type": "stream",
     "text": [
      "[1] 952\n"
     ]
    }
   ],
   "source": [
    "print(det(A))"
   ]
  },
  {
   "cell_type": "code",
   "execution_count": 46,
   "metadata": {},
   "outputs": [
    {
     "name": "stdout",
     "output_type": "stream",
     "text": [
      "[1] 952\n"
     ]
    }
   ],
   "source": [
    "print(prod(values))"
   ]
  },
  {
   "cell_type": "markdown",
   "metadata": {},
   "source": [
    "##### 4. rank = 0 이 아닌 고유값의 갯수"
   ]
  },
  {
   "cell_type": "code",
   "execution_count": 54,
   "metadata": {},
   "outputs": [
    {
     "name": "stdout",
     "output_type": "stream",
     "text": [
      "[1] 3\n"
     ]
    }
   ],
   "source": [
    "options(warn = -1)\n",
    "print(R(A))\n",
    "options(warn = 0)"
   ]
  },
  {
   "cell_type": "code",
   "execution_count": 55,
   "metadata": {},
   "outputs": [
    {
     "name": "stdout",
     "output_type": "stream",
     "text": [
      "[1] 3\n"
     ]
    }
   ],
   "source": [
    "print(sum(values != 0))"
   ]
  },
  {
   "cell_type": "markdown",
   "metadata": {},
   "source": [
    "##### 5. $\\mathbf A^{-1}$ 의 고유값은 1 / ($\\mathbf A$ 의 고유값) 이고, 고유벡터는 똑같으며 순서는 역순이 된다.\n",
    "\n",
    "t 함수 : 전치 \n",
    "\n",
    "det 함수 : 행렬식\n",
    "\n",
    "solve 함수 : 역행렬 \n",
    "\n",
    "%*% : 행렬곱 "
   ]
  },
  {
   "cell_type": "code",
   "execution_count": 57,
   "metadata": {},
   "outputs": [
    {
     "name": "stdout",
     "output_type": "stream",
     "text": [
      "     [,1] [,2] [,3]\n",
      "[1,]   13   -4    2\n",
      "[2,]   -4   11   -2\n",
      "[3,]    2   -2    8\n",
      "            [,1]       [,2]        [,3]\n",
      "[1,]  0.08823529 0.02941176 -0.01470588\n",
      "[2,]  0.02941176 0.10504202  0.01890756\n",
      "[3,] -0.01470588 0.01890756  0.13340336\n"
     ]
    }
   ],
   "source": [
    "# 역함수\n",
    "print(A)\n",
    "\n",
    "AI = solve(A)\n",
    "print(AI)"
   ]
  },
  {
   "cell_type": "code",
   "execution_count": 58,
   "metadata": {},
   "outputs": [
    {
     "name": "stdout",
     "output_type": "stream",
     "text": [
      "     [,1] [,2] [,3]\n",
      "[1,]    1    0    0\n",
      "[2,]    0    1    0\n",
      "[3,]    0    0    1\n"
     ]
    }
   ],
   "source": [
    "print(zapsmall(A %*% AI) )"
   ]
  },
  {
   "cell_type": "code",
   "execution_count": 61,
   "metadata": {},
   "outputs": [],
   "source": [
    "evi = eigen(AI)\n",
    "evi_values = evi$values\n",
    "evi_vectors = evi$vectors"
   ]
  },
  {
   "cell_type": "code",
   "execution_count": 62,
   "metadata": {},
   "outputs": [
    {
     "name": "stdout",
     "output_type": "stream",
     "text": [
      "[1] 0.14285714 0.12500000 0.05882353\n",
      "          [,1]       [,2]       [,3]\n",
      "[1,] 0.0000000  0.6666667  0.7453560\n",
      "[2,] 0.4472136  0.6666667 -0.5962848\n",
      "[3,] 0.8944272 -0.3333333  0.2981424\n"
     ]
    }
   ],
   "source": [
    "print(evi_values)\n",
    "print(evi_vectors)"
   ]
  },
  {
   "cell_type": "code",
   "execution_count": 63,
   "metadata": {},
   "outputs": [],
   "source": [
    "ev = eigen(A)\n",
    "ev_values = ev$values\n",
    "ev_vectors = ev$vectors"
   ]
  },
  {
   "cell_type": "code",
   "execution_count": 64,
   "metadata": {},
   "outputs": [
    {
     "name": "stdout",
     "output_type": "stream",
     "text": [
      "[1] 17  8  7\n",
      "           [,1]       [,2]      [,3]\n",
      "[1,]  0.7453560  0.6666667 0.0000000\n",
      "[2,] -0.5962848  0.6666667 0.4472136\n",
      "[3,]  0.2981424 -0.3333333 0.8944272\n"
     ]
    }
   ],
   "source": [
    "print(ev_values)\n",
    "print(ev_vectors)"
   ]
  },
  {
   "cell_type": "code",
   "execution_count": 74,
   "metadata": {},
   "outputs": [
    {
     "name": "stdout",
     "output_type": "stream",
     "text": [
      "[1] 0.14285714 0.12500000 0.05882353\n"
     ]
    }
   ],
   "source": [
    "print(sort(ev_values^(-1), decreasing = TRUE))"
   ]
  },
  {
   "cell_type": "code",
   "execution_count": null,
   "metadata": {},
   "outputs": [],
   "source": []
  }
 ],
 "metadata": {
  "kernelspec": {
   "display_name": "R",
   "language": "R",
   "name": "ir"
  },
  "language_info": {
   "codemirror_mode": "r",
   "file_extension": ".r",
   "mimetype": "text/x-r-source",
   "name": "R",
   "pygments_lexer": "r",
   "version": "3.4.3"
  }
 },
 "nbformat": 4,
 "nbformat_minor": 2
}
