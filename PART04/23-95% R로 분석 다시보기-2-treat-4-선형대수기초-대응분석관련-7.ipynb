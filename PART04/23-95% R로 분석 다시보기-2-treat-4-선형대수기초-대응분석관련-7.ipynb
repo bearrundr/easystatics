{
 "cells": [
  {
   "cell_type": "markdown",
   "metadata": {},
   "source": [
    "# <span style=\"color:blue\"> 이토록 쉬운 통계 & R </span>"
   ]
  },
  {
   "cell_type": "markdown",
   "metadata": {},
   "source": [
    "<img src=\"../image/cover.png\" width=\"200\" height=\"400\" align=\"left\">  임경덕 지음"
   ]
  },
  {
   "cell_type": "markdown",
   "metadata": {},
   "source": [
    "## PART 4 데이터 분석 도구, R"
   ]
  },
  {
   "cell_type": "markdown",
   "metadata": {},
   "source": [
    "## 95% R로 분석 다시보기-2-treat-4-선형대수기초 대응분석관련-6 (46일차)"
   ]
  },
  {
   "cell_type": "markdown",
   "metadata": {},
   "source": [
    "   * 데이타프로젝트 (http://dataproject.xyz) 또는 (http://cafe.naver.com/dataartproject) 에 미리 저장된 스크립트를 다운 받을 수 있습니다.\n",
    "   * 스크립트를 활용하면 직접 명령어를 입력하지 않고 저장된 명령어들을 실행할 수 있습니다."
   ]
  },
  {
   "cell_type": "markdown",
   "metadata": {},
   "source": [
    "### 데이터 파일은 dataartproject.xyz 에 있습니다."
   ]
  },
  {
   "cell_type": "markdown",
   "metadata": {},
   "source": [
    "# 두개의 범주형 변수의 관계 찾기 -- treat - 대응분석 정리"
   ]
  },
  {
   "cell_type": "markdown",
   "metadata": {},
   "source": [
    "## 진료과목 중 내과만 자세히 살피기  -- 대응분석"
   ]
  },
  {
   "cell_type": "markdown",
   "metadata": {},
   "source": [
    "## 대응분석 관련 정리 계속"
   ]
  },
  {
   "cell_type": "markdown",
   "metadata": {},
   "source": [
    "대응분석을 설명하기 위해서는 몇가지 기본적인 내용의 정리가 필요합니다. 따라서 관련 내용을 먼저 정리 하고 진료 과목에 대한 대응 분석을 설명할 예정입니다.\n",
    "여기서 대응분석이라는 것은 일반적으로 두개의 범주형 변수의 관계에 대한 독립성 여부는 카이제곱 분석에 의하여 P 검정을 살펴보게 됩니다.\n",
    "\n",
    "그러나 다수준인 경우에는 분석시에 복잡한 양상을 띄게 됩니다. 따라서 이 경우에는 수준별 대응 분석을 하게 됩니다. 대응분석은 범주형 변수의 각 수준을 계량화하여 2차원 그래프 상에서 표현하여 두 범주형 변수가 변화는 관계를 살펴보는 것입니다.\n",
    "\n",
    "이런 내용을 이해 하기 위해서는 선형 대수와 관련 해서 몇가지 기초적인 지식이 필요합니다."
   ]
  },
  {
   "cell_type": "markdown",
   "metadata": {},
   "source": [
    "이번에는 PCA 결과 분석 관련 다양한 그래프 표현에 관련해서 설명을 하고 다음에 왜 고유값, 고유벡터를 해야하는지 이유를 설명하겠습니다. 실은 고유벡터는 공분산, 분산과 관련이 있습니다."
   ]
  },
  {
   "cell_type": "markdown",
   "metadata": {},
   "source": [
    "### PCA 분석 기초 (http://www.sthda.com/english/articles/31-principal-component-methods-in-r-practical-guide/112-pca-principal-component-analysis-essentials/)"
   ]
  },
  {
   "cell_type": "markdown",
   "metadata": {},
   "source": [
    "PCA 를 이해하기 위해서는 선형대수의 고유값에 대한 이해가 필요합니다. 그러나 여기서는 깊은 이야기 보다는 직관적으로 이해를 돕도록 설명하고자 합니다.아래 Plot 1A 산점도는 이전 예와 같은 방식으로 차수 축소로 2개의 PCA 로 표시 하였습니다. PCA 는 가장 큰 분산이 가장 중요하다고 생각합니다. 즉 가장 주축 (most principal).  \n",
    "  \n",
    "Plot 1A 에서 보면, PC1 축이 제1 주축 (first principal direction) 이고, PC2 축이 제2추축 이 됩니다. PC1 과 PC2 는 서로 직교입니다. 2차원 데이터는 각 샘플 점 에서 제1 주축으로 Projection 하므로써 그림 Plot 1B 가 됩니다. 각 분산에 의해서 나타나는 분산은 고유값이 됩니다. 이 부분은 내일 설명 할 예정입니다. \n",
    "\n",
    "<table>\n",
    "  <tr>\n",
    "    <th><img src=\"006-principal-component-analysis-scatter-plot-data-mining-1.png\" width=\"240\" alt=\"\" /></th>\n",
    "    <th><img src=\"006-principal-component-analysis-scatter-plot-data-mining-2.png\" width=\"240\" alt=\"\" /></th>\n",
    "  </tr> \n",
    "</table>\n",
    "\n",
    "PCA는 특히 매우 큰 상관관계 (correlated) 가 있을 때 매우 유용합니다. 지금은 이정도로 설명하고 다음날 이런 개념에 대해서 설명할 예정입니다."
   ]
  },
  {
   "cell_type": "markdown",
   "metadata": {},
   "source": [
    "PCA 분석을 위해서 먼저 두개의 Package 를 설치합니다."
   ]
  },
  {
   "cell_type": "code",
   "execution_count": 1,
   "metadata": {},
   "outputs": [],
   "source": [
    "#install.packages(c(\"FactoMineR\", \"factoextra\"))"
   ]
  },
  {
   "cell_type": "code",
   "execution_count": 2,
   "metadata": {},
   "outputs": [
    {
     "name": "stderr",
     "output_type": "stream",
     "text": [
      "Loading required package: ggplot2\n",
      "Welcome! Related Books: `Practical Guide To Cluster Analysis in R` at https://goo.gl/13EFCZ\n"
     ]
    }
   ],
   "source": [
    "# 라이브러리 설정\n",
    "library(\"FactoMineR\")\n",
    "library(\"factoextra\")"
   ]
  },
  {
   "cell_type": "markdown",
   "metadata": {},
   "source": [
    "설명 예제로서 factoextra package 에 있는 10종 경기를 사용 할 것입니다."
   ]
  },
  {
   "cell_type": "code",
   "execution_count": 3,
   "metadata": {},
   "outputs": [],
   "source": [
    "data(decathlon2)"
   ]
  },
  {
   "cell_type": "code",
   "execution_count": 8,
   "metadata": {},
   "outputs": [
    {
     "data": {
      "text/html": [
       "<table>\n",
       "<thead><tr><th></th><th scope=col>X100m</th><th scope=col>Long.jump</th><th scope=col>Shot.put</th><th scope=col>High.jump</th><th scope=col>X400m</th><th scope=col>X110m.hurdle</th><th scope=col>Discus</th><th scope=col>Pole.vault</th><th scope=col>Javeline</th><th scope=col>X1500m</th><th scope=col>Rank</th><th scope=col>Points</th><th scope=col>Competition</th></tr></thead>\n",
       "<tbody>\n",
       "\t<tr><th scope=row>SEBRLE</th><td>11.04   </td><td>7.58    </td><td>14.83   </td><td>2.07    </td><td>49.81   </td><td>14.69   </td><td>43.75   </td><td>5.02    </td><td>63.19   </td><td>291.70  </td><td> 1      </td><td>8217    </td><td>Decastar</td></tr>\n",
       "\t<tr><th scope=row>CLAY</th><td>10.76   </td><td>7.40    </td><td>14.26   </td><td>1.86    </td><td>49.37   </td><td>14.05   </td><td>50.72   </td><td>4.92    </td><td>60.15   </td><td>301.50  </td><td> 2      </td><td>8122    </td><td>Decastar</td></tr>\n",
       "\t<tr><th scope=row>BERNARD</th><td>11.02   </td><td>7.23    </td><td>14.25   </td><td>1.92    </td><td>48.93   </td><td>14.99   </td><td>40.87   </td><td>5.32    </td><td>62.77   </td><td>280.10  </td><td> 4      </td><td>8067    </td><td>Decastar</td></tr>\n",
       "\t<tr><th scope=row>YURKOV</th><td>11.34   </td><td>7.09    </td><td>15.19   </td><td>2.10    </td><td>50.42   </td><td>15.31   </td><td>46.26   </td><td>4.72    </td><td>63.44   </td><td>276.40  </td><td> 5      </td><td>8036    </td><td>Decastar</td></tr>\n",
       "\t<tr><th scope=row>ZSIVOCZKY</th><td>11.13   </td><td>7.30    </td><td>13.48   </td><td>2.01    </td><td>48.62   </td><td>14.17   </td><td>45.67   </td><td>4.42    </td><td>55.37   </td><td>268.00  </td><td> 7      </td><td>8004    </td><td>Decastar</td></tr>\n",
       "\t<tr><th scope=row>McMULLEN</th><td>10.83   </td><td>7.31    </td><td>13.76   </td><td>2.13    </td><td>49.91   </td><td>14.38   </td><td>44.41   </td><td>4.42    </td><td>56.37   </td><td>285.10  </td><td> 8      </td><td>7995    </td><td>Decastar</td></tr>\n",
       "\t<tr><th scope=row>MARTINEAU</th><td>11.64   </td><td>6.81    </td><td>14.57   </td><td>1.95    </td><td>50.14   </td><td>14.93   </td><td>47.60   </td><td>4.92    </td><td>52.33   </td><td>262.10  </td><td> 9      </td><td>7802    </td><td>Decastar</td></tr>\n",
       "\t<tr><th scope=row>HERNU</th><td>11.37   </td><td>7.56    </td><td>14.41   </td><td>1.86    </td><td>51.10   </td><td>15.06   </td><td>44.99   </td><td>4.82    </td><td>57.19   </td><td>285.10  </td><td>10      </td><td>7733    </td><td>Decastar</td></tr>\n",
       "\t<tr><th scope=row>BARRAS</th><td>11.33   </td><td>6.97    </td><td>14.09   </td><td>1.95    </td><td>49.48   </td><td>14.48   </td><td>42.10   </td><td>4.72    </td><td>55.40   </td><td>282.00  </td><td>11      </td><td>7708    </td><td>Decastar</td></tr>\n",
       "\t<tr><th scope=row>NOOL</th><td>11.33   </td><td>7.27    </td><td>12.68   </td><td>1.98    </td><td>49.20   </td><td>15.29   </td><td>37.92   </td><td>4.62    </td><td>57.44   </td><td>266.60  </td><td>12      </td><td>7651    </td><td>Decastar</td></tr>\n",
       "\t<tr><th scope=row>BOURGUIGNON</th><td>11.36   </td><td>6.80    </td><td>13.46   </td><td>1.86    </td><td>51.16   </td><td>15.67   </td><td>40.49   </td><td>5.02    </td><td>54.68   </td><td>291.70  </td><td>13      </td><td>7313    </td><td>Decastar</td></tr>\n",
       "\t<tr><th scope=row>Sebrle</th><td>10.85   </td><td>7.84    </td><td>16.36   </td><td>2.12    </td><td>48.36   </td><td>14.05   </td><td>48.72   </td><td>5.00    </td><td>70.52   </td><td>280.01  </td><td> 1      </td><td>8893    </td><td>OlympicG</td></tr>\n",
       "\t<tr><th scope=row>Clay</th><td>10.44   </td><td>7.96    </td><td>15.23   </td><td>2.06    </td><td>49.19   </td><td>14.13   </td><td>50.11   </td><td>4.90    </td><td>69.71   </td><td>282.00  </td><td> 2      </td><td>8820    </td><td>OlympicG</td></tr>\n",
       "\t<tr><th scope=row>Karpov</th><td>10.50   </td><td>7.81    </td><td>15.93   </td><td>2.09    </td><td>46.81   </td><td>13.97   </td><td>51.65   </td><td>4.60    </td><td>55.54   </td><td>278.11  </td><td> 3      </td><td>8725    </td><td>OlympicG</td></tr>\n",
       "\t<tr><th scope=row>Macey</th><td>10.89   </td><td>7.47    </td><td>15.73   </td><td>2.15    </td><td>48.97   </td><td>14.56   </td><td>48.34   </td><td>4.40    </td><td>58.46   </td><td>265.42  </td><td> 4      </td><td>8414    </td><td>OlympicG</td></tr>\n",
       "\t<tr><th scope=row>Warners</th><td>10.62   </td><td>7.74    </td><td>14.48   </td><td>1.97    </td><td>47.97   </td><td>14.01   </td><td>43.73   </td><td>4.90    </td><td>55.39   </td><td>278.05  </td><td> 5      </td><td>8343    </td><td>OlympicG</td></tr>\n",
       "\t<tr><th scope=row>Zsivoczky</th><td>10.91   </td><td>7.14    </td><td>15.31   </td><td>2.12    </td><td>49.40   </td><td>14.95   </td><td>45.62   </td><td>4.70    </td><td>63.45   </td><td>269.54  </td><td> 6      </td><td>8287    </td><td>OlympicG</td></tr>\n",
       "\t<tr><th scope=row>Hernu</th><td>10.97   </td><td>7.19    </td><td>14.65   </td><td>2.03    </td><td>48.73   </td><td>14.25   </td><td>44.72   </td><td>4.80    </td><td>57.76   </td><td>264.35  </td><td> 7      </td><td>8237    </td><td>OlympicG</td></tr>\n",
       "\t<tr><th scope=row>Bernard</th><td>10.69   </td><td>7.48    </td><td>14.80   </td><td>2.12    </td><td>49.13   </td><td>14.17   </td><td>44.75   </td><td>4.40    </td><td>55.27   </td><td>276.31  </td><td> 9      </td><td>8225    </td><td>OlympicG</td></tr>\n",
       "\t<tr><th scope=row>Schwarzl</th><td>10.98   </td><td>7.49    </td><td>14.01   </td><td>1.94    </td><td>49.76   </td><td>14.25   </td><td>42.43   </td><td>5.10    </td><td>56.32   </td><td>273.56  </td><td>10      </td><td>8102    </td><td>OlympicG</td></tr>\n",
       "\t<tr><th scope=row>Pogorelov</th><td>10.95   </td><td>7.31    </td><td>15.10   </td><td>2.06    </td><td>50.79   </td><td>14.21   </td><td>44.60   </td><td>5.00    </td><td>53.45   </td><td>287.63  </td><td>11      </td><td>8084    </td><td>OlympicG</td></tr>\n",
       "\t<tr><th scope=row>Schoenbeck</th><td>10.90   </td><td>7.30    </td><td>14.77   </td><td>1.88    </td><td>50.30   </td><td>14.34   </td><td>44.41   </td><td>5.00    </td><td>60.89   </td><td>278.82  </td><td>12      </td><td>8077    </td><td>OlympicG</td></tr>\n",
       "\t<tr><th scope=row>Barras</th><td>11.14   </td><td>6.99    </td><td>14.91   </td><td>1.94    </td><td>49.41   </td><td>14.37   </td><td>44.83   </td><td>4.60    </td><td>64.55   </td><td>267.09  </td><td>13      </td><td>8067    </td><td>OlympicG</td></tr>\n",
       "\t<tr><th scope=row>KARPOV</th><td>11.02   </td><td>7.30    </td><td>14.77   </td><td>2.04    </td><td>48.37   </td><td>14.09   </td><td>48.95   </td><td>4.92    </td><td>50.31   </td><td>300.20  </td><td> 3      </td><td>8099    </td><td>Decastar</td></tr>\n",
       "\t<tr><th scope=row>WARNERS</th><td>11.11   </td><td>7.60    </td><td>14.31   </td><td>1.98    </td><td>48.68   </td><td>14.23   </td><td>41.10   </td><td>4.92    </td><td>51.77   </td><td>278.10  </td><td> 6      </td><td>8030    </td><td>Decastar</td></tr>\n",
       "\t<tr><th scope=row>Nool</th><td>10.80   </td><td>7.53    </td><td>14.26   </td><td>1.88    </td><td>48.81   </td><td>14.80   </td><td>42.05   </td><td>5.40    </td><td>61.33   </td><td>276.33  </td><td> 8      </td><td>8235    </td><td>OlympicG</td></tr>\n",
       "\t<tr><th scope=row>Drews</th><td>10.87   </td><td>7.38    </td><td>13.07   </td><td>1.88    </td><td>48.51   </td><td>14.01   </td><td>40.11   </td><td>5.00    </td><td>51.53   </td><td>274.21  </td><td>19      </td><td>7926    </td><td>OlympicG</td></tr>\n",
       "</tbody>\n",
       "</table>\n"
      ],
      "text/latex": [
       "\\begin{tabular}{r|lllllllllllll}\n",
       "  & X100m & Long.jump & Shot.put & High.jump & X400m & X110m.hurdle & Discus & Pole.vault & Javeline & X1500m & Rank & Points & Competition\\\\\n",
       "\\hline\n",
       "\tSEBRLE & 11.04    & 7.58     & 14.83    & 2.07     & 49.81    & 14.69    & 43.75    & 5.02     & 63.19    & 291.70   &  1       & 8217     & Decastar\\\\\n",
       "\tCLAY & 10.76    & 7.40     & 14.26    & 1.86     & 49.37    & 14.05    & 50.72    & 4.92     & 60.15    & 301.50   &  2       & 8122     & Decastar\\\\\n",
       "\tBERNARD & 11.02    & 7.23     & 14.25    & 1.92     & 48.93    & 14.99    & 40.87    & 5.32     & 62.77    & 280.10   &  4       & 8067     & Decastar\\\\\n",
       "\tYURKOV & 11.34    & 7.09     & 15.19    & 2.10     & 50.42    & 15.31    & 46.26    & 4.72     & 63.44    & 276.40   &  5       & 8036     & Decastar\\\\\n",
       "\tZSIVOCZKY & 11.13    & 7.30     & 13.48    & 2.01     & 48.62    & 14.17    & 45.67    & 4.42     & 55.37    & 268.00   &  7       & 8004     & Decastar\\\\\n",
       "\tMcMULLEN & 10.83    & 7.31     & 13.76    & 2.13     & 49.91    & 14.38    & 44.41    & 4.42     & 56.37    & 285.10   &  8       & 7995     & Decastar\\\\\n",
       "\tMARTINEAU & 11.64    & 6.81     & 14.57    & 1.95     & 50.14    & 14.93    & 47.60    & 4.92     & 52.33    & 262.10   &  9       & 7802     & Decastar\\\\\n",
       "\tHERNU & 11.37    & 7.56     & 14.41    & 1.86     & 51.10    & 15.06    & 44.99    & 4.82     & 57.19    & 285.10   & 10       & 7733     & Decastar\\\\\n",
       "\tBARRAS & 11.33    & 6.97     & 14.09    & 1.95     & 49.48    & 14.48    & 42.10    & 4.72     & 55.40    & 282.00   & 11       & 7708     & Decastar\\\\\n",
       "\tNOOL & 11.33    & 7.27     & 12.68    & 1.98     & 49.20    & 15.29    & 37.92    & 4.62     & 57.44    & 266.60   & 12       & 7651     & Decastar\\\\\n",
       "\tBOURGUIGNON & 11.36    & 6.80     & 13.46    & 1.86     & 51.16    & 15.67    & 40.49    & 5.02     & 54.68    & 291.70   & 13       & 7313     & Decastar\\\\\n",
       "\tSebrle & 10.85    & 7.84     & 16.36    & 2.12     & 48.36    & 14.05    & 48.72    & 5.00     & 70.52    & 280.01   &  1       & 8893     & OlympicG\\\\\n",
       "\tClay & 10.44    & 7.96     & 15.23    & 2.06     & 49.19    & 14.13    & 50.11    & 4.90     & 69.71    & 282.00   &  2       & 8820     & OlympicG\\\\\n",
       "\tKarpov & 10.50    & 7.81     & 15.93    & 2.09     & 46.81    & 13.97    & 51.65    & 4.60     & 55.54    & 278.11   &  3       & 8725     & OlympicG\\\\\n",
       "\tMacey & 10.89    & 7.47     & 15.73    & 2.15     & 48.97    & 14.56    & 48.34    & 4.40     & 58.46    & 265.42   &  4       & 8414     & OlympicG\\\\\n",
       "\tWarners & 10.62    & 7.74     & 14.48    & 1.97     & 47.97    & 14.01    & 43.73    & 4.90     & 55.39    & 278.05   &  5       & 8343     & OlympicG\\\\\n",
       "\tZsivoczky & 10.91    & 7.14     & 15.31    & 2.12     & 49.40    & 14.95    & 45.62    & 4.70     & 63.45    & 269.54   &  6       & 8287     & OlympicG\\\\\n",
       "\tHernu & 10.97    & 7.19     & 14.65    & 2.03     & 48.73    & 14.25    & 44.72    & 4.80     & 57.76    & 264.35   &  7       & 8237     & OlympicG\\\\\n",
       "\tBernard & 10.69    & 7.48     & 14.80    & 2.12     & 49.13    & 14.17    & 44.75    & 4.40     & 55.27    & 276.31   &  9       & 8225     & OlympicG\\\\\n",
       "\tSchwarzl & 10.98    & 7.49     & 14.01    & 1.94     & 49.76    & 14.25    & 42.43    & 5.10     & 56.32    & 273.56   & 10       & 8102     & OlympicG\\\\\n",
       "\tPogorelov & 10.95    & 7.31     & 15.10    & 2.06     & 50.79    & 14.21    & 44.60    & 5.00     & 53.45    & 287.63   & 11       & 8084     & OlympicG\\\\\n",
       "\tSchoenbeck & 10.90    & 7.30     & 14.77    & 1.88     & 50.30    & 14.34    & 44.41    & 5.00     & 60.89    & 278.82   & 12       & 8077     & OlympicG\\\\\n",
       "\tBarras & 11.14    & 6.99     & 14.91    & 1.94     & 49.41    & 14.37    & 44.83    & 4.60     & 64.55    & 267.09   & 13       & 8067     & OlympicG\\\\\n",
       "\tKARPOV & 11.02    & 7.30     & 14.77    & 2.04     & 48.37    & 14.09    & 48.95    & 4.92     & 50.31    & 300.20   &  3       & 8099     & Decastar\\\\\n",
       "\tWARNERS & 11.11    & 7.60     & 14.31    & 1.98     & 48.68    & 14.23    & 41.10    & 4.92     & 51.77    & 278.10   &  6       & 8030     & Decastar\\\\\n",
       "\tNool & 10.80    & 7.53     & 14.26    & 1.88     & 48.81    & 14.80    & 42.05    & 5.40     & 61.33    & 276.33   &  8       & 8235     & OlympicG\\\\\n",
       "\tDrews & 10.87    & 7.38     & 13.07    & 1.88     & 48.51    & 14.01    & 40.11    & 5.00     & 51.53    & 274.21   & 19       & 7926     & OlympicG\\\\\n",
       "\\end{tabular}\n"
      ],
      "text/markdown": [
       "\n",
       "| <!--/--> | X100m | Long.jump | Shot.put | High.jump | X400m | X110m.hurdle | Discus | Pole.vault | Javeline | X1500m | Rank | Points | Competition | \n",
       "|---|---|---|---|---|---|---|---|---|---|---|---|---|---|---|---|---|---|---|---|---|---|---|---|---|---|---|\n",
       "| SEBRLE | 11.04    | 7.58     | 14.83    | 2.07     | 49.81    | 14.69    | 43.75    | 5.02     | 63.19    | 291.70   |  1       | 8217     | Decastar | \n",
       "| CLAY | 10.76    | 7.40     | 14.26    | 1.86     | 49.37    | 14.05    | 50.72    | 4.92     | 60.15    | 301.50   |  2       | 8122     | Decastar | \n",
       "| BERNARD | 11.02    | 7.23     | 14.25    | 1.92     | 48.93    | 14.99    | 40.87    | 5.32     | 62.77    | 280.10   |  4       | 8067     | Decastar | \n",
       "| YURKOV | 11.34    | 7.09     | 15.19    | 2.10     | 50.42    | 15.31    | 46.26    | 4.72     | 63.44    | 276.40   |  5       | 8036     | Decastar | \n",
       "| ZSIVOCZKY | 11.13    | 7.30     | 13.48    | 2.01     | 48.62    | 14.17    | 45.67    | 4.42     | 55.37    | 268.00   |  7       | 8004     | Decastar | \n",
       "| McMULLEN | 10.83    | 7.31     | 13.76    | 2.13     | 49.91    | 14.38    | 44.41    | 4.42     | 56.37    | 285.10   |  8       | 7995     | Decastar | \n",
       "| MARTINEAU | 11.64    | 6.81     | 14.57    | 1.95     | 50.14    | 14.93    | 47.60    | 4.92     | 52.33    | 262.10   |  9       | 7802     | Decastar | \n",
       "| HERNU | 11.37    | 7.56     | 14.41    | 1.86     | 51.10    | 15.06    | 44.99    | 4.82     | 57.19    | 285.10   | 10       | 7733     | Decastar | \n",
       "| BARRAS | 11.33    | 6.97     | 14.09    | 1.95     | 49.48    | 14.48    | 42.10    | 4.72     | 55.40    | 282.00   | 11       | 7708     | Decastar | \n",
       "| NOOL | 11.33    | 7.27     | 12.68    | 1.98     | 49.20    | 15.29    | 37.92    | 4.62     | 57.44    | 266.60   | 12       | 7651     | Decastar | \n",
       "| BOURGUIGNON | 11.36    | 6.80     | 13.46    | 1.86     | 51.16    | 15.67    | 40.49    | 5.02     | 54.68    | 291.70   | 13       | 7313     | Decastar | \n",
       "| Sebrle | 10.85    | 7.84     | 16.36    | 2.12     | 48.36    | 14.05    | 48.72    | 5.00     | 70.52    | 280.01   |  1       | 8893     | OlympicG | \n",
       "| Clay | 10.44    | 7.96     | 15.23    | 2.06     | 49.19    | 14.13    | 50.11    | 4.90     | 69.71    | 282.00   |  2       | 8820     | OlympicG | \n",
       "| Karpov | 10.50    | 7.81     | 15.93    | 2.09     | 46.81    | 13.97    | 51.65    | 4.60     | 55.54    | 278.11   |  3       | 8725     | OlympicG | \n",
       "| Macey | 10.89    | 7.47     | 15.73    | 2.15     | 48.97    | 14.56    | 48.34    | 4.40     | 58.46    | 265.42   |  4       | 8414     | OlympicG | \n",
       "| Warners | 10.62    | 7.74     | 14.48    | 1.97     | 47.97    | 14.01    | 43.73    | 4.90     | 55.39    | 278.05   |  5       | 8343     | OlympicG | \n",
       "| Zsivoczky | 10.91    | 7.14     | 15.31    | 2.12     | 49.40    | 14.95    | 45.62    | 4.70     | 63.45    | 269.54   |  6       | 8287     | OlympicG | \n",
       "| Hernu | 10.97    | 7.19     | 14.65    | 2.03     | 48.73    | 14.25    | 44.72    | 4.80     | 57.76    | 264.35   |  7       | 8237     | OlympicG | \n",
       "| Bernard | 10.69    | 7.48     | 14.80    | 2.12     | 49.13    | 14.17    | 44.75    | 4.40     | 55.27    | 276.31   |  9       | 8225     | OlympicG | \n",
       "| Schwarzl | 10.98    | 7.49     | 14.01    | 1.94     | 49.76    | 14.25    | 42.43    | 5.10     | 56.32    | 273.56   | 10       | 8102     | OlympicG | \n",
       "| Pogorelov | 10.95    | 7.31     | 15.10    | 2.06     | 50.79    | 14.21    | 44.60    | 5.00     | 53.45    | 287.63   | 11       | 8084     | OlympicG | \n",
       "| Schoenbeck | 10.90    | 7.30     | 14.77    | 1.88     | 50.30    | 14.34    | 44.41    | 5.00     | 60.89    | 278.82   | 12       | 8077     | OlympicG | \n",
       "| Barras | 11.14    | 6.99     | 14.91    | 1.94     | 49.41    | 14.37    | 44.83    | 4.60     | 64.55    | 267.09   | 13       | 8067     | OlympicG | \n",
       "| KARPOV | 11.02    | 7.30     | 14.77    | 2.04     | 48.37    | 14.09    | 48.95    | 4.92     | 50.31    | 300.20   |  3       | 8099     | Decastar | \n",
       "| WARNERS | 11.11    | 7.60     | 14.31    | 1.98     | 48.68    | 14.23    | 41.10    | 4.92     | 51.77    | 278.10   |  6       | 8030     | Decastar | \n",
       "| Nool | 10.80    | 7.53     | 14.26    | 1.88     | 48.81    | 14.80    | 42.05    | 5.40     | 61.33    | 276.33   |  8       | 8235     | OlympicG | \n",
       "| Drews | 10.87    | 7.38     | 13.07    | 1.88     | 48.51    | 14.01    | 40.11    | 5.00     | 51.53    | 274.21   | 19       | 7926     | OlympicG | \n",
       "\n",
       "\n"
      ],
      "text/plain": [
       "            X100m Long.jump Shot.put High.jump X400m X110m.hurdle Discus\n",
       "SEBRLE      11.04 7.58      14.83    2.07      49.81 14.69        43.75 \n",
       "CLAY        10.76 7.40      14.26    1.86      49.37 14.05        50.72 \n",
       "BERNARD     11.02 7.23      14.25    1.92      48.93 14.99        40.87 \n",
       "YURKOV      11.34 7.09      15.19    2.10      50.42 15.31        46.26 \n",
       "ZSIVOCZKY   11.13 7.30      13.48    2.01      48.62 14.17        45.67 \n",
       "McMULLEN    10.83 7.31      13.76    2.13      49.91 14.38        44.41 \n",
       "MARTINEAU   11.64 6.81      14.57    1.95      50.14 14.93        47.60 \n",
       "HERNU       11.37 7.56      14.41    1.86      51.10 15.06        44.99 \n",
       "BARRAS      11.33 6.97      14.09    1.95      49.48 14.48        42.10 \n",
       "NOOL        11.33 7.27      12.68    1.98      49.20 15.29        37.92 \n",
       "BOURGUIGNON 11.36 6.80      13.46    1.86      51.16 15.67        40.49 \n",
       "Sebrle      10.85 7.84      16.36    2.12      48.36 14.05        48.72 \n",
       "Clay        10.44 7.96      15.23    2.06      49.19 14.13        50.11 \n",
       "Karpov      10.50 7.81      15.93    2.09      46.81 13.97        51.65 \n",
       "Macey       10.89 7.47      15.73    2.15      48.97 14.56        48.34 \n",
       "Warners     10.62 7.74      14.48    1.97      47.97 14.01        43.73 \n",
       "Zsivoczky   10.91 7.14      15.31    2.12      49.40 14.95        45.62 \n",
       "Hernu       10.97 7.19      14.65    2.03      48.73 14.25        44.72 \n",
       "Bernard     10.69 7.48      14.80    2.12      49.13 14.17        44.75 \n",
       "Schwarzl    10.98 7.49      14.01    1.94      49.76 14.25        42.43 \n",
       "Pogorelov   10.95 7.31      15.10    2.06      50.79 14.21        44.60 \n",
       "Schoenbeck  10.90 7.30      14.77    1.88      50.30 14.34        44.41 \n",
       "Barras      11.14 6.99      14.91    1.94      49.41 14.37        44.83 \n",
       "KARPOV      11.02 7.30      14.77    2.04      48.37 14.09        48.95 \n",
       "WARNERS     11.11 7.60      14.31    1.98      48.68 14.23        41.10 \n",
       "Nool        10.80 7.53      14.26    1.88      48.81 14.80        42.05 \n",
       "Drews       10.87 7.38      13.07    1.88      48.51 14.01        40.11 \n",
       "            Pole.vault Javeline X1500m Rank Points Competition\n",
       "SEBRLE      5.02       63.19    291.70  1   8217   Decastar   \n",
       "CLAY        4.92       60.15    301.50  2   8122   Decastar   \n",
       "BERNARD     5.32       62.77    280.10  4   8067   Decastar   \n",
       "YURKOV      4.72       63.44    276.40  5   8036   Decastar   \n",
       "ZSIVOCZKY   4.42       55.37    268.00  7   8004   Decastar   \n",
       "McMULLEN    4.42       56.37    285.10  8   7995   Decastar   \n",
       "MARTINEAU   4.92       52.33    262.10  9   7802   Decastar   \n",
       "HERNU       4.82       57.19    285.10 10   7733   Decastar   \n",
       "BARRAS      4.72       55.40    282.00 11   7708   Decastar   \n",
       "NOOL        4.62       57.44    266.60 12   7651   Decastar   \n",
       "BOURGUIGNON 5.02       54.68    291.70 13   7313   Decastar   \n",
       "Sebrle      5.00       70.52    280.01  1   8893   OlympicG   \n",
       "Clay        4.90       69.71    282.00  2   8820   OlympicG   \n",
       "Karpov      4.60       55.54    278.11  3   8725   OlympicG   \n",
       "Macey       4.40       58.46    265.42  4   8414   OlympicG   \n",
       "Warners     4.90       55.39    278.05  5   8343   OlympicG   \n",
       "Zsivoczky   4.70       63.45    269.54  6   8287   OlympicG   \n",
       "Hernu       4.80       57.76    264.35  7   8237   OlympicG   \n",
       "Bernard     4.40       55.27    276.31  9   8225   OlympicG   \n",
       "Schwarzl    5.10       56.32    273.56 10   8102   OlympicG   \n",
       "Pogorelov   5.00       53.45    287.63 11   8084   OlympicG   \n",
       "Schoenbeck  5.00       60.89    278.82 12   8077   OlympicG   \n",
       "Barras      4.60       64.55    267.09 13   8067   OlympicG   \n",
       "KARPOV      4.92       50.31    300.20  3   8099   Decastar   \n",
       "WARNERS     4.92       51.77    278.10  6   8030   Decastar   \n",
       "Nool        5.40       61.33    276.33  8   8235   OlympicG   \n",
       "Drews       5.00       51.53    274.21 19   7926   OlympicG   "
      ]
     },
     "metadata": {},
     "output_type": "display_data"
    }
   ],
   "source": [
    "decathlon2"
   ]
  },
  {
   "cell_type": "code",
   "execution_count": 5,
   "metadata": {},
   "outputs": [
    {
     "name": "stdout",
     "output_type": "stream",
     "text": [
      "'data.frame':\t27 obs. of  13 variables:\n",
      " $ X100m       : num  11 10.8 11 11.3 11.1 ...\n",
      " $ Long.jump   : num  7.58 7.4 7.23 7.09 7.3 7.31 6.81 7.56 6.97 7.27 ...\n",
      " $ Shot.put    : num  14.8 14.3 14.2 15.2 13.5 ...\n",
      " $ High.jump   : num  2.07 1.86 1.92 2.1 2.01 2.13 1.95 1.86 1.95 1.98 ...\n",
      " $ X400m       : num  49.8 49.4 48.9 50.4 48.6 ...\n",
      " $ X110m.hurdle: num  14.7 14.1 15 15.3 14.2 ...\n",
      " $ Discus      : num  43.8 50.7 40.9 46.3 45.7 ...\n",
      " $ Pole.vault  : num  5.02 4.92 5.32 4.72 4.42 4.42 4.92 4.82 4.72 4.62 ...\n",
      " $ Javeline    : num  63.2 60.1 62.8 63.4 55.4 ...\n",
      " $ X1500m      : num  292 302 280 276 268 ...\n",
      " $ Rank        : int  1 2 4 5 7 8 9 10 11 12 ...\n",
      " $ Points      : int  8217 8122 8067 8036 8004 7995 7802 7733 7708 7651 ...\n",
      " $ Competition : Factor w/ 2 levels \"Decastar\",\"OlympicG\": 1 1 1 1 1 1 1 1 1 1 ...\n"
     ]
    }
   ],
   "source": [
    "str(decathlon2)"
   ]
  },
  {
   "cell_type": "markdown",
   "metadata": {},
   "source": [
    "데이터는 2004년 올림픽과 2004년 Decastar 의 27명 선수 기록입니다.\n",
    "* row 1:23  까지 자료를 PCA 분석을 하는데 사용할 것입니다.\n",
    "* row 24:27 자료는 PCA 분석으로 얻어진 자료를 이용하여 예측하는데 사용할 예정입니다.\n",
    "* col 1:10  PCA 분석으로 사용\n",
    "* col 11:12 포인트와 순위 기록은 예측에 사용 할 것입니다.\n"
   ]
  },
  {
   "cell_type": "markdown",
   "metadata": {},
   "source": [
    "# Let's go"
   ]
  },
  {
   "cell_type": "code",
   "execution_count": 9,
   "metadata": {},
   "outputs": [
    {
     "name": "stdout",
     "output_type": "stream",
     "text": [
      "'data.frame':\t23 obs. of  10 variables:\n",
      " $ X100m       : num  11 10.8 11 11.3 11.1 ...\n",
      " $ Long.jump   : num  7.58 7.4 7.23 7.09 7.3 7.31 6.81 7.56 6.97 7.27 ...\n",
      " $ Shot.put    : num  14.8 14.3 14.2 15.2 13.5 ...\n",
      " $ High.jump   : num  2.07 1.86 1.92 2.1 2.01 2.13 1.95 1.86 1.95 1.98 ...\n",
      " $ X400m       : num  49.8 49.4 48.9 50.4 48.6 ...\n",
      " $ X110m.hurdle: num  14.7 14.1 15 15.3 14.2 ...\n",
      " $ Discus      : num  43.8 50.7 40.9 46.3 45.7 ...\n",
      " $ Pole.vault  : num  5.02 4.92 5.32 4.72 4.42 4.42 4.92 4.82 4.72 4.62 ...\n",
      " $ Javeline    : num  63.2 60.1 62.8 63.4 55.4 ...\n",
      " $ X1500m      : num  292 302 280 276 268 ...\n"
     ]
    }
   ],
   "source": [
    "decathlon2.active = decathlon2[1:23, 1:10]\n",
    "str(decathlon2.active)"
   ]
  },
  {
   "cell_type": "code",
   "execution_count": 10,
   "metadata": {},
   "outputs": [
    {
     "data": {
      "text/html": [
       "<table>\n",
       "<thead><tr><th></th><th scope=col>X100m</th><th scope=col>Long.jump</th><th scope=col>Shot.put</th><th scope=col>High.jump</th><th scope=col>X400m</th><th scope=col>X110m.hurdle</th><th scope=col>Discus</th><th scope=col>Pole.vault</th><th scope=col>Javeline</th><th scope=col>X1500m</th></tr></thead>\n",
       "<tbody>\n",
       "\t<tr><th scope=row>SEBRLE</th><td>11.04</td><td>7.58 </td><td>14.83</td><td>2.07 </td><td>49.81</td><td>14.69</td><td>43.75</td><td>5.02 </td><td>63.19</td><td>291.7</td></tr>\n",
       "\t<tr><th scope=row>CLAY</th><td>10.76</td><td>7.40 </td><td>14.26</td><td>1.86 </td><td>49.37</td><td>14.05</td><td>50.72</td><td>4.92 </td><td>60.15</td><td>301.5</td></tr>\n",
       "\t<tr><th scope=row>BERNARD</th><td>11.02</td><td>7.23 </td><td>14.25</td><td>1.92 </td><td>48.93</td><td>14.99</td><td>40.87</td><td>5.32 </td><td>62.77</td><td>280.1</td></tr>\n",
       "\t<tr><th scope=row>YURKOV</th><td>11.34</td><td>7.09 </td><td>15.19</td><td>2.10 </td><td>50.42</td><td>15.31</td><td>46.26</td><td>4.72 </td><td>63.44</td><td>276.4</td></tr>\n",
       "\t<tr><th scope=row>ZSIVOCZKY</th><td>11.13</td><td>7.30 </td><td>13.48</td><td>2.01 </td><td>48.62</td><td>14.17</td><td>45.67</td><td>4.42 </td><td>55.37</td><td>268.0</td></tr>\n",
       "\t<tr><th scope=row>McMULLEN</th><td>10.83</td><td>7.31 </td><td>13.76</td><td>2.13 </td><td>49.91</td><td>14.38</td><td>44.41</td><td>4.42 </td><td>56.37</td><td>285.1</td></tr>\n",
       "</tbody>\n",
       "</table>\n"
      ],
      "text/latex": [
       "\\begin{tabular}{r|llllllllll}\n",
       "  & X100m & Long.jump & Shot.put & High.jump & X400m & X110m.hurdle & Discus & Pole.vault & Javeline & X1500m\\\\\n",
       "\\hline\n",
       "\tSEBRLE & 11.04 & 7.58  & 14.83 & 2.07  & 49.81 & 14.69 & 43.75 & 5.02  & 63.19 & 291.7\\\\\n",
       "\tCLAY & 10.76 & 7.40  & 14.26 & 1.86  & 49.37 & 14.05 & 50.72 & 4.92  & 60.15 & 301.5\\\\\n",
       "\tBERNARD & 11.02 & 7.23  & 14.25 & 1.92  & 48.93 & 14.99 & 40.87 & 5.32  & 62.77 & 280.1\\\\\n",
       "\tYURKOV & 11.34 & 7.09  & 15.19 & 2.10  & 50.42 & 15.31 & 46.26 & 4.72  & 63.44 & 276.4\\\\\n",
       "\tZSIVOCZKY & 11.13 & 7.30  & 13.48 & 2.01  & 48.62 & 14.17 & 45.67 & 4.42  & 55.37 & 268.0\\\\\n",
       "\tMcMULLEN & 10.83 & 7.31  & 13.76 & 2.13  & 49.91 & 14.38 & 44.41 & 4.42  & 56.37 & 285.1\\\\\n",
       "\\end{tabular}\n"
      ],
      "text/markdown": [
       "\n",
       "| <!--/--> | X100m | Long.jump | Shot.put | High.jump | X400m | X110m.hurdle | Discus | Pole.vault | Javeline | X1500m | \n",
       "|---|---|---|---|---|---|\n",
       "| SEBRLE | 11.04 | 7.58  | 14.83 | 2.07  | 49.81 | 14.69 | 43.75 | 5.02  | 63.19 | 291.7 | \n",
       "| CLAY | 10.76 | 7.40  | 14.26 | 1.86  | 49.37 | 14.05 | 50.72 | 4.92  | 60.15 | 301.5 | \n",
       "| BERNARD | 11.02 | 7.23  | 14.25 | 1.92  | 48.93 | 14.99 | 40.87 | 5.32  | 62.77 | 280.1 | \n",
       "| YURKOV | 11.34 | 7.09  | 15.19 | 2.10  | 50.42 | 15.31 | 46.26 | 4.72  | 63.44 | 276.4 | \n",
       "| ZSIVOCZKY | 11.13 | 7.30  | 13.48 | 2.01  | 48.62 | 14.17 | 45.67 | 4.42  | 55.37 | 268.0 | \n",
       "| McMULLEN | 10.83 | 7.31  | 13.76 | 2.13  | 49.91 | 14.38 | 44.41 | 4.42  | 56.37 | 285.1 | \n",
       "\n",
       "\n"
      ],
      "text/plain": [
       "          X100m Long.jump Shot.put High.jump X400m X110m.hurdle Discus\n",
       "SEBRLE    11.04 7.58      14.83    2.07      49.81 14.69        43.75 \n",
       "CLAY      10.76 7.40      14.26    1.86      49.37 14.05        50.72 \n",
       "BERNARD   11.02 7.23      14.25    1.92      48.93 14.99        40.87 \n",
       "YURKOV    11.34 7.09      15.19    2.10      50.42 15.31        46.26 \n",
       "ZSIVOCZKY 11.13 7.30      13.48    2.01      48.62 14.17        45.67 \n",
       "McMULLEN  10.83 7.31      13.76    2.13      49.91 14.38        44.41 \n",
       "          Pole.vault Javeline X1500m\n",
       "SEBRLE    5.02       63.19    291.7 \n",
       "CLAY      4.92       60.15    301.5 \n",
       "BERNARD   5.32       62.77    280.1 \n",
       "YURKOV    4.72       63.44    276.4 \n",
       "ZSIVOCZKY 4.42       55.37    268.0 \n",
       "McMULLEN  4.42       56.37    285.1 "
      ]
     },
     "metadata": {},
     "output_type": "display_data"
    }
   ],
   "source": [
    "head(decathlon2.active)"
   ]
  },
  {
   "cell_type": "markdown",
   "metadata": {},
   "source": [
    "데이터를 비교 하기 위해서 모든 자료를 표준화 하여야 합니다. 이것은 다음과 같은 방식으로 진행 합니다.\n",
    "$$\n",
    "\\dfrac{x_i - mean(x)}{sd(x)}\n",
    "$$\n",
    "\n",
    "참조: FactoMineR 에서 표준화는 자동으로 하므로 표준화 작업을 할 필요는 없습니다."
   ]
  },
  {
   "cell_type": "markdown",
   "metadata": {},
   "source": [
    "PCA(X, scale.unit = TRUE, ncp = 5, graph = TRUE)  \n",
    "X: data frame  \n",
    "scale.unut: TRUE 면 표준화 로 변환  \n",
    "ncp:  최종 결과에서 나타날 차원  \n",
    "graph : TRUE 면 최종으로 그래프 표시  \n",
    "\n",
    "전날 분석 작업에는 prcomp() 함수를 사용했습니다.\n"
   ]
  },
  {
   "cell_type": "code",
   "execution_count": 11,
   "metadata": {},
   "outputs": [],
   "source": [
    "# 라이브러리 지정\n",
    "library(FactoMineR)"
   ]
  },
  {
   "cell_type": "code",
   "execution_count": 15,
   "metadata": {},
   "outputs": [],
   "source": [
    "# PCA 분석을 시행합니다.\n",
    "res.pca = PCA(decathlon2.active, graph = FALSE)"
   ]
  },
  {
   "cell_type": "code",
   "execution_count": 21,
   "metadata": {},
   "outputs": [
    {
     "name": "stdout",
     "output_type": "stream",
     "text": [
      "**Results for the Principal Component Analysis (PCA)**\n",
      "The analysis was performed on 23 individuals, described by 10 variables\n",
      "*The results are available in the following objects:\n",
      "\n",
      "   name               description                          \n",
      "1  \"$eig\"             \"eigenvalues\"                        \n",
      "2  \"$var\"             \"results for the variables\"          \n",
      "3  \"$var$coord\"       \"coord. for the variables\"           \n",
      "4  \"$var$cor\"         \"correlations variables - dimensions\"\n",
      "5  \"$var$cos2\"        \"cos2 for the variables\"             \n",
      "6  \"$var$contrib\"     \"contributions of the variables\"     \n",
      "7  \"$ind\"             \"results for the individuals\"        \n",
      "8  \"$ind$coord\"       \"coord. for the individuals\"         \n",
      "9  \"$ind$cos2\"        \"cos2 for the individuals\"           \n",
      "10 \"$ind$contrib\"     \"contributions of the individuals\"   \n",
      "11 \"$call\"            \"summary statistics\"                 \n",
      "12 \"$call$centre\"     \"mean of the variables\"              \n",
      "13 \"$call$ecart.type\" \"standard error of the variables\"    \n",
      "14 \"$call$row.w\"      \"weights for the individuals\"        \n",
      "15 \"$call$col.w\"      \"weights for the variables\"          \n"
     ]
    }
   ],
   "source": [
    "# 결과 를 출력해 봅니다. \n",
    "print(res.pca)"
   ]
  },
  {
   "cell_type": "markdown",
   "metadata": {},
   "source": [
    "## PCA 결과 해석 및 그래프"
   ]
  },
  {
   "cell_type": "markdown",
   "metadata": {},
   "source": [
    "PCA 분석에는 여러 패키지가 있습니다. stats::prcomp(), FactoMiner::PCA(), ade4::dudi.pca(), ExPosition::epPCA() 전날에는 prcomp() 를 사용했고 이번에는 PCA() 를 사용했습니다. 어떤 PCA 패키지를 사용하던, 결과를 뽑아서 factorextra R 패키지를 이용하여 그래프를 표현 할 수 있습니다.\n",
    "\n",
    "### 주성분 (Principal Component = Eigen Value/Variance) "
   ]
  },
  {
   "cell_type": "markdown",
   "metadata": {},
   "source": [
    "고유값은 주성분의 분산정도를 표시합니다. 따라서 분산정도가 큰값 즉 고유값이 큰값 순서로 주성분을 정합니다.  먼저 고유값을 출력해 봅니다."
   ]
  },
  {
   "cell_type": "code",
   "execution_count": 22,
   "metadata": {},
   "outputs": [],
   "source": [
    "# 라이브러리를 선택합니다.\n",
    "library(factoextra)"
   ]
  },
  {
   "cell_type": "code",
   "execution_count": 23,
   "metadata": {},
   "outputs": [
    {
     "data": {
      "text/html": [
       "<table>\n",
       "<thead><tr><th></th><th scope=col>eigenvalue</th><th scope=col>variance.percent</th><th scope=col>cumulative.variance.percent</th></tr></thead>\n",
       "<tbody>\n",
       "\t<tr><th scope=row>Dim.1</th><td>4.1242133</td><td>41.242133</td><td> 41.24213</td></tr>\n",
       "\t<tr><th scope=row>Dim.2</th><td>1.8385309</td><td>18.385309</td><td> 59.62744</td></tr>\n",
       "\t<tr><th scope=row>Dim.3</th><td>1.2391403</td><td>12.391403</td><td> 72.01885</td></tr>\n",
       "\t<tr><th scope=row>Dim.4</th><td>0.8194402</td><td> 8.194402</td><td> 80.21325</td></tr>\n",
       "\t<tr><th scope=row>Dim.5</th><td>0.7015528</td><td> 7.015528</td><td> 87.22878</td></tr>\n",
       "\t<tr><th scope=row>Dim.6</th><td>0.4228828</td><td> 4.228828</td><td> 91.45760</td></tr>\n",
       "\t<tr><th scope=row>Dim.7</th><td>0.3025817</td><td> 3.025817</td><td> 94.48342</td></tr>\n",
       "\t<tr><th scope=row>Dim.8</th><td>0.2744700</td><td> 2.744700</td><td> 97.22812</td></tr>\n",
       "\t<tr><th scope=row>Dim.9</th><td>0.1552169</td><td> 1.552169</td><td> 98.78029</td></tr>\n",
       "\t<tr><th scope=row>Dim.10</th><td>0.1219710</td><td> 1.219710</td><td>100.00000</td></tr>\n",
       "</tbody>\n",
       "</table>\n"
      ],
      "text/latex": [
       "\\begin{tabular}{r|lll}\n",
       "  & eigenvalue & variance.percent & cumulative.variance.percent\\\\\n",
       "\\hline\n",
       "\tDim.1 & 4.1242133 & 41.242133 &  41.24213\\\\\n",
       "\tDim.2 & 1.8385309 & 18.385309 &  59.62744\\\\\n",
       "\tDim.3 & 1.2391403 & 12.391403 &  72.01885\\\\\n",
       "\tDim.4 & 0.8194402 &  8.194402 &  80.21325\\\\\n",
       "\tDim.5 & 0.7015528 &  7.015528 &  87.22878\\\\\n",
       "\tDim.6 & 0.4228828 &  4.228828 &  91.45760\\\\\n",
       "\tDim.7 & 0.3025817 &  3.025817 &  94.48342\\\\\n",
       "\tDim.8 & 0.2744700 &  2.744700 &  97.22812\\\\\n",
       "\tDim.9 & 0.1552169 &  1.552169 &  98.78029\\\\\n",
       "\tDim.10 & 0.1219710 &  1.219710 & 100.00000\\\\\n",
       "\\end{tabular}\n"
      ],
      "text/markdown": [
       "\n",
       "| <!--/--> | eigenvalue | variance.percent | cumulative.variance.percent | \n",
       "|---|---|---|---|---|---|---|---|---|---|\n",
       "| Dim.1 | 4.1242133 | 41.242133 |  41.24213 | \n",
       "| Dim.2 | 1.8385309 | 18.385309 |  59.62744 | \n",
       "| Dim.3 | 1.2391403 | 12.391403 |  72.01885 | \n",
       "| Dim.4 | 0.8194402 |  8.194402 |  80.21325 | \n",
       "| Dim.5 | 0.7015528 |  7.015528 |  87.22878 | \n",
       "| Dim.6 | 0.4228828 |  4.228828 |  91.45760 | \n",
       "| Dim.7 | 0.3025817 |  3.025817 |  94.48342 | \n",
       "| Dim.8 | 0.2744700 |  2.744700 |  97.22812 | \n",
       "| Dim.9 | 0.1552169 |  1.552169 |  98.78029 | \n",
       "| Dim.10 | 0.1219710 |  1.219710 | 100.00000 | \n",
       "\n",
       "\n"
      ],
      "text/plain": [
       "       eigenvalue variance.percent cumulative.variance.percent\n",
       "Dim.1  4.1242133  41.242133         41.24213                  \n",
       "Dim.2  1.8385309  18.385309         59.62744                  \n",
       "Dim.3  1.2391403  12.391403         72.01885                  \n",
       "Dim.4  0.8194402   8.194402         80.21325                  \n",
       "Dim.5  0.7015528   7.015528         87.22878                  \n",
       "Dim.6  0.4228828   4.228828         91.45760                  \n",
       "Dim.7  0.3025817   3.025817         94.48342                  \n",
       "Dim.8  0.2744700   2.744700         97.22812                  \n",
       "Dim.9  0.1552169   1.552169         98.78029                  \n",
       "Dim.10 0.1219710   1.219710        100.00000                  "
      ]
     },
     "metadata": {},
     "output_type": "display_data"
    }
   ],
   "source": [
    "# 고유값을 출력합니다.\n",
    "eig.val = get_eigenvalue(res.pca)\n",
    "eig.val"
   ]
  },
  {
   "cell_type": "markdown",
   "metadata": {},
   "source": [
    "모두 10개의 고유값이 나왔습니다. 누적기여율을 보면, 처음이 41.24% 이고, 그다음까지는 59.62% 입니다. 이제 어디 까지 선택을 하여야 할 지 선택을 하여야 합니다. 고유값은 어디까지 주성분을 선택하여야 할 지를 알려 줍니다.  \n",
    "\n",
    "그러나 어디 까지 선택하여야 할지에 대한 일반적인 규칙은 아직 없으며, 영역에 맞게 적절하게 선택을 하여야 합니다.    \n",
    "\n",
    "이번 예제 에서는 72% 를 컷 오프로 하여 선택합니다. 이것은 일반적으로 많아 사용합니다.  \n",
    "\n",
    "또 다른 방법은 Screen Plot 을 이용하는 이용합니다. Screen Plot 은 고유값을 큰것부터 순서대로 막대그래프로 표현합니다.  \n",
    "\n",
    "이전에는 plot 을 이용하여 표현하였으니 여기선 fviz_eig() 나 또는 fivz_screenplot() 를 이용합니다. 대체적으로 5번쩨에서 cut-off 합니다."
   ]
  },
  {
   "cell_type": "code",
   "execution_count": 40,
   "metadata": {},
   "outputs": [
    {
     "data": {},
     "metadata": {},
     "output_type": "display_data"
    },
    {
     "data": {
      "image/png": "[encoded data removed]",
      "text/plain": [
       "plot without title"
      ]
     },
     "metadata": {},
     "output_type": "display_data"
    }
   ],
   "source": [
    "fviz_eig(res.pca, addlabels = TRUE, ylim = c(0,50))"
   ]
  },
  {
   "cell_type": "raw",
   "metadata": {},
   "source": [
    "이것을 일반적인 방법으로 그려 보면 다음과 같습니다.\n"
   ]
  },
  {
   "cell_type": "code",
   "execution_count": 49,
   "metadata": {},
   "outputs": [
    {
     "name": "stdout",
     "output_type": "stream",
     "text": [
      "List of 5\n",
      " $ eig : num [1:10, 1:3] 4.124 1.839 1.239 0.819 0.702 ...\n",
      "  ..- attr(*, \"dimnames\")=List of 2\n",
      "  .. ..$ : chr [1:10] \"comp 1\" \"comp 2\" \"comp 3\" \"comp 4\" ...\n",
      "  .. ..$ : chr [1:3] \"eigenvalue\" \"percentage of variance\" \"cumulative percentage of variance\"\n",
      " $ var :List of 4\n",
      "  ..$ coord  : num [1:10, 1:5] -0.851 0.794 0.734 0.61 -0.702 ...\n",
      "  .. ..- attr(*, \"dimnames\")=List of 2\n",
      "  .. .. ..$ : chr [1:10] \"X100m\" \"Long.jump\" \"Shot.put\" \"High.jump\" ...\n",
      "  .. .. ..$ : chr [1:5] \"Dim.1\" \"Dim.2\" \"Dim.3\" \"Dim.4\" ...\n",
      "  ..$ cor    : num [1:10, 1:5] -0.851 0.794 0.734 0.61 -0.702 ...\n",
      "  .. ..- attr(*, \"dimnames\")=List of 2\n",
      "  .. .. ..$ : chr [1:10] \"X100m\" \"Long.jump\" \"Shot.put\" \"High.jump\" ...\n",
      "  .. .. ..$ : chr [1:5] \"Dim.1\" \"Dim.2\" \"Dim.3\" \"Dim.4\" ...\n",
      "  ..$ cos2   : num [1:10, 1:5] 0.724 0.631 0.539 0.372 0.492 ...\n",
      "  .. ..- attr(*, \"dimnames\")=List of 2\n",
      "  .. .. ..$ : chr [1:10] \"X100m\" \"Long.jump\" \"Shot.put\" \"High.jump\" ...\n",
      "  .. .. ..$ : chr [1:5] \"Dim.1\" \"Dim.2\" \"Dim.3\" \"Dim.4\" ...\n",
      "  ..$ contrib: num [1:10, 1:5] 17.54 15.29 13.06 9.02 11.94 ...\n",
      "  .. ..- attr(*, \"dimnames\")=List of 2\n",
      "  .. .. ..$ : chr [1:10] \"X100m\" \"Long.jump\" \"Shot.put\" \"High.jump\" ...\n",
      "  .. .. ..$ : chr [1:5] \"Dim.1\" \"Dim.2\" \"Dim.3\" \"Dim.4\" ...\n",
      " $ ind :List of 4\n",
      "  ..$ coord  : num [1:23, 1:5] 0.196 0.808 -1.359 -0.889 -0.108 ...\n",
      "  .. ..- attr(*, \"dimnames\")=List of 2\n",
      "  .. .. ..$ : chr [1:23] \"SEBRLE\" \"CLAY\" \"BERNARD\" \"YURKOV\" ...\n",
      "  .. .. ..$ : chr [1:5] \"Dim.1\" \"Dim.2\" \"Dim.3\" \"Dim.4\" ...\n",
      "  ..$ cos2   : num [1:23, 1:5] 0.00753 0.0487 0.1972 0.09611 0.00157 ...\n",
      "  .. ..- attr(*, \"dimnames\")=List of 2\n",
      "  .. .. ..$ : chr [1:23] \"SEBRLE\" \"CLAY\" \"BERNARD\" \"YURKOV\" ...\n",
      "  .. .. ..$ : chr [1:5] \"Dim.1\" \"Dim.2\" \"Dim.3\" \"Dim.4\" ...\n",
      "  ..$ contrib: num [1:23, 1:5] 0.0403 0.6881 1.9474 0.8331 0.0123 ...\n",
      "  .. ..- attr(*, \"dimnames\")=List of 2\n",
      "  .. .. ..$ : chr [1:23] \"SEBRLE\" \"CLAY\" \"BERNARD\" \"YURKOV\" ...\n",
      "  .. .. ..$ : chr [1:5] \"Dim.1\" \"Dim.2\" \"Dim.3\" \"Dim.4\" ...\n",
      "  ..$ dist   : Named num [1:23] 2.25 3.66 3.06 2.87 2.72 ...\n",
      "  .. ..- attr(*, \"names\")= chr [1:23] \"SEBRLE\" \"CLAY\" \"BERNARD\" \"YURKOV\" ...\n",
      " $ svd :List of 3\n",
      "  ..$ vs: num [1:10] 2.031 1.356 1.113 0.905 0.838 ...\n",
      "  ..$ U : num [1:23, 1:5] 0.0963 0.3978 -0.6693 -0.4377 -0.0532 ...\n",
      "  ..$ V : num [1:10, 1:5] -0.419 0.391 0.361 0.3 -0.345 ...\n",
      " $ call:List of 9\n",
      "  ..$ row.w     : num [1:23] 0.0435 0.0435 0.0435 0.0435 0.0435 ...\n",
      "  ..$ col.w     : num [1:10] 1 1 1 1 1 1 1 1 1 1\n",
      "  ..$ scale.unit: logi TRUE\n",
      "  ..$ ncp       : num 5\n",
      "  ..$ centre    : num [1:10] 11 7.35 14.62 2.01 49.43 ...\n",
      "  ..$ ecart.type: num [1:10] 0.2945 0.3065 0.8261 0.0946 0.9849 ...\n",
      "  ..$ X         :'data.frame':\t23 obs. of  10 variables:\n",
      "  .. ..$ X100m       : num [1:23] 11 10.8 11 11.3 11.1 ...\n",
      "  .. ..$ Long.jump   : num [1:23] 7.58 7.4 7.23 7.09 7.3 7.31 6.81 7.56 6.97 7.27 ...\n",
      "  .. ..$ Shot.put    : num [1:23] 14.8 14.3 14.2 15.2 13.5 ...\n",
      "  .. ..$ High.jump   : num [1:23] 2.07 1.86 1.92 2.1 2.01 2.13 1.95 1.86 1.95 1.98 ...\n",
      "  .. ..$ X400m       : num [1:23] 49.8 49.4 48.9 50.4 48.6 ...\n",
      "  .. ..$ X110m.hurdle: num [1:23] 14.7 14.1 15 15.3 14.2 ...\n",
      "  .. ..$ Discus      : num [1:23] 43.8 50.7 40.9 46.3 45.7 ...\n",
      "  .. ..$ Pole.vault  : num [1:23] 5.02 4.92 5.32 4.72 4.42 4.42 4.92 4.82 4.72 4.62 ...\n",
      "  .. ..$ Javeline    : num [1:23] 63.2 60.1 62.8 63.4 55.4 ...\n",
      "  .. ..$ X1500m      : num [1:23] 292 302 280 276 268 ...\n",
      "  ..$ row.w.init: num [1:23] 1 1 1 1 1 1 1 1 1 1 ...\n",
      "  ..$ call      : language PCA(X = decathlon2.active,      graph = FALSE)\n",
      " - attr(*, \"class\")= chr [1:2] \"PCA\" \"list \"\n"
     ]
    }
   ],
   "source": [
    ".f = function() {\n",
    "Scree.Plot <- function(R,main=\"Scree Plot\",sub=NULL){\n",
    "  roots <- eigen(R)$values\n",
    "  x <- 1:dim(R)[1]\n",
    "  plot(x,roots,type=\"b\",col='blue',ylab=\"Eigenvalue\",\n",
    "       xlab=\"Component Number\",main=main,sub=sub) \n",
    "  abline(h=1,lty=2,col=\"red\")\n",
    "  \n",
    "}\n",
    "R <- cor(orange[,1:7])\n",
    "Scree.Plot(R,main =\"Scree Plot (Husson orange Data)\")\n",
    "}\n",
    "Scree.Plot = function(eigen_value, main=\"Screen Plot\", sub=NULL) {\n",
    "    x <- 1:dim(eigen_value)[1]\n",
    "    plot(x, eigen_value)\n",
    "}\n",
    "#Scree.Plot(eig.val)\n",
    "str(res.pca)"
   ]
  },
  {
   "cell_type": "markdown",
   "metadata": {},
   "source": [
    "누적 기여율이 87% 되는 5개의 PC 축을 선택하도록 합니다."
   ]
  },
  {
   "cell_type": "markdown",
   "metadata": {},
   "source": [
    "### 변수들의 그래프\n",
    "\n",
    "##### 결과"
   ]
  },
  {
   "cell_type": "markdown",
   "metadata": {},
   "source": [
    "결과를 가져오는 간단한 방법은 get_pac_var() 함수를 이용합니다."
   ]
  },
  {
   "cell_type": "code",
   "execution_count": 26,
   "metadata": {},
   "outputs": [
    {
     "name": "stdout",
     "output_type": "stream",
     "text": [
      "Principal Component Analysis Results for variables\n",
      " ===================================================\n",
      "  Name       Description                                    \n",
      "1 \"$coord\"   \"Coordinates for the variables\"                \n",
      "2 \"$cor\"     \"Correlations between variables and dimensions\"\n",
      "3 \"$cos2\"    \"Cos2 for the variables\"                       \n",
      "4 \"$contrib\" \"contributions of the variables\"               \n"
     ]
    }
   ],
   "source": [
    "var = get_pca_var(res.pca)\n",
    "print(var)"
   ]
  },
  {
   "cell_type": "markdown",
   "metadata": {},
   "source": [
    "* **var\\$coord** : 산점도를 그리기 위한 변수\n",
    "* **var\\$cos2** : var.coord \\* var.coord\n",
    "* **var\\$contrib** : 주성분 축에 기여하는 변수의 퍼센트 기여도. "
   ]
  },
  {
   "cell_type": "code",
   "execution_count": 28,
   "metadata": {},
   "outputs": [
    {
     "data": {
      "text/html": [
       "<table>\n",
       "<thead><tr><th></th><th scope=col>Dim.1</th><th scope=col>Dim.2</th><th scope=col>Dim.3</th><th scope=col>Dim.4</th><th scope=col>Dim.5</th></tr></thead>\n",
       "<tbody>\n",
       "\t<tr><th scope=row>X100m</th><td>-0.8506257 </td><td>-0.17939806</td><td> 0.3015564 </td><td> 0.03357320</td><td>-0.1944440 </td></tr>\n",
       "\t<tr><th scope=row>Long.jump</th><td> 0.7941806 </td><td> 0.28085695</td><td>-0.1905465 </td><td>-0.11538956</td><td> 0.2331567 </td></tr>\n",
       "\t<tr><th scope=row>Shot.put</th><td> 0.7339127 </td><td> 0.08540412</td><td> 0.5175978 </td><td> 0.12846837</td><td>-0.2488129 </td></tr>\n",
       "\t<tr><th scope=row>High.jump</th><td> 0.6100840 </td><td>-0.46521415</td><td> 0.3300852 </td><td> 0.14455012</td><td> 0.4027002 </td></tr>\n",
       "\t<tr><th scope=row>X400m</th><td>-0.7016034 </td><td> 0.29017826</td><td> 0.2835329 </td><td> 0.43082552</td><td> 0.1039085 </td></tr>\n",
       "\t<tr><th scope=row>X110m.hurdle</th><td>-0.7641252 </td><td>-0.02474081</td><td> 0.4488873 </td><td>-0.01689589</td><td> 0.2242200 </td></tr>\n",
       "</tbody>\n",
       "</table>\n"
      ],
      "text/latex": [
       "\\begin{tabular}{r|lllll}\n",
       "  & Dim.1 & Dim.2 & Dim.3 & Dim.4 & Dim.5\\\\\n",
       "\\hline\n",
       "\tX100m & -0.8506257  & -0.17939806 &  0.3015564  &  0.03357320 & -0.1944440 \\\\\n",
       "\tLong.jump &  0.7941806  &  0.28085695 & -0.1905465  & -0.11538956 &  0.2331567 \\\\\n",
       "\tShot.put &  0.7339127  &  0.08540412 &  0.5175978  &  0.12846837 & -0.2488129 \\\\\n",
       "\tHigh.jump &  0.6100840  & -0.46521415 &  0.3300852  &  0.14455012 &  0.4027002 \\\\\n",
       "\tX400m & -0.7016034  &  0.29017826 &  0.2835329  &  0.43082552 &  0.1039085 \\\\\n",
       "\tX110m.hurdle & -0.7641252  & -0.02474081 &  0.4488873  & -0.01689589 &  0.2242200 \\\\\n",
       "\\end{tabular}\n"
      ],
      "text/markdown": [
       "\n",
       "| <!--/--> | Dim.1 | Dim.2 | Dim.3 | Dim.4 | Dim.5 | \n",
       "|---|---|---|---|---|---|\n",
       "| X100m | -0.8506257  | -0.17939806 |  0.3015564  |  0.03357320 | -0.1944440  | \n",
       "| Long.jump |  0.7941806  |  0.28085695 | -0.1905465  | -0.11538956 |  0.2331567  | \n",
       "| Shot.put |  0.7339127  |  0.08540412 |  0.5175978  |  0.12846837 | -0.2488129  | \n",
       "| High.jump |  0.6100840  | -0.46521415 |  0.3300852  |  0.14455012 |  0.4027002  | \n",
       "| X400m | -0.7016034  |  0.29017826 |  0.2835329  |  0.43082552 |  0.1039085  | \n",
       "| X110m.hurdle | -0.7641252  | -0.02474081 |  0.4488873  | -0.01689589 |  0.2242200  | \n",
       "\n",
       "\n"
      ],
      "text/plain": [
       "             Dim.1      Dim.2       Dim.3      Dim.4       Dim.5     \n",
       "X100m        -0.8506257 -0.17939806  0.3015564  0.03357320 -0.1944440\n",
       "Long.jump     0.7941806  0.28085695 -0.1905465 -0.11538956  0.2331567\n",
       "Shot.put      0.7339127  0.08540412  0.5175978  0.12846837 -0.2488129\n",
       "High.jump     0.6100840 -0.46521415  0.3300852  0.14455012  0.4027002\n",
       "X400m        -0.7016034  0.29017826  0.2835329  0.43082552  0.1039085\n",
       "X110m.hurdle -0.7641252 -0.02474081  0.4488873 -0.01689589  0.2242200"
      ]
     },
     "metadata": {},
     "output_type": "display_data"
    }
   ],
   "source": [
    "# 값을 살펴보면\n",
    "head(var$coord)"
   ]
  },
  {
   "cell_type": "code",
   "execution_count": 30,
   "metadata": {},
   "outputs": [
    {
     "data": {
      "text/html": [
       "<table>\n",
       "<thead><tr><th></th><th scope=col>Dim.1</th><th scope=col>Dim.2</th><th scope=col>Dim.3</th><th scope=col>Dim.4</th><th scope=col>Dim.5</th></tr></thead>\n",
       "<tbody>\n",
       "\t<tr><th scope=row>X100m</th><td>0.7235641   </td><td>0.0321836641</td><td>0.09093628  </td><td>0.0011271597</td><td>0.03780845  </td></tr>\n",
       "\t<tr><th scope=row>Long.jump</th><td>0.6307229   </td><td>0.0788806285</td><td>0.03630798  </td><td>0.0133147506</td><td>0.05436203  </td></tr>\n",
       "\t<tr><th scope=row>Shot.put</th><td>0.5386279   </td><td>0.0072938636</td><td>0.26790749  </td><td>0.0165041211</td><td>0.06190783  </td></tr>\n",
       "\t<tr><th scope=row>High.jump</th><td>0.3722025   </td><td>0.2164242070</td><td>0.10895622  </td><td>0.0208947375</td><td>0.16216747  </td></tr>\n",
       "\t<tr><th scope=row>X400m</th><td>0.4922473   </td><td>0.0842034209</td><td>0.08039091  </td><td>0.1856106269</td><td>0.01079698  </td></tr>\n",
       "\t<tr><th scope=row>X110m.hurdle</th><td>0.5838873   </td><td>0.0006121077</td><td>0.20149984  </td><td>0.0002854712</td><td>0.05027463  </td></tr>\n",
       "</tbody>\n",
       "</table>\n"
      ],
      "text/latex": [
       "\\begin{tabular}{r|lllll}\n",
       "  & Dim.1 & Dim.2 & Dim.3 & Dim.4 & Dim.5\\\\\n",
       "\\hline\n",
       "\tX100m & 0.7235641    & 0.0321836641 & 0.09093628   & 0.0011271597 & 0.03780845  \\\\\n",
       "\tLong.jump & 0.6307229    & 0.0788806285 & 0.03630798   & 0.0133147506 & 0.05436203  \\\\\n",
       "\tShot.put & 0.5386279    & 0.0072938636 & 0.26790749   & 0.0165041211 & 0.06190783  \\\\\n",
       "\tHigh.jump & 0.3722025    & 0.2164242070 & 0.10895622   & 0.0208947375 & 0.16216747  \\\\\n",
       "\tX400m & 0.4922473    & 0.0842034209 & 0.08039091   & 0.1856106269 & 0.01079698  \\\\\n",
       "\tX110m.hurdle & 0.5838873    & 0.0006121077 & 0.20149984   & 0.0002854712 & 0.05027463  \\\\\n",
       "\\end{tabular}\n"
      ],
      "text/markdown": [
       "\n",
       "| <!--/--> | Dim.1 | Dim.2 | Dim.3 | Dim.4 | Dim.5 | \n",
       "|---|---|---|---|---|---|\n",
       "| X100m | 0.7235641    | 0.0321836641 | 0.09093628   | 0.0011271597 | 0.03780845   | \n",
       "| Long.jump | 0.6307229    | 0.0788806285 | 0.03630798   | 0.0133147506 | 0.05436203   | \n",
       "| Shot.put | 0.5386279    | 0.0072938636 | 0.26790749   | 0.0165041211 | 0.06190783   | \n",
       "| High.jump | 0.3722025    | 0.2164242070 | 0.10895622   | 0.0208947375 | 0.16216747   | \n",
       "| X400m | 0.4922473    | 0.0842034209 | 0.08039091   | 0.1856106269 | 0.01079698   | \n",
       "| X110m.hurdle | 0.5838873    | 0.0006121077 | 0.20149984   | 0.0002854712 | 0.05027463   | \n",
       "\n",
       "\n"
      ],
      "text/plain": [
       "             Dim.1     Dim.2        Dim.3      Dim.4        Dim.5     \n",
       "X100m        0.7235641 0.0321836641 0.09093628 0.0011271597 0.03780845\n",
       "Long.jump    0.6307229 0.0788806285 0.03630798 0.0133147506 0.05436203\n",
       "Shot.put     0.5386279 0.0072938636 0.26790749 0.0165041211 0.06190783\n",
       "High.jump    0.3722025 0.2164242070 0.10895622 0.0208947375 0.16216747\n",
       "X400m        0.4922473 0.0842034209 0.08039091 0.1856106269 0.01079698\n",
       "X110m.hurdle 0.5838873 0.0006121077 0.20149984 0.0002854712 0.05027463"
      ]
     },
     "metadata": {},
     "output_type": "display_data"
    }
   ],
   "source": [
    "head(var$cos2)"
   ]
  },
  {
   "cell_type": "code",
   "execution_count": 31,
   "metadata": {},
   "outputs": [
    {
     "data": {
      "text/html": [
       "<table>\n",
       "<thead><tr><th></th><th scope=col>Dim.1</th><th scope=col>Dim.2</th><th scope=col>Dim.3</th><th scope=col>Dim.4</th><th scope=col>Dim.5</th></tr></thead>\n",
       "<tbody>\n",
       "\t<tr><th scope=row>X100m</th><td>17.544293  </td><td> 1.7505098 </td><td> 7.338659  </td><td> 0.13755240</td><td> 5.389252  </td></tr>\n",
       "\t<tr><th scope=row>Long.jump</th><td>15.293168  </td><td> 4.2904162 </td><td> 2.930094  </td><td> 1.62485936</td><td> 7.748815  </td></tr>\n",
       "\t<tr><th scope=row>Shot.put</th><td>13.060137  </td><td> 0.3967224 </td><td>21.620432  </td><td> 2.01407269</td><td> 8.824401  </td></tr>\n",
       "\t<tr><th scope=row>High.jump</th><td> 9.024811  </td><td>11.7715838 </td><td> 8.792888  </td><td> 2.54987951</td><td>23.115504  </td></tr>\n",
       "\t<tr><th scope=row>X400m</th><td>11.935544  </td><td> 4.5799296 </td><td> 6.487636  </td><td>22.65090599</td><td> 1.539012  </td></tr>\n",
       "\t<tr><th scope=row>X110m.hurdle</th><td>14.157544  </td><td> 0.0332933 </td><td>16.261261  </td><td> 0.03483735</td><td> 7.166193  </td></tr>\n",
       "</tbody>\n",
       "</table>\n"
      ],
      "text/latex": [
       "\\begin{tabular}{r|lllll}\n",
       "  & Dim.1 & Dim.2 & Dim.3 & Dim.4 & Dim.5\\\\\n",
       "\\hline\n",
       "\tX100m & 17.544293   &  1.7505098  &  7.338659   &  0.13755240 &  5.389252  \\\\\n",
       "\tLong.jump & 15.293168   &  4.2904162  &  2.930094   &  1.62485936 &  7.748815  \\\\\n",
       "\tShot.put & 13.060137   &  0.3967224  & 21.620432   &  2.01407269 &  8.824401  \\\\\n",
       "\tHigh.jump &  9.024811   & 11.7715838  &  8.792888   &  2.54987951 & 23.115504  \\\\\n",
       "\tX400m & 11.935544   &  4.5799296  &  6.487636   & 22.65090599 &  1.539012  \\\\\n",
       "\tX110m.hurdle & 14.157544   &  0.0332933  & 16.261261   &  0.03483735 &  7.166193  \\\\\n",
       "\\end{tabular}\n"
      ],
      "text/markdown": [
       "\n",
       "| <!--/--> | Dim.1 | Dim.2 | Dim.3 | Dim.4 | Dim.5 | \n",
       "|---|---|---|---|---|---|\n",
       "| X100m | 17.544293   |  1.7505098  |  7.338659   |  0.13755240 |  5.389252   | \n",
       "| Long.jump | 15.293168   |  4.2904162  |  2.930094   |  1.62485936 |  7.748815   | \n",
       "| Shot.put | 13.060137   |  0.3967224  | 21.620432   |  2.01407269 |  8.824401   | \n",
       "| High.jump |  9.024811   | 11.7715838  |  8.792888   |  2.54987951 | 23.115504   | \n",
       "| X400m | 11.935544   |  4.5799296  |  6.487636   | 22.65090599 |  1.539012   | \n",
       "| X110m.hurdle | 14.157544   |  0.0332933  | 16.261261   |  0.03483735 |  7.166193   | \n",
       "\n",
       "\n"
      ],
      "text/plain": [
       "             Dim.1     Dim.2      Dim.3     Dim.4       Dim.5    \n",
       "X100m        17.544293  1.7505098  7.338659  0.13755240  5.389252\n",
       "Long.jump    15.293168  4.2904162  2.930094  1.62485936  7.748815\n",
       "Shot.put     13.060137  0.3967224 21.620432  2.01407269  8.824401\n",
       "High.jump     9.024811 11.7715838  8.792888  2.54987951 23.115504\n",
       "X400m        11.935544  4.5799296  6.487636 22.65090599  1.539012\n",
       "X110m.hurdle 14.157544  0.0332933 16.261261  0.03483735  7.166193"
      ]
     },
     "metadata": {},
     "output_type": "display_data"
    }
   ],
   "source": [
    "head(var$contrib)"
   ]
  },
  {
   "cell_type": "markdown",
   "metadata": {},
   "source": [
    "### 상관도 원 (Correlation circle)\n",
    "\n",
    "PC(principal component) 와 변수 사이의 상관관계."
   ]
  },
  {
   "cell_type": "code",
   "execution_count": 32,
   "metadata": {},
   "outputs": [
    {
     "data": {
      "text/html": [
       "<table>\n",
       "<thead><tr><th></th><th scope=col>Dim.1</th><th scope=col>Dim.2</th><th scope=col>Dim.3</th><th scope=col>Dim.4</th><th scope=col>Dim.5</th></tr></thead>\n",
       "<tbody>\n",
       "\t<tr><th scope=row>X100m</th><td>-0.8506257 </td><td>-0.17939806</td><td> 0.3015564 </td><td> 0.0335732 </td><td>-0.1944440 </td></tr>\n",
       "\t<tr><th scope=row>Long.jump</th><td> 0.7941806 </td><td> 0.28085695</td><td>-0.1905465 </td><td>-0.1153896 </td><td> 0.2331567 </td></tr>\n",
       "\t<tr><th scope=row>Shot.put</th><td> 0.7339127 </td><td> 0.08540412</td><td> 0.5175978 </td><td> 0.1284684 </td><td>-0.2488129 </td></tr>\n",
       "\t<tr><th scope=row>High.jump</th><td> 0.6100840 </td><td>-0.46521415</td><td> 0.3300852 </td><td> 0.1445501 </td><td> 0.4027002 </td></tr>\n",
       "</tbody>\n",
       "</table>\n"
      ],
      "text/latex": [
       "\\begin{tabular}{r|lllll}\n",
       "  & Dim.1 & Dim.2 & Dim.3 & Dim.4 & Dim.5\\\\\n",
       "\\hline\n",
       "\tX100m & -0.8506257  & -0.17939806 &  0.3015564  &  0.0335732  & -0.1944440 \\\\\n",
       "\tLong.jump &  0.7941806  &  0.28085695 & -0.1905465  & -0.1153896  &  0.2331567 \\\\\n",
       "\tShot.put &  0.7339127  &  0.08540412 &  0.5175978  &  0.1284684  & -0.2488129 \\\\\n",
       "\tHigh.jump &  0.6100840  & -0.46521415 &  0.3300852  &  0.1445501  &  0.4027002 \\\\\n",
       "\\end{tabular}\n"
      ],
      "text/markdown": [
       "\n",
       "| <!--/--> | Dim.1 | Dim.2 | Dim.3 | Dim.4 | Dim.5 | \n",
       "|---|---|---|---|\n",
       "| X100m | -0.8506257  | -0.17939806 |  0.3015564  |  0.0335732  | -0.1944440  | \n",
       "| Long.jump |  0.7941806  |  0.28085695 | -0.1905465  | -0.1153896  |  0.2331567  | \n",
       "| Shot.put |  0.7339127  |  0.08540412 |  0.5175978  |  0.1284684  | -0.2488129  | \n",
       "| High.jump |  0.6100840  | -0.46521415 |  0.3300852  |  0.1445501  |  0.4027002  | \n",
       "\n",
       "\n"
      ],
      "text/plain": [
       "          Dim.1      Dim.2       Dim.3      Dim.4      Dim.5     \n",
       "X100m     -0.8506257 -0.17939806  0.3015564  0.0335732 -0.1944440\n",
       "Long.jump  0.7941806  0.28085695 -0.1905465 -0.1153896  0.2331567\n",
       "Shot.put   0.7339127  0.08540412  0.5175978  0.1284684 -0.2488129\n",
       "High.jump  0.6100840 -0.46521415  0.3300852  0.1445501  0.4027002"
      ]
     },
     "metadata": {},
     "output_type": "display_data"
    }
   ],
   "source": [
    "head(var$coord, 4)"
   ]
  },
  {
   "cell_type": "code",
   "execution_count": 36,
   "metadata": {},
   "outputs": [
    {
     "data": {},
     "metadata": {},
     "output_type": "display_data"
    },
    {
     "data": {
      "image/png": "[encoded data removed]",
      "text/plain": [
       "plot without title"
      ]
     },
     "metadata": {},
     "output_type": "display_data"
    }
   ],
   "source": [
    "# 그래프는 다음과 같다.\n",
    "fviz_pca_var(res.pca, cor.var=\"black\")"
   ]
  },
  {
   "cell_type": "markdown",
   "metadata": {},
   "source": [
    "* "
   ]
  }
 ],
 "metadata": {
  "kernelspec": {
   "display_name": "R",
   "language": "R",
   "name": "ir"
  },
  "language_info": {
   "codemirror_mode": "r",
   "file_extension": ".r",
   "mimetype": "text/x-r-source",
   "name": "R",
   "pygments_lexer": "r",
   "version": "3.4.3"
  }
 },
 "nbformat": 4,
 "nbformat_minor": 2
}
