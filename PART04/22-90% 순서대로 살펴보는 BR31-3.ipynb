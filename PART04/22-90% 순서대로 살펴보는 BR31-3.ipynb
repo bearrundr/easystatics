{
 "cells": [
  {
   "cell_type": "markdown",
   "metadata": {},
   "source": [
    "# <span style=\"color:blue\"> 이토록 쉬운 통계 & R </span>"
   ]
  },
  {
   "cell_type": "markdown",
   "metadata": {},
   "source": [
    "<img src=\"../image/cover.png\" width=\"200\" height=\"400\" align=\"left\">  임경덕 지음"
   ]
  },
  {
   "cell_type": "markdown",
   "metadata": {},
   "source": [
    "## PART 4 데이터 분석 도구, R"
   ]
  },
  {
   "cell_type": "markdown",
   "metadata": {},
   "source": [
    "## 90% 순서대로 살펴보는 BR31-3 (33일차)"
   ]
  },
  {
   "cell_type": "markdown",
   "metadata": {},
   "source": [
    "   * 데이타프로젝트 (http://dataproject.xyz) 또는 (http://cafe.naver.com/dataartproject) 에 미리 저장된 스크립트를 다운 받을 수 있습니다.\n",
    "   * 스크립트를 활용하면 직접 명령어를 입력하지 않고 저장된 명령어들을 실행할 수 있습니다.\n",
    "   * 지금 설치된 R 버젼은 3.4.3 입니다. 제목 BR31 은 Basic R 31 로 3.1 버젼입니다. 그러나 큰 차이는 없을 것 같습니다.\n",
    "   * page 262 read.csv() 함수부터\n"
   ]
  },
  {
   "cell_type": "markdown",
   "metadata": {},
   "source": [
    "### 데이터 파일은 dataartproject.xyz 에 있습니다."
   ]
  },
  {
   "cell_type": "code",
   "execution_count": 3,
   "metadata": {},
   "outputs": [
    {
     "data": {
      "text/html": [
       "<table>\n",
       "<thead><tr><th scope=col>Gender</th><th scope=col>Salary</th></tr></thead>\n",
       "<tbody>\n",
       "\t<tr><td>M  </td><td>100</td></tr>\n",
       "\t<tr><td>M  </td><td>200</td></tr>\n",
       "\t<tr><td>F  </td><td>300</td></tr>\n",
       "\t<tr><td>M  </td><td>400</td></tr>\n",
       "\t<tr><td>F  </td><td>500</td></tr>\n",
       "</tbody>\n",
       "</table>\n"
      ],
      "text/latex": [
       "\\begin{tabular}{r|ll}\n",
       " Gender & Salary\\\\\n",
       "\\hline\n",
       "\t M   & 100\\\\\n",
       "\t M   & 200\\\\\n",
       "\t F   & 300\\\\\n",
       "\t M   & 400\\\\\n",
       "\t F   & 500\\\\\n",
       "\\end{tabular}\n"
      ],
      "text/markdown": [
       "\n",
       "Gender | Salary | \n",
       "|---|---|---|---|---|\n",
       "| M   | 100 | \n",
       "| M   | 200 | \n",
       "| F   | 300 | \n",
       "| M   | 400 | \n",
       "| F   | 500 | \n",
       "\n",
       "\n"
      ],
      "text/plain": [
       "  Gender Salary\n",
       "1 M      100   \n",
       "2 M      200   \n",
       "3 F      300   \n",
       "4 M      400   \n",
       "5 F      500   "
      ]
     },
     "metadata": {},
     "output_type": "display_data"
    }
   ],
   "source": [
    "# read.csv 함수로 csv 파일 읽어오기\n",
    "# csv 는 comma seperated value 로 필드가 구분을 comma 로 합니다.\n",
    "# 현재 폴더에 Practive/data 폴더 안에 파일들이 들어 있습니다.\n",
    "read.csv(\"Practice/data/sample1.csv\")"
   ]
  },
  {
   "cell_type": "code",
   "execution_count": 5,
   "metadata": {},
   "outputs": [],
   "source": [
    "# sample1.csv 파일을 읽어 data1 에 넣습니다.\n",
    "data1 = read.csv(\"Practice/data/sample1.csv\")"
   ]
  },
  {
   "cell_type": "code",
   "execution_count": 6,
   "metadata": {},
   "outputs": [
    {
     "data": {
      "text/html": [
       "<table>\n",
       "<thead><tr><th scope=col>Gender</th><th scope=col>Salary</th></tr></thead>\n",
       "<tbody>\n",
       "\t<tr><td>M  </td><td>100</td></tr>\n",
       "\t<tr><td>M  </td><td>200</td></tr>\n",
       "\t<tr><td>F  </td><td>300</td></tr>\n",
       "\t<tr><td>M  </td><td>400</td></tr>\n",
       "\t<tr><td>F  </td><td>500</td></tr>\n",
       "</tbody>\n",
       "</table>\n"
      ],
      "text/latex": [
       "\\begin{tabular}{r|ll}\n",
       " Gender & Salary\\\\\n",
       "\\hline\n",
       "\t M   & 100\\\\\n",
       "\t M   & 200\\\\\n",
       "\t F   & 300\\\\\n",
       "\t M   & 400\\\\\n",
       "\t F   & 500\\\\\n",
       "\\end{tabular}\n"
      ],
      "text/markdown": [
       "\n",
       "Gender | Salary | \n",
       "|---|---|---|---|---|\n",
       "| M   | 100 | \n",
       "| M   | 200 | \n",
       "| F   | 300 | \n",
       "| M   | 400 | \n",
       "| F   | 500 | \n",
       "\n",
       "\n"
      ],
      "text/plain": [
       "  Gender Salary\n",
       "1 M      100   \n",
       "2 M      200   \n",
       "3 F      300   \n",
       "4 M      400   \n",
       "5 F      500   "
      ]
     },
     "metadata": {},
     "output_type": "display_data"
    }
   ],
   "source": [
    "# data1 표시\n",
    "data1"
   ]
  },
  {
   "cell_type": "code",
   "execution_count": 11,
   "metadata": {},
   "outputs": [
    {
     "data": {
      "text/html": [
       "<table>\n",
       "<thead><tr><th scope=col>Gender</th><th scope=col>Salary</th></tr></thead>\n",
       "<tbody>\n",
       "\t<tr><td>M  </td><td>100</td></tr>\n",
       "\t<tr><td>M  </td><td>200</td></tr>\n",
       "\t<tr><td>F  </td><td>300</td></tr>\n",
       "\t<tr><td>M  </td><td>400</td></tr>\n",
       "\t<tr><td>F  </td><td>500</td></tr>\n",
       "</tbody>\n",
       "</table>\n"
      ],
      "text/latex": [
       "\\begin{tabular}{r|ll}\n",
       " Gender & Salary\\\\\n",
       "\\hline\n",
       "\t M   & 100\\\\\n",
       "\t M   & 200\\\\\n",
       "\t F   & 300\\\\\n",
       "\t M   & 400\\\\\n",
       "\t F   & 500\\\\\n",
       "\\end{tabular}\n"
      ],
      "text/markdown": [
       "\n",
       "Gender | Salary | \n",
       "|---|---|---|---|---|\n",
       "| M   | 100 | \n",
       "| M   | 200 | \n",
       "| F   | 300 | \n",
       "| M   | 400 | \n",
       "| F   | 500 | \n",
       "\n",
       "\n"
      ],
      "text/plain": [
       "  Gender Salary\n",
       "1 M      100   \n",
       "2 M      200   \n",
       "3 F      300   \n",
       "4 M      400   \n",
       "5 F      500   "
      ]
     },
     "metadata": {},
     "output_type": "display_data"
    }
   ],
   "source": [
    "head(data1)"
   ]
  },
  {
   "cell_type": "markdown",
   "metadata": {},
   "source": [
    "   * 5 개의 관측치가 있습니다.\n",
    "   * 2개의 변수가 있으면 각각 변수명은 Gender, Salary 입니다.\n",
    "   * 파일을 열어보면, header(컬렴명) 가 있습니다."
   ]
  },
  {
   "cell_type": "code",
   "execution_count": 7,
   "metadata": {},
   "outputs": [
    {
     "data": {
      "text/html": [
       "<table>\n",
       "<thead><tr><th scope=col>High</th><th scope=col>X8</th></tr></thead>\n",
       "<tbody>\n",
       "\t<tr><td>Low   </td><td>6     </td></tr>\n",
       "\t<tr><td>Middle</td><td>7     </td></tr>\n",
       "</tbody>\n",
       "</table>\n"
      ],
      "text/latex": [
       "\\begin{tabular}{r|ll}\n",
       " High & X8\\\\\n",
       "\\hline\n",
       "\t Low    & 6     \\\\\n",
       "\t Middle & 7     \\\\\n",
       "\\end{tabular}\n"
      ],
      "text/markdown": [
       "\n",
       "High | X8 | \n",
       "|---|---|\n",
       "| Low    | 6      | \n",
       "| Middle | 7      | \n",
       "\n",
       "\n"
      ],
      "text/plain": [
       "  High   X8\n",
       "1 Low    6 \n",
       "2 Middle 7 "
      ]
     },
     "metadata": {},
     "output_type": "display_data"
    }
   ],
   "source": [
    "# sample2 파일을 보면\n",
    "read.csv(\"Practice/data/sample2.csv\")"
   ]
  },
  {
   "cell_type": "markdown",
   "metadata": {},
   "source": [
    "   * Sample 2 인 경우에는 header 가 없습니다.\n",
    "   * 이 경우에는 header option 을 설정합니다."
   ]
  },
  {
   "cell_type": "code",
   "execution_count": 9,
   "metadata": {},
   "outputs": [
    {
     "data": {
      "text/html": [
       "<table>\n",
       "<thead><tr><th scope=col>V1</th><th scope=col>V2</th></tr></thead>\n",
       "<tbody>\n",
       "\t<tr><td>High  </td><td>8     </td></tr>\n",
       "\t<tr><td>Low   </td><td>6     </td></tr>\n",
       "\t<tr><td>Middle</td><td>7     </td></tr>\n",
       "</tbody>\n",
       "</table>\n"
      ],
      "text/latex": [
       "\\begin{tabular}{r|ll}\n",
       " V1 & V2\\\\\n",
       "\\hline\n",
       "\t High   & 8     \\\\\n",
       "\t Low    & 6     \\\\\n",
       "\t Middle & 7     \\\\\n",
       "\\end{tabular}\n"
      ],
      "text/markdown": [
       "\n",
       "V1 | V2 | \n",
       "|---|---|---|\n",
       "| High   | 8      | \n",
       "| Low    | 6      | \n",
       "| Middle | 7      | \n",
       "\n",
       "\n"
      ],
      "text/plain": [
       "  V1     V2\n",
       "1 High   8 \n",
       "2 Low    6 \n",
       "3 Middle 7 "
      ]
     },
     "metadata": {},
     "output_type": "display_data"
    }
   ],
   "source": [
    "# header option 을 false 로 하면, 자동적으로 변수명을 v1, v2,... 로 지정합니다.\n",
    "read.csv(\"Practice/data/sample2.csv\", header=FALSE)"
   ]
  },
  {
   "cell_type": "code",
   "execution_count": 46,
   "metadata": {},
   "outputs": [],
   "source": [
    "# head() 함수로 관측치 확인하기\n",
    "subway = read.csv(\"Practice/data/subway.csv\")"
   ]
  },
  {
   "cell_type": "code",
   "execution_count": 47,
   "metadata": {},
   "outputs": [
    {
     "data": {
      "text/html": [
       "<table>\n",
       "<thead><tr><th scope=col>역명</th><th scope=col>날짜</th><th scope=col>구분</th><th scope=col>X05.06시</th><th scope=col>X06.07시</th><th scope=col>X07.08시</th><th scope=col>X08.09시</th><th scope=col>X09.10시</th><th scope=col>X10.11시</th><th scope=col>X11.12시</th><th scope=col>⋯</th><th scope=col>X16.17시</th><th scope=col>X17.18시</th><th scope=col>X18.19시</th><th scope=col>X19.20시</th><th scope=col>X20.21시</th><th scope=col>X21.22시</th><th scope=col>X22.23시</th><th scope=col>X23.24시</th><th scope=col>X00.01시</th><th scope=col>X01.02시</th></tr></thead>\n",
       "<tbody>\n",
       "\t<tr><td>서울역(150)</td><td>2016-12-01 </td><td>승차       </td><td>411        </td><td> 552       </td><td>1792       </td><td> 3429      </td><td>2737       </td><td>2430       </td><td>3161       </td><td>⋯          </td><td>4145       </td><td>4984       </td><td> 9595      </td><td>5217       </td><td>3492       </td><td>3978       </td><td>2742       </td><td>1380       </td><td>198        </td><td>  0        </td></tr>\n",
       "\t<tr><td>서울역(150)</td><td>2016-12-01 </td><td>하차       </td><td>280        </td><td>1680       </td><td>4629       </td><td>10313      </td><td>5586       </td><td>2920       </td><td>2673       </td><td>⋯          </td><td>2905       </td><td>3084       </td><td> 3715      </td><td>2723       </td><td>1794       </td><td>1657       </td><td>1533       </td><td> 761       </td><td>373        </td><td> 32        </td></tr>\n",
       "\t<tr><td>서울역(150)</td><td>2016-12-02 </td><td>승차       </td><td>434        </td><td> 520       </td><td>1695       </td><td> 3456      </td><td>2848       </td><td>2568       </td><td>3398       </td><td>⋯          </td><td>5180       </td><td>6141       </td><td>10682      </td><td>6169       </td><td>4169       </td><td>4479       </td><td>4554       </td><td>1794       </td><td>443        </td><td>  0        </td></tr>\n",
       "\t<tr><td>서울역(150)</td><td>2016-12-02 </td><td>하차       </td><td>255        </td><td>1609       </td><td>4504       </td><td>10225      </td><td>5322       </td><td>3050       </td><td>2435       </td><td>⋯          </td><td>3692       </td><td>3545       </td><td> 5575      </td><td>3389       </td><td>2141       </td><td>2076       </td><td>1928       </td><td>1074       </td><td>547        </td><td> 64        </td></tr>\n",
       "\t<tr><td>서울역(150)</td><td>2016-12-03 </td><td>승차       </td><td>543        </td><td> 467       </td><td> 982       </td><td> 2080      </td><td>3000       </td><td>3077       </td><td>4340       </td><td>⋯          </td><td>8023       </td><td>6418       </td><td> 6575      </td><td>4904       </td><td>4742       </td><td>4683       </td><td>4654       </td><td>1697       </td><td>228        </td><td>  0        </td></tr>\n",
       "\t<tr><td>서울역(150)</td><td>2016-12-03 </td><td>하차       </td><td>260        </td><td>1355       </td><td>1853       </td><td> 2337      </td><td>3223       </td><td>3218       </td><td>3230       </td><td>⋯          </td><td>5384       </td><td>6014       </td><td> 5494      </td><td>3803       </td><td>3440       </td><td>3771       </td><td>3317       </td><td>1642       </td><td>837        </td><td>131        </td></tr>\n",
       "</tbody>\n",
       "</table>\n"
      ],
      "text/latex": [
       "\\begin{tabular}{r|llllllllllllllllllllllll}\n",
       " 역명 & 날짜 & 구분 & X05.06시 & X06.07시 & X07.08시 & X08.09시 & X09.10시 & X10.11시 & X11.12시 & ⋯ & X16.17시 & X17.18시 & X18.19시 & X19.20시 & X20.21시 & X21.22시 & X22.23시 & X23.24시 & X00.01시 & X01.02시\\\\\n",
       "\\hline\n",
       "\t 서울역(150) & 2016-12-01  & 승차        & 411         &  552        & 1792        &  3429       & 2737        & 2430        & 3161        & ⋯           & 4145        & 4984        &  9595       & 5217        & 3492        & 3978        & 2742        & 1380        & 198         &   0        \\\\\n",
       "\t 서울역(150) & 2016-12-01  & 하차        & 280         & 1680        & 4629        & 10313       & 5586        & 2920        & 2673        & ⋯           & 2905        & 3084        &  3715       & 2723        & 1794        & 1657        & 1533        &  761        & 373         &  32        \\\\\n",
       "\t 서울역(150) & 2016-12-02  & 승차        & 434         &  520        & 1695        &  3456       & 2848        & 2568        & 3398        & ⋯           & 5180        & 6141        & 10682       & 6169        & 4169        & 4479        & 4554        & 1794        & 443         &   0        \\\\\n",
       "\t 서울역(150) & 2016-12-02  & 하차        & 255         & 1609        & 4504        & 10225       & 5322        & 3050        & 2435        & ⋯           & 3692        & 3545        &  5575       & 3389        & 2141        & 2076        & 1928        & 1074        & 547         &  64        \\\\\n",
       "\t 서울역(150) & 2016-12-03  & 승차        & 543         &  467        &  982        &  2080       & 3000        & 3077        & 4340        & ⋯           & 8023        & 6418        &  6575       & 4904        & 4742        & 4683        & 4654        & 1697        & 228         &   0        \\\\\n",
       "\t 서울역(150) & 2016-12-03  & 하차        & 260         & 1355        & 1853        &  2337       & 3223        & 3218        & 3230        & ⋯           & 5384        & 6014        &  5494       & 3803        & 3440        & 3771        & 3317        & 1642        & 837         & 131        \\\\\n",
       "\\end{tabular}\n"
      ],
      "text/markdown": [
       "\n",
       "역명 | 날짜 | 구분 | X05.06시 | X06.07시 | X07.08시 | X08.09시 | X09.10시 | X10.11시 | X11.12시 | ⋯ | X16.17시 | X17.18시 | X18.19시 | X19.20시 | X20.21시 | X21.22시 | X22.23시 | X23.24시 | X00.01시 | X01.02시 | \n",
       "|---|---|---|---|---|---|\n",
       "| 서울역(150) | 2016-12-01  | 승차        | 411         |  552        | 1792        |  3429       | 2737        | 2430        | 3161        | ⋯           | 4145        | 4984        |  9595       | 5217        | 3492        | 3978        | 2742        | 1380        | 198         |   0         | \n",
       "| 서울역(150) | 2016-12-01  | 하차        | 280         | 1680        | 4629        | 10313       | 5586        | 2920        | 2673        | ⋯           | 2905        | 3084        |  3715       | 2723        | 1794        | 1657        | 1533        |  761        | 373         |  32         | \n",
       "| 서울역(150) | 2016-12-02  | 승차        | 434         |  520        | 1695        |  3456       | 2848        | 2568        | 3398        | ⋯           | 5180        | 6141        | 10682       | 6169        | 4169        | 4479        | 4554        | 1794        | 443         |   0         | \n",
       "| 서울역(150) | 2016-12-02  | 하차        | 255         | 1609        | 4504        | 10225       | 5322        | 3050        | 2435        | ⋯           | 3692        | 3545        |  5575       | 3389        | 2141        | 2076        | 1928        | 1074        | 547         |  64         | \n",
       "| 서울역(150) | 2016-12-03  | 승차        | 543         |  467        |  982        |  2080       | 3000        | 3077        | 4340        | ⋯           | 8023        | 6418        |  6575       | 4904        | 4742        | 4683        | 4654        | 1697        | 228         |   0         | \n",
       "| 서울역(150) | 2016-12-03  | 하차        | 260         | 1355        | 1853        |  2337       | 3223        | 3218        | 3230        | ⋯           | 5384        | 6014        |  5494       | 3803        | 3440        | 3771        | 3317        | 1642        | 837         | 131         | \n",
       "\n",
       "\n"
      ],
      "text/plain": [
       "  역명        날짜       구분 X05.06시 X06.07시 X07.08시 X08.09시 X09.10시\n",
       "1 서울역(150) 2016-12-01 승차 411       552     1792      3429    2737    \n",
       "2 서울역(150) 2016-12-01 하차 280      1680     4629     10313    5586    \n",
       "3 서울역(150) 2016-12-02 승차 434       520     1695      3456    2848    \n",
       "4 서울역(150) 2016-12-02 하차 255      1609     4504     10225    5322    \n",
       "5 서울역(150) 2016-12-03 승차 543       467      982      2080    3000    \n",
       "6 서울역(150) 2016-12-03 하차 260      1355     1853      2337    3223    \n",
       "  X10.11시 X11.12시 ⋯ X16.17시 X17.18시 X18.19시 X19.20시 X20.21시 X21.22시\n",
       "1 2430     3161     ⋯ 4145     4984      9595    5217     3492     3978    \n",
       "2 2920     2673     ⋯ 2905     3084      3715    2723     1794     1657    \n",
       "3 2568     3398     ⋯ 5180     6141     10682    6169     4169     4479    \n",
       "4 3050     2435     ⋯ 3692     3545      5575    3389     2141     2076    \n",
       "5 3077     4340     ⋯ 8023     6418      6575    4904     4742     4683    \n",
       "6 3218     3230     ⋯ 5384     6014      5494    3803     3440     3771    \n",
       "  X22.23시 X23.24시 X00.01시 X01.02시\n",
       "1 2742     1380     198        0     \n",
       "2 1533      761     373       32     \n",
       "3 4554     1794     443        0     \n",
       "4 1928     1074     547       64     \n",
       "5 4654     1697     228        0     \n",
       "6 3317     1642     837      131     "
      ]
     },
     "metadata": {},
     "output_type": "display_data"
    }
   ],
   "source": [
    "head(subway)"
   ]
  },
  {
   "cell_type": "markdown",
   "metadata": {},
   "source": [
    "   * subway.csv 파일은 cp-949 한글코드로 되어 있으므로, 일단 utf-8 으로 변경합니다. 윈도우에서는 문제 없으나, 맥이나 리눅스에서는 문제가 있음.\n",
    "   * 총 7,378 개의 관측치가 있으며, head() 함수에는 그중 앞에 6개만 출력합니다.\n",
    "   * 처음 변수는 역명, 두번째 변수는 날짜, 세번째 변수는 승차 하차 구분, 이후에는 1시간 단위로 21개의 시간대 입니다.\n",
    "   * X05.06 은 원본에서는 $05 \\sim 06$ 으로 되어 있습니다."
   ]
  },
  {
   "cell_type": "markdown",
   "metadata": {},
   "source": [
    "   * 첫번째 관측치는 $5 \\sim 6$ 에 승차한 사람수는 411명, $16 \\sim 17$ 에는 4145 명 승차했습니다."
   ]
  },
  {
   "cell_type": "markdown",
   "metadata": {},
   "source": [
    "**names()** 함수로 변수 이름 확인하고 바꾸기"
   ]
  },
  {
   "cell_type": "markdown",
   "metadata": {},
   "source": [
    "   * 데이터 분석은 변수 단위.\n",
    "       * 예를 들어 키 변수를 가져와서 m 단위로 바꾸고 평균을 구하자!  이런식입니다.\n",
    "   * R 에서는 데이터의 변수들이 어떤 이름으로 저장 되어 있는 지 확인 필요\n",
    "   * 변수이름은 가급적 영어이름으로 변경"
   ]
  },
  {
   "cell_type": "code",
   "execution_count": 48,
   "metadata": {},
   "outputs": [
    {
     "data": {
      "text/html": [
       "<ol class=list-inline>\n",
       "\t<li>'역명'</li>\n",
       "\t<li>'날짜'</li>\n",
       "\t<li>'구분'</li>\n",
       "\t<li>'X05.06시'</li>\n",
       "\t<li>'X06.07시'</li>\n",
       "\t<li>'X07.08시'</li>\n",
       "\t<li>'X08.09시'</li>\n",
       "\t<li>'X09.10시'</li>\n",
       "\t<li>'X10.11시'</li>\n",
       "\t<li>'X11.12시'</li>\n",
       "\t<li>'X12.13시'</li>\n",
       "\t<li>'X13.14시'</li>\n",
       "\t<li>'X14.15시'</li>\n",
       "\t<li>'X15.16시'</li>\n",
       "\t<li>'X16.17시'</li>\n",
       "\t<li>'X17.18시'</li>\n",
       "\t<li>'X18.19시'</li>\n",
       "\t<li>'X19.20시'</li>\n",
       "\t<li>'X20.21시'</li>\n",
       "\t<li>'X21.22시'</li>\n",
       "\t<li>'X22.23시'</li>\n",
       "\t<li>'X23.24시'</li>\n",
       "\t<li>'X00.01시'</li>\n",
       "\t<li>'X01.02시'</li>\n",
       "</ol>\n"
      ],
      "text/latex": [
       "\\begin{enumerate*}\n",
       "\\item '역명'\n",
       "\\item '날짜'\n",
       "\\item '구분'\n",
       "\\item 'X05.06시'\n",
       "\\item 'X06.07시'\n",
       "\\item 'X07.08시'\n",
       "\\item 'X08.09시'\n",
       "\\item 'X09.10시'\n",
       "\\item 'X10.11시'\n",
       "\\item 'X11.12시'\n",
       "\\item 'X12.13시'\n",
       "\\item 'X13.14시'\n",
       "\\item 'X14.15시'\n",
       "\\item 'X15.16시'\n",
       "\\item 'X16.17시'\n",
       "\\item 'X17.18시'\n",
       "\\item 'X18.19시'\n",
       "\\item 'X19.20시'\n",
       "\\item 'X20.21시'\n",
       "\\item 'X21.22시'\n",
       "\\item 'X22.23시'\n",
       "\\item 'X23.24시'\n",
       "\\item 'X00.01시'\n",
       "\\item 'X01.02시'\n",
       "\\end{enumerate*}\n"
      ],
      "text/markdown": [
       "1. '역명'\n",
       "2. '날짜'\n",
       "3. '구분'\n",
       "4. 'X05.06시'\n",
       "5. 'X06.07시'\n",
       "6. 'X07.08시'\n",
       "7. 'X08.09시'\n",
       "8. 'X09.10시'\n",
       "9. 'X10.11시'\n",
       "10. 'X11.12시'\n",
       "11. 'X12.13시'\n",
       "12. 'X13.14시'\n",
       "13. 'X14.15시'\n",
       "14. 'X15.16시'\n",
       "15. 'X16.17시'\n",
       "16. 'X17.18시'\n",
       "17. 'X18.19시'\n",
       "18. 'X19.20시'\n",
       "19. 'X20.21시'\n",
       "20. 'X21.22시'\n",
       "21. 'X22.23시'\n",
       "22. 'X23.24시'\n",
       "23. 'X00.01시'\n",
       "24. 'X01.02시'\n",
       "\n",
       "\n"
      ],
      "text/plain": [
       " [1] \"역명\"     \"날짜\"     \"구분\"     \"X05.06시\" \"X06.07시\" \"X07.08시\"\n",
       " [7] \"X08.09시\" \"X09.10시\" \"X10.11시\" \"X11.12시\" \"X12.13시\" \"X13.14시\"\n",
       "[13] \"X14.15시\" \"X15.16시\" \"X16.17시\" \"X17.18시\" \"X18.19시\" \"X19.20시\"\n",
       "[19] \"X20.21시\" \"X21.22시\" \"X22.23시\" \"X23.24시\" \"X00.01시\" \"X01.02시\""
      ]
     },
     "metadata": {},
     "output_type": "display_data"
    }
   ],
   "source": [
    "names(subway)"
   ]
  },
  {
   "cell_type": "code",
   "execution_count": 49,
   "metadata": {},
   "outputs": [],
   "source": [
    "# 변수명 조정\n",
    "names(subway) = c(\"Station\", \"Date\", \"InOut\", paste0(\"H\", 5:25))"
   ]
  },
  {
   "cell_type": "code",
   "execution_count": 50,
   "metadata": {},
   "outputs": [
    {
     "data": {
      "text/html": [
       "<ol class=list-inline>\n",
       "\t<li>'Station'</li>\n",
       "\t<li>'Date'</li>\n",
       "\t<li>'InOut'</li>\n",
       "\t<li>'H5'</li>\n",
       "\t<li>'H6'</li>\n",
       "\t<li>'H7'</li>\n",
       "\t<li>'H8'</li>\n",
       "\t<li>'H9'</li>\n",
       "\t<li>'H10'</li>\n",
       "\t<li>'H11'</li>\n",
       "\t<li>'H12'</li>\n",
       "\t<li>'H13'</li>\n",
       "\t<li>'H14'</li>\n",
       "\t<li>'H15'</li>\n",
       "\t<li>'H16'</li>\n",
       "\t<li>'H17'</li>\n",
       "\t<li>'H18'</li>\n",
       "\t<li>'H19'</li>\n",
       "\t<li>'H20'</li>\n",
       "\t<li>'H21'</li>\n",
       "\t<li>'H22'</li>\n",
       "\t<li>'H23'</li>\n",
       "\t<li>'H24'</li>\n",
       "\t<li>'H25'</li>\n",
       "</ol>\n"
      ],
      "text/latex": [
       "\\begin{enumerate*}\n",
       "\\item 'Station'\n",
       "\\item 'Date'\n",
       "\\item 'InOut'\n",
       "\\item 'H5'\n",
       "\\item 'H6'\n",
       "\\item 'H7'\n",
       "\\item 'H8'\n",
       "\\item 'H9'\n",
       "\\item 'H10'\n",
       "\\item 'H11'\n",
       "\\item 'H12'\n",
       "\\item 'H13'\n",
       "\\item 'H14'\n",
       "\\item 'H15'\n",
       "\\item 'H16'\n",
       "\\item 'H17'\n",
       "\\item 'H18'\n",
       "\\item 'H19'\n",
       "\\item 'H20'\n",
       "\\item 'H21'\n",
       "\\item 'H22'\n",
       "\\item 'H23'\n",
       "\\item 'H24'\n",
       "\\item 'H25'\n",
       "\\end{enumerate*}\n"
      ],
      "text/markdown": [
       "1. 'Station'\n",
       "2. 'Date'\n",
       "3. 'InOut'\n",
       "4. 'H5'\n",
       "5. 'H6'\n",
       "6. 'H7'\n",
       "7. 'H8'\n",
       "8. 'H9'\n",
       "9. 'H10'\n",
       "10. 'H11'\n",
       "11. 'H12'\n",
       "12. 'H13'\n",
       "13. 'H14'\n",
       "14. 'H15'\n",
       "15. 'H16'\n",
       "16. 'H17'\n",
       "17. 'H18'\n",
       "18. 'H19'\n",
       "19. 'H20'\n",
       "20. 'H21'\n",
       "21. 'H22'\n",
       "22. 'H23'\n",
       "23. 'H24'\n",
       "24. 'H25'\n",
       "\n",
       "\n"
      ],
      "text/plain": [
       " [1] \"Station\" \"Date\"    \"InOut\"   \"H5\"      \"H6\"      \"H7\"      \"H8\"     \n",
       " [8] \"H9\"      \"H10\"     \"H11\"     \"H12\"     \"H13\"     \"H14\"     \"H15\"    \n",
       "[15] \"H16\"     \"H17\"     \"H18\"     \"H19\"     \"H20\"     \"H21\"     \"H22\"    \n",
       "[22] \"H23\"     \"H24\"     \"H25\"    "
      ]
     },
     "metadata": {},
     "output_type": "display_data"
    }
   ],
   "source": [
    "names(subway)"
   ]
  },
  {
   "cell_type": "code",
   "execution_count": 51,
   "metadata": {},
   "outputs": [
    {
     "name": "stdout",
     "output_type": "stream",
     "text": [
      "'data.frame':\t7378 obs. of  24 variables:\n",
      " $ Station: Factor w/ 119 levels \"가락시장(340)\",..: 52 52 52 52 52 52 52 52 52 52 ...\n",
      " $ Date   : Factor w/ 31 levels \"2016-12-01\",\"2016-12-02\",..: 1 1 2 2 3 3 4 4 5 5 ...\n",
      " $ InOut  : Factor w/ 2 levels \"승차\",\"하차\": 1 2 1 2 1 2 1 2 1 2 ...\n",
      " $ H5     : num  411 280 434 255 543 260 372 179 499 465 ...\n",
      " $ H6     : num  552 1680 520 1609 467 ...\n",
      " $ H7     : num  1792 4629 1695 4504 982 ...\n",
      " $ H8     : num  3429 10313 3456 10225 2080 ...\n",
      " $ H9     : num  2737 5586 2848 5322 3000 ...\n",
      " $ H10    : num  2430 2920 2568 3050 3077 ...\n",
      " $ H11    : num  3161 2673 3398 2435 4340 ...\n",
      " $ H12    : num  3433 2506 3926 3037 5121 ...\n",
      " $ H13    : num  3364 2393 3405 3103 4781 ...\n",
      " $ H14    : num  2767 2648 2876 2888 4335 ...\n",
      " $ H15    : num  3822 2535 5175 3391 6565 ...\n",
      " $ H16    : num  4145 2905 5180 3692 8023 ...\n",
      " $ H17    : num  4984 3084 6141 3545 6418 ...\n",
      " $ H18    : num  9595 3715 10682 5575 6575 ...\n",
      " $ H19    : num  5217 2723 6169 3389 4904 ...\n",
      " $ H20    : num  3492 1794 4169 2141 4742 ...\n",
      " $ H21    : num  3978 1657 4479 2076 4683 ...\n",
      " $ H22    : num  2742 1533 4554 1928 4654 ...\n",
      " $ H23    : num  1380 761 1794 1074 1697 ...\n",
      " $ H24    : num  198 373 443 547 228 837 46 188 182 274 ...\n",
      " $ H25    : num  0 32 0 64 0 131 0 0 0 22 ...\n"
     ]
    }
   ],
   "source": [
    "# str() 함수로 데이터 구조 확인하기\n",
    "str(subway)"
   ]
  },
  {
   "cell_type": "markdown",
   "metadata": {},
   "source": [
    "   * 데이터 형식은 data.frame 입니다.\n",
    "   * 관측치 갯수는 7378 obs 이고 변수는 24개 입니다.\n",
    "   * 다음으로 24개 변수의 특징이 있습니다.\n",
    "   * Station, Date, InOut 은 범주형 변수이며, 각각 119 수준, 31 수준, 2 수준으로 되어 있습니다."
   ]
  },
  {
   "cell_type": "code",
   "execution_count": 54,
   "metadata": {},
   "outputs": [
    {
     "ename": "ERROR",
     "evalue": "Error in View(subway): ‘View()’ not yet supported in the Jupyter R kernel\n",
     "output_type": "error",
     "traceback": [
      "Error in View(subway): ‘View()’ not yet supported in the Jupyter R kernel\nTraceback:\n",
      "1. View(subway)",
      "2. stop(sQuote(\"View()\"), \" not yet supported in the Jupyter R kernel\")"
     ]
    }
   ],
   "source": [
    "# view() 함수로 스프레드시트 확인 하기  -- View is not support in Jupyter R kernel\n",
    "View(subway)"
   ]
  },
  {
   "cell_type": "code",
   "execution_count": null,
   "metadata": {},
   "outputs": [],
   "source": []
  }
 ],
 "metadata": {
  "kernelspec": {
   "display_name": "R",
   "language": "R",
   "name": "ir"
  },
  "language_info": {
   "codemirror_mode": "r",
   "file_extension": ".r",
   "mimetype": "text/x-r-source",
   "name": "R",
   "pygments_lexer": "r",
   "version": "3.4.3"
  }
 },
 "nbformat": 4,
 "nbformat_minor": 2
}
