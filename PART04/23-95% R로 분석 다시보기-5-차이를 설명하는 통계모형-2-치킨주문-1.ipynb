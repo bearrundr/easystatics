{
 "cells": [
  {
   "cell_type": "markdown",
   "metadata": {},
   "source": [
    "# <span style=\"color:blue\"> 이토록 쉬운 통계 & R </span>"
   ]
  },
  {
   "cell_type": "markdown",
   "metadata": {},
   "source": [
    "<img src=\"../image/cover.png\" width=\"200\" height=\"400\" align=\"left\">  임경덕 지음"
   ]
  },
  {
   "cell_type": "markdown",
   "metadata": {},
   "source": [
    "## PART 4 데이터 분석 도구, R"
   ]
  },
  {
   "cell_type": "markdown",
   "metadata": {},
   "source": [
    "## 23-95% R로 분석 다시보기-5-차이를 설명하는 통계모형-2-치킨주문-1 (65일차)"
   ]
  },
  {
   "cell_type": "markdown",
   "metadata": {},
   "source": [
    "   * 데이타프로젝트 (http://dataproject.xyz) 또는 (http://cafe.naver.com/dataartproject) 에 미리 저장된 스크립트를 다운 받을 수 있습니다.\n",
    "   * 스크립트를 활용하면 직접 명령어를 입력하지 않고 저장된 명령어들을 실행할 수 있습니다."
   ]
  },
  {
   "cell_type": "markdown",
   "metadata": {},
   "source": [
    "### 데이터 파일은 dataartproject.xyz 에 있습니다."
   ]
  },
  {
   "cell_type": "markdown",
   "metadata": {},
   "source": [
    "### 1. 데이터 준비"
   ]
  },
  {
   "cell_type": "markdown",
   "metadata": {},
   "source": [
    "SK 텔레콤 빅데이터 (bigdatahub.co.kr) 에서 제공하는 치킨 주문량 데이터 입니다. SK 텔레콤 통화량을 바탕으로 한달간 서울시의 25개 자치구 일일/연령대/성별 에 따른 치킨 업종 통화건수를 가지고 있습니다.  이런 자료에선 다음과 같은 가장 일반 적인 의문이 있을 수 있습니다.\n",
    "\n",
    "* 누가 치킨을 많이 먹었는지\n",
    "\n",
    "통화건수가 어떤 변수와 관련이 있는지 확인하고자 합니다."
   ]
  },
  {
   "cell_type": "code",
   "execution_count": 4,
   "metadata": {},
   "outputs": [],
   "source": [
    "# 치킨주문 데이터 파일 열기\n",
    "options(encoding = 'euc-kr')\n",
    "call_chichken <- read.csv(\"./Practice/data/call_chicken.csv\")"
   ]
  },
  {
   "cell_type": "markdown",
   "metadata": {},
   "source": [
    "### 2. 데이터 개요"
   ]
  },
  {
   "cell_type": "code",
   "execution_count": 10,
   "metadata": {},
   "outputs": [
    {
     "data": {
      "text/html": [
       "<table>\n",
       "<thead><tr><th scope=col>기준일</th><th scope=col>요일</th><th scope=col>시군구</th><th scope=col>연령대</th><th scope=col>성별</th><th scope=col>통화건수</th></tr></thead>\n",
       "<tbody>\n",
       "\t<tr><td>20170201</td><td>수      </td><td>강남구  </td><td>10대    </td><td>남      </td><td> 55     </td></tr>\n",
       "\t<tr><td>20170201</td><td>수      </td><td>강남구  </td><td>10대    </td><td>여      </td><td> 27     </td></tr>\n",
       "\t<tr><td>20170201</td><td>수      </td><td>강남구  </td><td>20대    </td><td>남      </td><td>115     </td></tr>\n",
       "\t<tr><td>20170201</td><td>수      </td><td>강남구  </td><td>20대    </td><td>여      </td><td> 82     </td></tr>\n",
       "\t<tr><td>20170201</td><td>수      </td><td>강남구  </td><td>30대    </td><td>남      </td><td>148     </td></tr>\n",
       "\t<tr><td>20170201</td><td>수      </td><td>강남구  </td><td>30대    </td><td>여      </td><td>126     </td></tr>\n",
       "</tbody>\n",
       "</table>\n"
      ],
      "text/latex": [
       "\\begin{tabular}{r|llllll}\n",
       " 기준일 & 요일 & 시군구 & 연령대 & 성별 & 통화건수\\\\\n",
       "\\hline\n",
       "\t 20170201 & 수       & 강남구   & 10대     & 남       &  55     \\\\\n",
       "\t 20170201 & 수       & 강남구   & 10대     & 여       &  27     \\\\\n",
       "\t 20170201 & 수       & 강남구   & 20대     & 남       & 115     \\\\\n",
       "\t 20170201 & 수       & 강남구   & 20대     & 여       &  82     \\\\\n",
       "\t 20170201 & 수       & 강남구   & 30대     & 남       & 148     \\\\\n",
       "\t 20170201 & 수       & 강남구   & 30대     & 여       & 126     \\\\\n",
       "\\end{tabular}\n"
      ],
      "text/markdown": [
       "\n",
       "기준일 | 요일 | 시군구 | 연령대 | 성별 | 통화건수 | \n",
       "|---|---|---|---|---|---|\n",
       "| 20170201 | 수       | 강남구   | 10대     | 남       |  55      | \n",
       "| 20170201 | 수       | 강남구   | 10대     | 여       |  27      | \n",
       "| 20170201 | 수       | 강남구   | 20대     | 남       | 115      | \n",
       "| 20170201 | 수       | 강남구   | 20대     | 여       |  82      | \n",
       "| 20170201 | 수       | 강남구   | 30대     | 남       | 148      | \n",
       "| 20170201 | 수       | 강남구   | 30대     | 여       | 126      | \n",
       "\n",
       "\n"
      ],
      "text/plain": [
       "  기준일   요일 시군구 연령대 성별 통화건수\n",
       "1 20170201 수   강남구 10대   남    55     \n",
       "2 20170201 수   강남구 10대   여    27     \n",
       "3 20170201 수   강남구 20대   남   115     \n",
       "4 20170201 수   강남구 20대   여    82     \n",
       "5 20170201 수   강남구 30대   남   148     \n",
       "6 20170201 수   강남구 30대   여   126     "
      ]
     },
     "metadata": {},
     "output_type": "display_data"
    }
   ],
   "source": [
    "# 일부 데이터를 확인합니다.\n",
    "\n",
    "head(call_chichken)"
   ]
  },
  {
   "cell_type": "code",
   "execution_count": 11,
   "metadata": {},
   "outputs": [
    {
     "data": {
      "text/html": [
       "<table>\n",
       "<thead><tr><th></th><th scope=col>기준일</th><th scope=col>요일</th><th scope=col>시군구</th><th scope=col>연령대</th><th scope=col>성별</th><th scope=col>통화건수</th></tr></thead>\n",
       "<tbody>\n",
       "\t<tr><th scope=row>954</th><td>20170204</td><td>토      </td><td>관악구  </td><td>40대    </td><td>남      </td><td>130     </td></tr>\n",
       "\t<tr><th scope=row>5221</th><td>20170218</td><td>토      </td><td>동대문구</td><td>40대    </td><td>여      </td><td> 83     </td></tr>\n",
       "\t<tr><th scope=row>5111</th><td>20170218</td><td>토      </td><td>강동구  </td><td>30대    </td><td>여      </td><td>139     </td></tr>\n",
       "\t<tr><th scope=row>5229</th><td>20170218</td><td>토      </td><td>동작구  </td><td>20대    </td><td>여      </td><td> 58     </td></tr>\n",
       "\t<tr><th scope=row>7220</th><td>20170225</td><td>토      </td><td>강북구  </td><td>20대    </td><td>남      </td><td> 84     </td></tr>\n",
       "\t<tr><th scope=row>5370</th><td>20170218</td><td>토      </td><td>중구    </td><td>10대    </td><td>남      </td><td> 30     </td></tr>\n",
       "\t<tr><th scope=row>80</th><td>20170201</td><td>수      </td><td>구로구  </td><td>40대    </td><td>여      </td><td> 72     </td></tr>\n",
       "\t<tr><th scope=row>1950</th><td>20170207</td><td>화      </td><td>마포구  </td><td>40대    </td><td>남      </td><td> 72     </td></tr>\n",
       "\t<tr><th scope=row>5584</th><td>20170219</td><td>일      </td><td>성동구  </td><td>60대이상</td><td>남      </td><td>  8     </td></tr>\n",
       "\t<tr><th scope=row>4310</th><td>20170215</td><td>수      </td><td>도봉구  </td><td>40대    </td><td>남      </td><td> 10     </td></tr>\n",
       "</tbody>\n",
       "</table>\n"
      ],
      "text/latex": [
       "\\begin{tabular}{r|llllll}\n",
       "  & 기준일 & 요일 & 시군구 & 연령대 & 성별 & 통화건수\\\\\n",
       "\\hline\n",
       "\t954 & 20170204 & 토       & 관악구   & 40대     & 남       & 130     \\\\\n",
       "\t5221 & 20170218 & 토       & 동대문구 & 40대     & 여       &  83     \\\\\n",
       "\t5111 & 20170218 & 토       & 강동구   & 30대     & 여       & 139     \\\\\n",
       "\t5229 & 20170218 & 토       & 동작구   & 20대     & 여       &  58     \\\\\n",
       "\t7220 & 20170225 & 토       & 강북구   & 20대     & 남       &  84     \\\\\n",
       "\t5370 & 20170218 & 토       & 중구     & 10대     & 남       &  30     \\\\\n",
       "\t80 & 20170201 & 수       & 구로구   & 40대     & 여       &  72     \\\\\n",
       "\t1950 & 20170207 & 화       & 마포구   & 40대     & 남       &  72     \\\\\n",
       "\t5584 & 20170219 & 일       & 성동구   & 60대이상 & 남       &   8     \\\\\n",
       "\t4310 & 20170215 & 수       & 도봉구   & 40대     & 남       &  10     \\\\\n",
       "\\end{tabular}\n"
      ],
      "text/markdown": [
       "\n",
       "| <!--/--> | 기준일 | 요일 | 시군구 | 연령대 | 성별 | 통화건수 | \n",
       "|---|---|---|---|---|---|---|---|---|---|\n",
       "| 954 | 20170204 | 토       | 관악구   | 40대     | 남       | 130      | \n",
       "| 5221 | 20170218 | 토       | 동대문구 | 40대     | 여       |  83      | \n",
       "| 5111 | 20170218 | 토       | 강동구   | 30대     | 여       | 139      | \n",
       "| 5229 | 20170218 | 토       | 동작구   | 20대     | 여       |  58      | \n",
       "| 7220 | 20170225 | 토       | 강북구   | 20대     | 남       |  84      | \n",
       "| 5370 | 20170218 | 토       | 중구     | 10대     | 남       |  30      | \n",
       "| 80 | 20170201 | 수       | 구로구   | 40대     | 여       |  72      | \n",
       "| 1950 | 20170207 | 화       | 마포구   | 40대     | 남       |  72      | \n",
       "| 5584 | 20170219 | 일       | 성동구   | 60대이상 | 남       |   8      | \n",
       "| 4310 | 20170215 | 수       | 도봉구   | 40대     | 남       |  10      | \n",
       "\n",
       "\n"
      ],
      "text/plain": [
       "     기준일   요일 시군구   연령대   성별 통화건수\n",
       "954  20170204 토   관악구   40대     남   130     \n",
       "5221 20170218 토   동대문구 40대     여    83     \n",
       "5111 20170218 토   강동구   30대     여   139     \n",
       "5229 20170218 토   동작구   20대     여    58     \n",
       "7220 20170225 토   강북구   20대     남    84     \n",
       "5370 20170218 토   중구     10대     남    30     \n",
       "80   20170201 수   구로구   40대     여    72     \n",
       "1950 20170207 화   마포구   40대     남    72     \n",
       "5584 20170219 일   성동구   60대이상 남     8     \n",
       "4310 20170215 수   도봉구   40대     남    10     "
      ]
     },
     "metadata": {},
     "output_type": "display_data"
    }
   ],
   "source": [
    "# 임의 데이터를 샘플로 보는 방밥이 있습니다. sample_n() 함수를 이용하면 임의 데이터를 눈으로 확인 할 수 있습니다.\n",
    "require(dplyr)\n",
    "set.seed(1234)\n",
    "sample_n(call_chichken, 10)"
   ]
  },
  {
   "cell_type": "code",
   "execution_count": 12,
   "metadata": {},
   "outputs": [
    {
     "name": "stdout",
     "output_type": "stream",
     "text": [
      "'data.frame':\t8390 obs. of  6 variables:\n",
      " $ 기준일  : int  20170201 20170201 20170201 20170201 20170201 20170201 20170201 20170201 20170201 20170201 ...\n",
      " $ 요일    : Factor w/ 7 levels \"금\",\"목\",\"수\",..: 3 3 3 3 3 3 3 3 3 3 ...\n",
      " $ 시군구  : Factor w/ 25 levels \"강남구\",\"강동구\",..: 1 1 1 1 1 1 1 1 1 1 ...\n",
      " $ 연령대  : Factor w/ 6 levels \"10대\",\"20대\",..: 1 1 2 2 3 3 4 4 5 5 ...\n",
      " $ 성별    : Factor w/ 2 levels \"남\",\"여\": 1 2 1 2 1 2 1 2 1 2 ...\n",
      " $ 통화건수: int  55 27 115 82 148 126 111 244 42 71 ...\n"
     ]
    }
   ],
   "source": [
    "# 이제 데이터 구조를 확인 해 봅시다.\n",
    "str(call_chichken)"
   ]
  },
  {
   "cell_type": "markdown",
   "metadata": {},
   "source": [
    "* 8390 건의 관측치가 있습니다.\n",
    "* 모두 6개의 변수가 있습니다. \n",
    "* 기준일, 요일, 시군구, 연령대, 성별, 통화건수 등 모두 6개 변수 가 있습니다.\n",
    "* 관심 변수는 통화건수 이며, 요일, 연령대, 시군구, 성별에 따른 관련을 살펴보고자 합니다.\n",
    "* 이전에 봤던 다분산분석에 해당 할 수 있겠습니다."
   ]
  },
  {
   "cell_type": "markdown",
   "metadata": {},
   "source": [
    "### 3. 데이터 분석"
   ]
  },
  {
   "cell_type": "markdown",
   "metadata": {},
   "source": [
    "먼저 책에서와 같이 시군구별 통화량을 살펴보아요"
   ]
  },
  {
   "cell_type": "code",
   "execution_count": 20,
   "metadata": {},
   "outputs": [
    {
     "data": {
      "text/html": [
       "<table>\n",
       "<thead><tr><th></th><th scope=col>시군구</th><th scope=col>통화건수</th></tr></thead>\n",
       "<tbody>\n",
       "\t<tr><th scope=row>4</th><td>강서구  </td><td>47481   </td></tr>\n",
       "\t<tr><th scope=row>1</th><td>강남구  </td><td>35655   </td></tr>\n",
       "\t<tr><th scope=row>5</th><td>관악구  </td><td>31151   </td></tr>\n",
       "\t<tr><th scope=row>18</th><td>송파구  </td><td>30338   </td></tr>\n",
       "\t<tr><th scope=row>20</th><td>영등포구</td><td>30152   </td></tr>\n",
       "\t<tr><th scope=row>9</th><td>노원구  </td><td>26267   </td></tr>\n",
       "\t<tr><th scope=row>15</th><td>서초구  </td><td>25422   </td></tr>\n",
       "\t<tr><th scope=row>2</th><td>강동구  </td><td>23656   </td></tr>\n",
       "\t<tr><th scope=row>22</th><td>은평구  </td><td>22884   </td></tr>\n",
       "\t<tr><th scope=row>14</th><td>서대문구</td><td>22772   </td></tr>\n",
       "\t<tr><th scope=row>3</th><td>강북구  </td><td>19582   </td></tr>\n",
       "\t<tr><th scope=row>17</th><td>성북구  </td><td>19321   </td></tr>\n",
       "\t<tr><th scope=row>13</th><td>마포구  </td><td>18382   </td></tr>\n",
       "\t<tr><th scope=row>21</th><td>용산구  </td><td>18129   </td></tr>\n",
       "\t<tr><th scope=row>24</th><td>중구    </td><td>17876   </td></tr>\n",
       "\t<tr><th scope=row>7</th><td>구로구  </td><td>17571   </td></tr>\n",
       "\t<tr><th scope=row>16</th><td>성동구  </td><td>16235   </td></tr>\n",
       "\t<tr><th scope=row>25</th><td>중랑구  </td><td>16049   </td></tr>\n",
       "\t<tr><th scope=row>11</th><td>동대문구</td><td>13013   </td></tr>\n",
       "\t<tr><th scope=row>12</th><td>동작구  </td><td>11807   </td></tr>\n",
       "\t<tr><th scope=row>8</th><td>금천구  </td><td>11327   </td></tr>\n",
       "\t<tr><th scope=row>23</th><td>종로구  </td><td>10691   </td></tr>\n",
       "\t<tr><th scope=row>19</th><td>양천구  </td><td>10354   </td></tr>\n",
       "\t<tr><th scope=row>6</th><td>광진구  </td><td> 8442   </td></tr>\n",
       "\t<tr><th scope=row>10</th><td>도봉구  </td><td> 8276   </td></tr>\n",
       "</tbody>\n",
       "</table>\n"
      ],
      "text/latex": [
       "\\begin{tabular}{r|ll}\n",
       "  & 시군구 & 통화건수\\\\\n",
       "\\hline\n",
       "\t4 & 강서구   & 47481   \\\\\n",
       "\t1 & 강남구   & 35655   \\\\\n",
       "\t5 & 관악구   & 31151   \\\\\n",
       "\t18 & 송파구   & 30338   \\\\\n",
       "\t20 & 영등포구 & 30152   \\\\\n",
       "\t9 & 노원구   & 26267   \\\\\n",
       "\t15 & 서초구   & 25422   \\\\\n",
       "\t2 & 강동구   & 23656   \\\\\n",
       "\t22 & 은평구   & 22884   \\\\\n",
       "\t14 & 서대문구 & 22772   \\\\\n",
       "\t3 & 강북구   & 19582   \\\\\n",
       "\t17 & 성북구   & 19321   \\\\\n",
       "\t13 & 마포구   & 18382   \\\\\n",
       "\t21 & 용산구   & 18129   \\\\\n",
       "\t24 & 중구     & 17876   \\\\\n",
       "\t7 & 구로구   & 17571   \\\\\n",
       "\t16 & 성동구   & 16235   \\\\\n",
       "\t25 & 중랑구   & 16049   \\\\\n",
       "\t11 & 동대문구 & 13013   \\\\\n",
       "\t12 & 동작구   & 11807   \\\\\n",
       "\t8 & 금천구   & 11327   \\\\\n",
       "\t23 & 종로구   & 10691   \\\\\n",
       "\t19 & 양천구   & 10354   \\\\\n",
       "\t6 & 광진구   &  8442   \\\\\n",
       "\t10 & 도봉구   &  8276   \\\\\n",
       "\\end{tabular}\n"
      ],
      "text/markdown": [
       "\n",
       "| <!--/--> | 시군구 | 통화건수 | \n",
       "|---|---|---|---|---|---|---|---|---|---|---|---|---|---|---|---|---|---|---|---|---|---|---|---|---|\n",
       "| 4 | 강서구   | 47481    | \n",
       "| 1 | 강남구   | 35655    | \n",
       "| 5 | 관악구   | 31151    | \n",
       "| 18 | 송파구   | 30338    | \n",
       "| 20 | 영등포구 | 30152    | \n",
       "| 9 | 노원구   | 26267    | \n",
       "| 15 | 서초구   | 25422    | \n",
       "| 2 | 강동구   | 23656    | \n",
       "| 22 | 은평구   | 22884    | \n",
       "| 14 | 서대문구 | 22772    | \n",
       "| 3 | 강북구   | 19582    | \n",
       "| 17 | 성북구   | 19321    | \n",
       "| 13 | 마포구   | 18382    | \n",
       "| 21 | 용산구   | 18129    | \n",
       "| 24 | 중구     | 17876    | \n",
       "| 7 | 구로구   | 17571    | \n",
       "| 16 | 성동구   | 16235    | \n",
       "| 25 | 중랑구   | 16049    | \n",
       "| 11 | 동대문구 | 13013    | \n",
       "| 12 | 동작구   | 11807    | \n",
       "| 8 | 금천구   | 11327    | \n",
       "| 23 | 종로구   | 10691    | \n",
       "| 19 | 양천구   | 10354    | \n",
       "| 6 | 광진구   |  8442    | \n",
       "| 10 | 도봉구   |  8276    | \n",
       "\n",
       "\n"
      ],
      "text/plain": [
       "   시군구   통화건수\n",
       "4  강서구   47481   \n",
       "1  강남구   35655   \n",
       "5  관악구   31151   \n",
       "18 송파구   30338   \n",
       "20 영등포구 30152   \n",
       "9  노원구   26267   \n",
       "15 서초구   25422   \n",
       "2  강동구   23656   \n",
       "22 은평구   22884   \n",
       "14 서대문구 22772   \n",
       "3  강북구   19582   \n",
       "17 성북구   19321   \n",
       "13 마포구   18382   \n",
       "21 용산구   18129   \n",
       "24 중구     17876   \n",
       "7  구로구   17571   \n",
       "16 성동구   16235   \n",
       "25 중랑구   16049   \n",
       "11 동대문구 13013   \n",
       "12 동작구   11807   \n",
       "8  금천구   11327   \n",
       "23 종로구   10691   \n",
       "19 양천구   10354   \n",
       "6  광진구    8442   \n",
       "10 도봉구    8276   "
      ]
     },
     "metadata": {},
     "output_type": "display_data"
    }
   ],
   "source": [
    "sum_sigungu <- aggregate(통화건수 ~ 시군구, data = call_chichken, sum)\n",
    "sum_sigungu[order(sum_sigungu$통화건수, decreasing = T),]"
   ]
  },
  {
   "cell_type": "markdown",
   "metadata": {},
   "source": [
    "강서구가 통화량이 제일 많고 도봉구가 가장 적습니다. 원이이 어디 있든지 간에 지역하고 통화량하고는 관계가 있는것 처럼 보입니다."
   ]
  },
  {
   "cell_type": "code",
   "execution_count": 25,
   "metadata": {},
   "outputs": [
    {
     "data": {
      "text/html": [
       "<table>\n",
       "<thead><tr><th scope=col>시군구</th><th scope=col>통화건수</th></tr></thead>\n",
       "<tbody>\n",
       "\t<tr><td>강남구  </td><td>35655   </td></tr>\n",
       "\t<tr><td>강동구  </td><td>23656   </td></tr>\n",
       "\t<tr><td>강북구  </td><td>19582   </td></tr>\n",
       "\t<tr><td>강서구  </td><td>47481   </td></tr>\n",
       "\t<tr><td>관악구  </td><td>31151   </td></tr>\n",
       "\t<tr><td>광진구  </td><td> 8442   </td></tr>\n",
       "\t<tr><td>구로구  </td><td>17571   </td></tr>\n",
       "\t<tr><td>금천구  </td><td>11327   </td></tr>\n",
       "\t<tr><td>노원구  </td><td>26267   </td></tr>\n",
       "\t<tr><td>도봉구  </td><td> 8276   </td></tr>\n",
       "\t<tr><td>동대문구</td><td>13013   </td></tr>\n",
       "\t<tr><td>동작구  </td><td>11807   </td></tr>\n",
       "\t<tr><td>마포구  </td><td>18382   </td></tr>\n",
       "\t<tr><td>서대문구</td><td>22772   </td></tr>\n",
       "\t<tr><td>서초구  </td><td>25422   </td></tr>\n",
       "\t<tr><td>성동구  </td><td>16235   </td></tr>\n",
       "\t<tr><td>성북구  </td><td>19321   </td></tr>\n",
       "\t<tr><td>송파구  </td><td>30338   </td></tr>\n",
       "\t<tr><td>양천구  </td><td>10354   </td></tr>\n",
       "\t<tr><td>영등포구</td><td>30152   </td></tr>\n",
       "\t<tr><td>용산구  </td><td>18129   </td></tr>\n",
       "\t<tr><td>은평구  </td><td>22884   </td></tr>\n",
       "\t<tr><td>종로구  </td><td>10691   </td></tr>\n",
       "\t<tr><td>중구    </td><td>17876   </td></tr>\n",
       "\t<tr><td>중랑구  </td><td>16049   </td></tr>\n",
       "</tbody>\n",
       "</table>\n"
      ],
      "text/latex": [
       "\\begin{tabular}{r|ll}\n",
       " 시군구 & 통화건수\\\\\n",
       "\\hline\n",
       "\t 강남구   & 35655   \\\\\n",
       "\t 강동구   & 23656   \\\\\n",
       "\t 강북구   & 19582   \\\\\n",
       "\t 강서구   & 47481   \\\\\n",
       "\t 관악구   & 31151   \\\\\n",
       "\t 광진구   &  8442   \\\\\n",
       "\t 구로구   & 17571   \\\\\n",
       "\t 금천구   & 11327   \\\\\n",
       "\t 노원구   & 26267   \\\\\n",
       "\t 도봉구   &  8276   \\\\\n",
       "\t 동대문구 & 13013   \\\\\n",
       "\t 동작구   & 11807   \\\\\n",
       "\t 마포구   & 18382   \\\\\n",
       "\t 서대문구 & 22772   \\\\\n",
       "\t 서초구   & 25422   \\\\\n",
       "\t 성동구   & 16235   \\\\\n",
       "\t 성북구   & 19321   \\\\\n",
       "\t 송파구   & 30338   \\\\\n",
       "\t 양천구   & 10354   \\\\\n",
       "\t 영등포구 & 30152   \\\\\n",
       "\t 용산구   & 18129   \\\\\n",
       "\t 은평구   & 22884   \\\\\n",
       "\t 종로구   & 10691   \\\\\n",
       "\t 중구     & 17876   \\\\\n",
       "\t 중랑구   & 16049   \\\\\n",
       "\\end{tabular}\n"
      ],
      "text/markdown": [
       "\n",
       "시군구 | 통화건수 | \n",
       "|---|---|---|---|---|---|---|---|---|---|---|---|---|---|---|---|---|---|---|---|---|---|---|---|---|\n",
       "| 강남구   | 35655    | \n",
       "| 강동구   | 23656    | \n",
       "| 강북구   | 19582    | \n",
       "| 강서구   | 47481    | \n",
       "| 관악구   | 31151    | \n",
       "| 광진구   |  8442    | \n",
       "| 구로구   | 17571    | \n",
       "| 금천구   | 11327    | \n",
       "| 노원구   | 26267    | \n",
       "| 도봉구   |  8276    | \n",
       "| 동대문구 | 13013    | \n",
       "| 동작구   | 11807    | \n",
       "| 마포구   | 18382    | \n",
       "| 서대문구 | 22772    | \n",
       "| 서초구   | 25422    | \n",
       "| 성동구   | 16235    | \n",
       "| 성북구   | 19321    | \n",
       "| 송파구   | 30338    | \n",
       "| 양천구   | 10354    | \n",
       "| 영등포구 | 30152    | \n",
       "| 용산구   | 18129    | \n",
       "| 은평구   | 22884    | \n",
       "| 종로구   | 10691    | \n",
       "| 중구     | 17876    | \n",
       "| 중랑구   | 16049    | \n",
       "\n",
       "\n"
      ],
      "text/plain": [
       "   시군구   통화건수\n",
       "1  강남구   35655   \n",
       "2  강동구   23656   \n",
       "3  강북구   19582   \n",
       "4  강서구   47481   \n",
       "5  관악구   31151   \n",
       "6  광진구    8442   \n",
       "7  구로구   17571   \n",
       "8  금천구   11327   \n",
       "9  노원구   26267   \n",
       "10 도봉구    8276   \n",
       "11 동대문구 13013   \n",
       "12 동작구   11807   \n",
       "13 마포구   18382   \n",
       "14 서대문구 22772   \n",
       "15 서초구   25422   \n",
       "16 성동구   16235   \n",
       "17 성북구   19321   \n",
       "18 송파구   30338   \n",
       "19 양천구   10354   \n",
       "20 영등포구 30152   \n",
       "21 용산구   18129   \n",
       "22 은평구   22884   \n",
       "23 종로구   10691   \n",
       "24 중구     17876   \n",
       "25 중랑구   16049   "
      ]
     },
     "metadata": {},
     "output_type": "display_data"
    },
    {
     "data": {
      "image/png": "[encoded data removed]",
      "text/plain": [
       "plot without title"
      ]
     },
     "metadata": {},
     "output_type": "display_data"
    }
   ],
   "source": [
    "# 상자그림으로 먼저 살펴 보자.  일단 한글은 지금 주피터에서 깨져 나옵니다. rstudio 에서 한글 나옴. 나중에 문제 해결 할 것임\n",
    "options(warn = -1)\n",
    "par(family=\"AppleMyungjo\")\n",
    "boxplot(통화건수 ~ 시군구, data = call_chichken, las = 2)\n",
    "sum_sigungu"
   ]
  },
  {
   "cell_type": "markdown",
   "metadata": {},
   "source": [
    "통화건수하고 지역하고 관계가 있는지 여부는 분산분석을 하면 알 수 있습니다."
   ]
  },
  {
   "cell_type": "code",
   "execution_count": 26,
   "metadata": {},
   "outputs": [
    {
     "data": {
      "text/plain": [
       "              Df   Sum Sq Mean Sq F value Pr(>F)    \n",
       "시군구        24  6265645  261069   141.8 <2e-16 ***\n",
       "Residuals   8365 15396289    1841                   \n",
       "---\n",
       "Signif. codes:  0 ‘***’ 0.001 ‘**’ 0.01 ‘*’ 0.05 ‘.’ 0.1 ‘ ’ 1"
      ]
     },
     "metadata": {},
     "output_type": "display_data"
    }
   ],
   "source": [
    "summary(aov(통화건수 ~ 시군구, data = call_chichken))"
   ]
  },
  {
   "cell_type": "markdown",
   "metadata": {},
   "source": [
    "p 값이 0.05 보다 작은 2e-16 즉 거의 0 에 가깝습니다. 즉 정규분포에서 나올수 없는 통화량입니다. 이것은 다른 변수는 어떤지 살펴 보도록 합니다."
   ]
  },
  {
   "cell_type": "code",
   "execution_count": 27,
   "metadata": {},
   "outputs": [
    {
     "data": {
      "text/plain": [
       "              Df   Sum Sq Mean Sq F value Pr(>F)    \n",
       "연령대         5  8228983 1645797    1027 <2e-16 ***\n",
       "Residuals   8384 13432951    1602                   \n",
       "---\n",
       "Signif. codes:  0 ‘***’ 0.001 ‘**’ 0.01 ‘*’ 0.05 ‘.’ 0.1 ‘ ’ 1"
      ]
     },
     "metadata": {},
     "output_type": "display_data"
    }
   ],
   "source": [
    "summary(aov(통화건수 ~ 연령대, data = call_chichken))"
   ]
  },
  {
   "cell_type": "code",
   "execution_count": 28,
   "metadata": {},
   "outputs": [
    {
     "data": {
      "text/plain": [
       "              Df   Sum Sq Mean Sq F value   Pr(>F)    \n",
       "성별           1   138583  138583   54.01 2.18e-13 ***\n",
       "Residuals   8388 21523351    2566                     \n",
       "---\n",
       "Signif. codes:  0 ‘***’ 0.001 ‘**’ 0.01 ‘*’ 0.05 ‘.’ 0.1 ‘ ’ 1"
      ]
     },
     "metadata": {},
     "output_type": "display_data"
    }
   ],
   "source": [
    "summary(aov(통화건수 ~ 성별, data = call_chichken))"
   ]
  },
  {
   "cell_type": "code",
   "execution_count": 29,
   "metadata": {},
   "outputs": [
    {
     "data": {
      "text/plain": [
       "              Df   Sum Sq Mean Sq F value Pr(>F)    \n",
       "요일           6   946229  157705   63.82 <2e-16 ***\n",
       "Residuals   8383 20715704    2471                   \n",
       "---\n",
       "Signif. codes:  0 ‘***’ 0.001 ‘**’ 0.01 ‘*’ 0.05 ‘.’ 0.1 ‘ ’ 1"
      ]
     },
     "metadata": {},
     "output_type": "display_data"
    }
   ],
   "source": [
    "summary(aov(통화건수 ~ 요일, data = call_chichken))"
   ]
  },
  {
   "cell_type": "markdown",
   "metadata": {},
   "source": [
    "각각 p 값을 살펴보면 모두 유의수준 0.05 보다 훨씬 작습니다. 즉 통화량은 요일, 연령대, 성별 에 따라서 통화량이 차이가 있다고 할 수 있습니다. 이것의 대한 수준별 분석은 다음에 하기로 하고"
   ]
  },
  {
   "cell_type": "markdown",
   "metadata": {},
   "source": [
    "다음에는 의사 이 데이터를 이용하여 의사결정 나무를 해보도록 하겠습니다."
   ]
  }
 ],
 "metadata": {
  "kernelspec": {
   "display_name": "R",
   "language": "R",
   "name": "ir"
  },
  "language_info": {
   "codemirror_mode": "r",
   "file_extension": ".r",
   "mimetype": "text/x-r-source",
   "name": "R",
   "pygments_lexer": "r",
   "version": "3.4.3"
  }
 },
 "nbformat": 4,
 "nbformat_minor": 2
}
