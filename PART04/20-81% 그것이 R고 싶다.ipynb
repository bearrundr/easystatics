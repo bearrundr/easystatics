{
 "cells": [
  {
   "cell_type": "markdown",
   "metadata": {},
   "source": [
    "# <span style=\"color:blue\"> 이토록 쉬운 통계 & R </span>"
   ]
  },
  {
   "cell_type": "markdown",
   "metadata": {},
   "source": [
    "<img src=\"../image/cover.png\" width=\"200\" height=\"400\" align=\"left\">  임경덕 지음"
   ]
  },
  {
   "cell_type": "markdown",
   "metadata": {},
   "source": [
    "## PART 4 데이터 분석 도구, R"
   ]
  },
  {
   "cell_type": "markdown",
   "metadata": {},
   "source": [
    "## 81%  그것이 R고 싶다(28 일차)"
   ]
  },
  {
   "cell_type": "markdown",
   "metadata": {},
   "source": [
    "   * R 관련 Tool 소개"
   ]
  },
  {
   "cell_type": "markdown",
   "metadata": {},
   "source": [
    "## 데이터를 다루기 위한 도구들\n"
   ]
  },
  {
   "cell_type": "markdown",
   "metadata": {},
   "source": [
    "지금 시대는 컴퓨터가 발달 데이터를 다루는데 매우 유용한 도구가 되겠습니다.\n",
    "   * 가장 대표적인 것으로는 마이크로소프트의 Excel 이 있겠습니다.\n",
    "   * 좀더 전문적인 도구를 사용한다면 유명한 SPSS 같은 것이 있읍니다. 물론 비용이 비싸죠."
   ]
  },
  {
   "cell_type": "markdown",
   "metadata": {},
   "source": [
    "### R 을 사용하려면..."
   ]
  },
  {
   "cell_type": "markdown",
   "metadata": {},
   "source": [
    "R 은 전문적인 데이터를 다루는 프로그램이면서 많은 기능을 제공하고 있습니다.\n",
    "   * 오픈소스이며, 많은 사람이 라이브러리를 개발하여 제공하고 있습니다.\n",
    "   * 단점은 명령어 기반이어서 사용이 어렵다는 것입니다."
   ]
  },
  {
   "cell_type": "markdown",
   "metadata": {},
   "source": [
    "RStudio 는 R 위에서 제공하는 UI 라고 할 수 있습니다.\n",
    "   * R 을 사용하는데 매우 유연하고 쉽게 사용 할 수 있도록 제공합니다.\n",
    "   * 기본 기능은 무료이나 모든 기능을 사용하기 위해선 유료 입니다.\n",
    "   * 무료 기능만으로도 충분히 사용가능합니다\n",
    "   * R Shiny 를 이용하면 interactive 하게 브라우저에서 사용 할 수 있습니다."
   ]
  },
  {
   "cell_type": "markdown",
   "metadata": {},
   "source": [
    "RStudio-server 는 RStudio 의 서버 버젼입니다.\n",
    "   * RStudio 처럼 R 위에서 제공하는 UI 라고 할 수 있습니다.\n",
    "   * RStduio 처럼 기본 기능은 무료이나 모든 기능을 사용하기 위해서는 유료입니다.\n",
    "   * 사용자 UI 는 RStudio 와 같습니다."
   ]
  },
  {
   "cell_type": "markdown",
   "metadata": {},
   "source": [
    "Jupyter Notebook\n",
    "   * R Shiny 처럼 R 을 브라우저에서 사용 할 수 있도록 합니다.\n",
    "   * R 을 설치하던가 또는 직접 anaconda 에서 설치를 하고 r 을 설치하면 사용가능합니다.\n",
    "   * markdown 을 지원하여 문서화 하기 쉬습니다."
   ]
  },
  {
   "cell_type": "markdown",
   "metadata": {},
   "source": [
    "R 을 사용하려면, 개인 PC 에선 R 을 설치하고, RStudio 를 설치하면 RStudio 를 통해서 사용할 수 있습니다. \n",
    "R 작업 내용을 다른사람과 공유 하려면, RStudio-Server 를 사용하던가 또는 R Shiny 를 설치하여 공유가 가능합니다.\n",
    "또는 Jupyter Notebook 을 설치한 후 설치된 R 과 연결을 하거나 또는 jupyter 에서 제공하는 r 을 직접 설치하여 사용 할 수 있습니다.\n",
    "   * Jupyter Notebook 은 anaconda 를 설치하면 그 안에 있습니다."
   ]
  },
  {
   "cell_type": "markdown",
   "metadata": {},
   "source": [
    "앞으로 진행되는 R code 는 Jupyter Notebook 을 이용해서 작업할 예정입니다."
   ]
  }
 ],
 "metadata": {
  "kernelspec": {
   "display_name": "R",
   "language": "R",
   "name": "ir"
  },
  "language_info": {
   "codemirror_mode": "r",
   "file_extension": ".r",
   "mimetype": "text/x-r-source",
   "name": "R",
   "pygments_lexer": "r",
   "version": "3.4.3"
  }
 },
 "nbformat": 4,
 "nbformat_minor": 2
}
